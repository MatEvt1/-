{
 "cells": [
  {
   "cell_type": "markdown",
   "metadata": {
    "toc": true
   },
   "source": [
    "<h1>Содержание<span class=\"tocSkip\"></span></h1>\n",
    "<div class=\"toc\"><ul class=\"toc-item\"><li><span><a href=\"#Изучение-данных-из-файлов\" data-toc-modified-id=\"Изучение-данных-из-файлов-1\"><span class=\"toc-item-num\">1&nbsp;&nbsp;</span>Изучение данных из файлов</a></span><ul class=\"toc-item\"><li><span><a href=\"#Вывод\" data-toc-modified-id=\"Вывод-1.1\"><span class=\"toc-item-num\">1.1&nbsp;&nbsp;</span>Вывод</a></span></li></ul></li><li><span><a href=\"#Предобработка-данных\" data-toc-modified-id=\"Предобработка-данных-2\"><span class=\"toc-item-num\">2&nbsp;&nbsp;</span>Предобработка данных</a></span><ul class=\"toc-item\"><li><span><a href=\"#Вывод\" data-toc-modified-id=\"Вывод-2.1\"><span class=\"toc-item-num\">2.1&nbsp;&nbsp;</span>Вывод</a></span></li></ul></li><li><span><a href=\"#Исследовательский-анализ-данных\" data-toc-modified-id=\"Исследовательский-анализ-данных-3\"><span class=\"toc-item-num\">3&nbsp;&nbsp;</span>Исследовательский анализ данных</a></span><ul class=\"toc-item\"><li><span><a href=\"#Вывод\" data-toc-modified-id=\"Вывод-3.1\"><span class=\"toc-item-num\">3.1&nbsp;&nbsp;</span>Вывод</a></span></li></ul></li><li><span><a href=\"#Проверка-гипотез\" data-toc-modified-id=\"Проверка-гипотез-4\"><span class=\"toc-item-num\">4&nbsp;&nbsp;</span>Проверка гипотез</a></span><ul class=\"toc-item\"><li><span><a href=\"#Вывод\" data-toc-modified-id=\"Вывод-4.1\"><span class=\"toc-item-num\">4.1&nbsp;&nbsp;</span>Вывод</a></span></li></ul></li><li><span><a href=\"#Общий-вывод\" data-toc-modified-id=\"Общий-вывод-5\"><span class=\"toc-item-num\">5&nbsp;&nbsp;</span>Общий вывод</a></span></li></ul></div>"
   ]
  },
  {
   "cell_type": "markdown",
   "metadata": {},
   "source": [
    "# Исследование мобильных тарифов\n",
    "\n",
    "В ходе исследования нам предстоит сделать предварительный анализ тарифов мобильного оператора на небольшой выборке клиентов, чтобы скорректировать рекламный бюджет, коммерческий департамент хочет понять, какой тариф приносит больше денег."
   ]
  },
  {
   "cell_type": "markdown",
   "metadata": {},
   "source": [
    "## Изучение данных из файлов"
   ]
  },
  {
   "cell_type": "markdown",
   "metadata": {},
   "source": [
    "Импортируем основные библиотеки для проведения анализа"
   ]
  },
  {
   "cell_type": "code",
   "execution_count": 1,
   "metadata": {},
   "outputs": [],
   "source": [
    "import pandas as pd\n",
    "import math as m\n",
    "import numpy as np\n",
    "import seaborn as sns\n",
    "import matplotlib\n",
    "import matplotlib.pyplot as plt\n",
    "from scipy import stats as st\n",
    "import warnings\n",
    "warnings.simplefilter('ignore')\n",
    "\n",
    "# Импортируем основные библиотеки"
   ]
  },
  {
   "cell_type": "markdown",
   "metadata": {},
   "source": [
    "Прочитаем и выведим на экран таблицу `users`. В ней отражается общая информация о пользователях"
   ]
  },
  {
   "cell_type": "code",
   "execution_count": 2,
   "metadata": {},
   "outputs": [
    {
     "data": {
      "text/html": [
       "<div>\n",
       "<style scoped>\n",
       "    .dataframe tbody tr th:only-of-type {\n",
       "        vertical-align: middle;\n",
       "    }\n",
       "\n",
       "    .dataframe tbody tr th {\n",
       "        vertical-align: top;\n",
       "    }\n",
       "\n",
       "    .dataframe thead th {\n",
       "        text-align: right;\n",
       "    }\n",
       "</style>\n",
       "<table border=\"1\" class=\"dataframe\">\n",
       "  <thead>\n",
       "    <tr style=\"text-align: right;\">\n",
       "      <th></th>\n",
       "      <th>user_id</th>\n",
       "      <th>age</th>\n",
       "      <th>churn_date</th>\n",
       "      <th>city</th>\n",
       "      <th>first_name</th>\n",
       "      <th>last_name</th>\n",
       "      <th>reg_date</th>\n",
       "      <th>tariff</th>\n",
       "    </tr>\n",
       "  </thead>\n",
       "  <tbody>\n",
       "    <tr>\n",
       "      <th>0</th>\n",
       "      <td>1000</td>\n",
       "      <td>52</td>\n",
       "      <td>NaN</td>\n",
       "      <td>Краснодар</td>\n",
       "      <td>Рафаил</td>\n",
       "      <td>Верещагин</td>\n",
       "      <td>2018-05-25</td>\n",
       "      <td>ultra</td>\n",
       "    </tr>\n",
       "    <tr>\n",
       "      <th>1</th>\n",
       "      <td>1001</td>\n",
       "      <td>41</td>\n",
       "      <td>NaN</td>\n",
       "      <td>Москва</td>\n",
       "      <td>Иван</td>\n",
       "      <td>Ежов</td>\n",
       "      <td>2018-11-01</td>\n",
       "      <td>smart</td>\n",
       "    </tr>\n",
       "    <tr>\n",
       "      <th>2</th>\n",
       "      <td>1002</td>\n",
       "      <td>59</td>\n",
       "      <td>NaN</td>\n",
       "      <td>Стерлитамак</td>\n",
       "      <td>Евгений</td>\n",
       "      <td>Абрамович</td>\n",
       "      <td>2018-06-17</td>\n",
       "      <td>smart</td>\n",
       "    </tr>\n",
       "    <tr>\n",
       "      <th>3</th>\n",
       "      <td>1003</td>\n",
       "      <td>23</td>\n",
       "      <td>NaN</td>\n",
       "      <td>Москва</td>\n",
       "      <td>Белла</td>\n",
       "      <td>Белякова</td>\n",
       "      <td>2018-08-17</td>\n",
       "      <td>ultra</td>\n",
       "    </tr>\n",
       "    <tr>\n",
       "      <th>4</th>\n",
       "      <td>1004</td>\n",
       "      <td>68</td>\n",
       "      <td>NaN</td>\n",
       "      <td>Новокузнецк</td>\n",
       "      <td>Татьяна</td>\n",
       "      <td>Авдеенко</td>\n",
       "      <td>2018-05-14</td>\n",
       "      <td>ultra</td>\n",
       "    </tr>\n",
       "  </tbody>\n",
       "</table>\n",
       "</div>"
      ],
      "text/plain": [
       "   user_id  age churn_date         city first_name  last_name    reg_date  \\\n",
       "0     1000   52        NaN    Краснодар     Рафаил  Верещагин  2018-05-25   \n",
       "1     1001   41        NaN       Москва       Иван       Ежов  2018-11-01   \n",
       "2     1002   59        NaN  Стерлитамак    Евгений  Абрамович  2018-06-17   \n",
       "3     1003   23        NaN       Москва      Белла   Белякова  2018-08-17   \n",
       "4     1004   68        NaN  Новокузнецк    Татьяна   Авдеенко  2018-05-14   \n",
       "\n",
       "  tariff  \n",
       "0  ultra  \n",
       "1  smart  \n",
       "2  smart  \n",
       "3  ultra  \n",
       "4  ultra  "
      ]
     },
     "execution_count": 2,
     "metadata": {},
     "output_type": "execute_result"
    }
   ],
   "source": [
    "users = pd.read_csv('users.csv') # Читаем файл и выводим первые пять строк на экран\n",
    "users.head()"
   ]
  },
  {
   "cell_type": "markdown",
   "metadata": {},
   "source": [
    "Прочитаем и выведим на экран таблицу `calls`. В ней отражается вся информация о звонках каждого пользователя"
   ]
  },
  {
   "cell_type": "code",
   "execution_count": 3,
   "metadata": {},
   "outputs": [
    {
     "data": {
      "text/html": [
       "<div>\n",
       "<style scoped>\n",
       "    .dataframe tbody tr th:only-of-type {\n",
       "        vertical-align: middle;\n",
       "    }\n",
       "\n",
       "    .dataframe tbody tr th {\n",
       "        vertical-align: top;\n",
       "    }\n",
       "\n",
       "    .dataframe thead th {\n",
       "        text-align: right;\n",
       "    }\n",
       "</style>\n",
       "<table border=\"1\" class=\"dataframe\">\n",
       "  <thead>\n",
       "    <tr style=\"text-align: right;\">\n",
       "      <th></th>\n",
       "      <th>id</th>\n",
       "      <th>call_date</th>\n",
       "      <th>duration</th>\n",
       "      <th>user_id</th>\n",
       "    </tr>\n",
       "  </thead>\n",
       "  <tbody>\n",
       "    <tr>\n",
       "      <th>0</th>\n",
       "      <td>1000_0</td>\n",
       "      <td>2018-07-25</td>\n",
       "      <td>0.00</td>\n",
       "      <td>1000</td>\n",
       "    </tr>\n",
       "    <tr>\n",
       "      <th>1</th>\n",
       "      <td>1000_1</td>\n",
       "      <td>2018-08-17</td>\n",
       "      <td>0.00</td>\n",
       "      <td>1000</td>\n",
       "    </tr>\n",
       "    <tr>\n",
       "      <th>2</th>\n",
       "      <td>1000_2</td>\n",
       "      <td>2018-06-11</td>\n",
       "      <td>2.85</td>\n",
       "      <td>1000</td>\n",
       "    </tr>\n",
       "    <tr>\n",
       "      <th>3</th>\n",
       "      <td>1000_3</td>\n",
       "      <td>2018-09-21</td>\n",
       "      <td>13.80</td>\n",
       "      <td>1000</td>\n",
       "    </tr>\n",
       "    <tr>\n",
       "      <th>4</th>\n",
       "      <td>1000_4</td>\n",
       "      <td>2018-12-15</td>\n",
       "      <td>5.18</td>\n",
       "      <td>1000</td>\n",
       "    </tr>\n",
       "  </tbody>\n",
       "</table>\n",
       "</div>"
      ],
      "text/plain": [
       "       id   call_date  duration  user_id\n",
       "0  1000_0  2018-07-25      0.00     1000\n",
       "1  1000_1  2018-08-17      0.00     1000\n",
       "2  1000_2  2018-06-11      2.85     1000\n",
       "3  1000_3  2018-09-21     13.80     1000\n",
       "4  1000_4  2018-12-15      5.18     1000"
      ]
     },
     "execution_count": 3,
     "metadata": {},
     "output_type": "execute_result"
    }
   ],
   "source": [
    "calls = pd.read_csv('calls.csv') # Читаем файл и выводим первые пять строк на экран\n",
    "calls.head()"
   ]
  },
  {
   "cell_type": "markdown",
   "metadata": {},
   "source": [
    "Прочитаем и выведим на экран таблицу `messages`, где предоставлена информация о сообщениях."
   ]
  },
  {
   "cell_type": "code",
   "execution_count": 4,
   "metadata": {},
   "outputs": [
    {
     "data": {
      "text/html": [
       "<div>\n",
       "<style scoped>\n",
       "    .dataframe tbody tr th:only-of-type {\n",
       "        vertical-align: middle;\n",
       "    }\n",
       "\n",
       "    .dataframe tbody tr th {\n",
       "        vertical-align: top;\n",
       "    }\n",
       "\n",
       "    .dataframe thead th {\n",
       "        text-align: right;\n",
       "    }\n",
       "</style>\n",
       "<table border=\"1\" class=\"dataframe\">\n",
       "  <thead>\n",
       "    <tr style=\"text-align: right;\">\n",
       "      <th></th>\n",
       "      <th>id</th>\n",
       "      <th>message_date</th>\n",
       "      <th>user_id</th>\n",
       "    </tr>\n",
       "  </thead>\n",
       "  <tbody>\n",
       "    <tr>\n",
       "      <th>0</th>\n",
       "      <td>1000_0</td>\n",
       "      <td>2018-06-27</td>\n",
       "      <td>1000</td>\n",
       "    </tr>\n",
       "    <tr>\n",
       "      <th>1</th>\n",
       "      <td>1000_1</td>\n",
       "      <td>2018-10-08</td>\n",
       "      <td>1000</td>\n",
       "    </tr>\n",
       "    <tr>\n",
       "      <th>2</th>\n",
       "      <td>1000_2</td>\n",
       "      <td>2018-08-04</td>\n",
       "      <td>1000</td>\n",
       "    </tr>\n",
       "    <tr>\n",
       "      <th>3</th>\n",
       "      <td>1000_3</td>\n",
       "      <td>2018-06-16</td>\n",
       "      <td>1000</td>\n",
       "    </tr>\n",
       "    <tr>\n",
       "      <th>4</th>\n",
       "      <td>1000_4</td>\n",
       "      <td>2018-12-05</td>\n",
       "      <td>1000</td>\n",
       "    </tr>\n",
       "  </tbody>\n",
       "</table>\n",
       "</div>"
      ],
      "text/plain": [
       "       id message_date  user_id\n",
       "0  1000_0   2018-06-27     1000\n",
       "1  1000_1   2018-10-08     1000\n",
       "2  1000_2   2018-08-04     1000\n",
       "3  1000_3   2018-06-16     1000\n",
       "4  1000_4   2018-12-05     1000"
      ]
     },
     "execution_count": 4,
     "metadata": {},
     "output_type": "execute_result"
    }
   ],
   "source": [
    "messages = pd.read_csv('messages.csv') # Читаем файл и выводим первые пять строк на экран\n",
    "messages.head()"
   ]
  },
  {
   "cell_type": "markdown",
   "metadata": {},
   "source": [
    "Прочитаем и выведим на экран таблицу `internet` - информация об интернет-сессиях"
   ]
  },
  {
   "cell_type": "code",
   "execution_count": 5,
   "metadata": {},
   "outputs": [
    {
     "data": {
      "text/html": [
       "<div>\n",
       "<style scoped>\n",
       "    .dataframe tbody tr th:only-of-type {\n",
       "        vertical-align: middle;\n",
       "    }\n",
       "\n",
       "    .dataframe tbody tr th {\n",
       "        vertical-align: top;\n",
       "    }\n",
       "\n",
       "    .dataframe thead th {\n",
       "        text-align: right;\n",
       "    }\n",
       "</style>\n",
       "<table border=\"1\" class=\"dataframe\">\n",
       "  <thead>\n",
       "    <tr style=\"text-align: right;\">\n",
       "      <th></th>\n",
       "      <th>id</th>\n",
       "      <th>mb_used</th>\n",
       "      <th>session_date</th>\n",
       "      <th>user_id</th>\n",
       "    </tr>\n",
       "  </thead>\n",
       "  <tbody>\n",
       "    <tr>\n",
       "      <th>0</th>\n",
       "      <td>1000_0</td>\n",
       "      <td>112.95</td>\n",
       "      <td>2018-11-25</td>\n",
       "      <td>1000</td>\n",
       "    </tr>\n",
       "    <tr>\n",
       "      <th>1</th>\n",
       "      <td>1000_1</td>\n",
       "      <td>1052.81</td>\n",
       "      <td>2018-09-07</td>\n",
       "      <td>1000</td>\n",
       "    </tr>\n",
       "    <tr>\n",
       "      <th>2</th>\n",
       "      <td>1000_2</td>\n",
       "      <td>1197.26</td>\n",
       "      <td>2018-06-25</td>\n",
       "      <td>1000</td>\n",
       "    </tr>\n",
       "    <tr>\n",
       "      <th>3</th>\n",
       "      <td>1000_3</td>\n",
       "      <td>550.27</td>\n",
       "      <td>2018-08-22</td>\n",
       "      <td>1000</td>\n",
       "    </tr>\n",
       "    <tr>\n",
       "      <th>4</th>\n",
       "      <td>1000_4</td>\n",
       "      <td>302.56</td>\n",
       "      <td>2018-09-24</td>\n",
       "      <td>1000</td>\n",
       "    </tr>\n",
       "  </tbody>\n",
       "</table>\n",
       "</div>"
      ],
      "text/plain": [
       "       id  mb_used session_date  user_id\n",
       "0  1000_0   112.95   2018-11-25     1000\n",
       "1  1000_1  1052.81   2018-09-07     1000\n",
       "2  1000_2  1197.26   2018-06-25     1000\n",
       "3  1000_3   550.27   2018-08-22     1000\n",
       "4  1000_4   302.56   2018-09-24     1000"
      ]
     },
     "execution_count": 5,
     "metadata": {},
     "output_type": "execute_result"
    }
   ],
   "source": [
    "internet = pd.read_csv('internet.csv', index_col=0) # Читаем файл и выводим первые пять строк на экран\n",
    "internet.head()"
   ]
  },
  {
   "cell_type": "markdown",
   "metadata": {},
   "source": [
    "Прочитаем и выведим на экран таблицу `tariffs`. В ней информация о тарифах"
   ]
  },
  {
   "cell_type": "code",
   "execution_count": 6,
   "metadata": {},
   "outputs": [
    {
     "data": {
      "text/html": [
       "<div>\n",
       "<style scoped>\n",
       "    .dataframe tbody tr th:only-of-type {\n",
       "        vertical-align: middle;\n",
       "    }\n",
       "\n",
       "    .dataframe tbody tr th {\n",
       "        vertical-align: top;\n",
       "    }\n",
       "\n",
       "    .dataframe thead th {\n",
       "        text-align: right;\n",
       "    }\n",
       "</style>\n",
       "<table border=\"1\" class=\"dataframe\">\n",
       "  <thead>\n",
       "    <tr style=\"text-align: right;\">\n",
       "      <th></th>\n",
       "      <th>mb_per_month_included</th>\n",
       "      <th>minutes_included</th>\n",
       "      <th>rub_monthly_fee</th>\n",
       "      <th>rub_per_gb</th>\n",
       "      <th>rub_per_message</th>\n",
       "      <th>rub_per_minute</th>\n",
       "      <th>tariff_name</th>\n",
       "    </tr>\n",
       "    <tr>\n",
       "      <th>messages_included</th>\n",
       "      <th></th>\n",
       "      <th></th>\n",
       "      <th></th>\n",
       "      <th></th>\n",
       "      <th></th>\n",
       "      <th></th>\n",
       "      <th></th>\n",
       "    </tr>\n",
       "  </thead>\n",
       "  <tbody>\n",
       "    <tr>\n",
       "      <th>50</th>\n",
       "      <td>15360</td>\n",
       "      <td>500</td>\n",
       "      <td>550</td>\n",
       "      <td>200</td>\n",
       "      <td>3</td>\n",
       "      <td>3</td>\n",
       "      <td>smart</td>\n",
       "    </tr>\n",
       "    <tr>\n",
       "      <th>1000</th>\n",
       "      <td>30720</td>\n",
       "      <td>3000</td>\n",
       "      <td>1950</td>\n",
       "      <td>150</td>\n",
       "      <td>1</td>\n",
       "      <td>1</td>\n",
       "      <td>ultra</td>\n",
       "    </tr>\n",
       "  </tbody>\n",
       "</table>\n",
       "</div>"
      ],
      "text/plain": [
       "                   mb_per_month_included  minutes_included  rub_monthly_fee  \\\n",
       "messages_included                                                             \n",
       "50                                 15360               500              550   \n",
       "1000                               30720              3000             1950   \n",
       "\n",
       "                   rub_per_gb  rub_per_message  rub_per_minute tariff_name  \n",
       "messages_included                                                           \n",
       "50                        200                3               3       smart  \n",
       "1000                      150                1               1       ultra  "
      ]
     },
     "execution_count": 6,
     "metadata": {},
     "output_type": "execute_result"
    }
   ],
   "source": [
    "tariffs = pd.read_csv('tariffs.csv', index_col=0) # Читаем файл и выводим первые пять строк на экран\n",
    "tariffs.head()"
   ]
  },
  {
   "cell_type": "markdown",
   "metadata": {},
   "source": [
    "Методом `info()` изучим общую информацию для каждого датасета"
   ]
  },
  {
   "cell_type": "code",
   "execution_count": 7,
   "metadata": {},
   "outputs": [
    {
     "name": "stdout",
     "output_type": "stream",
     "text": [
      "<class 'pandas.core.frame.DataFrame'>\n",
      "RangeIndex: 500 entries, 0 to 499\n",
      "Data columns (total 8 columns):\n",
      " #   Column      Non-Null Count  Dtype \n",
      "---  ------      --------------  ----- \n",
      " 0   user_id     500 non-null    int64 \n",
      " 1   age         500 non-null    int64 \n",
      " 2   churn_date  38 non-null     object\n",
      " 3   city        500 non-null    object\n",
      " 4   first_name  500 non-null    object\n",
      " 5   last_name   500 non-null    object\n",
      " 6   reg_date    500 non-null    object\n",
      " 7   tariff      500 non-null    object\n",
      "dtypes: int64(2), object(6)\n",
      "memory usage: 31.4+ KB\n"
     ]
    }
   ],
   "source": [
    "users.info() # Основная информация о датасете"
   ]
  },
  {
   "cell_type": "code",
   "execution_count": 8,
   "metadata": {},
   "outputs": [
    {
     "name": "stdout",
     "output_type": "stream",
     "text": [
      "<class 'pandas.core.frame.DataFrame'>\n",
      "RangeIndex: 202607 entries, 0 to 202606\n",
      "Data columns (total 4 columns):\n",
      " #   Column     Non-Null Count   Dtype  \n",
      "---  ------     --------------   -----  \n",
      " 0   id         202607 non-null  object \n",
      " 1   call_date  202607 non-null  object \n",
      " 2   duration   202607 non-null  float64\n",
      " 3   user_id    202607 non-null  int64  \n",
      "dtypes: float64(1), int64(1), object(2)\n",
      "memory usage: 6.2+ MB\n"
     ]
    }
   ],
   "source": [
    "calls.info() # Основная информация о датасете"
   ]
  },
  {
   "cell_type": "code",
   "execution_count": 9,
   "metadata": {},
   "outputs": [
    {
     "name": "stdout",
     "output_type": "stream",
     "text": [
      "<class 'pandas.core.frame.DataFrame'>\n",
      "RangeIndex: 123036 entries, 0 to 123035\n",
      "Data columns (total 3 columns):\n",
      " #   Column        Non-Null Count   Dtype \n",
      "---  ------        --------------   ----- \n",
      " 0   id            123036 non-null  object\n",
      " 1   message_date  123036 non-null  object\n",
      " 2   user_id       123036 non-null  int64 \n",
      "dtypes: int64(1), object(2)\n",
      "memory usage: 2.8+ MB\n"
     ]
    }
   ],
   "source": [
    "messages.info() # Основная информация о датасете"
   ]
  },
  {
   "cell_type": "code",
   "execution_count": 10,
   "metadata": {},
   "outputs": [
    {
     "name": "stdout",
     "output_type": "stream",
     "text": [
      "<class 'pandas.core.frame.DataFrame'>\n",
      "Int64Index: 149396 entries, 0 to 149395\n",
      "Data columns (total 4 columns):\n",
      " #   Column        Non-Null Count   Dtype  \n",
      "---  ------        --------------   -----  \n",
      " 0   id            149396 non-null  object \n",
      " 1   mb_used       149396 non-null  float64\n",
      " 2   session_date  149396 non-null  object \n",
      " 3   user_id       149396 non-null  int64  \n",
      "dtypes: float64(1), int64(1), object(2)\n",
      "memory usage: 5.7+ MB\n"
     ]
    }
   ],
   "source": [
    "internet.info() # Основная информация о датасете"
   ]
  },
  {
   "cell_type": "code",
   "execution_count": 11,
   "metadata": {},
   "outputs": [
    {
     "name": "stdout",
     "output_type": "stream",
     "text": [
      "<class 'pandas.core.frame.DataFrame'>\n",
      "Int64Index: 2 entries, 50 to 1000\n",
      "Data columns (total 7 columns):\n",
      " #   Column                 Non-Null Count  Dtype \n",
      "---  ------                 --------------  ----- \n",
      " 0   mb_per_month_included  2 non-null      int64 \n",
      " 1   minutes_included       2 non-null      int64 \n",
      " 2   rub_monthly_fee        2 non-null      int64 \n",
      " 3   rub_per_gb             2 non-null      int64 \n",
      " 4   rub_per_message        2 non-null      int64 \n",
      " 5   rub_per_minute         2 non-null      int64 \n",
      " 6   tariff_name            2 non-null      object\n",
      "dtypes: int64(6), object(1)\n",
      "memory usage: 128.0+ bytes\n"
     ]
    }
   ],
   "source": [
    "tariffs.info() # Основная информация о датасете"
   ]
  },
  {
   "cell_type": "markdown",
   "metadata": {},
   "source": [
    "### Вывод"
   ]
  },
  {
   "cell_type": "markdown",
   "metadata": {},
   "source": [
    "Из полученных данных таблицы `user` можно определить, что количество уникальных пользователей действительно составляет 500 человек. По таблице `calls` и `messages` можем заметить, что количество звонков и сообщений за предоставленный период составляет 202607 и 123036 соответсвенно.\n",
    "В таблице `tariffs` отражена вся необходимая информация по каждому из тарифов.\n",
    "\n",
    "Согласно предоставленной документации, данные содержат в себе следующую информацию:\n",
    "\n",
    "Таблица `users` (информация о пользователях):\n",
    "- user_id — уникальный идентификатор пользователя\n",
    "- first_name — имя пользователя\n",
    "- last_name — фамилия пользователя\n",
    "- age — возраст пользователя (годы)\n",
    "- reg_date — дата подключения тарифа (день, месяц, год)\n",
    "- churn_date — дата прекращения пользования тарифом (если значение пропущено, то тариф ещё действовал на момент выгрузки данных)\n",
    "- city — город проживания пользователя\n",
    "- tarif — название тарифного плана\n",
    "\n",
    "Таблица `calls` (информация о звонках):\n",
    "\n",
    "- id — уникальный номер звонка\n",
    "- call_date — дата звонка\n",
    "- duration — длительность звонка в минутах\n",
    "- user_id — идентификатор пользователя, сделавшего звонок\n",
    "\n",
    "Таблица `messages` (информация о сообщениях):\n",
    "\n",
    "- id — уникальный номер сообщения\n",
    "- message_date — дата сообщения\n",
    "- user_id — идентификатор пользователя, отправившего сообщение\n",
    "\n",
    "Таблица `internet` (информация об интернет-сессиях):\n",
    "\n",
    "- id — уникальный номер сессии\n",
    "- mb_used — объём потраченного за сессию интернет-трафика (в мегабайтах)\n",
    "- session_date — дата интернет-сессии\n",
    "- user_id — идентификатор пользователя\n",
    "\n",
    "Таблица `tariffs` (информация о тарифах):\n",
    "\n",
    "- tariff_name — название тарифа\n",
    "- rub_monthly_fee — ежемесячная абонентская плата в рублях\n",
    "- minutes_included — количество минут разговора в месяц, включённых в абонентскую плату\n",
    "- messages_included — количество сообщений в месяц, включённых в абонентскую плату\n",
    "- mb_per_month_included — объём интернет-трафика, включённого в абонентскую плату (в мегабайтах)\n",
    "- rub_per_minute — стоимость минуты разговора сверх тарифного пакета (например, если в тарифе 100 минут разговора в месяц, то со 101 минуты будет взиматься плата)\n",
    "- rub_per_message — стоимость отправки сообщения сверх тарифного пакета\n",
    "- rub_per_gb — стоимость дополнительного гигабайта интернет-трафика сверх тарифного пакета (1 гигабайт = 1024 мегабайта)\n",
    "\n",
    "Для более детального ознакомления с датасетами необходимо провести предобработку полученных данных."
   ]
  },
  {
   "cell_type": "markdown",
   "metadata": {},
   "source": [
    "## Предобработка данных"
   ]
  },
  {
   "cell_type": "markdown",
   "metadata": {},
   "source": [
    "Рассмотрим датасет `users`"
   ]
  },
  {
   "cell_type": "code",
   "execution_count": 12,
   "metadata": {
    "scrolled": false
   },
   "outputs": [
    {
     "data": {
      "text/html": [
       "<div>\n",
       "<style scoped>\n",
       "    .dataframe tbody tr th:only-of-type {\n",
       "        vertical-align: middle;\n",
       "    }\n",
       "\n",
       "    .dataframe tbody tr th {\n",
       "        vertical-align: top;\n",
       "    }\n",
       "\n",
       "    .dataframe thead th {\n",
       "        text-align: right;\n",
       "    }\n",
       "</style>\n",
       "<table border=\"1\" class=\"dataframe\">\n",
       "  <thead>\n",
       "    <tr style=\"text-align: right;\">\n",
       "      <th></th>\n",
       "      <th>user_id</th>\n",
       "      <th>age</th>\n",
       "      <th>churn_date</th>\n",
       "      <th>city</th>\n",
       "      <th>first_name</th>\n",
       "      <th>last_name</th>\n",
       "      <th>reg_date</th>\n",
       "      <th>tariff</th>\n",
       "    </tr>\n",
       "  </thead>\n",
       "  <tbody>\n",
       "    <tr>\n",
       "      <th>0</th>\n",
       "      <td>1000</td>\n",
       "      <td>52</td>\n",
       "      <td>NaN</td>\n",
       "      <td>Краснодар</td>\n",
       "      <td>Рафаил</td>\n",
       "      <td>Верещагин</td>\n",
       "      <td>2018-05-25</td>\n",
       "      <td>ultra</td>\n",
       "    </tr>\n",
       "    <tr>\n",
       "      <th>1</th>\n",
       "      <td>1001</td>\n",
       "      <td>41</td>\n",
       "      <td>NaN</td>\n",
       "      <td>Москва</td>\n",
       "      <td>Иван</td>\n",
       "      <td>Ежов</td>\n",
       "      <td>2018-11-01</td>\n",
       "      <td>smart</td>\n",
       "    </tr>\n",
       "    <tr>\n",
       "      <th>2</th>\n",
       "      <td>1002</td>\n",
       "      <td>59</td>\n",
       "      <td>NaN</td>\n",
       "      <td>Стерлитамак</td>\n",
       "      <td>Евгений</td>\n",
       "      <td>Абрамович</td>\n",
       "      <td>2018-06-17</td>\n",
       "      <td>smart</td>\n",
       "    </tr>\n",
       "    <tr>\n",
       "      <th>3</th>\n",
       "      <td>1003</td>\n",
       "      <td>23</td>\n",
       "      <td>NaN</td>\n",
       "      <td>Москва</td>\n",
       "      <td>Белла</td>\n",
       "      <td>Белякова</td>\n",
       "      <td>2018-08-17</td>\n",
       "      <td>ultra</td>\n",
       "    </tr>\n",
       "    <tr>\n",
       "      <th>4</th>\n",
       "      <td>1004</td>\n",
       "      <td>68</td>\n",
       "      <td>NaN</td>\n",
       "      <td>Новокузнецк</td>\n",
       "      <td>Татьяна</td>\n",
       "      <td>Авдеенко</td>\n",
       "      <td>2018-05-14</td>\n",
       "      <td>ultra</td>\n",
       "    </tr>\n",
       "  </tbody>\n",
       "</table>\n",
       "</div>"
      ],
      "text/plain": [
       "   user_id  age churn_date         city first_name  last_name    reg_date  \\\n",
       "0     1000   52        NaN    Краснодар     Рафаил  Верещагин  2018-05-25   \n",
       "1     1001   41        NaN       Москва       Иван       Ежов  2018-11-01   \n",
       "2     1002   59        NaN  Стерлитамак    Евгений  Абрамович  2018-06-17   \n",
       "3     1003   23        NaN       Москва      Белла   Белякова  2018-08-17   \n",
       "4     1004   68        NaN  Новокузнецк    Татьяна   Авдеенко  2018-05-14   \n",
       "\n",
       "  tariff  \n",
       "0  ultra  \n",
       "1  smart  \n",
       "2  smart  \n",
       "3  ultra  \n",
       "4  ultra  "
      ]
     },
     "execution_count": 12,
     "metadata": {},
     "output_type": "execute_result"
    }
   ],
   "source": [
    "users.head() # Выведим первые пять строк датасета"
   ]
  },
  {
   "cell_type": "code",
   "execution_count": 13,
   "metadata": {
    "scrolled": true
   },
   "outputs": [
    {
     "name": "stdout",
     "output_type": "stream",
     "text": [
      "<class 'pandas.core.frame.DataFrame'>\n",
      "RangeIndex: 500 entries, 0 to 499\n",
      "Data columns (total 8 columns):\n",
      " #   Column      Non-Null Count  Dtype \n",
      "---  ------      --------------  ----- \n",
      " 0   user_id     500 non-null    int64 \n",
      " 1   age         500 non-null    int64 \n",
      " 2   churn_date  38 non-null     object\n",
      " 3   city        500 non-null    object\n",
      " 4   first_name  500 non-null    object\n",
      " 5   last_name   500 non-null    object\n",
      " 6   reg_date    500 non-null    object\n",
      " 7   tariff      500 non-null    object\n",
      "dtypes: int64(2), object(6)\n",
      "memory usage: 31.4+ KB\n"
     ]
    }
   ],
   "source": [
    "users.info() # Основная информация о датасете"
   ]
  },
  {
   "cell_type": "markdown",
   "metadata": {},
   "source": [
    "Пропущенные значения в столбце `churn_date` означают, что, на момент выгрузки данных, тариф ещё действовал. Поменяем тип данных в столбцах `churn_date` и `reg_date` с **object** на **datetime64[ns]**"
   ]
  },
  {
   "cell_type": "code",
   "execution_count": 14,
   "metadata": {},
   "outputs": [],
   "source": [
    "users['churn_date'] = pd.to_datetime(users['churn_date'], format='%Y-%m-%d') # Меняем тип данных\n",
    "users['reg_date'] = pd.to_datetime(users['reg_date'], format='%Y-%m-%d') # Меняем тип данных"
   ]
  },
  {
   "cell_type": "markdown",
   "metadata": {},
   "source": [
    "Удостоверимся в отсутствии дубликатов"
   ]
  },
  {
   "cell_type": "code",
   "execution_count": 15,
   "metadata": {},
   "outputs": [
    {
     "data": {
      "text/plain": [
       "0"
      ]
     },
     "execution_count": 15,
     "metadata": {},
     "output_type": "execute_result"
    }
   ],
   "source": [
    "users.duplicated().sum() # Поиск дубликатов"
   ]
  },
  {
   "cell_type": "markdown",
   "metadata": {},
   "source": [
    "Проверим полученный результат"
   ]
  },
  {
   "cell_type": "code",
   "execution_count": 16,
   "metadata": {},
   "outputs": [
    {
     "name": "stdout",
     "output_type": "stream",
     "text": [
      "<class 'pandas.core.frame.DataFrame'>\n",
      "RangeIndex: 500 entries, 0 to 499\n",
      "Data columns (total 8 columns):\n",
      " #   Column      Non-Null Count  Dtype         \n",
      "---  ------      --------------  -----         \n",
      " 0   user_id     500 non-null    int64         \n",
      " 1   age         500 non-null    int64         \n",
      " 2   churn_date  38 non-null     datetime64[ns]\n",
      " 3   city        500 non-null    object        \n",
      " 4   first_name  500 non-null    object        \n",
      " 5   last_name   500 non-null    object        \n",
      " 6   reg_date    500 non-null    datetime64[ns]\n",
      " 7   tariff      500 non-null    object        \n",
      "dtypes: datetime64[ns](2), int64(2), object(4)\n",
      "memory usage: 31.4+ KB\n"
     ]
    }
   ],
   "source": [
    "users.info() # Основная информация о датасете"
   ]
  },
  {
   "cell_type": "markdown",
   "metadata": {},
   "source": [
    "Рассмотрим более детально датасет `calls`"
   ]
  },
  {
   "cell_type": "code",
   "execution_count": 17,
   "metadata": {
    "scrolled": true
   },
   "outputs": [
    {
     "data": {
      "text/html": [
       "<div>\n",
       "<style scoped>\n",
       "    .dataframe tbody tr th:only-of-type {\n",
       "        vertical-align: middle;\n",
       "    }\n",
       "\n",
       "    .dataframe tbody tr th {\n",
       "        vertical-align: top;\n",
       "    }\n",
       "\n",
       "    .dataframe thead th {\n",
       "        text-align: right;\n",
       "    }\n",
       "</style>\n",
       "<table border=\"1\" class=\"dataframe\">\n",
       "  <thead>\n",
       "    <tr style=\"text-align: right;\">\n",
       "      <th></th>\n",
       "      <th>id</th>\n",
       "      <th>call_date</th>\n",
       "      <th>duration</th>\n",
       "      <th>user_id</th>\n",
       "    </tr>\n",
       "  </thead>\n",
       "  <tbody>\n",
       "    <tr>\n",
       "      <th>0</th>\n",
       "      <td>1000_0</td>\n",
       "      <td>2018-07-25</td>\n",
       "      <td>0.00</td>\n",
       "      <td>1000</td>\n",
       "    </tr>\n",
       "    <tr>\n",
       "      <th>1</th>\n",
       "      <td>1000_1</td>\n",
       "      <td>2018-08-17</td>\n",
       "      <td>0.00</td>\n",
       "      <td>1000</td>\n",
       "    </tr>\n",
       "    <tr>\n",
       "      <th>2</th>\n",
       "      <td>1000_2</td>\n",
       "      <td>2018-06-11</td>\n",
       "      <td>2.85</td>\n",
       "      <td>1000</td>\n",
       "    </tr>\n",
       "    <tr>\n",
       "      <th>3</th>\n",
       "      <td>1000_3</td>\n",
       "      <td>2018-09-21</td>\n",
       "      <td>13.80</td>\n",
       "      <td>1000</td>\n",
       "    </tr>\n",
       "    <tr>\n",
       "      <th>4</th>\n",
       "      <td>1000_4</td>\n",
       "      <td>2018-12-15</td>\n",
       "      <td>5.18</td>\n",
       "      <td>1000</td>\n",
       "    </tr>\n",
       "  </tbody>\n",
       "</table>\n",
       "</div>"
      ],
      "text/plain": [
       "       id   call_date  duration  user_id\n",
       "0  1000_0  2018-07-25      0.00     1000\n",
       "1  1000_1  2018-08-17      0.00     1000\n",
       "2  1000_2  2018-06-11      2.85     1000\n",
       "3  1000_3  2018-09-21     13.80     1000\n",
       "4  1000_4  2018-12-15      5.18     1000"
      ]
     },
     "execution_count": 17,
     "metadata": {},
     "output_type": "execute_result"
    }
   ],
   "source": [
    "calls.head() # Выведим первые пять строк датасета"
   ]
  },
  {
   "cell_type": "code",
   "execution_count": 18,
   "metadata": {},
   "outputs": [
    {
     "name": "stdout",
     "output_type": "stream",
     "text": [
      "<class 'pandas.core.frame.DataFrame'>\n",
      "RangeIndex: 202607 entries, 0 to 202606\n",
      "Data columns (total 4 columns):\n",
      " #   Column     Non-Null Count   Dtype  \n",
      "---  ------     --------------   -----  \n",
      " 0   id         202607 non-null  object \n",
      " 1   call_date  202607 non-null  object \n",
      " 2   duration   202607 non-null  float64\n",
      " 3   user_id    202607 non-null  int64  \n",
      "dtypes: float64(1), int64(1), object(2)\n",
      "memory usage: 6.2+ MB\n"
     ]
    }
   ],
   "source": [
    "calls.info() # Основная информация о датасете"
   ]
  },
  {
   "cell_type": "markdown",
   "metadata": {},
   "source": [
    "Пропущенных значений в таблице нет. Поменяем тип данных столбца `call_date` с **object** на **datetime64[ns]**.\n",
    "\n",
    "В столбце `duration` - продолжительность звонка, встречаются нулевые значения, которые объясняются тем, что звонок был пропущен.\n",
    "\n",
    "Согласно предоставленной документации, оператор всегда округляет секунды до минут. Каждый звонок округляется отдельно: даже если он длился всего 1 секунду, будет засчитан как 1 минута. Поэтому округлим значения в столбце `duration` до целых в большую сторону"
   ]
  },
  {
   "cell_type": "code",
   "execution_count": 19,
   "metadata": {},
   "outputs": [
    {
     "data": {
      "text/html": [
       "<div>\n",
       "<style scoped>\n",
       "    .dataframe tbody tr th:only-of-type {\n",
       "        vertical-align: middle;\n",
       "    }\n",
       "\n",
       "    .dataframe tbody tr th {\n",
       "        vertical-align: top;\n",
       "    }\n",
       "\n",
       "    .dataframe thead th {\n",
       "        text-align: right;\n",
       "    }\n",
       "</style>\n",
       "<table border=\"1\" class=\"dataframe\">\n",
       "  <thead>\n",
       "    <tr style=\"text-align: right;\">\n",
       "      <th></th>\n",
       "      <th>id</th>\n",
       "      <th>call_date</th>\n",
       "      <th>duration</th>\n",
       "      <th>user_id</th>\n",
       "    </tr>\n",
       "  </thead>\n",
       "  <tbody>\n",
       "    <tr>\n",
       "      <th>0</th>\n",
       "      <td>1000_0</td>\n",
       "      <td>2018-07-25</td>\n",
       "      <td>0</td>\n",
       "      <td>1000</td>\n",
       "    </tr>\n",
       "    <tr>\n",
       "      <th>1</th>\n",
       "      <td>1000_1</td>\n",
       "      <td>2018-08-17</td>\n",
       "      <td>0</td>\n",
       "      <td>1000</td>\n",
       "    </tr>\n",
       "    <tr>\n",
       "      <th>2</th>\n",
       "      <td>1000_2</td>\n",
       "      <td>2018-06-11</td>\n",
       "      <td>3</td>\n",
       "      <td>1000</td>\n",
       "    </tr>\n",
       "    <tr>\n",
       "      <th>3</th>\n",
       "      <td>1000_3</td>\n",
       "      <td>2018-09-21</td>\n",
       "      <td>14</td>\n",
       "      <td>1000</td>\n",
       "    </tr>\n",
       "    <tr>\n",
       "      <th>4</th>\n",
       "      <td>1000_4</td>\n",
       "      <td>2018-12-15</td>\n",
       "      <td>6</td>\n",
       "      <td>1000</td>\n",
       "    </tr>\n",
       "    <tr>\n",
       "      <th>...</th>\n",
       "      <td>...</td>\n",
       "      <td>...</td>\n",
       "      <td>...</td>\n",
       "      <td>...</td>\n",
       "    </tr>\n",
       "    <tr>\n",
       "      <th>202602</th>\n",
       "      <td>1499_215</td>\n",
       "      <td>2018-12-26</td>\n",
       "      <td>1</td>\n",
       "      <td>1499</td>\n",
       "    </tr>\n",
       "    <tr>\n",
       "      <th>202603</th>\n",
       "      <td>1499_216</td>\n",
       "      <td>2018-10-18</td>\n",
       "      <td>19</td>\n",
       "      <td>1499</td>\n",
       "    </tr>\n",
       "    <tr>\n",
       "      <th>202604</th>\n",
       "      <td>1499_217</td>\n",
       "      <td>2018-11-10</td>\n",
       "      <td>11</td>\n",
       "      <td>1499</td>\n",
       "    </tr>\n",
       "    <tr>\n",
       "      <th>202605</th>\n",
       "      <td>1499_218</td>\n",
       "      <td>2018-10-06</td>\n",
       "      <td>5</td>\n",
       "      <td>1499</td>\n",
       "    </tr>\n",
       "    <tr>\n",
       "      <th>202606</th>\n",
       "      <td>1499_219</td>\n",
       "      <td>2018-12-14</td>\n",
       "      <td>20</td>\n",
       "      <td>1499</td>\n",
       "    </tr>\n",
       "  </tbody>\n",
       "</table>\n",
       "<p>202607 rows × 4 columns</p>\n",
       "</div>"
      ],
      "text/plain": [
       "              id  call_date  duration  user_id\n",
       "0         1000_0 2018-07-25         0     1000\n",
       "1         1000_1 2018-08-17         0     1000\n",
       "2         1000_2 2018-06-11         3     1000\n",
       "3         1000_3 2018-09-21        14     1000\n",
       "4         1000_4 2018-12-15         6     1000\n",
       "...          ...        ...       ...      ...\n",
       "202602  1499_215 2018-12-26         1     1499\n",
       "202603  1499_216 2018-10-18        19     1499\n",
       "202604  1499_217 2018-11-10        11     1499\n",
       "202605  1499_218 2018-10-06         5     1499\n",
       "202606  1499_219 2018-12-14        20     1499\n",
       "\n",
       "[202607 rows x 4 columns]"
      ]
     },
     "execution_count": 19,
     "metadata": {},
     "output_type": "execute_result"
    }
   ],
   "source": [
    "calls['call_date'] = pd.to_datetime(calls['call_date'], format='%Y-%m-%d') # Меняем тип данных\n",
    "calls['duration'] = calls['duration'].apply(np.ceil).astype('int')\n",
    "calls"
   ]
  },
  {
   "cell_type": "markdown",
   "metadata": {},
   "source": [
    "Удостоверимся в отсутствии дубликатов"
   ]
  },
  {
   "cell_type": "code",
   "execution_count": 20,
   "metadata": {},
   "outputs": [
    {
     "data": {
      "text/plain": [
       "0"
      ]
     },
     "execution_count": 20,
     "metadata": {},
     "output_type": "execute_result"
    }
   ],
   "source": [
    "calls.duplicated().sum() # Поиск дубликатов"
   ]
  },
  {
   "cell_type": "markdown",
   "metadata": {},
   "source": [
    "Проверим полученный результат"
   ]
  },
  {
   "cell_type": "code",
   "execution_count": 21,
   "metadata": {
    "scrolled": true
   },
   "outputs": [
    {
     "name": "stdout",
     "output_type": "stream",
     "text": [
      "<class 'pandas.core.frame.DataFrame'>\n",
      "RangeIndex: 202607 entries, 0 to 202606\n",
      "Data columns (total 4 columns):\n",
      " #   Column     Non-Null Count   Dtype         \n",
      "---  ------     --------------   -----         \n",
      " 0   id         202607 non-null  object        \n",
      " 1   call_date  202607 non-null  datetime64[ns]\n",
      " 2   duration   202607 non-null  int32         \n",
      " 3   user_id    202607 non-null  int64         \n",
      "dtypes: datetime64[ns](1), int32(1), int64(1), object(1)\n",
      "memory usage: 5.4+ MB\n"
     ]
    }
   ],
   "source": [
    "calls.info() # Основная информация о датасете"
   ]
  },
  {
   "cell_type": "code",
   "execution_count": 22,
   "metadata": {},
   "outputs": [
    {
     "data": {
      "text/html": [
       "<div>\n",
       "<style scoped>\n",
       "    .dataframe tbody tr th:only-of-type {\n",
       "        vertical-align: middle;\n",
       "    }\n",
       "\n",
       "    .dataframe tbody tr th {\n",
       "        vertical-align: top;\n",
       "    }\n",
       "\n",
       "    .dataframe thead th {\n",
       "        text-align: right;\n",
       "    }\n",
       "</style>\n",
       "<table border=\"1\" class=\"dataframe\">\n",
       "  <thead>\n",
       "    <tr style=\"text-align: right;\">\n",
       "      <th></th>\n",
       "      <th>id</th>\n",
       "      <th>call_date</th>\n",
       "      <th>duration</th>\n",
       "      <th>user_id</th>\n",
       "    </tr>\n",
       "  </thead>\n",
       "  <tbody>\n",
       "    <tr>\n",
       "      <th>0</th>\n",
       "      <td>1000_0</td>\n",
       "      <td>2018-07-25</td>\n",
       "      <td>0</td>\n",
       "      <td>1000</td>\n",
       "    </tr>\n",
       "    <tr>\n",
       "      <th>1</th>\n",
       "      <td>1000_1</td>\n",
       "      <td>2018-08-17</td>\n",
       "      <td>0</td>\n",
       "      <td>1000</td>\n",
       "    </tr>\n",
       "    <tr>\n",
       "      <th>2</th>\n",
       "      <td>1000_2</td>\n",
       "      <td>2018-06-11</td>\n",
       "      <td>3</td>\n",
       "      <td>1000</td>\n",
       "    </tr>\n",
       "    <tr>\n",
       "      <th>3</th>\n",
       "      <td>1000_3</td>\n",
       "      <td>2018-09-21</td>\n",
       "      <td>14</td>\n",
       "      <td>1000</td>\n",
       "    </tr>\n",
       "    <tr>\n",
       "      <th>4</th>\n",
       "      <td>1000_4</td>\n",
       "      <td>2018-12-15</td>\n",
       "      <td>6</td>\n",
       "      <td>1000</td>\n",
       "    </tr>\n",
       "    <tr>\n",
       "      <th>...</th>\n",
       "      <td>...</td>\n",
       "      <td>...</td>\n",
       "      <td>...</td>\n",
       "      <td>...</td>\n",
       "    </tr>\n",
       "    <tr>\n",
       "      <th>202602</th>\n",
       "      <td>1499_215</td>\n",
       "      <td>2018-12-26</td>\n",
       "      <td>1</td>\n",
       "      <td>1499</td>\n",
       "    </tr>\n",
       "    <tr>\n",
       "      <th>202603</th>\n",
       "      <td>1499_216</td>\n",
       "      <td>2018-10-18</td>\n",
       "      <td>19</td>\n",
       "      <td>1499</td>\n",
       "    </tr>\n",
       "    <tr>\n",
       "      <th>202604</th>\n",
       "      <td>1499_217</td>\n",
       "      <td>2018-11-10</td>\n",
       "      <td>11</td>\n",
       "      <td>1499</td>\n",
       "    </tr>\n",
       "    <tr>\n",
       "      <th>202605</th>\n",
       "      <td>1499_218</td>\n",
       "      <td>2018-10-06</td>\n",
       "      <td>5</td>\n",
       "      <td>1499</td>\n",
       "    </tr>\n",
       "    <tr>\n",
       "      <th>202606</th>\n",
       "      <td>1499_219</td>\n",
       "      <td>2018-12-14</td>\n",
       "      <td>20</td>\n",
       "      <td>1499</td>\n",
       "    </tr>\n",
       "  </tbody>\n",
       "</table>\n",
       "<p>202607 rows × 4 columns</p>\n",
       "</div>"
      ],
      "text/plain": [
       "              id  call_date  duration  user_id\n",
       "0         1000_0 2018-07-25         0     1000\n",
       "1         1000_1 2018-08-17         0     1000\n",
       "2         1000_2 2018-06-11         3     1000\n",
       "3         1000_3 2018-09-21        14     1000\n",
       "4         1000_4 2018-12-15         6     1000\n",
       "...          ...        ...       ...      ...\n",
       "202602  1499_215 2018-12-26         1     1499\n",
       "202603  1499_216 2018-10-18        19     1499\n",
       "202604  1499_217 2018-11-10        11     1499\n",
       "202605  1499_218 2018-10-06         5     1499\n",
       "202606  1499_219 2018-12-14        20     1499\n",
       "\n",
       "[202607 rows x 4 columns]"
      ]
     },
     "execution_count": 22,
     "metadata": {},
     "output_type": "execute_result"
    }
   ],
   "source": [
    "calls # Выводим датасет на экран"
   ]
  },
  {
   "cell_type": "markdown",
   "metadata": {},
   "source": [
    "Рассмотрим датасет, который отражает количество сообщений, отправленных пользователем"
   ]
  },
  {
   "cell_type": "code",
   "execution_count": 23,
   "metadata": {
    "scrolled": true
   },
   "outputs": [
    {
     "data": {
      "text/html": [
       "<div>\n",
       "<style scoped>\n",
       "    .dataframe tbody tr th:only-of-type {\n",
       "        vertical-align: middle;\n",
       "    }\n",
       "\n",
       "    .dataframe tbody tr th {\n",
       "        vertical-align: top;\n",
       "    }\n",
       "\n",
       "    .dataframe thead th {\n",
       "        text-align: right;\n",
       "    }\n",
       "</style>\n",
       "<table border=\"1\" class=\"dataframe\">\n",
       "  <thead>\n",
       "    <tr style=\"text-align: right;\">\n",
       "      <th></th>\n",
       "      <th>id</th>\n",
       "      <th>message_date</th>\n",
       "      <th>user_id</th>\n",
       "    </tr>\n",
       "  </thead>\n",
       "  <tbody>\n",
       "    <tr>\n",
       "      <th>0</th>\n",
       "      <td>1000_0</td>\n",
       "      <td>2018-06-27</td>\n",
       "      <td>1000</td>\n",
       "    </tr>\n",
       "    <tr>\n",
       "      <th>1</th>\n",
       "      <td>1000_1</td>\n",
       "      <td>2018-10-08</td>\n",
       "      <td>1000</td>\n",
       "    </tr>\n",
       "    <tr>\n",
       "      <th>2</th>\n",
       "      <td>1000_2</td>\n",
       "      <td>2018-08-04</td>\n",
       "      <td>1000</td>\n",
       "    </tr>\n",
       "    <tr>\n",
       "      <th>3</th>\n",
       "      <td>1000_3</td>\n",
       "      <td>2018-06-16</td>\n",
       "      <td>1000</td>\n",
       "    </tr>\n",
       "    <tr>\n",
       "      <th>4</th>\n",
       "      <td>1000_4</td>\n",
       "      <td>2018-12-05</td>\n",
       "      <td>1000</td>\n",
       "    </tr>\n",
       "  </tbody>\n",
       "</table>\n",
       "</div>"
      ],
      "text/plain": [
       "       id message_date  user_id\n",
       "0  1000_0   2018-06-27     1000\n",
       "1  1000_1   2018-10-08     1000\n",
       "2  1000_2   2018-08-04     1000\n",
       "3  1000_3   2018-06-16     1000\n",
       "4  1000_4   2018-12-05     1000"
      ]
     },
     "execution_count": 23,
     "metadata": {},
     "output_type": "execute_result"
    }
   ],
   "source": [
    "messages.head() # Выводим датасет на экран"
   ]
  },
  {
   "cell_type": "code",
   "execution_count": 24,
   "metadata": {},
   "outputs": [
    {
     "name": "stdout",
     "output_type": "stream",
     "text": [
      "<class 'pandas.core.frame.DataFrame'>\n",
      "RangeIndex: 123036 entries, 0 to 123035\n",
      "Data columns (total 3 columns):\n",
      " #   Column        Non-Null Count   Dtype \n",
      "---  ------        --------------   ----- \n",
      " 0   id            123036 non-null  object\n",
      " 1   message_date  123036 non-null  object\n",
      " 2   user_id       123036 non-null  int64 \n",
      "dtypes: int64(1), object(2)\n",
      "memory usage: 2.8+ MB\n"
     ]
    }
   ],
   "source": [
    "messages.info() # Основная информация о датасете"
   ]
  },
  {
   "cell_type": "markdown",
   "metadata": {},
   "source": [
    "Пропущенных значений в таблице нет. Поменяем тип данных столбца `message_date` с **object** на **datetime64[ns]**."
   ]
  },
  {
   "cell_type": "code",
   "execution_count": 25,
   "metadata": {},
   "outputs": [],
   "source": [
    "messages['message_date'] = pd.to_datetime(messages['message_date'], format='%Y-%m-%d') # Меняем тип данных в столбце "
   ]
  },
  {
   "cell_type": "markdown",
   "metadata": {},
   "source": [
    "Удостоверимся в отсутствии дубликатов"
   ]
  },
  {
   "cell_type": "code",
   "execution_count": 26,
   "metadata": {},
   "outputs": [
    {
     "data": {
      "text/plain": [
       "0"
      ]
     },
     "execution_count": 26,
     "metadata": {},
     "output_type": "execute_result"
    }
   ],
   "source": [
    "messages.duplicated().sum() # Поиск дубликатов"
   ]
  },
  {
   "cell_type": "markdown",
   "metadata": {},
   "source": [
    "Проверим полученный результат"
   ]
  },
  {
   "cell_type": "code",
   "execution_count": 27,
   "metadata": {
    "scrolled": true
   },
   "outputs": [
    {
     "name": "stdout",
     "output_type": "stream",
     "text": [
      "<class 'pandas.core.frame.DataFrame'>\n",
      "RangeIndex: 123036 entries, 0 to 123035\n",
      "Data columns (total 3 columns):\n",
      " #   Column        Non-Null Count   Dtype         \n",
      "---  ------        --------------   -----         \n",
      " 0   id            123036 non-null  object        \n",
      " 1   message_date  123036 non-null  datetime64[ns]\n",
      " 2   user_id       123036 non-null  int64         \n",
      "dtypes: datetime64[ns](1), int64(1), object(1)\n",
      "memory usage: 2.8+ MB\n"
     ]
    }
   ],
   "source": [
    "messages.info() # Основная информация о датасете"
   ]
  },
  {
   "cell_type": "markdown",
   "metadata": {},
   "source": [
    "Выведим на экран таблицу `internet`"
   ]
  },
  {
   "cell_type": "code",
   "execution_count": 28,
   "metadata": {},
   "outputs": [
    {
     "data": {
      "text/html": [
       "<div>\n",
       "<style scoped>\n",
       "    .dataframe tbody tr th:only-of-type {\n",
       "        vertical-align: middle;\n",
       "    }\n",
       "\n",
       "    .dataframe tbody tr th {\n",
       "        vertical-align: top;\n",
       "    }\n",
       "\n",
       "    .dataframe thead th {\n",
       "        text-align: right;\n",
       "    }\n",
       "</style>\n",
       "<table border=\"1\" class=\"dataframe\">\n",
       "  <thead>\n",
       "    <tr style=\"text-align: right;\">\n",
       "      <th></th>\n",
       "      <th>id</th>\n",
       "      <th>mb_used</th>\n",
       "      <th>session_date</th>\n",
       "      <th>user_id</th>\n",
       "    </tr>\n",
       "  </thead>\n",
       "  <tbody>\n",
       "    <tr>\n",
       "      <th>0</th>\n",
       "      <td>1000_0</td>\n",
       "      <td>112.95</td>\n",
       "      <td>2018-11-25</td>\n",
       "      <td>1000</td>\n",
       "    </tr>\n",
       "    <tr>\n",
       "      <th>1</th>\n",
       "      <td>1000_1</td>\n",
       "      <td>1052.81</td>\n",
       "      <td>2018-09-07</td>\n",
       "      <td>1000</td>\n",
       "    </tr>\n",
       "    <tr>\n",
       "      <th>2</th>\n",
       "      <td>1000_2</td>\n",
       "      <td>1197.26</td>\n",
       "      <td>2018-06-25</td>\n",
       "      <td>1000</td>\n",
       "    </tr>\n",
       "    <tr>\n",
       "      <th>3</th>\n",
       "      <td>1000_3</td>\n",
       "      <td>550.27</td>\n",
       "      <td>2018-08-22</td>\n",
       "      <td>1000</td>\n",
       "    </tr>\n",
       "    <tr>\n",
       "      <th>4</th>\n",
       "      <td>1000_4</td>\n",
       "      <td>302.56</td>\n",
       "      <td>2018-09-24</td>\n",
       "      <td>1000</td>\n",
       "    </tr>\n",
       "  </tbody>\n",
       "</table>\n",
       "</div>"
      ],
      "text/plain": [
       "       id  mb_used session_date  user_id\n",
       "0  1000_0   112.95   2018-11-25     1000\n",
       "1  1000_1  1052.81   2018-09-07     1000\n",
       "2  1000_2  1197.26   2018-06-25     1000\n",
       "3  1000_3   550.27   2018-08-22     1000\n",
       "4  1000_4   302.56   2018-09-24     1000"
      ]
     },
     "execution_count": 28,
     "metadata": {},
     "output_type": "execute_result"
    }
   ],
   "source": [
    "internet.head() # Выводим датасет на экран"
   ]
  },
  {
   "cell_type": "code",
   "execution_count": 29,
   "metadata": {},
   "outputs": [
    {
     "name": "stdout",
     "output_type": "stream",
     "text": [
      "<class 'pandas.core.frame.DataFrame'>\n",
      "Int64Index: 149396 entries, 0 to 149395\n",
      "Data columns (total 4 columns):\n",
      " #   Column        Non-Null Count   Dtype  \n",
      "---  ------        --------------   -----  \n",
      " 0   id            149396 non-null  object \n",
      " 1   mb_used       149396 non-null  float64\n",
      " 2   session_date  149396 non-null  object \n",
      " 3   user_id       149396 non-null  int64  \n",
      "dtypes: float64(1), int64(1), object(2)\n",
      "memory usage: 5.7+ MB\n"
     ]
    }
   ],
   "source": [
    "internet.info() # Основная информация о датасете"
   ]
  },
  {
   "cell_type": "markdown",
   "metadata": {},
   "source": [
    "Пропущенных значений в таблице нет. Поменяем тип данных столбца `session_date` с **object** на **datetime64[ns]**."
   ]
  },
  {
   "cell_type": "code",
   "execution_count": 30,
   "metadata": {},
   "outputs": [],
   "source": [
    "internet['session_date'] = pd.to_datetime(internet['session_date'], format='%Y-%m-%d') # Меняем тип данных в столбце"
   ]
  },
  {
   "cell_type": "markdown",
   "metadata": {},
   "source": [
    "Удостоверимся в отсутствии дубликатов"
   ]
  },
  {
   "cell_type": "code",
   "execution_count": 31,
   "metadata": {},
   "outputs": [
    {
     "data": {
      "text/plain": [
       "0"
      ]
     },
     "execution_count": 31,
     "metadata": {},
     "output_type": "execute_result"
    }
   ],
   "source": [
    "internet.duplicated().sum() # Поиск дубликатов"
   ]
  },
  {
   "cell_type": "markdown",
   "metadata": {},
   "source": [
    "Проверим полученный результат"
   ]
  },
  {
   "cell_type": "code",
   "execution_count": 32,
   "metadata": {},
   "outputs": [
    {
     "name": "stdout",
     "output_type": "stream",
     "text": [
      "<class 'pandas.core.frame.DataFrame'>\n",
      "Int64Index: 149396 entries, 0 to 149395\n",
      "Data columns (total 4 columns):\n",
      " #   Column        Non-Null Count   Dtype         \n",
      "---  ------        --------------   -----         \n",
      " 0   id            149396 non-null  object        \n",
      " 1   mb_used       149396 non-null  float64       \n",
      " 2   session_date  149396 non-null  datetime64[ns]\n",
      " 3   user_id       149396 non-null  int64         \n",
      "dtypes: datetime64[ns](1), float64(1), int64(1), object(1)\n",
      "memory usage: 5.7+ MB\n"
     ]
    }
   ],
   "source": [
    "internet.info() # Основная информация о датасете"
   ]
  },
  {
   "cell_type": "markdown",
   "metadata": {},
   "source": [
    "Рассмотрим последнюю таблицу - `tariffs`, в которой представлена информация о тарифах"
   ]
  },
  {
   "cell_type": "code",
   "execution_count": 33,
   "metadata": {
    "scrolled": true
   },
   "outputs": [
    {
     "data": {
      "text/html": [
       "<div>\n",
       "<style scoped>\n",
       "    .dataframe tbody tr th:only-of-type {\n",
       "        vertical-align: middle;\n",
       "    }\n",
       "\n",
       "    .dataframe tbody tr th {\n",
       "        vertical-align: top;\n",
       "    }\n",
       "\n",
       "    .dataframe thead th {\n",
       "        text-align: right;\n",
       "    }\n",
       "</style>\n",
       "<table border=\"1\" class=\"dataframe\">\n",
       "  <thead>\n",
       "    <tr style=\"text-align: right;\">\n",
       "      <th></th>\n",
       "      <th>mb_per_month_included</th>\n",
       "      <th>minutes_included</th>\n",
       "      <th>rub_monthly_fee</th>\n",
       "      <th>rub_per_gb</th>\n",
       "      <th>rub_per_message</th>\n",
       "      <th>rub_per_minute</th>\n",
       "      <th>tariff_name</th>\n",
       "    </tr>\n",
       "    <tr>\n",
       "      <th>messages_included</th>\n",
       "      <th></th>\n",
       "      <th></th>\n",
       "      <th></th>\n",
       "      <th></th>\n",
       "      <th></th>\n",
       "      <th></th>\n",
       "      <th></th>\n",
       "    </tr>\n",
       "  </thead>\n",
       "  <tbody>\n",
       "    <tr>\n",
       "      <th>50</th>\n",
       "      <td>15360</td>\n",
       "      <td>500</td>\n",
       "      <td>550</td>\n",
       "      <td>200</td>\n",
       "      <td>3</td>\n",
       "      <td>3</td>\n",
       "      <td>smart</td>\n",
       "    </tr>\n",
       "    <tr>\n",
       "      <th>1000</th>\n",
       "      <td>30720</td>\n",
       "      <td>3000</td>\n",
       "      <td>1950</td>\n",
       "      <td>150</td>\n",
       "      <td>1</td>\n",
       "      <td>1</td>\n",
       "      <td>ultra</td>\n",
       "    </tr>\n",
       "  </tbody>\n",
       "</table>\n",
       "</div>"
      ],
      "text/plain": [
       "                   mb_per_month_included  minutes_included  rub_monthly_fee  \\\n",
       "messages_included                                                             \n",
       "50                                 15360               500              550   \n",
       "1000                               30720              3000             1950   \n",
       "\n",
       "                   rub_per_gb  rub_per_message  rub_per_minute tariff_name  \n",
       "messages_included                                                           \n",
       "50                        200                3               3       smart  \n",
       "1000                      150                1               1       ultra  "
      ]
     },
     "execution_count": 33,
     "metadata": {},
     "output_type": "execute_result"
    }
   ],
   "source": [
    "tariffs # Выводим датасет на экран"
   ]
  },
  {
   "cell_type": "markdown",
   "metadata": {},
   "source": [
    "Обновим таблицу так, чтобы столбец `messages_included` не был индексом всей таблицы"
   ]
  },
  {
   "cell_type": "code",
   "execution_count": 34,
   "metadata": {},
   "outputs": [
    {
     "data": {
      "text/html": [
       "<div>\n",
       "<style scoped>\n",
       "    .dataframe tbody tr th:only-of-type {\n",
       "        vertical-align: middle;\n",
       "    }\n",
       "\n",
       "    .dataframe tbody tr th {\n",
       "        vertical-align: top;\n",
       "    }\n",
       "\n",
       "    .dataframe thead th {\n",
       "        text-align: right;\n",
       "    }\n",
       "</style>\n",
       "<table border=\"1\" class=\"dataframe\">\n",
       "  <thead>\n",
       "    <tr style=\"text-align: right;\">\n",
       "      <th></th>\n",
       "      <th>messages_included</th>\n",
       "      <th>mb_per_month_included</th>\n",
       "      <th>minutes_included</th>\n",
       "      <th>rub_monthly_fee</th>\n",
       "      <th>rub_per_gb</th>\n",
       "      <th>rub_per_message</th>\n",
       "      <th>rub_per_minute</th>\n",
       "      <th>tariff_name</th>\n",
       "    </tr>\n",
       "  </thead>\n",
       "  <tbody>\n",
       "    <tr>\n",
       "      <th>0</th>\n",
       "      <td>50</td>\n",
       "      <td>15360</td>\n",
       "      <td>500</td>\n",
       "      <td>550</td>\n",
       "      <td>200</td>\n",
       "      <td>3</td>\n",
       "      <td>3</td>\n",
       "      <td>smart</td>\n",
       "    </tr>\n",
       "    <tr>\n",
       "      <th>1</th>\n",
       "      <td>1000</td>\n",
       "      <td>30720</td>\n",
       "      <td>3000</td>\n",
       "      <td>1950</td>\n",
       "      <td>150</td>\n",
       "      <td>1</td>\n",
       "      <td>1</td>\n",
       "      <td>ultra</td>\n",
       "    </tr>\n",
       "  </tbody>\n",
       "</table>\n",
       "</div>"
      ],
      "text/plain": [
       "   messages_included  mb_per_month_included  minutes_included  \\\n",
       "0                 50                  15360               500   \n",
       "1               1000                  30720              3000   \n",
       "\n",
       "   rub_monthly_fee  rub_per_gb  rub_per_message  rub_per_minute tariff_name  \n",
       "0              550         200                3               3       smart  \n",
       "1             1950         150                1               1       ultra  "
      ]
     },
     "execution_count": 34,
     "metadata": {},
     "output_type": "execute_result"
    }
   ],
   "source": [
    "tariffs = tariffs.reset_index() # Обновляем индексы\n",
    "tariffs"
   ]
  },
  {
   "cell_type": "code",
   "execution_count": 35,
   "metadata": {},
   "outputs": [
    {
     "name": "stdout",
     "output_type": "stream",
     "text": [
      "<class 'pandas.core.frame.DataFrame'>\n",
      "RangeIndex: 2 entries, 0 to 1\n",
      "Data columns (total 8 columns):\n",
      " #   Column                 Non-Null Count  Dtype \n",
      "---  ------                 --------------  ----- \n",
      " 0   messages_included      2 non-null      int64 \n",
      " 1   mb_per_month_included  2 non-null      int64 \n",
      " 2   minutes_included       2 non-null      int64 \n",
      " 3   rub_monthly_fee        2 non-null      int64 \n",
      " 4   rub_per_gb             2 non-null      int64 \n",
      " 5   rub_per_message        2 non-null      int64 \n",
      " 6   rub_per_minute         2 non-null      int64 \n",
      " 7   tariff_name            2 non-null      object\n",
      "dtypes: int64(7), object(1)\n",
      "memory usage: 256.0+ bytes\n"
     ]
    }
   ],
   "source": [
    "tariffs.info() # Основная информация о датасете"
   ]
  },
  {
   "cell_type": "markdown",
   "metadata": {},
   "source": [
    "Пропущенных значений и дубликатов в таблице нет. Все типы данных соответствуют столбцам"
   ]
  },
  {
   "cell_type": "markdown",
   "metadata": {},
   "source": [
    "Для каждого пользователя посчитаем количество сделанных звонков и израсходованных минут разговора по месяцам.\n",
    "\n",
    "Перед этим к таблице `calls` добивим новый столбец `tariff` для каждого пользователя."
   ]
  },
  {
   "cell_type": "code",
   "execution_count": 36,
   "metadata": {
    "scrolled": true
   },
   "outputs": [
    {
     "data": {
      "text/html": [
       "<div>\n",
       "<style scoped>\n",
       "    .dataframe tbody tr th:only-of-type {\n",
       "        vertical-align: middle;\n",
       "    }\n",
       "\n",
       "    .dataframe tbody tr th {\n",
       "        vertical-align: top;\n",
       "    }\n",
       "\n",
       "    .dataframe thead th {\n",
       "        text-align: right;\n",
       "    }\n",
       "</style>\n",
       "<table border=\"1\" class=\"dataframe\">\n",
       "  <thead>\n",
       "    <tr style=\"text-align: right;\">\n",
       "      <th></th>\n",
       "      <th>id</th>\n",
       "      <th>call_date</th>\n",
       "      <th>duration</th>\n",
       "      <th>user_id</th>\n",
       "    </tr>\n",
       "  </thead>\n",
       "  <tbody>\n",
       "    <tr>\n",
       "      <th>0</th>\n",
       "      <td>1000_0</td>\n",
       "      <td>2018-07-25</td>\n",
       "      <td>0</td>\n",
       "      <td>1000</td>\n",
       "    </tr>\n",
       "    <tr>\n",
       "      <th>1</th>\n",
       "      <td>1000_1</td>\n",
       "      <td>2018-08-17</td>\n",
       "      <td>0</td>\n",
       "      <td>1000</td>\n",
       "    </tr>\n",
       "    <tr>\n",
       "      <th>2</th>\n",
       "      <td>1000_2</td>\n",
       "      <td>2018-06-11</td>\n",
       "      <td>3</td>\n",
       "      <td>1000</td>\n",
       "    </tr>\n",
       "    <tr>\n",
       "      <th>3</th>\n",
       "      <td>1000_3</td>\n",
       "      <td>2018-09-21</td>\n",
       "      <td>14</td>\n",
       "      <td>1000</td>\n",
       "    </tr>\n",
       "    <tr>\n",
       "      <th>4</th>\n",
       "      <td>1000_4</td>\n",
       "      <td>2018-12-15</td>\n",
       "      <td>6</td>\n",
       "      <td>1000</td>\n",
       "    </tr>\n",
       "  </tbody>\n",
       "</table>\n",
       "</div>"
      ],
      "text/plain": [
       "       id  call_date  duration  user_id\n",
       "0  1000_0 2018-07-25         0     1000\n",
       "1  1000_1 2018-08-17         0     1000\n",
       "2  1000_2 2018-06-11         3     1000\n",
       "3  1000_3 2018-09-21        14     1000\n",
       "4  1000_4 2018-12-15         6     1000"
      ]
     },
     "execution_count": 36,
     "metadata": {},
     "output_type": "execute_result"
    }
   ],
   "source": [
    "calls.head() # Выводим датасет на экран"
   ]
  },
  {
   "cell_type": "code",
   "execution_count": 37,
   "metadata": {},
   "outputs": [
    {
     "data": {
      "text/html": [
       "<div>\n",
       "<style scoped>\n",
       "    .dataframe tbody tr th:only-of-type {\n",
       "        vertical-align: middle;\n",
       "    }\n",
       "\n",
       "    .dataframe tbody tr th {\n",
       "        vertical-align: top;\n",
       "    }\n",
       "\n",
       "    .dataframe thead th {\n",
       "        text-align: right;\n",
       "    }\n",
       "</style>\n",
       "<table border=\"1\" class=\"dataframe\">\n",
       "  <thead>\n",
       "    <tr style=\"text-align: right;\">\n",
       "      <th></th>\n",
       "      <th>id</th>\n",
       "      <th>call_date</th>\n",
       "      <th>duration</th>\n",
       "      <th>user_id</th>\n",
       "      <th>tariff</th>\n",
       "    </tr>\n",
       "  </thead>\n",
       "  <tbody>\n",
       "    <tr>\n",
       "      <th>0</th>\n",
       "      <td>1000_0</td>\n",
       "      <td>2018-07-25</td>\n",
       "      <td>0</td>\n",
       "      <td>1000</td>\n",
       "      <td>ultra</td>\n",
       "    </tr>\n",
       "    <tr>\n",
       "      <th>1</th>\n",
       "      <td>1000_1</td>\n",
       "      <td>2018-08-17</td>\n",
       "      <td>0</td>\n",
       "      <td>1000</td>\n",
       "      <td>ultra</td>\n",
       "    </tr>\n",
       "    <tr>\n",
       "      <th>2</th>\n",
       "      <td>1000_2</td>\n",
       "      <td>2018-06-11</td>\n",
       "      <td>3</td>\n",
       "      <td>1000</td>\n",
       "      <td>ultra</td>\n",
       "    </tr>\n",
       "    <tr>\n",
       "      <th>3</th>\n",
       "      <td>1000_3</td>\n",
       "      <td>2018-09-21</td>\n",
       "      <td>14</td>\n",
       "      <td>1000</td>\n",
       "      <td>ultra</td>\n",
       "    </tr>\n",
       "    <tr>\n",
       "      <th>4</th>\n",
       "      <td>1000_4</td>\n",
       "      <td>2018-12-15</td>\n",
       "      <td>6</td>\n",
       "      <td>1000</td>\n",
       "      <td>ultra</td>\n",
       "    </tr>\n",
       "    <tr>\n",
       "      <th>...</th>\n",
       "      <td>...</td>\n",
       "      <td>...</td>\n",
       "      <td>...</td>\n",
       "      <td>...</td>\n",
       "      <td>...</td>\n",
       "    </tr>\n",
       "    <tr>\n",
       "      <th>202602</th>\n",
       "      <td>1499_215</td>\n",
       "      <td>2018-12-26</td>\n",
       "      <td>1</td>\n",
       "      <td>1499</td>\n",
       "      <td>smart</td>\n",
       "    </tr>\n",
       "    <tr>\n",
       "      <th>202603</th>\n",
       "      <td>1499_216</td>\n",
       "      <td>2018-10-18</td>\n",
       "      <td>19</td>\n",
       "      <td>1499</td>\n",
       "      <td>smart</td>\n",
       "    </tr>\n",
       "    <tr>\n",
       "      <th>202604</th>\n",
       "      <td>1499_217</td>\n",
       "      <td>2018-11-10</td>\n",
       "      <td>11</td>\n",
       "      <td>1499</td>\n",
       "      <td>smart</td>\n",
       "    </tr>\n",
       "    <tr>\n",
       "      <th>202605</th>\n",
       "      <td>1499_218</td>\n",
       "      <td>2018-10-06</td>\n",
       "      <td>5</td>\n",
       "      <td>1499</td>\n",
       "      <td>smart</td>\n",
       "    </tr>\n",
       "    <tr>\n",
       "      <th>202606</th>\n",
       "      <td>1499_219</td>\n",
       "      <td>2018-12-14</td>\n",
       "      <td>20</td>\n",
       "      <td>1499</td>\n",
       "      <td>smart</td>\n",
       "    </tr>\n",
       "  </tbody>\n",
       "</table>\n",
       "<p>202607 rows × 5 columns</p>\n",
       "</div>"
      ],
      "text/plain": [
       "              id  call_date  duration  user_id tariff\n",
       "0         1000_0 2018-07-25         0     1000  ultra\n",
       "1         1000_1 2018-08-17         0     1000  ultra\n",
       "2         1000_2 2018-06-11         3     1000  ultra\n",
       "3         1000_3 2018-09-21        14     1000  ultra\n",
       "4         1000_4 2018-12-15         6     1000  ultra\n",
       "...          ...        ...       ...      ...    ...\n",
       "202602  1499_215 2018-12-26         1     1499  smart\n",
       "202603  1499_216 2018-10-18        19     1499  smart\n",
       "202604  1499_217 2018-11-10        11     1499  smart\n",
       "202605  1499_218 2018-10-06         5     1499  smart\n",
       "202606  1499_219 2018-12-14        20     1499  smart\n",
       "\n",
       "[202607 rows x 5 columns]"
      ]
     },
     "execution_count": 37,
     "metadata": {},
     "output_type": "execute_result"
    }
   ],
   "source": [
    "calls = calls.merge(users[['user_id','tariff']], on='user_id') # Объединение таблиц\n",
    "calls # Выводим датасет на экран"
   ]
  },
  {
   "cell_type": "markdown",
   "metadata": {},
   "source": [
    "В отдельный столбец `call_month` выделим месяц каждого звонка"
   ]
  },
  {
   "cell_type": "code",
   "execution_count": 38,
   "metadata": {},
   "outputs": [],
   "source": [
    "calls['month'] = calls['call_date'].dt.month # Добавление столбца "
   ]
  },
  {
   "cell_type": "code",
   "execution_count": 39,
   "metadata": {
    "scrolled": true
   },
   "outputs": [
    {
     "data": {
      "text/html": [
       "<div>\n",
       "<style scoped>\n",
       "    .dataframe tbody tr th:only-of-type {\n",
       "        vertical-align: middle;\n",
       "    }\n",
       "\n",
       "    .dataframe tbody tr th {\n",
       "        vertical-align: top;\n",
       "    }\n",
       "\n",
       "    .dataframe thead th {\n",
       "        text-align: right;\n",
       "    }\n",
       "</style>\n",
       "<table border=\"1\" class=\"dataframe\">\n",
       "  <thead>\n",
       "    <tr style=\"text-align: right;\">\n",
       "      <th></th>\n",
       "      <th>id</th>\n",
       "      <th>call_date</th>\n",
       "      <th>duration</th>\n",
       "      <th>user_id</th>\n",
       "      <th>tariff</th>\n",
       "      <th>month</th>\n",
       "    </tr>\n",
       "  </thead>\n",
       "  <tbody>\n",
       "    <tr>\n",
       "      <th>0</th>\n",
       "      <td>1000_0</td>\n",
       "      <td>2018-07-25</td>\n",
       "      <td>0</td>\n",
       "      <td>1000</td>\n",
       "      <td>ultra</td>\n",
       "      <td>7</td>\n",
       "    </tr>\n",
       "    <tr>\n",
       "      <th>1</th>\n",
       "      <td>1000_1</td>\n",
       "      <td>2018-08-17</td>\n",
       "      <td>0</td>\n",
       "      <td>1000</td>\n",
       "      <td>ultra</td>\n",
       "      <td>8</td>\n",
       "    </tr>\n",
       "    <tr>\n",
       "      <th>2</th>\n",
       "      <td>1000_2</td>\n",
       "      <td>2018-06-11</td>\n",
       "      <td>3</td>\n",
       "      <td>1000</td>\n",
       "      <td>ultra</td>\n",
       "      <td>6</td>\n",
       "    </tr>\n",
       "    <tr>\n",
       "      <th>3</th>\n",
       "      <td>1000_3</td>\n",
       "      <td>2018-09-21</td>\n",
       "      <td>14</td>\n",
       "      <td>1000</td>\n",
       "      <td>ultra</td>\n",
       "      <td>9</td>\n",
       "    </tr>\n",
       "    <tr>\n",
       "      <th>4</th>\n",
       "      <td>1000_4</td>\n",
       "      <td>2018-12-15</td>\n",
       "      <td>6</td>\n",
       "      <td>1000</td>\n",
       "      <td>ultra</td>\n",
       "      <td>12</td>\n",
       "    </tr>\n",
       "    <tr>\n",
       "      <th>...</th>\n",
       "      <td>...</td>\n",
       "      <td>...</td>\n",
       "      <td>...</td>\n",
       "      <td>...</td>\n",
       "      <td>...</td>\n",
       "      <td>...</td>\n",
       "    </tr>\n",
       "    <tr>\n",
       "      <th>202602</th>\n",
       "      <td>1499_215</td>\n",
       "      <td>2018-12-26</td>\n",
       "      <td>1</td>\n",
       "      <td>1499</td>\n",
       "      <td>smart</td>\n",
       "      <td>12</td>\n",
       "    </tr>\n",
       "    <tr>\n",
       "      <th>202603</th>\n",
       "      <td>1499_216</td>\n",
       "      <td>2018-10-18</td>\n",
       "      <td>19</td>\n",
       "      <td>1499</td>\n",
       "      <td>smart</td>\n",
       "      <td>10</td>\n",
       "    </tr>\n",
       "    <tr>\n",
       "      <th>202604</th>\n",
       "      <td>1499_217</td>\n",
       "      <td>2018-11-10</td>\n",
       "      <td>11</td>\n",
       "      <td>1499</td>\n",
       "      <td>smart</td>\n",
       "      <td>11</td>\n",
       "    </tr>\n",
       "    <tr>\n",
       "      <th>202605</th>\n",
       "      <td>1499_218</td>\n",
       "      <td>2018-10-06</td>\n",
       "      <td>5</td>\n",
       "      <td>1499</td>\n",
       "      <td>smart</td>\n",
       "      <td>10</td>\n",
       "    </tr>\n",
       "    <tr>\n",
       "      <th>202606</th>\n",
       "      <td>1499_219</td>\n",
       "      <td>2018-12-14</td>\n",
       "      <td>20</td>\n",
       "      <td>1499</td>\n",
       "      <td>smart</td>\n",
       "      <td>12</td>\n",
       "    </tr>\n",
       "  </tbody>\n",
       "</table>\n",
       "<p>202607 rows × 6 columns</p>\n",
       "</div>"
      ],
      "text/plain": [
       "              id  call_date  duration  user_id tariff  month\n",
       "0         1000_0 2018-07-25         0     1000  ultra      7\n",
       "1         1000_1 2018-08-17         0     1000  ultra      8\n",
       "2         1000_2 2018-06-11         3     1000  ultra      6\n",
       "3         1000_3 2018-09-21        14     1000  ultra      9\n",
       "4         1000_4 2018-12-15         6     1000  ultra     12\n",
       "...          ...        ...       ...      ...    ...    ...\n",
       "202602  1499_215 2018-12-26         1     1499  smart     12\n",
       "202603  1499_216 2018-10-18        19     1499  smart     10\n",
       "202604  1499_217 2018-11-10        11     1499  smart     11\n",
       "202605  1499_218 2018-10-06         5     1499  smart     10\n",
       "202606  1499_219 2018-12-14        20     1499  smart     12\n",
       "\n",
       "[202607 rows x 6 columns]"
      ]
     },
     "execution_count": 39,
     "metadata": {},
     "output_type": "execute_result"
    }
   ],
   "source": [
    "calls # Выводим датасет на экран"
   ]
  },
  {
   "cell_type": "markdown",
   "metadata": {},
   "source": [
    "Сгруппируем данные для получения сводной таблицы, в которой столбцы `count_of_calls` и `sum_of_duration` отражают количество сделанных звонков и количество израсходованных минут за каждый месяц соответственно"
   ]
  },
  {
   "cell_type": "code",
   "execution_count": 40,
   "metadata": {},
   "outputs": [
    {
     "data": {
      "text/html": [
       "<div>\n",
       "<style scoped>\n",
       "    .dataframe tbody tr th:only-of-type {\n",
       "        vertical-align: middle;\n",
       "    }\n",
       "\n",
       "    .dataframe tbody tr th {\n",
       "        vertical-align: top;\n",
       "    }\n",
       "\n",
       "    .dataframe thead th {\n",
       "        text-align: right;\n",
       "    }\n",
       "</style>\n",
       "<table border=\"1\" class=\"dataframe\">\n",
       "  <thead>\n",
       "    <tr style=\"text-align: right;\">\n",
       "      <th></th>\n",
       "      <th>user_id</th>\n",
       "      <th>month</th>\n",
       "      <th>tariff</th>\n",
       "      <th>count_of_calls</th>\n",
       "      <th>sum_of_duration</th>\n",
       "    </tr>\n",
       "  </thead>\n",
       "  <tbody>\n",
       "    <tr>\n",
       "      <th>0</th>\n",
       "      <td>1000</td>\n",
       "      <td>5</td>\n",
       "      <td>ultra</td>\n",
       "      <td>22</td>\n",
       "      <td>159</td>\n",
       "    </tr>\n",
       "    <tr>\n",
       "      <th>1</th>\n",
       "      <td>1000</td>\n",
       "      <td>6</td>\n",
       "      <td>ultra</td>\n",
       "      <td>43</td>\n",
       "      <td>172</td>\n",
       "    </tr>\n",
       "    <tr>\n",
       "      <th>2</th>\n",
       "      <td>1000</td>\n",
       "      <td>7</td>\n",
       "      <td>ultra</td>\n",
       "      <td>47</td>\n",
       "      <td>340</td>\n",
       "    </tr>\n",
       "    <tr>\n",
       "      <th>3</th>\n",
       "      <td>1000</td>\n",
       "      <td>8</td>\n",
       "      <td>ultra</td>\n",
       "      <td>52</td>\n",
       "      <td>408</td>\n",
       "    </tr>\n",
       "    <tr>\n",
       "      <th>4</th>\n",
       "      <td>1000</td>\n",
       "      <td>9</td>\n",
       "      <td>ultra</td>\n",
       "      <td>58</td>\n",
       "      <td>466</td>\n",
       "    </tr>\n",
       "    <tr>\n",
       "      <th>...</th>\n",
       "      <td>...</td>\n",
       "      <td>...</td>\n",
       "      <td>...</td>\n",
       "      <td>...</td>\n",
       "      <td>...</td>\n",
       "    </tr>\n",
       "    <tr>\n",
       "      <th>3169</th>\n",
       "      <td>1498</td>\n",
       "      <td>10</td>\n",
       "      <td>smart</td>\n",
       "      <td>41</td>\n",
       "      <td>247</td>\n",
       "    </tr>\n",
       "    <tr>\n",
       "      <th>3170</th>\n",
       "      <td>1499</td>\n",
       "      <td>9</td>\n",
       "      <td>smart</td>\n",
       "      <td>9</td>\n",
       "      <td>70</td>\n",
       "    </tr>\n",
       "    <tr>\n",
       "      <th>3171</th>\n",
       "      <td>1499</td>\n",
       "      <td>10</td>\n",
       "      <td>smart</td>\n",
       "      <td>68</td>\n",
       "      <td>449</td>\n",
       "    </tr>\n",
       "    <tr>\n",
       "      <th>3172</th>\n",
       "      <td>1499</td>\n",
       "      <td>11</td>\n",
       "      <td>smart</td>\n",
       "      <td>74</td>\n",
       "      <td>612</td>\n",
       "    </tr>\n",
       "    <tr>\n",
       "      <th>3173</th>\n",
       "      <td>1499</td>\n",
       "      <td>12</td>\n",
       "      <td>smart</td>\n",
       "      <td>69</td>\n",
       "      <td>492</td>\n",
       "    </tr>\n",
       "  </tbody>\n",
       "</table>\n",
       "<p>3174 rows × 5 columns</p>\n",
       "</div>"
      ],
      "text/plain": [
       "      user_id  month tariff  count_of_calls  sum_of_duration\n",
       "0        1000      5  ultra              22              159\n",
       "1        1000      6  ultra              43              172\n",
       "2        1000      7  ultra              47              340\n",
       "3        1000      8  ultra              52              408\n",
       "4        1000      9  ultra              58              466\n",
       "...       ...    ...    ...             ...              ...\n",
       "3169     1498     10  smart              41              247\n",
       "3170     1499      9  smart               9               70\n",
       "3171     1499     10  smart              68              449\n",
       "3172     1499     11  smart              74              612\n",
       "3173     1499     12  smart              69              492\n",
       "\n",
       "[3174 rows x 5 columns]"
      ]
     },
     "execution_count": 40,
     "metadata": {},
     "output_type": "execute_result"
    }
   ],
   "source": [
    "count_of_calls_per_months = calls.groupby(['user_id', 'month','tariff'], as_index=False) \\\n",
    ".agg({'id':'count', 'duration':'sum'}). \\\n",
    "rename(columns=({'id':'count_of_calls', 'duration':'sum_of_duration'})) # Группировка данных\n",
    "count_of_calls_per_months# Выводим датасет на экран"
   ]
  },
  {
   "cell_type": "markdown",
   "metadata": {},
   "source": [
    "Посчитаем для каждого пользователя количество отправленных сообщений по месяцам.\n",
    "\n",
    "Для этого в таблицу `messages` добавим дополнительный столбец, который отражает номер месяца"
   ]
  },
  {
   "cell_type": "code",
   "execution_count": 41,
   "metadata": {},
   "outputs": [
    {
     "data": {
      "text/html": [
       "<div>\n",
       "<style scoped>\n",
       "    .dataframe tbody tr th:only-of-type {\n",
       "        vertical-align: middle;\n",
       "    }\n",
       "\n",
       "    .dataframe tbody tr th {\n",
       "        vertical-align: top;\n",
       "    }\n",
       "\n",
       "    .dataframe thead th {\n",
       "        text-align: right;\n",
       "    }\n",
       "</style>\n",
       "<table border=\"1\" class=\"dataframe\">\n",
       "  <thead>\n",
       "    <tr style=\"text-align: right;\">\n",
       "      <th></th>\n",
       "      <th>id</th>\n",
       "      <th>message_date</th>\n",
       "      <th>user_id</th>\n",
       "      <th>month</th>\n",
       "    </tr>\n",
       "  </thead>\n",
       "  <tbody>\n",
       "    <tr>\n",
       "      <th>0</th>\n",
       "      <td>1000_0</td>\n",
       "      <td>2018-06-27</td>\n",
       "      <td>1000</td>\n",
       "      <td>6</td>\n",
       "    </tr>\n",
       "    <tr>\n",
       "      <th>1</th>\n",
       "      <td>1000_1</td>\n",
       "      <td>2018-10-08</td>\n",
       "      <td>1000</td>\n",
       "      <td>10</td>\n",
       "    </tr>\n",
       "    <tr>\n",
       "      <th>2</th>\n",
       "      <td>1000_2</td>\n",
       "      <td>2018-08-04</td>\n",
       "      <td>1000</td>\n",
       "      <td>8</td>\n",
       "    </tr>\n",
       "    <tr>\n",
       "      <th>3</th>\n",
       "      <td>1000_3</td>\n",
       "      <td>2018-06-16</td>\n",
       "      <td>1000</td>\n",
       "      <td>6</td>\n",
       "    </tr>\n",
       "    <tr>\n",
       "      <th>4</th>\n",
       "      <td>1000_4</td>\n",
       "      <td>2018-12-05</td>\n",
       "      <td>1000</td>\n",
       "      <td>12</td>\n",
       "    </tr>\n",
       "  </tbody>\n",
       "</table>\n",
       "</div>"
      ],
      "text/plain": [
       "       id message_date  user_id  month\n",
       "0  1000_0   2018-06-27     1000      6\n",
       "1  1000_1   2018-10-08     1000     10\n",
       "2  1000_2   2018-08-04     1000      8\n",
       "3  1000_3   2018-06-16     1000      6\n",
       "4  1000_4   2018-12-05     1000     12"
      ]
     },
     "execution_count": 41,
     "metadata": {},
     "output_type": "execute_result"
    }
   ],
   "source": [
    "messages['month'] = messages['message_date'].dt.month # Добавление столбца\n",
    "messages.head() # Выводим датасет на экран"
   ]
  },
  {
   "cell_type": "markdown",
   "metadata": {},
   "source": [
    "Сгрупируем данные для подсчёта количества отправленных сообщений по месяца"
   ]
  },
  {
   "cell_type": "code",
   "execution_count": 42,
   "metadata": {},
   "outputs": [
    {
     "data": {
      "text/html": [
       "<div>\n",
       "<style scoped>\n",
       "    .dataframe tbody tr th:only-of-type {\n",
       "        vertical-align: middle;\n",
       "    }\n",
       "\n",
       "    .dataframe tbody tr th {\n",
       "        vertical-align: top;\n",
       "    }\n",
       "\n",
       "    .dataframe thead th {\n",
       "        text-align: right;\n",
       "    }\n",
       "</style>\n",
       "<table border=\"1\" class=\"dataframe\">\n",
       "  <thead>\n",
       "    <tr style=\"text-align: right;\">\n",
       "      <th></th>\n",
       "      <th>user_id</th>\n",
       "      <th>month</th>\n",
       "      <th>count_of_messages</th>\n",
       "    </tr>\n",
       "  </thead>\n",
       "  <tbody>\n",
       "    <tr>\n",
       "      <th>0</th>\n",
       "      <td>1000</td>\n",
       "      <td>5</td>\n",
       "      <td>22</td>\n",
       "    </tr>\n",
       "    <tr>\n",
       "      <th>1</th>\n",
       "      <td>1000</td>\n",
       "      <td>6</td>\n",
       "      <td>60</td>\n",
       "    </tr>\n",
       "    <tr>\n",
       "      <th>2</th>\n",
       "      <td>1000</td>\n",
       "      <td>7</td>\n",
       "      <td>75</td>\n",
       "    </tr>\n",
       "    <tr>\n",
       "      <th>3</th>\n",
       "      <td>1000</td>\n",
       "      <td>8</td>\n",
       "      <td>81</td>\n",
       "    </tr>\n",
       "    <tr>\n",
       "      <th>4</th>\n",
       "      <td>1000</td>\n",
       "      <td>9</td>\n",
       "      <td>57</td>\n",
       "    </tr>\n",
       "    <tr>\n",
       "      <th>...</th>\n",
       "      <td>...</td>\n",
       "      <td>...</td>\n",
       "      <td>...</td>\n",
       "    </tr>\n",
       "    <tr>\n",
       "      <th>2712</th>\n",
       "      <td>1498</td>\n",
       "      <td>10</td>\n",
       "      <td>42</td>\n",
       "    </tr>\n",
       "    <tr>\n",
       "      <th>2713</th>\n",
       "      <td>1499</td>\n",
       "      <td>9</td>\n",
       "      <td>11</td>\n",
       "    </tr>\n",
       "    <tr>\n",
       "      <th>2714</th>\n",
       "      <td>1499</td>\n",
       "      <td>10</td>\n",
       "      <td>48</td>\n",
       "    </tr>\n",
       "    <tr>\n",
       "      <th>2715</th>\n",
       "      <td>1499</td>\n",
       "      <td>11</td>\n",
       "      <td>59</td>\n",
       "    </tr>\n",
       "    <tr>\n",
       "      <th>2716</th>\n",
       "      <td>1499</td>\n",
       "      <td>12</td>\n",
       "      <td>66</td>\n",
       "    </tr>\n",
       "  </tbody>\n",
       "</table>\n",
       "<p>2717 rows × 3 columns</p>\n",
       "</div>"
      ],
      "text/plain": [
       "      user_id  month  count_of_messages\n",
       "0        1000      5                 22\n",
       "1        1000      6                 60\n",
       "2        1000      7                 75\n",
       "3        1000      8                 81\n",
       "4        1000      9                 57\n",
       "...       ...    ...                ...\n",
       "2712     1498     10                 42\n",
       "2713     1499      9                 11\n",
       "2714     1499     10                 48\n",
       "2715     1499     11                 59\n",
       "2716     1499     12                 66\n",
       "\n",
       "[2717 rows x 3 columns]"
      ]
     },
     "execution_count": 42,
     "metadata": {},
     "output_type": "execute_result"
    }
   ],
   "source": [
    "count_of_messages_per_months = messages.groupby(['user_id', 'month'], as_index=False).agg({'id':'count'}). \\\n",
    "rename(columns={'id': 'count_of_messages'}) # Группировка данных \n",
    "count_of_messages_per_months # Выводим датасет на экран"
   ]
  },
  {
   "cell_type": "markdown",
   "metadata": {},
   "source": [
    "Посчитаем объем израсходованного интернет-трафика по месяцам для каждого пользователя\n",
    "\n",
    "Для этого в таблицу `internet` добавим дополнительный столбец, который отражает номер месяца"
   ]
  },
  {
   "cell_type": "code",
   "execution_count": 43,
   "metadata": {},
   "outputs": [
    {
     "data": {
      "text/html": [
       "<div>\n",
       "<style scoped>\n",
       "    .dataframe tbody tr th:only-of-type {\n",
       "        vertical-align: middle;\n",
       "    }\n",
       "\n",
       "    .dataframe tbody tr th {\n",
       "        vertical-align: top;\n",
       "    }\n",
       "\n",
       "    .dataframe thead th {\n",
       "        text-align: right;\n",
       "    }\n",
       "</style>\n",
       "<table border=\"1\" class=\"dataframe\">\n",
       "  <thead>\n",
       "    <tr style=\"text-align: right;\">\n",
       "      <th></th>\n",
       "      <th>id</th>\n",
       "      <th>mb_used</th>\n",
       "      <th>session_date</th>\n",
       "      <th>user_id</th>\n",
       "    </tr>\n",
       "  </thead>\n",
       "  <tbody>\n",
       "    <tr>\n",
       "      <th>0</th>\n",
       "      <td>1000_0</td>\n",
       "      <td>112.95</td>\n",
       "      <td>2018-11-25</td>\n",
       "      <td>1000</td>\n",
       "    </tr>\n",
       "    <tr>\n",
       "      <th>1</th>\n",
       "      <td>1000_1</td>\n",
       "      <td>1052.81</td>\n",
       "      <td>2018-09-07</td>\n",
       "      <td>1000</td>\n",
       "    </tr>\n",
       "    <tr>\n",
       "      <th>2</th>\n",
       "      <td>1000_2</td>\n",
       "      <td>1197.26</td>\n",
       "      <td>2018-06-25</td>\n",
       "      <td>1000</td>\n",
       "    </tr>\n",
       "    <tr>\n",
       "      <th>3</th>\n",
       "      <td>1000_3</td>\n",
       "      <td>550.27</td>\n",
       "      <td>2018-08-22</td>\n",
       "      <td>1000</td>\n",
       "    </tr>\n",
       "    <tr>\n",
       "      <th>4</th>\n",
       "      <td>1000_4</td>\n",
       "      <td>302.56</td>\n",
       "      <td>2018-09-24</td>\n",
       "      <td>1000</td>\n",
       "    </tr>\n",
       "  </tbody>\n",
       "</table>\n",
       "</div>"
      ],
      "text/plain": [
       "       id  mb_used session_date  user_id\n",
       "0  1000_0   112.95   2018-11-25     1000\n",
       "1  1000_1  1052.81   2018-09-07     1000\n",
       "2  1000_2  1197.26   2018-06-25     1000\n",
       "3  1000_3   550.27   2018-08-22     1000\n",
       "4  1000_4   302.56   2018-09-24     1000"
      ]
     },
     "execution_count": 43,
     "metadata": {},
     "output_type": "execute_result"
    }
   ],
   "source": [
    "internet.head() # Выводим датасет на экран"
   ]
  },
  {
   "cell_type": "code",
   "execution_count": 44,
   "metadata": {},
   "outputs": [
    {
     "data": {
      "text/html": [
       "<div>\n",
       "<style scoped>\n",
       "    .dataframe tbody tr th:only-of-type {\n",
       "        vertical-align: middle;\n",
       "    }\n",
       "\n",
       "    .dataframe tbody tr th {\n",
       "        vertical-align: top;\n",
       "    }\n",
       "\n",
       "    .dataframe thead th {\n",
       "        text-align: right;\n",
       "    }\n",
       "</style>\n",
       "<table border=\"1\" class=\"dataframe\">\n",
       "  <thead>\n",
       "    <tr style=\"text-align: right;\">\n",
       "      <th></th>\n",
       "      <th>id</th>\n",
       "      <th>mb_used</th>\n",
       "      <th>session_date</th>\n",
       "      <th>user_id</th>\n",
       "      <th>month</th>\n",
       "    </tr>\n",
       "  </thead>\n",
       "  <tbody>\n",
       "    <tr>\n",
       "      <th>0</th>\n",
       "      <td>1000_0</td>\n",
       "      <td>112.95</td>\n",
       "      <td>2018-11-25</td>\n",
       "      <td>1000</td>\n",
       "      <td>11</td>\n",
       "    </tr>\n",
       "    <tr>\n",
       "      <th>1</th>\n",
       "      <td>1000_1</td>\n",
       "      <td>1052.81</td>\n",
       "      <td>2018-09-07</td>\n",
       "      <td>1000</td>\n",
       "      <td>9</td>\n",
       "    </tr>\n",
       "    <tr>\n",
       "      <th>2</th>\n",
       "      <td>1000_2</td>\n",
       "      <td>1197.26</td>\n",
       "      <td>2018-06-25</td>\n",
       "      <td>1000</td>\n",
       "      <td>6</td>\n",
       "    </tr>\n",
       "    <tr>\n",
       "      <th>3</th>\n",
       "      <td>1000_3</td>\n",
       "      <td>550.27</td>\n",
       "      <td>2018-08-22</td>\n",
       "      <td>1000</td>\n",
       "      <td>8</td>\n",
       "    </tr>\n",
       "    <tr>\n",
       "      <th>4</th>\n",
       "      <td>1000_4</td>\n",
       "      <td>302.56</td>\n",
       "      <td>2018-09-24</td>\n",
       "      <td>1000</td>\n",
       "      <td>9</td>\n",
       "    </tr>\n",
       "  </tbody>\n",
       "</table>\n",
       "</div>"
      ],
      "text/plain": [
       "       id  mb_used session_date  user_id  month\n",
       "0  1000_0   112.95   2018-11-25     1000     11\n",
       "1  1000_1  1052.81   2018-09-07     1000      9\n",
       "2  1000_2  1197.26   2018-06-25     1000      6\n",
       "3  1000_3   550.27   2018-08-22     1000      8\n",
       "4  1000_4   302.56   2018-09-24     1000      9"
      ]
     },
     "execution_count": 44,
     "metadata": {},
     "output_type": "execute_result"
    }
   ],
   "source": [
    "internet['month'] = internet['session_date'].dt.month # Добавление столбца\n",
    "internet.head() # Выводим датасет на экран"
   ]
  },
  {
   "cell_type": "markdown",
   "metadata": {},
   "source": [
    "Сгрупируем данные для подсчёта объема израсходованного интернет-трафика по месяцам для каждого пользователя"
   ]
  },
  {
   "cell_type": "code",
   "execution_count": 45,
   "metadata": {
    "scrolled": false
   },
   "outputs": [
    {
     "data": {
      "text/html": [
       "<div>\n",
       "<style scoped>\n",
       "    .dataframe tbody tr th:only-of-type {\n",
       "        vertical-align: middle;\n",
       "    }\n",
       "\n",
       "    .dataframe tbody tr th {\n",
       "        vertical-align: top;\n",
       "    }\n",
       "\n",
       "    .dataframe thead th {\n",
       "        text-align: right;\n",
       "    }\n",
       "</style>\n",
       "<table border=\"1\" class=\"dataframe\">\n",
       "  <thead>\n",
       "    <tr style=\"text-align: right;\">\n",
       "      <th></th>\n",
       "      <th>user_id</th>\n",
       "      <th>month</th>\n",
       "      <th>count_of_mb</th>\n",
       "    </tr>\n",
       "  </thead>\n",
       "  <tbody>\n",
       "    <tr>\n",
       "      <th>0</th>\n",
       "      <td>1000</td>\n",
       "      <td>5</td>\n",
       "      <td>2253.49</td>\n",
       "    </tr>\n",
       "    <tr>\n",
       "      <th>1</th>\n",
       "      <td>1000</td>\n",
       "      <td>6</td>\n",
       "      <td>23233.77</td>\n",
       "    </tr>\n",
       "    <tr>\n",
       "      <th>2</th>\n",
       "      <td>1000</td>\n",
       "      <td>7</td>\n",
       "      <td>14003.64</td>\n",
       "    </tr>\n",
       "    <tr>\n",
       "      <th>3</th>\n",
       "      <td>1000</td>\n",
       "      <td>8</td>\n",
       "      <td>14055.93</td>\n",
       "    </tr>\n",
       "    <tr>\n",
       "      <th>4</th>\n",
       "      <td>1000</td>\n",
       "      <td>9</td>\n",
       "      <td>14568.91</td>\n",
       "    </tr>\n",
       "    <tr>\n",
       "      <th>...</th>\n",
       "      <td>...</td>\n",
       "      <td>...</td>\n",
       "      <td>...</td>\n",
       "    </tr>\n",
       "    <tr>\n",
       "      <th>3198</th>\n",
       "      <td>1498</td>\n",
       "      <td>10</td>\n",
       "      <td>20579.36</td>\n",
       "    </tr>\n",
       "    <tr>\n",
       "      <th>3199</th>\n",
       "      <td>1499</td>\n",
       "      <td>9</td>\n",
       "      <td>1845.75</td>\n",
       "    </tr>\n",
       "    <tr>\n",
       "      <th>3200</th>\n",
       "      <td>1499</td>\n",
       "      <td>10</td>\n",
       "      <td>17788.51</td>\n",
       "    </tr>\n",
       "    <tr>\n",
       "      <th>3201</th>\n",
       "      <td>1499</td>\n",
       "      <td>11</td>\n",
       "      <td>17963.31</td>\n",
       "    </tr>\n",
       "    <tr>\n",
       "      <th>3202</th>\n",
       "      <td>1499</td>\n",
       "      <td>12</td>\n",
       "      <td>13055.58</td>\n",
       "    </tr>\n",
       "  </tbody>\n",
       "</table>\n",
       "<p>3203 rows × 3 columns</p>\n",
       "</div>"
      ],
      "text/plain": [
       "      user_id  month  count_of_mb\n",
       "0        1000      5      2253.49\n",
       "1        1000      6     23233.77\n",
       "2        1000      7     14003.64\n",
       "3        1000      8     14055.93\n",
       "4        1000      9     14568.91\n",
       "...       ...    ...          ...\n",
       "3198     1498     10     20579.36\n",
       "3199     1499      9      1845.75\n",
       "3200     1499     10     17788.51\n",
       "3201     1499     11     17963.31\n",
       "3202     1499     12     13055.58\n",
       "\n",
       "[3203 rows x 3 columns]"
      ]
     },
     "execution_count": 45,
     "metadata": {},
     "output_type": "execute_result"
    }
   ],
   "source": [
    "count_of_internet_per_months = internet.groupby(['user_id', 'month'], as_index=False).agg({'mb_used':'sum'}). \\\n",
    "rename(columns={'mb_used': 'count_of_mb'}) # Группировка данных\n",
    "count_of_internet_per_months # Выводим датасет на экран"
   ]
  },
  {
   "cell_type": "markdown",
   "metadata": {},
   "source": [
    "Согласно документации, для веб-трафика отдельные сессии не считаются. Вместо этого общая сумма за месяц округляется в бо́льшую сторону. Если абонент использует 1025 мегабайт в этом месяце, с него возьмут плату за 2 гигабайта.\n",
    "\n",
    "Следовательно добавим столбец `count_of_gb` для каждого месяца"
   ]
  },
  {
   "cell_type": "code",
   "execution_count": 46,
   "metadata": {},
   "outputs": [],
   "source": [
    "count_of_internet_per_months['count_of_gb'] = (count_of_internet_per_months['count_of_mb']/1024).apply(np.ceil) # Округление значения"
   ]
  },
  {
   "cell_type": "markdown",
   "metadata": {},
   "source": [
    "<div class=\"alert alert-success\">\n",
    "<b>Комментарий ревьюера v1:</b>\n",
    "\n",
    "А здесь округление как раз таки верное."
   ]
  },
  {
   "cell_type": "code",
   "execution_count": 47,
   "metadata": {},
   "outputs": [
    {
     "data": {
      "text/html": [
       "<div>\n",
       "<style scoped>\n",
       "    .dataframe tbody tr th:only-of-type {\n",
       "        vertical-align: middle;\n",
       "    }\n",
       "\n",
       "    .dataframe tbody tr th {\n",
       "        vertical-align: top;\n",
       "    }\n",
       "\n",
       "    .dataframe thead th {\n",
       "        text-align: right;\n",
       "    }\n",
       "</style>\n",
       "<table border=\"1\" class=\"dataframe\">\n",
       "  <thead>\n",
       "    <tr style=\"text-align: right;\">\n",
       "      <th></th>\n",
       "      <th>user_id</th>\n",
       "      <th>month</th>\n",
       "      <th>count_of_mb</th>\n",
       "      <th>count_of_gb</th>\n",
       "    </tr>\n",
       "  </thead>\n",
       "  <tbody>\n",
       "    <tr>\n",
       "      <th>0</th>\n",
       "      <td>1000</td>\n",
       "      <td>5</td>\n",
       "      <td>2253.49</td>\n",
       "      <td>3.0</td>\n",
       "    </tr>\n",
       "    <tr>\n",
       "      <th>1</th>\n",
       "      <td>1000</td>\n",
       "      <td>6</td>\n",
       "      <td>23233.77</td>\n",
       "      <td>23.0</td>\n",
       "    </tr>\n",
       "    <tr>\n",
       "      <th>2</th>\n",
       "      <td>1000</td>\n",
       "      <td>7</td>\n",
       "      <td>14003.64</td>\n",
       "      <td>14.0</td>\n",
       "    </tr>\n",
       "    <tr>\n",
       "      <th>3</th>\n",
       "      <td>1000</td>\n",
       "      <td>8</td>\n",
       "      <td>14055.93</td>\n",
       "      <td>14.0</td>\n",
       "    </tr>\n",
       "    <tr>\n",
       "      <th>4</th>\n",
       "      <td>1000</td>\n",
       "      <td>9</td>\n",
       "      <td>14568.91</td>\n",
       "      <td>15.0</td>\n",
       "    </tr>\n",
       "    <tr>\n",
       "      <th>...</th>\n",
       "      <td>...</td>\n",
       "      <td>...</td>\n",
       "      <td>...</td>\n",
       "      <td>...</td>\n",
       "    </tr>\n",
       "    <tr>\n",
       "      <th>3198</th>\n",
       "      <td>1498</td>\n",
       "      <td>10</td>\n",
       "      <td>20579.36</td>\n",
       "      <td>21.0</td>\n",
       "    </tr>\n",
       "    <tr>\n",
       "      <th>3199</th>\n",
       "      <td>1499</td>\n",
       "      <td>9</td>\n",
       "      <td>1845.75</td>\n",
       "      <td>2.0</td>\n",
       "    </tr>\n",
       "    <tr>\n",
       "      <th>3200</th>\n",
       "      <td>1499</td>\n",
       "      <td>10</td>\n",
       "      <td>17788.51</td>\n",
       "      <td>18.0</td>\n",
       "    </tr>\n",
       "    <tr>\n",
       "      <th>3201</th>\n",
       "      <td>1499</td>\n",
       "      <td>11</td>\n",
       "      <td>17963.31</td>\n",
       "      <td>18.0</td>\n",
       "    </tr>\n",
       "    <tr>\n",
       "      <th>3202</th>\n",
       "      <td>1499</td>\n",
       "      <td>12</td>\n",
       "      <td>13055.58</td>\n",
       "      <td>13.0</td>\n",
       "    </tr>\n",
       "  </tbody>\n",
       "</table>\n",
       "<p>3203 rows × 4 columns</p>\n",
       "</div>"
      ],
      "text/plain": [
       "      user_id  month  count_of_mb  count_of_gb\n",
       "0        1000      5      2253.49          3.0\n",
       "1        1000      6     23233.77         23.0\n",
       "2        1000      7     14003.64         14.0\n",
       "3        1000      8     14055.93         14.0\n",
       "4        1000      9     14568.91         15.0\n",
       "...       ...    ...          ...          ...\n",
       "3198     1498     10     20579.36         21.0\n",
       "3199     1499      9      1845.75          2.0\n",
       "3200     1499     10     17788.51         18.0\n",
       "3201     1499     11     17963.31         18.0\n",
       "3202     1499     12     13055.58         13.0\n",
       "\n",
       "[3203 rows x 4 columns]"
      ]
     },
     "execution_count": 47,
     "metadata": {},
     "output_type": "execute_result"
    }
   ],
   "source": [
    "count_of_internet_per_months # Выводим датасет на экран"
   ]
  },
  {
   "cell_type": "markdown",
   "metadata": {},
   "source": [
    "Для того, чтобы посчитать помесячную выручку, необходимо объединить таблицы `count_of_internet_per_months`, `count_of_messages_per_months`, `count_of_calls_per_months`"
   ]
  },
  {
   "cell_type": "code",
   "execution_count": 48,
   "metadata": {
    "scrolled": true
   },
   "outputs": [
    {
     "data": {
      "text/html": [
       "<div>\n",
       "<style scoped>\n",
       "    .dataframe tbody tr th:only-of-type {\n",
       "        vertical-align: middle;\n",
       "    }\n",
       "\n",
       "    .dataframe tbody tr th {\n",
       "        vertical-align: top;\n",
       "    }\n",
       "\n",
       "    .dataframe thead th {\n",
       "        text-align: right;\n",
       "    }\n",
       "</style>\n",
       "<table border=\"1\" class=\"dataframe\">\n",
       "  <thead>\n",
       "    <tr style=\"text-align: right;\">\n",
       "      <th></th>\n",
       "      <th>user_id</th>\n",
       "      <th>month</th>\n",
       "      <th>tariff</th>\n",
       "      <th>count_of_calls</th>\n",
       "      <th>sum_of_duration</th>\n",
       "      <th>count_of_messages</th>\n",
       "      <th>count_of_gb</th>\n",
       "    </tr>\n",
       "  </thead>\n",
       "  <tbody>\n",
       "    <tr>\n",
       "      <th>0</th>\n",
       "      <td>1000</td>\n",
       "      <td>5</td>\n",
       "      <td>ultra</td>\n",
       "      <td>22.0</td>\n",
       "      <td>159.0</td>\n",
       "      <td>22.0</td>\n",
       "      <td>3.0</td>\n",
       "    </tr>\n",
       "    <tr>\n",
       "      <th>1</th>\n",
       "      <td>1000</td>\n",
       "      <td>6</td>\n",
       "      <td>ultra</td>\n",
       "      <td>43.0</td>\n",
       "      <td>172.0</td>\n",
       "      <td>60.0</td>\n",
       "      <td>23.0</td>\n",
       "    </tr>\n",
       "    <tr>\n",
       "      <th>2</th>\n",
       "      <td>1000</td>\n",
       "      <td>7</td>\n",
       "      <td>ultra</td>\n",
       "      <td>47.0</td>\n",
       "      <td>340.0</td>\n",
       "      <td>75.0</td>\n",
       "      <td>14.0</td>\n",
       "    </tr>\n",
       "    <tr>\n",
       "      <th>3</th>\n",
       "      <td>1000</td>\n",
       "      <td>8</td>\n",
       "      <td>ultra</td>\n",
       "      <td>52.0</td>\n",
       "      <td>408.0</td>\n",
       "      <td>81.0</td>\n",
       "      <td>14.0</td>\n",
       "    </tr>\n",
       "    <tr>\n",
       "      <th>4</th>\n",
       "      <td>1000</td>\n",
       "      <td>9</td>\n",
       "      <td>ultra</td>\n",
       "      <td>58.0</td>\n",
       "      <td>466.0</td>\n",
       "      <td>57.0</td>\n",
       "      <td>15.0</td>\n",
       "    </tr>\n",
       "    <tr>\n",
       "      <th>...</th>\n",
       "      <td>...</td>\n",
       "      <td>...</td>\n",
       "      <td>...</td>\n",
       "      <td>...</td>\n",
       "      <td>...</td>\n",
       "      <td>...</td>\n",
       "      <td>...</td>\n",
       "    </tr>\n",
       "    <tr>\n",
       "      <th>3169</th>\n",
       "      <td>1498</td>\n",
       "      <td>10</td>\n",
       "      <td>smart</td>\n",
       "      <td>41.0</td>\n",
       "      <td>247.0</td>\n",
       "      <td>42.0</td>\n",
       "      <td>21.0</td>\n",
       "    </tr>\n",
       "    <tr>\n",
       "      <th>3173</th>\n",
       "      <td>1499</td>\n",
       "      <td>12</td>\n",
       "      <td>smart</td>\n",
       "      <td>69.0</td>\n",
       "      <td>492.0</td>\n",
       "      <td>66.0</td>\n",
       "      <td>13.0</td>\n",
       "    </tr>\n",
       "    <tr>\n",
       "      <th>3170</th>\n",
       "      <td>1499</td>\n",
       "      <td>9</td>\n",
       "      <td>smart</td>\n",
       "      <td>9.0</td>\n",
       "      <td>70.0</td>\n",
       "      <td>11.0</td>\n",
       "      <td>2.0</td>\n",
       "    </tr>\n",
       "    <tr>\n",
       "      <th>3171</th>\n",
       "      <td>1499</td>\n",
       "      <td>10</td>\n",
       "      <td>smart</td>\n",
       "      <td>68.0</td>\n",
       "      <td>449.0</td>\n",
       "      <td>48.0</td>\n",
       "      <td>18.0</td>\n",
       "    </tr>\n",
       "    <tr>\n",
       "      <th>3172</th>\n",
       "      <td>1499</td>\n",
       "      <td>11</td>\n",
       "      <td>smart</td>\n",
       "      <td>74.0</td>\n",
       "      <td>612.0</td>\n",
       "      <td>59.0</td>\n",
       "      <td>18.0</td>\n",
       "    </tr>\n",
       "  </tbody>\n",
       "</table>\n",
       "<p>3214 rows × 7 columns</p>\n",
       "</div>"
      ],
      "text/plain": [
       "      user_id  month tariff  count_of_calls  sum_of_duration  \\\n",
       "0        1000      5  ultra            22.0            159.0   \n",
       "1        1000      6  ultra            43.0            172.0   \n",
       "2        1000      7  ultra            47.0            340.0   \n",
       "3        1000      8  ultra            52.0            408.0   \n",
       "4        1000      9  ultra            58.0            466.0   \n",
       "...       ...    ...    ...             ...              ...   \n",
       "3169     1498     10  smart            41.0            247.0   \n",
       "3173     1499     12  smart            69.0            492.0   \n",
       "3170     1499      9  smart             9.0             70.0   \n",
       "3171     1499     10  smart            68.0            449.0   \n",
       "3172     1499     11  smart            74.0            612.0   \n",
       "\n",
       "      count_of_messages  count_of_gb  \n",
       "0                  22.0          3.0  \n",
       "1                  60.0         23.0  \n",
       "2                  75.0         14.0  \n",
       "3                  81.0         14.0  \n",
       "4                  57.0         15.0  \n",
       "...                 ...          ...  \n",
       "3169               42.0         21.0  \n",
       "3173               66.0         13.0  \n",
       "3170               11.0          2.0  \n",
       "3171               48.0         18.0  \n",
       "3172               59.0         18.0  \n",
       "\n",
       "[3214 rows x 7 columns]"
      ]
     },
     "execution_count": 48,
     "metadata": {},
     "output_type": "execute_result"
    }
   ],
   "source": [
    "total_data = count_of_calls_per_months.merge(count_of_messages_per_months, on=['user_id', 'month'], how='outer') \\\n",
    ".merge(count_of_internet_per_months, on=['user_id', 'month'], how='outer').sort_values(by='user_id').drop(columns='count_of_mb')\n",
    "total_data"
   ]
  },
  {
   "cell_type": "code",
   "execution_count": 49,
   "metadata": {},
   "outputs": [
    {
     "data": {
      "text/html": [
       "<div>\n",
       "<style scoped>\n",
       "    .dataframe tbody tr th:only-of-type {\n",
       "        vertical-align: middle;\n",
       "    }\n",
       "\n",
       "    .dataframe tbody tr th {\n",
       "        vertical-align: top;\n",
       "    }\n",
       "\n",
       "    .dataframe thead th {\n",
       "        text-align: right;\n",
       "    }\n",
       "</style>\n",
       "<table border=\"1\" class=\"dataframe\">\n",
       "  <thead>\n",
       "    <tr style=\"text-align: right;\">\n",
       "      <th></th>\n",
       "      <th>user_id</th>\n",
       "      <th>month</th>\n",
       "      <th>count_of_mb</th>\n",
       "      <th>count_of_gb</th>\n",
       "      <th>count_of_messages</th>\n",
       "      <th>tariff</th>\n",
       "      <th>count_of_calls</th>\n",
       "      <th>sum_of_duration</th>\n",
       "    </tr>\n",
       "  </thead>\n",
       "  <tbody>\n",
       "    <tr>\n",
       "      <th>0</th>\n",
       "      <td>1000</td>\n",
       "      <td>5</td>\n",
       "      <td>2253.49</td>\n",
       "      <td>3.0</td>\n",
       "      <td>22.0</td>\n",
       "      <td>ultra</td>\n",
       "      <td>22.0</td>\n",
       "      <td>159.0</td>\n",
       "    </tr>\n",
       "    <tr>\n",
       "      <th>1</th>\n",
       "      <td>1000</td>\n",
       "      <td>6</td>\n",
       "      <td>23233.77</td>\n",
       "      <td>23.0</td>\n",
       "      <td>60.0</td>\n",
       "      <td>ultra</td>\n",
       "      <td>43.0</td>\n",
       "      <td>172.0</td>\n",
       "    </tr>\n",
       "    <tr>\n",
       "      <th>2</th>\n",
       "      <td>1000</td>\n",
       "      <td>7</td>\n",
       "      <td>14003.64</td>\n",
       "      <td>14.0</td>\n",
       "      <td>75.0</td>\n",
       "      <td>ultra</td>\n",
       "      <td>47.0</td>\n",
       "      <td>340.0</td>\n",
       "    </tr>\n",
       "    <tr>\n",
       "      <th>3</th>\n",
       "      <td>1000</td>\n",
       "      <td>8</td>\n",
       "      <td>14055.93</td>\n",
       "      <td>14.0</td>\n",
       "      <td>81.0</td>\n",
       "      <td>ultra</td>\n",
       "      <td>52.0</td>\n",
       "      <td>408.0</td>\n",
       "    </tr>\n",
       "    <tr>\n",
       "      <th>4</th>\n",
       "      <td>1000</td>\n",
       "      <td>9</td>\n",
       "      <td>14568.91</td>\n",
       "      <td>15.0</td>\n",
       "      <td>57.0</td>\n",
       "      <td>ultra</td>\n",
       "      <td>58.0</td>\n",
       "      <td>466.0</td>\n",
       "    </tr>\n",
       "    <tr>\n",
       "      <th>...</th>\n",
       "      <td>...</td>\n",
       "      <td>...</td>\n",
       "      <td>...</td>\n",
       "      <td>...</td>\n",
       "      <td>...</td>\n",
       "      <td>...</td>\n",
       "      <td>...</td>\n",
       "      <td>...</td>\n",
       "    </tr>\n",
       "    <tr>\n",
       "      <th>3195</th>\n",
       "      <td>1498</td>\n",
       "      <td>7</td>\n",
       "      <td>7476.24</td>\n",
       "      <td>8.0</td>\n",
       "      <td>20.0</td>\n",
       "      <td>smart</td>\n",
       "      <td>23.0</td>\n",
       "      <td>175.0</td>\n",
       "    </tr>\n",
       "    <tr>\n",
       "      <th>3200</th>\n",
       "      <td>1499</td>\n",
       "      <td>10</td>\n",
       "      <td>17788.51</td>\n",
       "      <td>18.0</td>\n",
       "      <td>48.0</td>\n",
       "      <td>smart</td>\n",
       "      <td>68.0</td>\n",
       "      <td>449.0</td>\n",
       "    </tr>\n",
       "    <tr>\n",
       "      <th>3199</th>\n",
       "      <td>1499</td>\n",
       "      <td>9</td>\n",
       "      <td>1845.75</td>\n",
       "      <td>2.0</td>\n",
       "      <td>11.0</td>\n",
       "      <td>smart</td>\n",
       "      <td>9.0</td>\n",
       "      <td>70.0</td>\n",
       "    </tr>\n",
       "    <tr>\n",
       "      <th>3201</th>\n",
       "      <td>1499</td>\n",
       "      <td>11</td>\n",
       "      <td>17963.31</td>\n",
       "      <td>18.0</td>\n",
       "      <td>59.0</td>\n",
       "      <td>smart</td>\n",
       "      <td>74.0</td>\n",
       "      <td>612.0</td>\n",
       "    </tr>\n",
       "    <tr>\n",
       "      <th>3202</th>\n",
       "      <td>1499</td>\n",
       "      <td>12</td>\n",
       "      <td>13055.58</td>\n",
       "      <td>13.0</td>\n",
       "      <td>66.0</td>\n",
       "      <td>smart</td>\n",
       "      <td>69.0</td>\n",
       "      <td>492.0</td>\n",
       "    </tr>\n",
       "  </tbody>\n",
       "</table>\n",
       "<p>3214 rows × 8 columns</p>\n",
       "</div>"
      ],
      "text/plain": [
       "      user_id  month  count_of_mb  count_of_gb  count_of_messages tariff  \\\n",
       "0        1000      5      2253.49          3.0               22.0  ultra   \n",
       "1        1000      6     23233.77         23.0               60.0  ultra   \n",
       "2        1000      7     14003.64         14.0               75.0  ultra   \n",
       "3        1000      8     14055.93         14.0               81.0  ultra   \n",
       "4        1000      9     14568.91         15.0               57.0  ultra   \n",
       "...       ...    ...          ...          ...                ...    ...   \n",
       "3195     1498      7      7476.24          8.0               20.0  smart   \n",
       "3200     1499     10     17788.51         18.0               48.0  smart   \n",
       "3199     1499      9      1845.75          2.0               11.0  smart   \n",
       "3201     1499     11     17963.31         18.0               59.0  smart   \n",
       "3202     1499     12     13055.58         13.0               66.0  smart   \n",
       "\n",
       "      count_of_calls  sum_of_duration  \n",
       "0               22.0            159.0  \n",
       "1               43.0            172.0  \n",
       "2               47.0            340.0  \n",
       "3               52.0            408.0  \n",
       "4               58.0            466.0  \n",
       "...              ...              ...  \n",
       "3195            23.0            175.0  \n",
       "3200            68.0            449.0  \n",
       "3199             9.0             70.0  \n",
       "3201            74.0            612.0  \n",
       "3202            69.0            492.0  \n",
       "\n",
       "[3214 rows x 8 columns]"
      ]
     },
     "execution_count": 49,
     "metadata": {},
     "output_type": "execute_result"
    }
   ],
   "source": [
    "from functools import reduce\n",
    "data_frames = [count_of_internet_per_months, count_of_messages_per_months, count_of_calls_per_months]\n",
    "reduce(lambda  left,right: pd.merge(left,right,on=['user_id', 'month'],\n",
    "                                            how='outer'), data_frames).sort_values(by='user_id')"
   ]
  },
  {
   "cell_type": "markdown",
   "metadata": {},
   "source": [
    "Переименуем результирующую таблицу в `total_data`"
   ]
  },
  {
   "cell_type": "code",
   "execution_count": 50,
   "metadata": {
    "scrolled": true
   },
   "outputs": [
    {
     "data": {
      "text/html": [
       "<div>\n",
       "<style scoped>\n",
       "    .dataframe tbody tr th:only-of-type {\n",
       "        vertical-align: middle;\n",
       "    }\n",
       "\n",
       "    .dataframe tbody tr th {\n",
       "        vertical-align: top;\n",
       "    }\n",
       "\n",
       "    .dataframe thead th {\n",
       "        text-align: right;\n",
       "    }\n",
       "</style>\n",
       "<table border=\"1\" class=\"dataframe\">\n",
       "  <thead>\n",
       "    <tr style=\"text-align: right;\">\n",
       "      <th></th>\n",
       "      <th>messages_included</th>\n",
       "      <th>mb_per_month_included</th>\n",
       "      <th>minutes_included</th>\n",
       "      <th>rub_monthly_fee</th>\n",
       "      <th>rub_per_gb</th>\n",
       "      <th>rub_per_message</th>\n",
       "      <th>rub_per_minute</th>\n",
       "      <th>tariff_name</th>\n",
       "      <th>gb_per_month_included</th>\n",
       "    </tr>\n",
       "  </thead>\n",
       "  <tbody>\n",
       "    <tr>\n",
       "      <th>0</th>\n",
       "      <td>50</td>\n",
       "      <td>15360</td>\n",
       "      <td>500</td>\n",
       "      <td>550</td>\n",
       "      <td>200</td>\n",
       "      <td>3</td>\n",
       "      <td>3</td>\n",
       "      <td>smart</td>\n",
       "      <td>15.0</td>\n",
       "    </tr>\n",
       "    <tr>\n",
       "      <th>1</th>\n",
       "      <td>1000</td>\n",
       "      <td>30720</td>\n",
       "      <td>3000</td>\n",
       "      <td>1950</td>\n",
       "      <td>150</td>\n",
       "      <td>1</td>\n",
       "      <td>1</td>\n",
       "      <td>ultra</td>\n",
       "      <td>30.0</td>\n",
       "    </tr>\n",
       "  </tbody>\n",
       "</table>\n",
       "</div>"
      ],
      "text/plain": [
       "   messages_included  mb_per_month_included  minutes_included  \\\n",
       "0                 50                  15360               500   \n",
       "1               1000                  30720              3000   \n",
       "\n",
       "   rub_monthly_fee  rub_per_gb  rub_per_message  rub_per_minute tariff_name  \\\n",
       "0              550         200                3               3       smart   \n",
       "1             1950         150                1               1       ultra   \n",
       "\n",
       "   gb_per_month_included  \n",
       "0                   15.0  \n",
       "1                   30.0  "
      ]
     },
     "execution_count": 50,
     "metadata": {},
     "output_type": "execute_result"
    }
   ],
   "source": [
    "tariffs['gb_per_month_included'] = tariffs['mb_per_month_included']/1024\n",
    "tariffs"
   ]
  },
  {
   "cell_type": "markdown",
   "metadata": {},
   "source": [
    "Создадим функцию которая будет высчитывать помесячную выручку с каждого пользователя в зависимости от тарифа"
   ]
  },
  {
   "cell_type": "code",
   "execution_count": 51,
   "metadata": {},
   "outputs": [],
   "source": [
    "def payment(row): # Объявление функции \n",
    "    \n",
    "    tariff = row['tariff'] # Объявление переменных\n",
    "    sum_of_duration = row['sum_of_duration']\n",
    "    count_of_messages = row['count_of_messages']\n",
    "    count_of_gb  = row['count_of_gb']\n",
    "    \n",
    "    rate_for_ultra_calls = 1 # Коэффициенты добавочной стоимости для тарифа ULTRA\n",
    "    rate_for_ultra_message = 1 \n",
    "    rate_for_ultra_internet = 150\n",
    "    \n",
    "    rate_for_smart_calls = 3 # Коэффициенты добавочной стоимости для тарифа SMART\n",
    "    rate_for_smart_message = 3\n",
    "    rate_for_smart_internet = 200\n",
    "    \n",
    "    ultra_additional_payment_for_calls = 0\n",
    "    ultra_additional_payment_for_message = 0\n",
    "    ultra_additional_payment_for_internet = 0\n",
    "    \n",
    "    smart_additional_payment_for_calls = 0\n",
    "    smart_additional_payment_for_message = 0\n",
    "    smart_additional_payment_for_internet = 0\n",
    "    \n",
    "    if tariff == 'ultra': # Условие к какому тарифу принадлежит пользователь\n",
    "        \n",
    "        if sum_of_duration > tariffs.loc[1,'minutes_included']:\n",
    "            ultra_additional_payment_for_calls = (sum_of_duration - tariffs.loc[1,'minutes_included'])*rate_for_ultra_calls\n",
    "\n",
    "        if count_of_messages > tariffs.loc[1,'messages_included']:\n",
    "            ultra_additional_payment_for_message = (count_of_messages - tariffs.loc[1,'messages_included'])*rate_for_ultra_message\n",
    "        \n",
    "        if count_of_gb > tariffs.loc[1,'gb_per_month_included']:\n",
    "            ultra_additional_payment_for_internet = (count_of_gb - tariffs.loc[1,'gb_per_month_included'])*rate_for_ultra_internet\n",
    "            \n",
    "        # Условия суммирования дополнительной платы к абонентской\n",
    "    \n",
    "        if sum_of_duration <= tariffs.loc[1,'minutes_included'] and count_of_messages <= tariffs.loc[1,'messages_included'] and count_of_gb <= tariffs.loc[1,'gb_per_month_included']:\n",
    "            return tariffs.loc[1,'rub_monthly_fee']  \n",
    "        else:\n",
    "            return (tariffs.loc[1,'rub_monthly_fee'] + ultra_additional_payment_for_calls + ultra_additional_payment_for_message + ultra_additional_payment_for_internet)\n",
    "        \n",
    "    if tariff == 'smart': # Условие к какому тарифу принадлежит пользователь\n",
    "        \n",
    "        if  sum_of_duration > tariffs.loc[0,'minutes_included']:\n",
    "            smart_additional_payment_for_calls = (sum_of_duration-tariffs.loc[0,'minutes_included'])*rate_for_smart_calls\n",
    "\n",
    "        if count_of_messages > tariffs.loc[0,'messages_included']:\n",
    "            smart_additional_payment_for_message = (count_of_messages - tariffs.loc[0,'messages_included'])*rate_for_smart_message\n",
    "        \n",
    "        if count_of_gb > tariffs.loc[0,'gb_per_month_included']:\n",
    "            smart_additional_payment_for_internet = (count_of_gb - tariffs.loc[0,'gb_per_month_included'])*rate_for_smart_internet  \n",
    "            \n",
    "         # Условия суммирования дополнительной платы к абонентской\n",
    "        \n",
    "        if sum_of_duration <= tariffs.loc[0,'minutes_included'] and count_of_messages <= tariffs.loc[0,'messages_included'] and count_of_gb <= tariffs.loc[0,'gb_per_month_included']:\n",
    "            return tariffs.loc[0,'rub_monthly_fee']\n",
    "        else:\n",
    "            return (tariffs.loc[0,'rub_monthly_fee'] + smart_additional_payment_for_calls + smart_additional_payment_for_message + smart_additional_payment_for_internet)\n",
    "    \n",
    "\n",
    "total_data['payment_for_month'] = total_data.apply(payment, axis=1) # Применение метода apply ко всем строкам датасета"
   ]
  },
  {
   "cell_type": "markdown",
   "metadata": {},
   "source": [
    "Выведим на экран итоговую таблицу"
   ]
  },
  {
   "cell_type": "code",
   "execution_count": 52,
   "metadata": {},
   "outputs": [
    {
     "data": {
      "text/html": [
       "<div>\n",
       "<style scoped>\n",
       "    .dataframe tbody tr th:only-of-type {\n",
       "        vertical-align: middle;\n",
       "    }\n",
       "\n",
       "    .dataframe tbody tr th {\n",
       "        vertical-align: top;\n",
       "    }\n",
       "\n",
       "    .dataframe thead th {\n",
       "        text-align: right;\n",
       "    }\n",
       "</style>\n",
       "<table border=\"1\" class=\"dataframe\">\n",
       "  <thead>\n",
       "    <tr style=\"text-align: right;\">\n",
       "      <th></th>\n",
       "      <th>user_id</th>\n",
       "      <th>month</th>\n",
       "      <th>tariff</th>\n",
       "      <th>count_of_calls</th>\n",
       "      <th>sum_of_duration</th>\n",
       "      <th>count_of_messages</th>\n",
       "      <th>count_of_gb</th>\n",
       "      <th>payment_for_month</th>\n",
       "    </tr>\n",
       "  </thead>\n",
       "  <tbody>\n",
       "    <tr>\n",
       "      <th>0</th>\n",
       "      <td>1000</td>\n",
       "      <td>5</td>\n",
       "      <td>ultra</td>\n",
       "      <td>22.0</td>\n",
       "      <td>159.0</td>\n",
       "      <td>22.0</td>\n",
       "      <td>3.0</td>\n",
       "      <td>1950.0</td>\n",
       "    </tr>\n",
       "    <tr>\n",
       "      <th>1</th>\n",
       "      <td>1000</td>\n",
       "      <td>6</td>\n",
       "      <td>ultra</td>\n",
       "      <td>43.0</td>\n",
       "      <td>172.0</td>\n",
       "      <td>60.0</td>\n",
       "      <td>23.0</td>\n",
       "      <td>1950.0</td>\n",
       "    </tr>\n",
       "    <tr>\n",
       "      <th>2</th>\n",
       "      <td>1000</td>\n",
       "      <td>7</td>\n",
       "      <td>ultra</td>\n",
       "      <td>47.0</td>\n",
       "      <td>340.0</td>\n",
       "      <td>75.0</td>\n",
       "      <td>14.0</td>\n",
       "      <td>1950.0</td>\n",
       "    </tr>\n",
       "    <tr>\n",
       "      <th>3</th>\n",
       "      <td>1000</td>\n",
       "      <td>8</td>\n",
       "      <td>ultra</td>\n",
       "      <td>52.0</td>\n",
       "      <td>408.0</td>\n",
       "      <td>81.0</td>\n",
       "      <td>14.0</td>\n",
       "      <td>1950.0</td>\n",
       "    </tr>\n",
       "    <tr>\n",
       "      <th>4</th>\n",
       "      <td>1000</td>\n",
       "      <td>9</td>\n",
       "      <td>ultra</td>\n",
       "      <td>58.0</td>\n",
       "      <td>466.0</td>\n",
       "      <td>57.0</td>\n",
       "      <td>15.0</td>\n",
       "      <td>1950.0</td>\n",
       "    </tr>\n",
       "    <tr>\n",
       "      <th>...</th>\n",
       "      <td>...</td>\n",
       "      <td>...</td>\n",
       "      <td>...</td>\n",
       "      <td>...</td>\n",
       "      <td>...</td>\n",
       "      <td>...</td>\n",
       "      <td>...</td>\n",
       "      <td>...</td>\n",
       "    </tr>\n",
       "    <tr>\n",
       "      <th>3169</th>\n",
       "      <td>1498</td>\n",
       "      <td>10</td>\n",
       "      <td>smart</td>\n",
       "      <td>41.0</td>\n",
       "      <td>247.0</td>\n",
       "      <td>42.0</td>\n",
       "      <td>21.0</td>\n",
       "      <td>1750.0</td>\n",
       "    </tr>\n",
       "    <tr>\n",
       "      <th>3173</th>\n",
       "      <td>1499</td>\n",
       "      <td>12</td>\n",
       "      <td>smart</td>\n",
       "      <td>69.0</td>\n",
       "      <td>492.0</td>\n",
       "      <td>66.0</td>\n",
       "      <td>13.0</td>\n",
       "      <td>598.0</td>\n",
       "    </tr>\n",
       "    <tr>\n",
       "      <th>3170</th>\n",
       "      <td>1499</td>\n",
       "      <td>9</td>\n",
       "      <td>smart</td>\n",
       "      <td>9.0</td>\n",
       "      <td>70.0</td>\n",
       "      <td>11.0</td>\n",
       "      <td>2.0</td>\n",
       "      <td>550.0</td>\n",
       "    </tr>\n",
       "    <tr>\n",
       "      <th>3171</th>\n",
       "      <td>1499</td>\n",
       "      <td>10</td>\n",
       "      <td>smart</td>\n",
       "      <td>68.0</td>\n",
       "      <td>449.0</td>\n",
       "      <td>48.0</td>\n",
       "      <td>18.0</td>\n",
       "      <td>1150.0</td>\n",
       "    </tr>\n",
       "    <tr>\n",
       "      <th>3172</th>\n",
       "      <td>1499</td>\n",
       "      <td>11</td>\n",
       "      <td>smart</td>\n",
       "      <td>74.0</td>\n",
       "      <td>612.0</td>\n",
       "      <td>59.0</td>\n",
       "      <td>18.0</td>\n",
       "      <td>1513.0</td>\n",
       "    </tr>\n",
       "  </tbody>\n",
       "</table>\n",
       "<p>3214 rows × 8 columns</p>\n",
       "</div>"
      ],
      "text/plain": [
       "      user_id  month tariff  count_of_calls  sum_of_duration  \\\n",
       "0        1000      5  ultra            22.0            159.0   \n",
       "1        1000      6  ultra            43.0            172.0   \n",
       "2        1000      7  ultra            47.0            340.0   \n",
       "3        1000      8  ultra            52.0            408.0   \n",
       "4        1000      9  ultra            58.0            466.0   \n",
       "...       ...    ...    ...             ...              ...   \n",
       "3169     1498     10  smart            41.0            247.0   \n",
       "3173     1499     12  smart            69.0            492.0   \n",
       "3170     1499      9  smart             9.0             70.0   \n",
       "3171     1499     10  smart            68.0            449.0   \n",
       "3172     1499     11  smart            74.0            612.0   \n",
       "\n",
       "      count_of_messages  count_of_gb  payment_for_month  \n",
       "0                  22.0          3.0             1950.0  \n",
       "1                  60.0         23.0             1950.0  \n",
       "2                  75.0         14.0             1950.0  \n",
       "3                  81.0         14.0             1950.0  \n",
       "4                  57.0         15.0             1950.0  \n",
       "...                 ...          ...                ...  \n",
       "3169               42.0         21.0             1750.0  \n",
       "3173               66.0         13.0              598.0  \n",
       "3170               11.0          2.0              550.0  \n",
       "3171               48.0         18.0             1150.0  \n",
       "3172               59.0         18.0             1513.0  \n",
       "\n",
       "[3214 rows x 8 columns]"
      ]
     },
     "execution_count": 52,
     "metadata": {},
     "output_type": "execute_result"
    }
   ],
   "source": [
    "total_data # Вывод таблица на экран"
   ]
  },
  {
   "cell_type": "markdown",
   "metadata": {},
   "source": [
    "### Вывод"
   ]
  },
  {
   "cell_type": "markdown",
   "metadata": {},
   "source": [
    "В ходе предобработки данных во всех таблицах были заменены типы данных в столбцах, которые отображают дату. \n",
    "\n",
    "Были проанализированны пропуски в столбце `churn_date` (датасет`users`) и `duration` (датасет `calls`).\n",
    "\n",
    "По итогу, было создана отдельная обобщающая таблица, которая для каждого пользователя по каждому месяцу включает в себя следующие параметры:\n",
    "\n",
    "- **tariff** - тип тарифа для пользователя\n",
    "- **count_of_calls** - количество звонков\n",
    "- **sum_of_duration** - количество израсходованных минут\n",
    "- **count_of_messages** - количество сообщений\n",
    "- **count_of_gb** - количество потраченных Гб\n",
    "- **payment_for_month** - итоговый столбец, который отражает помесячную выручку с каждого пользователя\n"
   ]
  },
  {
   "cell_type": "markdown",
   "metadata": {},
   "source": [
    "## Исследовательский анализ данных"
   ]
  },
  {
   "cell_type": "markdown",
   "metadata": {},
   "source": [
    "Для сравнительного анализа тарифов `smart` и `ultra` разобьём обобщающий датасет `total_data` на пользователей, которые используют эти два тарифа"
   ]
  },
  {
   "cell_type": "code",
   "execution_count": 53,
   "metadata": {},
   "outputs": [],
   "source": [
    "data_smart = total_data[total_data['tariff'] == 'smart'] # Логическая индексация \n",
    "data_ultra = total_data[total_data['tariff'] == 'ultra']"
   ]
  },
  {
   "cell_type": "markdown",
   "metadata": {},
   "source": [
    "Выведим полученный результат на экран"
   ]
  },
  {
   "cell_type": "code",
   "execution_count": 54,
   "metadata": {},
   "outputs": [
    {
     "data": {
      "text/html": [
       "<div>\n",
       "<style scoped>\n",
       "    .dataframe tbody tr th:only-of-type {\n",
       "        vertical-align: middle;\n",
       "    }\n",
       "\n",
       "    .dataframe tbody tr th {\n",
       "        vertical-align: top;\n",
       "    }\n",
       "\n",
       "    .dataframe thead th {\n",
       "        text-align: right;\n",
       "    }\n",
       "</style>\n",
       "<table border=\"1\" class=\"dataframe\">\n",
       "  <thead>\n",
       "    <tr style=\"text-align: right;\">\n",
       "      <th></th>\n",
       "      <th>user_id</th>\n",
       "      <th>month</th>\n",
       "      <th>tariff</th>\n",
       "      <th>count_of_calls</th>\n",
       "      <th>sum_of_duration</th>\n",
       "      <th>count_of_messages</th>\n",
       "      <th>count_of_gb</th>\n",
       "      <th>payment_for_month</th>\n",
       "    </tr>\n",
       "  </thead>\n",
       "  <tbody>\n",
       "    <tr>\n",
       "      <th>9</th>\n",
       "      <td>1001</td>\n",
       "      <td>12</td>\n",
       "      <td>smart</td>\n",
       "      <td>63.0</td>\n",
       "      <td>414.0</td>\n",
       "      <td>NaN</td>\n",
       "      <td>14.0</td>\n",
       "      <td>550.0</td>\n",
       "    </tr>\n",
       "    <tr>\n",
       "      <th>8</th>\n",
       "      <td>1001</td>\n",
       "      <td>11</td>\n",
       "      <td>smart</td>\n",
       "      <td>59.0</td>\n",
       "      <td>430.0</td>\n",
       "      <td>NaN</td>\n",
       "      <td>18.0</td>\n",
       "      <td>1150.0</td>\n",
       "    </tr>\n",
       "    <tr>\n",
       "      <th>10</th>\n",
       "      <td>1002</td>\n",
       "      <td>6</td>\n",
       "      <td>smart</td>\n",
       "      <td>15.0</td>\n",
       "      <td>117.0</td>\n",
       "      <td>4.0</td>\n",
       "      <td>11.0</td>\n",
       "      <td>550.0</td>\n",
       "    </tr>\n",
       "    <tr>\n",
       "      <th>11</th>\n",
       "      <td>1002</td>\n",
       "      <td>7</td>\n",
       "      <td>smart</td>\n",
       "      <td>26.0</td>\n",
       "      <td>214.0</td>\n",
       "      <td>11.0</td>\n",
       "      <td>18.0</td>\n",
       "      <td>1150.0</td>\n",
       "    </tr>\n",
       "    <tr>\n",
       "      <th>12</th>\n",
       "      <td>1002</td>\n",
       "      <td>8</td>\n",
       "      <td>smart</td>\n",
       "      <td>42.0</td>\n",
       "      <td>289.0</td>\n",
       "      <td>13.0</td>\n",
       "      <td>20.0</td>\n",
       "      <td>1550.0</td>\n",
       "    </tr>\n",
       "    <tr>\n",
       "      <th>...</th>\n",
       "      <td>...</td>\n",
       "      <td>...</td>\n",
       "      <td>...</td>\n",
       "      <td>...</td>\n",
       "      <td>...</td>\n",
       "      <td>...</td>\n",
       "      <td>...</td>\n",
       "      <td>...</td>\n",
       "    </tr>\n",
       "    <tr>\n",
       "      <th>3169</th>\n",
       "      <td>1498</td>\n",
       "      <td>10</td>\n",
       "      <td>smart</td>\n",
       "      <td>41.0</td>\n",
       "      <td>247.0</td>\n",
       "      <td>42.0</td>\n",
       "      <td>21.0</td>\n",
       "      <td>1750.0</td>\n",
       "    </tr>\n",
       "    <tr>\n",
       "      <th>3173</th>\n",
       "      <td>1499</td>\n",
       "      <td>12</td>\n",
       "      <td>smart</td>\n",
       "      <td>69.0</td>\n",
       "      <td>492.0</td>\n",
       "      <td>66.0</td>\n",
       "      <td>13.0</td>\n",
       "      <td>598.0</td>\n",
       "    </tr>\n",
       "    <tr>\n",
       "      <th>3170</th>\n",
       "      <td>1499</td>\n",
       "      <td>9</td>\n",
       "      <td>smart</td>\n",
       "      <td>9.0</td>\n",
       "      <td>70.0</td>\n",
       "      <td>11.0</td>\n",
       "      <td>2.0</td>\n",
       "      <td>550.0</td>\n",
       "    </tr>\n",
       "    <tr>\n",
       "      <th>3171</th>\n",
       "      <td>1499</td>\n",
       "      <td>10</td>\n",
       "      <td>smart</td>\n",
       "      <td>68.0</td>\n",
       "      <td>449.0</td>\n",
       "      <td>48.0</td>\n",
       "      <td>18.0</td>\n",
       "      <td>1150.0</td>\n",
       "    </tr>\n",
       "    <tr>\n",
       "      <th>3172</th>\n",
       "      <td>1499</td>\n",
       "      <td>11</td>\n",
       "      <td>smart</td>\n",
       "      <td>74.0</td>\n",
       "      <td>612.0</td>\n",
       "      <td>59.0</td>\n",
       "      <td>18.0</td>\n",
       "      <td>1513.0</td>\n",
       "    </tr>\n",
       "  </tbody>\n",
       "</table>\n",
       "<p>2223 rows × 8 columns</p>\n",
       "</div>"
      ],
      "text/plain": [
       "      user_id  month tariff  count_of_calls  sum_of_duration  \\\n",
       "9        1001     12  smart            63.0            414.0   \n",
       "8        1001     11  smart            59.0            430.0   \n",
       "10       1002      6  smart            15.0            117.0   \n",
       "11       1002      7  smart            26.0            214.0   \n",
       "12       1002      8  smart            42.0            289.0   \n",
       "...       ...    ...    ...             ...              ...   \n",
       "3169     1498     10  smart            41.0            247.0   \n",
       "3173     1499     12  smart            69.0            492.0   \n",
       "3170     1499      9  smart             9.0             70.0   \n",
       "3171     1499     10  smart            68.0            449.0   \n",
       "3172     1499     11  smart            74.0            612.0   \n",
       "\n",
       "      count_of_messages  count_of_gb  payment_for_month  \n",
       "9                   NaN         14.0              550.0  \n",
       "8                   NaN         18.0             1150.0  \n",
       "10                  4.0         11.0              550.0  \n",
       "11                 11.0         18.0             1150.0  \n",
       "12                 13.0         20.0             1550.0  \n",
       "...                 ...          ...                ...  \n",
       "3169               42.0         21.0             1750.0  \n",
       "3173               66.0         13.0              598.0  \n",
       "3170               11.0          2.0              550.0  \n",
       "3171               48.0         18.0             1150.0  \n",
       "3172               59.0         18.0             1513.0  \n",
       "\n",
       "[2223 rows x 8 columns]"
      ]
     },
     "execution_count": 54,
     "metadata": {},
     "output_type": "execute_result"
    }
   ],
   "source": [
    "data_smart # Выведим датасет на экран"
   ]
  },
  {
   "cell_type": "code",
   "execution_count": 55,
   "metadata": {
    "scrolled": true
   },
   "outputs": [
    {
     "data": {
      "text/html": [
       "<div>\n",
       "<style scoped>\n",
       "    .dataframe tbody tr th:only-of-type {\n",
       "        vertical-align: middle;\n",
       "    }\n",
       "\n",
       "    .dataframe tbody tr th {\n",
       "        vertical-align: top;\n",
       "    }\n",
       "\n",
       "    .dataframe thead th {\n",
       "        text-align: right;\n",
       "    }\n",
       "</style>\n",
       "<table border=\"1\" class=\"dataframe\">\n",
       "  <thead>\n",
       "    <tr style=\"text-align: right;\">\n",
       "      <th></th>\n",
       "      <th>user_id</th>\n",
       "      <th>month</th>\n",
       "      <th>tariff</th>\n",
       "      <th>count_of_calls</th>\n",
       "      <th>sum_of_duration</th>\n",
       "      <th>count_of_messages</th>\n",
       "      <th>count_of_gb</th>\n",
       "      <th>payment_for_month</th>\n",
       "    </tr>\n",
       "  </thead>\n",
       "  <tbody>\n",
       "    <tr>\n",
       "      <th>0</th>\n",
       "      <td>1000</td>\n",
       "      <td>5</td>\n",
       "      <td>ultra</td>\n",
       "      <td>22.0</td>\n",
       "      <td>159.0</td>\n",
       "      <td>22.0</td>\n",
       "      <td>3.0</td>\n",
       "      <td>1950.0</td>\n",
       "    </tr>\n",
       "    <tr>\n",
       "      <th>1</th>\n",
       "      <td>1000</td>\n",
       "      <td>6</td>\n",
       "      <td>ultra</td>\n",
       "      <td>43.0</td>\n",
       "      <td>172.0</td>\n",
       "      <td>60.0</td>\n",
       "      <td>23.0</td>\n",
       "      <td>1950.0</td>\n",
       "    </tr>\n",
       "    <tr>\n",
       "      <th>2</th>\n",
       "      <td>1000</td>\n",
       "      <td>7</td>\n",
       "      <td>ultra</td>\n",
       "      <td>47.0</td>\n",
       "      <td>340.0</td>\n",
       "      <td>75.0</td>\n",
       "      <td>14.0</td>\n",
       "      <td>1950.0</td>\n",
       "    </tr>\n",
       "    <tr>\n",
       "      <th>3</th>\n",
       "      <td>1000</td>\n",
       "      <td>8</td>\n",
       "      <td>ultra</td>\n",
       "      <td>52.0</td>\n",
       "      <td>408.0</td>\n",
       "      <td>81.0</td>\n",
       "      <td>14.0</td>\n",
       "      <td>1950.0</td>\n",
       "    </tr>\n",
       "    <tr>\n",
       "      <th>4</th>\n",
       "      <td>1000</td>\n",
       "      <td>9</td>\n",
       "      <td>ultra</td>\n",
       "      <td>58.0</td>\n",
       "      <td>466.0</td>\n",
       "      <td>57.0</td>\n",
       "      <td>15.0</td>\n",
       "      <td>1950.0</td>\n",
       "    </tr>\n",
       "    <tr>\n",
       "      <th>...</th>\n",
       "      <td>...</td>\n",
       "      <td>...</td>\n",
       "      <td>...</td>\n",
       "      <td>...</td>\n",
       "      <td>...</td>\n",
       "      <td>...</td>\n",
       "      <td>...</td>\n",
       "      <td>...</td>\n",
       "    </tr>\n",
       "    <tr>\n",
       "      <th>3146</th>\n",
       "      <td>1495</td>\n",
       "      <td>8</td>\n",
       "      <td>ultra</td>\n",
       "      <td>17.0</td>\n",
       "      <td>92.0</td>\n",
       "      <td>13.0</td>\n",
       "      <td>3.0</td>\n",
       "      <td>1950.0</td>\n",
       "    </tr>\n",
       "    <tr>\n",
       "      <th>3147</th>\n",
       "      <td>1495</td>\n",
       "      <td>9</td>\n",
       "      <td>ultra</td>\n",
       "      <td>112.0</td>\n",
       "      <td>813.0</td>\n",
       "      <td>82.0</td>\n",
       "      <td>33.0</td>\n",
       "      <td>2400.0</td>\n",
       "    </tr>\n",
       "    <tr>\n",
       "      <th>3148</th>\n",
       "      <td>1495</td>\n",
       "      <td>10</td>\n",
       "      <td>ultra</td>\n",
       "      <td>152.0</td>\n",
       "      <td>1030.0</td>\n",
       "      <td>82.0</td>\n",
       "      <td>29.0</td>\n",
       "      <td>1950.0</td>\n",
       "    </tr>\n",
       "    <tr>\n",
       "      <th>3149</th>\n",
       "      <td>1495</td>\n",
       "      <td>11</td>\n",
       "      <td>ultra</td>\n",
       "      <td>129.0</td>\n",
       "      <td>954.0</td>\n",
       "      <td>79.0</td>\n",
       "      <td>39.0</td>\n",
       "      <td>3300.0</td>\n",
       "    </tr>\n",
       "    <tr>\n",
       "      <th>3150</th>\n",
       "      <td>1495</td>\n",
       "      <td>12</td>\n",
       "      <td>ultra</td>\n",
       "      <td>155.0</td>\n",
       "      <td>1031.0</td>\n",
       "      <td>84.0</td>\n",
       "      <td>23.0</td>\n",
       "      <td>1950.0</td>\n",
       "    </tr>\n",
       "  </tbody>\n",
       "</table>\n",
       "<p>951 rows × 8 columns</p>\n",
       "</div>"
      ],
      "text/plain": [
       "      user_id  month tariff  count_of_calls  sum_of_duration  \\\n",
       "0        1000      5  ultra            22.0            159.0   \n",
       "1        1000      6  ultra            43.0            172.0   \n",
       "2        1000      7  ultra            47.0            340.0   \n",
       "3        1000      8  ultra            52.0            408.0   \n",
       "4        1000      9  ultra            58.0            466.0   \n",
       "...       ...    ...    ...             ...              ...   \n",
       "3146     1495      8  ultra            17.0             92.0   \n",
       "3147     1495      9  ultra           112.0            813.0   \n",
       "3148     1495     10  ultra           152.0           1030.0   \n",
       "3149     1495     11  ultra           129.0            954.0   \n",
       "3150     1495     12  ultra           155.0           1031.0   \n",
       "\n",
       "      count_of_messages  count_of_gb  payment_for_month  \n",
       "0                  22.0          3.0             1950.0  \n",
       "1                  60.0         23.0             1950.0  \n",
       "2                  75.0         14.0             1950.0  \n",
       "3                  81.0         14.0             1950.0  \n",
       "4                  57.0         15.0             1950.0  \n",
       "...                 ...          ...                ...  \n",
       "3146               13.0          3.0             1950.0  \n",
       "3147               82.0         33.0             2400.0  \n",
       "3148               82.0         29.0             1950.0  \n",
       "3149               79.0         39.0             3300.0  \n",
       "3150               84.0         23.0             1950.0  \n",
       "\n",
       "[951 rows x 8 columns]"
      ]
     },
     "execution_count": 55,
     "metadata": {},
     "output_type": "execute_result"
    }
   ],
   "source": [
    "data_ultra # Выведим датасет на экран"
   ]
  },
  {
   "cell_type": "markdown",
   "metadata": {},
   "source": [
    "Примем во внимание тот факт, что пользователей с тарифом `smart` примерно в 2.3 раза больше, чем пользователей тарифа `Ultra` "
   ]
  },
  {
   "cell_type": "markdown",
   "metadata": {},
   "source": [
    "Для каждого тарифа посчитаем среднее количество минут разговора и построим гистограмму"
   ]
  },
  {
   "cell_type": "code",
   "execution_count": 56,
   "metadata": {},
   "outputs": [
    {
     "data": {
      "text/plain": [
       "count    2223.000000\n",
       "mean      419.062978\n",
       "std       189.325618\n",
       "min         0.000000\n",
       "25%       285.000000\n",
       "50%       423.000000\n",
       "75%       545.500000\n",
       "max      1435.000000\n",
       "Name: sum_of_duration, dtype: float64"
      ]
     },
     "execution_count": 56,
     "metadata": {},
     "output_type": "execute_result"
    }
   ],
   "source": [
    "data_smart['sum_of_duration'].describe() # Описание основных характеристик столбца"
   ]
  },
  {
   "cell_type": "code",
   "execution_count": 57,
   "metadata": {},
   "outputs": [
    {
     "data": {
      "text/plain": [
       "count     951.000000\n",
       "mean      545.451104\n",
       "std       306.925754\n",
       "min         0.000000\n",
       "25%       310.000000\n",
       "50%       528.000000\n",
       "75%       756.500000\n",
       "max      1673.000000\n",
       "Name: sum_of_duration, dtype: float64"
      ]
     },
     "execution_count": 57,
     "metadata": {},
     "output_type": "execute_result"
    }
   ],
   "source": [
    "data_ultra['sum_of_duration'].describe() # Описание основных характеристик столбца"
   ]
  },
  {
   "cell_type": "code",
   "execution_count": 58,
   "metadata": {
    "scrolled": false
   },
   "outputs": [
    {
     "data": {
      "image/png": "[encoded data removed]",
      "text/plain": [
       "<Figure size 720x504 with 2 Axes>"
      ]
     },
     "metadata": {
      "needs_background": "light"
     },
     "output_type": "display_data"
    }
   ],
   "source": [
    "fig, axs = plt.subplots(1, 2, figsize=(10,7)) # Построение гистограмм\n",
    "axs[0].hist(data_ultra['sum_of_duration'])\n",
    "axs[0].set_title('Кол-во минут для тарифа \"Ultra\"')\n",
    "axs[1].hist(data_smart['sum_of_duration'])\n",
    "axs[1].set_title('Кол-во минут для тарифа \"Smart');"
   ]
  },
  {
   "cell_type": "markdown",
   "metadata": {},
   "source": [
    "Можем заметить, что количество израсходованных минут у пользователей, которые пользуются тарифом `ultra` **больше** чем у пользователей, которые предпочитают тариф `smart`"
   ]
  },
  {
   "cell_type": "markdown",
   "metadata": {},
   "source": [
    "Для каждого тарифа посчитаем среднее количество сообщений и построим гистограмму"
   ]
  },
  {
   "cell_type": "code",
   "execution_count": 59,
   "metadata": {},
   "outputs": [
    {
     "data": {
      "text/plain": [
       "count    1916.000000\n",
       "mean       38.747390\n",
       "std        26.817396\n",
       "min         1.000000\n",
       "25%        17.000000\n",
       "50%        34.000000\n",
       "75%        55.000000\n",
       "max       143.000000\n",
       "Name: count_of_messages, dtype: float64"
      ]
     },
     "execution_count": 59,
     "metadata": {},
     "output_type": "execute_result"
    }
   ],
   "source": [
    "data_smart['count_of_messages'].describe() # Описание основных характеристик столбца"
   ]
  },
  {
   "cell_type": "code",
   "execution_count": 60,
   "metadata": {},
   "outputs": [
    {
     "data": {
      "text/plain": [
       "count    762.000000\n",
       "mean      61.195538\n",
       "std       44.716597\n",
       "min        1.000000\n",
       "25%       25.000000\n",
       "50%       52.000000\n",
       "75%       88.000000\n",
       "max      224.000000\n",
       "Name: count_of_messages, dtype: float64"
      ]
     },
     "execution_count": 60,
     "metadata": {},
     "output_type": "execute_result"
    }
   ],
   "source": [
    "data_ultra['count_of_messages'].describe() # Описание основных характеристик столбца"
   ]
  },
  {
   "cell_type": "code",
   "execution_count": 61,
   "metadata": {},
   "outputs": [
    {
     "data": {
      "image/png": "[encoded data removed]",
      "text/plain": [
       "<Figure size 720x504 with 2 Axes>"
      ]
     },
     "metadata": {
      "needs_background": "light"
     },
     "output_type": "display_data"
    }
   ],
   "source": [
    "fig_1, axs_1 = plt.subplots(1, 2, figsize=(10,7)) # Построение гистограмм\n",
    "axs_1[0].hist(data_ultra['count_of_messages'])\n",
    "axs_1[0].set_title('Кол-во сообщений для тарифа \"Ultra\"')\n",
    "axs_1[1].hist(data_smart['count_of_messages'])\n",
    "axs_1[1].set_title('Кол-во сообщений для тарифа \"Smart');"
   ]
  },
  {
   "cell_type": "markdown",
   "metadata": {},
   "source": [
    "Таким образом, среднее количество сообщений у тарифа `Ultra` больше, чем у тарифа `Smart`"
   ]
  },
  {
   "cell_type": "markdown",
   "metadata": {},
   "source": [
    "Для каждого тарифа посчитаем среднее количество использованного трафика и построим гистограммы распределения"
   ]
  },
  {
   "cell_type": "code",
   "execution_count": 62,
   "metadata": {},
   "outputs": [
    {
     "data": {
      "text/plain": [
       "count    2222.000000\n",
       "mean       16.337084\n",
       "std         5.743447\n",
       "min         0.000000\n",
       "25%        13.000000\n",
       "50%        17.000000\n",
       "75%        20.000000\n",
       "max        38.000000\n",
       "Name: count_of_gb, dtype: float64"
      ]
     },
     "execution_count": 62,
     "metadata": {},
     "output_type": "execute_result"
    }
   ],
   "source": [
    "data_smart['count_of_gb'].describe() # Описание основных характеристик столбца"
   ]
  },
  {
   "cell_type": "code",
   "execution_count": 63,
   "metadata": {},
   "outputs": [
    {
     "data": {
      "text/plain": [
       "count    941.000000\n",
       "mean      19.695005\n",
       "std        9.735407\n",
       "min        0.000000\n",
       "25%       12.000000\n",
       "50%       19.000000\n",
       "75%       27.000000\n",
       "max       49.000000\n",
       "Name: count_of_gb, dtype: float64"
      ]
     },
     "execution_count": 63,
     "metadata": {},
     "output_type": "execute_result"
    }
   ],
   "source": [
    "data_ultra['count_of_gb'].describe() # Описание основных характеристик столбца"
   ]
  },
  {
   "cell_type": "code",
   "execution_count": 64,
   "metadata": {},
   "outputs": [
    {
     "data": {
      "image/png": "[encoded data removed]",
      "text/plain": [
       "<Figure size 720x504 with 2 Axes>"
      ]
     },
     "metadata": {
      "needs_background": "light"
     },
     "output_type": "display_data"
    }
   ],
   "source": [
    "fig_2, axs_2 = plt.subplots(1, 2, figsize=(10,7)) # Построение гистограмм\n",
    "axs_2[0].hist(data_ultra['count_of_gb'])\n",
    "axs_2[0].set_title('Кол-во трафика для тарифа \"Ultra\"')\n",
    "axs_2[1].hist(data_smart['count_of_gb'])\n",
    "axs_2[1].set_title('Кол-во трафика для тарифа \"Smart\"');"
   ]
  },
  {
   "cell_type": "markdown",
   "metadata": {},
   "source": [
    "Так же можем заметить, что среднее количесто потраченного трафика у тарифа `Ultra` составляет 19.69 Гб, а у тарифа `Smart` - 16.33 Гб"
   ]
  },
  {
   "cell_type": "markdown",
   "metadata": {},
   "source": [
    "Рассмотрим среднее значение выручки по каждому из тарифов"
   ]
  },
  {
   "cell_type": "code",
   "execution_count": 65,
   "metadata": {},
   "outputs": [
    {
     "data": {
      "text/plain": [
       "count    2223.000000\n",
       "mean     1290.891138\n",
       "std       819.119853\n",
       "min       550.000000\n",
       "25%       550.000000\n",
       "50%      1030.000000\n",
       "75%      1750.000000\n",
       "max      6770.000000\n",
       "Name: payment_for_month, dtype: float64"
      ]
     },
     "execution_count": 65,
     "metadata": {},
     "output_type": "execute_result"
    }
   ],
   "source": [
    "data_smart['payment_for_month'].describe() # Описание основных характеристик столбца"
   ]
  },
  {
   "cell_type": "code",
   "execution_count": 66,
   "metadata": {
    "scrolled": true
   },
   "outputs": [
    {
     "data": {
      "text/plain": [
       "count     951.000000\n",
       "mean     2070.977918\n",
       "std       379.423372\n",
       "min      1950.000000\n",
       "25%      1950.000000\n",
       "50%      1950.000000\n",
       "75%      1950.000000\n",
       "max      4800.000000\n",
       "Name: payment_for_month, dtype: float64"
      ]
     },
     "execution_count": 66,
     "metadata": {},
     "output_type": "execute_result"
    }
   ],
   "source": [
    "data_ultra['payment_for_month'].describe() # Описание основных характеристик столбца"
   ]
  },
  {
   "cell_type": "markdown",
   "metadata": {},
   "source": [
    "Заметим, что средняя выручка у тарифа `Ultra` больше, чем у тарифа `Smart`"
   ]
  },
  {
   "cell_type": "markdown",
   "metadata": {},
   "source": [
    "### Вывод"
   ]
  },
  {
   "cell_type": "markdown",
   "metadata": {},
   "source": [
    "В ходе исследования было установлено, что все рассматриваемые параметры, а именно `среднее количество израсходованных минут`, `среднее количество сообщений` и `среднее количество потраченного трафика`, `средняя выручка` у тарифа `Ultra` выше, чем у тарифа `Smart`.\n",
    "\n",
    "Для ответа на главный вопрос исследования \"какой тариф приносит больше денег?\" обратимся к проверке гипотез."
   ]
  },
  {
   "cell_type": "markdown",
   "metadata": {},
   "source": [
    "## Проверка гипотез"
   ]
  },
  {
   "cell_type": "markdown",
   "metadata": {},
   "source": [
    "Проверим двустороннюю гипотезу о том, что средняя выручка пользователей тарифов «Ультра» и «Смарт» различаются.\n",
    "\n",
    "Нулева гипотеза будет звучать следующим образом:\n",
    "\n",
    "H0: Предположим, что средняя выручка пользователей тарифов \"Ультра\" и \"Смарт\" **равна**\n",
    "\n",
    "Альтернативная гипотеза, в свою очередь, звучит так:\n",
    "\n",
    "H1 : Средняя выручка пользователей тарифов \"Ультра\" и \"Смарт\" **различается**\n",
    "\n",
    "Для сравнения двух выборок будем использовать t-тест.\n",
    "\n",
    "Удостоверимся, что все три аспекта удовлетворяют условиям проведения  t-теста:\n",
    "\n",
    "- [x]  Генеральные совокупности не должны зависеть друг от друга. Генеральные совокупности независимы друг от друга\n",
    "- [x] Выборочные средние должны быть нормально распределены. Благодрая ЦПТ, утверждение верно\n",
    "- [x] Дисперсии рассматриваемых генеральных совокупностей должны быть равны. Если выборки достаточно велики (30 и больше значений) и равны по размеру между собой, такой подход оправдан"
   ]
  },
  {
   "cell_type": "code",
   "execution_count": 67,
   "metadata": {},
   "outputs": [
    {
     "name": "stdout",
     "output_type": "stream",
     "text": [
      "p-значение: 2.1830308249112928e-155\n",
      "Отвергаем нулевую гипотезу\n"
     ]
    }
   ],
   "source": [
    "ultra_sample = data_ultra['payment_for_month'] \n",
    "smart_sample  = data_smart['payment_for_month']\n",
    "\n",
    "alpha = 0.05 # Уровень значимости\n",
    "\n",
    "results = st.ttest_ind(ultra_sample, smart_sample) # Проведение t-теста\n",
    "\n",
    "print('p-значение:', results.pvalue)\n",
    "\n",
    "if results.pvalue < alpha: # Cравнение результата с уровнем значимости \n",
    "    print('Отвергаем нулевую гипотезу')\n",
    "else:\n",
    "    print('Не получилось отвергнуть нулевую гипотезу')"
   ]
  },
  {
   "cell_type": "markdown",
   "metadata": {},
   "source": [
    "Получили `p-value` сильно меньше порогового уровня значимости `alpha`, следовательно отклоняем нулевую гипотезу о том, что средняя выручка пользователей тарифов \"Ультра\" и \"Смарт\" равна."
   ]
  },
  {
   "cell_type": "markdown",
   "metadata": {},
   "source": [
    "Проверим двустороннюю гипотезу о том, что средняя выручка пользователей из Москвы отличается от выручки из друхи регионов.\n",
    "\n",
    "Добавим столбец с названием регионов в обобщающую таблицу `total_data`"
   ]
  },
  {
   "cell_type": "code",
   "execution_count": 68,
   "metadata": {},
   "outputs": [
    {
     "data": {
      "text/html": [
       "<div>\n",
       "<style scoped>\n",
       "    .dataframe tbody tr th:only-of-type {\n",
       "        vertical-align: middle;\n",
       "    }\n",
       "\n",
       "    .dataframe tbody tr th {\n",
       "        vertical-align: top;\n",
       "    }\n",
       "\n",
       "    .dataframe thead th {\n",
       "        text-align: right;\n",
       "    }\n",
       "</style>\n",
       "<table border=\"1\" class=\"dataframe\">\n",
       "  <thead>\n",
       "    <tr style=\"text-align: right;\">\n",
       "      <th></th>\n",
       "      <th>user_id</th>\n",
       "      <th>month</th>\n",
       "      <th>tariff</th>\n",
       "      <th>count_of_calls</th>\n",
       "      <th>sum_of_duration</th>\n",
       "      <th>count_of_messages</th>\n",
       "      <th>count_of_gb</th>\n",
       "      <th>payment_for_month</th>\n",
       "      <th>city</th>\n",
       "    </tr>\n",
       "  </thead>\n",
       "  <tbody>\n",
       "    <tr>\n",
       "      <th>0</th>\n",
       "      <td>1000</td>\n",
       "      <td>5</td>\n",
       "      <td>ultra</td>\n",
       "      <td>22.0</td>\n",
       "      <td>159.0</td>\n",
       "      <td>22.0</td>\n",
       "      <td>3.0</td>\n",
       "      <td>1950.0</td>\n",
       "      <td>Краснодар</td>\n",
       "    </tr>\n",
       "    <tr>\n",
       "      <th>1</th>\n",
       "      <td>1000</td>\n",
       "      <td>6</td>\n",
       "      <td>ultra</td>\n",
       "      <td>43.0</td>\n",
       "      <td>172.0</td>\n",
       "      <td>60.0</td>\n",
       "      <td>23.0</td>\n",
       "      <td>1950.0</td>\n",
       "      <td>Краснодар</td>\n",
       "    </tr>\n",
       "    <tr>\n",
       "      <th>2</th>\n",
       "      <td>1000</td>\n",
       "      <td>7</td>\n",
       "      <td>ultra</td>\n",
       "      <td>47.0</td>\n",
       "      <td>340.0</td>\n",
       "      <td>75.0</td>\n",
       "      <td>14.0</td>\n",
       "      <td>1950.0</td>\n",
       "      <td>Краснодар</td>\n",
       "    </tr>\n",
       "    <tr>\n",
       "      <th>3</th>\n",
       "      <td>1000</td>\n",
       "      <td>8</td>\n",
       "      <td>ultra</td>\n",
       "      <td>52.0</td>\n",
       "      <td>408.0</td>\n",
       "      <td>81.0</td>\n",
       "      <td>14.0</td>\n",
       "      <td>1950.0</td>\n",
       "      <td>Краснодар</td>\n",
       "    </tr>\n",
       "    <tr>\n",
       "      <th>4</th>\n",
       "      <td>1000</td>\n",
       "      <td>9</td>\n",
       "      <td>ultra</td>\n",
       "      <td>58.0</td>\n",
       "      <td>466.0</td>\n",
       "      <td>57.0</td>\n",
       "      <td>15.0</td>\n",
       "      <td>1950.0</td>\n",
       "      <td>Краснодар</td>\n",
       "    </tr>\n",
       "  </tbody>\n",
       "</table>\n",
       "</div>"
      ],
      "text/plain": [
       "   user_id  month tariff  count_of_calls  sum_of_duration  count_of_messages  \\\n",
       "0     1000      5  ultra            22.0            159.0               22.0   \n",
       "1     1000      6  ultra            43.0            172.0               60.0   \n",
       "2     1000      7  ultra            47.0            340.0               75.0   \n",
       "3     1000      8  ultra            52.0            408.0               81.0   \n",
       "4     1000      9  ultra            58.0            466.0               57.0   \n",
       "\n",
       "   count_of_gb  payment_for_month       city  \n",
       "0          3.0             1950.0  Краснодар  \n",
       "1         23.0             1950.0  Краснодар  \n",
       "2         14.0             1950.0  Краснодар  \n",
       "3         14.0             1950.0  Краснодар  \n",
       "4         15.0             1950.0  Краснодар  "
      ]
     },
     "execution_count": 68,
     "metadata": {},
     "output_type": "execute_result"
    }
   ],
   "source": [
    "total_data = total_data.merge(users[['user_id', 'city']], on='user_id') # Объединение таблиц\n",
    "total_data.head()"
   ]
  },
  {
   "cell_type": "markdown",
   "metadata": {},
   "source": [
    "Проведём выборочное изменение данных, оставим пользователей из города Москва без изменений, а все остальные населённые пункты заменим на \"Другие регионы\""
   ]
  },
  {
   "cell_type": "code",
   "execution_count": 69,
   "metadata": {},
   "outputs": [],
   "source": [
    "total_data['city'] = total_data['city'].where(total_data['city'] == 'Москва', 'Другие регионы')\n",
    "# Выборочная замена данных"
   ]
  },
  {
   "cell_type": "markdown",
   "metadata": {},
   "source": [
    "Проверим получившийся результат"
   ]
  },
  {
   "cell_type": "code",
   "execution_count": 70,
   "metadata": {},
   "outputs": [
    {
     "data": {
      "text/plain": [
       "Другие регионы    2603\n",
       "Москва             611\n",
       "Name: city, dtype: int64"
      ]
     },
     "execution_count": 70,
     "metadata": {},
     "output_type": "execute_result"
    }
   ],
   "source": [
    "total_data['city'].value_counts() # Подсчёт уникальных значений в столбце"
   ]
  },
  {
   "cell_type": "markdown",
   "metadata": {},
   "source": [
    "Итак, сформулируем гипотезы:\n",
    "\n",
    "H0: Cредняя выручка пользователей из Москвы **равна** выручке пользователей из других регионов\n",
    "\n",
    "H1: Cредняя выручка пользователей из Москвы **отличается** от выручки пользователей из других регионов\n",
    "\n",
    "Для сравнения двух выборок будем использовать t-тест."
   ]
  },
  {
   "cell_type": "code",
   "execution_count": 73,
   "metadata": {},
   "outputs": [
    {
     "name": "stdout",
     "output_type": "stream",
     "text": [
      "p-значение: 0.4619932225305272\n",
      "Не получилось отвергнуть нулевую гипотезу\n"
     ]
    }
   ],
   "source": [
    "moscow_sample = total_data[total_data['city'] == 'Москва']['payment_for_month'].dropna()\n",
    "another_sample = total_data[total_data['city'] == 'Другие регионы']['payment_for_month'].dropna()\n",
    "\n",
    "alpha = 0.05 # Уровень значимости\n",
    "\n",
    "results = st.ttest_ind(moscow_sample, another_sample) # Проведение t-теста\n",
    "\n",
    "print('p-значение:', results.pvalue)\n",
    "\n",
    "if results.pvalue < alpha:\n",
    "    print('Отвергаем нулевую гипотезу')\n",
    "else:\n",
    "    print('Не получилось отвергнуть нулевую гипотезу')"
   ]
  },
  {
   "cell_type": "markdown",
   "metadata": {},
   "source": [
    "В результате проверки гипотезы получили значение p-value значительно больше, чем пороговый уровень значимости, таким образом не имеем статистически значимых оснований отклонить нулевую гипотезу"
   ]
  },
  {
   "cell_type": "markdown",
   "metadata": {},
   "source": [
    "### Вывод"
   ]
  },
  {
   "cell_type": "markdown",
   "metadata": {},
   "source": [
    "В ходе исследования были проверены две гипотезы:\n",
    "\n",
    "- Cредняя выручка пользователей тарифов \"Ультра\" и \"Смарт\" равна. Получили статистически значимый результат и отклонили нулевую гипотезу\n",
    "- Cредняя выручка пользователей из Москвы равна выручке пользователей из других регионов. Не получили статистически значимого результат, нулевую гипотезу отвергнуть не получилось"
   ]
  },
  {
   "cell_type": "markdown",
   "metadata": {},
   "source": [
    "## Общий вывод"
   ]
  },
  {
   "cell_type": "markdown",
   "metadata": {},
   "source": [
    "При выполнении проекта были проделаны следующие шаги:\n",
    "\n",
    "- Получение основной информации о предоставленных данных\n",
    "- Предобработка, которая включала в себя приведение данных у нужному типу, проанализированы пропущенные значения в некоторых столбцах, сделаны выводы.\n",
    "- Для каждого пользователя были посчитаны количество сделанных звонков и израсходованных минут разговора по месяцам, количество отправленных сообщений по месяцам, объем израсходованного интернет-трафика по месяцам, помесячную выручку с каждого пользователя\n",
    "- Проведён исследовательский анализ данных, в котором были посчитаны основные статистические характеристики для пользователей разных тарифов, проведен сравнительный анализ этих характеристик, построены гистограммы, сделаны выводы\n",
    "- Проверены статистические гипотезы о равенстве среднее выручке пользователей тарифов и пользователей из Москвы по отношению к пользователям других регионов. В первом случае мы отклонили нулевую гипотезу, во второй оснований для отклонения гипотезы было недостаточно.\n",
    "\n",
    "Исходя из результатов проведенного исследования можно сделать вывод о том, что тариф `Ultra` смотрится лучше и выгоднее с коммерческой точки зрения, чем тариф `Smart`"
   ]
  }
 ],
 "metadata": {
  "ExecuteTimeLog": [
   {
    "duration": 99,
    "start_time": "2022-01-20T06:39:11.498Z"
   },
   {
    "duration": 750,
    "start_time": "2022-01-20T06:39:15.944Z"
   },
   {
    "duration": 57,
    "start_time": "2022-01-20T06:40:27.396Z"
   },
   {
    "duration": 136,
    "start_time": "2022-01-20T06:40:34.596Z"
   },
   {
    "duration": 213,
    "start_time": "2022-01-20T06:41:01.686Z"
   },
   {
    "duration": 223,
    "start_time": "2022-01-20T06:41:07.483Z"
   },
   {
    "duration": 202,
    "start_time": "2022-01-20T06:41:47.203Z"
   },
   {
    "duration": 202,
    "start_time": "2022-01-20T06:41:55.772Z"
   },
   {
    "duration": 115,
    "start_time": "2022-01-20T06:42:32.563Z"
   },
   {
    "duration": 211,
    "start_time": "2022-01-20T06:42:38.612Z"
   },
   {
    "duration": 140,
    "start_time": "2022-01-20T06:42:40.524Z"
   },
   {
    "duration": 108,
    "start_time": "2022-01-20T06:42:57.332Z"
   },
   {
    "duration": 198,
    "start_time": "2022-01-20T06:43:15.652Z"
   },
   {
    "duration": 255,
    "start_time": "2022-01-20T06:43:28.412Z"
   },
   {
    "duration": 222,
    "start_time": "2022-01-20T06:43:40.249Z"
   },
   {
    "duration": 25,
    "start_time": "2022-01-20T06:44:31.188Z"
   },
   {
    "duration": 25,
    "start_time": "2022-01-20T06:44:44.964Z"
   },
   {
    "duration": 3,
    "start_time": "2022-01-20T06:45:14.861Z"
   },
   {
    "duration": 35,
    "start_time": "2022-01-20T06:45:15.148Z"
   },
   {
    "duration": 200,
    "start_time": "2022-01-20T06:45:15.363Z"
   },
   {
    "duration": 113,
    "start_time": "2022-01-20T06:45:15.587Z"
   },
   {
    "duration": 257,
    "start_time": "2022-01-20T06:45:16.108Z"
   },
   {
    "duration": 30,
    "start_time": "2022-01-20T06:45:16.940Z"
   },
   {
    "duration": 36,
    "start_time": "2022-01-20T06:45:59.820Z"
   },
   {
    "duration": 9,
    "start_time": "2022-01-20T06:48:47.608Z"
   },
   {
    "duration": 29,
    "start_time": "2022-01-20T06:48:58.907Z"
   },
   {
    "duration": 19,
    "start_time": "2022-01-20T06:49:15.165Z"
   },
   {
    "duration": 23,
    "start_time": "2022-01-20T06:49:28.667Z"
   },
   {
    "duration": 10,
    "start_time": "2022-01-20T06:51:01.027Z"
   },
   {
    "duration": 28,
    "start_time": "2022-01-20T06:51:26.251Z"
   },
   {
    "duration": 209,
    "start_time": "2022-01-20T06:57:32.973Z"
   },
   {
    "duration": 189,
    "start_time": "2022-01-20T06:57:55.947Z"
   },
   {
    "duration": 401,
    "start_time": "2022-01-20T07:05:07.179Z"
   },
   {
    "duration": 9,
    "start_time": "2022-01-20T07:05:11.659Z"
   },
   {
    "duration": 15,
    "start_time": "2022-01-20T07:05:21.891Z"
   },
   {
    "duration": 8,
    "start_time": "2022-01-20T07:05:25.331Z"
   },
   {
    "duration": 22,
    "start_time": "2022-01-20T07:06:04.572Z"
   },
   {
    "duration": 15,
    "start_time": "2022-01-20T07:06:18.781Z"
   },
   {
    "duration": 22,
    "start_time": "2022-01-20T07:07:56.331Z"
   },
   {
    "duration": 94,
    "start_time": "2022-01-20T07:08:12.363Z"
   },
   {
    "duration": 3072,
    "start_time": "2022-01-20T07:09:17.579Z"
   },
   {
    "duration": 8,
    "start_time": "2022-01-20T07:09:31.340Z"
   },
   {
    "duration": 9,
    "start_time": "2022-01-20T07:10:14.844Z"
   },
   {
    "duration": 10,
    "start_time": "2022-01-20T07:10:20.443Z"
   },
   {
    "duration": 8,
    "start_time": "2022-01-20T07:10:24.963Z"
   },
   {
    "duration": 20,
    "start_time": "2022-01-20T07:10:52.485Z"
   },
   {
    "duration": 12,
    "start_time": "2022-01-20T07:14:29.404Z"
   },
   {
    "duration": 30,
    "start_time": "2022-01-20T07:14:35.314Z"
   },
   {
    "duration": 43,
    "start_time": "2022-01-20T07:18:19.514Z"
   },
   {
    "duration": 9,
    "start_time": "2022-01-20T07:18:30.267Z"
   },
   {
    "duration": 10,
    "start_time": "2022-01-20T07:18:55.709Z"
   },
   {
    "duration": 8,
    "start_time": "2022-01-20T07:19:00.899Z"
   },
   {
    "duration": 129,
    "start_time": "2022-01-20T07:20:00.244Z"
   },
   {
    "duration": 11,
    "start_time": "2022-01-20T07:20:08.642Z"
   },
   {
    "duration": 9,
    "start_time": "2022-01-20T07:20:22.811Z"
   },
   {
    "duration": 11,
    "start_time": "2022-01-20T07:20:23.147Z"
   },
   {
    "duration": 13,
    "start_time": "2022-01-20T07:20:24.059Z"
   },
   {
    "duration": 19,
    "start_time": "2022-01-20T07:20:29.380Z"
   },
   {
    "duration": 10,
    "start_time": "2022-01-20T07:20:30.659Z"
   },
   {
    "duration": 125,
    "start_time": "2022-01-20T07:20:31.451Z"
   },
   {
    "duration": 21,
    "start_time": "2022-01-20T07:20:50.715Z"
   },
   {
    "duration": 11,
    "start_time": "2022-01-20T07:21:40.965Z"
   },
   {
    "duration": 20,
    "start_time": "2022-01-20T07:21:49.635Z"
   },
   {
    "duration": 25,
    "start_time": "2022-01-20T07:22:45.453Z"
   },
   {
    "duration": 53,
    "start_time": "2022-01-20T07:23:10.045Z"
   },
   {
    "duration": 14,
    "start_time": "2022-01-20T07:23:23.396Z"
   },
   {
    "duration": 16,
    "start_time": "2022-01-20T07:27:11.883Z"
   },
   {
    "duration": 176,
    "start_time": "2022-01-20T07:27:12.179Z"
   },
   {
    "duration": 31,
    "start_time": "2022-01-20T07:27:12.451Z"
   },
   {
    "duration": 16,
    "start_time": "2022-01-20T07:27:12.875Z"
   },
   {
    "duration": 22,
    "start_time": "2022-01-20T07:27:13.051Z"
   },
   {
    "duration": 12,
    "start_time": "2022-01-20T07:27:13.387Z"
   },
   {
    "duration": 55,
    "start_time": "2022-01-20T07:27:14.477Z"
   },
   {
    "duration": 17,
    "start_time": "2022-01-20T07:27:15.123Z"
   },
   {
    "duration": 12,
    "start_time": "2022-01-20T07:28:22.019Z"
   },
   {
    "duration": 25,
    "start_time": "2022-01-20T07:28:34.284Z"
   },
   {
    "duration": 100,
    "start_time": "2022-01-20T07:28:58.580Z"
   },
   {
    "duration": 30,
    "start_time": "2022-01-20T07:29:20.876Z"
   },
   {
    "duration": 63,
    "start_time": "2022-01-20T07:29:37.629Z"
   },
   {
    "duration": 19,
    "start_time": "2022-01-20T07:29:58.211Z"
   },
   {
    "duration": 12,
    "start_time": "2022-01-20T07:31:15.155Z"
   },
   {
    "duration": 9,
    "start_time": "2022-01-20T07:31:24.891Z"
   },
   {
    "duration": 12,
    "start_time": "2022-01-20T07:32:08.062Z"
   },
   {
    "duration": 13,
    "start_time": "2022-01-20T07:32:16.132Z"
   },
   {
    "duration": 9,
    "start_time": "2022-01-20T07:32:19.628Z"
   },
   {
    "duration": 11,
    "start_time": "2022-01-20T07:32:41.996Z"
   },
   {
    "duration": 17,
    "start_time": "2022-01-20T07:32:44.652Z"
   },
   {
    "duration": 7,
    "start_time": "2022-01-20T07:33:42.502Z"
   },
   {
    "duration": 20,
    "start_time": "2022-01-20T07:33:47.692Z"
   },
   {
    "duration": 13,
    "start_time": "2022-01-20T07:33:51.708Z"
   },
   {
    "duration": 21,
    "start_time": "2022-01-20T07:33:52.435Z"
   },
   {
    "duration": 17,
    "start_time": "2022-01-20T07:33:55.180Z"
   },
   {
    "duration": 307,
    "start_time": "2022-01-20T07:33:55.836Z"
   },
   {
    "duration": 14,
    "start_time": "2022-01-20T07:34:08.938Z"
   },
   {
    "duration": 14,
    "start_time": "2022-01-20T07:34:12.892Z"
   },
   {
    "duration": 10,
    "start_time": "2022-01-20T07:34:13.851Z"
   },
   {
    "duration": 324,
    "start_time": "2022-01-20T07:34:23.820Z"
   },
   {
    "duration": 792,
    "start_time": "2022-01-20T07:34:30.374Z"
   },
   {
    "duration": 48,
    "start_time": "2022-01-20T07:34:31.169Z"
   },
   {
    "duration": 221,
    "start_time": "2022-01-20T07:34:31.220Z"
   },
   {
    "duration": 128,
    "start_time": "2022-01-20T07:34:31.445Z"
   },
   {
    "duration": 232,
    "start_time": "2022-01-20T07:34:31.576Z"
   },
   {
    "duration": 28,
    "start_time": "2022-01-20T07:34:31.811Z"
   },
   {
    "duration": 12,
    "start_time": "2022-01-20T07:34:31.841Z"
   },
   {
    "duration": 28,
    "start_time": "2022-01-20T07:34:31.859Z"
   },
   {
    "duration": 55,
    "start_time": "2022-01-20T07:34:31.890Z"
   },
   {
    "duration": 22,
    "start_time": "2022-01-20T07:34:31.947Z"
   },
   {
    "duration": 9,
    "start_time": "2022-01-20T07:34:31.971Z"
   },
   {
    "duration": 51,
    "start_time": "2022-01-20T07:34:31.983Z"
   },
   {
    "duration": 11,
    "start_time": "2022-01-20T07:34:32.036Z"
   },
   {
    "duration": 14,
    "start_time": "2022-01-20T07:34:32.049Z"
   },
   {
    "duration": 20,
    "start_time": "2022-01-20T07:34:32.065Z"
   },
   {
    "duration": 10,
    "start_time": "2022-01-20T07:34:32.087Z"
   },
   {
    "duration": 42,
    "start_time": "2022-01-20T07:34:32.099Z"
   },
   {
    "duration": 33,
    "start_time": "2022-01-20T07:34:32.144Z"
   },
   {
    "duration": 74,
    "start_time": "2022-01-20T07:34:32.180Z"
   },
   {
    "duration": 142,
    "start_time": "2022-01-20T07:34:32.256Z"
   },
   {
    "duration": 37,
    "start_time": "2022-01-20T07:34:32.400Z"
   },
   {
    "duration": 10,
    "start_time": "2022-01-20T07:34:32.440Z"
   },
   {
    "duration": 35,
    "start_time": "2022-01-20T07:34:32.454Z"
   },
   {
    "duration": 50,
    "start_time": "2022-01-20T07:34:32.492Z"
   },
   {
    "duration": 58,
    "start_time": "2022-01-20T07:34:32.545Z"
   },
   {
    "duration": 34,
    "start_time": "2022-01-20T07:34:32.605Z"
   },
   {
    "duration": 12,
    "start_time": "2022-01-20T07:34:32.641Z"
   },
   {
    "duration": 23,
    "start_time": "2022-01-20T07:34:32.656Z"
   },
   {
    "duration": 68,
    "start_time": "2022-01-20T07:34:32.682Z"
   },
   {
    "duration": 57,
    "start_time": "2022-01-20T07:34:32.752Z"
   },
   {
    "duration": 36,
    "start_time": "2022-01-20T07:34:32.811Z"
   },
   {
    "duration": 11,
    "start_time": "2022-01-20T07:34:32.849Z"
   },
   {
    "duration": 14,
    "start_time": "2022-01-20T07:34:32.862Z"
   },
   {
    "duration": 10,
    "start_time": "2022-01-20T07:34:32.878Z"
   },
   {
    "duration": 15,
    "start_time": "2022-01-20T07:38:36.759Z"
   },
   {
    "duration": 465,
    "start_time": "2022-01-20T07:38:55.735Z"
   },
   {
    "duration": 4,
    "start_time": "2022-01-20T07:39:46.095Z"
   },
   {
    "duration": 855,
    "start_time": "2022-01-20T07:39:51.546Z"
   },
   {
    "duration": 47,
    "start_time": "2022-01-20T07:39:52.404Z"
   },
   {
    "duration": 208,
    "start_time": "2022-01-20T07:39:52.454Z"
   },
   {
    "duration": 130,
    "start_time": "2022-01-20T07:39:52.664Z"
   },
   {
    "duration": 203,
    "start_time": "2022-01-20T07:39:52.797Z"
   },
   {
    "duration": 31,
    "start_time": "2022-01-20T07:39:53.003Z"
   },
   {
    "duration": 19,
    "start_time": "2022-01-20T07:39:53.037Z"
   },
   {
    "duration": 27,
    "start_time": "2022-01-20T07:39:53.062Z"
   },
   {
    "duration": 46,
    "start_time": "2022-01-20T07:39:53.093Z"
   },
   {
    "duration": 26,
    "start_time": "2022-01-20T07:39:53.142Z"
   },
   {
    "duration": 15,
    "start_time": "2022-01-20T07:39:53.171Z"
   },
   {
    "duration": 44,
    "start_time": "2022-01-20T07:39:53.189Z"
   },
   {
    "duration": 50025,
    "start_time": "2022-01-20T07:39:53.235Z"
   },
   {
    "duration": 10,
    "start_time": "2022-01-20T07:40:43.263Z"
   },
   {
    "duration": 16,
    "start_time": "2022-01-20T07:40:43.275Z"
   },
   {
    "duration": 16,
    "start_time": "2022-01-20T07:40:43.294Z"
   },
   {
    "duration": 29,
    "start_time": "2022-01-20T07:40:43.312Z"
   },
   {
    "duration": 19,
    "start_time": "2022-01-20T07:40:43.344Z"
   },
   {
    "duration": 29,
    "start_time": "2022-01-20T07:40:43.365Z"
   },
   {
    "duration": 98,
    "start_time": "2022-01-20T07:40:43.398Z"
   },
   {
    "duration": 198,
    "start_time": "2022-01-20T07:40:43.499Z"
   },
   {
    "duration": 36,
    "start_time": "2022-01-20T07:40:43.700Z"
   },
   {
    "duration": 14,
    "start_time": "2022-01-20T07:40:43.742Z"
   },
   {
    "duration": 34,
    "start_time": "2022-01-20T07:40:43.759Z"
   },
   {
    "duration": 72,
    "start_time": "2022-01-20T07:40:43.797Z"
   },
   {
    "duration": 103,
    "start_time": "2022-01-20T07:40:43.872Z"
   },
   {
    "duration": 22,
    "start_time": "2022-01-20T07:40:43.978Z"
   },
   {
    "duration": 39,
    "start_time": "2022-01-20T07:40:44.004Z"
   },
   {
    "duration": 36,
    "start_time": "2022-01-20T07:40:44.047Z"
   },
   {
    "duration": 58,
    "start_time": "2022-01-20T07:40:44.085Z"
   },
   {
    "duration": 67,
    "start_time": "2022-01-20T07:40:44.145Z"
   },
   {
    "duration": 18,
    "start_time": "2022-01-20T07:40:44.234Z"
   },
   {
    "duration": 13,
    "start_time": "2022-01-20T07:40:44.254Z"
   },
   {
    "duration": 15,
    "start_time": "2022-01-20T07:40:44.270Z"
   },
   {
    "duration": 55,
    "start_time": "2022-01-20T07:40:44.287Z"
   },
   {
    "duration": 348,
    "start_time": "2022-01-20T07:46:50.703Z"
   },
   {
    "duration": 658,
    "start_time": "2022-01-20T07:47:00.727Z"
   },
   {
    "duration": 15,
    "start_time": "2022-01-20T07:47:13.839Z"
   },
   {
    "duration": 9,
    "start_time": "2022-01-20T07:47:32.655Z"
   },
   {
    "duration": 13,
    "start_time": "2022-01-20T07:47:49.615Z"
   },
   {
    "duration": 18,
    "start_time": "2022-01-20T07:48:14.327Z"
   },
   {
    "duration": 1019,
    "start_time": "2022-01-20T07:48:28.119Z"
   },
   {
    "duration": 378,
    "start_time": "2022-01-20T07:48:42.543Z"
   },
   {
    "duration": 12,
    "start_time": "2022-01-20T07:49:09.503Z"
   },
   {
    "duration": 16,
    "start_time": "2022-01-20T07:49:35.190Z"
   },
   {
    "duration": 299,
    "start_time": "2022-01-20T07:49:48.871Z"
   },
   {
    "duration": 18,
    "start_time": "2022-01-20T07:50:29.278Z"
   },
   {
    "duration": 336,
    "start_time": "2022-01-20T07:50:44.735Z"
   },
   {
    "duration": 344,
    "start_time": "2022-01-20T07:51:05.433Z"
   },
   {
    "duration": 357,
    "start_time": "2022-01-20T07:51:17.400Z"
   },
   {
    "duration": 17,
    "start_time": "2022-01-20T07:53:38.487Z"
   },
   {
    "duration": 12,
    "start_time": "2022-01-20T07:54:09.919Z"
   },
   {
    "duration": 10,
    "start_time": "2022-01-20T08:35:29.822Z"
   },
   {
    "duration": 114,
    "start_time": "2022-01-20T08:35:33.612Z"
   },
   {
    "duration": 24,
    "start_time": "2022-01-20T08:35:35.237Z"
   },
   {
    "duration": 19,
    "start_time": "2022-01-20T08:36:06.357Z"
   },
   {
    "duration": 15,
    "start_time": "2022-01-20T08:36:07.678Z"
   },
   {
    "duration": 11,
    "start_time": "2022-01-20T08:36:44.702Z"
   },
   {
    "duration": 113,
    "start_time": "2022-01-20T08:36:45.893Z"
   },
   {
    "duration": 20,
    "start_time": "2022-01-20T08:36:47.810Z"
   },
   {
    "duration": 22,
    "start_time": "2022-01-20T08:36:47.834Z"
   },
   {
    "duration": 814,
    "start_time": "2022-01-20T08:36:56.439Z"
   },
   {
    "duration": 48,
    "start_time": "2022-01-20T08:36:57.255Z"
   },
   {
    "duration": 211,
    "start_time": "2022-01-20T08:36:57.306Z"
   },
   {
    "duration": 167,
    "start_time": "2022-01-20T08:36:57.520Z"
   },
   {
    "duration": 284,
    "start_time": "2022-01-20T08:36:57.690Z"
   },
   {
    "duration": 30,
    "start_time": "2022-01-20T08:36:57.977Z"
   },
   {
    "duration": 23,
    "start_time": "2022-01-20T08:36:58.010Z"
   },
   {
    "duration": 28,
    "start_time": "2022-01-20T08:36:58.038Z"
   },
   {
    "duration": 29,
    "start_time": "2022-01-20T08:36:58.069Z"
   },
   {
    "duration": 62,
    "start_time": "2022-01-20T08:36:58.101Z"
   },
   {
    "duration": 11,
    "start_time": "2022-01-20T08:36:58.166Z"
   },
   {
    "duration": 21,
    "start_time": "2022-01-20T08:36:58.180Z"
   },
   {
    "duration": 38,
    "start_time": "2022-01-20T08:36:58.204Z"
   },
   {
    "duration": 11,
    "start_time": "2022-01-20T08:36:58.245Z"
   },
   {
    "duration": 13,
    "start_time": "2022-01-20T08:36:58.258Z"
   },
   {
    "duration": 11,
    "start_time": "2022-01-20T08:36:58.274Z"
   },
   {
    "duration": 59,
    "start_time": "2022-01-20T08:36:58.288Z"
   },
   {
    "duration": 30,
    "start_time": "2022-01-20T08:36:58.350Z"
   },
   {
    "duration": 71,
    "start_time": "2022-01-20T08:36:58.382Z"
   },
   {
    "duration": 146,
    "start_time": "2022-01-20T08:36:58.456Z"
   },
   {
    "duration": 35,
    "start_time": "2022-01-20T08:36:58.605Z"
   },
   {
    "duration": 17,
    "start_time": "2022-01-20T08:36:58.643Z"
   },
   {
    "duration": 11,
    "start_time": "2022-01-20T08:36:58.667Z"
   },
   {
    "duration": 58,
    "start_time": "2022-01-20T08:36:58.682Z"
   },
   {
    "duration": 30,
    "start_time": "2022-01-20T08:36:58.743Z"
   },
   {
    "duration": 91,
    "start_time": "2022-01-20T08:36:58.775Z"
   },
   {
    "duration": 16,
    "start_time": "2022-01-20T08:36:58.869Z"
   },
   {
    "duration": 13,
    "start_time": "2022-01-20T08:36:58.888Z"
   },
   {
    "duration": 25,
    "start_time": "2022-01-20T08:36:58.933Z"
   },
   {
    "duration": 31,
    "start_time": "2022-01-20T08:36:58.961Z"
   },
   {
    "duration": 90,
    "start_time": "2022-01-20T08:36:58.994Z"
   },
   {
    "duration": 16,
    "start_time": "2022-01-20T08:36:59.087Z"
   },
   {
    "duration": 29,
    "start_time": "2022-01-20T08:36:59.105Z"
   },
   {
    "duration": 17,
    "start_time": "2022-01-20T08:36:59.136Z"
   },
   {
    "duration": 12,
    "start_time": "2022-01-20T08:36:59.155Z"
   },
   {
    "duration": 20,
    "start_time": "2022-01-20T08:36:59.169Z"
   },
   {
    "duration": 65,
    "start_time": "2022-01-20T08:36:59.192Z"
   },
   {
    "duration": 14,
    "start_time": "2022-01-20T08:37:50.998Z"
   },
   {
    "duration": 122,
    "start_time": "2022-01-20T08:37:52.134Z"
   },
   {
    "duration": 28,
    "start_time": "2022-01-20T08:37:53.238Z"
   },
   {
    "duration": 16,
    "start_time": "2022-01-20T08:37:54.255Z"
   },
   {
    "duration": 12,
    "start_time": "2022-01-20T08:38:51.038Z"
   },
   {
    "duration": 120,
    "start_time": "2022-01-20T08:38:51.374Z"
   },
   {
    "duration": 19,
    "start_time": "2022-01-20T08:38:51.613Z"
   },
   {
    "duration": 15,
    "start_time": "2022-01-20T08:38:51.798Z"
   },
   {
    "duration": 11,
    "start_time": "2022-01-20T08:38:52.671Z"
   },
   {
    "duration": 14,
    "start_time": "2022-01-20T08:38:52.822Z"
   },
   {
    "duration": 9,
    "start_time": "2022-01-20T08:38:53.133Z"
   },
   {
    "duration": 50,
    "start_time": "2022-01-20T08:38:53.725Z"
   },
   {
    "duration": 13,
    "start_time": "2022-01-20T08:38:54.942Z"
   },
   {
    "duration": 13,
    "start_time": "2022-01-20T08:38:55.462Z"
   },
   {
    "duration": 17,
    "start_time": "2022-01-20T08:38:55.645Z"
   },
   {
    "duration": 10,
    "start_time": "2022-01-20T08:38:56.021Z"
   },
   {
    "duration": 55,
    "start_time": "2022-01-20T08:38:56.461Z"
   },
   {
    "duration": 16,
    "start_time": "2022-01-20T08:38:56.789Z"
   },
   {
    "duration": 11,
    "start_time": "2022-01-20T08:38:57.093Z"
   },
   {
    "duration": 14,
    "start_time": "2022-01-20T08:38:57.407Z"
   },
   {
    "duration": 11,
    "start_time": "2022-01-20T08:38:57.557Z"
   },
   {
    "duration": 16,
    "start_time": "2022-01-20T08:38:58.213Z"
   },
   {
    "duration": 11,
    "start_time": "2022-01-20T08:38:58.839Z"
   },
   {
    "duration": 31,
    "start_time": "2022-01-20T08:40:58.383Z"
   },
   {
    "duration": 12,
    "start_time": "2022-01-20T08:41:02.431Z"
   },
   {
    "duration": 48,
    "start_time": "2022-01-20T08:44:00.359Z"
   },
   {
    "duration": 35,
    "start_time": "2022-01-20T08:45:10.430Z"
   },
   {
    "duration": 8910,
    "start_time": "2022-01-20T08:45:23.351Z"
   },
   {
    "duration": 51,
    "start_time": "2022-01-20T08:46:05.009Z"
   },
   {
    "duration": 46,
    "start_time": "2022-01-20T08:46:23.815Z"
   },
   {
    "duration": 134,
    "start_time": "2022-01-20T08:48:05.255Z"
   },
   {
    "duration": 41,
    "start_time": "2022-01-20T08:48:17.591Z"
   },
   {
    "duration": 42,
    "start_time": "2022-01-20T08:48:48.007Z"
   },
   {
    "duration": 44,
    "start_time": "2022-01-20T08:49:05.656Z"
   },
   {
    "duration": 40,
    "start_time": "2022-01-20T08:49:11.480Z"
   },
   {
    "duration": 46,
    "start_time": "2022-01-20T08:49:16.070Z"
   },
   {
    "duration": 42,
    "start_time": "2022-01-20T08:49:19.942Z"
   },
   {
    "duration": 40,
    "start_time": "2022-01-20T08:49:26.831Z"
   },
   {
    "duration": 17,
    "start_time": "2022-01-20T08:51:45.815Z"
   },
   {
    "duration": 12,
    "start_time": "2022-01-20T08:51:51.872Z"
   },
   {
    "duration": 16,
    "start_time": "2022-01-20T08:51:54.751Z"
   },
   {
    "duration": 16,
    "start_time": "2022-01-20T08:52:20.479Z"
   },
   {
    "duration": 11,
    "start_time": "2022-01-20T08:52:26.222Z"
   },
   {
    "duration": 13,
    "start_time": "2022-01-20T08:52:53.326Z"
   },
   {
    "duration": 31,
    "start_time": "2022-01-20T08:53:36.862Z"
   },
   {
    "duration": 13,
    "start_time": "2022-01-20T08:53:37.758Z"
   },
   {
    "duration": 16,
    "start_time": "2022-01-20T08:53:40.759Z"
   },
   {
    "duration": 168,
    "start_time": "2022-01-20T08:58:14.391Z"
   },
   {
    "duration": 45,
    "start_time": "2022-01-20T09:02:28.718Z"
   },
   {
    "duration": 339,
    "start_time": "2022-01-20T09:04:25.262Z"
   },
   {
    "duration": 313,
    "start_time": "2022-01-20T09:04:43.734Z"
   },
   {
    "duration": 16,
    "start_time": "2022-01-20T09:04:45.887Z"
   },
   {
    "duration": 20,
    "start_time": "2022-01-20T09:04:49.229Z"
   },
   {
    "duration": 308,
    "start_time": "2022-01-20T09:05:13.614Z"
   },
   {
    "duration": 7684,
    "start_time": "2022-01-20T09:05:20.287Z"
   },
   {
    "duration": 21,
    "start_time": "2022-01-20T09:05:42.574Z"
   },
   {
    "duration": 21,
    "start_time": "2022-01-20T09:05:56.614Z"
   },
   {
    "duration": 30,
    "start_time": "2022-01-20T09:06:08.686Z"
   },
   {
    "duration": 465,
    "start_time": "2022-01-20T09:08:20.710Z"
   },
   {
    "duration": 60,
    "start_time": "2022-01-20T09:08:31.374Z"
   },
   {
    "duration": 351,
    "start_time": "2022-01-20T09:09:40.599Z"
   },
   {
    "duration": 316,
    "start_time": "2022-01-20T09:09:57.870Z"
   },
   {
    "duration": 801,
    "start_time": "2022-01-20T09:10:15.909Z"
   },
   {
    "duration": 60,
    "start_time": "2022-01-20T09:10:16.713Z"
   },
   {
    "duration": 218,
    "start_time": "2022-01-20T09:10:16.776Z"
   },
   {
    "duration": 132,
    "start_time": "2022-01-20T09:10:16.997Z"
   },
   {
    "duration": 220,
    "start_time": "2022-01-20T09:10:17.132Z"
   },
   {
    "duration": 25,
    "start_time": "2022-01-20T09:10:17.355Z"
   },
   {
    "duration": 16,
    "start_time": "2022-01-20T09:10:17.382Z"
   },
   {
    "duration": 48,
    "start_time": "2022-01-20T09:10:17.402Z"
   },
   {
    "duration": 21,
    "start_time": "2022-01-20T09:10:17.454Z"
   },
   {
    "duration": 24,
    "start_time": "2022-01-20T09:10:17.478Z"
   },
   {
    "duration": 35,
    "start_time": "2022-01-20T09:10:17.505Z"
   },
   {
    "duration": 21,
    "start_time": "2022-01-20T09:10:17.543Z"
   },
   {
    "duration": 11,
    "start_time": "2022-01-20T09:10:17.567Z"
   },
   {
    "duration": 10,
    "start_time": "2022-01-20T09:10:17.580Z"
   },
   {
    "duration": 51,
    "start_time": "2022-01-20T09:10:17.592Z"
   },
   {
    "duration": 20,
    "start_time": "2022-01-20T09:10:17.646Z"
   },
   {
    "duration": 14,
    "start_time": "2022-01-20T09:10:17.668Z"
   },
   {
    "duration": 34,
    "start_time": "2022-01-20T09:10:17.684Z"
   },
   {
    "duration": 59,
    "start_time": "2022-01-20T09:10:17.720Z"
   },
   {
    "duration": 146,
    "start_time": "2022-01-20T09:10:17.781Z"
   },
   {
    "duration": 30,
    "start_time": "2022-01-20T09:10:17.929Z"
   },
   {
    "duration": 18,
    "start_time": "2022-01-20T09:10:17.961Z"
   },
   {
    "duration": 10,
    "start_time": "2022-01-20T09:10:17.984Z"
   },
   {
    "duration": 70,
    "start_time": "2022-01-20T09:10:17.997Z"
   },
   {
    "duration": 25,
    "start_time": "2022-01-20T09:10:18.070Z"
   },
   {
    "duration": 79,
    "start_time": "2022-01-20T09:10:18.098Z"
   },
   {
    "duration": 14,
    "start_time": "2022-01-20T09:10:18.179Z"
   },
   {
    "duration": 14,
    "start_time": "2022-01-20T09:10:18.195Z"
   },
   {
    "duration": 31,
    "start_time": "2022-01-20T09:10:18.235Z"
   },
   {
    "duration": 32,
    "start_time": "2022-01-20T09:10:18.269Z"
   },
   {
    "duration": 88,
    "start_time": "2022-01-20T09:10:18.303Z"
   },
   {
    "duration": 15,
    "start_time": "2022-01-20T09:10:18.394Z"
   },
   {
    "duration": 18,
    "start_time": "2022-01-20T09:10:18.434Z"
   },
   {
    "duration": 13,
    "start_time": "2022-01-20T09:10:18.454Z"
   },
   {
    "duration": 12,
    "start_time": "2022-01-20T09:10:18.469Z"
   },
   {
    "duration": 53,
    "start_time": "2022-01-20T09:10:18.483Z"
   },
   {
    "duration": 44,
    "start_time": "2022-01-20T09:10:18.539Z"
   },
   {
    "duration": 12,
    "start_time": "2022-01-20T09:10:18.585Z"
   },
   {
    "duration": 80,
    "start_time": "2022-01-20T09:10:18.599Z"
   },
   {
    "duration": 28,
    "start_time": "2022-01-20T09:10:18.682Z"
   },
   {
    "duration": 441,
    "start_time": "2022-01-20T09:10:18.713Z"
   },
   {
    "duration": 30,
    "start_time": "2022-01-20T09:11:27.316Z"
   },
   {
    "duration": 343,
    "start_time": "2022-01-20T09:11:29.469Z"
   },
   {
    "duration": 337,
    "start_time": "2022-01-20T09:11:32.463Z"
   },
   {
    "duration": 42,
    "start_time": "2022-01-20T09:11:43.565Z"
   },
   {
    "duration": 29,
    "start_time": "2022-01-20T09:11:54.884Z"
   },
   {
    "duration": 32,
    "start_time": "2022-01-20T09:12:27.789Z"
   },
   {
    "duration": 29,
    "start_time": "2022-01-20T09:12:35.749Z"
   },
   {
    "duration": 100,
    "start_time": "2022-01-20T09:12:53.190Z"
   },
   {
    "duration": 31,
    "start_time": "2022-01-20T09:12:57.084Z"
   },
   {
    "duration": 13,
    "start_time": "2022-01-20T09:18:04.956Z"
   },
   {
    "duration": 7541,
    "start_time": "2022-01-20T09:18:51.372Z"
   },
   {
    "duration": 32,
    "start_time": "2022-01-20T09:18:59.413Z"
   },
   {
    "duration": 13,
    "start_time": "2022-01-20T09:19:05.678Z"
   },
   {
    "duration": 32,
    "start_time": "2022-01-20T09:19:05.876Z"
   },
   {
    "duration": 704,
    "start_time": "2022-01-20T09:19:12.882Z"
   },
   {
    "duration": 47,
    "start_time": "2022-01-20T09:19:13.589Z"
   },
   {
    "duration": 201,
    "start_time": "2022-01-20T09:19:13.639Z"
   },
   {
    "duration": 119,
    "start_time": "2022-01-20T09:19:13.843Z"
   },
   {
    "duration": 198,
    "start_time": "2022-01-20T09:19:13.964Z"
   },
   {
    "duration": 24,
    "start_time": "2022-01-20T09:19:14.165Z"
   },
   {
    "duration": 9,
    "start_time": "2022-01-20T09:19:14.192Z"
   },
   {
    "duration": 48,
    "start_time": "2022-01-20T09:19:14.205Z"
   },
   {
    "duration": 19,
    "start_time": "2022-01-20T09:19:14.257Z"
   },
   {
    "duration": 21,
    "start_time": "2022-01-20T09:19:14.279Z"
   },
   {
    "duration": 34,
    "start_time": "2022-01-20T09:19:14.302Z"
   },
   {
    "duration": 17,
    "start_time": "2022-01-20T09:19:14.339Z"
   },
   {
    "duration": 9,
    "start_time": "2022-01-20T09:19:14.358Z"
   },
   {
    "duration": 12,
    "start_time": "2022-01-20T09:19:14.370Z"
   },
   {
    "duration": 10,
    "start_time": "2022-01-20T09:19:14.384Z"
   },
   {
    "duration": 9,
    "start_time": "2022-01-20T09:19:14.433Z"
   },
   {
    "duration": 12,
    "start_time": "2022-01-20T09:19:14.445Z"
   },
   {
    "duration": 34,
    "start_time": "2022-01-20T09:19:14.459Z"
   },
   {
    "duration": 73,
    "start_time": "2022-01-20T09:19:14.496Z"
   },
   {
    "duration": 124,
    "start_time": "2022-01-20T09:19:14.571Z"
   },
   {
    "duration": 35,
    "start_time": "2022-01-20T09:19:14.697Z"
   },
   {
    "duration": 14,
    "start_time": "2022-01-20T09:19:14.735Z"
   },
   {
    "duration": 10,
    "start_time": "2022-01-20T09:19:14.754Z"
   },
   {
    "duration": 19,
    "start_time": "2022-01-20T09:19:14.766Z"
   },
   {
    "duration": 60,
    "start_time": "2022-01-20T09:19:14.787Z"
   },
   {
    "duration": 52,
    "start_time": "2022-01-20T09:19:14.849Z"
   },
   {
    "duration": 34,
    "start_time": "2022-01-20T09:19:14.903Z"
   },
   {
    "duration": 11,
    "start_time": "2022-01-20T09:19:14.940Z"
   },
   {
    "duration": 23,
    "start_time": "2022-01-20T09:19:14.954Z"
   },
   {
    "duration": 60,
    "start_time": "2022-01-20T09:19:14.979Z"
   },
   {
    "duration": 50,
    "start_time": "2022-01-20T09:19:15.041Z"
   },
   {
    "duration": 15,
    "start_time": "2022-01-20T09:19:15.094Z"
   },
   {
    "duration": 12,
    "start_time": "2022-01-20T09:19:15.131Z"
   },
   {
    "duration": 14,
    "start_time": "2022-01-20T09:19:15.145Z"
   },
   {
    "duration": 11,
    "start_time": "2022-01-20T09:19:15.161Z"
   },
   {
    "duration": 13,
    "start_time": "2022-01-20T09:19:15.174Z"
   },
   {
    "duration": 68,
    "start_time": "2022-01-20T09:19:15.189Z"
   },
   {
    "duration": 13,
    "start_time": "2022-01-20T09:19:15.260Z"
   },
   {
    "duration": 74,
    "start_time": "2022-01-20T09:19:15.275Z"
   },
   {
    "duration": 28,
    "start_time": "2022-01-20T09:19:15.351Z"
   },
   {
    "duration": 55,
    "start_time": "2022-01-20T09:19:15.381Z"
   },
   {
    "duration": 11,
    "start_time": "2022-01-20T09:19:15.438Z"
   },
   {
    "duration": 35,
    "start_time": "2022-01-20T09:19:15.451Z"
   },
   {
    "duration": 33,
    "start_time": "2022-01-20T09:20:29.745Z"
   },
   {
    "duration": 39,
    "start_time": "2022-01-20T09:24:42.209Z"
   },
   {
    "duration": 19,
    "start_time": "2022-01-20T09:28:52.186Z"
   },
   {
    "duration": 29,
    "start_time": "2022-01-20T09:28:56.712Z"
   },
   {
    "duration": 512,
    "start_time": "2022-01-20T09:32:06.945Z"
   },
   {
    "duration": 7,
    "start_time": "2022-01-20T09:32:23.929Z"
   },
   {
    "duration": 18,
    "start_time": "2022-01-20T09:32:29.329Z"
   },
   {
    "duration": 6,
    "start_time": "2022-01-20T09:33:42.841Z"
   },
   {
    "duration": 18,
    "start_time": "2022-01-20T09:33:45.186Z"
   },
   {
    "duration": 5,
    "start_time": "2022-01-20T09:33:55.457Z"
   },
   {
    "duration": 16,
    "start_time": "2022-01-20T09:33:55.970Z"
   },
   {
    "duration": 5,
    "start_time": "2022-01-20T09:35:35.242Z"
   },
   {
    "duration": 16,
    "start_time": "2022-01-20T09:35:36.144Z"
   },
   {
    "duration": 29,
    "start_time": "2022-01-20T09:40:03.225Z"
   },
   {
    "duration": 10,
    "start_time": "2022-01-20T09:40:18.345Z"
   },
   {
    "duration": 9,
    "start_time": "2022-01-20T09:40:23.841Z"
   },
   {
    "duration": 10,
    "start_time": "2022-01-20T09:40:28.169Z"
   },
   {
    "duration": 30,
    "start_time": "2022-01-20T09:40:39.465Z"
   },
   {
    "duration": 6,
    "start_time": "2022-01-20T09:40:40.240Z"
   },
   {
    "duration": 17,
    "start_time": "2022-01-20T09:40:40.713Z"
   },
   {
    "duration": 103,
    "start_time": "2022-01-20T09:42:49.081Z"
   },
   {
    "duration": 5,
    "start_time": "2022-01-20T09:43:05.145Z"
   },
   {
    "duration": 16,
    "start_time": "2022-01-20T09:43:06.881Z"
   },
   {
    "duration": 6,
    "start_time": "2022-01-20T09:43:15.808Z"
   },
   {
    "duration": 17,
    "start_time": "2022-01-20T09:43:16.337Z"
   },
   {
    "duration": 5,
    "start_time": "2022-01-20T09:43:54.233Z"
   },
   {
    "duration": 17,
    "start_time": "2022-01-20T09:43:54.736Z"
   },
   {
    "duration": 320,
    "start_time": "2022-01-20T09:44:39.208Z"
   },
   {
    "duration": 321,
    "start_time": "2022-01-20T09:44:46.386Z"
   },
   {
    "duration": 5,
    "start_time": "2022-01-20T09:44:50.609Z"
   },
   {
    "duration": 17,
    "start_time": "2022-01-20T09:44:51.937Z"
   },
   {
    "duration": 356,
    "start_time": "2022-01-20T09:46:29.541Z"
   },
   {
    "duration": 4,
    "start_time": "2022-01-20T09:46:41.977Z"
   },
   {
    "duration": 17,
    "start_time": "2022-01-20T09:46:42.993Z"
   },
   {
    "duration": 5,
    "start_time": "2022-01-20T09:46:56.051Z"
   },
   {
    "duration": 16,
    "start_time": "2022-01-20T09:46:56.737Z"
   },
   {
    "duration": 4,
    "start_time": "2022-01-20T09:47:03.273Z"
   },
   {
    "duration": 17,
    "start_time": "2022-01-20T09:47:03.696Z"
   },
   {
    "duration": 25,
    "start_time": "2022-01-20T09:53:23.785Z"
   },
   {
    "duration": 28,
    "start_time": "2022-01-20T09:54:11.641Z"
   },
   {
    "duration": 22,
    "start_time": "2022-01-20T09:55:55.033Z"
   },
   {
    "duration": 47,
    "start_time": "2022-01-20T10:03:40.113Z"
   },
   {
    "duration": 33,
    "start_time": "2022-01-20T10:04:35.105Z"
   },
   {
    "duration": 32,
    "start_time": "2022-01-20T10:04:59.769Z"
   },
   {
    "duration": 6,
    "start_time": "2022-01-20T10:05:10.279Z"
   },
   {
    "duration": 23,
    "start_time": "2022-01-20T10:05:10.616Z"
   },
   {
    "duration": 16,
    "start_time": "2022-01-20T10:05:38.665Z"
   },
   {
    "duration": 10,
    "start_time": "2022-01-20T10:09:48.818Z"
   },
   {
    "duration": 20,
    "start_time": "2022-01-20T10:09:53.912Z"
   },
   {
    "duration": 18,
    "start_time": "2022-01-20T10:10:19.536Z"
   },
   {
    "duration": 21,
    "start_time": "2022-01-20T10:10:29.376Z"
   },
   {
    "duration": 16,
    "start_time": "2022-01-20T10:10:34.376Z"
   },
   {
    "duration": 13,
    "start_time": "2022-01-20T10:10:50.017Z"
   },
   {
    "duration": 16,
    "start_time": "2022-01-20T10:14:09.360Z"
   },
   {
    "duration": 25,
    "start_time": "2022-01-20T10:14:10.032Z"
   },
   {
    "duration": 14,
    "start_time": "2022-01-20T10:16:17.455Z"
   },
   {
    "duration": 326,
    "start_time": "2022-01-20T10:16:59.752Z"
   },
   {
    "duration": 25,
    "start_time": "2022-01-20T10:18:33.761Z"
   },
   {
    "duration": 14,
    "start_time": "2022-01-20T10:19:49.128Z"
   },
   {
    "duration": 9,
    "start_time": "2022-01-20T10:20:40.943Z"
   },
   {
    "duration": 28,
    "start_time": "2022-01-20T10:20:45.776Z"
   },
   {
    "duration": 31,
    "start_time": "2022-01-20T10:24:38.039Z"
   },
   {
    "duration": 15,
    "start_time": "2022-01-20T10:25:35.136Z"
   },
   {
    "duration": 106,
    "start_time": "2022-01-20T10:26:01.880Z"
   },
   {
    "duration": 6,
    "start_time": "2022-01-20T10:27:01.008Z"
   },
   {
    "duration": 49,
    "start_time": "2022-01-20T10:27:13.561Z"
   },
   {
    "duration": 56,
    "start_time": "2022-01-20T10:27:26.184Z"
   },
   {
    "duration": 49,
    "start_time": "2022-01-20T10:27:38.977Z"
   },
   {
    "duration": 11,
    "start_time": "2022-01-20T10:27:59.065Z"
   },
   {
    "duration": 15,
    "start_time": "2022-01-20T10:28:02.616Z"
   },
   {
    "duration": 786,
    "start_time": "2022-01-20T10:28:15.415Z"
   },
   {
    "duration": 66,
    "start_time": "2022-01-20T10:28:16.204Z"
   },
   {
    "duration": 480,
    "start_time": "2022-01-20T10:28:16.274Z"
   },
   {
    "duration": 121,
    "start_time": "2022-01-20T10:28:16.756Z"
   },
   {
    "duration": 438,
    "start_time": "2022-01-20T10:28:16.879Z"
   },
   {
    "duration": 25,
    "start_time": "2022-01-20T10:28:17.319Z"
   },
   {
    "duration": 16,
    "start_time": "2022-01-20T10:28:17.347Z"
   },
   {
    "duration": 28,
    "start_time": "2022-01-20T10:28:17.368Z"
   },
   {
    "duration": 41,
    "start_time": "2022-01-20T10:28:17.400Z"
   },
   {
    "duration": 24,
    "start_time": "2022-01-20T10:28:17.444Z"
   },
   {
    "duration": 8,
    "start_time": "2022-01-20T10:28:17.471Z"
   },
   {
    "duration": 56,
    "start_time": "2022-01-20T10:28:17.481Z"
   },
   {
    "duration": 10,
    "start_time": "2022-01-20T10:28:17.540Z"
   },
   {
    "duration": 17,
    "start_time": "2022-01-20T10:28:17.553Z"
   },
   {
    "duration": 17,
    "start_time": "2022-01-20T10:28:17.573Z"
   },
   {
    "duration": 13,
    "start_time": "2022-01-20T10:28:17.593Z"
   },
   {
    "duration": 32,
    "start_time": "2022-01-20T10:28:17.608Z"
   },
   {
    "duration": 29,
    "start_time": "2022-01-20T10:28:17.642Z"
   },
   {
    "duration": 66,
    "start_time": "2022-01-20T10:28:17.674Z"
   },
   {
    "duration": 137,
    "start_time": "2022-01-20T10:28:17.742Z"
   },
   {
    "duration": 24,
    "start_time": "2022-01-20T10:28:17.882Z"
   },
   {
    "duration": 36,
    "start_time": "2022-01-20T10:28:17.909Z"
   },
   {
    "duration": 12,
    "start_time": "2022-01-20T10:28:17.953Z"
   },
   {
    "duration": 21,
    "start_time": "2022-01-20T10:28:17.969Z"
   },
   {
    "duration": 65,
    "start_time": "2022-01-20T10:28:17.993Z"
   },
   {
    "duration": 78,
    "start_time": "2022-01-20T10:28:18.061Z"
   },
   {
    "duration": 16,
    "start_time": "2022-01-20T10:28:18.142Z"
   },
   {
    "duration": 12,
    "start_time": "2022-01-20T10:28:18.161Z"
   },
   {
    "duration": 61,
    "start_time": "2022-01-20T10:28:18.176Z"
   },
   {
    "duration": 30,
    "start_time": "2022-01-20T10:28:18.241Z"
   },
   {
    "duration": 86,
    "start_time": "2022-01-20T10:28:18.273Z"
   },
   {
    "duration": 18,
    "start_time": "2022-01-20T10:28:18.362Z"
   },
   {
    "duration": 12,
    "start_time": "2022-01-20T10:28:18.383Z"
   },
   {
    "duration": 48,
    "start_time": "2022-01-20T10:28:18.398Z"
   },
   {
    "duration": 13,
    "start_time": "2022-01-20T10:28:18.448Z"
   },
   {
    "duration": 7,
    "start_time": "2022-01-20T10:28:18.463Z"
   },
   {
    "duration": 18,
    "start_time": "2022-01-20T10:28:18.473Z"
   },
   {
    "duration": 42,
    "start_time": "2022-01-20T10:28:18.494Z"
   },
   {
    "duration": 35,
    "start_time": "2022-01-20T10:28:18.538Z"
   },
   {
    "duration": 3,
    "start_time": "2022-01-20T10:28:18.575Z"
   },
   {
    "duration": 20,
    "start_time": "2022-01-20T10:28:18.581Z"
   },
   {
    "duration": 84,
    "start_time": "2022-01-20T10:28:18.603Z"
   },
   {
    "duration": 45,
    "start_time": "2022-01-20T10:28:18.689Z"
   },
   {
    "duration": 37,
    "start_time": "2022-01-20T10:28:18.736Z"
   },
   {
    "duration": 11,
    "start_time": "2022-01-20T10:28:18.776Z"
   },
   {
    "duration": 64,
    "start_time": "2022-01-20T10:28:18.789Z"
   },
   {
    "duration": 34,
    "start_time": "2022-01-20T10:28:18.856Z"
   },
   {
    "duration": 9,
    "start_time": "2022-01-20T10:28:18.892Z"
   },
   {
    "duration": 40,
    "start_time": "2022-01-20T10:28:18.904Z"
   },
   {
    "duration": 20,
    "start_time": "2022-01-20T10:28:18.947Z"
   },
   {
    "duration": 24,
    "start_time": "2022-01-20T10:28:18.969Z"
   },
   {
    "duration": 46,
    "start_time": "2022-01-20T10:28:18.996Z"
   },
   {
    "duration": 13,
    "start_time": "2022-01-20T10:28:19.044Z"
   },
   {
    "duration": 26,
    "start_time": "2022-01-20T10:28:19.059Z"
   },
   {
    "duration": 15,
    "start_time": "2022-01-20T10:30:51.291Z"
   },
   {
    "duration": 16,
    "start_time": "2022-01-20T10:31:00.561Z"
   },
   {
    "duration": 45,
    "start_time": "2022-01-20T10:31:25.418Z"
   },
   {
    "duration": 18,
    "start_time": "2022-01-20T10:31:54.994Z"
   },
   {
    "duration": 17,
    "start_time": "2022-01-20T10:32:01.083Z"
   },
   {
    "duration": 12,
    "start_time": "2022-01-20T10:33:17.026Z"
   },
   {
    "duration": 17,
    "start_time": "2022-01-20T10:33:20.506Z"
   },
   {
    "duration": 419,
    "start_time": "2022-01-20T10:37:31.465Z"
   },
   {
    "duration": 26,
    "start_time": "2022-01-20T10:37:40.897Z"
   },
   {
    "duration": 5,
    "start_time": "2022-01-20T10:37:44.314Z"
   },
   {
    "duration": 6,
    "start_time": "2022-01-20T10:37:50.098Z"
   },
   {
    "duration": 9,
    "start_time": "2022-01-20T10:38:00.506Z"
   },
   {
    "duration": 310,
    "start_time": "2022-01-20T10:39:20.857Z"
   },
   {
    "duration": 15,
    "start_time": "2022-01-20T10:39:27.361Z"
   },
   {
    "duration": 107,
    "start_time": "2022-01-20T10:39:44.809Z"
   },
   {
    "duration": 34,
    "start_time": "2022-01-20T10:39:50.010Z"
   },
   {
    "duration": 21,
    "start_time": "2022-01-20T10:40:04.265Z"
   },
   {
    "duration": 301,
    "start_time": "2022-01-20T10:40:19.209Z"
   },
   {
    "duration": 22,
    "start_time": "2022-01-20T10:40:25.785Z"
   },
   {
    "duration": 22,
    "start_time": "2022-01-20T10:41:47.713Z"
   },
   {
    "duration": 14,
    "start_time": "2022-01-20T10:42:04.576Z"
   },
   {
    "duration": 11,
    "start_time": "2022-01-20T10:43:00.761Z"
   },
   {
    "duration": 12,
    "start_time": "2022-01-20T10:43:04.505Z"
   },
   {
    "duration": 12,
    "start_time": "2022-01-20T10:43:07.040Z"
   },
   {
    "duration": 302,
    "start_time": "2022-01-20T10:43:24.338Z"
   },
   {
    "duration": 375,
    "start_time": "2022-01-20T10:43:37.161Z"
   },
   {
    "duration": 52,
    "start_time": "2022-01-20T10:44:10.201Z"
   },
   {
    "duration": 58,
    "start_time": "2022-01-20T10:44:36.777Z"
   },
   {
    "duration": 65,
    "start_time": "2022-01-20T10:44:42.033Z"
   },
   {
    "duration": 53,
    "start_time": "2022-01-20T10:44:45.753Z"
   },
   {
    "duration": 64,
    "start_time": "2022-01-20T10:44:55.825Z"
   },
   {
    "duration": 47,
    "start_time": "2022-01-20T10:45:16.866Z"
   },
   {
    "duration": 59,
    "start_time": "2022-01-20T10:45:44.442Z"
   },
   {
    "duration": 56,
    "start_time": "2022-01-20T10:45:50.049Z"
   },
   {
    "duration": 64,
    "start_time": "2022-01-20T10:45:56.161Z"
   },
   {
    "duration": 50,
    "start_time": "2022-01-20T10:46:04.305Z"
   },
   {
    "duration": 71,
    "start_time": "2022-01-20T10:46:08.185Z"
   },
   {
    "duration": 11,
    "start_time": "2022-01-20T10:47:48.913Z"
   },
   {
    "duration": 12,
    "start_time": "2022-01-20T10:47:50.305Z"
   },
   {
    "duration": 57,
    "start_time": "2022-01-20T10:47:50.976Z"
   },
   {
    "duration": 61,
    "start_time": "2022-01-20T10:48:10.720Z"
   },
   {
    "duration": 30,
    "start_time": "2022-01-20T10:48:12.761Z"
   },
   {
    "duration": 16,
    "start_time": "2022-01-20T10:48:13.850Z"
   },
   {
    "duration": 759,
    "start_time": "2022-01-20T10:48:20.009Z"
   },
   {
    "duration": 48,
    "start_time": "2022-01-20T10:48:20.771Z"
   },
   {
    "duration": 211,
    "start_time": "2022-01-20T10:48:20.822Z"
   },
   {
    "duration": 124,
    "start_time": "2022-01-20T10:48:21.036Z"
   },
   {
    "duration": 198,
    "start_time": "2022-01-20T10:48:21.163Z"
   },
   {
    "duration": 24,
    "start_time": "2022-01-20T10:48:21.363Z"
   },
   {
    "duration": 9,
    "start_time": "2022-01-20T10:48:21.390Z"
   },
   {
    "duration": 44,
    "start_time": "2022-01-20T10:48:21.403Z"
   },
   {
    "duration": 19,
    "start_time": "2022-01-20T10:48:21.450Z"
   },
   {
    "duration": 33,
    "start_time": "2022-01-20T10:48:21.471Z"
   },
   {
    "duration": 27,
    "start_time": "2022-01-20T10:48:21.506Z"
   },
   {
    "duration": 18,
    "start_time": "2022-01-20T10:48:21.536Z"
   },
   {
    "duration": 11,
    "start_time": "2022-01-20T10:48:21.557Z"
   },
   {
    "duration": 8,
    "start_time": "2022-01-20T10:48:21.571Z"
   },
   {
    "duration": 12,
    "start_time": "2022-01-20T10:48:21.582Z"
   },
   {
    "duration": 42,
    "start_time": "2022-01-20T10:48:21.597Z"
   },
   {
    "duration": 12,
    "start_time": "2022-01-20T10:48:21.642Z"
   },
   {
    "duration": 30,
    "start_time": "2022-01-20T10:48:21.656Z"
   },
   {
    "duration": 76,
    "start_time": "2022-01-20T10:48:21.688Z"
   },
   {
    "duration": 128,
    "start_time": "2022-01-20T10:48:21.767Z"
   },
   {
    "duration": 34,
    "start_time": "2022-01-20T10:48:21.898Z"
   },
   {
    "duration": 16,
    "start_time": "2022-01-20T10:48:21.935Z"
   },
   {
    "duration": 9,
    "start_time": "2022-01-20T10:48:21.956Z"
   },
   {
    "duration": 19,
    "start_time": "2022-01-20T10:48:21.969Z"
   },
   {
    "duration": 61,
    "start_time": "2022-01-20T10:48:21.991Z"
   },
   {
    "duration": 50,
    "start_time": "2022-01-20T10:48:22.054Z"
   },
   {
    "duration": 32,
    "start_time": "2022-01-20T10:48:22.106Z"
   },
   {
    "duration": 11,
    "start_time": "2022-01-20T10:48:22.140Z"
   },
   {
    "duration": 26,
    "start_time": "2022-01-20T10:48:22.153Z"
   },
   {
    "duration": 56,
    "start_time": "2022-01-20T10:48:22.182Z"
   },
   {
    "duration": 53,
    "start_time": "2022-01-20T10:48:22.240Z"
   },
   {
    "duration": 37,
    "start_time": "2022-01-20T10:48:22.295Z"
   },
   {
    "duration": 12,
    "start_time": "2022-01-20T10:48:22.335Z"
   },
   {
    "duration": 16,
    "start_time": "2022-01-20T10:48:22.350Z"
   },
   {
    "duration": 16,
    "start_time": "2022-01-20T10:48:22.368Z"
   },
   {
    "duration": 48,
    "start_time": "2022-01-20T10:48:22.387Z"
   },
   {
    "duration": 55,
    "start_time": "2022-01-20T10:48:22.438Z"
   },
   {
    "duration": 53,
    "start_time": "2022-01-20T10:48:22.495Z"
   },
   {
    "duration": 18,
    "start_time": "2022-01-20T10:48:22.550Z"
   },
   {
    "duration": 79,
    "start_time": "2022-01-20T10:48:22.571Z"
   },
   {
    "duration": 29,
    "start_time": "2022-01-20T10:48:22.652Z"
   },
   {
    "duration": 52,
    "start_time": "2022-01-20T10:48:22.683Z"
   },
   {
    "duration": 11,
    "start_time": "2022-01-20T10:48:22.737Z"
   },
   {
    "duration": 37,
    "start_time": "2022-01-20T10:48:22.750Z"
   },
   {
    "duration": 52,
    "start_time": "2022-01-20T10:48:22.789Z"
   },
   {
    "duration": 11,
    "start_time": "2022-01-20T10:48:22.843Z"
   },
   {
    "duration": 14,
    "start_time": "2022-01-20T10:48:22.856Z"
   },
   {
    "duration": 21,
    "start_time": "2022-01-20T10:48:22.874Z"
   },
   {
    "duration": 51,
    "start_time": "2022-01-20T10:48:22.897Z"
   },
   {
    "duration": 14,
    "start_time": "2022-01-20T10:48:22.950Z"
   },
   {
    "duration": 10,
    "start_time": "2022-01-20T10:48:22.967Z"
   },
   {
    "duration": 27,
    "start_time": "2022-01-20T10:48:22.979Z"
   },
   {
    "duration": 16,
    "start_time": "2022-01-20T10:48:46.262Z"
   },
   {
    "duration": 51,
    "start_time": "2022-01-20T10:48:58.231Z"
   },
   {
    "duration": 32,
    "start_time": "2022-01-20T10:48:59.597Z"
   },
   {
    "duration": 22,
    "start_time": "2022-01-20T10:48:59.942Z"
   },
   {
    "duration": 75,
    "start_time": "2022-01-20T10:49:15.104Z"
   },
   {
    "duration": 29,
    "start_time": "2022-01-20T10:50:06.246Z"
   },
   {
    "duration": 32,
    "start_time": "2022-01-20T10:50:06.597Z"
   },
   {
    "duration": 12,
    "start_time": "2022-01-20T10:50:06.941Z"
   },
   {
    "duration": 31,
    "start_time": "2022-01-20T10:50:07.239Z"
   },
   {
    "duration": 29,
    "start_time": "2022-01-20T10:50:07.717Z"
   },
   {
    "duration": 8,
    "start_time": "2022-01-20T10:50:08.381Z"
   },
   {
    "duration": 16,
    "start_time": "2022-01-20T10:50:08.589Z"
   },
   {
    "duration": 17,
    "start_time": "2022-01-20T10:50:09.213Z"
   },
   {
    "duration": 30,
    "start_time": "2022-01-20T10:50:10.693Z"
   },
   {
    "duration": 41,
    "start_time": "2022-01-20T10:50:15.767Z"
   },
   {
    "duration": 25,
    "start_time": "2022-01-20T10:50:21.869Z"
   },
   {
    "duration": 23,
    "start_time": "2022-01-20T10:50:30.160Z"
   },
   {
    "duration": 21,
    "start_time": "2022-01-20T10:51:23.767Z"
   },
   {
    "duration": 29,
    "start_time": "2022-01-20T10:52:16.672Z"
   },
   {
    "duration": 25,
    "start_time": "2022-01-20T10:52:29.774Z"
   },
   {
    "duration": 7,
    "start_time": "2022-01-20T10:52:54.087Z"
   },
   {
    "duration": 24,
    "start_time": "2022-01-20T10:52:59.286Z"
   },
   {
    "duration": 28,
    "start_time": "2022-01-20T10:53:22.919Z"
   },
   {
    "duration": 25,
    "start_time": "2022-01-20T10:53:29.927Z"
   },
   {
    "duration": 26,
    "start_time": "2022-01-20T10:53:36.262Z"
   },
   {
    "duration": 399,
    "start_time": "2022-01-20T10:53:37.215Z"
   },
   {
    "duration": 310,
    "start_time": "2022-01-20T10:53:43.702Z"
   },
   {
    "duration": 27,
    "start_time": "2022-01-20T10:53:48.981Z"
   },
   {
    "duration": 100,
    "start_time": "2022-01-20T10:58:15.534Z"
   },
   {
    "duration": 4185,
    "start_time": "2022-01-20T10:58:19.349Z"
   },
   {
    "duration": 65,
    "start_time": "2022-01-20T10:58:44.103Z"
   },
   {
    "duration": 80,
    "start_time": "2022-01-20T10:58:49.845Z"
   },
   {
    "duration": 134,
    "start_time": "2022-01-20T11:02:45.896Z"
   },
   {
    "duration": 151,
    "start_time": "2022-01-20T11:02:50.384Z"
   },
   {
    "duration": 170,
    "start_time": "2022-01-20T11:02:54.959Z"
   },
   {
    "duration": 116,
    "start_time": "2022-01-20T11:14:29.111Z"
   },
   {
    "duration": 179,
    "start_time": "2022-01-20T11:14:32.903Z"
   },
   {
    "duration": 98,
    "start_time": "2022-01-20T11:15:58.526Z"
   },
   {
    "duration": 306,
    "start_time": "2022-01-20T11:16:03.334Z"
   },
   {
    "duration": 314,
    "start_time": "2022-01-20T11:16:10.686Z"
   },
   {
    "duration": 118,
    "start_time": "2022-01-20T11:17:08.720Z"
   },
   {
    "duration": 1196,
    "start_time": "2022-01-20T11:23:57.447Z"
   },
   {
    "duration": 175,
    "start_time": "2022-01-20T11:24:17.865Z"
   },
   {
    "duration": 1162,
    "start_time": "2022-01-20T11:24:19.454Z"
   },
   {
    "duration": 190,
    "start_time": "2022-01-20T11:24:31.214Z"
   },
   {
    "duration": 10,
    "start_time": "2022-01-20T11:24:37.822Z"
   },
   {
    "duration": 24,
    "start_time": "2022-01-20T11:24:52.918Z"
   },
   {
    "duration": 121,
    "start_time": "2022-01-20T11:27:39.248Z"
   },
   {
    "duration": 100,
    "start_time": "2022-01-20T11:27:49.774Z"
   },
   {
    "duration": 105,
    "start_time": "2022-01-20T11:28:14.029Z"
   },
   {
    "duration": 122,
    "start_time": "2022-01-20T11:28:49.525Z"
   },
   {
    "duration": 100,
    "start_time": "2022-01-20T11:28:56.007Z"
   },
   {
    "duration": 781,
    "start_time": "2022-01-20T11:29:02.979Z"
   },
   {
    "duration": 49,
    "start_time": "2022-01-20T11:29:03.763Z"
   },
   {
    "duration": 219,
    "start_time": "2022-01-20T11:29:03.815Z"
   },
   {
    "duration": 122,
    "start_time": "2022-01-20T11:29:04.037Z"
   },
   {
    "duration": 202,
    "start_time": "2022-01-20T11:29:04.162Z"
   },
   {
    "duration": 27,
    "start_time": "2022-01-20T11:29:04.366Z"
   },
   {
    "duration": 14,
    "start_time": "2022-01-20T11:29:04.395Z"
   },
   {
    "duration": 47,
    "start_time": "2022-01-20T11:29:04.413Z"
   },
   {
    "duration": 20,
    "start_time": "2022-01-20T11:29:04.463Z"
   },
   {
    "duration": 49,
    "start_time": "2022-01-20T11:29:04.485Z"
   },
   {
    "duration": 8,
    "start_time": "2022-01-20T11:29:04.537Z"
   },
   {
    "duration": 17,
    "start_time": "2022-01-20T11:29:04.548Z"
   },
   {
    "duration": 15,
    "start_time": "2022-01-20T11:29:04.568Z"
   },
   {
    "duration": 9,
    "start_time": "2022-01-20T11:29:04.586Z"
   },
   {
    "duration": 41,
    "start_time": "2022-01-20T11:29:04.597Z"
   },
   {
    "duration": 9,
    "start_time": "2022-01-20T11:29:04.640Z"
   },
   {
    "duration": 12,
    "start_time": "2022-01-20T11:29:04.652Z"
   },
   {
    "duration": 32,
    "start_time": "2022-01-20T11:29:04.666Z"
   },
   {
    "duration": 78,
    "start_time": "2022-01-20T11:29:04.700Z"
   },
   {
    "duration": 145,
    "start_time": "2022-01-20T11:29:04.781Z"
   },
   {
    "duration": 23,
    "start_time": "2022-01-20T11:29:04.928Z"
   },
   {
    "duration": 16,
    "start_time": "2022-01-20T11:29:04.954Z"
   },
   {
    "duration": 11,
    "start_time": "2022-01-20T11:29:04.976Z"
   },
   {
    "duration": 59,
    "start_time": "2022-01-20T11:29:04.990Z"
   },
   {
    "duration": 24,
    "start_time": "2022-01-20T11:29:05.052Z"
   },
   {
    "duration": 80,
    "start_time": "2022-01-20T11:29:05.078Z"
   },
   {
    "duration": 15,
    "start_time": "2022-01-20T11:29:05.160Z"
   },
   {
    "duration": 20,
    "start_time": "2022-01-20T11:29:05.177Z"
   },
   {
    "duration": 43,
    "start_time": "2022-01-20T11:29:05.200Z"
   },
   {
    "duration": 29,
    "start_time": "2022-01-20T11:29:05.245Z"
   },
   {
    "duration": 80,
    "start_time": "2022-01-20T11:29:05.277Z"
   },
   {
    "duration": 17,
    "start_time": "2022-01-20T11:29:05.359Z"
   },
   {
    "duration": 15,
    "start_time": "2022-01-20T11:29:05.378Z"
   },
   {
    "duration": 44,
    "start_time": "2022-01-20T11:29:05.397Z"
   },
   {
    "duration": 14,
    "start_time": "2022-01-20T11:29:05.444Z"
   },
   {
    "duration": 19,
    "start_time": "2022-01-20T11:29:05.461Z"
   },
   {
    "duration": 75,
    "start_time": "2022-01-20T11:29:05.482Z"
   },
   {
    "duration": 30,
    "start_time": "2022-01-20T11:29:05.560Z"
   },
   {
    "duration": 47,
    "start_time": "2022-01-20T11:29:05.593Z"
   },
   {
    "duration": 101,
    "start_time": "2022-01-20T11:29:05.643Z"
   },
   {
    "duration": 30,
    "start_time": "2022-01-20T11:29:05.747Z"
   },
   {
    "duration": 58,
    "start_time": "2022-01-20T11:29:05.780Z"
   },
   {
    "duration": 12,
    "start_time": "2022-01-20T11:29:05.840Z"
   },
   {
    "duration": 35,
    "start_time": "2022-01-20T11:29:05.855Z"
   },
   {
    "duration": 68,
    "start_time": "2022-01-20T11:29:05.893Z"
   },
   {
    "duration": 11,
    "start_time": "2022-01-20T11:29:05.963Z"
   },
   {
    "duration": 23,
    "start_time": "2022-01-20T11:29:05.977Z"
   },
   {
    "duration": 43,
    "start_time": "2022-01-20T11:29:06.002Z"
   },
   {
    "duration": 25,
    "start_time": "2022-01-20T11:29:06.048Z"
   },
   {
    "duration": 24,
    "start_time": "2022-01-20T11:29:06.076Z"
   },
   {
    "duration": 120,
    "start_time": "2022-01-20T11:29:06.131Z"
   },
   {
    "duration": -24,
    "start_time": "2022-01-20T11:29:06.277Z"
   },
   {
    "duration": 172,
    "start_time": "2022-01-20T11:29:29.551Z"
   },
   {
    "duration": 180,
    "start_time": "2022-01-20T11:29:49.855Z"
   },
   {
    "duration": 175,
    "start_time": "2022-01-20T11:31:37.058Z"
   },
   {
    "duration": 187,
    "start_time": "2022-01-20T11:36:29.641Z"
   },
   {
    "duration": 12,
    "start_time": "2022-01-20T11:36:58.959Z"
   },
   {
    "duration": 11,
    "start_time": "2022-01-20T11:37:05.855Z"
   },
   {
    "duration": 837,
    "start_time": "2022-01-20T11:37:40.683Z"
   },
   {
    "duration": 62,
    "start_time": "2022-01-20T11:37:41.523Z"
   },
   {
    "duration": 207,
    "start_time": "2022-01-20T11:37:41.593Z"
   },
   {
    "duration": 120,
    "start_time": "2022-01-20T11:37:41.803Z"
   },
   {
    "duration": 213,
    "start_time": "2022-01-20T11:37:41.926Z"
   },
   {
    "duration": 24,
    "start_time": "2022-01-20T11:37:42.142Z"
   },
   {
    "duration": 10,
    "start_time": "2022-01-20T11:37:42.170Z"
   },
   {
    "duration": 26,
    "start_time": "2022-01-20T11:37:42.183Z"
   },
   {
    "duration": 18,
    "start_time": "2022-01-20T11:37:42.233Z"
   },
   {
    "duration": 22,
    "start_time": "2022-01-20T11:37:42.253Z"
   },
   {
    "duration": 8,
    "start_time": "2022-01-20T11:37:42.277Z"
   },
   {
    "duration": 53,
    "start_time": "2022-01-20T11:37:42.287Z"
   },
   {
    "duration": 18,
    "start_time": "2022-01-20T11:37:42.342Z"
   },
   {
    "duration": 15,
    "start_time": "2022-01-20T11:37:42.363Z"
   },
   {
    "duration": 11,
    "start_time": "2022-01-20T11:37:42.380Z"
   },
   {
    "duration": 9,
    "start_time": "2022-01-20T11:37:42.393Z"
   },
   {
    "duration": 38,
    "start_time": "2022-01-20T11:37:42.404Z"
   },
   {
    "duration": 26,
    "start_time": "2022-01-20T11:37:42.445Z"
   },
   {
    "duration": 75,
    "start_time": "2022-01-20T11:37:42.473Z"
   },
   {
    "duration": 137,
    "start_time": "2022-01-20T11:37:42.551Z"
   },
   {
    "duration": 24,
    "start_time": "2022-01-20T11:37:42.691Z"
   },
   {
    "duration": 16,
    "start_time": "2022-01-20T11:37:42.735Z"
   },
   {
    "duration": 19,
    "start_time": "2022-01-20T11:37:42.755Z"
   },
   {
    "duration": 34,
    "start_time": "2022-01-20T11:37:42.777Z"
   },
   {
    "duration": 37,
    "start_time": "2022-01-20T11:37:42.814Z"
   },
   {
    "duration": 56,
    "start_time": "2022-01-20T11:37:42.854Z"
   },
   {
    "duration": 14,
    "start_time": "2022-01-20T11:37:42.933Z"
   },
   {
    "duration": 12,
    "start_time": "2022-01-20T11:37:42.949Z"
   },
   {
    "duration": 23,
    "start_time": "2022-01-20T11:37:42.963Z"
   },
   {
    "duration": 63,
    "start_time": "2022-01-20T11:37:42.989Z"
   },
   {
    "duration": 61,
    "start_time": "2022-01-20T11:37:43.054Z"
   },
   {
    "duration": 31,
    "start_time": "2022-01-20T11:37:43.118Z"
   },
   {
    "duration": 12,
    "start_time": "2022-01-20T11:37:43.152Z"
   },
   {
    "duration": 16,
    "start_time": "2022-01-20T11:37:43.167Z"
   },
   {
    "duration": 51,
    "start_time": "2022-01-20T11:37:43.185Z"
   },
   {
    "duration": 14,
    "start_time": "2022-01-20T11:37:43.239Z"
   },
   {
    "duration": 89,
    "start_time": "2022-01-20T11:37:43.256Z"
   },
   {
    "duration": 34,
    "start_time": "2022-01-20T11:37:43.348Z"
   },
   {
    "duration": 49,
    "start_time": "2022-01-20T11:37:43.385Z"
   },
   {
    "duration": 110,
    "start_time": "2022-01-20T11:37:43.437Z"
   },
   {
    "duration": 28,
    "start_time": "2022-01-20T11:37:43.550Z"
   },
   {
    "duration": 60,
    "start_time": "2022-01-20T11:37:43.581Z"
   },
   {
    "duration": 12,
    "start_time": "2022-01-20T11:37:43.644Z"
   },
   {
    "duration": 36,
    "start_time": "2022-01-20T11:37:43.659Z"
   },
   {
    "duration": 55,
    "start_time": "2022-01-20T11:37:43.698Z"
   },
   {
    "duration": 9,
    "start_time": "2022-01-20T11:37:43.756Z"
   },
   {
    "duration": 25,
    "start_time": "2022-01-20T11:37:43.768Z"
   },
   {
    "duration": 43,
    "start_time": "2022-01-20T11:37:43.795Z"
   },
   {
    "duration": 26,
    "start_time": "2022-01-20T11:37:43.841Z"
   },
   {
    "duration": 24,
    "start_time": "2022-01-20T11:37:43.869Z"
   },
   {
    "duration": 211,
    "start_time": "2022-01-20T11:37:43.895Z"
   },
   {
    "duration": 24,
    "start_time": "2022-01-20T11:37:44.108Z"
   },
   {
    "duration": 11,
    "start_time": "2022-01-20T11:38:13.734Z"
   },
   {
    "duration": 25,
    "start_time": "2022-01-20T11:38:33.015Z"
   },
   {
    "duration": 190,
    "start_time": "2022-01-20T11:39:13.752Z"
   },
   {
    "duration": 175,
    "start_time": "2022-01-20T11:39:21.808Z"
   },
   {
    "duration": 17,
    "start_time": "2022-01-20T11:40:03.722Z"
   },
   {
    "duration": 172,
    "start_time": "2022-01-20T11:40:39.782Z"
   },
   {
    "duration": 18,
    "start_time": "2022-01-20T11:40:43.429Z"
   },
   {
    "duration": 207,
    "start_time": "2022-01-20T11:47:19.135Z"
   },
   {
    "duration": 23,
    "start_time": "2022-01-20T11:47:22.910Z"
   },
   {
    "duration": 753,
    "start_time": "2022-01-20T11:48:04.131Z"
   },
   {
    "duration": 48,
    "start_time": "2022-01-20T11:48:04.887Z"
   },
   {
    "duration": 219,
    "start_time": "2022-01-20T11:48:04.938Z"
   },
   {
    "duration": 123,
    "start_time": "2022-01-20T11:48:05.160Z"
   },
   {
    "duration": 193,
    "start_time": "2022-01-20T11:48:05.285Z"
   },
   {
    "duration": 24,
    "start_time": "2022-01-20T11:48:05.481Z"
   },
   {
    "duration": 26,
    "start_time": "2022-01-20T11:48:05.508Z"
   },
   {
    "duration": 28,
    "start_time": "2022-01-20T11:48:05.539Z"
   },
   {
    "duration": 20,
    "start_time": "2022-01-20T11:48:05.572Z"
   },
   {
    "duration": 54,
    "start_time": "2022-01-20T11:48:05.595Z"
   },
   {
    "duration": 8,
    "start_time": "2022-01-20T11:48:05.653Z"
   },
   {
    "duration": 19,
    "start_time": "2022-01-20T11:48:05.664Z"
   },
   {
    "duration": 11,
    "start_time": "2022-01-20T11:48:05.685Z"
   },
   {
    "duration": 11,
    "start_time": "2022-01-20T11:48:05.734Z"
   },
   {
    "duration": 16,
    "start_time": "2022-01-20T11:48:05.748Z"
   },
   {
    "duration": 11,
    "start_time": "2022-01-20T11:48:05.767Z"
   },
   {
    "duration": 13,
    "start_time": "2022-01-20T11:48:05.781Z"
   },
   {
    "duration": 28,
    "start_time": "2022-01-20T11:48:05.833Z"
   },
   {
    "duration": 71,
    "start_time": "2022-01-20T11:48:05.864Z"
   },
   {
    "duration": 128,
    "start_time": "2022-01-20T11:48:05.938Z"
   },
   {
    "duration": 24,
    "start_time": "2022-01-20T11:48:06.069Z"
   },
   {
    "duration": 15,
    "start_time": "2022-01-20T11:48:06.095Z"
   },
   {
    "duration": 10,
    "start_time": "2022-01-20T11:48:06.136Z"
   },
   {
    "duration": 19,
    "start_time": "2022-01-20T11:48:06.149Z"
   },
   {
    "duration": 24,
    "start_time": "2022-01-20T11:48:06.171Z"
   },
   {
    "duration": 88,
    "start_time": "2022-01-20T11:48:06.197Z"
   },
   {
    "duration": 13,
    "start_time": "2022-01-20T11:48:06.288Z"
   },
   {
    "duration": 37,
    "start_time": "2022-01-20T11:48:06.303Z"
   },
   {
    "duration": 23,
    "start_time": "2022-01-20T11:48:06.342Z"
   },
   {
    "duration": 27,
    "start_time": "2022-01-20T11:48:06.367Z"
   },
   {
    "duration": 85,
    "start_time": "2022-01-20T11:48:06.396Z"
   },
   {
    "duration": 16,
    "start_time": "2022-01-20T11:48:06.484Z"
   },
   {
    "duration": 31,
    "start_time": "2022-01-20T11:48:06.502Z"
   },
   {
    "duration": 12,
    "start_time": "2022-01-20T11:48:06.535Z"
   },
   {
    "duration": 9,
    "start_time": "2022-01-20T11:48:06.549Z"
   },
   {
    "duration": 11,
    "start_time": "2022-01-20T11:48:06.560Z"
   },
   {
    "duration": 93,
    "start_time": "2022-01-20T11:48:06.573Z"
   },
   {
    "duration": 31,
    "start_time": "2022-01-20T11:48:06.668Z"
   },
   {
    "duration": 37,
    "start_time": "2022-01-20T11:48:06.701Z"
   },
   {
    "duration": 101,
    "start_time": "2022-01-20T11:48:06.741Z"
   },
   {
    "duration": 29,
    "start_time": "2022-01-20T11:48:06.844Z"
   },
   {
    "duration": 33,
    "start_time": "2022-01-20T11:48:06.875Z"
   },
   {
    "duration": 15,
    "start_time": "2022-01-20T11:48:06.932Z"
   },
   {
    "duration": 37,
    "start_time": "2022-01-20T11:48:06.950Z"
   },
   {
    "duration": 59,
    "start_time": "2022-01-20T11:48:06.990Z"
   },
   {
    "duration": 11,
    "start_time": "2022-01-20T11:48:07.052Z"
   },
   {
    "duration": 21,
    "start_time": "2022-01-20T11:48:07.065Z"
   },
   {
    "duration": 19,
    "start_time": "2022-01-20T11:48:07.088Z"
   },
   {
    "duration": 26,
    "start_time": "2022-01-20T11:48:07.133Z"
   },
   {
    "duration": 26,
    "start_time": "2022-01-20T11:48:07.161Z"
   },
   {
    "duration": 215,
    "start_time": "2022-01-20T11:48:07.190Z"
   },
   {
    "duration": 187,
    "start_time": "2022-01-20T11:48:07.407Z"
   },
   {
    "duration": 17,
    "start_time": "2022-01-20T11:48:07.596Z"
   },
   {
    "duration": 11,
    "start_time": "2022-01-20T11:48:27.264Z"
   },
   {
    "duration": 182,
    "start_time": "2022-01-20T11:48:57.134Z"
   },
   {
    "duration": 171,
    "start_time": "2022-01-20T11:49:34.247Z"
   },
   {
    "duration": 174,
    "start_time": "2022-01-20T11:51:24.832Z"
   },
   {
    "duration": 10,
    "start_time": "2022-01-20T11:51:34.479Z"
   },
   {
    "duration": 11,
    "start_time": "2022-01-20T11:51:42.486Z"
   },
   {
    "duration": 27,
    "start_time": "2022-01-20T11:51:46.093Z"
   },
   {
    "duration": 466,
    "start_time": "2022-01-20T11:51:53.062Z"
   },
   {
    "duration": 25,
    "start_time": "2022-01-20T11:51:57.687Z"
   },
   {
    "duration": 192,
    "start_time": "2022-01-20T11:53:44.745Z"
   },
   {
    "duration": 17,
    "start_time": "2022-01-20T11:54:23.519Z"
   },
   {
    "duration": 447,
    "start_time": "2022-01-20T11:54:48.114Z"
   },
   {
    "duration": 227,
    "start_time": "2022-01-20T11:56:06.455Z"
   },
   {
    "duration": 26,
    "start_time": "2022-01-20T11:56:07.615Z"
   },
   {
    "duration": 520,
    "start_time": "2022-01-20T11:57:06.759Z"
   },
   {
    "duration": 28,
    "start_time": "2022-01-20T11:57:20.519Z"
   },
   {
    "duration": 347,
    "start_time": "2022-01-20T11:58:35.631Z"
   },
   {
    "duration": 194,
    "start_time": "2022-01-20T11:59:06.495Z"
   },
   {
    "duration": 185,
    "start_time": "2022-01-20T11:59:11.912Z"
   },
   {
    "duration": 27,
    "start_time": "2022-01-20T11:59:15.646Z"
   },
   {
    "duration": 333,
    "start_time": "2022-01-20T11:59:19.285Z"
   },
   {
    "duration": 366,
    "start_time": "2022-01-20T12:02:46.311Z"
   },
   {
    "duration": 173,
    "start_time": "2022-01-20T12:03:01.104Z"
   },
   {
    "duration": 24,
    "start_time": "2022-01-20T12:03:24.225Z"
   },
   {
    "duration": 291,
    "start_time": "2022-01-20T12:19:47.125Z"
   },
   {
    "duration": 31,
    "start_time": "2022-01-20T12:19:50.813Z"
   },
   {
    "duration": 24,
    "start_time": "2022-01-20T12:19:54.557Z"
   },
   {
    "duration": 158,
    "start_time": "2022-01-20T12:19:58.693Z"
   },
   {
    "duration": 22,
    "start_time": "2022-01-20T12:20:01.293Z"
   },
   {
    "duration": 3,
    "start_time": "2022-01-20T12:46:54.094Z"
   },
   {
    "duration": 8,
    "start_time": "2022-01-20T12:50:09.158Z"
   },
   {
    "duration": 8,
    "start_time": "2022-01-20T12:50:25.685Z"
   },
   {
    "duration": 20,
    "start_time": "2022-01-20T12:50:54.069Z"
   },
   {
    "duration": 14,
    "start_time": "2022-01-20T12:51:10.613Z"
   },
   {
    "duration": 11,
    "start_time": "2022-01-20T12:54:01.325Z"
   },
   {
    "duration": 11,
    "start_time": "2022-01-20T12:54:23.901Z"
   },
   {
    "duration": 4,
    "start_time": "2022-01-20T12:55:40.677Z"
   },
   {
    "duration": 886,
    "start_time": "2022-01-20T12:55:45.950Z"
   },
   {
    "duration": 42,
    "start_time": "2022-01-20T12:55:46.839Z"
   },
   {
    "duration": 206,
    "start_time": "2022-01-20T12:55:46.888Z"
   },
   {
    "duration": 127,
    "start_time": "2022-01-20T12:55:47.096Z"
   },
   {
    "duration": 190,
    "start_time": "2022-01-20T12:55:47.233Z"
   },
   {
    "duration": 25,
    "start_time": "2022-01-20T12:55:47.425Z"
   },
   {
    "duration": 24,
    "start_time": "2022-01-20T12:55:47.454Z"
   },
   {
    "duration": 34,
    "start_time": "2022-01-20T12:55:47.481Z"
   },
   {
    "duration": 18,
    "start_time": "2022-01-20T12:55:47.517Z"
   },
   {
    "duration": 29,
    "start_time": "2022-01-20T12:55:47.537Z"
   },
   {
    "duration": 14,
    "start_time": "2022-01-20T12:55:47.569Z"
   },
   {
    "duration": 25,
    "start_time": "2022-01-20T12:55:47.585Z"
   },
   {
    "duration": 27,
    "start_time": "2022-01-20T12:55:47.612Z"
   },
   {
    "duration": 15,
    "start_time": "2022-01-20T12:55:47.642Z"
   },
   {
    "duration": 14,
    "start_time": "2022-01-20T12:55:47.659Z"
   },
   {
    "duration": 10,
    "start_time": "2022-01-20T12:55:47.675Z"
   },
   {
    "duration": 46,
    "start_time": "2022-01-20T12:55:47.688Z"
   },
   {
    "duration": 30,
    "start_time": "2022-01-20T12:55:47.737Z"
   },
   {
    "duration": 75,
    "start_time": "2022-01-20T12:55:47.769Z"
   },
   {
    "duration": 129,
    "start_time": "2022-01-20T12:55:47.847Z"
   },
   {
    "duration": 24,
    "start_time": "2022-01-20T12:55:47.979Z"
   },
   {
    "duration": 38,
    "start_time": "2022-01-20T12:55:48.009Z"
   },
   {
    "duration": 17,
    "start_time": "2022-01-20T12:55:48.051Z"
   },
   {
    "duration": 60,
    "start_time": "2022-01-20T12:55:48.072Z"
   },
   {
    "duration": 28,
    "start_time": "2022-01-20T12:55:48.135Z"
   },
   {
    "duration": 91,
    "start_time": "2022-01-20T12:55:48.165Z"
   },
   {
    "duration": 42,
    "start_time": "2022-01-20T12:55:48.258Z"
   },
   {
    "duration": 21,
    "start_time": "2022-01-20T12:55:48.303Z"
   },
   {
    "duration": 30,
    "start_time": "2022-01-20T12:55:48.327Z"
   },
   {
    "duration": 30,
    "start_time": "2022-01-20T12:55:48.359Z"
   },
   {
    "duration": 85,
    "start_time": "2022-01-20T12:55:48.392Z"
   },
   {
    "duration": 18,
    "start_time": "2022-01-20T12:55:48.480Z"
   },
   {
    "duration": 40,
    "start_time": "2022-01-20T12:55:48.500Z"
   },
   {
    "duration": 15,
    "start_time": "2022-01-20T12:55:48.543Z"
   },
   {
    "duration": 20,
    "start_time": "2022-01-20T12:55:48.561Z"
   },
   {
    "duration": 20,
    "start_time": "2022-01-20T12:55:48.584Z"
   },
   {
    "duration": 85,
    "start_time": "2022-01-20T12:55:48.607Z"
   },
   {
    "duration": 39,
    "start_time": "2022-01-20T12:55:48.694Z"
   },
   {
    "duration": 23,
    "start_time": "2022-01-20T12:55:48.736Z"
   },
   {
    "duration": 101,
    "start_time": "2022-01-20T12:55:48.762Z"
   },
   {
    "duration": 28,
    "start_time": "2022-01-20T12:55:48.866Z"
   },
   {
    "duration": 57,
    "start_time": "2022-01-20T12:55:48.897Z"
   },
   {
    "duration": 12,
    "start_time": "2022-01-20T12:55:48.957Z"
   },
   {
    "duration": 40,
    "start_time": "2022-01-20T12:55:48.971Z"
   },
   {
    "duration": 52,
    "start_time": "2022-01-20T12:55:49.013Z"
   },
   {
    "duration": 10,
    "start_time": "2022-01-20T12:55:49.067Z"
   },
   {
    "duration": 24,
    "start_time": "2022-01-20T12:55:49.079Z"
   },
   {
    "duration": 38,
    "start_time": "2022-01-20T12:55:49.105Z"
   },
   {
    "duration": 28,
    "start_time": "2022-01-20T12:55:49.145Z"
   },
   {
    "duration": 29,
    "start_time": "2022-01-20T12:55:49.175Z"
   },
   {
    "duration": 170,
    "start_time": "2022-01-20T12:55:49.231Z"
   },
   {
    "duration": 31,
    "start_time": "2022-01-20T12:55:49.403Z"
   },
   {
    "duration": 30,
    "start_time": "2022-01-20T12:55:49.437Z"
   },
   {
    "duration": 38,
    "start_time": "2022-01-20T12:55:49.469Z"
   },
   {
    "duration": 31,
    "start_time": "2022-01-20T12:55:49.509Z"
   },
   {
    "duration": 28,
    "start_time": "2022-01-20T12:55:49.543Z"
   },
   {
    "duration": 21,
    "start_time": "2022-01-20T12:55:49.574Z"
   },
   {
    "duration": 17,
    "start_time": "2022-01-20T12:55:49.598Z"
   },
   {
    "duration": 7,
    "start_time": "2022-01-20T12:55:58.579Z"
   },
   {
    "duration": 452,
    "start_time": "2022-01-20T12:56:07.885Z"
   },
   {
    "duration": 328,
    "start_time": "2022-01-20T12:56:23.604Z"
   },
   {
    "duration": 5992,
    "start_time": "2022-01-20T12:58:36.141Z"
   },
   {
    "duration": 475,
    "start_time": "2022-01-20T12:59:04.173Z"
   },
   {
    "duration": 879,
    "start_time": "2022-01-20T12:59:17.469Z"
   },
   {
    "duration": 896,
    "start_time": "2022-01-20T12:59:28.348Z"
   },
   {
    "duration": 624,
    "start_time": "2022-01-20T13:00:03.518Z"
   },
   {
    "duration": 383,
    "start_time": "2022-01-20T13:00:12.357Z"
   },
   {
    "duration": 978,
    "start_time": "2022-01-20T13:00:18.724Z"
   },
   {
    "duration": 596,
    "start_time": "2022-01-20T13:00:24.757Z"
   },
   {
    "duration": 607,
    "start_time": "2022-01-20T13:01:26.759Z"
   },
   {
    "duration": 329,
    "start_time": "2022-01-20T13:03:31.948Z"
   },
   {
    "duration": 1484,
    "start_time": "2022-01-20T13:04:03.813Z"
   },
   {
    "duration": 41,
    "start_time": "2022-01-20T13:04:05.300Z"
   },
   {
    "duration": 202,
    "start_time": "2022-01-20T13:04:05.344Z"
   },
   {
    "duration": 124,
    "start_time": "2022-01-20T13:04:05.550Z"
   },
   {
    "duration": 203,
    "start_time": "2022-01-20T13:04:05.677Z"
   },
   {
    "duration": 26,
    "start_time": "2022-01-20T13:04:05.882Z"
   },
   {
    "duration": 23,
    "start_time": "2022-01-20T13:04:05.910Z"
   },
   {
    "duration": 34,
    "start_time": "2022-01-20T13:04:05.937Z"
   },
   {
    "duration": 18,
    "start_time": "2022-01-20T13:04:05.975Z"
   },
   {
    "duration": 44,
    "start_time": "2022-01-20T13:04:05.996Z"
   },
   {
    "duration": 7,
    "start_time": "2022-01-20T13:04:06.043Z"
   },
   {
    "duration": 19,
    "start_time": "2022-01-20T13:04:06.053Z"
   },
   {
    "duration": 13,
    "start_time": "2022-01-20T13:04:06.074Z"
   },
   {
    "duration": 10,
    "start_time": "2022-01-20T13:04:06.089Z"
   },
   {
    "duration": 38,
    "start_time": "2022-01-20T13:04:06.102Z"
   },
   {
    "duration": 8,
    "start_time": "2022-01-20T13:04:06.143Z"
   },
   {
    "duration": 13,
    "start_time": "2022-01-20T13:04:06.154Z"
   },
   {
    "duration": 63,
    "start_time": "2022-01-20T13:04:06.169Z"
   },
   {
    "duration": 45,
    "start_time": "2022-01-20T13:04:06.235Z"
   },
   {
    "duration": 138,
    "start_time": "2022-01-20T13:04:06.283Z"
   },
   {
    "duration": 40,
    "start_time": "2022-01-20T13:04:06.424Z"
   },
   {
    "duration": 22,
    "start_time": "2022-01-20T13:04:06.467Z"
   },
   {
    "duration": 39,
    "start_time": "2022-01-20T13:04:06.499Z"
   },
   {
    "duration": 28,
    "start_time": "2022-01-20T13:04:06.543Z"
   },
   {
    "duration": 64,
    "start_time": "2022-01-20T13:04:06.575Z"
   },
   {
    "duration": 90,
    "start_time": "2022-01-20T13:04:06.642Z"
   },
   {
    "duration": 19,
    "start_time": "2022-01-20T13:04:06.735Z"
   },
   {
    "duration": 15,
    "start_time": "2022-01-20T13:04:06.756Z"
   },
   {
    "duration": 61,
    "start_time": "2022-01-20T13:04:06.773Z"
   },
   {
    "duration": 44,
    "start_time": "2022-01-20T13:04:06.837Z"
   },
   {
    "duration": 96,
    "start_time": "2022-01-20T13:04:06.884Z"
   },
   {
    "duration": 26,
    "start_time": "2022-01-20T13:04:06.983Z"
   },
   {
    "duration": 29,
    "start_time": "2022-01-20T13:04:07.012Z"
   },
   {
    "duration": 20,
    "start_time": "2022-01-20T13:04:07.044Z"
   },
   {
    "duration": 11,
    "start_time": "2022-01-20T13:04:07.067Z"
   },
   {
    "duration": 15,
    "start_time": "2022-01-20T13:04:07.080Z"
   },
   {
    "duration": 86,
    "start_time": "2022-01-20T13:04:07.098Z"
   },
   {
    "duration": 46,
    "start_time": "2022-01-20T13:04:07.186Z"
   },
   {
    "duration": 22,
    "start_time": "2022-01-20T13:04:07.235Z"
   },
   {
    "duration": 101,
    "start_time": "2022-01-20T13:04:07.259Z"
   },
   {
    "duration": 28,
    "start_time": "2022-01-20T13:04:07.363Z"
   },
   {
    "duration": 58,
    "start_time": "2022-01-20T13:04:07.393Z"
   },
   {
    "duration": 12,
    "start_time": "2022-01-20T13:04:07.453Z"
   },
   {
    "duration": 37,
    "start_time": "2022-01-20T13:04:07.468Z"
   },
   {
    "duration": 56,
    "start_time": "2022-01-20T13:04:07.508Z"
   },
   {
    "duration": 11,
    "start_time": "2022-01-20T13:04:07.566Z"
   },
   {
    "duration": 37,
    "start_time": "2022-01-20T13:04:07.580Z"
   },
   {
    "duration": 20,
    "start_time": "2022-01-20T13:04:07.633Z"
   },
   {
    "duration": 24,
    "start_time": "2022-01-20T13:04:07.655Z"
   },
   {
    "duration": 52,
    "start_time": "2022-01-20T13:04:07.681Z"
   },
   {
    "duration": 169,
    "start_time": "2022-01-20T13:04:07.736Z"
   },
   {
    "duration": 29,
    "start_time": "2022-01-20T13:04:07.908Z"
   },
   {
    "duration": 8,
    "start_time": "2022-01-20T13:04:07.940Z"
   },
   {
    "duration": 21,
    "start_time": "2022-01-20T13:04:07.950Z"
   },
   {
    "duration": 13,
    "start_time": "2022-01-20T13:04:07.974Z"
   },
   {
    "duration": 12,
    "start_time": "2022-01-20T13:04:07.990Z"
   },
   {
    "duration": 36,
    "start_time": "2022-01-20T13:04:08.004Z"
   },
   {
    "duration": 647,
    "start_time": "2022-01-20T13:04:08.042Z"
   },
   {
    "duration": 457,
    "start_time": "2022-01-20T13:04:08.691Z"
   },
   {
    "duration": 305,
    "start_time": "2022-01-20T13:04:58.772Z"
   },
   {
    "duration": 374,
    "start_time": "2022-01-20T13:05:44.204Z"
   },
   {
    "duration": 168608,
    "start_time": "2022-01-20T13:07:14.557Z"
   },
   {
    "duration": 341,
    "start_time": "2022-01-20T13:10:09.708Z"
   },
   {
    "duration": 648,
    "start_time": "2022-01-20T13:10:23.325Z"
   },
   {
    "duration": 827,
    "start_time": "2022-01-20T13:10:29.932Z"
   },
   {
    "duration": 622,
    "start_time": "2022-01-20T13:10:37.117Z"
   },
   {
    "duration": 22,
    "start_time": "2022-01-20T13:11:55.821Z"
   },
   {
    "duration": 24,
    "start_time": "2022-01-20T13:12:01.261Z"
   },
   {
    "duration": 22,
    "start_time": "2022-01-20T13:12:08.484Z"
   },
   {
    "duration": 106,
    "start_time": "2022-01-20T13:16:25.467Z"
   },
   {
    "duration": 12,
    "start_time": "2022-01-20T13:16:46.133Z"
   },
   {
    "duration": 12,
    "start_time": "2022-01-20T13:16:54.556Z"
   },
   {
    "duration": 11,
    "start_time": "2022-01-20T13:17:08.332Z"
   },
   {
    "duration": 628,
    "start_time": "2022-01-20T13:18:28.588Z"
   },
   {
    "duration": 585,
    "start_time": "2022-01-20T13:18:39.812Z"
   },
   {
    "duration": 609,
    "start_time": "2022-01-20T13:18:44.332Z"
   },
   {
    "duration": 11,
    "start_time": "2022-01-20T13:21:29.734Z"
   },
   {
    "duration": 11,
    "start_time": "2022-01-20T13:22:39.380Z"
   },
   {
    "duration": 590,
    "start_time": "2022-01-20T13:23:47.500Z"
   },
   {
    "duration": 659,
    "start_time": "2022-01-20T13:24:01.323Z"
   },
   {
    "duration": 820,
    "start_time": "2022-01-20T13:24:26.228Z"
   },
   {
    "duration": 830,
    "start_time": "2022-01-20T13:24:38.997Z"
   },
   {
    "duration": 418,
    "start_time": "2022-01-20T13:24:59.036Z"
   },
   {
    "duration": 553,
    "start_time": "2022-01-20T13:25:17.292Z"
   },
   {
    "duration": 1476,
    "start_time": "2022-01-20T13:44:12.534Z"
   },
   {
    "duration": 42,
    "start_time": "2022-01-20T13:44:14.012Z"
   },
   {
    "duration": 222,
    "start_time": "2022-01-20T13:44:14.057Z"
   },
   {
    "duration": 128,
    "start_time": "2022-01-20T13:44:14.282Z"
   },
   {
    "duration": 202,
    "start_time": "2022-01-20T13:44:14.412Z"
   },
   {
    "duration": 26,
    "start_time": "2022-01-20T13:44:14.616Z"
   },
   {
    "duration": 19,
    "start_time": "2022-01-20T13:44:14.645Z"
   },
   {
    "duration": 40,
    "start_time": "2022-01-20T13:44:14.669Z"
   },
   {
    "duration": 32,
    "start_time": "2022-01-20T13:44:14.712Z"
   },
   {
    "duration": 29,
    "start_time": "2022-01-20T13:44:14.747Z"
   },
   {
    "duration": 10,
    "start_time": "2022-01-20T13:44:14.778Z"
   },
   {
    "duration": 43,
    "start_time": "2022-01-20T13:44:14.790Z"
   },
   {
    "duration": 8,
    "start_time": "2022-01-20T13:44:14.835Z"
   },
   {
    "duration": 16,
    "start_time": "2022-01-20T13:44:14.845Z"
   },
   {
    "duration": 19,
    "start_time": "2022-01-20T13:44:14.863Z"
   },
   {
    "duration": 12,
    "start_time": "2022-01-20T13:44:14.885Z"
   },
   {
    "duration": 35,
    "start_time": "2022-01-20T13:44:14.899Z"
   },
   {
    "duration": 33,
    "start_time": "2022-01-20T13:44:14.938Z"
   },
   {
    "duration": 77,
    "start_time": "2022-01-20T13:44:14.974Z"
   },
   {
    "duration": 140,
    "start_time": "2022-01-20T13:44:15.054Z"
   },
   {
    "duration": 37,
    "start_time": "2022-01-20T13:44:15.196Z"
   },
   {
    "duration": 15,
    "start_time": "2022-01-20T13:44:15.236Z"
   },
   {
    "duration": 14,
    "start_time": "2022-01-20T13:44:15.259Z"
   },
   {
    "duration": 21,
    "start_time": "2022-01-20T13:44:15.276Z"
   },
   {
    "duration": 57,
    "start_time": "2022-01-20T13:44:15.300Z"
   },
   {
    "duration": 56,
    "start_time": "2022-01-20T13:44:15.359Z"
   },
   {
    "duration": 17,
    "start_time": "2022-01-20T13:44:15.433Z"
   },
   {
    "duration": 12,
    "start_time": "2022-01-20T13:44:15.453Z"
   },
   {
    "duration": 24,
    "start_time": "2022-01-20T13:44:15.469Z"
   },
   {
    "duration": 29,
    "start_time": "2022-01-20T13:44:15.533Z"
   },
   {
    "duration": 79,
    "start_time": "2022-01-20T13:44:15.564Z"
   },
   {
    "duration": 16,
    "start_time": "2022-01-20T13:44:15.645Z"
   },
   {
    "duration": 11,
    "start_time": "2022-01-20T13:44:15.663Z"
   },
   {
    "duration": 14,
    "start_time": "2022-01-20T13:44:15.676Z"
   },
   {
    "duration": 43,
    "start_time": "2022-01-20T13:44:15.693Z"
   },
   {
    "duration": 13,
    "start_time": "2022-01-20T13:44:15.738Z"
   },
   {
    "duration": 83,
    "start_time": "2022-01-20T13:44:15.753Z"
   },
   {
    "duration": 32,
    "start_time": "2022-01-20T13:44:15.839Z"
   },
   {
    "duration": 25,
    "start_time": "2022-01-20T13:44:15.874Z"
   },
   {
    "duration": 120,
    "start_time": "2022-01-20T13:44:15.901Z"
   },
   {
    "duration": 33,
    "start_time": "2022-01-20T13:44:16.024Z"
   },
   {
    "duration": 36,
    "start_time": "2022-01-20T13:44:16.060Z"
   },
   {
    "duration": 13,
    "start_time": "2022-01-20T13:44:16.132Z"
   },
   {
    "duration": 37,
    "start_time": "2022-01-20T13:44:16.148Z"
   },
   {
    "duration": 68,
    "start_time": "2022-01-20T13:44:16.188Z"
   },
   {
    "duration": 12,
    "start_time": "2022-01-20T13:44:16.258Z"
   },
   {
    "duration": 22,
    "start_time": "2022-01-20T13:44:16.272Z"
   },
   {
    "duration": 45,
    "start_time": "2022-01-20T13:44:16.297Z"
   },
   {
    "duration": 28,
    "start_time": "2022-01-20T13:44:16.344Z"
   },
   {
    "duration": 61,
    "start_time": "2022-01-20T13:44:16.375Z"
   },
   {
    "duration": 179,
    "start_time": "2022-01-20T13:44:16.440Z"
   },
   {
    "duration": 29,
    "start_time": "2022-01-20T13:44:16.621Z"
   },
   {
    "duration": 10,
    "start_time": "2022-01-20T13:44:16.653Z"
   },
   {
    "duration": 24,
    "start_time": "2022-01-20T13:44:16.665Z"
   },
   {
    "duration": 54,
    "start_time": "2022-01-20T13:44:16.691Z"
   },
   {
    "duration": 17,
    "start_time": "2022-01-20T13:44:16.747Z"
   },
   {
    "duration": 13,
    "start_time": "2022-01-20T13:44:16.766Z"
   },
   {
    "duration": 633,
    "start_time": "2022-01-20T13:44:16.781Z"
   },
   {
    "duration": 22,
    "start_time": "2022-01-20T13:44:17.416Z"
   },
   {
    "duration": 17,
    "start_time": "2022-01-20T13:44:17.440Z"
   },
   {
    "duration": 637,
    "start_time": "2022-01-20T13:44:17.459Z"
   },
   {
    "duration": 12,
    "start_time": "2022-01-20T13:44:18.098Z"
   },
   {
    "duration": 14,
    "start_time": "2022-01-20T13:44:18.133Z"
   },
   {
    "duration": 595,
    "start_time": "2022-01-20T13:44:18.150Z"
   },
   {
    "duration": 633,
    "start_time": "2022-01-21T06:59:44.247Z"
   },
   {
    "duration": 5,
    "start_time": "2022-01-21T07:25:12.062Z"
   },
   {
    "duration": 1490,
    "start_time": "2022-01-21T07:25:17.506Z"
   },
   {
    "duration": 42,
    "start_time": "2022-01-21T07:25:18.999Z"
   },
   {
    "duration": 212,
    "start_time": "2022-01-21T07:25:19.044Z"
   },
   {
    "duration": 122,
    "start_time": "2022-01-21T07:25:19.260Z"
   },
   {
    "duration": 192,
    "start_time": "2022-01-21T07:25:19.384Z"
   },
   {
    "duration": 25,
    "start_time": "2022-01-21T07:25:19.579Z"
   },
   {
    "duration": 10,
    "start_time": "2022-01-21T07:25:19.606Z"
   },
   {
    "duration": 29,
    "start_time": "2022-01-21T07:25:19.634Z"
   },
   {
    "duration": 20,
    "start_time": "2022-01-21T07:25:19.666Z"
   },
   {
    "duration": 49,
    "start_time": "2022-01-21T07:25:19.689Z"
   },
   {
    "duration": 8,
    "start_time": "2022-01-21T07:25:19.741Z"
   },
   {
    "duration": 19,
    "start_time": "2022-01-21T07:25:19.751Z"
   },
   {
    "duration": 11,
    "start_time": "2022-01-21T07:25:19.772Z"
   },
   {
    "duration": 11,
    "start_time": "2022-01-21T07:25:19.785Z"
   },
   {
    "duration": 39,
    "start_time": "2022-01-21T07:25:19.798Z"
   },
   {
    "duration": 11,
    "start_time": "2022-01-21T07:25:19.839Z"
   },
   {
    "duration": 12,
    "start_time": "2022-01-21T07:25:19.852Z"
   },
   {
    "duration": 30,
    "start_time": "2022-01-21T07:25:19.867Z"
   },
   {
    "duration": 74,
    "start_time": "2022-01-21T07:25:19.899Z"
   },
   {
    "duration": 140,
    "start_time": "2022-01-21T07:25:19.975Z"
   },
   {
    "duration": 33,
    "start_time": "2022-01-21T07:25:20.118Z"
   },
   {
    "duration": 14,
    "start_time": "2022-01-21T07:25:20.153Z"
   },
   {
    "duration": 15,
    "start_time": "2022-01-21T07:25:20.173Z"
   },
   {
    "duration": 48,
    "start_time": "2022-01-21T07:25:20.191Z"
   },
   {
    "duration": 26,
    "start_time": "2022-01-21T07:25:20.241Z"
   },
   {
    "duration": 71,
    "start_time": "2022-01-21T07:25:20.269Z"
   },
   {
    "duration": 16,
    "start_time": "2022-01-21T07:25:20.343Z"
   },
   {
    "duration": 15,
    "start_time": "2022-01-21T07:25:20.362Z"
   },
   {
    "duration": 56,
    "start_time": "2022-01-21T07:25:20.379Z"
   },
   {
    "duration": 29,
    "start_time": "2022-01-21T07:25:20.437Z"
   },
   {
    "duration": 70,
    "start_time": "2022-01-21T07:25:20.468Z"
   },
   {
    "duration": 15,
    "start_time": "2022-01-21T07:25:20.540Z"
   },
   {
    "duration": 12,
    "start_time": "2022-01-21T07:25:20.558Z"
   },
   {
    "duration": 14,
    "start_time": "2022-01-21T07:25:20.572Z"
   },
   {
    "duration": 43,
    "start_time": "2022-01-21T07:25:20.589Z"
   },
   {
    "duration": 10,
    "start_time": "2022-01-21T07:25:20.635Z"
   },
   {
    "duration": 57,
    "start_time": "2022-01-21T07:25:20.648Z"
   },
   {
    "duration": 51,
    "start_time": "2022-01-21T07:25:20.709Z"
   },
   {
    "duration": 24,
    "start_time": "2022-01-21T07:25:20.763Z"
   },
   {
    "duration": 119,
    "start_time": "2022-01-21T07:25:20.790Z"
   },
   {
    "duration": 37,
    "start_time": "2022-01-21T07:25:20.912Z"
   },
   {
    "duration": 35,
    "start_time": "2022-01-21T07:25:20.952Z"
   },
   {
    "duration": 43,
    "start_time": "2022-01-21T07:25:20.990Z"
   },
   {
    "duration": 33,
    "start_time": "2022-01-21T07:25:21.036Z"
   },
   {
    "duration": 61,
    "start_time": "2022-01-21T07:25:21.072Z"
   },
   {
    "duration": 10,
    "start_time": "2022-01-21T07:25:21.137Z"
   },
   {
    "duration": 22,
    "start_time": "2022-01-21T07:25:21.150Z"
   },
   {
    "duration": 25,
    "start_time": "2022-01-21T07:25:21.175Z"
   },
   {
    "duration": 52,
    "start_time": "2022-01-21T07:25:21.203Z"
   },
   {
    "duration": 23,
    "start_time": "2022-01-21T07:25:21.258Z"
   },
   {
    "duration": 193,
    "start_time": "2022-01-21T07:25:21.284Z"
   },
   {
    "duration": 21,
    "start_time": "2022-01-21T07:25:21.479Z"
   },
   {
    "duration": 12,
    "start_time": "2022-01-21T07:25:21.502Z"
   },
   {
    "duration": 32,
    "start_time": "2022-01-21T07:25:21.517Z"
   },
   {
    "duration": 20,
    "start_time": "2022-01-21T07:25:21.551Z"
   },
   {
    "duration": 11,
    "start_time": "2022-01-21T07:25:21.574Z"
   },
   {
    "duration": 9,
    "start_time": "2022-01-21T07:25:21.587Z"
   },
   {
    "duration": 584,
    "start_time": "2022-01-21T07:25:21.633Z"
   },
   {
    "duration": 19,
    "start_time": "2022-01-21T07:25:22.220Z"
   },
   {
    "duration": 9,
    "start_time": "2022-01-21T07:25:22.242Z"
   },
   {
    "duration": 584,
    "start_time": "2022-01-21T07:25:22.254Z"
   },
   {
    "duration": 9,
    "start_time": "2022-01-21T07:25:22.841Z"
   },
   {
    "duration": 11,
    "start_time": "2022-01-21T07:25:22.853Z"
   },
   {
    "duration": 608,
    "start_time": "2022-01-21T07:25:22.867Z"
   },
   {
    "duration": 17,
    "start_time": "2022-01-21T07:44:58.360Z"
   },
   {
    "duration": 428,
    "start_time": "2022-01-21T07:48:27.210Z"
   },
   {
    "duration": 8,
    "start_time": "2022-01-21T07:48:36.561Z"
   },
   {
    "duration": 8,
    "start_time": "2022-01-21T07:49:07.063Z"
   },
   {
    "duration": 9,
    "start_time": "2022-01-21T07:50:49.529Z"
   },
   {
    "duration": 15,
    "start_time": "2022-01-21T07:54:52.653Z"
   },
   {
    "duration": 15,
    "start_time": "2022-01-21T07:55:02.449Z"
   },
   {
    "duration": 22,
    "start_time": "2022-01-21T07:55:28.074Z"
   },
   {
    "duration": 92,
    "start_time": "2022-01-21T07:55:51.451Z"
   },
   {
    "duration": 12,
    "start_time": "2022-01-21T07:56:49.115Z"
   },
   {
    "duration": 25,
    "start_time": "2022-01-21T07:57:06.570Z"
   },
   {
    "duration": 1465,
    "start_time": "2022-01-21T07:57:24.368Z"
   },
   {
    "duration": 41,
    "start_time": "2022-01-21T07:57:25.836Z"
   },
   {
    "duration": 212,
    "start_time": "2022-01-21T07:57:25.880Z"
   },
   {
    "duration": 124,
    "start_time": "2022-01-21T07:57:26.095Z"
   },
   {
    "duration": 210,
    "start_time": "2022-01-21T07:57:26.223Z"
   },
   {
    "duration": 25,
    "start_time": "2022-01-21T07:57:26.436Z"
   },
   {
    "duration": 17,
    "start_time": "2022-01-21T07:57:26.464Z"
   },
   {
    "duration": 33,
    "start_time": "2022-01-21T07:57:26.485Z"
   },
   {
    "duration": 19,
    "start_time": "2022-01-21T07:57:26.533Z"
   },
   {
    "duration": 23,
    "start_time": "2022-01-21T07:57:26.554Z"
   },
   {
    "duration": 12,
    "start_time": "2022-01-21T07:57:26.579Z"
   },
   {
    "duration": 43,
    "start_time": "2022-01-21T07:57:26.594Z"
   },
   {
    "duration": 16,
    "start_time": "2022-01-21T07:57:26.639Z"
   },
   {
    "duration": 13,
    "start_time": "2022-01-21T07:57:26.658Z"
   },
   {
    "duration": 12,
    "start_time": "2022-01-21T07:57:26.674Z"
   },
   {
    "duration": 15,
    "start_time": "2022-01-21T07:57:26.689Z"
   },
   {
    "duration": 32,
    "start_time": "2022-01-21T07:57:26.706Z"
   },
   {
    "duration": 28,
    "start_time": "2022-01-21T07:57:26.741Z"
   },
   {
    "duration": 69,
    "start_time": "2022-01-21T07:57:26.772Z"
   },
   {
    "duration": 125,
    "start_time": "2022-01-21T07:57:26.843Z"
   },
   {
    "duration": 23,
    "start_time": "2022-01-21T07:57:26.970Z"
   },
   {
    "duration": 15,
    "start_time": "2022-01-21T07:57:26.995Z"
   },
   {
    "duration": 11,
    "start_time": "2022-01-21T07:57:27.037Z"
   },
   {
    "duration": 22,
    "start_time": "2022-01-21T07:57:27.053Z"
   },
   {
    "duration": 63,
    "start_time": "2022-01-21T07:57:27.077Z"
   },
   {
    "duration": 57,
    "start_time": "2022-01-21T07:57:27.143Z"
   },
   {
    "duration": 34,
    "start_time": "2022-01-21T07:57:27.202Z"
   },
   {
    "duration": 10,
    "start_time": "2022-01-21T07:57:27.239Z"
   },
   {
    "duration": 34,
    "start_time": "2022-01-21T07:57:27.252Z"
   },
   {
    "duration": 50,
    "start_time": "2022-01-21T07:57:27.288Z"
   },
   {
    "duration": 59,
    "start_time": "2022-01-21T07:57:27.340Z"
   },
   {
    "duration": 41,
    "start_time": "2022-01-21T07:57:27.403Z"
   },
   {
    "duration": 16,
    "start_time": "2022-01-21T07:57:27.446Z"
   },
   {
    "duration": 18,
    "start_time": "2022-01-21T07:57:27.465Z"
   },
   {
    "duration": 10,
    "start_time": "2022-01-21T07:57:27.485Z"
   },
   {
    "duration": 41,
    "start_time": "2022-01-21T07:57:27.497Z"
   },
   {
    "duration": 62,
    "start_time": "2022-01-21T07:57:27.541Z"
   },
   {
    "duration": 52,
    "start_time": "2022-01-21T07:57:27.606Z"
   },
   {
    "duration": 24,
    "start_time": "2022-01-21T07:57:27.661Z"
   },
   {
    "duration": 118,
    "start_time": "2022-01-21T07:57:27.688Z"
   },
   {
    "duration": 51,
    "start_time": "2022-01-21T07:57:27.809Z"
   },
   {
    "duration": 35,
    "start_time": "2022-01-21T07:57:27.863Z"
   },
   {
    "duration": 31,
    "start_time": "2022-01-21T07:57:27.901Z"
   },
   {
    "duration": 34,
    "start_time": "2022-01-21T07:57:27.935Z"
   },
   {
    "duration": 73,
    "start_time": "2022-01-21T07:57:27.973Z"
   },
   {
    "duration": 11,
    "start_time": "2022-01-21T07:57:28.049Z"
   },
   {
    "duration": 22,
    "start_time": "2022-01-21T07:57:28.062Z"
   },
   {
    "duration": 45,
    "start_time": "2022-01-21T07:57:28.087Z"
   },
   {
    "duration": 29,
    "start_time": "2022-01-21T07:57:28.135Z"
   },
   {
    "duration": 23,
    "start_time": "2022-01-21T07:57:28.166Z"
   },
   {
    "duration": 199,
    "start_time": "2022-01-21T07:57:28.192Z"
   },
   {
    "duration": 21,
    "start_time": "2022-01-21T07:57:28.394Z"
   },
   {
    "duration": 8,
    "start_time": "2022-01-21T07:57:28.433Z"
   },
   {
    "duration": 22,
    "start_time": "2022-01-21T07:57:28.443Z"
   },
   {
    "duration": 22,
    "start_time": "2022-01-21T07:57:28.468Z"
   },
   {
    "duration": 14,
    "start_time": "2022-01-21T07:57:28.492Z"
   },
   {
    "duration": 12,
    "start_time": "2022-01-21T07:57:28.534Z"
   },
   {
    "duration": 617,
    "start_time": "2022-01-21T07:57:28.548Z"
   },
   {
    "duration": 10,
    "start_time": "2022-01-21T07:57:29.167Z"
   },
   {
    "duration": 11,
    "start_time": "2022-01-21T07:57:29.179Z"
   },
   {
    "duration": 656,
    "start_time": "2022-01-21T07:57:29.193Z"
   },
   {
    "duration": 11,
    "start_time": "2022-01-21T07:57:29.852Z"
   },
   {
    "duration": 13,
    "start_time": "2022-01-21T07:57:29.865Z"
   },
   {
    "duration": 625,
    "start_time": "2022-01-21T07:57:29.881Z"
   },
   {
    "duration": 23,
    "start_time": "2022-01-21T07:57:30.509Z"
   },
   {
    "duration": 25,
    "start_time": "2022-01-21T07:57:30.534Z"
   },
   {
    "duration": 11,
    "start_time": "2022-01-21T08:01:49.394Z"
   },
   {
    "duration": 10,
    "start_time": "2022-01-21T08:01:58.530Z"
   },
   {
    "duration": 7,
    "start_time": "2022-01-21T08:02:05.162Z"
   },
   {
    "duration": 16,
    "start_time": "2022-01-21T08:02:14.571Z"
   },
   {
    "duration": 6,
    "start_time": "2022-01-21T08:02:28.178Z"
   },
   {
    "duration": 8,
    "start_time": "2022-01-21T08:02:42.802Z"
   },
   {
    "duration": 7,
    "start_time": "2022-01-21T08:02:52.082Z"
   },
   {
    "duration": 9,
    "start_time": "2022-01-21T08:03:05.882Z"
   },
   {
    "duration": 6,
    "start_time": "2022-01-21T08:06:54.345Z"
   },
   {
    "duration": 11,
    "start_time": "2022-01-21T08:07:00.666Z"
   },
   {
    "duration": 6,
    "start_time": "2022-01-21T08:07:10.721Z"
   },
   {
    "duration": 11,
    "start_time": "2022-01-21T08:07:57.189Z"
   },
   {
    "duration": 14,
    "start_time": "2022-01-21T08:09:12.579Z"
   },
   {
    "duration": 4,
    "start_time": "2022-01-21T08:19:31.963Z"
   },
   {
    "duration": 11,
    "start_time": "2022-01-21T08:22:44.811Z"
   },
   {
    "duration": 11,
    "start_time": "2022-01-21T08:22:51.217Z"
   },
   {
    "duration": 79,
    "start_time": "2022-01-21T08:23:00.964Z"
   },
   {
    "duration": 13,
    "start_time": "2022-01-21T08:23:04.250Z"
   },
   {
    "duration": 189,
    "start_time": "2022-01-21T09:30:22.944Z"
   },
   {
    "duration": 163,
    "start_time": "2022-01-21T09:31:57.639Z"
   },
   {
    "duration": 7,
    "start_time": "2022-01-21T09:44:56.096Z"
   },
   {
    "duration": 25,
    "start_time": "2022-01-21T09:44:57.752Z"
   },
   {
    "duration": 7298,
    "start_time": "2022-01-21T09:44:58.600Z"
   },
   {
    "duration": 1469,
    "start_time": "2022-01-21T09:45:23.637Z"
   },
   {
    "duration": 41,
    "start_time": "2022-01-21T09:45:25.109Z"
   },
   {
    "duration": 201,
    "start_time": "2022-01-21T09:45:25.153Z"
   },
   {
    "duration": 122,
    "start_time": "2022-01-21T09:45:25.357Z"
   },
   {
    "duration": 191,
    "start_time": "2022-01-21T09:45:25.481Z"
   },
   {
    "duration": 24,
    "start_time": "2022-01-21T09:45:25.675Z"
   },
   {
    "duration": 13,
    "start_time": "2022-01-21T09:45:25.702Z"
   },
   {
    "duration": 39,
    "start_time": "2022-01-21T09:45:25.719Z"
   },
   {
    "duration": 19,
    "start_time": "2022-01-21T09:45:25.761Z"
   },
   {
    "duration": 21,
    "start_time": "2022-01-21T09:45:25.782Z"
   },
   {
    "duration": 34,
    "start_time": "2022-01-21T09:45:25.805Z"
   },
   {
    "duration": 30,
    "start_time": "2022-01-21T09:45:25.841Z"
   },
   {
    "duration": 16,
    "start_time": "2022-01-21T09:45:25.873Z"
   },
   {
    "duration": 13,
    "start_time": "2022-01-21T09:45:25.891Z"
   },
   {
    "duration": 28,
    "start_time": "2022-01-21T09:45:25.906Z"
   },
   {
    "duration": 9,
    "start_time": "2022-01-21T09:45:25.936Z"
   },
   {
    "duration": 16,
    "start_time": "2022-01-21T09:45:25.947Z"
   },
   {
    "duration": 33,
    "start_time": "2022-01-21T09:45:25.965Z"
   },
   {
    "duration": 67,
    "start_time": "2022-01-21T09:45:26.001Z"
   },
   {
    "duration": 141,
    "start_time": "2022-01-21T09:45:26.070Z"
   },
   {
    "duration": 35,
    "start_time": "2022-01-21T09:45:26.213Z"
   },
   {
    "duration": 15,
    "start_time": "2022-01-21T09:45:26.250Z"
   },
   {
    "duration": 10,
    "start_time": "2022-01-21T09:45:26.272Z"
   },
   {
    "duration": 47,
    "start_time": "2022-01-21T09:45:26.286Z"
   },
   {
    "duration": 24,
    "start_time": "2022-01-21T09:45:26.336Z"
   },
   {
    "duration": 70,
    "start_time": "2022-01-21T09:45:26.363Z"
   },
   {
    "duration": 16,
    "start_time": "2022-01-21T09:45:26.436Z"
   },
   {
    "duration": 13,
    "start_time": "2022-01-21T09:45:26.455Z"
   },
   {
    "duration": 61,
    "start_time": "2022-01-21T09:45:26.471Z"
   },
   {
    "duration": 32,
    "start_time": "2022-01-21T09:45:26.534Z"
   },
   {
    "duration": 80,
    "start_time": "2022-01-21T09:45:26.568Z"
   },
   {
    "duration": 19,
    "start_time": "2022-01-21T09:45:26.651Z"
   },
   {
    "duration": 13,
    "start_time": "2022-01-21T09:45:26.673Z"
   },
   {
    "duration": 48,
    "start_time": "2022-01-21T09:45:26.689Z"
   },
   {
    "duration": 11,
    "start_time": "2022-01-21T09:45:26.740Z"
   },
   {
    "duration": 12,
    "start_time": "2022-01-21T09:45:26.754Z"
   },
   {
    "duration": 95,
    "start_time": "2022-01-21T09:45:26.769Z"
   },
   {
    "duration": 31,
    "start_time": "2022-01-21T09:45:26.867Z"
   },
   {
    "duration": 42,
    "start_time": "2022-01-21T09:45:26.900Z"
   },
   {
    "duration": 95,
    "start_time": "2022-01-21T09:45:26.944Z"
   },
   {
    "duration": 28,
    "start_time": "2022-01-21T09:45:27.041Z"
   },
   {
    "duration": 32,
    "start_time": "2022-01-21T09:45:27.071Z"
   },
   {
    "duration": 32,
    "start_time": "2022-01-21T09:45:27.106Z"
   },
   {
    "duration": 34,
    "start_time": "2022-01-21T09:45:27.140Z"
   },
   {
    "duration": 57,
    "start_time": "2022-01-21T09:45:27.177Z"
   },
   {
    "duration": 9,
    "start_time": "2022-01-21T09:45:27.236Z"
   },
   {
    "duration": 22,
    "start_time": "2022-01-21T09:45:27.248Z"
   },
   {
    "duration": 19,
    "start_time": "2022-01-21T09:45:27.273Z"
   },
   {
    "duration": 59,
    "start_time": "2022-01-21T09:45:27.295Z"
   },
   {
    "duration": 23,
    "start_time": "2022-01-21T09:45:27.357Z"
   },
   {
    "duration": 188,
    "start_time": "2022-01-21T09:45:27.382Z"
   },
   {
    "duration": 22,
    "start_time": "2022-01-21T09:45:27.573Z"
   },
   {
    "duration": 16,
    "start_time": "2022-01-21T09:45:27.597Z"
   },
   {
    "duration": 30,
    "start_time": "2022-01-21T09:45:27.615Z"
   },
   {
    "duration": 20,
    "start_time": "2022-01-21T09:45:27.648Z"
   },
   {
    "duration": 12,
    "start_time": "2022-01-21T09:45:27.671Z"
   },
   {
    "duration": 48,
    "start_time": "2022-01-21T09:45:27.686Z"
   },
   {
    "duration": 622,
    "start_time": "2022-01-21T09:45:27.737Z"
   },
   {
    "duration": 13,
    "start_time": "2022-01-21T09:45:28.362Z"
   },
   {
    "duration": 11,
    "start_time": "2022-01-21T09:45:28.378Z"
   },
   {
    "duration": 618,
    "start_time": "2022-01-21T09:45:28.392Z"
   },
   {
    "duration": 24,
    "start_time": "2022-01-21T09:45:29.012Z"
   },
   {
    "duration": 18,
    "start_time": "2022-01-21T09:45:29.038Z"
   },
   {
    "duration": 633,
    "start_time": "2022-01-21T09:45:29.058Z"
   },
   {
    "duration": 10,
    "start_time": "2022-01-21T09:45:29.693Z"
   },
   {
    "duration": 30,
    "start_time": "2022-01-21T09:45:29.705Z"
   },
   {
    "duration": 6,
    "start_time": "2022-01-21T09:45:29.738Z"
   },
   {
    "duration": 23,
    "start_time": "2022-01-21T09:45:29.752Z"
   },
   {
    "duration": 5,
    "start_time": "2022-01-21T09:45:29.778Z"
   },
   {
    "duration": 46,
    "start_time": "2022-01-21T09:45:29.786Z"
   },
   {
    "duration": 19,
    "start_time": "2022-01-21T09:45:29.835Z"
   },
   {
    "duration": 14,
    "start_time": "2022-01-21T09:50:14.455Z"
   },
   {
    "duration": 175,
    "start_time": "2022-01-21T10:00:05.040Z"
   },
   {
    "duration": 29,
    "start_time": "2022-01-21T10:00:07.854Z"
   },
   {
    "duration": 167,
    "start_time": "2022-01-21T10:00:31.175Z"
   },
   {
    "duration": 26,
    "start_time": "2022-01-21T10:00:32.328Z"
   },
   {
    "duration": 1456,
    "start_time": "2022-01-21T10:00:37.865Z"
   },
   {
    "duration": 42,
    "start_time": "2022-01-21T10:00:39.324Z"
   },
   {
    "duration": 201,
    "start_time": "2022-01-21T10:00:39.368Z"
   },
   {
    "duration": 114,
    "start_time": "2022-01-21T10:00:39.572Z"
   },
   {
    "duration": 213,
    "start_time": "2022-01-21T10:00:39.689Z"
   },
   {
    "duration": 28,
    "start_time": "2022-01-21T10:00:39.906Z"
   },
   {
    "duration": 20,
    "start_time": "2022-01-21T10:00:39.937Z"
   },
   {
    "duration": 36,
    "start_time": "2022-01-21T10:00:39.959Z"
   },
   {
    "duration": 35,
    "start_time": "2022-01-21T10:00:39.997Z"
   },
   {
    "duration": 21,
    "start_time": "2022-01-21T10:00:40.035Z"
   },
   {
    "duration": 8,
    "start_time": "2022-01-21T10:00:40.059Z"
   },
   {
    "duration": 17,
    "start_time": "2022-01-21T10:00:40.069Z"
   },
   {
    "duration": 48,
    "start_time": "2022-01-21T10:00:40.089Z"
   },
   {
    "duration": 9,
    "start_time": "2022-01-21T10:00:40.139Z"
   },
   {
    "duration": 13,
    "start_time": "2022-01-21T10:00:40.150Z"
   },
   {
    "duration": 10,
    "start_time": "2022-01-21T10:00:40.165Z"
   },
   {
    "duration": 12,
    "start_time": "2022-01-21T10:00:40.177Z"
   },
   {
    "duration": 27,
    "start_time": "2022-01-21T10:00:40.232Z"
   },
   {
    "duration": 44,
    "start_time": "2022-01-21T10:00:40.262Z"
   },
   {
    "duration": 138,
    "start_time": "2022-01-21T10:00:40.308Z"
   },
   {
    "duration": 23,
    "start_time": "2022-01-21T10:00:40.448Z"
   },
   {
    "duration": 16,
    "start_time": "2022-01-21T10:00:40.474Z"
   },
   {
    "duration": 10,
    "start_time": "2022-01-21T10:00:40.492Z"
   },
   {
    "duration": 19,
    "start_time": "2022-01-21T10:00:40.533Z"
   },
   {
    "duration": 24,
    "start_time": "2022-01-21T10:00:40.555Z"
   },
   {
    "duration": 88,
    "start_time": "2022-01-21T10:00:40.582Z"
   },
   {
    "duration": 14,
    "start_time": "2022-01-21T10:00:40.673Z"
   },
   {
    "duration": 11,
    "start_time": "2022-01-21T10:00:40.690Z"
   },
   {
    "duration": 48,
    "start_time": "2022-01-21T10:00:40.703Z"
   },
   {
    "duration": 29,
    "start_time": "2022-01-21T10:00:40.754Z"
   },
   {
    "duration": 88,
    "start_time": "2022-01-21T10:00:40.786Z"
   },
   {
    "duration": 18,
    "start_time": "2022-01-21T10:00:40.877Z"
   },
   {
    "duration": 36,
    "start_time": "2022-01-21T10:00:40.898Z"
   },
   {
    "duration": 14,
    "start_time": "2022-01-21T10:00:40.937Z"
   },
   {
    "duration": 9,
    "start_time": "2022-01-21T10:00:40.954Z"
   },
   {
    "duration": 12,
    "start_time": "2022-01-21T10:00:40.965Z"
   },
   {
    "duration": 91,
    "start_time": "2022-01-21T10:00:40.979Z"
   },
   {
    "duration": 32,
    "start_time": "2022-01-21T10:00:41.073Z"
   },
   {
    "duration": 42,
    "start_time": "2022-01-21T10:00:41.107Z"
   },
   {
    "duration": 103,
    "start_time": "2022-01-21T10:00:41.152Z"
   },
   {
    "duration": 30,
    "start_time": "2022-01-21T10:00:41.258Z"
   },
   {
    "duration": 68,
    "start_time": "2022-01-21T10:00:41.291Z"
   },
   {
    "duration": 13,
    "start_time": "2022-01-21T10:00:41.362Z"
   },
   {
    "duration": 57,
    "start_time": "2022-01-21T10:00:41.378Z"
   },
   {
    "duration": 32,
    "start_time": "2022-01-21T10:00:41.437Z"
   },
   {
    "duration": 9,
    "start_time": "2022-01-21T10:00:41.471Z"
   },
   {
    "duration": 21,
    "start_time": "2022-01-21T10:00:41.482Z"
   },
   {
    "duration": 19,
    "start_time": "2022-01-21T10:00:41.533Z"
   },
   {
    "duration": 27,
    "start_time": "2022-01-21T10:00:41.555Z"
   },
   {
    "duration": 51,
    "start_time": "2022-01-21T10:00:41.585Z"
   },
   {
    "duration": 168,
    "start_time": "2022-01-21T10:00:41.638Z"
   },
   {
    "duration": 34,
    "start_time": "2022-01-21T10:00:41.809Z"
   },
   {
    "duration": 8,
    "start_time": "2022-01-21T10:00:41.846Z"
   },
   {
    "duration": 22,
    "start_time": "2022-01-21T10:00:41.861Z"
   },
   {
    "duration": 49,
    "start_time": "2022-01-21T10:00:41.886Z"
   },
   {
    "duration": 12,
    "start_time": "2022-01-21T10:00:41.937Z"
   },
   {
    "duration": 10,
    "start_time": "2022-01-21T10:00:41.951Z"
   },
   {
    "duration": 627,
    "start_time": "2022-01-21T10:00:41.963Z"
   },
   {
    "duration": 11,
    "start_time": "2022-01-21T10:00:42.592Z"
   },
   {
    "duration": 28,
    "start_time": "2022-01-21T10:00:42.605Z"
   },
   {
    "duration": 629,
    "start_time": "2022-01-21T10:00:42.636Z"
   },
   {
    "duration": 11,
    "start_time": "2022-01-21T10:00:43.268Z"
   },
   {
    "duration": 10,
    "start_time": "2022-01-21T10:00:43.282Z"
   },
   {
    "duration": 603,
    "start_time": "2022-01-21T10:00:43.295Z"
   },
   {
    "duration": 11,
    "start_time": "2022-01-21T10:00:43.901Z"
   },
   {
    "duration": 25,
    "start_time": "2022-01-21T10:00:43.914Z"
   },
   {
    "duration": 8,
    "start_time": "2022-01-21T10:00:43.941Z"
   },
   {
    "duration": 24,
    "start_time": "2022-01-21T10:00:43.951Z"
   },
   {
    "duration": 7,
    "start_time": "2022-01-21T10:00:43.977Z"
   },
   {
    "duration": 47,
    "start_time": "2022-01-21T10:00:43.987Z"
   },
   {
    "duration": 73,
    "start_time": "2022-01-21T10:00:44.037Z"
   },
   {
    "duration": 1094,
    "start_time": "2022-01-25T19:28:46.140Z"
   },
   {
    "duration": 77,
    "start_time": "2022-01-25T19:28:47.236Z"
   },
   {
    "duration": 158,
    "start_time": "2022-01-25T19:28:47.315Z"
   },
   {
    "duration": 95,
    "start_time": "2022-01-25T19:28:47.475Z"
   },
   {
    "duration": 150,
    "start_time": "2022-01-25T19:28:47.572Z"
   },
   {
    "duration": 22,
    "start_time": "2022-01-25T19:28:47.724Z"
   },
   {
    "duration": 10,
    "start_time": "2022-01-25T19:28:47.748Z"
   },
   {
    "duration": 23,
    "start_time": "2022-01-25T19:28:47.762Z"
   },
   {
    "duration": 14,
    "start_time": "2022-01-25T19:28:47.798Z"
   },
   {
    "duration": 18,
    "start_time": "2022-01-25T19:28:47.814Z"
   },
   {
    "duration": 6,
    "start_time": "2022-01-25T19:28:47.833Z"
   },
   {
    "duration": 24,
    "start_time": "2022-01-25T19:28:47.841Z"
   },
   {
    "duration": 11,
    "start_time": "2022-01-25T19:28:47.866Z"
   },
   {
    "duration": 23,
    "start_time": "2022-01-25T19:28:47.879Z"
   },
   {
    "duration": 10,
    "start_time": "2022-01-25T19:28:47.903Z"
   },
   {
    "duration": 6,
    "start_time": "2022-01-25T19:28:47.915Z"
   },
   {
    "duration": 10,
    "start_time": "2022-01-25T19:28:47.923Z"
   },
   {
    "duration": 24,
    "start_time": "2022-01-25T19:28:47.935Z"
   },
   {
    "duration": 59,
    "start_time": "2022-01-25T19:28:47.962Z"
   },
   {
    "duration": 108,
    "start_time": "2022-01-25T19:28:48.023Z"
   },
   {
    "duration": 19,
    "start_time": "2022-01-25T19:28:48.134Z"
   },
   {
    "duration": 11,
    "start_time": "2022-01-25T19:28:48.155Z"
   },
   {
    "duration": 29,
    "start_time": "2022-01-25T19:28:48.170Z"
   },
   {
    "duration": 17,
    "start_time": "2022-01-25T19:28:48.202Z"
   },
   {
    "duration": 31,
    "start_time": "2022-01-25T19:28:48.222Z"
   },
   {
    "duration": 56,
    "start_time": "2022-01-25T19:28:48.255Z"
   },
   {
    "duration": 12,
    "start_time": "2022-01-25T19:28:48.313Z"
   },
   {
    "duration": 23,
    "start_time": "2022-01-25T19:28:48.326Z"
   },
   {
    "duration": 21,
    "start_time": "2022-01-25T19:28:48.350Z"
   },
   {
    "duration": 28,
    "start_time": "2022-01-25T19:28:48.373Z"
   },
   {
    "duration": 36,
    "start_time": "2022-01-25T19:28:48.402Z"
   },
   {
    "duration": 11,
    "start_time": "2022-01-25T19:28:48.440Z"
   },
   {
    "duration": 16,
    "start_time": "2022-01-25T19:28:48.453Z"
   },
   {
    "duration": 28,
    "start_time": "2022-01-25T19:28:48.470Z"
   },
   {
    "duration": 6,
    "start_time": "2022-01-25T19:28:48.500Z"
   },
   {
    "duration": 9,
    "start_time": "2022-01-25T19:28:48.508Z"
   },
   {
    "duration": 42,
    "start_time": "2022-01-25T19:28:48.519Z"
   },
   {
    "duration": 47,
    "start_time": "2022-01-25T19:28:48.563Z"
   },
   {
    "duration": 15,
    "start_time": "2022-01-25T19:28:48.611Z"
   },
   {
    "duration": 78,
    "start_time": "2022-01-25T19:28:48.628Z"
   },
   {
    "duration": 20,
    "start_time": "2022-01-25T19:28:48.707Z"
   },
   {
    "duration": 26,
    "start_time": "2022-01-25T19:28:48.729Z"
   },
   {
    "duration": 8,
    "start_time": "2022-01-25T19:28:48.757Z"
   },
   {
    "duration": 48,
    "start_time": "2022-01-25T19:28:48.767Z"
   },
   {
    "duration": 24,
    "start_time": "2022-01-25T19:28:48.817Z"
   },
   {
    "duration": 6,
    "start_time": "2022-01-25T19:28:48.844Z"
   },
   {
    "duration": 46,
    "start_time": "2022-01-25T19:28:48.852Z"
   },
   {
    "duration": 15,
    "start_time": "2022-01-25T19:28:48.900Z"
   },
   {
    "duration": 18,
    "start_time": "2022-01-25T19:28:48.916Z"
   },
   {
    "duration": 16,
    "start_time": "2022-01-25T19:28:48.937Z"
   },
   {
    "duration": 129,
    "start_time": "2022-01-25T19:28:48.955Z"
   },
   {
    "duration": 24,
    "start_time": "2022-01-25T19:28:49.086Z"
   },
   {
    "duration": 5,
    "start_time": "2022-01-25T19:28:49.112Z"
   },
   {
    "duration": 15,
    "start_time": "2022-01-25T19:28:49.118Z"
   },
   {
    "duration": 14,
    "start_time": "2022-01-25T19:28:49.135Z"
   },
   {
    "duration": 9,
    "start_time": "2022-01-25T19:28:49.150Z"
   },
   {
    "duration": 41,
    "start_time": "2022-01-25T19:28:49.161Z"
   },
   {
    "duration": 390,
    "start_time": "2022-01-25T19:28:49.204Z"
   },
   {
    "duration": 8,
    "start_time": "2022-01-25T19:28:49.597Z"
   },
   {
    "duration": 13,
    "start_time": "2022-01-25T19:28:49.607Z"
   },
   {
    "duration": 389,
    "start_time": "2022-01-25T19:28:49.622Z"
   },
   {
    "duration": 10,
    "start_time": "2022-01-25T19:28:50.013Z"
   },
   {
    "duration": 10,
    "start_time": "2022-01-25T19:28:50.024Z"
   },
   {
    "duration": 457,
    "start_time": "2022-01-25T19:28:50.036Z"
   },
   {
    "duration": 8,
    "start_time": "2022-01-25T19:28:50.496Z"
   },
   {
    "duration": 23,
    "start_time": "2022-01-25T19:28:50.506Z"
   },
   {
    "duration": 6,
    "start_time": "2022-01-25T19:28:50.531Z"
   },
   {
    "duration": 16,
    "start_time": "2022-01-25T19:28:50.542Z"
   },
   {
    "duration": 5,
    "start_time": "2022-01-25T19:28:50.559Z"
   },
   {
    "duration": 10,
    "start_time": "2022-01-25T19:28:50.566Z"
   },
   {
    "duration": 10,
    "start_time": "2022-01-25T19:28:50.597Z"
   },
   {
    "duration": 1089,
    "start_time": "2022-01-25T19:36:42.250Z"
   },
   {
    "duration": 58,
    "start_time": "2022-01-25T19:36:43.341Z"
   },
   {
    "duration": 157,
    "start_time": "2022-01-25T19:36:43.401Z"
   },
   {
    "duration": 93,
    "start_time": "2022-01-25T19:36:43.560Z"
   },
   {
    "duration": 148,
    "start_time": "2022-01-25T19:36:43.655Z"
   },
   {
    "duration": 22,
    "start_time": "2022-01-25T19:36:43.805Z"
   },
   {
    "duration": 8,
    "start_time": "2022-01-25T19:36:43.829Z"
   },
   {
    "duration": 21,
    "start_time": "2022-01-25T19:36:43.840Z"
   },
   {
    "duration": 14,
    "start_time": "2022-01-25T19:36:43.863Z"
   },
   {
    "duration": 17,
    "start_time": "2022-01-25T19:36:43.897Z"
   },
   {
    "duration": 6,
    "start_time": "2022-01-25T19:36:43.916Z"
   },
   {
    "duration": 12,
    "start_time": "2022-01-25T19:36:43.924Z"
   },
   {
    "duration": 7,
    "start_time": "2022-01-25T19:36:43.938Z"
   },
   {
    "duration": 8,
    "start_time": "2022-01-25T19:36:43.947Z"
   },
   {
    "duration": 40,
    "start_time": "2022-01-25T19:36:43.957Z"
   },
   {
    "duration": 8,
    "start_time": "2022-01-25T19:36:43.999Z"
   },
   {
    "duration": 13,
    "start_time": "2022-01-25T19:36:44.008Z"
   },
   {
    "duration": 21,
    "start_time": "2022-01-25T19:36:44.023Z"
   },
   {
    "duration": 57,
    "start_time": "2022-01-25T19:36:44.045Z"
   },
   {
    "duration": 98,
    "start_time": "2022-01-25T19:36:44.103Z"
   },
   {
    "duration": 17,
    "start_time": "2022-01-25T19:36:44.203Z"
   },
   {
    "duration": 11,
    "start_time": "2022-01-25T19:36:44.221Z"
   },
   {
    "duration": 7,
    "start_time": "2022-01-25T19:36:44.236Z"
   },
   {
    "duration": 14,
    "start_time": "2022-01-25T19:36:44.245Z"
   },
   {
    "duration": 50,
    "start_time": "2022-01-25T19:36:44.261Z"
   },
   {
    "duration": 41,
    "start_time": "2022-01-25T19:36:44.313Z"
   },
   {
    "duration": 11,
    "start_time": "2022-01-25T19:36:44.356Z"
   },
   {
    "duration": 30,
    "start_time": "2022-01-25T19:36:44.368Z"
   },
   {
    "duration": 19,
    "start_time": "2022-01-25T19:36:44.400Z"
   },
   {
    "duration": 19,
    "start_time": "2022-01-25T19:36:44.421Z"
   },
   {
    "duration": 56,
    "start_time": "2022-01-25T19:36:44.442Z"
   },
   {
    "duration": 14,
    "start_time": "2022-01-25T19:36:44.500Z"
   },
   {
    "duration": 8,
    "start_time": "2022-01-25T19:36:44.516Z"
   },
   {
    "duration": 11,
    "start_time": "2022-01-25T19:36:44.526Z"
   },
   {
    "duration": 8,
    "start_time": "2022-01-25T19:36:44.539Z"
   },
   {
    "duration": 10,
    "start_time": "2022-01-25T19:36:44.548Z"
   },
   {
    "duration": 73,
    "start_time": "2022-01-25T19:36:44.559Z"
   },
   {
    "duration": 22,
    "start_time": "2022-01-25T19:36:44.634Z"
   },
   {
    "duration": 14,
    "start_time": "2022-01-25T19:36:44.658Z"
   },
   {
    "duration": 61,
    "start_time": "2022-01-25T19:36:44.697Z"
   },
   {
    "duration": 20,
    "start_time": "2022-01-25T19:36:44.759Z"
   },
   {
    "duration": 38,
    "start_time": "2022-01-25T19:36:44.780Z"
   },
   {
    "duration": 8,
    "start_time": "2022-01-25T19:36:44.820Z"
   },
   {
    "duration": 25,
    "start_time": "2022-01-25T19:36:44.830Z"
   },
   {
    "duration": 49,
    "start_time": "2022-01-25T19:36:44.857Z"
   },
   {
    "duration": 5,
    "start_time": "2022-01-25T19:36:44.908Z"
   },
   {
    "duration": 25,
    "start_time": "2022-01-25T19:36:44.915Z"
   },
   {
    "duration": 13,
    "start_time": "2022-01-25T19:36:44.941Z"
   },
   {
    "duration": 17,
    "start_time": "2022-01-25T19:36:44.956Z"
   },
   {
    "duration": 33,
    "start_time": "2022-01-25T19:36:44.974Z"
   },
   {
    "duration": 116,
    "start_time": "2022-01-25T19:36:45.009Z"
   },
   {
    "duration": 15,
    "start_time": "2022-01-25T19:36:45.126Z"
   },
   {
    "duration": 8,
    "start_time": "2022-01-25T19:36:45.143Z"
   },
   {
    "duration": 14,
    "start_time": "2022-01-25T19:36:45.152Z"
   },
   {
    "duration": 37,
    "start_time": "2022-01-25T19:36:45.168Z"
   },
   {
    "duration": 9,
    "start_time": "2022-01-25T19:36:45.206Z"
   },
   {
    "duration": 8,
    "start_time": "2022-01-25T19:36:45.216Z"
   },
   {
    "duration": 406,
    "start_time": "2022-01-25T19:36:45.225Z"
   },
   {
    "duration": 9,
    "start_time": "2022-01-25T19:36:45.632Z"
   },
   {
    "duration": 9,
    "start_time": "2022-01-25T19:36:45.642Z"
   },
   {
    "duration": 392,
    "start_time": "2022-01-25T19:36:45.652Z"
   },
   {
    "duration": 8,
    "start_time": "2022-01-25T19:36:46.046Z"
   },
   {
    "duration": 9,
    "start_time": "2022-01-25T19:36:46.055Z"
   },
   {
    "duration": 447,
    "start_time": "2022-01-25T19:36:46.065Z"
   },
   {
    "duration": 9,
    "start_time": "2022-01-25T19:36:46.514Z"
   },
   {
    "duration": 8,
    "start_time": "2022-01-25T19:36:46.524Z"
   },
   {
    "duration": 4,
    "start_time": "2022-01-25T19:36:46.534Z"
   },
   {
    "duration": 16,
    "start_time": "2022-01-25T19:36:46.543Z"
   },
   {
    "duration": 38,
    "start_time": "2022-01-25T19:36:46.560Z"
   },
   {
    "duration": 10,
    "start_time": "2022-01-25T19:36:46.600Z"
   },
   {
    "duration": 9,
    "start_time": "2022-01-25T19:36:46.612Z"
   },
   {
    "duration": 20,
    "start_time": "2022-01-25T19:40:27.189Z"
   },
   {
    "duration": 12,
    "start_time": "2022-01-25T19:40:49.934Z"
   },
   {
    "duration": 258,
    "start_time": "2022-01-26T06:39:36.363Z"
   },
   {
    "duration": 1065,
    "start_time": "2022-01-26T06:39:45.245Z"
   },
   {
    "duration": 32,
    "start_time": "2022-01-26T06:39:46.312Z"
   },
   {
    "duration": 138,
    "start_time": "2022-01-26T06:39:46.346Z"
   },
   {
    "duration": 81,
    "start_time": "2022-01-26T06:39:46.486Z"
   },
   {
    "duration": 130,
    "start_time": "2022-01-26T06:39:46.568Z"
   },
   {
    "duration": 19,
    "start_time": "2022-01-26T06:39:46.700Z"
   },
   {
    "duration": 8,
    "start_time": "2022-01-26T06:39:46.720Z"
   },
   {
    "duration": 20,
    "start_time": "2022-01-26T06:39:46.731Z"
   },
   {
    "duration": 13,
    "start_time": "2022-01-26T06:39:46.752Z"
   },
   {
    "duration": 15,
    "start_time": "2022-01-26T06:39:46.767Z"
   },
   {
    "duration": 30,
    "start_time": "2022-01-26T06:39:46.783Z"
   },
   {
    "duration": 11,
    "start_time": "2022-01-26T06:39:46.815Z"
   },
   {
    "duration": 7,
    "start_time": "2022-01-26T06:39:46.828Z"
   },
   {
    "duration": 8,
    "start_time": "2022-01-26T06:39:46.837Z"
   },
   {
    "duration": 10,
    "start_time": "2022-01-26T06:39:46.846Z"
   },
   {
    "duration": 7,
    "start_time": "2022-01-26T06:39:46.857Z"
   },
   {
    "duration": 8,
    "start_time": "2022-01-26T06:39:46.866Z"
   },
   {
    "duration": 56,
    "start_time": "2022-01-26T06:39:46.876Z"
   },
   {
    "duration": 31,
    "start_time": "2022-01-26T06:39:46.934Z"
   },
   {
    "duration": 103,
    "start_time": "2022-01-26T06:39:46.967Z"
   },
   {
    "duration": 15,
    "start_time": "2022-01-26T06:39:47.072Z"
   },
   {
    "duration": 26,
    "start_time": "2022-01-26T06:39:47.089Z"
   },
   {
    "duration": 7,
    "start_time": "2022-01-26T06:39:47.120Z"
   },
   {
    "duration": 22,
    "start_time": "2022-01-26T06:39:47.130Z"
   },
   {
    "duration": 19,
    "start_time": "2022-01-26T06:39:47.154Z"
   },
   {
    "duration": 57,
    "start_time": "2022-01-26T06:39:47.174Z"
   },
   {
    "duration": 10,
    "start_time": "2022-01-26T06:39:47.233Z"
   },
   {
    "duration": 9,
    "start_time": "2022-01-26T06:39:47.245Z"
   },
   {
    "duration": 21,
    "start_time": "2022-01-26T06:39:47.256Z"
   },
   {
    "duration": 41,
    "start_time": "2022-01-26T06:39:47.278Z"
   },
   {
    "duration": 39,
    "start_time": "2022-01-26T06:39:47.321Z"
   },
   {
    "duration": 12,
    "start_time": "2022-01-26T06:39:47.362Z"
   },
   {
    "duration": 7,
    "start_time": "2022-01-26T06:39:47.376Z"
   },
   {
    "duration": 8,
    "start_time": "2022-01-26T06:39:47.413Z"
   },
   {
    "duration": 8,
    "start_time": "2022-01-26T06:39:47.423Z"
   },
   {
    "duration": 8,
    "start_time": "2022-01-26T06:39:47.433Z"
   },
   {
    "duration": 45,
    "start_time": "2022-01-26T06:39:47.443Z"
   },
   {
    "duration": 42,
    "start_time": "2022-01-26T06:39:47.490Z"
   },
   {
    "duration": 15,
    "start_time": "2022-01-26T06:39:47.534Z"
   },
   {
    "duration": 80,
    "start_time": "2022-01-26T06:39:47.550Z"
   },
   {
    "duration": 23,
    "start_time": "2022-01-26T06:39:47.633Z"
   },
   {
    "duration": 22,
    "start_time": "2022-01-26T06:39:47.658Z"
   },
   {
    "duration": 7,
    "start_time": "2022-01-26T06:39:47.681Z"
   },
   {
    "duration": 41,
    "start_time": "2022-01-26T06:39:47.690Z"
   },
   {
    "duration": 20,
    "start_time": "2022-01-26T06:39:47.733Z"
   },
   {
    "duration": 4,
    "start_time": "2022-01-26T06:39:47.754Z"
   },
   {
    "duration": 12,
    "start_time": "2022-01-26T06:39:47.760Z"
   },
   {
    "duration": 13,
    "start_time": "2022-01-26T06:39:47.773Z"
   },
   {
    "duration": 39,
    "start_time": "2022-01-26T06:39:47.787Z"
   },
   {
    "duration": 13,
    "start_time": "2022-01-26T06:39:47.827Z"
   },
   {
    "duration": 103,
    "start_time": "2022-01-26T06:39:47.842Z"
   },
   {
    "duration": 13,
    "start_time": "2022-01-26T06:39:47.947Z"
   },
   {
    "duration": 5,
    "start_time": "2022-01-26T06:39:47.962Z"
   },
   {
    "duration": 13,
    "start_time": "2022-01-26T06:39:47.968Z"
   },
   {
    "duration": 34,
    "start_time": "2022-01-26T06:39:47.982Z"
   },
   {
    "duration": 7,
    "start_time": "2022-01-26T06:39:48.018Z"
   },
   {
    "duration": 7,
    "start_time": "2022-01-26T06:39:48.026Z"
   },
   {
    "duration": 372,
    "start_time": "2022-01-26T06:39:48.035Z"
   },
   {
    "duration": 8,
    "start_time": "2022-01-26T06:39:48.409Z"
   },
   {
    "duration": 7,
    "start_time": "2022-01-26T06:39:48.418Z"
   },
   {
    "duration": 368,
    "start_time": "2022-01-26T06:39:48.426Z"
   },
   {
    "duration": 7,
    "start_time": "2022-01-26T06:39:48.796Z"
   },
   {
    "duration": 13,
    "start_time": "2022-01-26T06:39:48.804Z"
   },
   {
    "duration": 378,
    "start_time": "2022-01-26T06:39:48.819Z"
   },
   {
    "duration": 14,
    "start_time": "2022-01-26T06:39:49.198Z"
   },
   {
    "duration": 11,
    "start_time": "2022-01-26T06:39:49.213Z"
   },
   {
    "duration": 6,
    "start_time": "2022-01-26T06:39:49.226Z"
   },
   {
    "duration": 14,
    "start_time": "2022-01-26T06:39:49.236Z"
   },
   {
    "duration": 4,
    "start_time": "2022-01-26T06:39:49.251Z"
   },
   {
    "duration": 8,
    "start_time": "2022-01-26T06:39:49.257Z"
   },
   {
    "duration": 9,
    "start_time": "2022-01-26T06:39:49.267Z"
   },
   {
    "duration": 22,
    "start_time": "2022-01-26T06:41:38.301Z"
   },
   {
    "duration": 15,
    "start_time": "2022-01-26T06:41:49.834Z"
   },
   {
    "duration": 19,
    "start_time": "2022-01-26T06:43:56.132Z"
   },
   {
    "duration": 21,
    "start_time": "2022-01-26T06:46:30.906Z"
   },
   {
    "duration": 100,
    "start_time": "2022-01-26T06:46:32.531Z"
   },
   {
    "duration": 22,
    "start_time": "2022-01-26T06:46:33.923Z"
   },
   {
    "duration": 21,
    "start_time": "2022-01-26T06:46:39.460Z"
   },
   {
    "duration": 93,
    "start_time": "2022-01-26T06:46:40.754Z"
   },
   {
    "duration": 25,
    "start_time": "2022-01-26T06:46:41.875Z"
   },
   {
    "duration": 44,
    "start_time": "2022-01-26T06:47:49.523Z"
   },
   {
    "duration": 78,
    "start_time": "2022-01-26T06:50:30.851Z"
   },
   {
    "duration": 326,
    "start_time": "2022-01-26T06:50:47.667Z"
   },
   {
    "duration": 75,
    "start_time": "2022-01-26T06:51:14.724Z"
   },
   {
    "duration": 228,
    "start_time": "2022-01-26T06:51:22.674Z"
   },
   {
    "duration": 28,
    "start_time": "2022-01-26T06:51:38.482Z"
   },
   {
    "duration": 15,
    "start_time": "2022-01-26T06:51:48.899Z"
   },
   {
    "duration": 1048,
    "start_time": "2022-01-26T06:52:05.364Z"
   },
   {
    "duration": 33,
    "start_time": "2022-01-26T06:52:06.413Z"
   },
   {
    "duration": 137,
    "start_time": "2022-01-26T06:52:06.448Z"
   },
   {
    "duration": 83,
    "start_time": "2022-01-26T06:52:06.587Z"
   },
   {
    "duration": 134,
    "start_time": "2022-01-26T06:52:06.671Z"
   },
   {
    "duration": 19,
    "start_time": "2022-01-26T06:52:06.806Z"
   },
   {
    "duration": 10,
    "start_time": "2022-01-26T06:52:06.826Z"
   },
   {
    "duration": 20,
    "start_time": "2022-01-26T06:52:06.838Z"
   },
   {
    "duration": 13,
    "start_time": "2022-01-26T06:52:06.860Z"
   },
   {
    "duration": 40,
    "start_time": "2022-01-26T06:52:06.875Z"
   },
   {
    "duration": 6,
    "start_time": "2022-01-26T06:52:06.916Z"
   },
   {
    "duration": 10,
    "start_time": "2022-01-26T06:52:06.924Z"
   },
   {
    "duration": 6,
    "start_time": "2022-01-26T06:52:06.935Z"
   },
   {
    "duration": 8,
    "start_time": "2022-01-26T06:52:06.943Z"
   },
   {
    "duration": 9,
    "start_time": "2022-01-26T06:52:06.952Z"
   },
   {
    "duration": 50,
    "start_time": "2022-01-26T06:52:06.962Z"
   },
   {
    "duration": 9,
    "start_time": "2022-01-26T06:52:07.014Z"
   },
   {
    "duration": 22,
    "start_time": "2022-01-26T06:52:07.025Z"
   },
   {
    "duration": 12,
    "start_time": "2022-01-26T06:52:07.049Z"
   },
   {
    "duration": 74,
    "start_time": "2022-01-26T06:52:07.063Z"
   },
   {
    "duration": 90,
    "start_time": "2022-01-26T06:52:07.139Z"
   },
   {
    "duration": 17,
    "start_time": "2022-01-26T06:52:07.231Z"
   },
   {
    "duration": 11,
    "start_time": "2022-01-26T06:52:07.253Z"
   },
   {
    "duration": 6,
    "start_time": "2022-01-26T06:52:07.267Z"
   },
   {
    "duration": 47,
    "start_time": "2022-01-26T06:52:07.275Z"
   },
   {
    "duration": 16,
    "start_time": "2022-01-26T06:52:07.324Z"
   },
   {
    "duration": 36,
    "start_time": "2022-01-26T06:52:07.341Z"
   },
   {
    "duration": 37,
    "start_time": "2022-01-26T06:52:07.379Z"
   },
   {
    "duration": 9,
    "start_time": "2022-01-26T06:52:07.418Z"
   },
   {
    "duration": 18,
    "start_time": "2022-01-26T06:52:07.429Z"
   },
   {
    "duration": 21,
    "start_time": "2022-01-26T06:52:07.449Z"
   },
   {
    "duration": 72,
    "start_time": "2022-01-26T06:52:07.471Z"
   },
   {
    "duration": 14,
    "start_time": "2022-01-26T06:52:07.545Z"
   },
   {
    "duration": 9,
    "start_time": "2022-01-26T06:52:07.561Z"
   },
   {
    "duration": 10,
    "start_time": "2022-01-26T06:52:07.611Z"
   },
   {
    "duration": 5,
    "start_time": "2022-01-26T06:52:07.623Z"
   },
   {
    "duration": 9,
    "start_time": "2022-01-26T06:52:07.630Z"
   },
   {
    "duration": 38,
    "start_time": "2022-01-26T06:52:07.640Z"
   },
   {
    "duration": 45,
    "start_time": "2022-01-26T06:52:07.679Z"
   },
   {
    "duration": 14,
    "start_time": "2022-01-26T06:52:07.725Z"
   },
   {
    "duration": 79,
    "start_time": "2022-01-26T06:52:07.740Z"
   },
   {
    "duration": 18,
    "start_time": "2022-01-26T06:52:07.821Z"
   },
   {
    "duration": 22,
    "start_time": "2022-01-26T06:52:07.841Z"
   },
   {
    "duration": 8,
    "start_time": "2022-01-26T06:52:07.864Z"
   },
   {
    "duration": 55,
    "start_time": "2022-01-26T06:52:07.874Z"
   },
   {
    "duration": 20,
    "start_time": "2022-01-26T06:52:07.931Z"
   },
   {
    "duration": 5,
    "start_time": "2022-01-26T06:52:07.952Z"
   },
   {
    "duration": 12,
    "start_time": "2022-01-26T06:52:07.958Z"
   },
   {
    "duration": 1045,
    "start_time": "2022-01-26T06:52:07.972Z"
   },
   {
    "duration": 861,
    "start_time": "2022-01-26T06:52:08.158Z"
   },
   {
    "duration": 850,
    "start_time": "2022-01-26T06:52:08.171Z"
   },
   {
    "duration": 846,
    "start_time": "2022-01-26T06:52:08.177Z"
   },
   {
    "duration": 842,
    "start_time": "2022-01-26T06:52:08.182Z"
   },
   {
    "duration": 841,
    "start_time": "2022-01-26T06:52:08.185Z"
   },
   {
    "duration": 839,
    "start_time": "2022-01-26T06:52:08.188Z"
   },
   {
    "duration": 837,
    "start_time": "2022-01-26T06:52:08.191Z"
   },
   {
    "duration": 836,
    "start_time": "2022-01-26T06:52:08.194Z"
   },
   {
    "duration": 834,
    "start_time": "2022-01-26T06:52:08.197Z"
   },
   {
    "duration": 833,
    "start_time": "2022-01-26T06:52:08.199Z"
   },
   {
    "duration": 833,
    "start_time": "2022-01-26T06:52:08.201Z"
   },
   {
    "duration": 832,
    "start_time": "2022-01-26T06:52:08.203Z"
   },
   {
    "duration": 830,
    "start_time": "2022-01-26T06:52:08.206Z"
   },
   {
    "duration": 829,
    "start_time": "2022-01-26T06:52:08.208Z"
   },
   {
    "duration": 829,
    "start_time": "2022-01-26T06:52:08.210Z"
   },
   {
    "duration": 827,
    "start_time": "2022-01-26T06:52:08.213Z"
   },
   {
    "duration": 825,
    "start_time": "2022-01-26T06:52:08.216Z"
   },
   {
    "duration": 824,
    "start_time": "2022-01-26T06:52:08.218Z"
   },
   {
    "duration": 822,
    "start_time": "2022-01-26T06:52:08.221Z"
   },
   {
    "duration": 821,
    "start_time": "2022-01-26T06:52:08.223Z"
   },
   {
    "duration": 820,
    "start_time": "2022-01-26T06:52:08.225Z"
   },
   {
    "duration": 818,
    "start_time": "2022-01-26T06:52:08.228Z"
   },
   {
    "duration": 817,
    "start_time": "2022-01-26T06:52:08.230Z"
   },
   {
    "duration": 38,
    "start_time": "2022-01-26T06:52:34.763Z"
   },
   {
    "duration": 34,
    "start_time": "2022-01-26T06:52:48.468Z"
   },
   {
    "duration": 250,
    "start_time": "2022-01-26T06:52:58.435Z"
   },
   {
    "duration": 37,
    "start_time": "2022-01-26T06:53:01.715Z"
   },
   {
    "duration": 90,
    "start_time": "2022-01-26T06:53:21.963Z"
   },
   {
    "duration": 21,
    "start_time": "2022-01-26T06:53:29.955Z"
   },
   {
    "duration": 19,
    "start_time": "2022-01-26T06:53:42.402Z"
   },
   {
    "duration": 4,
    "start_time": "2022-01-26T06:53:54.865Z"
   },
   {
    "duration": 12,
    "start_time": "2022-01-26T06:53:55.625Z"
   },
   {
    "duration": 23,
    "start_time": "2022-01-26T06:56:22.354Z"
   },
   {
    "duration": 14,
    "start_time": "2022-01-26T06:56:23.426Z"
   },
   {
    "duration": 41,
    "start_time": "2022-01-26T06:56:28.266Z"
   },
   {
    "duration": 39,
    "start_time": "2022-01-26T06:56:37.611Z"
   },
   {
    "duration": 20,
    "start_time": "2022-01-26T06:56:47.402Z"
   },
   {
    "duration": 21,
    "start_time": "2022-01-26T06:56:54.098Z"
   },
   {
    "duration": 23,
    "start_time": "2022-01-26T06:57:03.170Z"
   },
   {
    "duration": 21,
    "start_time": "2022-01-26T06:57:07.922Z"
   },
   {
    "duration": 4,
    "start_time": "2022-01-26T06:57:12.649Z"
   },
   {
    "duration": 11,
    "start_time": "2022-01-26T06:57:13.273Z"
   },
   {
    "duration": 1095,
    "start_time": "2022-01-26T06:57:19.417Z"
   },
   {
    "duration": 35,
    "start_time": "2022-01-26T06:57:20.513Z"
   },
   {
    "duration": 143,
    "start_time": "2022-01-26T06:57:20.551Z"
   },
   {
    "duration": 83,
    "start_time": "2022-01-26T06:57:20.696Z"
   },
   {
    "duration": 137,
    "start_time": "2022-01-26T06:57:20.781Z"
   },
   {
    "duration": 20,
    "start_time": "2022-01-26T06:57:20.919Z"
   },
   {
    "duration": 14,
    "start_time": "2022-01-26T06:57:20.941Z"
   },
   {
    "duration": 23,
    "start_time": "2022-01-26T06:57:20.957Z"
   },
   {
    "duration": 13,
    "start_time": "2022-01-26T06:57:20.982Z"
   },
   {
    "duration": 32,
    "start_time": "2022-01-26T06:57:20.996Z"
   },
   {
    "duration": 6,
    "start_time": "2022-01-26T06:57:21.029Z"
   },
   {
    "duration": 11,
    "start_time": "2022-01-26T06:57:21.036Z"
   },
   {
    "duration": 12,
    "start_time": "2022-01-26T06:57:21.048Z"
   },
   {
    "duration": 8,
    "start_time": "2022-01-26T06:57:21.061Z"
   },
   {
    "duration": 46,
    "start_time": "2022-01-26T06:57:21.071Z"
   },
   {
    "duration": 7,
    "start_time": "2022-01-26T06:57:21.119Z"
   },
   {
    "duration": 10,
    "start_time": "2022-01-26T06:57:21.127Z"
   },
   {
    "duration": 21,
    "start_time": "2022-01-26T06:57:21.138Z"
   },
   {
    "duration": 10,
    "start_time": "2022-01-26T06:57:21.160Z"
   },
   {
    "duration": 71,
    "start_time": "2022-01-26T06:57:21.172Z"
   },
   {
    "duration": 95,
    "start_time": "2022-01-26T06:57:21.245Z"
   },
   {
    "duration": 16,
    "start_time": "2022-01-26T06:57:21.342Z"
   },
   {
    "duration": 9,
    "start_time": "2022-01-26T06:57:21.362Z"
   },
   {
    "duration": 6,
    "start_time": "2022-01-26T06:57:21.373Z"
   },
   {
    "duration": 39,
    "start_time": "2022-01-26T06:57:21.380Z"
   },
   {
    "duration": 20,
    "start_time": "2022-01-26T06:57:21.420Z"
   },
   {
    "duration": 36,
    "start_time": "2022-01-26T06:57:21.441Z"
   },
   {
    "duration": 34,
    "start_time": "2022-01-26T06:57:21.478Z"
   },
   {
    "duration": 7,
    "start_time": "2022-01-26T06:57:21.514Z"
   },
   {
    "duration": 23,
    "start_time": "2022-01-26T06:57:21.523Z"
   },
   {
    "duration": 18,
    "start_time": "2022-01-26T06:57:21.548Z"
   },
   {
    "duration": 57,
    "start_time": "2022-01-26T06:57:21.567Z"
   },
   {
    "duration": 12,
    "start_time": "2022-01-26T06:57:21.625Z"
   },
   {
    "duration": 7,
    "start_time": "2022-01-26T06:57:21.638Z"
   },
   {
    "duration": 14,
    "start_time": "2022-01-26T06:57:21.647Z"
   },
   {
    "duration": 7,
    "start_time": "2022-01-26T06:57:21.663Z"
   },
   {
    "duration": 12,
    "start_time": "2022-01-26T06:57:21.671Z"
   },
   {
    "duration": 64,
    "start_time": "2022-01-26T06:57:21.684Z"
   },
   {
    "duration": 22,
    "start_time": "2022-01-26T06:57:21.749Z"
   },
   {
    "duration": 41,
    "start_time": "2022-01-26T06:57:21.772Z"
   },
   {
    "duration": 56,
    "start_time": "2022-01-26T06:57:21.815Z"
   },
   {
    "duration": 39,
    "start_time": "2022-01-26T06:57:21.873Z"
   },
   {
    "duration": 22,
    "start_time": "2022-01-26T06:57:21.914Z"
   },
   {
    "duration": 7,
    "start_time": "2022-01-26T06:57:21.937Z"
   },
   {
    "duration": 28,
    "start_time": "2022-01-26T06:57:21.946Z"
   },
   {
    "duration": 45,
    "start_time": "2022-01-26T06:57:21.976Z"
   },
   {
    "duration": 4,
    "start_time": "2022-01-26T06:57:22.022Z"
   },
   {
    "duration": 11,
    "start_time": "2022-01-26T06:57:22.028Z"
   },
   {
    "duration": 742,
    "start_time": "2022-01-26T06:57:22.041Z"
   },
   {
    "duration": 853,
    "start_time": "2022-01-26T06:57:21.933Z"
   },
   {
    "duration": 849,
    "start_time": "2022-01-26T06:57:21.938Z"
   },
   {
    "duration": 847,
    "start_time": "2022-01-26T06:57:21.941Z"
   },
   {
    "duration": 844,
    "start_time": "2022-01-26T06:57:21.945Z"
   },
   {
    "duration": 842,
    "start_time": "2022-01-26T06:57:21.948Z"
   },
   {
    "duration": 839,
    "start_time": "2022-01-26T06:57:21.952Z"
   },
   {
    "duration": 838,
    "start_time": "2022-01-26T06:57:21.954Z"
   },
   {
    "duration": 835,
    "start_time": "2022-01-26T06:57:21.958Z"
   },
   {
    "duration": 834,
    "start_time": "2022-01-26T06:57:21.960Z"
   },
   {
    "duration": 832,
    "start_time": "2022-01-26T06:57:21.963Z"
   },
   {
    "duration": 830,
    "start_time": "2022-01-26T06:57:21.966Z"
   },
   {
    "duration": 828,
    "start_time": "2022-01-26T06:57:21.969Z"
   },
   {
    "duration": 826,
    "start_time": "2022-01-26T06:57:21.972Z"
   },
   {
    "duration": 825,
    "start_time": "2022-01-26T06:57:21.974Z"
   },
   {
    "duration": 823,
    "start_time": "2022-01-26T06:57:21.977Z"
   },
   {
    "duration": 821,
    "start_time": "2022-01-26T06:57:21.980Z"
   },
   {
    "duration": 819,
    "start_time": "2022-01-26T06:57:21.983Z"
   },
   {
    "duration": 818,
    "start_time": "2022-01-26T06:57:21.985Z"
   },
   {
    "duration": 803,
    "start_time": "2022-01-26T06:57:22.001Z"
   },
   {
    "duration": 800,
    "start_time": "2022-01-26T06:57:22.005Z"
   },
   {
    "duration": 799,
    "start_time": "2022-01-26T06:57:22.007Z"
   },
   {
    "duration": 797,
    "start_time": "2022-01-26T06:57:22.010Z"
   },
   {
    "duration": 795,
    "start_time": "2022-01-26T06:57:22.013Z"
   },
   {
    "duration": 244,
    "start_time": "2022-01-26T06:58:59.275Z"
   },
   {
    "duration": 15,
    "start_time": "2022-01-26T07:00:07.091Z"
   },
   {
    "duration": 14,
    "start_time": "2022-01-26T07:00:28.884Z"
   },
   {
    "duration": 15,
    "start_time": "2022-01-26T07:00:56.780Z"
   },
   {
    "duration": 18,
    "start_time": "2022-01-26T07:01:02.893Z"
   },
   {
    "duration": 18,
    "start_time": "2022-01-26T07:01:35.170Z"
   },
   {
    "duration": 15,
    "start_time": "2022-01-26T07:02:00.428Z"
   },
   {
    "duration": 15,
    "start_time": "2022-01-26T07:02:38.931Z"
   },
   {
    "duration": 16,
    "start_time": "2022-01-26T07:02:55.003Z"
   },
   {
    "duration": 17,
    "start_time": "2022-01-26T07:02:59.308Z"
   },
   {
    "duration": 18,
    "start_time": "2022-01-26T07:03:08.082Z"
   },
   {
    "duration": 15,
    "start_time": "2022-01-26T07:03:26.573Z"
   },
   {
    "duration": 16,
    "start_time": "2022-01-26T07:03:36.660Z"
   },
   {
    "duration": 24,
    "start_time": "2022-01-26T07:04:08.700Z"
   },
   {
    "duration": 18,
    "start_time": "2022-01-26T07:04:45.530Z"
   },
   {
    "duration": 22,
    "start_time": "2022-01-26T07:04:48.362Z"
   },
   {
    "duration": 21,
    "start_time": "2022-01-26T07:05:01.956Z"
   },
   {
    "duration": 18,
    "start_time": "2022-01-26T07:05:40.042Z"
   },
   {
    "duration": 21,
    "start_time": "2022-01-26T07:05:44.723Z"
   },
   {
    "duration": 15,
    "start_time": "2022-01-26T07:06:51.443Z"
   },
   {
    "duration": 22,
    "start_time": "2022-01-26T07:07:04.594Z"
   },
   {
    "duration": 36,
    "start_time": "2022-01-26T07:07:35.796Z"
   },
   {
    "duration": 38,
    "start_time": "2022-01-26T07:08:04.483Z"
   },
   {
    "duration": 22,
    "start_time": "2022-01-26T07:08:22.890Z"
   },
   {
    "duration": 21,
    "start_time": "2022-01-26T07:08:54.492Z"
   },
   {
    "duration": 22,
    "start_time": "2022-01-26T07:09:11.044Z"
   },
   {
    "duration": 23,
    "start_time": "2022-01-26T07:09:26.108Z"
   },
   {
    "duration": 93,
    "start_time": "2022-01-26T07:09:27.827Z"
   },
   {
    "duration": 15,
    "start_time": "2022-01-26T07:09:30.618Z"
   },
   {
    "duration": 24,
    "start_time": "2022-01-26T07:12:58.563Z"
   },
   {
    "duration": 247,
    "start_time": "2022-01-26T07:13:49.316Z"
   },
   {
    "duration": 23,
    "start_time": "2022-01-26T07:14:06.451Z"
   },
   {
    "duration": 25,
    "start_time": "2022-01-26T07:15:00.989Z"
   },
   {
    "duration": 17,
    "start_time": "2022-01-26T07:15:43.626Z"
   },
   {
    "duration": 17,
    "start_time": "2022-01-26T07:15:48.121Z"
   },
   {
    "duration": 23,
    "start_time": "2022-01-26T07:15:51.914Z"
   },
   {
    "duration": 23,
    "start_time": "2022-01-26T07:16:19.323Z"
   },
   {
    "duration": 22,
    "start_time": "2022-01-26T07:16:32.546Z"
   },
   {
    "duration": 22,
    "start_time": "2022-01-26T07:16:42.132Z"
   },
   {
    "duration": 13,
    "start_time": "2022-01-26T07:17:24.964Z"
   },
   {
    "duration": 97,
    "start_time": "2022-01-26T07:23:04.531Z"
   },
   {
    "duration": 15,
    "start_time": "2022-01-26T07:23:05.706Z"
   },
   {
    "duration": 8,
    "start_time": "2022-01-26T07:23:41.333Z"
   },
   {
    "duration": 10,
    "start_time": "2022-01-26T07:23:48.259Z"
   },
   {
    "duration": 5721,
    "start_time": "2022-01-26T07:24:15.074Z"
   },
   {
    "duration": 4,
    "start_time": "2022-01-26T07:24:21.658Z"
   },
   {
    "duration": 14,
    "start_time": "2022-01-26T07:24:34.971Z"
   },
   {
    "duration": 4,
    "start_time": "2022-01-26T07:26:17.428Z"
   },
   {
    "duration": 8,
    "start_time": "2022-01-26T07:26:27.706Z"
   },
   {
    "duration": 70,
    "start_time": "2022-01-26T07:34:49.412Z"
   },
   {
    "duration": 14,
    "start_time": "2022-01-26T07:34:50.714Z"
   },
   {
    "duration": 85,
    "start_time": "2022-01-26T07:36:38.756Z"
   },
   {
    "duration": 14,
    "start_time": "2022-01-26T07:36:39.986Z"
   },
   {
    "duration": 290,
    "start_time": "2022-01-26T07:38:50.739Z"
   },
   {
    "duration": 13,
    "start_time": "2022-01-26T07:38:57.042Z"
   },
   {
    "duration": 284,
    "start_time": "2022-01-26T07:40:19.428Z"
   },
   {
    "duration": 13,
    "start_time": "2022-01-26T07:40:21.250Z"
   },
   {
    "duration": 6,
    "start_time": "2022-01-26T07:42:15.817Z"
   },
   {
    "duration": 13,
    "start_time": "2022-01-26T07:42:16.056Z"
   },
   {
    "duration": 13,
    "start_time": "2022-01-26T07:42:16.169Z"
   },
   {
    "duration": 8,
    "start_time": "2022-01-26T07:42:16.569Z"
   },
   {
    "duration": 8,
    "start_time": "2022-01-26T07:42:16.921Z"
   },
   {
    "duration": 368,
    "start_time": "2022-01-26T07:42:17.081Z"
   },
   {
    "duration": 10,
    "start_time": "2022-01-26T07:42:17.681Z"
   },
   {
    "duration": 11,
    "start_time": "2022-01-26T07:42:18.113Z"
   },
   {
    "duration": 362,
    "start_time": "2022-01-26T07:42:18.457Z"
   },
   {
    "duration": 9,
    "start_time": "2022-01-26T07:42:19.144Z"
   },
   {
    "duration": 8,
    "start_time": "2022-01-26T07:42:19.657Z"
   },
   {
    "duration": 344,
    "start_time": "2022-01-26T07:42:19.817Z"
   },
   {
    "duration": 10,
    "start_time": "2022-01-26T07:42:21.001Z"
   },
   {
    "duration": 9,
    "start_time": "2022-01-26T07:42:21.273Z"
   },
   {
    "duration": 224,
    "start_time": "2022-01-26T07:53:34.520Z"
   },
   {
    "duration": 452,
    "start_time": "2022-01-26T07:53:43.848Z"
   },
   {
    "duration": 498,
    "start_time": "2022-01-26T07:53:58.409Z"
   },
   {
    "duration": 461,
    "start_time": "2022-01-26T07:54:14.800Z"
   },
   {
    "duration": 78,
    "start_time": "2022-01-26T07:54:30.288Z"
   },
   {
    "duration": 427,
    "start_time": "2022-01-26T07:54:33.208Z"
   },
   {
    "duration": 102,
    "start_time": "2022-01-26T07:55:16.434Z"
   },
   {
    "duration": 240,
    "start_time": "2022-01-26T07:55:22.153Z"
   },
   {
    "duration": 275,
    "start_time": "2022-01-26T07:56:41.640Z"
   },
   {
    "duration": 268,
    "start_time": "2022-01-26T07:57:11.657Z"
   },
   {
    "duration": 308,
    "start_time": "2022-01-26T07:57:18.191Z"
   },
   {
    "duration": 315,
    "start_time": "2022-01-26T07:57:25.480Z"
   },
   {
    "duration": 288,
    "start_time": "2022-01-26T07:57:36.769Z"
   },
   {
    "duration": 305,
    "start_time": "2022-01-26T07:57:40.472Z"
   },
   {
    "duration": 353,
    "start_time": "2022-01-26T07:57:47.153Z"
   },
   {
    "duration": 302,
    "start_time": "2022-01-26T07:57:50.697Z"
   },
   {
    "duration": 263,
    "start_time": "2022-01-26T07:58:00.656Z"
   },
   {
    "duration": 420,
    "start_time": "2022-01-26T08:02:40.871Z"
   },
   {
    "duration": 5,
    "start_time": "2022-01-26T08:03:08.448Z"
   },
   {
    "duration": 16,
    "start_time": "2022-01-26T08:03:09.043Z"
   },
   {
    "duration": 5,
    "start_time": "2022-01-26T08:03:09.327Z"
   },
   {
    "duration": 6,
    "start_time": "2022-01-26T08:03:09.614Z"
   },
   {
    "duration": 8,
    "start_time": "2022-01-26T08:03:09.976Z"
   },
   {
    "duration": 288,
    "start_time": "2022-01-26T08:10:36.586Z"
   },
   {
    "duration": 17,
    "start_time": "2022-01-26T08:10:40.016Z"
   },
   {
    "duration": 1052,
    "start_time": "2022-01-26T08:10:53.975Z"
   },
   {
    "duration": 37,
    "start_time": "2022-01-26T08:10:55.029Z"
   },
   {
    "duration": 140,
    "start_time": "2022-01-26T08:10:55.069Z"
   },
   {
    "duration": 86,
    "start_time": "2022-01-26T08:10:55.211Z"
   },
   {
    "duration": 137,
    "start_time": "2022-01-26T08:10:55.299Z"
   },
   {
    "duration": 19,
    "start_time": "2022-01-26T08:10:55.438Z"
   },
   {
    "duration": 7,
    "start_time": "2022-01-26T08:10:55.460Z"
   },
   {
    "duration": 21,
    "start_time": "2022-01-26T08:10:55.469Z"
   },
   {
    "duration": 33,
    "start_time": "2022-01-26T08:10:55.491Z"
   },
   {
    "duration": 16,
    "start_time": "2022-01-26T08:10:55.526Z"
   },
   {
    "duration": 7,
    "start_time": "2022-01-26T08:10:55.543Z"
   },
   {
    "duration": 10,
    "start_time": "2022-01-26T08:10:55.552Z"
   },
   {
    "duration": 7,
    "start_time": "2022-01-26T08:10:55.563Z"
   },
   {
    "duration": 43,
    "start_time": "2022-01-26T08:10:55.572Z"
   },
   {
    "duration": 12,
    "start_time": "2022-01-26T08:10:55.617Z"
   },
   {
    "duration": 8,
    "start_time": "2022-01-26T08:10:55.631Z"
   },
   {
    "duration": 11,
    "start_time": "2022-01-26T08:10:55.641Z"
   },
   {
    "duration": 59,
    "start_time": "2022-01-26T08:10:55.654Z"
   },
   {
    "duration": 42,
    "start_time": "2022-01-26T08:10:55.714Z"
   },
   {
    "duration": 102,
    "start_time": "2022-01-26T08:10:55.757Z"
   },
   {
    "duration": 16,
    "start_time": "2022-01-26T08:10:55.860Z"
   },
   {
    "duration": 9,
    "start_time": "2022-01-26T08:10:55.880Z"
   },
   {
    "duration": 22,
    "start_time": "2022-01-26T08:10:55.892Z"
   },
   {
    "duration": 16,
    "start_time": "2022-01-26T08:10:55.916Z"
   },
   {
    "duration": 17,
    "start_time": "2022-01-26T08:10:55.934Z"
   },
   {
    "duration": 66,
    "start_time": "2022-01-26T08:10:55.953Z"
   },
   {
    "duration": 10,
    "start_time": "2022-01-26T08:10:56.020Z"
   },
   {
    "duration": 7,
    "start_time": "2022-01-26T08:10:56.032Z"
   },
   {
    "duration": 15,
    "start_time": "2022-01-26T08:10:56.041Z"
   },
   {
    "duration": 20,
    "start_time": "2022-01-26T08:10:56.058Z"
   },
   {
    "duration": 33,
    "start_time": "2022-01-26T08:10:56.112Z"
   },
   {
    "duration": 12,
    "start_time": "2022-01-26T08:10:56.146Z"
   },
   {
    "duration": 8,
    "start_time": "2022-01-26T08:10:56.159Z"
   },
   {
    "duration": 9,
    "start_time": "2022-01-26T08:10:56.169Z"
   },
   {
    "duration": 38,
    "start_time": "2022-01-26T08:10:56.180Z"
   },
   {
    "duration": 10,
    "start_time": "2022-01-26T08:10:56.219Z"
   },
   {
    "duration": 40,
    "start_time": "2022-01-26T08:10:56.230Z"
   },
   {
    "duration": 47,
    "start_time": "2022-01-26T08:10:56.271Z"
   },
   {
    "duration": 16,
    "start_time": "2022-01-26T08:10:56.319Z"
   },
   {
    "duration": 77,
    "start_time": "2022-01-26T08:10:56.336Z"
   },
   {
    "duration": 19,
    "start_time": "2022-01-26T08:10:56.415Z"
   },
   {
    "duration": 20,
    "start_time": "2022-01-26T08:10:56.436Z"
   },
   {
    "duration": 8,
    "start_time": "2022-01-26T08:10:56.458Z"
   },
   {
    "duration": 57,
    "start_time": "2022-01-26T08:10:56.467Z"
   },
   {
    "duration": 21,
    "start_time": "2022-01-26T08:10:56.525Z"
   },
   {
    "duration": 4,
    "start_time": "2022-01-26T08:10:56.547Z"
   },
   {
    "duration": 14,
    "start_time": "2022-01-26T08:10:56.553Z"
   },
   {
    "duration": 53,
    "start_time": "2022-01-26T08:10:56.568Z"
   },
   {
    "duration": 21,
    "start_time": "2022-01-26T08:10:56.623Z"
   },
   {
    "duration": 8,
    "start_time": "2022-01-26T08:10:56.646Z"
   },
   {
    "duration": 324,
    "start_time": "2022-01-26T08:10:56.656Z"
   },
   {
    "duration": 14,
    "start_time": "2022-01-26T08:10:56.982Z"
   },
   {
    "duration": 18,
    "start_time": "2022-01-26T08:10:56.998Z"
   },
   {
    "duration": 14,
    "start_time": "2022-01-26T08:10:57.018Z"
   },
   {
    "duration": 13,
    "start_time": "2022-01-26T08:10:57.034Z"
   },
   {
    "duration": 13,
    "start_time": "2022-01-26T08:10:57.049Z"
   },
   {
    "duration": 7,
    "start_time": "2022-01-26T08:10:57.064Z"
   },
   {
    "duration": 425,
    "start_time": "2022-01-26T08:10:57.073Z"
   },
   {
    "duration": 18,
    "start_time": "2022-01-26T08:10:57.500Z"
   },
   {
    "duration": 7,
    "start_time": "2022-01-26T08:10:57.520Z"
   },
   {
    "duration": 392,
    "start_time": "2022-01-26T08:10:57.529Z"
   },
   {
    "duration": 7,
    "start_time": "2022-01-26T08:10:57.923Z"
   },
   {
    "duration": 14,
    "start_time": "2022-01-26T08:10:57.932Z"
   },
   {
    "duration": 388,
    "start_time": "2022-01-26T08:10:57.947Z"
   },
   {
    "duration": 8,
    "start_time": "2022-01-26T08:10:58.337Z"
   },
   {
    "duration": 7,
    "start_time": "2022-01-26T08:10:58.347Z"
   },
   {
    "duration": 5,
    "start_time": "2022-01-26T08:10:58.358Z"
   },
   {
    "duration": 50,
    "start_time": "2022-01-26T08:10:58.364Z"
   },
   {
    "duration": 4,
    "start_time": "2022-01-26T08:10:58.416Z"
   },
   {
    "duration": 8,
    "start_time": "2022-01-26T08:10:58.421Z"
   },
   {
    "duration": 8,
    "start_time": "2022-01-26T08:10:58.431Z"
   },
   {
    "duration": 347,
    "start_time": "2022-01-26T08:12:31.319Z"
   },
   {
    "duration": 16,
    "start_time": "2022-01-26T08:12:32.103Z"
   },
   {
    "duration": 297,
    "start_time": "2022-01-26T08:14:42.903Z"
   },
   {
    "duration": 15,
    "start_time": "2022-01-26T08:14:44.151Z"
   },
   {
    "duration": 1082,
    "start_time": "2022-01-26T08:15:07.277Z"
   },
   {
    "duration": 33,
    "start_time": "2022-01-26T08:15:08.361Z"
   },
   {
    "duration": 157,
    "start_time": "2022-01-26T08:15:08.400Z"
   },
   {
    "duration": 86,
    "start_time": "2022-01-26T08:15:08.559Z"
   },
   {
    "duration": 142,
    "start_time": "2022-01-26T08:15:08.647Z"
   },
   {
    "duration": 20,
    "start_time": "2022-01-26T08:15:08.790Z"
   },
   {
    "duration": 11,
    "start_time": "2022-01-26T08:15:08.813Z"
   },
   {
    "duration": 26,
    "start_time": "2022-01-26T08:15:08.826Z"
   },
   {
    "duration": 14,
    "start_time": "2022-01-26T08:15:08.853Z"
   },
   {
    "duration": 17,
    "start_time": "2022-01-26T08:15:08.869Z"
   },
   {
    "duration": 6,
    "start_time": "2022-01-26T08:15:08.912Z"
   },
   {
    "duration": 11,
    "start_time": "2022-01-26T08:15:08.920Z"
   },
   {
    "duration": 6,
    "start_time": "2022-01-26T08:15:08.932Z"
   },
   {
    "duration": 6,
    "start_time": "2022-01-26T08:15:08.940Z"
   },
   {
    "duration": 8,
    "start_time": "2022-01-26T08:15:08.947Z"
   },
   {
    "duration": 6,
    "start_time": "2022-01-26T08:15:08.957Z"
   },
   {
    "duration": 8,
    "start_time": "2022-01-26T08:15:09.013Z"
   },
   {
    "duration": 31,
    "start_time": "2022-01-26T08:15:09.023Z"
   },
   {
    "duration": 39,
    "start_time": "2022-01-26T08:15:09.056Z"
   },
   {
    "duration": 93,
    "start_time": "2022-01-26T08:15:09.096Z"
   },
   {
    "duration": 28,
    "start_time": "2022-01-26T08:15:09.191Z"
   },
   {
    "duration": 11,
    "start_time": "2022-01-26T08:15:09.223Z"
   },
   {
    "duration": 6,
    "start_time": "2022-01-26T08:15:09.237Z"
   },
   {
    "duration": 14,
    "start_time": "2022-01-26T08:15:09.245Z"
   },
   {
    "duration": 60,
    "start_time": "2022-01-26T08:15:09.261Z"
   },
   {
    "duration": 35,
    "start_time": "2022-01-26T08:15:09.322Z"
   },
   {
    "duration": 10,
    "start_time": "2022-01-26T08:15:09.359Z"
   },
   {
    "duration": 11,
    "start_time": "2022-01-26T08:15:09.371Z"
   },
   {
    "duration": 41,
    "start_time": "2022-01-26T08:15:09.384Z"
   },
   {
    "duration": 20,
    "start_time": "2022-01-26T08:15:09.427Z"
   },
   {
    "duration": 34,
    "start_time": "2022-01-26T08:15:09.449Z"
   },
   {
    "duration": 12,
    "start_time": "2022-01-26T08:15:09.512Z"
   },
   {
    "duration": 7,
    "start_time": "2022-01-26T08:15:09.525Z"
   },
   {
    "duration": 8,
    "start_time": "2022-01-26T08:15:09.534Z"
   },
   {
    "duration": 7,
    "start_time": "2022-01-26T08:15:09.544Z"
   },
   {
    "duration": 9,
    "start_time": "2022-01-26T08:15:09.552Z"
   },
   {
    "duration": 81,
    "start_time": "2022-01-26T08:15:09.562Z"
   },
   {
    "duration": 23,
    "start_time": "2022-01-26T08:15:09.645Z"
   },
   {
    "duration": 16,
    "start_time": "2022-01-26T08:15:09.669Z"
   },
   {
    "duration": 77,
    "start_time": "2022-01-26T08:15:09.686Z"
   },
   {
    "duration": 27,
    "start_time": "2022-01-26T08:15:09.764Z"
   },
   {
    "duration": 39,
    "start_time": "2022-01-26T08:15:09.793Z"
   },
   {
    "duration": 7,
    "start_time": "2022-01-26T08:15:09.834Z"
   },
   {
    "duration": 25,
    "start_time": "2022-01-26T08:15:09.843Z"
   },
   {
    "duration": 49,
    "start_time": "2022-01-26T08:15:09.869Z"
   },
   {
    "duration": 4,
    "start_time": "2022-01-26T08:15:09.920Z"
   },
   {
    "duration": 10,
    "start_time": "2022-01-26T08:15:09.926Z"
   },
   {
    "duration": 24,
    "start_time": "2022-01-26T08:15:09.938Z"
   },
   {
    "duration": 58,
    "start_time": "2022-01-26T08:15:09.964Z"
   },
   {
    "duration": 8,
    "start_time": "2022-01-26T08:15:10.024Z"
   },
   {
    "duration": 306,
    "start_time": "2022-01-26T08:15:10.034Z"
   },
   {
    "duration": 14,
    "start_time": "2022-01-26T08:15:10.342Z"
   },
   {
    "duration": 6,
    "start_time": "2022-01-26T08:15:10.357Z"
   },
   {
    "duration": 17,
    "start_time": "2022-01-26T08:15:10.364Z"
   },
   {
    "duration": 40,
    "start_time": "2022-01-26T08:15:10.382Z"
   },
   {
    "duration": 7,
    "start_time": "2022-01-26T08:15:10.424Z"
   },
   {
    "duration": 13,
    "start_time": "2022-01-26T08:15:10.432Z"
   },
   {
    "duration": 401,
    "start_time": "2022-01-26T08:15:10.446Z"
   },
   {
    "duration": 8,
    "start_time": "2022-01-26T08:15:10.848Z"
   },
   {
    "duration": 7,
    "start_time": "2022-01-26T08:15:10.858Z"
   },
   {
    "duration": 397,
    "start_time": "2022-01-26T08:15:10.867Z"
   },
   {
    "duration": 7,
    "start_time": "2022-01-26T08:15:11.266Z"
   },
   {
    "duration": 7,
    "start_time": "2022-01-26T08:15:11.275Z"
   },
   {
    "duration": 383,
    "start_time": "2022-01-26T08:15:11.284Z"
   },
   {
    "duration": 7,
    "start_time": "2022-01-26T08:15:11.669Z"
   },
   {
    "duration": 7,
    "start_time": "2022-01-26T08:15:11.677Z"
   },
   {
    "duration": 26,
    "start_time": "2022-01-26T08:15:11.688Z"
   },
   {
    "duration": 17,
    "start_time": "2022-01-26T08:15:11.716Z"
   },
   {
    "duration": 4,
    "start_time": "2022-01-26T08:15:11.734Z"
   },
   {
    "duration": 7,
    "start_time": "2022-01-26T08:15:11.740Z"
   },
   {
    "duration": 8,
    "start_time": "2022-01-26T08:15:11.748Z"
   }
  ],
  "kernelspec": {
   "display_name": "Python 3 (ipykernel)",
   "language": "python",
   "name": "python3"
  },
  "language_info": {
   "codemirror_mode": {
    "name": "ipython",
    "version": 3
   },
   "file_extension": ".py",
   "mimetype": "text/x-python",
   "name": "python",
   "nbconvert_exporter": "python",
   "pygments_lexer": "ipython3",
   "version": "3.9.7"
  },
  "toc": {
   "base_numbering": 1,
   "nav_menu": {},
   "number_sections": true,
   "sideBar": true,
   "skip_h1_title": true,
   "title_cell": "Содержание",
   "title_sidebar": "Contents",
   "toc_cell": true,
   "toc_position": {},
   "toc_section_display": true,
   "toc_window_display": false
  }
 },
 "nbformat": 4,
 "nbformat_minor": 2
}
