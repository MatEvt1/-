{
 "cells": [
  {
   "cell_type": "markdown",
   "id": "fa07ab5b",
   "metadata": {
    "toc": true
   },
   "source": [
    "<h1>Содержание<span class=\"tocSkip\"></span></h1>\n",
    "<div class=\"toc\"><ul class=\"toc-item\"><li><span><a href=\"#Описание-проекта\" data-toc-modified-id=\"Описание-проекта-1\"><span class=\"toc-item-num\">1&nbsp;&nbsp;</span>Описание проекта</a></span></li><li><span><a href=\"#Изучение-общей-информации-о-данных\" data-toc-modified-id=\"Изучение-общей-информации-о-данных-2\"><span class=\"toc-item-num\">2&nbsp;&nbsp;</span>Изучение общей информации о данных</a></span><ul class=\"toc-item\"><li><span><a href=\"#Вывод\" data-toc-modified-id=\"Вывод-2.1\"><span class=\"toc-item-num\">2.1&nbsp;&nbsp;</span>Вывод</a></span></li></ul></li><li><span><a href=\"#Предобработка-данных\" data-toc-modified-id=\"Предобработка-данных-3\"><span class=\"toc-item-num\">3&nbsp;&nbsp;</span>Предобработка данных</a></span><ul class=\"toc-item\"><li><span><a href=\"#Вывод\" data-toc-modified-id=\"Вывод-3.1\"><span class=\"toc-item-num\">3.1&nbsp;&nbsp;</span>Вывод</a></span></li></ul></li><li><span><a href=\"#Исследовательский-анализ-данных\" data-toc-modified-id=\"Исследовательский-анализ-данных-4\"><span class=\"toc-item-num\">4&nbsp;&nbsp;</span>Исследовательский анализ данных</a></span><ul class=\"toc-item\"><li><span><a href=\"#Вывод\" data-toc-modified-id=\"Вывод-4.1\"><span class=\"toc-item-num\">4.1&nbsp;&nbsp;</span>Вывод</a></span></li></ul></li><li><span><a href=\"#Портрет-пользователя-каждого-региона\" data-toc-modified-id=\"Портрет-пользователя-каждого-региона-5\"><span class=\"toc-item-num\">5&nbsp;&nbsp;</span>Портрет пользователя каждого региона</a></span><ul class=\"toc-item\"><li><span><a href=\"#Вывод\" data-toc-modified-id=\"Вывод-5.1\"><span class=\"toc-item-num\">5.1&nbsp;&nbsp;</span>Вывод</a></span></li></ul></li><li><span><a href=\"#Проверка-гипотез\" data-toc-modified-id=\"Проверка-гипотез-6\"><span class=\"toc-item-num\">6&nbsp;&nbsp;</span>Проверка гипотез</a></span><ul class=\"toc-item\"><li><span><a href=\"#Вывод\" data-toc-modified-id=\"Вывод-6.1\"><span class=\"toc-item-num\">6.1&nbsp;&nbsp;</span>Вывод</a></span></li></ul></li><li><span><a href=\"#Вывод\" data-toc-modified-id=\"Вывод-7\"><span class=\"toc-item-num\">7&nbsp;&nbsp;</span>Вывод</a></span></li></ul></div>"
   ]
  },
  {
   "cell_type": "markdown",
   "id": "96574d0d",
   "metadata": {},
   "source": [
    "# Описание проекта"
   ]
  },
  {
   "cell_type": "markdown",
   "id": "c6d850eb",
   "metadata": {},
   "source": [
    "Нам представлены данные о продажах игр, оценки пользователей и экспертов, жанры и платформы\n",
    "(например, Xbox или PlayStation). Необходимо выявить определяющие успешность\n",
    "игры закономерности. Это позволит сделать ставку на потенциально популярный\n",
    "продукт и спланировать рекламные кампании\n",
    "\n",
    "Данные представлены до 2016 года.\n",
    "\n",
    "В наборе данных попадается аббревиатура ESRB (Entertainment Software Rating\n",
    "Board) — это ассоциация, определяющая возрастной рейтинг компьютерных\n",
    "игр.\n",
    "- «EC» («Early childhood») — «Для детей младшего возраста»\n",
    "- «E» («Everyone») — «Для всех»\n",
    "- «E10+» («Everyone 10 and older») — «Для всех от 10 лет и старше»\n",
    "- «T» («Teen») — «Подросткам»\n",
    "- «M» («Mature») — «Для взрослых»\n",
    "- «AO» («Adults Only 18+») — «Только для взрослых»\n",
    "- «RP» («Rating Pending») — «Рейтинг ожидается»\n",
    "-  «K-A» («Kids to Adults»)— «Для детей и взрослых»\n",
    "\n"
   ]
  },
  {
   "cell_type": "markdown",
   "id": "97a0c5ba",
   "metadata": {},
   "source": [
    "# Изучение общей информации о данных"
   ]
  },
  {
   "cell_type": "markdown",
   "id": "29b30c79",
   "metadata": {},
   "source": [
    "Импортируем основные библиотеки для проведения анализа"
   ]
  },
  {
   "cell_type": "code",
   "execution_count": 1,
   "id": "501fa5ff",
   "metadata": {},
   "outputs": [],
   "source": [
    "import pandas as pd # Импортируем основные библиотеки\n",
    "import numpy as np\n",
    "import matplotlib.pyplot as plt\n",
    "import seaborn as sns\n",
    "from scipy import stats as st\n",
    "import warnings\n",
    "warnings.simplefilter('ignore')"
   ]
  },
  {
   "cell_type": "markdown",
   "id": "c798a7e4",
   "metadata": {},
   "source": [
    "В переменную `data` запишем наш датасет и выведим его на экран"
   ]
  },
  {
   "cell_type": "code",
   "execution_count": 2,
   "id": "d10ac159",
   "metadata": {},
   "outputs": [
    {
     "data": {
      "text/html": [
       "<div>\n",
       "<style scoped>\n",
       "    .dataframe tbody tr th:only-of-type {\n",
       "        vertical-align: middle;\n",
       "    }\n",
       "\n",
       "    .dataframe tbody tr th {\n",
       "        vertical-align: top;\n",
       "    }\n",
       "\n",
       "    .dataframe thead th {\n",
       "        text-align: right;\n",
       "    }\n",
       "</style>\n",
       "<table border=\"1\" class=\"dataframe\">\n",
       "  <thead>\n",
       "    <tr style=\"text-align: right;\">\n",
       "      <th></th>\n",
       "      <th>Name</th>\n",
       "      <th>Platform</th>\n",
       "      <th>Year_of_Release</th>\n",
       "      <th>Genre</th>\n",
       "      <th>NA_sales</th>\n",
       "      <th>EU_sales</th>\n",
       "      <th>JP_sales</th>\n",
       "      <th>Other_sales</th>\n",
       "      <th>Critic_Score</th>\n",
       "      <th>User_Score</th>\n",
       "      <th>Rating</th>\n",
       "    </tr>\n",
       "  </thead>\n",
       "  <tbody>\n",
       "    <tr>\n",
       "      <th>0</th>\n",
       "      <td>Wii Sports</td>\n",
       "      <td>Wii</td>\n",
       "      <td>2006.0</td>\n",
       "      <td>Sports</td>\n",
       "      <td>41.36</td>\n",
       "      <td>28.96</td>\n",
       "      <td>3.77</td>\n",
       "      <td>8.45</td>\n",
       "      <td>76.0</td>\n",
       "      <td>8</td>\n",
       "      <td>E</td>\n",
       "    </tr>\n",
       "    <tr>\n",
       "      <th>1</th>\n",
       "      <td>Super Mario Bros.</td>\n",
       "      <td>NES</td>\n",
       "      <td>1985.0</td>\n",
       "      <td>Platform</td>\n",
       "      <td>29.08</td>\n",
       "      <td>3.58</td>\n",
       "      <td>6.81</td>\n",
       "      <td>0.77</td>\n",
       "      <td>NaN</td>\n",
       "      <td>NaN</td>\n",
       "      <td>NaN</td>\n",
       "    </tr>\n",
       "    <tr>\n",
       "      <th>2</th>\n",
       "      <td>Mario Kart Wii</td>\n",
       "      <td>Wii</td>\n",
       "      <td>2008.0</td>\n",
       "      <td>Racing</td>\n",
       "      <td>15.68</td>\n",
       "      <td>12.76</td>\n",
       "      <td>3.79</td>\n",
       "      <td>3.29</td>\n",
       "      <td>82.0</td>\n",
       "      <td>8.3</td>\n",
       "      <td>E</td>\n",
       "    </tr>\n",
       "    <tr>\n",
       "      <th>3</th>\n",
       "      <td>Wii Sports Resort</td>\n",
       "      <td>Wii</td>\n",
       "      <td>2009.0</td>\n",
       "      <td>Sports</td>\n",
       "      <td>15.61</td>\n",
       "      <td>10.93</td>\n",
       "      <td>3.28</td>\n",
       "      <td>2.95</td>\n",
       "      <td>80.0</td>\n",
       "      <td>8</td>\n",
       "      <td>E</td>\n",
       "    </tr>\n",
       "    <tr>\n",
       "      <th>4</th>\n",
       "      <td>Pokemon Red/Pokemon Blue</td>\n",
       "      <td>GB</td>\n",
       "      <td>1996.0</td>\n",
       "      <td>Role-Playing</td>\n",
       "      <td>11.27</td>\n",
       "      <td>8.89</td>\n",
       "      <td>10.22</td>\n",
       "      <td>1.00</td>\n",
       "      <td>NaN</td>\n",
       "      <td>NaN</td>\n",
       "      <td>NaN</td>\n",
       "    </tr>\n",
       "  </tbody>\n",
       "</table>\n",
       "</div>"
      ],
      "text/plain": [
       "                       Name Platform  Year_of_Release         Genre  NA_sales  \\\n",
       "0                Wii Sports      Wii           2006.0        Sports     41.36   \n",
       "1         Super Mario Bros.      NES           1985.0      Platform     29.08   \n",
       "2            Mario Kart Wii      Wii           2008.0        Racing     15.68   \n",
       "3         Wii Sports Resort      Wii           2009.0        Sports     15.61   \n",
       "4  Pokemon Red/Pokemon Blue       GB           1996.0  Role-Playing     11.27   \n",
       "\n",
       "   EU_sales  JP_sales  Other_sales  Critic_Score User_Score Rating  \n",
       "0     28.96      3.77         8.45          76.0          8      E  \n",
       "1      3.58      6.81         0.77           NaN        NaN    NaN  \n",
       "2     12.76      3.79         3.29          82.0        8.3      E  \n",
       "3     10.93      3.28         2.95          80.0          8      E  \n",
       "4      8.89     10.22         1.00           NaN        NaN    NaN  "
      ]
     },
     "execution_count": 2,
     "metadata": {},
     "output_type": "execute_result"
    }
   ],
   "source": [
    "try:\n",
    "    data = pd.read_csv(r'C:\\Users\\MATVEY\\Desktop\\Сборный проект ЯП\\games.csv') # Считываем файл и записываем его в перемеенную\n",
    "except:\n",
    "    data = pd.read_csv('games.csv')\n",
    "data.head()"
   ]
  },
  {
   "cell_type": "markdown",
   "id": "431a3f39",
   "metadata": {},
   "source": [
    "Выведим общую информацию о датасете методов `info()`"
   ]
  },
  {
   "cell_type": "code",
   "execution_count": 3,
   "id": "51b97717",
   "metadata": {},
   "outputs": [
    {
     "name": "stdout",
     "output_type": "stream",
     "text": [
      "<class 'pandas.core.frame.DataFrame'>\n",
      "RangeIndex: 16715 entries, 0 to 16714\n",
      "Data columns (total 11 columns):\n",
      " #   Column           Non-Null Count  Dtype  \n",
      "---  ------           --------------  -----  \n",
      " 0   Name             16713 non-null  object \n",
      " 1   Platform         16715 non-null  object \n",
      " 2   Year_of_Release  16446 non-null  float64\n",
      " 3   Genre            16713 non-null  object \n",
      " 4   NA_sales         16715 non-null  float64\n",
      " 5   EU_sales         16715 non-null  float64\n",
      " 6   JP_sales         16715 non-null  float64\n",
      " 7   Other_sales      16715 non-null  float64\n",
      " 8   Critic_Score     8137 non-null   float64\n",
      " 9   User_Score       10014 non-null  object \n",
      " 10  Rating           9949 non-null   object \n",
      "dtypes: float64(6), object(5)\n",
      "memory usage: 1.4+ MB\n"
     ]
    }
   ],
   "source": [
    "data.info() # Общая информация о датасете"
   ]
  },
  {
   "cell_type": "markdown",
   "id": "c0afb9a2",
   "metadata": {},
   "source": [
    "Выведим основные характеристики столбцов, которые содержат в себе количественные переменные"
   ]
  },
  {
   "cell_type": "code",
   "execution_count": 5,
   "id": "f2513489",
   "metadata": {},
   "outputs": [
    {
     "data": {
      "text/html": [
       "<div>\n",
       "<style scoped>\n",
       "    .dataframe tbody tr th:only-of-type {\n",
       "        vertical-align: middle;\n",
       "    }\n",
       "\n",
       "    .dataframe tbody tr th {\n",
       "        vertical-align: top;\n",
       "    }\n",
       "\n",
       "    .dataframe thead th {\n",
       "        text-align: right;\n",
       "    }\n",
       "</style>\n",
       "<table border=\"1\" class=\"dataframe\">\n",
       "  <thead>\n",
       "    <tr style=\"text-align: right;\">\n",
       "      <th></th>\n",
       "      <th>Year_of_Release</th>\n",
       "      <th>NA_sales</th>\n",
       "      <th>EU_sales</th>\n",
       "      <th>JP_sales</th>\n",
       "      <th>Other_sales</th>\n",
       "      <th>Critic_Score</th>\n",
       "    </tr>\n",
       "  </thead>\n",
       "  <tbody>\n",
       "    <tr>\n",
       "      <th>count</th>\n",
       "      <td>16446.000000</td>\n",
       "      <td>16715.000000</td>\n",
       "      <td>16715.000000</td>\n",
       "      <td>16715.000000</td>\n",
       "      <td>16715.000000</td>\n",
       "      <td>8137.000000</td>\n",
       "    </tr>\n",
       "    <tr>\n",
       "      <th>mean</th>\n",
       "      <td>2006.484616</td>\n",
       "      <td>0.263377</td>\n",
       "      <td>0.145060</td>\n",
       "      <td>0.077617</td>\n",
       "      <td>0.047342</td>\n",
       "      <td>68.967679</td>\n",
       "    </tr>\n",
       "    <tr>\n",
       "      <th>std</th>\n",
       "      <td>5.877050</td>\n",
       "      <td>0.813604</td>\n",
       "      <td>0.503339</td>\n",
       "      <td>0.308853</td>\n",
       "      <td>0.186731</td>\n",
       "      <td>13.938165</td>\n",
       "    </tr>\n",
       "    <tr>\n",
       "      <th>min</th>\n",
       "      <td>1980.000000</td>\n",
       "      <td>0.000000</td>\n",
       "      <td>0.000000</td>\n",
       "      <td>0.000000</td>\n",
       "      <td>0.000000</td>\n",
       "      <td>13.000000</td>\n",
       "    </tr>\n",
       "    <tr>\n",
       "      <th>25%</th>\n",
       "      <td>2003.000000</td>\n",
       "      <td>0.000000</td>\n",
       "      <td>0.000000</td>\n",
       "      <td>0.000000</td>\n",
       "      <td>0.000000</td>\n",
       "      <td>60.000000</td>\n",
       "    </tr>\n",
       "    <tr>\n",
       "      <th>50%</th>\n",
       "      <td>2007.000000</td>\n",
       "      <td>0.080000</td>\n",
       "      <td>0.020000</td>\n",
       "      <td>0.000000</td>\n",
       "      <td>0.010000</td>\n",
       "      <td>71.000000</td>\n",
       "    </tr>\n",
       "    <tr>\n",
       "      <th>75%</th>\n",
       "      <td>2010.000000</td>\n",
       "      <td>0.240000</td>\n",
       "      <td>0.110000</td>\n",
       "      <td>0.040000</td>\n",
       "      <td>0.030000</td>\n",
       "      <td>79.000000</td>\n",
       "    </tr>\n",
       "    <tr>\n",
       "      <th>max</th>\n",
       "      <td>2016.000000</td>\n",
       "      <td>41.360000</td>\n",
       "      <td>28.960000</td>\n",
       "      <td>10.220000</td>\n",
       "      <td>10.570000</td>\n",
       "      <td>98.000000</td>\n",
       "    </tr>\n",
       "  </tbody>\n",
       "</table>\n",
       "</div>"
      ],
      "text/plain": [
       "       Year_of_Release      NA_sales      EU_sales      JP_sales  \\\n",
       "count     16446.000000  16715.000000  16715.000000  16715.000000   \n",
       "mean       2006.484616      0.263377      0.145060      0.077617   \n",
       "std           5.877050      0.813604      0.503339      0.308853   \n",
       "min        1980.000000      0.000000      0.000000      0.000000   \n",
       "25%        2003.000000      0.000000      0.000000      0.000000   \n",
       "50%        2007.000000      0.080000      0.020000      0.000000   \n",
       "75%        2010.000000      0.240000      0.110000      0.040000   \n",
       "max        2016.000000     41.360000     28.960000     10.220000   \n",
       "\n",
       "        Other_sales  Critic_Score  \n",
       "count  16715.000000   8137.000000  \n",
       "mean       0.047342     68.967679  \n",
       "std        0.186731     13.938165  \n",
       "min        0.000000     13.000000  \n",
       "25%        0.000000     60.000000  \n",
       "50%        0.010000     71.000000  \n",
       "75%        0.030000     79.000000  \n",
       "max       10.570000     98.000000  "
      ]
     },
     "execution_count": 5,
     "metadata": {},
     "output_type": "execute_result"
    }
   ],
   "source": [
    "data.describe() # Основные характеристики датасета"
   ]
  },
  {
   "cell_type": "markdown",
   "id": "f3b4ff43",
   "metadata": {},
   "source": [
    "## Вывод"
   ]
  },
  {
   "cell_type": "markdown",
   "id": "6a8820dc",
   "metadata": {},
   "source": [
    "Мы убедились в том, что нам действитетельно предоставлены данные о продажах игр, оценки пользователей и экспертов, жанры и платформы. Количество строк в датасете - 16715, столбцов - 11.\n",
    "\n",
    "Согласно описательной документации датасет содержит следующие столбцы: \n",
    "\n",
    "- Name — название игры\n",
    "- Platform — платформа\n",
    "- Year_of_Release — год выпуска\n",
    "- Genre — жанр игры\n",
    "- NA_sales — продажи в Северной Америке (миллионы проданных копий)\n",
    "- EU_sales — продажи в Европе (миллионы проданных копий)\n",
    "- JP_sales — продажи в Японии (миллионы проданных копий)\n",
    "- Other_sales — продажи в других странах (миллионы проданных копий)\n",
    "- Critic_Score — оценка критиков (максимум 100)\n",
    "- User_Score — оценка пользователей (максимум 10)\n",
    "- Rating — рейтинг от организации ESRB (англ. Entertainment Software Rating\n",
    "  Board). Эта ассоциация определяет рейтинг компьютерных игр и присваивает\n",
    "  им подходящую возрастную категорию.\n",
    "  \n",
    "Данные за 2016 год могут быть неполными.\n",
    "\n",
    "Для более детального погружения в исследование необходимо провести предобработку данных"
   ]
  },
  {
   "cell_type": "markdown",
   "id": "dfc1278d",
   "metadata": {},
   "source": [
    "# Предобработка данных"
   ]
  },
  {
   "cell_type": "markdown",
   "id": "0c04609d",
   "metadata": {},
   "source": [
    "Выведим первые 5 строк датасета на экран"
   ]
  },
  {
   "cell_type": "code",
   "execution_count": 6,
   "id": "a29f4f6b",
   "metadata": {
    "scrolled": false
   },
   "outputs": [
    {
     "data": {
      "text/html": [
       "<div>\n",
       "<style scoped>\n",
       "    .dataframe tbody tr th:only-of-type {\n",
       "        vertical-align: middle;\n",
       "    }\n",
       "\n",
       "    .dataframe tbody tr th {\n",
       "        vertical-align: top;\n",
       "    }\n",
       "\n",
       "    .dataframe thead th {\n",
       "        text-align: right;\n",
       "    }\n",
       "</style>\n",
       "<table border=\"1\" class=\"dataframe\">\n",
       "  <thead>\n",
       "    <tr style=\"text-align: right;\">\n",
       "      <th></th>\n",
       "      <th>Name</th>\n",
       "      <th>Platform</th>\n",
       "      <th>Year_of_Release</th>\n",
       "      <th>Genre</th>\n",
       "      <th>NA_sales</th>\n",
       "      <th>EU_sales</th>\n",
       "      <th>JP_sales</th>\n",
       "      <th>Other_sales</th>\n",
       "      <th>Critic_Score</th>\n",
       "      <th>User_Score</th>\n",
       "      <th>Rating</th>\n",
       "    </tr>\n",
       "  </thead>\n",
       "  <tbody>\n",
       "    <tr>\n",
       "      <th>0</th>\n",
       "      <td>Wii Sports</td>\n",
       "      <td>Wii</td>\n",
       "      <td>2006.0</td>\n",
       "      <td>Sports</td>\n",
       "      <td>41.36</td>\n",
       "      <td>28.96</td>\n",
       "      <td>3.77</td>\n",
       "      <td>8.45</td>\n",
       "      <td>76.0</td>\n",
       "      <td>8</td>\n",
       "      <td>E</td>\n",
       "    </tr>\n",
       "    <tr>\n",
       "      <th>1</th>\n",
       "      <td>Super Mario Bros.</td>\n",
       "      <td>NES</td>\n",
       "      <td>1985.0</td>\n",
       "      <td>Platform</td>\n",
       "      <td>29.08</td>\n",
       "      <td>3.58</td>\n",
       "      <td>6.81</td>\n",
       "      <td>0.77</td>\n",
       "      <td>NaN</td>\n",
       "      <td>NaN</td>\n",
       "      <td>NaN</td>\n",
       "    </tr>\n",
       "    <tr>\n",
       "      <th>2</th>\n",
       "      <td>Mario Kart Wii</td>\n",
       "      <td>Wii</td>\n",
       "      <td>2008.0</td>\n",
       "      <td>Racing</td>\n",
       "      <td>15.68</td>\n",
       "      <td>12.76</td>\n",
       "      <td>3.79</td>\n",
       "      <td>3.29</td>\n",
       "      <td>82.0</td>\n",
       "      <td>8.3</td>\n",
       "      <td>E</td>\n",
       "    </tr>\n",
       "    <tr>\n",
       "      <th>3</th>\n",
       "      <td>Wii Sports Resort</td>\n",
       "      <td>Wii</td>\n",
       "      <td>2009.0</td>\n",
       "      <td>Sports</td>\n",
       "      <td>15.61</td>\n",
       "      <td>10.93</td>\n",
       "      <td>3.28</td>\n",
       "      <td>2.95</td>\n",
       "      <td>80.0</td>\n",
       "      <td>8</td>\n",
       "      <td>E</td>\n",
       "    </tr>\n",
       "    <tr>\n",
       "      <th>4</th>\n",
       "      <td>Pokemon Red/Pokemon Blue</td>\n",
       "      <td>GB</td>\n",
       "      <td>1996.0</td>\n",
       "      <td>Role-Playing</td>\n",
       "      <td>11.27</td>\n",
       "      <td>8.89</td>\n",
       "      <td>10.22</td>\n",
       "      <td>1.00</td>\n",
       "      <td>NaN</td>\n",
       "      <td>NaN</td>\n",
       "      <td>NaN</td>\n",
       "    </tr>\n",
       "  </tbody>\n",
       "</table>\n",
       "</div>"
      ],
      "text/plain": [
       "                       Name Platform  Year_of_Release         Genre  NA_sales  \\\n",
       "0                Wii Sports      Wii           2006.0        Sports     41.36   \n",
       "1         Super Mario Bros.      NES           1985.0      Platform     29.08   \n",
       "2            Mario Kart Wii      Wii           2008.0        Racing     15.68   \n",
       "3         Wii Sports Resort      Wii           2009.0        Sports     15.61   \n",
       "4  Pokemon Red/Pokemon Blue       GB           1996.0  Role-Playing     11.27   \n",
       "\n",
       "   EU_sales  JP_sales  Other_sales  Critic_Score User_Score Rating  \n",
       "0     28.96      3.77         8.45          76.0          8      E  \n",
       "1      3.58      6.81         0.77           NaN        NaN    NaN  \n",
       "2     12.76      3.79         3.29          82.0        8.3      E  \n",
       "3     10.93      3.28         2.95          80.0          8      E  \n",
       "4      8.89     10.22         1.00           NaN        NaN    NaN  "
      ]
     },
     "execution_count": 6,
     "metadata": {},
     "output_type": "execute_result"
    }
   ],
   "source": [
    "data.head() # Первые пять строк датасета"
   ]
  },
  {
   "cell_type": "markdown",
   "id": "9c5b5cec",
   "metadata": {},
   "source": [
    "Можем заметить, что в названиях столбцов присутствует верхний регистр.\n",
    "\n",
    "Поменяем название столбцов с учётом того, что все буквы в название должны быть строчными"
   ]
  },
  {
   "cell_type": "code",
   "execution_count": 8,
   "id": "ae93372d",
   "metadata": {
    "scrolled": true
   },
   "outputs": [
    {
     "data": {
      "text/html": [
       "<div>\n",
       "<style scoped>\n",
       "    .dataframe tbody tr th:only-of-type {\n",
       "        vertical-align: middle;\n",
       "    }\n",
       "\n",
       "    .dataframe tbody tr th {\n",
       "        vertical-align: top;\n",
       "    }\n",
       "\n",
       "    .dataframe thead th {\n",
       "        text-align: right;\n",
       "    }\n",
       "</style>\n",
       "<table border=\"1\" class=\"dataframe\">\n",
       "  <thead>\n",
       "    <tr style=\"text-align: right;\">\n",
       "      <th></th>\n",
       "      <th>name</th>\n",
       "      <th>platform</th>\n",
       "      <th>year_of_release</th>\n",
       "      <th>genre</th>\n",
       "      <th>na_sales</th>\n",
       "      <th>eu_sales</th>\n",
       "      <th>jp_sales</th>\n",
       "      <th>other_sales</th>\n",
       "      <th>critic_score</th>\n",
       "      <th>user_score</th>\n",
       "      <th>rating</th>\n",
       "    </tr>\n",
       "  </thead>\n",
       "  <tbody>\n",
       "    <tr>\n",
       "      <th>0</th>\n",
       "      <td>Wii Sports</td>\n",
       "      <td>Wii</td>\n",
       "      <td>2006.0</td>\n",
       "      <td>Sports</td>\n",
       "      <td>41.36</td>\n",
       "      <td>28.96</td>\n",
       "      <td>3.77</td>\n",
       "      <td>8.45</td>\n",
       "      <td>76.0</td>\n",
       "      <td>8</td>\n",
       "      <td>E</td>\n",
       "    </tr>\n",
       "    <tr>\n",
       "      <th>1</th>\n",
       "      <td>Super Mario Bros.</td>\n",
       "      <td>NES</td>\n",
       "      <td>1985.0</td>\n",
       "      <td>Platform</td>\n",
       "      <td>29.08</td>\n",
       "      <td>3.58</td>\n",
       "      <td>6.81</td>\n",
       "      <td>0.77</td>\n",
       "      <td>NaN</td>\n",
       "      <td>NaN</td>\n",
       "      <td>NaN</td>\n",
       "    </tr>\n",
       "    <tr>\n",
       "      <th>2</th>\n",
       "      <td>Mario Kart Wii</td>\n",
       "      <td>Wii</td>\n",
       "      <td>2008.0</td>\n",
       "      <td>Racing</td>\n",
       "      <td>15.68</td>\n",
       "      <td>12.76</td>\n",
       "      <td>3.79</td>\n",
       "      <td>3.29</td>\n",
       "      <td>82.0</td>\n",
       "      <td>8.3</td>\n",
       "      <td>E</td>\n",
       "    </tr>\n",
       "    <tr>\n",
       "      <th>3</th>\n",
       "      <td>Wii Sports Resort</td>\n",
       "      <td>Wii</td>\n",
       "      <td>2009.0</td>\n",
       "      <td>Sports</td>\n",
       "      <td>15.61</td>\n",
       "      <td>10.93</td>\n",
       "      <td>3.28</td>\n",
       "      <td>2.95</td>\n",
       "      <td>80.0</td>\n",
       "      <td>8</td>\n",
       "      <td>E</td>\n",
       "    </tr>\n",
       "    <tr>\n",
       "      <th>4</th>\n",
       "      <td>Pokemon Red/Pokemon Blue</td>\n",
       "      <td>GB</td>\n",
       "      <td>1996.0</td>\n",
       "      <td>Role-Playing</td>\n",
       "      <td>11.27</td>\n",
       "      <td>8.89</td>\n",
       "      <td>10.22</td>\n",
       "      <td>1.00</td>\n",
       "      <td>NaN</td>\n",
       "      <td>NaN</td>\n",
       "      <td>NaN</td>\n",
       "    </tr>\n",
       "  </tbody>\n",
       "</table>\n",
       "</div>"
      ],
      "text/plain": [
       "                       name platform  year_of_release         genre  na_sales  \\\n",
       "0                Wii Sports      Wii           2006.0        Sports     41.36   \n",
       "1         Super Mario Bros.      NES           1985.0      Platform     29.08   \n",
       "2            Mario Kart Wii      Wii           2008.0        Racing     15.68   \n",
       "3         Wii Sports Resort      Wii           2009.0        Sports     15.61   \n",
       "4  Pokemon Red/Pokemon Blue       GB           1996.0  Role-Playing     11.27   \n",
       "\n",
       "   eu_sales  jp_sales  other_sales  critic_score user_score rating  \n",
       "0     28.96      3.77         8.45          76.0          8      E  \n",
       "1      3.58      6.81         0.77           NaN        NaN    NaN  \n",
       "2     12.76      3.79         3.29          82.0        8.3      E  \n",
       "3     10.93      3.28         2.95          80.0          8      E  \n",
       "4      8.89     10.22         1.00           NaN        NaN    NaN  "
      ]
     },
     "execution_count": 8,
     "metadata": {},
     "output_type": "execute_result"
    }
   ],
   "source": [
    "data.columns = data.columns.str.lower() # Переводим название всех колонок в нижний регистр\n",
    "data.head()"
   ]
  },
  {
   "cell_type": "markdown",
   "id": "bb9c6fcf",
   "metadata": {},
   "source": [
    "Выведим количество пропусков в каждом столбце"
   ]
  },
  {
   "cell_type": "code",
   "execution_count": 9,
   "id": "2ded7528",
   "metadata": {
    "scrolled": true
   },
   "outputs": [
    {
     "data": {
      "text/plain": [
       "name                  2\n",
       "platform              0\n",
       "year_of_release     269\n",
       "genre                 2\n",
       "na_sales              0\n",
       "eu_sales              0\n",
       "jp_sales              0\n",
       "other_sales           0\n",
       "critic_score       8578\n",
       "user_score         6701\n",
       "rating             6766\n",
       "dtype: int64"
      ]
     },
     "execution_count": 9,
     "metadata": {},
     "output_type": "execute_result"
    }
   ],
   "source": [
    "data.isnull().sum() # Подсчитываем количество пропущенных значений в датасете"
   ]
  },
  {
   "cell_type": "markdown",
   "id": "681e3d24",
   "metadata": {},
   "source": [
    "Столбец `name` насчитывает два пропуска. Взглянем на полную информацию об играх, в которых в столбце `name` пропущенно значение."
   ]
  },
  {
   "cell_type": "code",
   "execution_count": 10,
   "id": "891a609a",
   "metadata": {},
   "outputs": [
    {
     "data": {
      "text/html": [
       "<div>\n",
       "<style scoped>\n",
       "    .dataframe tbody tr th:only-of-type {\n",
       "        vertical-align: middle;\n",
       "    }\n",
       "\n",
       "    .dataframe tbody tr th {\n",
       "        vertical-align: top;\n",
       "    }\n",
       "\n",
       "    .dataframe thead th {\n",
       "        text-align: right;\n",
       "    }\n",
       "</style>\n",
       "<table border=\"1\" class=\"dataframe\">\n",
       "  <thead>\n",
       "    <tr style=\"text-align: right;\">\n",
       "      <th></th>\n",
       "      <th>name</th>\n",
       "      <th>platform</th>\n",
       "      <th>year_of_release</th>\n",
       "      <th>genre</th>\n",
       "      <th>na_sales</th>\n",
       "      <th>eu_sales</th>\n",
       "      <th>jp_sales</th>\n",
       "      <th>other_sales</th>\n",
       "      <th>critic_score</th>\n",
       "      <th>user_score</th>\n",
       "      <th>rating</th>\n",
       "    </tr>\n",
       "  </thead>\n",
       "  <tbody>\n",
       "    <tr>\n",
       "      <th>659</th>\n",
       "      <td>NaN</td>\n",
       "      <td>GEN</td>\n",
       "      <td>1993.0</td>\n",
       "      <td>NaN</td>\n",
       "      <td>1.78</td>\n",
       "      <td>0.53</td>\n",
       "      <td>0.00</td>\n",
       "      <td>0.08</td>\n",
       "      <td>NaN</td>\n",
       "      <td>NaN</td>\n",
       "      <td>NaN</td>\n",
       "    </tr>\n",
       "    <tr>\n",
       "      <th>14244</th>\n",
       "      <td>NaN</td>\n",
       "      <td>GEN</td>\n",
       "      <td>1993.0</td>\n",
       "      <td>NaN</td>\n",
       "      <td>0.00</td>\n",
       "      <td>0.00</td>\n",
       "      <td>0.03</td>\n",
       "      <td>0.00</td>\n",
       "      <td>NaN</td>\n",
       "      <td>NaN</td>\n",
       "      <td>NaN</td>\n",
       "    </tr>\n",
       "  </tbody>\n",
       "</table>\n",
       "</div>"
      ],
      "text/plain": [
       "      name platform  year_of_release genre  na_sales  eu_sales  jp_sales  \\\n",
       "659    NaN      GEN           1993.0   NaN      1.78      0.53      0.00   \n",
       "14244  NaN      GEN           1993.0   NaN      0.00      0.00      0.03   \n",
       "\n",
       "       other_sales  critic_score user_score rating  \n",
       "659           0.08           NaN        NaN    NaN  \n",
       "14244         0.00           NaN        NaN    NaN  "
      ]
     },
     "execution_count": 10,
     "metadata": {},
     "output_type": "execute_result"
    }
   ],
   "source": [
    "data[data['name'].isna()] # Логическая индексация"
   ]
  },
  {
   "cell_type": "markdown",
   "id": "d76a6f9e",
   "metadata": {},
   "source": [
    "Судя по всему, игры с пропуском в названии довольно старые и малоизвестные. Так как их количество крайне мало, удалим их из датасета"
   ]
  },
  {
   "cell_type": "code",
   "execution_count": 11,
   "id": "0bfae77b",
   "metadata": {},
   "outputs": [],
   "source": [
    "data = data.dropna(subset=['name']) # Удаляем пропущенные значения в столбце name"
   ]
  },
  {
   "cell_type": "code",
   "execution_count": 13,
   "id": "d55a0753",
   "metadata": {},
   "outputs": [
    {
     "data": {
      "text/html": [
       "<div>\n",
       "<style scoped>\n",
       "    .dataframe tbody tr th:only-of-type {\n",
       "        vertical-align: middle;\n",
       "    }\n",
       "\n",
       "    .dataframe tbody tr th {\n",
       "        vertical-align: top;\n",
       "    }\n",
       "\n",
       "    .dataframe thead th {\n",
       "        text-align: right;\n",
       "    }\n",
       "</style>\n",
       "<table border=\"1\" class=\"dataframe\">\n",
       "  <thead>\n",
       "    <tr style=\"text-align: right;\">\n",
       "      <th></th>\n",
       "      <th>name</th>\n",
       "      <th>platform</th>\n",
       "      <th>year_of_release</th>\n",
       "      <th>genre</th>\n",
       "      <th>na_sales</th>\n",
       "      <th>eu_sales</th>\n",
       "      <th>jp_sales</th>\n",
       "      <th>other_sales</th>\n",
       "      <th>critic_score</th>\n",
       "      <th>user_score</th>\n",
       "      <th>rating</th>\n",
       "    </tr>\n",
       "  </thead>\n",
       "  <tbody>\n",
       "    <tr>\n",
       "      <th>0</th>\n",
       "      <td>Wii Sports</td>\n",
       "      <td>Wii</td>\n",
       "      <td>2006.0</td>\n",
       "      <td>Sports</td>\n",
       "      <td>41.36</td>\n",
       "      <td>28.96</td>\n",
       "      <td>3.77</td>\n",
       "      <td>8.45</td>\n",
       "      <td>76.0</td>\n",
       "      <td>8</td>\n",
       "      <td>E</td>\n",
       "    </tr>\n",
       "    <tr>\n",
       "      <th>1</th>\n",
       "      <td>Super Mario Bros.</td>\n",
       "      <td>NES</td>\n",
       "      <td>1985.0</td>\n",
       "      <td>Platform</td>\n",
       "      <td>29.08</td>\n",
       "      <td>3.58</td>\n",
       "      <td>6.81</td>\n",
       "      <td>0.77</td>\n",
       "      <td>NaN</td>\n",
       "      <td>NaN</td>\n",
       "      <td>NaN</td>\n",
       "    </tr>\n",
       "    <tr>\n",
       "      <th>2</th>\n",
       "      <td>Mario Kart Wii</td>\n",
       "      <td>Wii</td>\n",
       "      <td>2008.0</td>\n",
       "      <td>Racing</td>\n",
       "      <td>15.68</td>\n",
       "      <td>12.76</td>\n",
       "      <td>3.79</td>\n",
       "      <td>3.29</td>\n",
       "      <td>82.0</td>\n",
       "      <td>8.3</td>\n",
       "      <td>E</td>\n",
       "    </tr>\n",
       "    <tr>\n",
       "      <th>3</th>\n",
       "      <td>Wii Sports Resort</td>\n",
       "      <td>Wii</td>\n",
       "      <td>2009.0</td>\n",
       "      <td>Sports</td>\n",
       "      <td>15.61</td>\n",
       "      <td>10.93</td>\n",
       "      <td>3.28</td>\n",
       "      <td>2.95</td>\n",
       "      <td>80.0</td>\n",
       "      <td>8</td>\n",
       "      <td>E</td>\n",
       "    </tr>\n",
       "    <tr>\n",
       "      <th>4</th>\n",
       "      <td>Pokemon Red/Pokemon Blue</td>\n",
       "      <td>GB</td>\n",
       "      <td>1996.0</td>\n",
       "      <td>Role-Playing</td>\n",
       "      <td>11.27</td>\n",
       "      <td>8.89</td>\n",
       "      <td>10.22</td>\n",
       "      <td>1.00</td>\n",
       "      <td>NaN</td>\n",
       "      <td>NaN</td>\n",
       "      <td>NaN</td>\n",
       "    </tr>\n",
       "  </tbody>\n",
       "</table>\n",
       "</div>"
      ],
      "text/plain": [
       "                       name platform  year_of_release         genre  na_sales  \\\n",
       "0                Wii Sports      Wii           2006.0        Sports     41.36   \n",
       "1         Super Mario Bros.      NES           1985.0      Platform     29.08   \n",
       "2            Mario Kart Wii      Wii           2008.0        Racing     15.68   \n",
       "3         Wii Sports Resort      Wii           2009.0        Sports     15.61   \n",
       "4  Pokemon Red/Pokemon Blue       GB           1996.0  Role-Playing     11.27   \n",
       "\n",
       "   eu_sales  jp_sales  other_sales  critic_score user_score rating  \n",
       "0     28.96      3.77         8.45          76.0          8      E  \n",
       "1      3.58      6.81         0.77           NaN        NaN    NaN  \n",
       "2     12.76      3.79         3.29          82.0        8.3      E  \n",
       "3     10.93      3.28         2.95          80.0          8      E  \n",
       "4      8.89     10.22         1.00           NaN        NaN    NaN  "
      ]
     },
     "execution_count": 13,
     "metadata": {},
     "output_type": "execute_result"
    }
   ],
   "source": [
    "data.head() # Выводим датасет на экран"
   ]
  },
  {
   "cell_type": "markdown",
   "id": "55883152",
   "metadata": {},
   "source": [
    "Столбец `year_of_release` содержит 269 пропусков. Попробуем разобраться в причинах."
   ]
  },
  {
   "cell_type": "code",
   "execution_count": 14,
   "id": "dcce1055",
   "metadata": {},
   "outputs": [
    {
     "data": {
      "text/html": [
       "<div>\n",
       "<style scoped>\n",
       "    .dataframe tbody tr th:only-of-type {\n",
       "        vertical-align: middle;\n",
       "    }\n",
       "\n",
       "    .dataframe tbody tr th {\n",
       "        vertical-align: top;\n",
       "    }\n",
       "\n",
       "    .dataframe thead th {\n",
       "        text-align: right;\n",
       "    }\n",
       "</style>\n",
       "<table border=\"1\" class=\"dataframe\">\n",
       "  <thead>\n",
       "    <tr style=\"text-align: right;\">\n",
       "      <th></th>\n",
       "      <th>name</th>\n",
       "      <th>platform</th>\n",
       "      <th>year_of_release</th>\n",
       "      <th>genre</th>\n",
       "      <th>na_sales</th>\n",
       "      <th>eu_sales</th>\n",
       "      <th>jp_sales</th>\n",
       "      <th>other_sales</th>\n",
       "      <th>critic_score</th>\n",
       "      <th>user_score</th>\n",
       "      <th>rating</th>\n",
       "    </tr>\n",
       "  </thead>\n",
       "  <tbody>\n",
       "    <tr>\n",
       "      <th>14769</th>\n",
       "      <td>Super Duper Sumos</td>\n",
       "      <td>GBA</td>\n",
       "      <td>NaN</td>\n",
       "      <td>Action</td>\n",
       "      <td>0.02</td>\n",
       "      <td>0.01</td>\n",
       "      <td>0.00</td>\n",
       "      <td>0.00</td>\n",
       "      <td>57.0</td>\n",
       "      <td>tbd</td>\n",
       "      <td>E</td>\n",
       "    </tr>\n",
       "    <tr>\n",
       "      <th>805</th>\n",
       "      <td>Rock Band</td>\n",
       "      <td>Wii</td>\n",
       "      <td>NaN</td>\n",
       "      <td>Misc</td>\n",
       "      <td>1.33</td>\n",
       "      <td>0.56</td>\n",
       "      <td>0.00</td>\n",
       "      <td>0.20</td>\n",
       "      <td>80.0</td>\n",
       "      <td>6.3</td>\n",
       "      <td>T</td>\n",
       "    </tr>\n",
       "    <tr>\n",
       "      <th>9664</th>\n",
       "      <td>Charm Girls Club: My Fashion Mall</td>\n",
       "      <td>DS</td>\n",
       "      <td>NaN</td>\n",
       "      <td>Simulation</td>\n",
       "      <td>0.12</td>\n",
       "      <td>0.00</td>\n",
       "      <td>0.00</td>\n",
       "      <td>0.01</td>\n",
       "      <td>NaN</td>\n",
       "      <td>tbd</td>\n",
       "      <td>E</td>\n",
       "    </tr>\n",
       "    <tr>\n",
       "      <th>11377</th>\n",
       "      <td>Face Racers: Photo Finish</td>\n",
       "      <td>3DS</td>\n",
       "      <td>NaN</td>\n",
       "      <td>Racing</td>\n",
       "      <td>0.08</td>\n",
       "      <td>0.00</td>\n",
       "      <td>0.00</td>\n",
       "      <td>0.01</td>\n",
       "      <td>NaN</td>\n",
       "      <td>tbd</td>\n",
       "      <td>E</td>\n",
       "    </tr>\n",
       "    <tr>\n",
       "      <th>13564</th>\n",
       "      <td>RollerCoaster Tycoon</td>\n",
       "      <td>PC</td>\n",
       "      <td>NaN</td>\n",
       "      <td>Strategy</td>\n",
       "      <td>0.02</td>\n",
       "      <td>0.02</td>\n",
       "      <td>0.00</td>\n",
       "      <td>0.01</td>\n",
       "      <td>NaN</td>\n",
       "      <td>NaN</td>\n",
       "      <td>E</td>\n",
       "    </tr>\n",
       "    <tr>\n",
       "      <th>14252</th>\n",
       "      <td>Swords</td>\n",
       "      <td>Wii</td>\n",
       "      <td>NaN</td>\n",
       "      <td>Fighting</td>\n",
       "      <td>0.03</td>\n",
       "      <td>0.00</td>\n",
       "      <td>0.00</td>\n",
       "      <td>0.00</td>\n",
       "      <td>NaN</td>\n",
       "      <td>tbd</td>\n",
       "      <td>T</td>\n",
       "    </tr>\n",
       "    <tr>\n",
       "      <th>16079</th>\n",
       "      <td>Football Manager 2007</td>\n",
       "      <td>X360</td>\n",
       "      <td>NaN</td>\n",
       "      <td>Sports</td>\n",
       "      <td>0.00</td>\n",
       "      <td>0.01</td>\n",
       "      <td>0.00</td>\n",
       "      <td>0.00</td>\n",
       "      <td>NaN</td>\n",
       "      <td>NaN</td>\n",
       "      <td>NaN</td>\n",
       "    </tr>\n",
       "    <tr>\n",
       "      <th>5889</th>\n",
       "      <td>NBA Live 2003</td>\n",
       "      <td>GC</td>\n",
       "      <td>NaN</td>\n",
       "      <td>Sports</td>\n",
       "      <td>0.23</td>\n",
       "      <td>0.06</td>\n",
       "      <td>0.00</td>\n",
       "      <td>0.01</td>\n",
       "      <td>82.0</td>\n",
       "      <td>8.2</td>\n",
       "      <td>E</td>\n",
       "    </tr>\n",
       "    <tr>\n",
       "      <th>2773</th>\n",
       "      <td>WarioWare: Twisted!</td>\n",
       "      <td>GBA</td>\n",
       "      <td>NaN</td>\n",
       "      <td>Puzzle</td>\n",
       "      <td>0.16</td>\n",
       "      <td>0.06</td>\n",
       "      <td>0.50</td>\n",
       "      <td>0.02</td>\n",
       "      <td>NaN</td>\n",
       "      <td>NaN</td>\n",
       "      <td>NaN</td>\n",
       "    </tr>\n",
       "    <tr>\n",
       "      <th>16348</th>\n",
       "      <td>Agarest Senki: Re-appearance</td>\n",
       "      <td>PS3</td>\n",
       "      <td>NaN</td>\n",
       "      <td>Role-Playing</td>\n",
       "      <td>0.00</td>\n",
       "      <td>0.00</td>\n",
       "      <td>0.01</td>\n",
       "      <td>0.00</td>\n",
       "      <td>NaN</td>\n",
       "      <td>NaN</td>\n",
       "      <td>NaN</td>\n",
       "    </tr>\n",
       "  </tbody>\n",
       "</table>\n",
       "</div>"
      ],
      "text/plain": [
       "                                    name platform  year_of_release  \\\n",
       "14769                  Super Duper Sumos      GBA              NaN   \n",
       "805                            Rock Band      Wii              NaN   \n",
       "9664   Charm Girls Club: My Fashion Mall       DS              NaN   \n",
       "11377          Face Racers: Photo Finish      3DS              NaN   \n",
       "13564               RollerCoaster Tycoon       PC              NaN   \n",
       "14252                             Swords      Wii              NaN   \n",
       "16079              Football Manager 2007     X360              NaN   \n",
       "5889                       NBA Live 2003       GC              NaN   \n",
       "2773                 WarioWare: Twisted!      GBA              NaN   \n",
       "16348       Agarest Senki: Re-appearance      PS3              NaN   \n",
       "\n",
       "              genre  na_sales  eu_sales  jp_sales  other_sales  critic_score  \\\n",
       "14769        Action      0.02      0.01      0.00         0.00          57.0   \n",
       "805            Misc      1.33      0.56      0.00         0.20          80.0   \n",
       "9664     Simulation      0.12      0.00      0.00         0.01           NaN   \n",
       "11377        Racing      0.08      0.00      0.00         0.01           NaN   \n",
       "13564      Strategy      0.02      0.02      0.00         0.01           NaN   \n",
       "14252      Fighting      0.03      0.00      0.00         0.00           NaN   \n",
       "16079        Sports      0.00      0.01      0.00         0.00           NaN   \n",
       "5889         Sports      0.23      0.06      0.00         0.01          82.0   \n",
       "2773         Puzzle      0.16      0.06      0.50         0.02           NaN   \n",
       "16348  Role-Playing      0.00      0.00      0.01         0.00           NaN   \n",
       "\n",
       "      user_score rating  \n",
       "14769        tbd      E  \n",
       "805          6.3      T  \n",
       "9664         tbd      E  \n",
       "11377        tbd      E  \n",
       "13564        NaN      E  \n",
       "14252        tbd      T  \n",
       "16079        NaN    NaN  \n",
       "5889         8.2      E  \n",
       "2773         NaN    NaN  \n",
       "16348        NaN    NaN  "
      ]
     },
     "execution_count": 14,
     "metadata": {},
     "output_type": "execute_result"
    }
   ],
   "source": [
    "data[data['year_of_release'].isnull()].sample(10) # Логическая индексация"
   ]
  },
  {
   "cell_type": "markdown",
   "id": "59d58eff",
   "metadata": {},
   "source": [
    "На первый взгляд пропуски в этом столбце **случайны**"
   ]
  },
  {
   "cell_type": "markdown",
   "id": "7f1ac31c",
   "metadata": {},
   "source": [
    "Заполнять пропущенные значения медианной или средним в данном случае будет некорректно, и так как количество пропусков  допустимо мало, можем удалить эти строки"
   ]
  },
  {
   "cell_type": "code",
   "execution_count": 15,
   "id": "863265b5",
   "metadata": {},
   "outputs": [],
   "source": [
    "data = data.dropna(subset=['year_of_release']) # Удаляем пропущенные значения в столбце year_of_release"
   ]
  },
  {
   "cell_type": "markdown",
   "id": "8bc3879d",
   "metadata": {},
   "source": [
    "Проверим полученный результат"
   ]
  },
  {
   "cell_type": "code",
   "execution_count": 16,
   "id": "981a4915",
   "metadata": {
    "scrolled": true
   },
   "outputs": [
    {
     "data": {
      "text/plain": [
       "name                  0\n",
       "platform              0\n",
       "year_of_release       0\n",
       "genre                 0\n",
       "na_sales              0\n",
       "eu_sales              0\n",
       "jp_sales              0\n",
       "other_sales           0\n",
       "critic_score       8461\n",
       "user_score         6605\n",
       "rating             6676\n",
       "dtype: int64"
      ]
     },
     "execution_count": 16,
     "metadata": {},
     "output_type": "execute_result"
    }
   ],
   "source": [
    "data.isnull().sum() # Подсчёт пропусков в датасете"
   ]
  },
  {
   "cell_type": "markdown",
   "id": "65c266d6",
   "metadata": {},
   "source": [
    "Рассмотрим столбцы `critic_score` и `user_score`. Выведим на экран случайные строки с пропусками в этих столбцах"
   ]
  },
  {
   "cell_type": "code",
   "execution_count": 18,
   "id": "ecb7010e",
   "metadata": {
    "scrolled": false
   },
   "outputs": [
    {
     "data": {
      "text/html": [
       "<div>\n",
       "<style scoped>\n",
       "    .dataframe tbody tr th:only-of-type {\n",
       "        vertical-align: middle;\n",
       "    }\n",
       "\n",
       "    .dataframe tbody tr th {\n",
       "        vertical-align: top;\n",
       "    }\n",
       "\n",
       "    .dataframe thead th {\n",
       "        text-align: right;\n",
       "    }\n",
       "</style>\n",
       "<table border=\"1\" class=\"dataframe\">\n",
       "  <thead>\n",
       "    <tr style=\"text-align: right;\">\n",
       "      <th></th>\n",
       "      <th>name</th>\n",
       "      <th>platform</th>\n",
       "      <th>year_of_release</th>\n",
       "      <th>genre</th>\n",
       "      <th>na_sales</th>\n",
       "      <th>eu_sales</th>\n",
       "      <th>jp_sales</th>\n",
       "      <th>other_sales</th>\n",
       "      <th>critic_score</th>\n",
       "      <th>user_score</th>\n",
       "      <th>rating</th>\n",
       "    </tr>\n",
       "  </thead>\n",
       "  <tbody>\n",
       "    <tr>\n",
       "      <th>13433</th>\n",
       "      <td>Jonah Lomu Rugby Challenge</td>\n",
       "      <td>PC</td>\n",
       "      <td>2011.0</td>\n",
       "      <td>Sports</td>\n",
       "      <td>0.0</td>\n",
       "      <td>0.04</td>\n",
       "      <td>0.00</td>\n",
       "      <td>0.01</td>\n",
       "      <td>NaN</td>\n",
       "      <td>NaN</td>\n",
       "      <td>NaN</td>\n",
       "    </tr>\n",
       "    <tr>\n",
       "      <th>8799</th>\n",
       "      <td>Jikkyou Powerful Pro Yakyuu 2012</td>\n",
       "      <td>PSP</td>\n",
       "      <td>2012.0</td>\n",
       "      <td>Action</td>\n",
       "      <td>0.0</td>\n",
       "      <td>0.00</td>\n",
       "      <td>0.15</td>\n",
       "      <td>0.00</td>\n",
       "      <td>NaN</td>\n",
       "      <td>NaN</td>\n",
       "      <td>NaN</td>\n",
       "    </tr>\n",
       "    <tr>\n",
       "      <th>15123</th>\n",
       "      <td>Major Dream: Major DS Dream Baseball</td>\n",
       "      <td>DS</td>\n",
       "      <td>2008.0</td>\n",
       "      <td>Sports</td>\n",
       "      <td>0.0</td>\n",
       "      <td>0.00</td>\n",
       "      <td>0.02</td>\n",
       "      <td>0.00</td>\n",
       "      <td>NaN</td>\n",
       "      <td>NaN</td>\n",
       "      <td>NaN</td>\n",
       "    </tr>\n",
       "    <tr>\n",
       "      <th>15810</th>\n",
       "      <td>Amagoushi no Yakata</td>\n",
       "      <td>PS2</td>\n",
       "      <td>2007.0</td>\n",
       "      <td>Adventure</td>\n",
       "      <td>0.0</td>\n",
       "      <td>0.00</td>\n",
       "      <td>0.02</td>\n",
       "      <td>0.00</td>\n",
       "      <td>NaN</td>\n",
       "      <td>NaN</td>\n",
       "      <td>NaN</td>\n",
       "    </tr>\n",
       "    <tr>\n",
       "      <th>8960</th>\n",
       "      <td>Barbie Superpack: Secret Agent / Groovy Games</td>\n",
       "      <td>GBA</td>\n",
       "      <td>2005.0</td>\n",
       "      <td>Misc</td>\n",
       "      <td>0.1</td>\n",
       "      <td>0.04</td>\n",
       "      <td>0.00</td>\n",
       "      <td>0.00</td>\n",
       "      <td>NaN</td>\n",
       "      <td>NaN</td>\n",
       "      <td>NaN</td>\n",
       "    </tr>\n",
       "  </tbody>\n",
       "</table>\n",
       "</div>"
      ],
      "text/plain": [
       "                                                name platform  \\\n",
       "13433                     Jonah Lomu Rugby Challenge       PC   \n",
       "8799                Jikkyou Powerful Pro Yakyuu 2012      PSP   \n",
       "15123           Major Dream: Major DS Dream Baseball       DS   \n",
       "15810                            Amagoushi no Yakata      PS2   \n",
       "8960   Barbie Superpack: Secret Agent / Groovy Games      GBA   \n",
       "\n",
       "       year_of_release      genre  na_sales  eu_sales  jp_sales  other_sales  \\\n",
       "13433           2011.0     Sports       0.0      0.04      0.00         0.01   \n",
       "8799            2012.0     Action       0.0      0.00      0.15         0.00   \n",
       "15123           2008.0     Sports       0.0      0.00      0.02         0.00   \n",
       "15810           2007.0  Adventure       0.0      0.00      0.02         0.00   \n",
       "8960            2005.0       Misc       0.1      0.04      0.00         0.00   \n",
       "\n",
       "       critic_score user_score rating  \n",
       "13433           NaN        NaN    NaN  \n",
       "8799            NaN        NaN    NaN  \n",
       "15123           NaN        NaN    NaN  \n",
       "15810           NaN        NaN    NaN  \n",
       "8960            NaN        NaN    NaN  "
      ]
     },
     "execution_count": 18,
     "metadata": {},
     "output_type": "execute_result"
    }
   ],
   "source": [
    "data[(data['critic_score'].isnull()) & (data['user_score'].isnull())].sample(5) # Логическая индексация"
   ]
  },
  {
   "cell_type": "markdown",
   "id": "45691964",
   "metadata": {},
   "source": [
    "Можно увидеть некоторую зависимость между количеством продаж по странам и отсутствием оценок и рейтингов.\n",
    "В основном, игры у которых количество продаж низкое - рейтинг и оценка отсутвуют.\n",
    "\n",
    "Опять же, заполнять пропуски медианным или средним значением не корректно, так как это может сильно повлиять на качество анализа. Удалять мы их не можем, так как пропусков слишком много.\n",
    "\n",
    "Таким образом пропуски в столбцах  `critic_score` и `user_score` оставим без изменений"
   ]
  },
  {
   "cell_type": "markdown",
   "id": "4cb7bc4f",
   "metadata": {},
   "source": [
    "Так же заметим, что столбец `user_score` имеет тип данных `object`. Проверим все уникальные значения столбца"
   ]
  },
  {
   "cell_type": "code",
   "execution_count": 19,
   "id": "b3ab6335",
   "metadata": {},
   "outputs": [
    {
     "data": {
      "text/plain": [
       "array(['8', nan, '8.3', '8.5', '6.6', '8.4', '8.6', '7.7', '6.3', '7.4',\n",
       "       '8.2', '9', '7.9', '8.1', '8.7', '7.1', '3.4', '5.3', '4.8', '3.2',\n",
       "       '8.9', '6.4', '7.8', '7.5', '2.6', '7.2', '9.2', '7', '7.3', '4.3',\n",
       "       '7.6', '5.7', '5', '9.1', '6.5', 'tbd', '8.8', '6.9', '9.4', '6.8',\n",
       "       '6.1', '6.7', '5.4', '4', '4.9', '4.5', '9.3', '6.2', '4.2', '6',\n",
       "       '3.7', '4.1', '5.8', '5.6', '5.5', '4.4', '4.6', '5.9', '3.9',\n",
       "       '3.1', '2.9', '5.2', '3.3', '4.7', '5.1', '3.5', '2.5', '1.9', '3',\n",
       "       '2.7', '2.2', '2', '9.5', '2.1', '3.6', '2.8', '1.8', '3.8', '0',\n",
       "       '1.6', '9.6', '2.4', '1.7', '1.1', '0.3', '1.5', '0.7', '1.2',\n",
       "       '2.3', '0.5', '1.3', '0.2', '0.6', '1.4', '0.9', '1', '9.7'],\n",
       "      dtype=object)"
      ]
     },
     "execution_count": 19,
     "metadata": {},
     "output_type": "execute_result"
    }
   ],
   "source": [
    "data.user_score.unique() # Вывод уникальных значений столбца user_score"
   ]
  },
  {
   "cell_type": "markdown",
   "id": "8491ce96",
   "metadata": {},
   "source": [
    "В столбце присутсвует значение строкового типа `tbd`.\n",
    "\n",
    "Согласно информации в интернете:\n",
    "\n",
    "TBD - аббревиатура от английского To Be Determined (будет определено) или To Be Decided (будет решено). Используется, если какая-то информация еще не определена или решение по вопросу не принято. Акроним служит для отметки неясностей или пропусков, которые надо заполнить, в информации требований.\n",
    "\n",
    "Выведим все строки датасета, в которых присутствует строка `tbd`"
   ]
  },
  {
   "cell_type": "code",
   "execution_count": 20,
   "id": "4a0a8f39",
   "metadata": {},
   "outputs": [
    {
     "data": {
      "text/html": [
       "<div>\n",
       "<style scoped>\n",
       "    .dataframe tbody tr th:only-of-type {\n",
       "        vertical-align: middle;\n",
       "    }\n",
       "\n",
       "    .dataframe tbody tr th {\n",
       "        vertical-align: top;\n",
       "    }\n",
       "\n",
       "    .dataframe thead th {\n",
       "        text-align: right;\n",
       "    }\n",
       "</style>\n",
       "<table border=\"1\" class=\"dataframe\">\n",
       "  <thead>\n",
       "    <tr style=\"text-align: right;\">\n",
       "      <th></th>\n",
       "      <th>name</th>\n",
       "      <th>platform</th>\n",
       "      <th>year_of_release</th>\n",
       "      <th>genre</th>\n",
       "      <th>na_sales</th>\n",
       "      <th>eu_sales</th>\n",
       "      <th>jp_sales</th>\n",
       "      <th>other_sales</th>\n",
       "      <th>critic_score</th>\n",
       "      <th>user_score</th>\n",
       "      <th>rating</th>\n",
       "    </tr>\n",
       "  </thead>\n",
       "  <tbody>\n",
       "    <tr>\n",
       "      <th>119</th>\n",
       "      <td>Zumba Fitness</td>\n",
       "      <td>Wii</td>\n",
       "      <td>2010.0</td>\n",
       "      <td>Sports</td>\n",
       "      <td>3.45</td>\n",
       "      <td>2.59</td>\n",
       "      <td>0.0</td>\n",
       "      <td>0.66</td>\n",
       "      <td>NaN</td>\n",
       "      <td>tbd</td>\n",
       "      <td>E</td>\n",
       "    </tr>\n",
       "    <tr>\n",
       "      <th>301</th>\n",
       "      <td>Namco Museum: 50th Anniversary</td>\n",
       "      <td>PS2</td>\n",
       "      <td>2005.0</td>\n",
       "      <td>Misc</td>\n",
       "      <td>2.08</td>\n",
       "      <td>1.35</td>\n",
       "      <td>0.0</td>\n",
       "      <td>0.54</td>\n",
       "      <td>61.0</td>\n",
       "      <td>tbd</td>\n",
       "      <td>E10+</td>\n",
       "    </tr>\n",
       "    <tr>\n",
       "      <th>520</th>\n",
       "      <td>Zumba Fitness 2</td>\n",
       "      <td>Wii</td>\n",
       "      <td>2011.0</td>\n",
       "      <td>Sports</td>\n",
       "      <td>1.51</td>\n",
       "      <td>1.03</td>\n",
       "      <td>0.0</td>\n",
       "      <td>0.27</td>\n",
       "      <td>NaN</td>\n",
       "      <td>tbd</td>\n",
       "      <td>T</td>\n",
       "    </tr>\n",
       "    <tr>\n",
       "      <th>645</th>\n",
       "      <td>uDraw Studio</td>\n",
       "      <td>Wii</td>\n",
       "      <td>2010.0</td>\n",
       "      <td>Misc</td>\n",
       "      <td>1.65</td>\n",
       "      <td>0.57</td>\n",
       "      <td>0.0</td>\n",
       "      <td>0.20</td>\n",
       "      <td>71.0</td>\n",
       "      <td>tbd</td>\n",
       "      <td>E</td>\n",
       "    </tr>\n",
       "    <tr>\n",
       "      <th>718</th>\n",
       "      <td>Just Dance Kids</td>\n",
       "      <td>Wii</td>\n",
       "      <td>2010.0</td>\n",
       "      <td>Misc</td>\n",
       "      <td>1.52</td>\n",
       "      <td>0.54</td>\n",
       "      <td>0.0</td>\n",
       "      <td>0.18</td>\n",
       "      <td>NaN</td>\n",
       "      <td>tbd</td>\n",
       "      <td>E</td>\n",
       "    </tr>\n",
       "    <tr>\n",
       "      <th>...</th>\n",
       "      <td>...</td>\n",
       "      <td>...</td>\n",
       "      <td>...</td>\n",
       "      <td>...</td>\n",
       "      <td>...</td>\n",
       "      <td>...</td>\n",
       "      <td>...</td>\n",
       "      <td>...</td>\n",
       "      <td>...</td>\n",
       "      <td>...</td>\n",
       "      <td>...</td>\n",
       "    </tr>\n",
       "    <tr>\n",
       "      <th>16695</th>\n",
       "      <td>Planet Monsters</td>\n",
       "      <td>GBA</td>\n",
       "      <td>2001.0</td>\n",
       "      <td>Action</td>\n",
       "      <td>0.01</td>\n",
       "      <td>0.00</td>\n",
       "      <td>0.0</td>\n",
       "      <td>0.00</td>\n",
       "      <td>67.0</td>\n",
       "      <td>tbd</td>\n",
       "      <td>E</td>\n",
       "    </tr>\n",
       "    <tr>\n",
       "      <th>16697</th>\n",
       "      <td>Bust-A-Move 3000</td>\n",
       "      <td>GC</td>\n",
       "      <td>2003.0</td>\n",
       "      <td>Puzzle</td>\n",
       "      <td>0.01</td>\n",
       "      <td>0.00</td>\n",
       "      <td>0.0</td>\n",
       "      <td>0.00</td>\n",
       "      <td>53.0</td>\n",
       "      <td>tbd</td>\n",
       "      <td>E</td>\n",
       "    </tr>\n",
       "    <tr>\n",
       "      <th>16698</th>\n",
       "      <td>Mega Brain Boost</td>\n",
       "      <td>DS</td>\n",
       "      <td>2008.0</td>\n",
       "      <td>Puzzle</td>\n",
       "      <td>0.01</td>\n",
       "      <td>0.00</td>\n",
       "      <td>0.0</td>\n",
       "      <td>0.00</td>\n",
       "      <td>48.0</td>\n",
       "      <td>tbd</td>\n",
       "      <td>E</td>\n",
       "    </tr>\n",
       "    <tr>\n",
       "      <th>16704</th>\n",
       "      <td>Plushees</td>\n",
       "      <td>DS</td>\n",
       "      <td>2008.0</td>\n",
       "      <td>Simulation</td>\n",
       "      <td>0.01</td>\n",
       "      <td>0.00</td>\n",
       "      <td>0.0</td>\n",
       "      <td>0.00</td>\n",
       "      <td>NaN</td>\n",
       "      <td>tbd</td>\n",
       "      <td>E</td>\n",
       "    </tr>\n",
       "    <tr>\n",
       "      <th>16706</th>\n",
       "      <td>Men in Black II: Alien Escape</td>\n",
       "      <td>GC</td>\n",
       "      <td>2003.0</td>\n",
       "      <td>Shooter</td>\n",
       "      <td>0.01</td>\n",
       "      <td>0.00</td>\n",
       "      <td>0.0</td>\n",
       "      <td>0.00</td>\n",
       "      <td>NaN</td>\n",
       "      <td>tbd</td>\n",
       "      <td>T</td>\n",
       "    </tr>\n",
       "  </tbody>\n",
       "</table>\n",
       "<p>2376 rows × 11 columns</p>\n",
       "</div>"
      ],
      "text/plain": [
       "                                 name platform  year_of_release       genre  \\\n",
       "119                     Zumba Fitness      Wii           2010.0      Sports   \n",
       "301    Namco Museum: 50th Anniversary      PS2           2005.0        Misc   \n",
       "520                   Zumba Fitness 2      Wii           2011.0      Sports   \n",
       "645                      uDraw Studio      Wii           2010.0        Misc   \n",
       "718                   Just Dance Kids      Wii           2010.0        Misc   \n",
       "...                               ...      ...              ...         ...   \n",
       "16695                 Planet Monsters      GBA           2001.0      Action   \n",
       "16697                Bust-A-Move 3000       GC           2003.0      Puzzle   \n",
       "16698                Mega Brain Boost       DS           2008.0      Puzzle   \n",
       "16704                        Plushees       DS           2008.0  Simulation   \n",
       "16706   Men in Black II: Alien Escape       GC           2003.0     Shooter   \n",
       "\n",
       "       na_sales  eu_sales  jp_sales  other_sales  critic_score user_score  \\\n",
       "119        3.45      2.59       0.0         0.66           NaN        tbd   \n",
       "301        2.08      1.35       0.0         0.54          61.0        tbd   \n",
       "520        1.51      1.03       0.0         0.27           NaN        tbd   \n",
       "645        1.65      0.57       0.0         0.20          71.0        tbd   \n",
       "718        1.52      0.54       0.0         0.18           NaN        tbd   \n",
       "...         ...       ...       ...          ...           ...        ...   \n",
       "16695      0.01      0.00       0.0         0.00          67.0        tbd   \n",
       "16697      0.01      0.00       0.0         0.00          53.0        tbd   \n",
       "16698      0.01      0.00       0.0         0.00          48.0        tbd   \n",
       "16704      0.01      0.00       0.0         0.00           NaN        tbd   \n",
       "16706      0.01      0.00       0.0         0.00           NaN        tbd   \n",
       "\n",
       "      rating  \n",
       "119        E  \n",
       "301     E10+  \n",
       "520        T  \n",
       "645        E  \n",
       "718        E  \n",
       "...      ...  \n",
       "16695      E  \n",
       "16697      E  \n",
       "16698      E  \n",
       "16704      E  \n",
       "16706      T  \n",
       "\n",
       "[2376 rows x 11 columns]"
      ]
     },
     "execution_count": 20,
     "metadata": {},
     "output_type": "execute_result"
    }
   ],
   "source": [
    "data[data['user_score'] == 'tbd'] # Логическая индексация"
   ]
  },
  {
   "cell_type": "markdown",
   "id": "877a6752",
   "metadata": {},
   "source": [
    "Количество таких строк составляет - 2376. Будем рассматривать их как пропуски, так как в данном примере пропуск значения в столбце `user_score` может означать, что решение по оценки игры ещё не приятно. Та же самая логика работает в обратную сторону:\n",
    "в случае, если оценка для игры ещё не определена, в столбце `user_score` остаётся пропуск"
   ]
  },
  {
   "cell_type": "code",
   "execution_count": 21,
   "id": "9ab5164f",
   "metadata": {},
   "outputs": [],
   "source": [
    "data.loc[data['user_score'] =='tbd', 'user_score'] = float('nan') # Замена значений"
   ]
  },
  {
   "cell_type": "markdown",
   "id": "219bc217",
   "metadata": {},
   "source": [
    "Удостоверимся в результате"
   ]
  },
  {
   "cell_type": "code",
   "execution_count": 22,
   "id": "d63597ec",
   "metadata": {},
   "outputs": [
    {
     "data": {
      "text/html": [
       "<div>\n",
       "<style scoped>\n",
       "    .dataframe tbody tr th:only-of-type {\n",
       "        vertical-align: middle;\n",
       "    }\n",
       "\n",
       "    .dataframe tbody tr th {\n",
       "        vertical-align: top;\n",
       "    }\n",
       "\n",
       "    .dataframe thead th {\n",
       "        text-align: right;\n",
       "    }\n",
       "</style>\n",
       "<table border=\"1\" class=\"dataframe\">\n",
       "  <thead>\n",
       "    <tr style=\"text-align: right;\">\n",
       "      <th></th>\n",
       "      <th>name</th>\n",
       "      <th>platform</th>\n",
       "      <th>year_of_release</th>\n",
       "      <th>genre</th>\n",
       "      <th>na_sales</th>\n",
       "      <th>eu_sales</th>\n",
       "      <th>jp_sales</th>\n",
       "      <th>other_sales</th>\n",
       "      <th>critic_score</th>\n",
       "      <th>user_score</th>\n",
       "      <th>rating</th>\n",
       "    </tr>\n",
       "  </thead>\n",
       "  <tbody>\n",
       "  </tbody>\n",
       "</table>\n",
       "</div>"
      ],
      "text/plain": [
       "Empty DataFrame\n",
       "Columns: [name, platform, year_of_release, genre, na_sales, eu_sales, jp_sales, other_sales, critic_score, user_score, rating]\n",
       "Index: []"
      ]
     },
     "execution_count": 22,
     "metadata": {},
     "output_type": "execute_result"
    }
   ],
   "source": [
    "data[data['user_score'] == 'tbd'] # Логическая индексация"
   ]
  },
  {
   "cell_type": "markdown",
   "id": "a5e304f3",
   "metadata": {},
   "source": [
    "Рассмотрм последний столбце `rating`, который содержит 6676 пропусков. Выведим случайные строки датасета с пропусками в этих столбцах"
   ]
  },
  {
   "cell_type": "code",
   "execution_count": 24,
   "id": "9848ed69",
   "metadata": {
    "scrolled": false
   },
   "outputs": [
    {
     "data": {
      "text/html": [
       "<div>\n",
       "<style scoped>\n",
       "    .dataframe tbody tr th:only-of-type {\n",
       "        vertical-align: middle;\n",
       "    }\n",
       "\n",
       "    .dataframe tbody tr th {\n",
       "        vertical-align: top;\n",
       "    }\n",
       "\n",
       "    .dataframe thead th {\n",
       "        text-align: right;\n",
       "    }\n",
       "</style>\n",
       "<table border=\"1\" class=\"dataframe\">\n",
       "  <thead>\n",
       "    <tr style=\"text-align: right;\">\n",
       "      <th></th>\n",
       "      <th>name</th>\n",
       "      <th>platform</th>\n",
       "      <th>year_of_release</th>\n",
       "      <th>genre</th>\n",
       "      <th>na_sales</th>\n",
       "      <th>eu_sales</th>\n",
       "      <th>jp_sales</th>\n",
       "      <th>other_sales</th>\n",
       "      <th>critic_score</th>\n",
       "      <th>user_score</th>\n",
       "      <th>rating</th>\n",
       "    </tr>\n",
       "  </thead>\n",
       "  <tbody>\n",
       "    <tr>\n",
       "      <th>1</th>\n",
       "      <td>Super Mario Bros.</td>\n",
       "      <td>NES</td>\n",
       "      <td>1985.0</td>\n",
       "      <td>Platform</td>\n",
       "      <td>29.08</td>\n",
       "      <td>3.58</td>\n",
       "      <td>6.81</td>\n",
       "      <td>0.77</td>\n",
       "      <td>NaN</td>\n",
       "      <td>NaN</td>\n",
       "      <td>NaN</td>\n",
       "    </tr>\n",
       "    <tr>\n",
       "      <th>4</th>\n",
       "      <td>Pokemon Red/Pokemon Blue</td>\n",
       "      <td>GB</td>\n",
       "      <td>1996.0</td>\n",
       "      <td>Role-Playing</td>\n",
       "      <td>11.27</td>\n",
       "      <td>8.89</td>\n",
       "      <td>10.22</td>\n",
       "      <td>1.00</td>\n",
       "      <td>NaN</td>\n",
       "      <td>NaN</td>\n",
       "      <td>NaN</td>\n",
       "    </tr>\n",
       "    <tr>\n",
       "      <th>5</th>\n",
       "      <td>Tetris</td>\n",
       "      <td>GB</td>\n",
       "      <td>1989.0</td>\n",
       "      <td>Puzzle</td>\n",
       "      <td>23.20</td>\n",
       "      <td>2.26</td>\n",
       "      <td>4.22</td>\n",
       "      <td>0.58</td>\n",
       "      <td>NaN</td>\n",
       "      <td>NaN</td>\n",
       "      <td>NaN</td>\n",
       "    </tr>\n",
       "    <tr>\n",
       "      <th>9</th>\n",
       "      <td>Duck Hunt</td>\n",
       "      <td>NES</td>\n",
       "      <td>1984.0</td>\n",
       "      <td>Shooter</td>\n",
       "      <td>26.93</td>\n",
       "      <td>0.63</td>\n",
       "      <td>0.28</td>\n",
       "      <td>0.47</td>\n",
       "      <td>NaN</td>\n",
       "      <td>NaN</td>\n",
       "      <td>NaN</td>\n",
       "    </tr>\n",
       "    <tr>\n",
       "      <th>10</th>\n",
       "      <td>Nintendogs</td>\n",
       "      <td>DS</td>\n",
       "      <td>2005.0</td>\n",
       "      <td>Simulation</td>\n",
       "      <td>9.05</td>\n",
       "      <td>10.95</td>\n",
       "      <td>1.93</td>\n",
       "      <td>2.74</td>\n",
       "      <td>NaN</td>\n",
       "      <td>NaN</td>\n",
       "      <td>NaN</td>\n",
       "    </tr>\n",
       "    <tr>\n",
       "      <th>...</th>\n",
       "      <td>...</td>\n",
       "      <td>...</td>\n",
       "      <td>...</td>\n",
       "      <td>...</td>\n",
       "      <td>...</td>\n",
       "      <td>...</td>\n",
       "      <td>...</td>\n",
       "      <td>...</td>\n",
       "      <td>...</td>\n",
       "      <td>...</td>\n",
       "      <td>...</td>\n",
       "    </tr>\n",
       "    <tr>\n",
       "      <th>16710</th>\n",
       "      <td>Samurai Warriors: Sanada Maru</td>\n",
       "      <td>PS3</td>\n",
       "      <td>2016.0</td>\n",
       "      <td>Action</td>\n",
       "      <td>0.00</td>\n",
       "      <td>0.00</td>\n",
       "      <td>0.01</td>\n",
       "      <td>0.00</td>\n",
       "      <td>NaN</td>\n",
       "      <td>NaN</td>\n",
       "      <td>NaN</td>\n",
       "    </tr>\n",
       "    <tr>\n",
       "      <th>16711</th>\n",
       "      <td>LMA Manager 2007</td>\n",
       "      <td>X360</td>\n",
       "      <td>2006.0</td>\n",
       "      <td>Sports</td>\n",
       "      <td>0.00</td>\n",
       "      <td>0.01</td>\n",
       "      <td>0.00</td>\n",
       "      <td>0.00</td>\n",
       "      <td>NaN</td>\n",
       "      <td>NaN</td>\n",
       "      <td>NaN</td>\n",
       "    </tr>\n",
       "    <tr>\n",
       "      <th>16712</th>\n",
       "      <td>Haitaka no Psychedelica</td>\n",
       "      <td>PSV</td>\n",
       "      <td>2016.0</td>\n",
       "      <td>Adventure</td>\n",
       "      <td>0.00</td>\n",
       "      <td>0.00</td>\n",
       "      <td>0.01</td>\n",
       "      <td>0.00</td>\n",
       "      <td>NaN</td>\n",
       "      <td>NaN</td>\n",
       "      <td>NaN</td>\n",
       "    </tr>\n",
       "    <tr>\n",
       "      <th>16713</th>\n",
       "      <td>Spirits &amp; Spells</td>\n",
       "      <td>GBA</td>\n",
       "      <td>2003.0</td>\n",
       "      <td>Platform</td>\n",
       "      <td>0.01</td>\n",
       "      <td>0.00</td>\n",
       "      <td>0.00</td>\n",
       "      <td>0.00</td>\n",
       "      <td>NaN</td>\n",
       "      <td>NaN</td>\n",
       "      <td>NaN</td>\n",
       "    </tr>\n",
       "    <tr>\n",
       "      <th>16714</th>\n",
       "      <td>Winning Post 8 2016</td>\n",
       "      <td>PSV</td>\n",
       "      <td>2016.0</td>\n",
       "      <td>Simulation</td>\n",
       "      <td>0.00</td>\n",
       "      <td>0.00</td>\n",
       "      <td>0.01</td>\n",
       "      <td>0.00</td>\n",
       "      <td>NaN</td>\n",
       "      <td>NaN</td>\n",
       "      <td>NaN</td>\n",
       "    </tr>\n",
       "  </tbody>\n",
       "</table>\n",
       "<p>6676 rows × 11 columns</p>\n",
       "</div>"
      ],
      "text/plain": [
       "                                name platform  year_of_release         genre  \\\n",
       "1                  Super Mario Bros.      NES           1985.0      Platform   \n",
       "4           Pokemon Red/Pokemon Blue       GB           1996.0  Role-Playing   \n",
       "5                             Tetris       GB           1989.0        Puzzle   \n",
       "9                          Duck Hunt      NES           1984.0       Shooter   \n",
       "10                        Nintendogs       DS           2005.0    Simulation   \n",
       "...                              ...      ...              ...           ...   \n",
       "16710  Samurai Warriors: Sanada Maru      PS3           2016.0        Action   \n",
       "16711               LMA Manager 2007     X360           2006.0        Sports   \n",
       "16712        Haitaka no Psychedelica      PSV           2016.0     Adventure   \n",
       "16713               Spirits & Spells      GBA           2003.0      Platform   \n",
       "16714            Winning Post 8 2016      PSV           2016.0    Simulation   \n",
       "\n",
       "       na_sales  eu_sales  jp_sales  other_sales  critic_score user_score  \\\n",
       "1         29.08      3.58      6.81         0.77           NaN        NaN   \n",
       "4         11.27      8.89     10.22         1.00           NaN        NaN   \n",
       "5         23.20      2.26      4.22         0.58           NaN        NaN   \n",
       "9         26.93      0.63      0.28         0.47           NaN        NaN   \n",
       "10         9.05     10.95      1.93         2.74           NaN        NaN   \n",
       "...         ...       ...       ...          ...           ...        ...   \n",
       "16710      0.00      0.00      0.01         0.00           NaN        NaN   \n",
       "16711      0.00      0.01      0.00         0.00           NaN        NaN   \n",
       "16712      0.00      0.00      0.01         0.00           NaN        NaN   \n",
       "16713      0.01      0.00      0.00         0.00           NaN        NaN   \n",
       "16714      0.00      0.00      0.01         0.00           NaN        NaN   \n",
       "\n",
       "      rating  \n",
       "1        NaN  \n",
       "4        NaN  \n",
       "5        NaN  \n",
       "9        NaN  \n",
       "10       NaN  \n",
       "...      ...  \n",
       "16710    NaN  \n",
       "16711    NaN  \n",
       "16712    NaN  \n",
       "16713    NaN  \n",
       "16714    NaN  \n",
       "\n",
       "[6676 rows x 11 columns]"
      ]
     },
     "execution_count": 24,
     "metadata": {},
     "output_type": "execute_result"
    }
   ],
   "source": [
    "data[data['rating'].isnull()] # Логическая индексация"
   ]
  },
  {
   "cell_type": "markdown",
   "id": "ea83cd63",
   "metadata": {},
   "source": [
    "Так же выведим все уникальные значения столбца `rating`"
   ]
  },
  {
   "cell_type": "code",
   "execution_count": 25,
   "id": "46b4de86",
   "metadata": {},
   "outputs": [
    {
     "data": {
      "text/plain": [
       "E       3921\n",
       "T       2905\n",
       "M       1536\n",
       "E10+    1393\n",
       "EC         8\n",
       "K-A        3\n",
       "AO         1\n",
       "RP         1\n",
       "Name: rating, dtype: int64"
      ]
     },
     "execution_count": 25,
     "metadata": {},
     "output_type": "execute_result"
    }
   ],
   "source": [
    "data.rating.value_counts() # Подсчёт количества уникальных значений"
   ]
  },
  {
   "cell_type": "markdown",
   "id": "40a50852",
   "metadata": {},
   "source": [
    "Прослеживаем ту же самую зависимость, что и со столбцами `critic_score` и `user_score`.\n",
    "\n",
    "Все пропущенные значения заменим на `Unknown`"
   ]
  },
  {
   "cell_type": "code",
   "execution_count": 26,
   "id": "aca496d8",
   "metadata": {},
   "outputs": [],
   "source": [
    "data['rating'] = data['rating'].fillna('Unknown') # Заполняем пропуски"
   ]
  },
  {
   "cell_type": "markdown",
   "id": "797bcce9",
   "metadata": {},
   "source": [
    "Проверим получвшийся результат"
   ]
  },
  {
   "cell_type": "code",
   "execution_count": 27,
   "id": "4c300a07",
   "metadata": {},
   "outputs": [
    {
     "data": {
      "text/plain": [
       "name                  0\n",
       "platform              0\n",
       "year_of_release       0\n",
       "genre                 0\n",
       "na_sales              0\n",
       "eu_sales              0\n",
       "jp_sales              0\n",
       "other_sales           0\n",
       "critic_score       8461\n",
       "user_score         8981\n",
       "rating                0\n",
       "dtype: int64"
      ]
     },
     "execution_count": 27,
     "metadata": {},
     "output_type": "execute_result"
    }
   ],
   "source": [
    "data.isnull().sum() # Количество пропусков в датасете"
   ]
  },
  {
   "cell_type": "markdown",
   "id": "fb209435",
   "metadata": {},
   "source": [
    "Выведим полную информацию о датасете для проверки типа данных в каждом столбце"
   ]
  },
  {
   "cell_type": "code",
   "execution_count": 28,
   "id": "b2f014a7",
   "metadata": {},
   "outputs": [
    {
     "name": "stdout",
     "output_type": "stream",
     "text": [
      "<class 'pandas.core.frame.DataFrame'>\n",
      "Int64Index: 16444 entries, 0 to 16714\n",
      "Data columns (total 11 columns):\n",
      " #   Column           Non-Null Count  Dtype  \n",
      "---  ------           --------------  -----  \n",
      " 0   name             16444 non-null  object \n",
      " 1   platform         16444 non-null  object \n",
      " 2   year_of_release  16444 non-null  float64\n",
      " 3   genre            16444 non-null  object \n",
      " 4   na_sales         16444 non-null  float64\n",
      " 5   eu_sales         16444 non-null  float64\n",
      " 6   jp_sales         16444 non-null  float64\n",
      " 7   other_sales      16444 non-null  float64\n",
      " 8   critic_score     7983 non-null   float64\n",
      " 9   user_score       7463 non-null   object \n",
      " 10  rating           16444 non-null  object \n",
      "dtypes: float64(6), object(5)\n",
      "memory usage: 1.5+ MB\n"
     ]
    }
   ],
   "source": [
    "data.info() # Информация о датасете"
   ]
  },
  {
   "cell_type": "markdown",
   "id": "a650f3af",
   "metadata": {},
   "source": [
    "В столбце `year_of_release` поменяем тип данных на целочисленный.\n",
    "\n",
    "В столбце `user_score` поменяем тип данных на `float` для корректной работы с данными."
   ]
  },
  {
   "cell_type": "code",
   "execution_count": 29,
   "id": "bdec03b8",
   "metadata": {},
   "outputs": [
    {
     "name": "stdout",
     "output_type": "stream",
     "text": [
      "<class 'pandas.core.frame.DataFrame'>\n",
      "Int64Index: 16444 entries, 0 to 16714\n",
      "Data columns (total 11 columns):\n",
      " #   Column           Non-Null Count  Dtype  \n",
      "---  ------           --------------  -----  \n",
      " 0   name             16444 non-null  object \n",
      " 1   platform         16444 non-null  object \n",
      " 2   year_of_release  16444 non-null  int32  \n",
      " 3   genre            16444 non-null  object \n",
      " 4   na_sales         16444 non-null  float64\n",
      " 5   eu_sales         16444 non-null  float64\n",
      " 6   jp_sales         16444 non-null  float64\n",
      " 7   other_sales      16444 non-null  float64\n",
      " 8   critic_score     7983 non-null   float64\n",
      " 9   user_score       7463 non-null   float64\n",
      " 10  rating           16444 non-null  object \n",
      "dtypes: float64(6), int32(1), object(4)\n",
      "memory usage: 1.4+ MB\n"
     ]
    }
   ],
   "source": [
    "data['year_of_release'] = data['year_of_release'].astype('int') # Замена типа данных\n",
    "data['user_score'] = pd.to_numeric(data['user_score'])\n",
    "data.info()"
   ]
  },
  {
   "cell_type": "markdown",
   "id": "8f3d7991",
   "metadata": {},
   "source": [
    "Проверим датасет на наличие дубликатов"
   ]
  },
  {
   "cell_type": "code",
   "execution_count": 30,
   "id": "2227dbd3",
   "metadata": {},
   "outputs": [
    {
     "data": {
      "text/plain": [
       "0"
      ]
     },
     "execution_count": 30,
     "metadata": {},
     "output_type": "execute_result"
    }
   ],
   "source": [
    "data.duplicated().sum() # Поиск дубликатов"
   ]
  },
  {
   "cell_type": "markdown",
   "id": "78001f73",
   "metadata": {},
   "source": [
    "Посчитаем суммарные продажи во всех регионах и запишем их в отдельный столбец `total_sales`"
   ]
  },
  {
   "cell_type": "code",
   "execution_count": 31,
   "id": "2da01635",
   "metadata": {},
   "outputs": [],
   "source": [
    "data['total_sales'] = data['na_sales'] + data['eu_sales'] + data['jp_sales'] + data['other_sales'] # Создание дополнительного столбца"
   ]
  },
  {
   "cell_type": "markdown",
   "id": "1988e326",
   "metadata": {},
   "source": [
    "Проверим получившийся результат"
   ]
  },
  {
   "cell_type": "code",
   "execution_count": 32,
   "id": "177e6a4b",
   "metadata": {},
   "outputs": [
    {
     "data": {
      "text/html": [
       "<div>\n",
       "<style scoped>\n",
       "    .dataframe tbody tr th:only-of-type {\n",
       "        vertical-align: middle;\n",
       "    }\n",
       "\n",
       "    .dataframe tbody tr th {\n",
       "        vertical-align: top;\n",
       "    }\n",
       "\n",
       "    .dataframe thead th {\n",
       "        text-align: right;\n",
       "    }\n",
       "</style>\n",
       "<table border=\"1\" class=\"dataframe\">\n",
       "  <thead>\n",
       "    <tr style=\"text-align: right;\">\n",
       "      <th></th>\n",
       "      <th>name</th>\n",
       "      <th>platform</th>\n",
       "      <th>year_of_release</th>\n",
       "      <th>genre</th>\n",
       "      <th>na_sales</th>\n",
       "      <th>eu_sales</th>\n",
       "      <th>jp_sales</th>\n",
       "      <th>other_sales</th>\n",
       "      <th>critic_score</th>\n",
       "      <th>user_score</th>\n",
       "      <th>rating</th>\n",
       "      <th>total_sales</th>\n",
       "    </tr>\n",
       "  </thead>\n",
       "  <tbody>\n",
       "    <tr>\n",
       "      <th>0</th>\n",
       "      <td>Wii Sports</td>\n",
       "      <td>Wii</td>\n",
       "      <td>2006</td>\n",
       "      <td>Sports</td>\n",
       "      <td>41.36</td>\n",
       "      <td>28.96</td>\n",
       "      <td>3.77</td>\n",
       "      <td>8.45</td>\n",
       "      <td>76.0</td>\n",
       "      <td>8.0</td>\n",
       "      <td>E</td>\n",
       "      <td>82.54</td>\n",
       "    </tr>\n",
       "    <tr>\n",
       "      <th>1</th>\n",
       "      <td>Super Mario Bros.</td>\n",
       "      <td>NES</td>\n",
       "      <td>1985</td>\n",
       "      <td>Platform</td>\n",
       "      <td>29.08</td>\n",
       "      <td>3.58</td>\n",
       "      <td>6.81</td>\n",
       "      <td>0.77</td>\n",
       "      <td>NaN</td>\n",
       "      <td>NaN</td>\n",
       "      <td>Unknown</td>\n",
       "      <td>40.24</td>\n",
       "    </tr>\n",
       "    <tr>\n",
       "      <th>2</th>\n",
       "      <td>Mario Kart Wii</td>\n",
       "      <td>Wii</td>\n",
       "      <td>2008</td>\n",
       "      <td>Racing</td>\n",
       "      <td>15.68</td>\n",
       "      <td>12.76</td>\n",
       "      <td>3.79</td>\n",
       "      <td>3.29</td>\n",
       "      <td>82.0</td>\n",
       "      <td>8.3</td>\n",
       "      <td>E</td>\n",
       "      <td>35.52</td>\n",
       "    </tr>\n",
       "    <tr>\n",
       "      <th>3</th>\n",
       "      <td>Wii Sports Resort</td>\n",
       "      <td>Wii</td>\n",
       "      <td>2009</td>\n",
       "      <td>Sports</td>\n",
       "      <td>15.61</td>\n",
       "      <td>10.93</td>\n",
       "      <td>3.28</td>\n",
       "      <td>2.95</td>\n",
       "      <td>80.0</td>\n",
       "      <td>8.0</td>\n",
       "      <td>E</td>\n",
       "      <td>32.77</td>\n",
       "    </tr>\n",
       "    <tr>\n",
       "      <th>4</th>\n",
       "      <td>Pokemon Red/Pokemon Blue</td>\n",
       "      <td>GB</td>\n",
       "      <td>1996</td>\n",
       "      <td>Role-Playing</td>\n",
       "      <td>11.27</td>\n",
       "      <td>8.89</td>\n",
       "      <td>10.22</td>\n",
       "      <td>1.00</td>\n",
       "      <td>NaN</td>\n",
       "      <td>NaN</td>\n",
       "      <td>Unknown</td>\n",
       "      <td>31.38</td>\n",
       "    </tr>\n",
       "  </tbody>\n",
       "</table>\n",
       "</div>"
      ],
      "text/plain": [
       "                       name platform  year_of_release         genre  na_sales  \\\n",
       "0                Wii Sports      Wii             2006        Sports     41.36   \n",
       "1         Super Mario Bros.      NES             1985      Platform     29.08   \n",
       "2            Mario Kart Wii      Wii             2008        Racing     15.68   \n",
       "3         Wii Sports Resort      Wii             2009        Sports     15.61   \n",
       "4  Pokemon Red/Pokemon Blue       GB             1996  Role-Playing     11.27   \n",
       "\n",
       "   eu_sales  jp_sales  other_sales  critic_score  user_score   rating  \\\n",
       "0     28.96      3.77         8.45          76.0         8.0        E   \n",
       "1      3.58      6.81         0.77           NaN         NaN  Unknown   \n",
       "2     12.76      3.79         3.29          82.0         8.3        E   \n",
       "3     10.93      3.28         2.95          80.0         8.0        E   \n",
       "4      8.89     10.22         1.00           NaN         NaN  Unknown   \n",
       "\n",
       "   total_sales  \n",
       "0        82.54  \n",
       "1        40.24  \n",
       "2        35.52  \n",
       "3        32.77  \n",
       "4        31.38  "
      ]
     },
     "execution_count": 32,
     "metadata": {},
     "output_type": "execute_result"
    }
   ],
   "source": [
    "data.head()"
   ]
  },
  {
   "cell_type": "markdown",
   "id": "1b652800",
   "metadata": {},
   "source": [
    "## Вывод"
   ]
  },
  {
   "cell_type": "markdown",
   "id": "43e34d7e",
   "metadata": {},
   "source": [
    "В ходе предобработки данных были выполнены следующие шаги:\n",
    "\n",
    "- В столбце `name` и `year_of_release` удалены пропущенные значения, так как их количество ко всему датасету было допустимо мало\n",
    "- В столбцах `critic_score`, `user_score` пропущенные значения были заполнены нулями. Так же в столбце `user_score` было найдено значение строкового типа `tbd` - аббревиатура от английского To Be Determined (будет определено) или To Be Decided (будет решено), которое так же было заменено на 0\n",
    "- В столбце `rating` пропущенные значения были заменены на `Unknown`\n",
    "- В столбцах `year_of_release` и `user_score` были заменены типы данных на `int` и `float` соответственно\n",
    "- Добавлен столбец `total_sales`, который отражает суммарные продажи по всех регионам для каждой игры"
   ]
  },
  {
   "cell_type": "markdown",
   "id": "429bf7df",
   "metadata": {},
   "source": [
    "# Исследовательский анализ данных"
   ]
  },
  {
   "cell_type": "markdown",
   "id": "2889e691",
   "metadata": {},
   "source": [
    "Посмотрим сколько игр выпускалось в разные годы"
   ]
  },
  {
   "cell_type": "code",
   "execution_count": 33,
   "id": "8b5ea4c6",
   "metadata": {},
   "outputs": [
    {
     "data": {
      "image/png": "[encoded data removed]",
      "text/plain": [
       "<Figure size 1152x504 with 1 Axes>"
      ]
     },
     "metadata": {
      "needs_background": "light"
     },
     "output_type": "display_data"
    }
   ],
   "source": [
    "data.groupby('year_of_release').agg({'name':'count'}). \\\n",
    "plot(y='name', kind='bar',figsize=(16,7), title='Количество игр по годам', grid=True);\n",
    "\n",
    "# Построение столбчатой диаграммы"
   ]
  },
  {
   "cell_type": "markdown",
   "id": "38b9eba8",
   "metadata": {},
   "source": [
    "По графику можно заметить, что начиная с 1980 и до, приблизительно, 1993 года игр выпускалось сравнительно мало.\n",
    "\n",
    "Максимальное количество выпущенных игр было зафиксированно в 2008 и 2009 года"
   ]
  },
  {
   "cell_type": "markdown",
   "id": "8d335a72",
   "metadata": {},
   "source": [
    "Посмотрим зависимость продажи по платформам"
   ]
  },
  {
   "cell_type": "code",
   "execution_count": 34,
   "id": "a7019c3c",
   "metadata": {},
   "outputs": [
    {
     "data": {
      "image/png": "[encoded data removed]",
      "text/plain": [
       "<Figure size 1152x504 with 1 Axes>"
      ]
     },
     "metadata": {
      "needs_background": "light"
     },
     "output_type": "display_data"
    }
   ],
   "source": [
    "data.groupby('platform').agg({'total_sales':'sum'}).sort_values(by='total_sales', ascending=False). \\\n",
    "plot(y='total_sales', kind='bar',figsize=(16,7), title='Зависимость продаж по платформам', grid=True);\n",
    "\n",
    "# Построение столбчатой диаграммы"
   ]
  },
  {
   "cell_type": "markdown",
   "id": "918db8f5",
   "metadata": {},
   "source": [
    "Игры на платформы PS2, X360, Wii, PS3, DS, PS являются самыми продаваемыми за все время.\n",
    "\n",
    "Для каждой из них построим распределение по годам"
   ]
  },
  {
   "cell_type": "code",
   "execution_count": 35,
   "id": "2f4989e0",
   "metadata": {
    "scrolled": false
   },
   "outputs": [
    {
     "data": {
      "image/png": "[encoded data removed]",
      "text/plain": [
       "<Figure size 1152x504 with 1 Axes>"
      ]
     },
     "metadata": {
      "needs_background": "light"
     },
     "output_type": "display_data"
    },
    {
     "data": {
      "image/png": "[encoded data removed]",
      "text/plain": [
       "<Figure size 1152x504 with 1 Axes>"
      ]
     },
     "metadata": {
      "needs_background": "light"
     },
     "output_type": "display_data"
    },
    {
     "data": {
      "image/png": "[encoded data removed]",
      "text/plain": [
       "<Figure size 1152x504 with 1 Axes>"
      ]
     },
     "metadata": {
      "needs_background": "light"
     },
     "output_type": "display_data"
    },
    {
     "data": {
      "image/png": "[encoded data removed]",
      "text/plain": [
       "<Figure size 1152x504 with 1 Axes>"
      ]
     },
     "metadata": {
      "needs_background": "light"
     },
     "output_type": "display_data"
    },
    {
     "data": {
      "image/png": "[encoded data removed]",
      "text/plain": [
       "<Figure size 1152x504 with 1 Axes>"
      ]
     },
     "metadata": {
      "needs_background": "light"
     },
     "output_type": "display_data"
    },
    {
     "data": {
      "image/png": "[encoded data removed]",
      "text/plain": [
       "<Figure size 1152x504 with 1 Axes>"
      ]
     },
     "metadata": {
      "needs_background": "light"
     },
     "output_type": "display_data"
    }
   ],
   "source": [
    "best_platforms = ['PS2', 'X360', 'Wii', 'PS3', 'DS', 'PS']\n",
    "\n",
    "for best_platform in best_platforms:\n",
    "    data.query('platform in @best_platform').groupby('year_of_release').agg({'platform':'count'}). \\\n",
    "    plot(y='platform', kind='bar',figsize=(16,7), title='Количество игр на приставку '+ best_platform + ' по годам', grid=True)\n",
    "    \n",
    "# Построение столбчатых диаграмм для каждой платформы"
   ]
  },
  {
   "cell_type": "markdown",
   "id": "a0c1a8cf",
   "metadata": {},
   "source": [
    "По графикам можно заметить, что средняя \"продолжительность жизни\" каждой из платформ составляет примерно 10 лет.\n",
    "\n",
    "Соответсвенно сделаем новый датасет, в котором будут отражены только релевантные платформы, продажа игр на которых может принести прибыль интернет-магазину \"Стримчик\".\n",
    "\n",
    "Сделаем срез по данным, возьмём половину \"продолжительности жизни\" каждой из платформ и будем использовать данные только за 2012 год и дальше"
   ]
  },
  {
   "cell_type": "code",
   "execution_count": 37,
   "id": "2d62a252",
   "metadata": {
    "scrolled": false
   },
   "outputs": [
    {
     "data": {
      "text/html": [
       "<div>\n",
       "<style scoped>\n",
       "    .dataframe tbody tr th:only-of-type {\n",
       "        vertical-align: middle;\n",
       "    }\n",
       "\n",
       "    .dataframe tbody tr th {\n",
       "        vertical-align: top;\n",
       "    }\n",
       "\n",
       "    .dataframe thead th {\n",
       "        text-align: right;\n",
       "    }\n",
       "</style>\n",
       "<table border=\"1\" class=\"dataframe\">\n",
       "  <thead>\n",
       "    <tr style=\"text-align: right;\">\n",
       "      <th></th>\n",
       "      <th>name</th>\n",
       "      <th>platform</th>\n",
       "      <th>year_of_release</th>\n",
       "      <th>genre</th>\n",
       "      <th>na_sales</th>\n",
       "      <th>eu_sales</th>\n",
       "      <th>jp_sales</th>\n",
       "      <th>other_sales</th>\n",
       "      <th>critic_score</th>\n",
       "      <th>user_score</th>\n",
       "      <th>rating</th>\n",
       "      <th>total_sales</th>\n",
       "    </tr>\n",
       "  </thead>\n",
       "  <tbody>\n",
       "    <tr>\n",
       "      <th>16</th>\n",
       "      <td>Grand Theft Auto V</td>\n",
       "      <td>PS3</td>\n",
       "      <td>2013</td>\n",
       "      <td>Action</td>\n",
       "      <td>7.02</td>\n",
       "      <td>9.09</td>\n",
       "      <td>0.98</td>\n",
       "      <td>3.96</td>\n",
       "      <td>97.0</td>\n",
       "      <td>8.2</td>\n",
       "      <td>M</td>\n",
       "      <td>21.05</td>\n",
       "    </tr>\n",
       "    <tr>\n",
       "      <th>23</th>\n",
       "      <td>Grand Theft Auto V</td>\n",
       "      <td>X360</td>\n",
       "      <td>2013</td>\n",
       "      <td>Action</td>\n",
       "      <td>9.66</td>\n",
       "      <td>5.14</td>\n",
       "      <td>0.06</td>\n",
       "      <td>1.41</td>\n",
       "      <td>97.0</td>\n",
       "      <td>8.1</td>\n",
       "      <td>M</td>\n",
       "      <td>16.27</td>\n",
       "    </tr>\n",
       "    <tr>\n",
       "      <th>31</th>\n",
       "      <td>Call of Duty: Black Ops 3</td>\n",
       "      <td>PS4</td>\n",
       "      <td>2015</td>\n",
       "      <td>Shooter</td>\n",
       "      <td>6.03</td>\n",
       "      <td>5.86</td>\n",
       "      <td>0.36</td>\n",
       "      <td>2.38</td>\n",
       "      <td>NaN</td>\n",
       "      <td>NaN</td>\n",
       "      <td>Unknown</td>\n",
       "      <td>14.63</td>\n",
       "    </tr>\n",
       "    <tr>\n",
       "      <th>33</th>\n",
       "      <td>Pokemon X/Pokemon Y</td>\n",
       "      <td>3DS</td>\n",
       "      <td>2013</td>\n",
       "      <td>Role-Playing</td>\n",
       "      <td>5.28</td>\n",
       "      <td>4.19</td>\n",
       "      <td>4.35</td>\n",
       "      <td>0.78</td>\n",
       "      <td>NaN</td>\n",
       "      <td>NaN</td>\n",
       "      <td>Unknown</td>\n",
       "      <td>14.60</td>\n",
       "    </tr>\n",
       "    <tr>\n",
       "      <th>34</th>\n",
       "      <td>Call of Duty: Black Ops II</td>\n",
       "      <td>PS3</td>\n",
       "      <td>2012</td>\n",
       "      <td>Shooter</td>\n",
       "      <td>4.99</td>\n",
       "      <td>5.73</td>\n",
       "      <td>0.65</td>\n",
       "      <td>2.42</td>\n",
       "      <td>83.0</td>\n",
       "      <td>5.3</td>\n",
       "      <td>M</td>\n",
       "      <td>13.79</td>\n",
       "    </tr>\n",
       "  </tbody>\n",
       "</table>\n",
       "</div>"
      ],
      "text/plain": [
       "                          name platform  year_of_release         genre  \\\n",
       "16          Grand Theft Auto V      PS3             2013        Action   \n",
       "23          Grand Theft Auto V     X360             2013        Action   \n",
       "31   Call of Duty: Black Ops 3      PS4             2015       Shooter   \n",
       "33         Pokemon X/Pokemon Y      3DS             2013  Role-Playing   \n",
       "34  Call of Duty: Black Ops II      PS3             2012       Shooter   \n",
       "\n",
       "    na_sales  eu_sales  jp_sales  other_sales  critic_score  user_score  \\\n",
       "16      7.02      9.09      0.98         3.96          97.0         8.2   \n",
       "23      9.66      5.14      0.06         1.41          97.0         8.1   \n",
       "31      6.03      5.86      0.36         2.38           NaN         NaN   \n",
       "33      5.28      4.19      4.35         0.78           NaN         NaN   \n",
       "34      4.99      5.73      0.65         2.42          83.0         5.3   \n",
       "\n",
       "     rating  total_sales  \n",
       "16        M        21.05  \n",
       "23        M        16.27  \n",
       "31  Unknown        14.63  \n",
       "33  Unknown        14.60  \n",
       "34        M        13.79  "
      ]
     },
     "execution_count": 37,
     "metadata": {},
     "output_type": "execute_result"
    }
   ],
   "source": [
    "relevant_data = data[data['year_of_release'] >= 2012] # Срез данных\n",
    "relevant_data.head()"
   ]
  },
  {
   "cell_type": "markdown",
   "id": "04074894",
   "metadata": {},
   "source": [
    "По новым данным найдём какие платформы лидируют по продажам"
   ]
  },
  {
   "cell_type": "code",
   "execution_count": 39,
   "id": "72242761",
   "metadata": {},
   "outputs": [
    {
     "data": {
      "text/html": [
       "<div>\n",
       "<style scoped>\n",
       "    .dataframe tbody tr th:only-of-type {\n",
       "        vertical-align: middle;\n",
       "    }\n",
       "\n",
       "    .dataframe tbody tr th {\n",
       "        vertical-align: top;\n",
       "    }\n",
       "\n",
       "    .dataframe thead th {\n",
       "        text-align: right;\n",
       "    }\n",
       "</style>\n",
       "<table border=\"1\" class=\"dataframe\">\n",
       "  <thead>\n",
       "    <tr style=\"text-align: right;\">\n",
       "      <th>platform</th>\n",
       "      <th>3DS</th>\n",
       "      <th>DS</th>\n",
       "      <th>PC</th>\n",
       "      <th>PS3</th>\n",
       "      <th>PS4</th>\n",
       "      <th>PSP</th>\n",
       "      <th>PSV</th>\n",
       "      <th>Wii</th>\n",
       "      <th>WiiU</th>\n",
       "      <th>X360</th>\n",
       "      <th>XOne</th>\n",
       "    </tr>\n",
       "    <tr>\n",
       "      <th>year_of_release</th>\n",
       "      <th></th>\n",
       "      <th></th>\n",
       "      <th></th>\n",
       "      <th></th>\n",
       "      <th></th>\n",
       "      <th></th>\n",
       "      <th></th>\n",
       "      <th></th>\n",
       "      <th></th>\n",
       "      <th></th>\n",
       "      <th></th>\n",
       "    </tr>\n",
       "  </thead>\n",
       "  <tbody>\n",
       "    <tr>\n",
       "      <th>2012</th>\n",
       "      <td>51.36</td>\n",
       "      <td>11.01</td>\n",
       "      <td>23.22</td>\n",
       "      <td>107.36</td>\n",
       "      <td>NaN</td>\n",
       "      <td>7.69</td>\n",
       "      <td>16.19</td>\n",
       "      <td>21.71</td>\n",
       "      <td>17.56</td>\n",
       "      <td>99.74</td>\n",
       "      <td>NaN</td>\n",
       "    </tr>\n",
       "    <tr>\n",
       "      <th>2013</th>\n",
       "      <td>56.57</td>\n",
       "      <td>1.54</td>\n",
       "      <td>12.38</td>\n",
       "      <td>113.25</td>\n",
       "      <td>25.99</td>\n",
       "      <td>3.14</td>\n",
       "      <td>10.59</td>\n",
       "      <td>8.59</td>\n",
       "      <td>21.65</td>\n",
       "      <td>88.58</td>\n",
       "      <td>18.96</td>\n",
       "    </tr>\n",
       "    <tr>\n",
       "      <th>2014</th>\n",
       "      <td>43.76</td>\n",
       "      <td>NaN</td>\n",
       "      <td>13.28</td>\n",
       "      <td>47.76</td>\n",
       "      <td>100.00</td>\n",
       "      <td>0.24</td>\n",
       "      <td>11.90</td>\n",
       "      <td>3.75</td>\n",
       "      <td>22.03</td>\n",
       "      <td>34.74</td>\n",
       "      <td>54.07</td>\n",
       "    </tr>\n",
       "    <tr>\n",
       "      <th>2015</th>\n",
       "      <td>27.78</td>\n",
       "      <td>NaN</td>\n",
       "      <td>8.52</td>\n",
       "      <td>16.82</td>\n",
       "      <td>118.90</td>\n",
       "      <td>0.12</td>\n",
       "      <td>6.25</td>\n",
       "      <td>1.14</td>\n",
       "      <td>16.35</td>\n",
       "      <td>11.96</td>\n",
       "      <td>60.14</td>\n",
       "    </tr>\n",
       "    <tr>\n",
       "      <th>2016</th>\n",
       "      <td>15.14</td>\n",
       "      <td>NaN</td>\n",
       "      <td>5.25</td>\n",
       "      <td>3.60</td>\n",
       "      <td>69.25</td>\n",
       "      <td>NaN</td>\n",
       "      <td>4.25</td>\n",
       "      <td>0.18</td>\n",
       "      <td>4.60</td>\n",
       "      <td>1.52</td>\n",
       "      <td>26.15</td>\n",
       "    </tr>\n",
       "  </tbody>\n",
       "</table>\n",
       "</div>"
      ],
      "text/plain": [
       "platform           3DS     DS     PC     PS3     PS4   PSP    PSV    Wii  \\\n",
       "year_of_release                                                            \n",
       "2012             51.36  11.01  23.22  107.36     NaN  7.69  16.19  21.71   \n",
       "2013             56.57   1.54  12.38  113.25   25.99  3.14  10.59   8.59   \n",
       "2014             43.76    NaN  13.28   47.76  100.00  0.24  11.90   3.75   \n",
       "2015             27.78    NaN   8.52   16.82  118.90  0.12   6.25   1.14   \n",
       "2016             15.14    NaN   5.25    3.60   69.25   NaN   4.25   0.18   \n",
       "\n",
       "platform          WiiU   X360   XOne  \n",
       "year_of_release                       \n",
       "2012             17.56  99.74    NaN  \n",
       "2013             21.65  88.58  18.96  \n",
       "2014             22.03  34.74  54.07  \n",
       "2015             16.35  11.96  60.14  \n",
       "2016              4.60   1.52  26.15  "
      ]
     },
     "execution_count": 39,
     "metadata": {},
     "output_type": "execute_result"
    }
   ],
   "source": [
    "\n",
    "pivot_relevant_data = relevant_data.pivot_table \\\n",
    "(index='year_of_release', columns='platform', values='total_sales', aggfunc='sum')\n",
    "pivot_relevant_data\n",
    "\n",
    "# Построение сводной таблицы"
   ]
  },
  {
   "cell_type": "code",
   "execution_count": 41,
   "id": "533c1a54",
   "metadata": {},
   "outputs": [
    {
     "data": {
      "image/png": "[encoded data removed]",
      "text/plain": [
       "<Figure size 1152x648 with 1 Axes>"
      ]
     },
     "metadata": {
      "needs_background": "light"
     },
     "output_type": "display_data"
    }
   ],
   "source": [
    "pivot_relevant_data.plot(figsize=(16,9), grid=True);"
   ]
  },
  {
   "cell_type": "markdown",
   "id": "d5341a98",
   "metadata": {},
   "source": [
    "По сводной таблице и графику заметны следующие особенности:\n",
    "\n",
    "- Лидирующие позиции по продажам к 2016 году занимают платформы `XOne`, `PS4`, `3DS`\n",
    "- Прослеживается общая тенденция спада продаж игр на платформах"
   ]
  },
  {
   "cell_type": "markdown",
   "id": "c962872c",
   "metadata": {},
   "source": [
    "Построим диаграмму размаха для платформ `XOne`, `PS4`, `3DS`"
   ]
  },
  {
   "cell_type": "code",
   "execution_count": 43,
   "id": "8d0d4fbf",
   "metadata": {},
   "outputs": [
    {
     "data": {
      "image/png": "[encoded data removed]",
      "text/plain": [
       "<Figure size 1080x720 with 1 Axes>"
      ]
     },
     "metadata": {
      "needs_background": "light"
     },
     "output_type": "display_data"
    }
   ],
   "source": [
    "c = sns.boxplot(x=\"platform\", y=\"total_sales\", data=relevant_data.query('platform in [\"XOne\",\"PS4\",\"3DS\"]')) \n",
    "c.figure.set_figwidth(15)\n",
    "c.figure.set_figheight(10)\n",
    "plt.ylim(0,2);\n",
    "\n",
    "# Построение ящика с усами"
   ]
  },
  {
   "cell_type": "markdown",
   "id": "84245137",
   "metadata": {},
   "source": [
    "Построим такие же диаграммы размаха для всех платформ"
   ]
  },
  {
   "cell_type": "code",
   "execution_count": 46,
   "id": "aa985300",
   "metadata": {},
   "outputs": [
    {
     "data": {
      "image/png": "[encoded data removed]",
      "text/plain": [
       "<Figure size 1080x720 with 1 Axes>"
      ]
     },
     "metadata": {
      "needs_background": "light"
     },
     "output_type": "display_data"
    }
   ],
   "source": [
    "c = sns.boxplot(x=\"platform\", y=\"total_sales\", data=relevant_data)\n",
    "c.figure.set_figwidth(15)\n",
    "c.figure.set_figheight(10)\n",
    "\n",
    "# Построение ящика с усами"
   ]
  },
  {
   "cell_type": "markdown",
   "id": "940ccc0d",
   "metadata": {},
   "source": [
    "Черные точки на графике обозначают выбросы - нехарактерные значения того или иного признака. Обычно выбросы выбиваются из нормального распределения.\n",
    "\n",
    "Таким образом можем заметить, что абсолютным рекорсдменом по количеству проданных копий одной игры является платформа `PS3`"
   ]
  },
  {
   "cell_type": "markdown",
   "id": "f778811a",
   "metadata": {},
   "source": [
    "Посмотрим, как влияют на продажи внутри одной популярной платформы отзывы пользователей и критиков.\n",
    "\n",
    "Построим диаграмму рессеяния и посчитаем коэффициент корреляции между отзывами и продажами.\n",
    "\n",
    "В качестве популярной платформы выберем - `PS4`"
   ]
  },
  {
   "cell_type": "code",
   "execution_count": 47,
   "id": "22262040",
   "metadata": {
    "scrolled": false
   },
   "outputs": [
    {
     "data": {
      "image/png": "[encoded data removed]",
      "text/plain": [
       "<Figure size 1152x504 with 9 Axes>"
      ]
     },
     "metadata": {
      "needs_background": "light"
     },
     "output_type": "display_data"
    }
   ],
   "source": [
    "pd.plotting.scatter_matrix(relevant_data.query('platform == \"PS4\"')\n",
    "                           [['critic_score', 'user_score','total_sales']],figsize=(16,7));\n",
    "\n",
    "# Строим парные диаграммы рассеяния"
   ]
  },
  {
   "cell_type": "markdown",
   "id": "b211088f",
   "metadata": {},
   "source": [
    "Коэффициент корреляции Пирсона между всеми парами столбцов"
   ]
  },
  {
   "cell_type": "code",
   "execution_count": 48,
   "id": "5ea4bcba",
   "metadata": {},
   "outputs": [
    {
     "data": {
      "text/html": [
       "<div>\n",
       "<style scoped>\n",
       "    .dataframe tbody tr th:only-of-type {\n",
       "        vertical-align: middle;\n",
       "    }\n",
       "\n",
       "    .dataframe tbody tr th {\n",
       "        vertical-align: top;\n",
       "    }\n",
       "\n",
       "    .dataframe thead th {\n",
       "        text-align: right;\n",
       "    }\n",
       "</style>\n",
       "<table border=\"1\" class=\"dataframe\">\n",
       "  <thead>\n",
       "    <tr style=\"text-align: right;\">\n",
       "      <th></th>\n",
       "      <th>critic_score</th>\n",
       "      <th>user_score</th>\n",
       "      <th>total_sales</th>\n",
       "    </tr>\n",
       "  </thead>\n",
       "  <tbody>\n",
       "    <tr>\n",
       "      <th>critic_score</th>\n",
       "      <td>1.000000</td>\n",
       "      <td>0.557654</td>\n",
       "      <td>0.406568</td>\n",
       "    </tr>\n",
       "    <tr>\n",
       "      <th>user_score</th>\n",
       "      <td>0.557654</td>\n",
       "      <td>1.000000</td>\n",
       "      <td>-0.031957</td>\n",
       "    </tr>\n",
       "    <tr>\n",
       "      <th>total_sales</th>\n",
       "      <td>0.406568</td>\n",
       "      <td>-0.031957</td>\n",
       "      <td>1.000000</td>\n",
       "    </tr>\n",
       "  </tbody>\n",
       "</table>\n",
       "</div>"
      ],
      "text/plain": [
       "              critic_score  user_score  total_sales\n",
       "critic_score      1.000000    0.557654     0.406568\n",
       "user_score        0.557654    1.000000    -0.031957\n",
       "total_sales       0.406568   -0.031957     1.000000"
      ]
     },
     "execution_count": 48,
     "metadata": {},
     "output_type": "execute_result"
    }
   ],
   "source": [
    "relevant_data.query('platform == \"PS4\"')[['critic_score', 'user_score','total_sales']].corr() \n",
    "\n",
    "# Коэффициент корреляции Пирсона между всеми парами столбцов"
   ]
  },
  {
   "cell_type": "markdown",
   "id": "4f47700f",
   "metadata": {},
   "source": [
    "Таким образом, корреляция между `total_sales` и `user_score` равняется примерно -0.03, а между `total_sales` и `critic_score`  0.40"
   ]
  },
  {
   "cell_type": "markdown",
   "id": "a8f6d5d6",
   "metadata": {},
   "source": [
    "Построим диаграмму рессеяния и посчитаем коэффициент корреляции между отзывами и продажами для платформы `Xone`"
   ]
  },
  {
   "cell_type": "code",
   "execution_count": 49,
   "id": "0b994193",
   "metadata": {},
   "outputs": [
    {
     "data": {
      "image/png": "[encoded data removed]",
      "text/plain": [
       "<Figure size 1152x504 with 9 Axes>"
      ]
     },
     "metadata": {
      "needs_background": "light"
     },
     "output_type": "display_data"
    }
   ],
   "source": [
    "pd.plotting.scatter_matrix(relevant_data.query('platform == \"XOne\"')\n",
    "                           [['critic_score', 'user_score','total_sales']],figsize=(16,7));\n",
    "\n",
    "# Строим парные диаграммы рассеяния"
   ]
  },
  {
   "cell_type": "markdown",
   "id": "db841ef7",
   "metadata": {},
   "source": [
    "Коэффициент корреляции "
   ]
  },
  {
   "cell_type": "code",
   "execution_count": 50,
   "id": "a5dc2382",
   "metadata": {},
   "outputs": [
    {
     "data": {
      "text/html": [
       "<div>\n",
       "<style scoped>\n",
       "    .dataframe tbody tr th:only-of-type {\n",
       "        vertical-align: middle;\n",
       "    }\n",
       "\n",
       "    .dataframe tbody tr th {\n",
       "        vertical-align: top;\n",
       "    }\n",
       "\n",
       "    .dataframe thead th {\n",
       "        text-align: right;\n",
       "    }\n",
       "</style>\n",
       "<table border=\"1\" class=\"dataframe\">\n",
       "  <thead>\n",
       "    <tr style=\"text-align: right;\">\n",
       "      <th></th>\n",
       "      <th>critic_score</th>\n",
       "      <th>user_score</th>\n",
       "      <th>total_sales</th>\n",
       "    </tr>\n",
       "  </thead>\n",
       "  <tbody>\n",
       "    <tr>\n",
       "      <th>critic_score</th>\n",
       "      <td>1.000000</td>\n",
       "      <td>0.472462</td>\n",
       "      <td>0.416998</td>\n",
       "    </tr>\n",
       "    <tr>\n",
       "      <th>user_score</th>\n",
       "      <td>0.472462</td>\n",
       "      <td>1.000000</td>\n",
       "      <td>-0.068925</td>\n",
       "    </tr>\n",
       "    <tr>\n",
       "      <th>total_sales</th>\n",
       "      <td>0.416998</td>\n",
       "      <td>-0.068925</td>\n",
       "      <td>1.000000</td>\n",
       "    </tr>\n",
       "  </tbody>\n",
       "</table>\n",
       "</div>"
      ],
      "text/plain": [
       "              critic_score  user_score  total_sales\n",
       "critic_score      1.000000    0.472462     0.416998\n",
       "user_score        0.472462    1.000000    -0.068925\n",
       "total_sales       0.416998   -0.068925     1.000000"
      ]
     },
     "execution_count": 50,
     "metadata": {},
     "output_type": "execute_result"
    }
   ],
   "source": [
    "relevant_data.query('platform == \"XOne\"')[['critic_score', 'user_score','total_sales']].corr()\n",
    "\n",
    "# Коэффициент корреляции Пирсона между всеми парами столбцов"
   ]
  },
  {
   "cell_type": "markdown",
   "id": "840cfac3",
   "metadata": {},
   "source": [
    "Для платформы `XOne` коэффициент корреляции между `total_sales` и `user_score` равняется -0.06, для `total_sales` и `critic_score` равняется 0.41"
   ]
  },
  {
   "cell_type": "markdown",
   "id": "413968cb",
   "metadata": {},
   "source": [
    "Дополнительно построим диаграмму рессеяния и посчитаем коэффициент корреляции между отзывами и продажами для платформы `3DS\n",
    "` "
   ]
  },
  {
   "cell_type": "code",
   "execution_count": 51,
   "id": "a441fd09",
   "metadata": {},
   "outputs": [
    {
     "data": {
      "image/png": "[encoded data removed]",
      "text/plain": [
       "<Figure size 1152x504 with 9 Axes>"
      ]
     },
     "metadata": {
      "needs_background": "light"
     },
     "output_type": "display_data"
    }
   ],
   "source": [
    "pd.plotting.scatter_matrix(relevant_data.query('platform == \"3DS\"')\n",
    "                           [['critic_score', 'user_score','total_sales']],figsize=(16,7));\n",
    "\n",
    "# Строим парные диаграммы рассеяния"
   ]
  },
  {
   "cell_type": "markdown",
   "id": "5f40e7fb",
   "metadata": {},
   "source": [
    "Коэффициенты корреляции для платформы `3DS`"
   ]
  },
  {
   "cell_type": "code",
   "execution_count": 52,
   "id": "f9b2d67e",
   "metadata": {},
   "outputs": [
    {
     "data": {
      "text/html": [
       "<div>\n",
       "<style scoped>\n",
       "    .dataframe tbody tr th:only-of-type {\n",
       "        vertical-align: middle;\n",
       "    }\n",
       "\n",
       "    .dataframe tbody tr th {\n",
       "        vertical-align: top;\n",
       "    }\n",
       "\n",
       "    .dataframe thead th {\n",
       "        text-align: right;\n",
       "    }\n",
       "</style>\n",
       "<table border=\"1\" class=\"dataframe\">\n",
       "  <thead>\n",
       "    <tr style=\"text-align: right;\">\n",
       "      <th></th>\n",
       "      <th>critic_score</th>\n",
       "      <th>user_score</th>\n",
       "      <th>total_sales</th>\n",
       "    </tr>\n",
       "  </thead>\n",
       "  <tbody>\n",
       "    <tr>\n",
       "      <th>critic_score</th>\n",
       "      <td>1.000000</td>\n",
       "      <td>0.722762</td>\n",
       "      <td>0.320803</td>\n",
       "    </tr>\n",
       "    <tr>\n",
       "      <th>user_score</th>\n",
       "      <td>0.722762</td>\n",
       "      <td>1.000000</td>\n",
       "      <td>0.197583</td>\n",
       "    </tr>\n",
       "    <tr>\n",
       "      <th>total_sales</th>\n",
       "      <td>0.320803</td>\n",
       "      <td>0.197583</td>\n",
       "      <td>1.000000</td>\n",
       "    </tr>\n",
       "  </tbody>\n",
       "</table>\n",
       "</div>"
      ],
      "text/plain": [
       "              critic_score  user_score  total_sales\n",
       "critic_score      1.000000    0.722762     0.320803\n",
       "user_score        0.722762    1.000000     0.197583\n",
       "total_sales       0.320803    0.197583     1.000000"
      ]
     },
     "execution_count": 52,
     "metadata": {},
     "output_type": "execute_result"
    }
   ],
   "source": [
    "relevant_data.query('platform == \"3DS\"')[['critic_score', 'user_score','total_sales']].corr()\n",
    "\n",
    "# Коэффициент корреляции Пирсона между всеми парами столбцов"
   ]
  },
  {
   "cell_type": "markdown",
   "id": "6c797789",
   "metadata": {},
   "source": [
    "Для платформы `3DS` коэффициент корреляции между `total_sales` и `user_score` -  0.19, для `total_sales` и `critic_score` равняется 0.32"
   ]
  },
  {
   "cell_type": "markdown",
   "id": "9d0a9b06",
   "metadata": {},
   "source": [
    "Рассмотрим общее распределние игр по жанрам"
   ]
  },
  {
   "cell_type": "code",
   "execution_count": 53,
   "id": "5f57198d",
   "metadata": {},
   "outputs": [
    {
     "data": {
      "image/png": "[encoded data removed]",
      "text/plain": [
       "<Figure size 1152x648 with 1 Axes>"
      ]
     },
     "metadata": {
      "needs_background": "light"
     },
     "output_type": "display_data"
    }
   ],
   "source": [
    "relevant_data.groupby('genre').agg({'name':'count'}).sort_values('name', ascending=False) \\\n",
    ".plot(y='name',kind='bar',figsize=(16,9), grid=True);\n",
    "\n",
    "# Столбчатая диаграмма"
   ]
  },
  {
   "cell_type": "markdown",
   "id": "10e9fd19",
   "metadata": {},
   "source": [
    "Наиболее популярный жанр за последние 5 лет - `Action`.\n",
    "\n",
    "Определим самый прибыльный жанр"
   ]
  },
  {
   "cell_type": "code",
   "execution_count": 54,
   "id": "674d5f4b",
   "metadata": {},
   "outputs": [
    {
     "data": {
      "image/png": "[encoded data removed]",
      "text/plain": [
       "<Figure size 1152x648 with 1 Axes>"
      ]
     },
     "metadata": {
      "needs_background": "light"
     },
     "output_type": "display_data"
    }
   ],
   "source": [
    "relevant_data.groupby('genre').agg({'total_sales':'sum'}).sort_values('total_sales', ascending=False) \\\n",
    ".plot(y='total_sales',kind='bar',figsize=(16,9), grid=True);\n",
    "\n",
    "# Столбчатая диаграмма"
   ]
  },
  {
   "cell_type": "markdown",
   "id": "64d1d9cb",
   "metadata": {},
   "source": [
    "Из графика видно, что помимо того, что жанр `Action` является самый популярным, так ещё и самым успешным в продажах. после него идут жанры `Shooter` и `Role-Playing`.\n",
    "\n",
    "Наименьшей успешностью по продажа обладают жанры `Strategy` и `Puzzle`"
   ]
  },
  {
   "cell_type": "markdown",
   "id": "21c31e9c",
   "metadata": {},
   "source": [
    "Рассмотрим ситуацию, что экшн делает продажи только за счет большего количества игр и большого количества бестселлеров.Быть может, другие жанры имеют больше продаж в расчете на единицу игры."
   ]
  },
  {
   "cell_type": "markdown",
   "id": "6d4f4464",
   "metadata": {},
   "source": [
    "Создадим отдельный датафрейм, к которому добавим дополнительный столбец `relate_success`, в нем будет отражено суммарное количество продаж на единицу выпущенных игр"
   ]
  },
  {
   "cell_type": "code",
   "execution_count": 55,
   "id": "46fe7a1d",
   "metadata": {
    "scrolled": false
   },
   "outputs": [
    {
     "data": {
      "text/html": [
       "<div>\n",
       "<style scoped>\n",
       "    .dataframe tbody tr th:only-of-type {\n",
       "        vertical-align: middle;\n",
       "    }\n",
       "\n",
       "    .dataframe tbody tr th {\n",
       "        vertical-align: top;\n",
       "    }\n",
       "\n",
       "    .dataframe thead th {\n",
       "        text-align: right;\n",
       "    }\n",
       "</style>\n",
       "<table border=\"1\" class=\"dataframe\">\n",
       "  <thead>\n",
       "    <tr style=\"text-align: right;\">\n",
       "      <th></th>\n",
       "      <th>count_of_games</th>\n",
       "      <th>total_sales</th>\n",
       "      <th>relate_success</th>\n",
       "    </tr>\n",
       "    <tr>\n",
       "      <th>genre</th>\n",
       "      <th></th>\n",
       "      <th></th>\n",
       "      <th></th>\n",
       "    </tr>\n",
       "  </thead>\n",
       "  <tbody>\n",
       "    <tr>\n",
       "      <th>Action</th>\n",
       "      <td>1031</td>\n",
       "      <td>441.12</td>\n",
       "      <td>0.427856</td>\n",
       "    </tr>\n",
       "    <tr>\n",
       "      <th>Adventure</th>\n",
       "      <td>302</td>\n",
       "      <td>29.43</td>\n",
       "      <td>0.097450</td>\n",
       "    </tr>\n",
       "    <tr>\n",
       "      <th>Fighting</th>\n",
       "      <td>109</td>\n",
       "      <td>44.49</td>\n",
       "      <td>0.408165</td>\n",
       "    </tr>\n",
       "    <tr>\n",
       "      <th>Misc</th>\n",
       "      <td>192</td>\n",
       "      <td>85.04</td>\n",
       "      <td>0.442917</td>\n",
       "    </tr>\n",
       "    <tr>\n",
       "      <th>Platform</th>\n",
       "      <td>85</td>\n",
       "      <td>61.00</td>\n",
       "      <td>0.717647</td>\n",
       "    </tr>\n",
       "    <tr>\n",
       "      <th>Puzzle</th>\n",
       "      <td>28</td>\n",
       "      <td>4.89</td>\n",
       "      <td>0.174643</td>\n",
       "    </tr>\n",
       "    <tr>\n",
       "      <th>Racing</th>\n",
       "      <td>115</td>\n",
       "      <td>53.50</td>\n",
       "      <td>0.465217</td>\n",
       "    </tr>\n",
       "    <tr>\n",
       "      <th>Role-Playing</th>\n",
       "      <td>370</td>\n",
       "      <td>192.80</td>\n",
       "      <td>0.521081</td>\n",
       "    </tr>\n",
       "    <tr>\n",
       "      <th>Shooter</th>\n",
       "      <td>235</td>\n",
       "      <td>304.73</td>\n",
       "      <td>1.296723</td>\n",
       "    </tr>\n",
       "    <tr>\n",
       "      <th>Simulation</th>\n",
       "      <td>80</td>\n",
       "      <td>35.12</td>\n",
       "      <td>0.439000</td>\n",
       "    </tr>\n",
       "    <tr>\n",
       "      <th>Sports</th>\n",
       "      <td>268</td>\n",
       "      <td>181.07</td>\n",
       "      <td>0.675634</td>\n",
       "    </tr>\n",
       "    <tr>\n",
       "      <th>Strategy</th>\n",
       "      <td>71</td>\n",
       "      <td>13.34</td>\n",
       "      <td>0.187887</td>\n",
       "    </tr>\n",
       "  </tbody>\n",
       "</table>\n",
       "</div>"
      ],
      "text/plain": [
       "              count_of_games  total_sales  relate_success\n",
       "genre                                                    \n",
       "Action                  1031       441.12        0.427856\n",
       "Adventure                302        29.43        0.097450\n",
       "Fighting                 109        44.49        0.408165\n",
       "Misc                     192        85.04        0.442917\n",
       "Platform                  85        61.00        0.717647\n",
       "Puzzle                    28         4.89        0.174643\n",
       "Racing                   115        53.50        0.465217\n",
       "Role-Playing             370       192.80        0.521081\n",
       "Shooter                  235       304.73        1.296723\n",
       "Simulation                80        35.12        0.439000\n",
       "Sports                   268       181.07        0.675634\n",
       "Strategy                  71        13.34        0.187887"
      ]
     },
     "execution_count": 55,
     "metadata": {},
     "output_type": "execute_result"
    }
   ],
   "source": [
    "example_data = relevant_data.groupby('genre').agg({'name':'count','total_sales':'sum'}). \\\n",
    "rename(columns = ({'name':'count_of_games','total_sales':'total_sales'}))\n",
    "example_data['relate_success'] = example_data['total_sales']/example_data['count_of_games']\n",
    "example_data"
   ]
  },
  {
   "cell_type": "code",
   "execution_count": 56,
   "id": "ab3ab076",
   "metadata": {
    "scrolled": false
   },
   "outputs": [
    {
     "data": {
      "image/png": "[encoded data removed]",
      "text/plain": [
       "<Figure size 1152x648 with 1 Axes>"
      ]
     },
     "metadata": {
      "needs_background": "light"
     },
     "output_type": "display_data"
    }
   ],
   "source": [
    "example_data['relate_success'].sort_values(ascending=False).plot(y='relate_success', kind='bar',figsize=(16,9), grid=True);"
   ]
  },
  {
   "cell_type": "markdown",
   "id": "ed8e995c",
   "metadata": {},
   "source": [
    "Можем заметить, что в данном случае лидирующие позиции занимает жанр `Shooter`"
   ]
  },
  {
   "cell_type": "markdown",
   "id": "869c47cc",
   "metadata": {},
   "source": [
    "## Вывод"
   ]
  },
  {
   "cell_type": "markdown",
   "id": "1a2ebb7b",
   "metadata": {},
   "source": [
    "В ходе исследовательского анализа были выполнены следующие шаги:\n",
    "\n",
    "- Построили столбчатую диаграмму зависимости количества игр от года выпуска. По графику можно заметить, что начиная с 1980 и до, приблизительно, 1993 года игр выпускалось сравнительно мало. Максимальное количество выпущенных игр было зафиксированно в 2008 и 2009 года\n",
    "- Определили, что платформы PS2, X360, Wii, PS3, DS, PS являются самыми продаваемыми за все время. Для каждой из них построили распределение по годам выпуска и определили, что средняя \"продолжительность жизни\" каждой из платформ составляет примерно 5 лет. Сделали новый датасет, в котором были отражены только релевантные платформы, продажа игр на которых может принести прибыль интернет-магазину \"Стримчик\"\n",
    "- Лидирующие позиции по продажам к 2016 году занимают платформы XOne, PS4, 3DS\n",
    "- Прослеживается общая тенденция спада продаж игр на платформах\n",
    "- Построили диаграммы разамаха для всех существующих платформ. Опредилили, на платформе 3DS выходили игры, которые продавались тиражём максимально около 14 млн. копий.\n",
    "- Выяснили, что абсолютным рекорсдменом по количеству проданных копий одной игры является платформа PS3\n",
    "- Для платформ XOne, PS4, 3DS выявили как влияют на продажи отзывы пользователей и критиков.\n",
    "- Нашли самый популярный жанр в играх за последние 10 лет - `Action`\n",
    "- Определили, что помимо того, что жанр `Action` является самый популярным, так ещё и самым успешным по продажам. \n",
    "- Наименьшей успешностью в продажах обладают жанры `Puzzle` и `Strategy`\n",
    "- Так же провели дополнительное исследование, предположив, что жанр `Action` делает продажи только за счет большего количества игр и большого количества бестселлеров и, быть может, другие жанры имеют больше продаж в расчете на единицу игры. Исследование оказалось проведено не зря - мы выявили, что лидирующие позиции в этом случае занимает жанр `Shooter`\n",
    "\n",
    "\n",
    "\n",
    "    "
   ]
  },
  {
   "cell_type": "markdown",
   "id": "7f864358",
   "metadata": {},
   "source": [
    "# Портрет пользователя каждого региона"
   ]
  },
  {
   "cell_type": "markdown",
   "id": "6d9c268c",
   "metadata": {},
   "source": [
    "Определим для каждого региона топ 5 самых популярных платформ"
   ]
  },
  {
   "cell_type": "code",
   "execution_count": 57,
   "id": "df67646f",
   "metadata": {},
   "outputs": [
    {
     "data": {
      "image/png": "[encoded data removed]",
      "text/plain": [
       "<Figure size 1152x648 with 1 Axes>"
      ]
     },
     "metadata": {},
     "output_type": "display_data"
    },
    {
     "data": {
      "image/png": "[encoded data removed]",
      "text/plain": [
       "<Figure size 1152x648 with 1 Axes>"
      ]
     },
     "metadata": {},
     "output_type": "display_data"
    },
    {
     "data": {
      "image/png": "[encoded data removed]",
      "text/plain": [
       "<Figure size 1152x648 with 1 Axes>"
      ]
     },
     "metadata": {},
     "output_type": "display_data"
    }
   ],
   "source": [
    "regions = ['na_sales', 'eu_sales', 'jp_sales']\n",
    "name_of_region = ['Северной Америке', 'Европе', 'Японии']\n",
    "for i in range(len(regions)):\n",
    "    relevant_data.groupby('platform').agg({regions[i]:'sum'}).sort_values(by=regions[i],ascending=False).head(5) \\\n",
    "    .plot(y=regions[i], kind='pie',figsize=(16,9),autopct='%1.0f%%', legend=False, \n",
    "          title='Доля продаж игр по каждой платформы в '+ name_of_region[i]);\n",
    "\n",
    "# Строим круговые диаграммы по регионам"
   ]
  },
  {
   "cell_type": "markdown",
   "id": "1dd5c165",
   "metadata": {},
   "source": [
    "В Северной Америке лидирующие позиции на рынке плафторм занимает XOne, в Европе - PS3, в Японии наиболее популярные платформа - 3DS\n",
    "\n",
    "Наименее популярные платформы:\n",
    "- Северная Америка - PS4\n",
    "- Европа - PS4\n",
    "- Япония - Wii"
   ]
  },
  {
   "cell_type": "markdown",
   "id": "cbcee3e8",
   "metadata": {},
   "source": [
    "Для каждого региона определим самые популярные жанры"
   ]
  },
  {
   "cell_type": "code",
   "execution_count": 58,
   "id": "b1f74933",
   "metadata": {},
   "outputs": [
    {
     "data": {
      "image/png": "[encoded data removed]",
      "text/plain": [
       "<Figure size 1152x648 with 1 Axes>"
      ]
     },
     "metadata": {},
     "output_type": "display_data"
    },
    {
     "data": {
      "image/png": "[encoded data removed]",
      "text/plain": [
       "<Figure size 1152x648 with 1 Axes>"
      ]
     },
     "metadata": {},
     "output_type": "display_data"
    },
    {
     "data": {
      "image/png": "[encoded data removed]",
      "text/plain": [
       "<Figure size 1152x648 with 1 Axes>"
      ]
     },
     "metadata": {},
     "output_type": "display_data"
    }
   ],
   "source": [
    "regions = ['na_sales', 'eu_sales', 'jp_sales']\n",
    "name_of_region = ['Северной Америке', 'Европе', 'Японии']\n",
    "for i in range(len(regions)):\n",
    "    relevant_data.groupby('genre').agg({regions[i]:'sum'}).sort_values(by=regions[i],ascending=False).head(5) \\\n",
    "    .plot(y=regions[i], kind='pie',figsize=(16,9),autopct='%1.0f%%', legend=False, \n",
    "          title='Доля популярности жанров в  '+ name_of_region[i]);\n",
    "    \n",
    "# Строим круговые диаграммы по регионам"
   ]
  },
  {
   "cell_type": "markdown",
   "id": "62f3d18c",
   "metadata": {},
   "source": [
    "В Северной Америке и Европе самый популярный жанр - `Action`, в Японии - `Role-Playing`\n",
    "\n",
    "Наимение популярный жанр в Севервной Америке - `Role-Playing`, в Европе - `Racing`, в Японии - `Adventure`"
   ]
  },
  {
   "cell_type": "markdown",
   "id": "93e28035",
   "metadata": {},
   "source": [
    "Проверим влияние рейтинга ESRB на продажи в отдельном регионе"
   ]
  },
  {
   "cell_type": "code",
   "execution_count": 60,
   "id": "59acc8ae",
   "metadata": {},
   "outputs": [
    {
     "data": {
      "image/png": "[encoded data removed]",
      "text/plain": [
       "<Figure size 1152x648 with 1 Axes>"
      ]
     },
     "metadata": {
      "needs_background": "light"
     },
     "output_type": "display_data"
    },
    {
     "data": {
      "image/png": "[encoded data removed]",
      "text/plain": [
       "<Figure size 1152x648 with 1 Axes>"
      ]
     },
     "metadata": {
      "needs_background": "light"
     },
     "output_type": "display_data"
    },
    {
     "data": {
      "image/png": "[encoded data removed]",
      "text/plain": [
       "<Figure size 1152x648 with 1 Axes>"
      ]
     },
     "metadata": {
      "needs_background": "light"
     },
     "output_type": "display_data"
    }
   ],
   "source": [
    "regions = ['na_sales', 'eu_sales', 'jp_sales']\n",
    "name_of_region = ['Северной Америке', 'Европе', 'Японии']\n",
    "for i in range(len(regions)):\n",
    "    relevant_data.groupby('rating').agg({regions[i]:'sum'}).sort_values(by=regions[i],ascending=False).head(5) \\\n",
    "    .plot(y=regions[i], kind='bar',figsize=(16,9), legend=True, grid=True, \n",
    "          title='Влияние рейтинга ESRB на продажи в '+ name_of_region[i]);\n",
    "\n",
    "# Строим столбчатые диаграммы"
   ]
  },
  {
   "cell_type": "markdown",
   "id": "d26e68b1",
   "metadata": {},
   "source": [
    "Влияние рейтинга ESRB на продажи в Северной Америке:\n",
    "\n",
    "- Игры с рейтингом Е продаются в Северной Америке лучше остальных.\n",
    "- Игры без возрастного рейтинга, в свою очередь, имеют самые меньшие продажи\n",
    "\n",
    "Влияние рейтинга ESRB на продажи в Европе:\n",
    "\n",
    "- Игры с рейтингом Е и М продаются в Северной Америке лучше остальных.\n",
    "- Игры с рейтингом E10+ продаются хуже всего\n",
    "\n",
    "Влияние рейтинга ESRB на продажи в Японии:\n",
    "- Интересный момент, в Японии игры без возрастного рейтинга продаются примерно в 2,5 раза лучше, чем ближайший по популярности жанр E. Вероятнее всего, это связанно с тем, что наиболее популярная платформа в Японии - 3DS. Эта платформа разработана в Японии и, скорее всего, большинство игр на платформе имеет свой возрастной рейтинг, но от другой организации (не от ESRB). Соответственно возрастной рейтинг для игр на платформе 3DS мы узнать не можем, так как данные, представленные в таблице, отражают возрастной рейтинг только согласно ESRB\n",
    "- Игры с рейтингом E10+ продаются хуже всего\n",
    "\n",
    "Напомним аббревиатуры рейтингов:\n",
    "\n",
    "- «EC» («Early childhood») — «Для детей младшего возраста»\n",
    "- «E» («Everyone») — «Для всех»\n",
    "- «E10+» («Everyone 10 and older») — «Для всех от 10 лет и старше»\n",
    "- «T» («Teen») — «Подросткам»\n",
    "- «M» («Mature») — «Для взрослых»\n",
    "- «AO» («Adults Only 18+») — «Только для взрослых»\n",
    "- «RP» («Rating Pending») — «Рейтинг ожидается»\n",
    "-  «K-A» («Kids to Adults»)— «Для детей и взрослых»"
   ]
  },
  {
   "cell_type": "markdown",
   "id": "4355ee03",
   "metadata": {},
   "source": [
    "## Вывод"
   ]
  },
  {
   "cell_type": "markdown",
   "id": "4f5e636e",
   "metadata": {},
   "source": [
    "В ходе исследования портретов пользователей каждого регионы были выявлены следующие особенности:\n",
    "\n",
    "1. В Северной Америке лидирующие позиции на рынке плафторм занимает XOne, в Европе - PS3, в Японии наиболее популярные платформы - 3DS И DS\n",
    "\n",
    "   Наименее популярные платформы:\n",
    "    Северная Америка - PS4;\n",
    "    Европа - DS;\n",
    "    Япония - Wii;\n",
    "    \n",
    "    \n",
    "2.  В Северной Америке и Европе самый популярный жанр - Action, в Японии - Role-Playing.\n",
    "    Наимение популярный жанр в Северной Америке - Role-Playing, в Европе - Racing, в Японии - Adventure\n",
    "    \n",
    "    \n",
    "3.  - Влияние рейтинга ESRB на продажи в Северной Америке:\n",
    "\n",
    "    Игры с рейтингом Е продаются в Северной Америке лучше остальных.\n",
    "    Игры без возрастного рейтинга, в свою очередь, имеют самые меньшие продажи\n",
    "    \n",
    "    - Влияние рейтинга ESRB на продажи в Европе:\n",
    "\n",
    "    Игры с рейтингом Е и М продаются в Северной Америке лучше остальных.\n",
    "    Игры с рейтингом E10+ продаются хуже всего\n",
    "    \n",
    "    - Влияние рейтинга ESRB на продажи в Японии:\n",
    "\n",
    "    Интересный момент, в Японии игры без возрастного рейтинга продаются примерно в 2,5 раза лучше, чем ближайший по    популярности жанр E. Вероятнее всего, это связанно с тем, что наиболее популярная платформа в Японии - 3DS. Эта платформа разработана в Японии и, скорее всего, большинство игр на платформе имеет свой возрастной рейтинг, но от другой организации (не от ESRB). Соответственно возрастной рейтинг для игр на платформе 3DS мы узнать не можем, так как данные, представленные в таблице, отражают возрастной рейтинг только согласно ESRB.\n",
    "    Игры с рейтингом E10+ продаются хуже всего\n"
   ]
  },
  {
   "cell_type": "markdown",
   "id": "e511e536",
   "metadata": {},
   "source": [
    "# Проверка гипотез"
   ]
  },
  {
   "cell_type": "markdown",
   "id": "e1482d39",
   "metadata": {},
   "source": [
    "Проверим гипотезу о том, что средние пользовательские оценки платформ PC и Xbox one одинаковые"
   ]
  },
  {
   "cell_type": "markdown",
   "id": "3bb02966",
   "metadata": {},
   "source": [
    "Сформилуруем нулевую и альтернативные гипотезы:\n",
    "\n",
    "H0: Cредние пользовательсские оценки платформ PC и Xbox one одинаковые\n",
    "\n",
    "H1: Cредние пользовательсские оценки платформ PC и Xbox one разные\n",
    "\n",
    "Уровень значимости примем равный 0.05\n",
    "\n",
    "Для сравнения двух выборок будем использовать t-тест.\n",
    "\n",
    "Удостоверимся, что все три аспекта удовлетворяют условиям проведения  t-теста:\n",
    "\n",
    "- [x]  Генеральные совокупности не должны зависеть друг от друга. Генеральные совокупности независимы друг от друга\n",
    "- [x] Выборочные средние должны быть нормально распределены. Благодрая ЦПТ, утверждение верно\n",
    "- [x] Дисперсии рассматриваемых генеральных совокупностей должны быть равны. Если выборки достаточно велики (30 и больше значений) и равны по размеру между собой, такой подход оправдан"
   ]
  },
  {
   "cell_type": "code",
   "execution_count": 61,
   "id": "7cb1d291",
   "metadata": {},
   "outputs": [
    {
     "name": "stdout",
     "output_type": "stream",
     "text": [
      "p-value:  0.13589706893007367\n",
      "Недостаточно оснований для того, чтобы отклонить нулевую гипотезу\n"
     ]
    }
   ],
   "source": [
    "alpha = 0.05 # Уровень значимости\n",
    "\n",
    "results = st.ttest_ind(relevant_data.dropna().query('platform in \"PS4\"')['user_score'],\n",
    "                       relevant_data.dropna().query('platform in \"XOne\"')['user_score']) # Проведение t-теста\n",
    "print('p-value: ', results.pvalue)\n",
    "\n",
    "if results.pvalue < alpha:\n",
    "    print('Отклоняем нулевую гипотезу')\n",
    "else:\n",
    "    print('Недостаточно оснований для того, чтобы отклонить нулевую гипотезу')"
   ]
  },
  {
   "cell_type": "markdown",
   "id": "fd7143b2",
   "metadata": {},
   "source": [
    "В результате проверки гипотезы получили значение p-value значительно больше, чем пороговый уровень значимости, таким образом не имеем статистически значимых оснований отклонить нулевую гипотезу"
   ]
  },
  {
   "cell_type": "markdown",
   "id": "8b372538",
   "metadata": {},
   "source": [
    "Так же проверим гипотезу о том, что средние пользовательские оценки жанров `Action` и `Sports` разные\n",
    "\n",
    "Сформулируем нулевую и альтернативную гипотезы:\n",
    "\n",
    "H0: Cредние пользовательские оценки жанров `Action` и `Sports` равны\n",
    "\n",
    "H1: Cредние пользовательские оценки жанров `Action` и `Sports` разные\n",
    "\n",
    "Уровень значимости примем равный 0.05\n",
    "\n",
    "Удостоверимся, что все три аспекта удовлетворяют условиям проведения  t-теста:\n",
    "\n",
    "- [x]  Генеральные совокупности не должны зависеть друг от друга. Генеральные совокупности независимы друг от друга\n",
    "- [x] Выборочные средние должны быть нормально распределены. Благодрая ЦПТ, утверждение верно\n",
    "- [x] Дисперсии рассматриваемых генеральных совокупностей должны быть равны. Если выборки достаточно велики (30 и больше значений) и равны по размеру между собой, такой подход оправдан"
   ]
  },
  {
   "cell_type": "code",
   "execution_count": 62,
   "id": "932d8750",
   "metadata": {},
   "outputs": [
    {
     "name": "stdout",
     "output_type": "stream",
     "text": [
      "p-value:  9.13633279873618e-16\n",
      "Отклоняем нулевую гипотезу\n"
     ]
    }
   ],
   "source": [
    "alpha = 0.05 # уровень значимости\n",
    "\n",
    "results = st.ttest_ind(relevant_data.dropna().query('genre in \"Action\"')['user_score'],\n",
    "                       relevant_data.dropna().query('genre in \"Sports\"')['user_score'])\n",
    "print('p-value: ', results.pvalue)\n",
    "\n",
    "if results.pvalue < alpha: # Проведение t-теста\n",
    "    print('Отклоняем нулевую гипотезу')\n",
    "else:\n",
    "    print('Недостаточно оснований для того, чтобы отклонить нулевую гипотезу')"
   ]
  },
  {
   "cell_type": "markdown",
   "id": "598b2108",
   "metadata": {},
   "source": [
    "Получили статистически значимое различие, соответсвенно отклоняем нулевую гипотезу о том, что средние пользовательские оценки жанров Action и Sports равны"
   ]
  },
  {
   "cell_type": "markdown",
   "id": "8e267f51",
   "metadata": {},
   "source": [
    "## Вывод"
   ]
  },
  {
   "cell_type": "markdown",
   "id": "11f2c8e0",
   "metadata": {},
   "source": [
    "В ходе исследования были проверены две гипотезы:\n",
    "\n",
    "- Cредние пользовательсские оценки платформ PC и Xbox one одинаковые. Не получили статистически значимый результат, следовательно не имеем оснований отклонить нулевую гипотезу.\n",
    "- Cредние пользовательские оценки жанров Action и Sports равны. Получили статистически значимое различие, соответсвенно отклоняем нулевую гипотезу."
   ]
  },
  {
   "cell_type": "markdown",
   "id": "5651b5f0",
   "metadata": {},
   "source": [
    "# Вывод"
   ]
  },
  {
   "cell_type": "markdown",
   "id": "82dec3f3",
   "metadata": {},
   "source": [
    "При выполнении проекта были проделаны следующие шаги:\n",
    "\n",
    "- Получение основной информации о предоставленных данных\n",
    "- Предобработка, которая включала в себя приведение данных у нужному типу, проанализированы пропущенные значения в некоторых столбцах, сделаны выводы. Для каждой выпущенной игры была просуммированна выручка по каждому из регионов и добавлена в отдельный столбец `total_sales`\n",
    "- Проведён исследовательский анализ данных, в котором было определено количество игр, выпущенных в разные годы релиза, найдена зависимость количество продаж по разным платформам, выявлены платформы с наибольшим суммарными продажами, определена средняя \"продолжительность жизни\" платформы - 10 лет. Так же построена зависимости суммарных продаж по каждой платформе в зависимости от года, определена общяя тенденция к снижению выручки к 2016 году. Найдены коэффициенты корреляции между суммарным количеством продаж и отзывами пользователей и критиков. Выявлены самые популярные и прибыльные жанры.\n",
    "- Составлены портреты пользователя каждого региона: самые популярные платформы, самые популярные жанры в Северной Америке, Европе и Японии. Отражена зависимость между рейтингом ESRB и продажами в каждом регионе.\n",
    "- Проверена статистическая гипотеза о равенстве средних пользовательсских оценок платформ PC и Xbox one. Не получили статистически значимый результат, следовательно не имели оснований отклонить нулевую гипотезу.\n",
    "- Проверена статистическая гипотеза о равенстве средних пользовательских оценок жанров Action и Sports. Получили статистически значимое различие, соответсвенно отклоняли нулевую гипотезу. "
   ]
  }
 ],
 "metadata": {
  "ExecuteTimeLog": [
   {
    "duration": 1092,
    "start_time": "2022-02-10T11:53:57.627Z"
   },
   {
    "duration": 2783,
    "start_time": "2022-02-10T11:53:58.721Z"
   },
   {
    "duration": -249,
    "start_time": "2022-02-10T11:54:01.757Z"
   },
   {
    "duration": -250,
    "start_time": "2022-02-10T11:54:01.759Z"
   },
   {
    "duration": -250,
    "start_time": "2022-02-10T11:54:01.760Z"
   },
   {
    "duration": -251,
    "start_time": "2022-02-10T11:54:01.762Z"
   },
   {
    "duration": -252,
    "start_time": "2022-02-10T11:54:01.764Z"
   },
   {
    "duration": -252,
    "start_time": "2022-02-10T11:54:01.765Z"
   },
   {
    "duration": -253,
    "start_time": "2022-02-10T11:54:01.767Z"
   },
   {
    "duration": -292,
    "start_time": "2022-02-10T11:54:01.806Z"
   },
   {
    "duration": -296,
    "start_time": "2022-02-10T11:54:01.811Z"
   },
   {
    "duration": -297,
    "start_time": "2022-02-10T11:54:01.813Z"
   },
   {
    "duration": -298,
    "start_time": "2022-02-10T11:54:01.815Z"
   },
   {
    "duration": -298,
    "start_time": "2022-02-10T11:54:01.816Z"
   },
   {
    "duration": -299,
    "start_time": "2022-02-10T11:54:01.818Z"
   },
   {
    "duration": -299,
    "start_time": "2022-02-10T11:54:01.819Z"
   },
   {
    "duration": -300,
    "start_time": "2022-02-10T11:54:01.821Z"
   },
   {
    "duration": -300,
    "start_time": "2022-02-10T11:54:01.822Z"
   },
   {
    "duration": -302,
    "start_time": "2022-02-10T11:54:01.825Z"
   },
   {
    "duration": -302,
    "start_time": "2022-02-10T11:54:01.826Z"
   },
   {
    "duration": -303,
    "start_time": "2022-02-10T11:54:01.828Z"
   },
   {
    "duration": -303,
    "start_time": "2022-02-10T11:54:01.829Z"
   },
   {
    "duration": -304,
    "start_time": "2022-02-10T11:54:01.831Z"
   },
   {
    "duration": -304,
    "start_time": "2022-02-10T11:54:01.832Z"
   },
   {
    "duration": -304,
    "start_time": "2022-02-10T11:54:01.834Z"
   },
   {
    "duration": -304,
    "start_time": "2022-02-10T11:54:01.835Z"
   },
   {
    "duration": -305,
    "start_time": "2022-02-10T11:54:01.837Z"
   },
   {
    "duration": -305,
    "start_time": "2022-02-10T11:54:01.838Z"
   },
   {
    "duration": -305,
    "start_time": "2022-02-10T11:54:01.840Z"
   },
   {
    "duration": -305,
    "start_time": "2022-02-10T11:54:01.841Z"
   },
   {
    "duration": -306,
    "start_time": "2022-02-10T11:54:01.843Z"
   },
   {
    "duration": -306,
    "start_time": "2022-02-10T11:54:01.844Z"
   },
   {
    "duration": -307,
    "start_time": "2022-02-10T11:54:01.846Z"
   },
   {
    "duration": -307,
    "start_time": "2022-02-10T11:54:01.847Z"
   },
   {
    "duration": -307,
    "start_time": "2022-02-10T11:54:01.848Z"
   },
   {
    "duration": -308,
    "start_time": "2022-02-10T11:54:01.850Z"
   },
   {
    "duration": -308,
    "start_time": "2022-02-10T11:54:01.851Z"
   },
   {
    "duration": -309,
    "start_time": "2022-02-10T11:54:01.853Z"
   },
   {
    "duration": -310,
    "start_time": "2022-02-10T11:54:01.855Z"
   },
   {
    "duration": -297,
    "start_time": "2022-02-10T11:54:01.856Z"
   },
   {
    "duration": -298,
    "start_time": "2022-02-10T11:54:01.858Z"
   },
   {
    "duration": -298,
    "start_time": "2022-02-10T11:54:01.859Z"
   },
   {
    "duration": -299,
    "start_time": "2022-02-10T11:54:01.861Z"
   },
   {
    "duration": -299,
    "start_time": "2022-02-10T11:54:01.862Z"
   },
   {
    "duration": -300,
    "start_time": "2022-02-10T11:54:01.864Z"
   },
   {
    "duration": -300,
    "start_time": "2022-02-10T11:54:01.865Z"
   },
   {
    "duration": -300,
    "start_time": "2022-02-10T11:54:01.867Z"
   },
   {
    "duration": -300,
    "start_time": "2022-02-10T11:54:01.868Z"
   },
   {
    "duration": -301,
    "start_time": "2022-02-10T11:54:01.870Z"
   },
   {
    "duration": 158,
    "start_time": "2022-02-10T11:54:32.284Z"
   },
   {
    "duration": 2568,
    "start_time": "2022-02-10T11:54:44.594Z"
   },
   {
    "duration": -260,
    "start_time": "2022-02-10T11:54:47.426Z"
   },
   {
    "duration": -260,
    "start_time": "2022-02-10T11:54:47.427Z"
   },
   {
    "duration": -261,
    "start_time": "2022-02-10T11:54:47.429Z"
   },
   {
    "duration": -262,
    "start_time": "2022-02-10T11:54:47.431Z"
   },
   {
    "duration": -264,
    "start_time": "2022-02-10T11:54:47.433Z"
   },
   {
    "duration": -264,
    "start_time": "2022-02-10T11:54:47.434Z"
   },
   {
    "duration": -265,
    "start_time": "2022-02-10T11:54:47.436Z"
   },
   {
    "duration": -265,
    "start_time": "2022-02-10T11:54:47.437Z"
   },
   {
    "duration": -292,
    "start_time": "2022-02-10T11:54:47.465Z"
   },
   {
    "duration": -293,
    "start_time": "2022-02-10T11:54:47.466Z"
   },
   {
    "duration": -294,
    "start_time": "2022-02-10T11:54:47.468Z"
   },
   {
    "duration": -295,
    "start_time": "2022-02-10T11:54:47.470Z"
   },
   {
    "duration": -297,
    "start_time": "2022-02-10T11:54:47.472Z"
   },
   {
    "duration": -298,
    "start_time": "2022-02-10T11:54:47.474Z"
   },
   {
    "duration": -299,
    "start_time": "2022-02-10T11:54:47.476Z"
   },
   {
    "duration": -301,
    "start_time": "2022-02-10T11:54:47.478Z"
   },
   {
    "duration": -302,
    "start_time": "2022-02-10T11:54:47.480Z"
   },
   {
    "duration": -302,
    "start_time": "2022-02-10T11:54:47.481Z"
   },
   {
    "duration": -302,
    "start_time": "2022-02-10T11:54:47.482Z"
   },
   {
    "duration": -304,
    "start_time": "2022-02-10T11:54:47.484Z"
   },
   {
    "duration": -304,
    "start_time": "2022-02-10T11:54:47.485Z"
   },
   {
    "duration": -305,
    "start_time": "2022-02-10T11:54:47.487Z"
   },
   {
    "duration": -305,
    "start_time": "2022-02-10T11:54:47.488Z"
   },
   {
    "duration": -306,
    "start_time": "2022-02-10T11:54:47.490Z"
   },
   {
    "duration": -307,
    "start_time": "2022-02-10T11:54:47.491Z"
   },
   {
    "duration": -308,
    "start_time": "2022-02-10T11:54:47.493Z"
   },
   {
    "duration": -308,
    "start_time": "2022-02-10T11:54:47.494Z"
   },
   {
    "duration": -308,
    "start_time": "2022-02-10T11:54:47.495Z"
   },
   {
    "duration": -309,
    "start_time": "2022-02-10T11:54:47.497Z"
   },
   {
    "duration": -310,
    "start_time": "2022-02-10T11:54:47.498Z"
   },
   {
    "duration": -311,
    "start_time": "2022-02-10T11:54:47.500Z"
   },
   {
    "duration": -311,
    "start_time": "2022-02-10T11:54:47.501Z"
   },
   {
    "duration": -312,
    "start_time": "2022-02-10T11:54:47.503Z"
   },
   {
    "duration": -312,
    "start_time": "2022-02-10T11:54:47.504Z"
   },
   {
    "duration": -313,
    "start_time": "2022-02-10T11:54:47.505Z"
   },
   {
    "duration": -314,
    "start_time": "2022-02-10T11:54:47.507Z"
   },
   {
    "duration": -315,
    "start_time": "2022-02-10T11:54:47.509Z"
   },
   {
    "duration": -315,
    "start_time": "2022-02-10T11:54:47.510Z"
   },
   {
    "duration": -316,
    "start_time": "2022-02-10T11:54:47.511Z"
   },
   {
    "duration": -317,
    "start_time": "2022-02-10T11:54:47.513Z"
   },
   {
    "duration": -317,
    "start_time": "2022-02-10T11:54:47.514Z"
   },
   {
    "duration": -317,
    "start_time": "2022-02-10T11:54:47.515Z"
   },
   {
    "duration": -318,
    "start_time": "2022-02-10T11:54:47.517Z"
   },
   {
    "duration": -320,
    "start_time": "2022-02-10T11:54:47.519Z"
   },
   {
    "duration": -320,
    "start_time": "2022-02-10T11:54:47.520Z"
   },
   {
    "duration": -321,
    "start_time": "2022-02-10T11:54:47.522Z"
   },
   {
    "duration": -330,
    "start_time": "2022-02-10T11:54:47.532Z"
   },
   {
    "duration": 3,
    "start_time": "2022-02-10T11:54:58.483Z"
   },
   {
    "duration": 165,
    "start_time": "2022-02-10T11:54:58.488Z"
   },
   {
    "duration": 9,
    "start_time": "2022-02-10T11:54:58.654Z"
   },
   {
    "duration": 28,
    "start_time": "2022-02-10T11:54:58.665Z"
   },
   {
    "duration": 12,
    "start_time": "2022-02-10T11:54:58.695Z"
   },
   {
    "duration": 31,
    "start_time": "2022-02-10T11:54:58.708Z"
   },
   {
    "duration": 21,
    "start_time": "2022-02-10T11:54:58.741Z"
   },
   {
    "duration": 13,
    "start_time": "2022-02-10T11:54:58.764Z"
   },
   {
    "duration": 11,
    "start_time": "2022-02-10T11:54:58.779Z"
   },
   {
    "duration": 24,
    "start_time": "2022-02-10T11:54:58.792Z"
   },
   {
    "duration": 19,
    "start_time": "2022-02-10T11:54:58.817Z"
   },
   {
    "duration": 35,
    "start_time": "2022-02-10T11:54:58.837Z"
   },
   {
    "duration": 11,
    "start_time": "2022-02-10T11:54:58.874Z"
   },
   {
    "duration": 27,
    "start_time": "2022-02-10T11:54:58.887Z"
   },
   {
    "duration": 6,
    "start_time": "2022-02-10T11:54:58.915Z"
   },
   {
    "duration": 18,
    "start_time": "2022-02-10T11:54:58.923Z"
   },
   {
    "duration": 29,
    "start_time": "2022-02-10T11:54:58.943Z"
   },
   {
    "duration": 5,
    "start_time": "2022-02-10T11:54:58.974Z"
   },
   {
    "duration": 27,
    "start_time": "2022-02-10T11:54:58.980Z"
   },
   {
    "duration": 21,
    "start_time": "2022-02-10T11:54:59.009Z"
   },
   {
    "duration": 7,
    "start_time": "2022-02-10T11:54:59.032Z"
   },
   {
    "duration": 19,
    "start_time": "2022-02-10T11:54:59.041Z"
   },
   {
    "duration": 23,
    "start_time": "2022-02-10T11:54:59.063Z"
   },
   {
    "duration": 24,
    "start_time": "2022-02-10T11:54:59.089Z"
   },
   {
    "duration": 22,
    "start_time": "2022-02-10T11:54:59.115Z"
   },
   {
    "duration": 23,
    "start_time": "2022-02-10T11:54:59.141Z"
   },
   {
    "duration": 12,
    "start_time": "2022-02-10T11:54:59.166Z"
   },
   {
    "duration": 22,
    "start_time": "2022-02-10T11:54:59.180Z"
   },
   {
    "duration": 443,
    "start_time": "2022-02-10T11:54:59.204Z"
   },
   {
    "duration": 426,
    "start_time": "2022-02-10T11:54:59.649Z"
   },
   {
    "duration": 1884,
    "start_time": "2022-02-10T11:55:00.077Z"
   },
   {
    "duration": 22,
    "start_time": "2022-02-10T11:55:01.963Z"
   },
   {
    "duration": 29,
    "start_time": "2022-02-10T11:55:01.987Z"
   },
   {
    "duration": 223,
    "start_time": "2022-02-10T11:55:02.018Z"
   },
   {
    "duration": -190,
    "start_time": "2022-02-10T11:55:02.433Z"
   },
   {
    "duration": -190,
    "start_time": "2022-02-10T11:55:02.435Z"
   },
   {
    "duration": -193,
    "start_time": "2022-02-10T11:55:02.439Z"
   },
   {
    "duration": -193,
    "start_time": "2022-02-10T11:55:02.440Z"
   },
   {
    "duration": -198,
    "start_time": "2022-02-10T11:55:02.446Z"
   },
   {
    "duration": -199,
    "start_time": "2022-02-10T11:55:02.448Z"
   },
   {
    "duration": -200,
    "start_time": "2022-02-10T11:55:02.450Z"
   },
   {
    "duration": -201,
    "start_time": "2022-02-10T11:55:02.453Z"
   },
   {
    "duration": -202,
    "start_time": "2022-02-10T11:55:02.455Z"
   },
   {
    "duration": -203,
    "start_time": "2022-02-10T11:55:02.457Z"
   },
   {
    "duration": -203,
    "start_time": "2022-02-10T11:55:02.458Z"
   },
   {
    "duration": -203,
    "start_time": "2022-02-10T11:55:02.459Z"
   },
   {
    "duration": -203,
    "start_time": "2022-02-10T11:55:02.461Z"
   },
   {
    "duration": -203,
    "start_time": "2022-02-10T11:55:02.462Z"
   },
   {
    "duration": -204,
    "start_time": "2022-02-10T11:55:02.464Z"
   },
   {
    "duration": 304,
    "start_time": "2022-02-10T12:03:01.731Z"
   },
   {
    "duration": 518,
    "start_time": "2022-02-10T12:03:32.055Z"
   },
   {
    "duration": 1096,
    "start_time": "2022-02-10T12:03:51.188Z"
   },
   {
    "duration": 14,
    "start_time": "2022-02-10T12:03:52.286Z"
   },
   {
    "duration": 1122,
    "start_time": "2022-02-10T12:03:52.302Z"
   },
   {
    "duration": 12,
    "start_time": "2022-02-10T12:03:53.426Z"
   },
   {
    "duration": 1452,
    "start_time": "2022-02-10T12:03:53.439Z"
   },
   {
    "duration": 11,
    "start_time": "2022-02-10T12:03:54.893Z"
   },
   {
    "duration": 342,
    "start_time": "2022-02-10T12:03:54.906Z"
   },
   {
    "duration": 322,
    "start_time": "2022-02-10T12:03:55.250Z"
   },
   {
    "duration": 545,
    "start_time": "2022-02-10T12:03:55.574Z"
   },
   {
    "duration": 548,
    "start_time": "2022-02-10T12:03:56.120Z"
   },
   {
    "duration": 827,
    "start_time": "2022-02-10T12:03:56.670Z"
   },
   {
    "duration": 9,
    "start_time": "2022-02-10T12:03:57.499Z"
   },
   {
    "duration": 40,
    "start_time": "2022-02-10T12:03:57.510Z"
   },
   {
    "duration": 1142,
    "start_time": "2022-02-10T12:07:01.387Z"
   },
   {
    "duration": 2670,
    "start_time": "2022-02-10T12:07:02.531Z"
   },
   {
    "duration": -279,
    "start_time": "2022-02-10T12:07:05.483Z"
   },
   {
    "duration": -281,
    "start_time": "2022-02-10T12:07:05.486Z"
   },
   {
    "duration": -282,
    "start_time": "2022-02-10T12:07:05.488Z"
   },
   {
    "duration": -283,
    "start_time": "2022-02-10T12:07:05.490Z"
   },
   {
    "duration": -284,
    "start_time": "2022-02-10T12:07:05.492Z"
   },
   {
    "duration": -284,
    "start_time": "2022-02-10T12:07:05.494Z"
   },
   {
    "duration": -285,
    "start_time": "2022-02-10T12:07:05.496Z"
   },
   {
    "duration": -286,
    "start_time": "2022-02-10T12:07:05.498Z"
   },
   {
    "duration": -310,
    "start_time": "2022-02-10T12:07:05.523Z"
   },
   {
    "duration": -311,
    "start_time": "2022-02-10T12:07:05.525Z"
   },
   {
    "duration": -312,
    "start_time": "2022-02-10T12:07:05.527Z"
   },
   {
    "duration": -312,
    "start_time": "2022-02-10T12:07:05.528Z"
   },
   {
    "duration": -313,
    "start_time": "2022-02-10T12:07:05.530Z"
   },
   {
    "duration": -313,
    "start_time": "2022-02-10T12:07:05.531Z"
   },
   {
    "duration": -314,
    "start_time": "2022-02-10T12:07:05.533Z"
   },
   {
    "duration": -314,
    "start_time": "2022-02-10T12:07:05.534Z"
   },
   {
    "duration": -315,
    "start_time": "2022-02-10T12:07:05.536Z"
   },
   {
    "duration": -316,
    "start_time": "2022-02-10T12:07:05.538Z"
   },
   {
    "duration": -316,
    "start_time": "2022-02-10T12:07:05.539Z"
   },
   {
    "duration": -317,
    "start_time": "2022-02-10T12:07:05.541Z"
   },
   {
    "duration": -317,
    "start_time": "2022-02-10T12:07:05.542Z"
   },
   {
    "duration": -318,
    "start_time": "2022-02-10T12:07:05.544Z"
   },
   {
    "duration": -318,
    "start_time": "2022-02-10T12:07:05.545Z"
   },
   {
    "duration": -319,
    "start_time": "2022-02-10T12:07:05.547Z"
   },
   {
    "duration": -319,
    "start_time": "2022-02-10T12:07:05.548Z"
   },
   {
    "duration": -320,
    "start_time": "2022-02-10T12:07:05.550Z"
   },
   {
    "duration": -320,
    "start_time": "2022-02-10T12:07:05.552Z"
   },
   {
    "duration": -320,
    "start_time": "2022-02-10T12:07:05.553Z"
   },
   {
    "duration": -321,
    "start_time": "2022-02-10T12:07:05.555Z"
   },
   {
    "duration": -321,
    "start_time": "2022-02-10T12:07:05.556Z"
   },
   {
    "duration": -322,
    "start_time": "2022-02-10T12:07:05.558Z"
   },
   {
    "duration": -322,
    "start_time": "2022-02-10T12:07:05.559Z"
   },
   {
    "duration": -323,
    "start_time": "2022-02-10T12:07:05.561Z"
   },
   {
    "duration": -324,
    "start_time": "2022-02-10T12:07:05.563Z"
   },
   {
    "duration": -324,
    "start_time": "2022-02-10T12:07:05.564Z"
   },
   {
    "duration": -307,
    "start_time": "2022-02-10T12:07:05.566Z"
   },
   {
    "duration": -307,
    "start_time": "2022-02-10T12:07:05.567Z"
   },
   {
    "duration": -308,
    "start_time": "2022-02-10T12:07:05.569Z"
   },
   {
    "duration": -308,
    "start_time": "2022-02-10T12:07:05.570Z"
   },
   {
    "duration": -309,
    "start_time": "2022-02-10T12:07:05.572Z"
   },
   {
    "duration": -310,
    "start_time": "2022-02-10T12:07:05.574Z"
   },
   {
    "duration": -310,
    "start_time": "2022-02-10T12:07:05.575Z"
   },
   {
    "duration": -311,
    "start_time": "2022-02-10T12:07:05.577Z"
   },
   {
    "duration": -311,
    "start_time": "2022-02-10T12:07:05.578Z"
   },
   {
    "duration": -312,
    "start_time": "2022-02-10T12:07:05.580Z"
   },
   {
    "duration": -312,
    "start_time": "2022-02-10T12:07:05.581Z"
   },
   {
    "duration": -312,
    "start_time": "2022-02-10T12:07:05.583Z"
   },
   {
    "duration": 1107,
    "start_time": "2022-02-10T12:32:43.762Z"
   },
   {
    "duration": 297,
    "start_time": "2022-02-10T12:32:44.871Z"
   },
   {
    "duration": 9,
    "start_time": "2022-02-10T12:32:45.169Z"
   },
   {
    "duration": 28,
    "start_time": "2022-02-10T12:32:45.180Z"
   },
   {
    "duration": 12,
    "start_time": "2022-02-10T12:32:45.209Z"
   },
   {
    "duration": 18,
    "start_time": "2022-02-10T12:32:45.223Z"
   },
   {
    "duration": 8,
    "start_time": "2022-02-10T12:32:45.243Z"
   },
   {
    "duration": 12,
    "start_time": "2022-02-10T12:32:45.254Z"
   },
   {
    "duration": 7,
    "start_time": "2022-02-10T12:32:45.268Z"
   },
   {
    "duration": 60,
    "start_time": "2022-02-10T12:32:45.277Z"
   },
   {
    "duration": 20,
    "start_time": "2022-02-10T12:32:45.339Z"
   },
   {
    "duration": 22,
    "start_time": "2022-02-10T12:32:45.361Z"
   },
   {
    "duration": 33,
    "start_time": "2022-02-10T12:32:45.384Z"
   },
   {
    "duration": 20,
    "start_time": "2022-02-10T12:32:45.418Z"
   },
   {
    "duration": 6,
    "start_time": "2022-02-10T12:32:45.439Z"
   },
   {
    "duration": 4,
    "start_time": "2022-02-10T12:32:45.447Z"
   },
   {
    "duration": 21,
    "start_time": "2022-02-10T12:32:45.453Z"
   },
   {
    "duration": 36,
    "start_time": "2022-02-10T12:32:45.476Z"
   },
   {
    "duration": 13,
    "start_time": "2022-02-10T12:32:45.514Z"
   },
   {
    "duration": 26,
    "start_time": "2022-02-10T12:32:45.529Z"
   },
   {
    "duration": 8,
    "start_time": "2022-02-10T12:32:45.557Z"
   },
   {
    "duration": 4,
    "start_time": "2022-02-10T12:32:45.567Z"
   },
   {
    "duration": 43,
    "start_time": "2022-02-10T12:32:45.573Z"
   },
   {
    "duration": 10,
    "start_time": "2022-02-10T12:32:45.618Z"
   },
   {
    "duration": 16,
    "start_time": "2022-02-10T12:32:45.629Z"
   },
   {
    "duration": 13,
    "start_time": "2022-02-10T12:32:45.648Z"
   },
   {
    "duration": 5,
    "start_time": "2022-02-10T12:32:45.663Z"
   },
   {
    "duration": 49,
    "start_time": "2022-02-10T12:32:45.669Z"
   },
   {
    "duration": 489,
    "start_time": "2022-02-10T12:32:45.719Z"
   },
   {
    "duration": 451,
    "start_time": "2022-02-10T12:32:46.212Z"
   },
   {
    "duration": 1942,
    "start_time": "2022-02-10T12:32:46.664Z"
   },
   {
    "duration": 25,
    "start_time": "2022-02-10T12:32:48.607Z"
   },
   {
    "duration": 28,
    "start_time": "2022-02-10T12:32:48.633Z"
   },
   {
    "duration": 345,
    "start_time": "2022-02-10T12:32:48.663Z"
   },
   {
    "duration": 582,
    "start_time": "2022-02-10T12:32:48.428Z"
   },
   {
    "duration": 438,
    "start_time": "2022-02-10T12:32:48.573Z"
   },
   {
    "duration": 423,
    "start_time": "2022-02-10T12:32:48.589Z"
   },
   {
    "duration": 408,
    "start_time": "2022-02-10T12:32:48.605Z"
   },
   {
    "duration": 395,
    "start_time": "2022-02-10T12:32:48.619Z"
   },
   {
    "duration": 380,
    "start_time": "2022-02-10T12:32:48.635Z"
   },
   {
    "duration": 367,
    "start_time": "2022-02-10T12:32:48.649Z"
   },
   {
    "duration": 353,
    "start_time": "2022-02-10T12:32:48.664Z"
   },
   {
    "duration": 318,
    "start_time": "2022-02-10T12:32:48.700Z"
   },
   {
    "duration": 303,
    "start_time": "2022-02-10T12:32:48.716Z"
   },
   {
    "duration": 290,
    "start_time": "2022-02-10T12:32:48.730Z"
   },
   {
    "duration": 267,
    "start_time": "2022-02-10T12:32:48.754Z"
   },
   {
    "duration": 254,
    "start_time": "2022-02-10T12:32:48.768Z"
   },
   {
    "duration": 239,
    "start_time": "2022-02-10T12:32:48.784Z"
   },
   {
    "duration": 211,
    "start_time": "2022-02-10T12:32:48.813Z"
   },
   {
    "duration": 20,
    "start_time": "2022-02-10T12:40:42.051Z"
   },
   {
    "duration": 1161,
    "start_time": "2022-02-10T12:40:56.298Z"
   },
   {
    "duration": 190,
    "start_time": "2022-02-10T12:40:57.461Z"
   },
   {
    "duration": 11,
    "start_time": "2022-02-10T12:40:57.653Z"
   },
   {
    "duration": 47,
    "start_time": "2022-02-10T12:40:57.666Z"
   },
   {
    "duration": 18,
    "start_time": "2022-02-10T12:40:57.715Z"
   },
   {
    "duration": 24,
    "start_time": "2022-02-10T12:40:57.734Z"
   },
   {
    "duration": 10,
    "start_time": "2022-02-10T12:40:57.760Z"
   },
   {
    "duration": 14,
    "start_time": "2022-02-10T12:40:57.773Z"
   },
   {
    "duration": 10,
    "start_time": "2022-02-10T12:40:57.813Z"
   },
   {
    "duration": 21,
    "start_time": "2022-02-10T12:40:57.825Z"
   },
   {
    "duration": 15,
    "start_time": "2022-02-10T12:40:57.848Z"
   },
   {
    "duration": 52,
    "start_time": "2022-02-10T12:40:57.865Z"
   },
   {
    "duration": 9,
    "start_time": "2022-02-10T12:40:57.919Z"
   },
   {
    "duration": 20,
    "start_time": "2022-02-10T12:40:57.930Z"
   },
   {
    "duration": 8,
    "start_time": "2022-02-10T12:40:57.951Z"
   },
   {
    "duration": 7,
    "start_time": "2022-02-10T12:40:57.960Z"
   },
   {
    "duration": 11,
    "start_time": "2022-02-10T12:40:57.969Z"
   },
   {
    "duration": 47,
    "start_time": "2022-02-10T12:40:57.981Z"
   },
   {
    "duration": 4,
    "start_time": "2022-02-10T12:40:58.029Z"
   },
   {
    "duration": 10,
    "start_time": "2022-02-10T12:40:58.035Z"
   },
   {
    "duration": 19,
    "start_time": "2022-02-10T12:40:58.047Z"
   },
   {
    "duration": 6,
    "start_time": "2022-02-10T12:40:58.067Z"
   },
   {
    "duration": 40,
    "start_time": "2022-02-10T12:40:58.078Z"
   },
   {
    "duration": 17,
    "start_time": "2022-02-10T12:40:58.120Z"
   },
   {
    "duration": 8,
    "start_time": "2022-02-10T12:40:58.139Z"
   },
   {
    "duration": 19,
    "start_time": "2022-02-10T12:40:58.149Z"
   },
   {
    "duration": 13,
    "start_time": "2022-02-10T12:40:58.170Z"
   },
   {
    "duration": 5,
    "start_time": "2022-02-10T12:40:58.185Z"
   },
   {
    "duration": 15,
    "start_time": "2022-02-10T12:40:58.213Z"
   },
   {
    "duration": 497,
    "start_time": "2022-02-10T12:40:58.230Z"
   },
   {
    "duration": 444,
    "start_time": "2022-02-10T12:40:58.729Z"
   },
   {
    "duration": 1921,
    "start_time": "2022-02-10T12:40:59.175Z"
   },
   {
    "duration": 34,
    "start_time": "2022-02-10T12:41:01.098Z"
   },
   {
    "duration": 29,
    "start_time": "2022-02-10T12:41:01.134Z"
   },
   {
    "duration": 393,
    "start_time": "2022-02-10T12:41:01.165Z"
   },
   {
    "duration": -453,
    "start_time": "2022-02-10T12:41:02.013Z"
   },
   {
    "duration": -470,
    "start_time": "2022-02-10T12:41:02.031Z"
   },
   {
    "duration": -485,
    "start_time": "2022-02-10T12:41:02.047Z"
   },
   {
    "duration": -499,
    "start_time": "2022-02-10T12:41:02.062Z"
   },
   {
    "duration": -514,
    "start_time": "2022-02-10T12:41:02.078Z"
   },
   {
    "duration": -527,
    "start_time": "2022-02-10T12:41:02.092Z"
   },
   {
    "duration": -540,
    "start_time": "2022-02-10T12:41:02.107Z"
   },
   {
    "duration": -572,
    "start_time": "2022-02-10T12:41:02.140Z"
   },
   {
    "duration": -636,
    "start_time": "2022-02-10T12:41:02.205Z"
   },
   {
    "duration": -647,
    "start_time": "2022-02-10T12:41:02.218Z"
   },
   {
    "duration": -661,
    "start_time": "2022-02-10T12:41:02.233Z"
   },
   {
    "duration": -688,
    "start_time": "2022-02-10T12:41:02.262Z"
   },
   {
    "duration": -703,
    "start_time": "2022-02-10T12:41:02.278Z"
   },
   {
    "duration": -716,
    "start_time": "2022-02-10T12:41:02.292Z"
   },
   {
    "duration": -740,
    "start_time": "2022-02-10T12:41:02.317Z"
   },
   {
    "duration": 5,
    "start_time": "2022-02-10T12:47:03.236Z"
   },
   {
    "duration": 6,
    "start_time": "2022-02-10T12:51:31.798Z"
   },
   {
    "duration": 8,
    "start_time": "2022-02-10T12:51:46.123Z"
   },
   {
    "duration": 901,
    "start_time": "2022-02-10T12:51:54.407Z"
   },
   {
    "duration": 941,
    "start_time": "2022-02-10T12:52:07.130Z"
   },
   {
    "duration": 9,
    "start_time": "2022-02-10T12:52:14.978Z"
   },
   {
    "duration": 1179,
    "start_time": "2022-02-10T12:52:32.279Z"
   },
   {
    "duration": 244,
    "start_time": "2022-02-10T12:52:33.460Z"
   },
   {
    "duration": 10,
    "start_time": "2022-02-10T12:52:33.705Z"
   },
   {
    "duration": 30,
    "start_time": "2022-02-10T12:52:33.718Z"
   },
   {
    "duration": 12,
    "start_time": "2022-02-10T12:52:33.750Z"
   },
   {
    "duration": 49,
    "start_time": "2022-02-10T12:52:33.764Z"
   },
   {
    "duration": 10,
    "start_time": "2022-02-10T12:52:33.815Z"
   },
   {
    "duration": 13,
    "start_time": "2022-02-10T12:52:33.827Z"
   },
   {
    "duration": 7,
    "start_time": "2022-02-10T12:52:33.842Z"
   },
   {
    "duration": 17,
    "start_time": "2022-02-10T12:52:33.851Z"
   },
   {
    "duration": 54,
    "start_time": "2022-02-10T12:52:33.869Z"
   },
   {
    "duration": 30,
    "start_time": "2022-02-10T12:52:33.926Z"
   },
   {
    "duration": 7,
    "start_time": "2022-02-10T12:52:33.957Z"
   },
   {
    "duration": 18,
    "start_time": "2022-02-10T12:52:33.966Z"
   },
   {
    "duration": 30,
    "start_time": "2022-02-10T12:52:33.985Z"
   },
   {
    "duration": 22,
    "start_time": "2022-02-10T12:52:34.017Z"
   },
   {
    "duration": 8,
    "start_time": "2022-02-10T12:52:34.041Z"
   },
   {
    "duration": 9,
    "start_time": "2022-02-10T12:52:34.050Z"
   },
   {
    "duration": 54,
    "start_time": "2022-02-10T12:52:34.060Z"
   },
   {
    "duration": 7,
    "start_time": "2022-02-10T12:52:34.115Z"
   },
   {
    "duration": 9,
    "start_time": "2022-02-10T12:52:34.124Z"
   },
   {
    "duration": 12,
    "start_time": "2022-02-10T12:52:34.135Z"
   },
   {
    "duration": 9,
    "start_time": "2022-02-10T12:52:34.150Z"
   },
   {
    "duration": 14,
    "start_time": "2022-02-10T12:52:34.160Z"
   },
   {
    "duration": 19,
    "start_time": "2022-02-10T12:52:34.213Z"
   },
   {
    "duration": 7,
    "start_time": "2022-02-10T12:52:34.234Z"
   },
   {
    "duration": 14,
    "start_time": "2022-02-10T12:52:34.243Z"
   },
   {
    "duration": 516,
    "start_time": "2022-02-10T12:52:34.258Z"
   },
   {
    "duration": 431,
    "start_time": "2022-02-10T12:52:34.776Z"
   },
   {
    "duration": 1889,
    "start_time": "2022-02-10T12:52:35.209Z"
   },
   {
    "duration": 27,
    "start_time": "2022-02-10T12:52:37.099Z"
   },
   {
    "duration": 25,
    "start_time": "2022-02-10T12:52:37.128Z"
   },
   {
    "duration": 1089,
    "start_time": "2022-02-10T12:52:37.155Z"
   },
   {
    "duration": -3471,
    "start_time": "2022-02-10T12:52:41.717Z"
   },
   {
    "duration": -3499,
    "start_time": "2022-02-10T12:52:41.746Z"
   },
   {
    "duration": -3513,
    "start_time": "2022-02-10T12:52:41.760Z"
   },
   {
    "duration": -3528,
    "start_time": "2022-02-10T12:52:41.776Z"
   },
   {
    "duration": -3555,
    "start_time": "2022-02-10T12:52:41.804Z"
   },
   {
    "duration": -3570,
    "start_time": "2022-02-10T12:52:41.820Z"
   },
   {
    "duration": -3583,
    "start_time": "2022-02-10T12:52:41.834Z"
   },
   {
    "duration": -3598,
    "start_time": "2022-02-10T12:52:41.850Z"
   },
   {
    "duration": -3610,
    "start_time": "2022-02-10T12:52:41.863Z"
   },
   {
    "duration": -3625,
    "start_time": "2022-02-10T12:52:41.879Z"
   },
   {
    "duration": -3637,
    "start_time": "2022-02-10T12:52:41.892Z"
   },
   {
    "duration": -3670,
    "start_time": "2022-02-10T12:52:41.926Z"
   },
   {
    "duration": -3693,
    "start_time": "2022-02-10T12:52:41.951Z"
   },
   {
    "duration": -3708,
    "start_time": "2022-02-10T12:52:41.967Z"
   },
   {
    "duration": -3725,
    "start_time": "2022-02-10T12:52:41.986Z"
   },
   {
    "duration": 5,
    "start_time": "2022-02-10T12:54:58.851Z"
   },
   {
    "duration": 14,
    "start_time": "2022-02-10T12:55:01.870Z"
   },
   {
    "duration": 21,
    "start_time": "2022-02-10T12:56:53.632Z"
   },
   {
    "duration": 23,
    "start_time": "2022-02-10T12:57:00.549Z"
   },
   {
    "duration": 398,
    "start_time": "2022-02-10T12:59:01.825Z"
   },
   {
    "duration": 404,
    "start_time": "2022-02-10T12:59:06.740Z"
   },
   {
    "duration": 1105,
    "start_time": "2022-02-10T12:59:43.765Z"
   },
   {
    "duration": 285,
    "start_time": "2022-02-10T12:59:44.872Z"
   },
   {
    "duration": 10,
    "start_time": "2022-02-10T12:59:45.160Z"
   },
   {
    "duration": 42,
    "start_time": "2022-02-10T12:59:45.172Z"
   },
   {
    "duration": 14,
    "start_time": "2022-02-10T12:59:45.216Z"
   },
   {
    "duration": 25,
    "start_time": "2022-02-10T12:59:45.232Z"
   },
   {
    "duration": 12,
    "start_time": "2022-02-10T12:59:45.259Z"
   },
   {
    "duration": 13,
    "start_time": "2022-02-10T12:59:45.273Z"
   },
   {
    "duration": 32,
    "start_time": "2022-02-10T12:59:45.288Z"
   },
   {
    "duration": 27,
    "start_time": "2022-02-10T12:59:45.322Z"
   },
   {
    "duration": 19,
    "start_time": "2022-02-10T12:59:45.350Z"
   },
   {
    "duration": 49,
    "start_time": "2022-02-10T12:59:45.370Z"
   },
   {
    "duration": 8,
    "start_time": "2022-02-10T12:59:45.421Z"
   },
   {
    "duration": 31,
    "start_time": "2022-02-10T12:59:45.431Z"
   },
   {
    "duration": 7,
    "start_time": "2022-02-10T12:59:45.464Z"
   },
   {
    "duration": 28,
    "start_time": "2022-02-10T12:59:45.473Z"
   },
   {
    "duration": 21,
    "start_time": "2022-02-10T12:59:45.502Z"
   },
   {
    "duration": 17,
    "start_time": "2022-02-10T12:59:45.525Z"
   },
   {
    "duration": 32,
    "start_time": "2022-02-10T12:59:45.544Z"
   },
   {
    "duration": 21,
    "start_time": "2022-02-10T12:59:45.577Z"
   },
   {
    "duration": 19,
    "start_time": "2022-02-10T12:59:45.600Z"
   },
   {
    "duration": 12,
    "start_time": "2022-02-10T12:59:45.621Z"
   },
   {
    "duration": 10,
    "start_time": "2022-02-10T12:59:45.636Z"
   },
   {
    "duration": 28,
    "start_time": "2022-02-10T12:59:45.648Z"
   },
   {
    "duration": 13,
    "start_time": "2022-02-10T12:59:45.678Z"
   },
   {
    "duration": 19,
    "start_time": "2022-02-10T12:59:45.693Z"
   },
   {
    "duration": 28,
    "start_time": "2022-02-10T12:59:45.713Z"
   },
   {
    "duration": 490,
    "start_time": "2022-02-10T12:59:45.742Z"
   },
   {
    "duration": 436,
    "start_time": "2022-02-10T12:59:46.234Z"
   },
   {
    "duration": 1868,
    "start_time": "2022-02-10T12:59:46.671Z"
   },
   {
    "duration": 21,
    "start_time": "2022-02-10T12:59:48.540Z"
   },
   {
    "duration": 22,
    "start_time": "2022-02-10T12:59:48.563Z"
   },
   {
    "duration": 421,
    "start_time": "2022-02-10T12:59:48.587Z"
   },
   {
    "duration": 317,
    "start_time": "2022-02-10T12:59:49.012Z"
   },
   {
    "duration": 437,
    "start_time": "2022-02-10T12:59:49.331Z"
   },
   {
    "duration": 973,
    "start_time": "2022-02-10T12:59:49.771Z"
   },
   {
    "duration": 13,
    "start_time": "2022-02-10T12:59:50.745Z"
   },
   {
    "duration": 1083,
    "start_time": "2022-02-10T12:59:50.760Z"
   },
   {
    "duration": 13,
    "start_time": "2022-02-10T12:59:51.845Z"
   },
   {
    "duration": 954,
    "start_time": "2022-02-10T12:59:51.860Z"
   },
   {
    "duration": 13,
    "start_time": "2022-02-10T12:59:52.817Z"
   },
   {
    "duration": 353,
    "start_time": "2022-02-10T12:59:52.832Z"
   },
   {
    "duration": 345,
    "start_time": "2022-02-10T12:59:53.187Z"
   },
   {
    "duration": 566,
    "start_time": "2022-02-10T12:59:53.534Z"
   },
   {
    "duration": 566,
    "start_time": "2022-02-10T12:59:54.102Z"
   },
   {
    "duration": 974,
    "start_time": "2022-02-10T12:59:54.670Z"
   },
   {
    "duration": 9,
    "start_time": "2022-02-10T12:59:55.645Z"
   },
   {
    "duration": 19,
    "start_time": "2022-02-10T12:59:55.655Z"
   },
   {
    "duration": 17,
    "start_time": "2022-02-10T13:05:58.234Z"
   },
   {
    "duration": 350,
    "start_time": "2022-02-10T13:06:23.126Z"
   },
   {
    "duration": 239,
    "start_time": "2022-02-10T13:06:34.793Z"
   },
   {
    "duration": 249,
    "start_time": "2022-02-10T13:06:43.761Z"
   },
   {
    "duration": 25,
    "start_time": "2022-02-10T13:06:53.764Z"
   },
   {
    "duration": 6502,
    "start_time": "2022-02-10T13:07:44.931Z"
   },
   {
    "duration": 25,
    "start_time": "2022-02-10T13:08:22.428Z"
   },
   {
    "duration": 14,
    "start_time": "2022-02-10T13:08:44.760Z"
   },
   {
    "duration": 401,
    "start_time": "2022-02-10T13:08:45.709Z"
   },
   {
    "duration": 13,
    "start_time": "2022-02-10T13:09:02.490Z"
   },
   {
    "duration": 406,
    "start_time": "2022-02-10T13:09:05.728Z"
   },
   {
    "duration": 551,
    "start_time": "2022-02-10T13:10:26.293Z"
   },
   {
    "duration": 620,
    "start_time": "2022-02-10T13:10:38.361Z"
   },
   {
    "duration": 295,
    "start_time": "2022-02-10T13:10:47.568Z"
   },
   {
    "duration": 318,
    "start_time": "2022-02-10T13:11:17.829Z"
   },
   {
    "duration": 23,
    "start_time": "2022-02-10T13:17:09.034Z"
   },
   {
    "duration": 360,
    "start_time": "2022-02-10T13:24:29.452Z"
   },
   {
    "duration": 22,
    "start_time": "2022-02-10T13:25:27.177Z"
   },
   {
    "duration": 14,
    "start_time": "2022-02-10T13:28:57.727Z"
   },
   {
    "duration": 222,
    "start_time": "2022-02-10T13:30:04.733Z"
   },
   {
    "duration": 247,
    "start_time": "2022-02-10T13:30:09.864Z"
   },
   {
    "duration": 11,
    "start_time": "2022-02-10T13:30:17.803Z"
   },
   {
    "duration": 282,
    "start_time": "2022-02-10T13:30:59.374Z"
   },
   {
    "duration": 11,
    "start_time": "2022-02-10T13:31:28.309Z"
   },
   {
    "duration": 11,
    "start_time": "2022-02-10T13:31:37.054Z"
   },
   {
    "duration": 234,
    "start_time": "2022-02-10T13:37:33.475Z"
   },
   {
    "duration": 252,
    "start_time": "2022-02-10T13:38:16.793Z"
   },
   {
    "duration": 74,
    "start_time": "2022-02-10T13:39:06.623Z"
   },
   {
    "duration": 14,
    "start_time": "2022-02-10T13:39:24.813Z"
   },
   {
    "duration": 13,
    "start_time": "2022-02-10T13:39:48.325Z"
   },
   {
    "duration": 77,
    "start_time": "2022-02-10T13:41:05.907Z"
   },
   {
    "duration": 353,
    "start_time": "2022-02-10T13:41:10.606Z"
   },
   {
    "duration": 241,
    "start_time": "2022-02-10T13:41:36.193Z"
   },
   {
    "duration": 257,
    "start_time": "2022-02-10T13:41:43.266Z"
   },
   {
    "duration": 320,
    "start_time": "2022-02-10T13:41:52.569Z"
   },
   {
    "duration": 407,
    "start_time": "2022-02-10T13:42:01.669Z"
   },
   {
    "duration": 15,
    "start_time": "2022-02-10T14:05:22.538Z"
   },
   {
    "duration": 15,
    "start_time": "2022-02-10T14:05:44.097Z"
   },
   {
    "duration": 1105,
    "start_time": "2022-02-10T14:06:08.872Z"
   },
   {
    "duration": 201,
    "start_time": "2022-02-10T14:06:09.979Z"
   },
   {
    "duration": 10,
    "start_time": "2022-02-10T14:06:10.182Z"
   },
   {
    "duration": 29,
    "start_time": "2022-02-10T14:06:10.194Z"
   },
   {
    "duration": 12,
    "start_time": "2022-02-10T14:06:10.225Z"
   },
   {
    "duration": 19,
    "start_time": "2022-02-10T14:06:10.238Z"
   },
   {
    "duration": 11,
    "start_time": "2022-02-10T14:06:10.259Z"
   },
   {
    "duration": 43,
    "start_time": "2022-02-10T14:06:10.272Z"
   },
   {
    "duration": 10,
    "start_time": "2022-02-10T14:06:10.319Z"
   },
   {
    "duration": 20,
    "start_time": "2022-02-10T14:06:10.332Z"
   },
   {
    "duration": 15,
    "start_time": "2022-02-10T14:06:10.353Z"
   },
   {
    "duration": 60,
    "start_time": "2022-02-10T14:06:10.370Z"
   },
   {
    "duration": 9,
    "start_time": "2022-02-10T14:06:10.432Z"
   },
   {
    "duration": 19,
    "start_time": "2022-02-10T14:06:10.443Z"
   },
   {
    "duration": 5,
    "start_time": "2022-02-10T14:06:10.464Z"
   },
   {
    "duration": 50,
    "start_time": "2022-02-10T14:06:10.471Z"
   },
   {
    "duration": 7,
    "start_time": "2022-02-10T14:06:10.523Z"
   },
   {
    "duration": 10,
    "start_time": "2022-02-10T14:06:10.532Z"
   },
   {
    "duration": 21,
    "start_time": "2022-02-10T14:06:10.544Z"
   },
   {
    "duration": 6,
    "start_time": "2022-02-10T14:06:10.567Z"
   },
   {
    "duration": 39,
    "start_time": "2022-02-10T14:06:10.575Z"
   },
   {
    "duration": 9,
    "start_time": "2022-02-10T14:06:10.616Z"
   },
   {
    "duration": 11,
    "start_time": "2022-02-10T14:06:10.626Z"
   },
   {
    "duration": 15,
    "start_time": "2022-02-10T14:06:10.638Z"
   },
   {
    "duration": 21,
    "start_time": "2022-02-10T14:06:10.655Z"
   },
   {
    "duration": 8,
    "start_time": "2022-02-10T14:06:10.712Z"
   },
   {
    "duration": 20,
    "start_time": "2022-02-10T14:06:10.725Z"
   },
   {
    "duration": 509,
    "start_time": "2022-02-10T14:06:10.748Z"
   },
   {
    "duration": 471,
    "start_time": "2022-02-10T14:06:11.259Z"
   },
   {
    "duration": 2117,
    "start_time": "2022-02-10T14:06:11.732Z"
   },
   {
    "duration": 33,
    "start_time": "2022-02-10T14:06:13.852Z"
   },
   {
    "duration": 47,
    "start_time": "2022-02-10T14:06:13.887Z"
   },
   {
    "duration": 503,
    "start_time": "2022-02-10T14:06:13.936Z"
   },
   {
    "duration": 340,
    "start_time": "2022-02-10T14:06:14.442Z"
   },
   {
    "duration": 516,
    "start_time": "2022-02-10T14:06:14.784Z"
   },
   {
    "duration": 1097,
    "start_time": "2022-02-10T14:06:15.302Z"
   },
   {
    "duration": 19,
    "start_time": "2022-02-10T14:06:16.401Z"
   },
   {
    "duration": 1142,
    "start_time": "2022-02-10T14:06:16.422Z"
   },
   {
    "duration": 11,
    "start_time": "2022-02-10T14:06:17.566Z"
   },
   {
    "duration": 1042,
    "start_time": "2022-02-10T14:06:17.579Z"
   },
   {
    "duration": 11,
    "start_time": "2022-02-10T14:06:18.623Z"
   },
   {
    "duration": 380,
    "start_time": "2022-02-10T14:06:18.636Z"
   },
   {
    "duration": 365,
    "start_time": "2022-02-10T14:06:19.017Z"
   },
   {
    "duration": 14,
    "start_time": "2022-02-10T14:06:19.383Z"
   },
   {
    "duration": 363,
    "start_time": "2022-02-10T14:06:19.399Z"
   },
   {
    "duration": 606,
    "start_time": "2022-02-10T14:06:19.764Z"
   },
   {
    "duration": 612,
    "start_time": "2022-02-10T14:06:20.372Z"
   },
   {
    "duration": 1036,
    "start_time": "2022-02-10T14:06:20.986Z"
   },
   {
    "duration": 16,
    "start_time": "2022-02-10T14:06:22.024Z"
   },
   {
    "duration": 14,
    "start_time": "2022-02-10T14:06:22.042Z"
   },
   {
    "duration": 1149,
    "start_time": "2022-02-10T14:20:26.640Z"
   },
   {
    "duration": 237,
    "start_time": "2022-02-10T14:20:27.791Z"
   },
   {
    "duration": 11,
    "start_time": "2022-02-10T14:20:28.030Z"
   },
   {
    "duration": 30,
    "start_time": "2022-02-10T14:20:28.043Z"
   },
   {
    "duration": 38,
    "start_time": "2022-02-10T14:20:28.074Z"
   },
   {
    "duration": 22,
    "start_time": "2022-02-10T14:20:28.114Z"
   },
   {
    "duration": 9,
    "start_time": "2022-02-10T14:20:28.138Z"
   },
   {
    "duration": 14,
    "start_time": "2022-02-10T14:20:28.149Z"
   },
   {
    "duration": 48,
    "start_time": "2022-02-10T14:20:28.165Z"
   },
   {
    "duration": 21,
    "start_time": "2022-02-10T14:20:28.215Z"
   },
   {
    "duration": 15,
    "start_time": "2022-02-10T14:20:28.238Z"
   },
   {
    "duration": 23,
    "start_time": "2022-02-10T14:20:28.256Z"
   },
   {
    "duration": 38,
    "start_time": "2022-02-10T14:20:28.282Z"
   },
   {
    "duration": 20,
    "start_time": "2022-02-10T14:20:28.322Z"
   },
   {
    "duration": 5,
    "start_time": "2022-02-10T14:20:28.344Z"
   },
   {
    "duration": 23,
    "start_time": "2022-02-10T14:20:28.351Z"
   },
   {
    "duration": 43,
    "start_time": "2022-02-10T14:20:28.376Z"
   },
   {
    "duration": 10,
    "start_time": "2022-02-10T14:20:28.421Z"
   },
   {
    "duration": 22,
    "start_time": "2022-02-10T14:20:28.433Z"
   },
   {
    "duration": 9,
    "start_time": "2022-02-10T14:20:28.457Z"
   },
   {
    "duration": 6,
    "start_time": "2022-02-10T14:20:28.468Z"
   },
   {
    "duration": 46,
    "start_time": "2022-02-10T14:20:28.476Z"
   },
   {
    "duration": 11,
    "start_time": "2022-02-10T14:20:28.524Z"
   },
   {
    "duration": 17,
    "start_time": "2022-02-10T14:20:28.537Z"
   },
   {
    "duration": 16,
    "start_time": "2022-02-10T14:20:28.556Z"
   },
   {
    "duration": 43,
    "start_time": "2022-02-10T14:20:28.574Z"
   },
   {
    "duration": 15,
    "start_time": "2022-02-10T14:20:28.622Z"
   },
   {
    "duration": 526,
    "start_time": "2022-02-10T14:20:28.640Z"
   },
   {
    "duration": 460,
    "start_time": "2022-02-10T14:20:29.168Z"
   },
   {
    "duration": 2037,
    "start_time": "2022-02-10T14:20:29.629Z"
   },
   {
    "duration": 22,
    "start_time": "2022-02-10T14:20:31.668Z"
   },
   {
    "duration": 37,
    "start_time": "2022-02-10T14:20:31.692Z"
   },
   {
    "duration": 434,
    "start_time": "2022-02-10T14:20:31.731Z"
   },
   {
    "duration": 352,
    "start_time": "2022-02-10T14:20:32.167Z"
   },
   {
    "duration": 477,
    "start_time": "2022-02-10T14:20:32.521Z"
   },
   {
    "duration": 1118,
    "start_time": "2022-02-10T14:20:33.000Z"
   },
   {
    "duration": 13,
    "start_time": "2022-02-10T14:20:34.120Z"
   },
   {
    "duration": 1118,
    "start_time": "2022-02-10T14:20:34.135Z"
   },
   {
    "duration": 11,
    "start_time": "2022-02-10T14:20:35.255Z"
   },
   {
    "duration": 984,
    "start_time": "2022-02-10T14:20:35.268Z"
   },
   {
    "duration": 12,
    "start_time": "2022-02-10T14:20:36.253Z"
   },
   {
    "duration": 359,
    "start_time": "2022-02-10T14:20:36.266Z"
   },
   {
    "duration": 357,
    "start_time": "2022-02-10T14:20:36.627Z"
   },
   {
    "duration": 14,
    "start_time": "2022-02-10T14:20:36.985Z"
   },
   {
    "duration": 342,
    "start_time": "2022-02-10T14:20:37.013Z"
   },
   {
    "duration": 597,
    "start_time": "2022-02-10T14:20:37.357Z"
   },
   {
    "duration": 586,
    "start_time": "2022-02-10T14:20:37.956Z"
   },
   {
    "duration": 995,
    "start_time": "2022-02-10T14:20:38.544Z"
   },
   {
    "duration": 14,
    "start_time": "2022-02-10T14:20:39.541Z"
   },
   {
    "duration": 14,
    "start_time": "2022-02-10T14:20:39.557Z"
   },
   {
    "duration": 1144,
    "start_time": "2022-02-10T14:27:01.239Z"
   },
   {
    "duration": 231,
    "start_time": "2022-02-10T14:27:02.385Z"
   },
   {
    "duration": 10,
    "start_time": "2022-02-10T14:27:02.619Z"
   },
   {
    "duration": 31,
    "start_time": "2022-02-10T14:27:02.632Z"
   },
   {
    "duration": 13,
    "start_time": "2022-02-10T14:27:02.665Z"
   },
   {
    "duration": 45,
    "start_time": "2022-02-10T14:27:02.680Z"
   },
   {
    "duration": 10,
    "start_time": "2022-02-10T14:27:02.727Z"
   },
   {
    "duration": 14,
    "start_time": "2022-02-10T14:27:02.741Z"
   },
   {
    "duration": 8,
    "start_time": "2022-02-10T14:27:02.759Z"
   },
   {
    "duration": 50,
    "start_time": "2022-02-10T14:27:02.769Z"
   },
   {
    "duration": 18,
    "start_time": "2022-02-10T14:27:02.821Z"
   },
   {
    "duration": 23,
    "start_time": "2022-02-10T14:27:02.841Z"
   },
   {
    "duration": 46,
    "start_time": "2022-02-10T14:27:02.866Z"
   },
   {
    "duration": 22,
    "start_time": "2022-02-10T14:27:02.914Z"
   },
   {
    "duration": 6,
    "start_time": "2022-02-10T14:27:02.938Z"
   },
   {
    "duration": 22,
    "start_time": "2022-02-10T14:27:02.946Z"
   },
   {
    "duration": 6,
    "start_time": "2022-02-10T14:27:02.970Z"
   },
   {
    "duration": 42,
    "start_time": "2022-02-10T14:27:02.978Z"
   },
   {
    "duration": 23,
    "start_time": "2022-02-10T14:27:03.022Z"
   },
   {
    "duration": 7,
    "start_time": "2022-02-10T14:27:03.046Z"
   },
   {
    "duration": 6,
    "start_time": "2022-02-10T14:27:03.055Z"
   },
   {
    "duration": 12,
    "start_time": "2022-02-10T14:27:03.062Z"
   },
   {
    "duration": 42,
    "start_time": "2022-02-10T14:27:03.078Z"
   },
   {
    "duration": 22,
    "start_time": "2022-02-10T14:27:03.123Z"
   },
   {
    "duration": 14,
    "start_time": "2022-02-10T14:27:03.147Z"
   },
   {
    "duration": 5,
    "start_time": "2022-02-10T14:27:03.162Z"
   },
   {
    "duration": 43,
    "start_time": "2022-02-10T14:27:03.169Z"
   },
   {
    "duration": 502,
    "start_time": "2022-02-10T14:27:03.214Z"
   },
   {
    "duration": 452,
    "start_time": "2022-02-10T14:27:03.718Z"
   },
   {
    "duration": 2013,
    "start_time": "2022-02-10T14:27:04.172Z"
   },
   {
    "duration": 31,
    "start_time": "2022-02-10T14:27:06.187Z"
   },
   {
    "duration": 24,
    "start_time": "2022-02-10T14:27:06.220Z"
   },
   {
    "duration": 441,
    "start_time": "2022-02-10T14:27:06.246Z"
   },
   {
    "duration": 350,
    "start_time": "2022-02-10T14:27:06.689Z"
   },
   {
    "duration": 457,
    "start_time": "2022-02-10T14:27:07.041Z"
   },
   {
    "duration": 1055,
    "start_time": "2022-02-10T14:27:07.500Z"
   },
   {
    "duration": 11,
    "start_time": "2022-02-10T14:27:08.557Z"
   },
   {
    "duration": 1108,
    "start_time": "2022-02-10T14:27:08.570Z"
   },
   {
    "duration": 13,
    "start_time": "2022-02-10T14:27:09.680Z"
   },
   {
    "duration": 1090,
    "start_time": "2022-02-10T14:27:09.695Z"
   },
   {
    "duration": 11,
    "start_time": "2022-02-10T14:27:10.787Z"
   },
   {
    "duration": 377,
    "start_time": "2022-02-10T14:27:10.799Z"
   },
   {
    "duration": 388,
    "start_time": "2022-02-10T14:27:11.178Z"
   },
   {
    "duration": 15,
    "start_time": "2022-02-10T14:27:11.568Z"
   },
   {
    "duration": 373,
    "start_time": "2022-02-10T14:27:11.585Z"
   },
   {
    "duration": 661,
    "start_time": "2022-02-10T14:27:11.959Z"
   },
   {
    "duration": 666,
    "start_time": "2022-02-10T14:27:12.622Z"
   },
   {
    "duration": 1089,
    "start_time": "2022-02-10T14:27:13.291Z"
   },
   {
    "duration": 16,
    "start_time": "2022-02-10T14:27:14.382Z"
   },
   {
    "duration": 30,
    "start_time": "2022-02-10T14:27:14.400Z"
   },
   {
    "duration": 1558,
    "start_time": "2022-02-11T08:51:36.618Z"
   },
   {
    "duration": 725,
    "start_time": "2022-02-11T08:51:38.178Z"
   },
   {
    "duration": 14,
    "start_time": "2022-02-11T08:51:38.906Z"
   },
   {
    "duration": 72,
    "start_time": "2022-02-11T08:51:38.923Z"
   },
   {
    "duration": 30,
    "start_time": "2022-02-11T08:51:38.999Z"
   },
   {
    "duration": 56,
    "start_time": "2022-02-11T08:51:39.032Z"
   },
   {
    "duration": 16,
    "start_time": "2022-02-11T08:51:39.090Z"
   },
   {
    "duration": 21,
    "start_time": "2022-02-11T08:51:39.111Z"
   },
   {
    "duration": 10,
    "start_time": "2022-02-11T08:51:39.135Z"
   },
   {
    "duration": 34,
    "start_time": "2022-02-11T08:51:39.148Z"
   },
   {
    "duration": 33,
    "start_time": "2022-02-11T08:51:39.184Z"
   },
   {
    "duration": 45,
    "start_time": "2022-02-11T08:51:39.223Z"
   },
   {
    "duration": 17,
    "start_time": "2022-02-11T08:51:39.271Z"
   },
   {
    "duration": 45,
    "start_time": "2022-02-11T08:51:39.291Z"
   },
   {
    "duration": 9,
    "start_time": "2022-02-11T08:51:39.339Z"
   },
   {
    "duration": 39,
    "start_time": "2022-02-11T08:51:39.351Z"
   },
   {
    "duration": 9,
    "start_time": "2022-02-11T08:51:39.392Z"
   },
   {
    "duration": 25,
    "start_time": "2022-02-11T08:51:39.404Z"
   },
   {
    "duration": 50,
    "start_time": "2022-02-11T08:51:39.431Z"
   },
   {
    "duration": 45,
    "start_time": "2022-02-11T08:51:39.484Z"
   },
   {
    "duration": 15,
    "start_time": "2022-02-11T08:51:39.532Z"
   },
   {
    "duration": 74,
    "start_time": "2022-02-11T08:51:39.551Z"
   },
   {
    "duration": 23,
    "start_time": "2022-02-11T08:51:39.635Z"
   },
   {
    "duration": 28,
    "start_time": "2022-02-11T08:51:39.661Z"
   },
   {
    "duration": 58,
    "start_time": "2022-02-11T08:51:39.692Z"
   },
   {
    "duration": 40,
    "start_time": "2022-02-11T08:51:39.753Z"
   },
   {
    "duration": 27,
    "start_time": "2022-02-11T08:51:39.797Z"
   },
   {
    "duration": 1425,
    "start_time": "2022-02-11T08:51:39.827Z"
   },
   {
    "duration": 1029,
    "start_time": "2022-02-11T08:51:41.255Z"
   },
   {
    "duration": 3644,
    "start_time": "2022-02-11T08:51:42.287Z"
   },
   {
    "duration": 48,
    "start_time": "2022-02-11T08:51:45.934Z"
   },
   {
    "duration": 81,
    "start_time": "2022-02-11T08:51:45.985Z"
   },
   {
    "duration": 873,
    "start_time": "2022-02-11T08:51:46.070Z"
   },
   {
    "duration": 534,
    "start_time": "2022-02-11T08:51:46.947Z"
   },
   {
    "duration": 933,
    "start_time": "2022-02-11T08:51:47.483Z"
   },
   {
    "duration": 1554,
    "start_time": "2022-02-11T08:51:48.423Z"
   },
   {
    "duration": 20,
    "start_time": "2022-02-11T08:51:49.980Z"
   },
   {
    "duration": 1615,
    "start_time": "2022-02-11T08:51:50.023Z"
   },
   {
    "duration": 16,
    "start_time": "2022-02-11T08:51:51.640Z"
   },
   {
    "duration": 1664,
    "start_time": "2022-02-11T08:51:51.659Z"
   },
   {
    "duration": 23,
    "start_time": "2022-02-11T08:51:53.327Z"
   },
   {
    "duration": 576,
    "start_time": "2022-02-11T08:51:53.353Z"
   },
   {
    "duration": 562,
    "start_time": "2022-02-11T08:51:53.932Z"
   },
   {
    "duration": 43,
    "start_time": "2022-02-11T08:51:54.497Z"
   },
   {
    "duration": 609,
    "start_time": "2022-02-11T08:51:54.543Z"
   },
   {
    "duration": 935,
    "start_time": "2022-02-11T08:51:55.155Z"
   },
   {
    "duration": 958,
    "start_time": "2022-02-11T08:51:56.092Z"
   },
   {
    "duration": 1624,
    "start_time": "2022-02-11T08:51:57.053Z"
   },
   {
    "duration": 23,
    "start_time": "2022-02-11T08:51:58.680Z"
   },
   {
    "duration": 24,
    "start_time": "2022-02-11T08:51:58.724Z"
   }
  ],
  "hide_input": false,
  "kernelspec": {
   "display_name": "Python 3 (ipykernel)",
   "language": "python",
   "name": "python3"
  },
  "language_info": {
   "codemirror_mode": {
    "name": "ipython",
    "version": 3
   },
   "file_extension": ".py",
   "mimetype": "text/x-python",
   "name": "python",
   "nbconvert_exporter": "python",
   "pygments_lexer": "ipython3",
   "version": "3.9.7"
  },
  "toc": {
   "base_numbering": 1,
   "nav_menu": {},
   "number_sections": true,
   "sideBar": true,
   "skip_h1_title": false,
   "title_cell": "Содержание",
   "title_sidebar": "Contents",
   "toc_cell": true,
   "toc_position": {
    "height": "calc(100% - 180px)",
    "left": "10px",
    "top": "150px",
    "width": "165px"
   },
   "toc_section_display": true,
   "toc_window_display": false
  }
 },
 "nbformat": 4,
 "nbformat_minor": 5
}
