{
 "cells": [
  {
   "cell_type": "markdown",
   "id": "75c3498a",
   "metadata": {
    "toc": true
   },
   "source": [
    "<h1>Содержание<span class=\"tocSkip\"></span></h1>\n",
    "<div class=\"toc\"><ul class=\"toc-item\"><li><span><a href=\"#Описание-проекта\" data-toc-modified-id=\"Описание-проекта-1\"><span class=\"toc-item-num\">1&nbsp;&nbsp;</span>Описание проекта</a></span></li><li><span><a href=\"#Выгрузка-и-изучение-данных\" data-toc-modified-id=\"Выгрузка-и-изучение-данных-2\"><span class=\"toc-item-num\">2&nbsp;&nbsp;</span>Выгрузка и изучение данных</a></span><ul class=\"toc-item\"><li><span><a href=\"#Вывод\" data-toc-modified-id=\"Вывод-2.1\"><span class=\"toc-item-num\">2.1&nbsp;&nbsp;</span>Вывод</a></span></li></ul></li><li><span><a href=\"#Предобработка-данных\" data-toc-modified-id=\"Предобработка-данных-3\"><span class=\"toc-item-num\">3&nbsp;&nbsp;</span>Предобработка данных</a></span><ul class=\"toc-item\"><li><span><a href=\"#Вывод\" data-toc-modified-id=\"Вывод-3.1\"><span class=\"toc-item-num\">3.1&nbsp;&nbsp;</span>Вывод</a></span></li></ul></li><li><span><a href=\"#Исследовательский-анализ-данных\" data-toc-modified-id=\"Исследовательский-анализ-данных-4\"><span class=\"toc-item-num\">4&nbsp;&nbsp;</span>Исследовательский анализ данных</a></span><ul class=\"toc-item\"><li><span><a href=\"#Вывод\" data-toc-modified-id=\"Вывод-4.1\"><span class=\"toc-item-num\">4.1&nbsp;&nbsp;</span>Вывод</a></span></li></ul></li><li><span><a href=\"#Исследование-воронки-событий\" data-toc-modified-id=\"Исследование-воронки-событий-5\"><span class=\"toc-item-num\">5&nbsp;&nbsp;</span>Исследование воронки событий</a></span><ul class=\"toc-item\"><li><span><a href=\"#Вывод\" data-toc-modified-id=\"Вывод-5.1\"><span class=\"toc-item-num\">5.1&nbsp;&nbsp;</span>Вывод</a></span></li></ul></li><li><span><a href=\"#Анализ-результатов-эксперимента\" data-toc-modified-id=\"Анализ-результатов-эксперимента-6\"><span class=\"toc-item-num\">6&nbsp;&nbsp;</span>Анализ результатов эксперимента</a></span><ul class=\"toc-item\"><li><span><a href=\"#Вывод\" data-toc-modified-id=\"Вывод-6.1\"><span class=\"toc-item-num\">6.1&nbsp;&nbsp;</span>Вывод</a></span></li></ul></li><li><span><a href=\"#Вывод\" data-toc-modified-id=\"Вывод-7\"><span class=\"toc-item-num\">7&nbsp;&nbsp;</span>Вывод</a></span></li></ul></div>"
   ]
  },
  {
   "cell_type": "markdown",
   "id": "2ca6704d",
   "metadata": {},
   "source": [
    "## Описание проекта"
   ]
  },
  {
   "cell_type": "markdown",
   "id": "467a8c12",
   "metadata": {},
   "source": [
    "В проекте будем рассматривать стартап, который продаёт продукты питания. Нужно разобраться, как ведут себя пользователи нашего мобильного приложения.\n",
    "\n",
    "Изучим воронку продаж. Узнаем, как пользователи доходят до покупки. Сколько пользователей доходит до покупки, а сколько — «застревает» на предыдущих шагах? На каких именно?\n",
    "\n",
    "После этого исследуем результаты A/A/B-эксперимента. Дизайнеры захотели поменять шрифты во всём приложении, а менеджеры испугались, что пользователям будет непривычно. Договорились принять решение по результатам A/A/B-теста. Пользователей разбили на 3 группы: 2 контрольные со старыми шрифтами и одну экспериментальную — с новыми. Выясним, какой шрифт лучше.\n",
    "\n",
    "Создание двух групп A вместо одной имеет определённые преимущества. Если две контрольные группы окажутся равны, вы можете быть уверены в точности проведенного тестирования. Если же между значениями A и A будут существенные различия, это поможет обнаружить факторы, которые привели к искажению результатов. Сравнение контрольных групп также поможет понять, сколько времени и данных потребуется для дальнейших тестов.\n",
    "\n",
    "**Описание данных**\n",
    "\n",
    "Каждая запись в логе — это действие пользователя, или событие.\n",
    "\n",
    "- EventName  — название события\n",
    "- DeviceIDHash  — уникальный идентификатор пользователя\n",
    "- EventTimestamp  — время события\n",
    "- ExpId  — номер эксперимента: 246 и 247 — контрольные группы, а 248 — экспериментальная"
   ]
  },
  {
   "cell_type": "markdown",
   "id": "cebe3d27",
   "metadata": {},
   "source": [
    "## Выгрузка и изучение данных"
   ]
  },
  {
   "cell_type": "markdown",
   "id": "9f0c5a25",
   "metadata": {},
   "source": [
    "Импортируем основные библиотеки"
   ]
  },
  {
   "cell_type": "code",
   "execution_count": 1,
   "id": "240e73d9",
   "metadata": {},
   "outputs": [],
   "source": [
    "import pandas as pd\n",
    "from scipy import stats as st\n",
    "import numpy as np\n",
    "import math as mth\n",
    "import matplotlib.pyplot as plt\n",
    "import seaborn as sns\n",
    "import plotly.express as px\n",
    "from plotly import graph_objects as go\n",
    "import warnings\n",
    "warnings.simplefilter('ignore')\n",
    "\n",
    "# Импорт основных библиотек"
   ]
  },
  {
   "cell_type": "code",
   "execution_count": 2,
   "id": "50b6a76b",
   "metadata": {
    "scrolled": true
   },
   "outputs": [
    {
     "data": {
      "text/html": [
       "<div>\n",
       "<style scoped>\n",
       "    .dataframe tbody tr th:only-of-type {\n",
       "        vertical-align: middle;\n",
       "    }\n",
       "\n",
       "    .dataframe tbody tr th {\n",
       "        vertical-align: top;\n",
       "    }\n",
       "\n",
       "    .dataframe thead th {\n",
       "        text-align: right;\n",
       "    }\n",
       "</style>\n",
       "<table border=\"1\" class=\"dataframe\">\n",
       "  <thead>\n",
       "    <tr style=\"text-align: right;\">\n",
       "      <th></th>\n",
       "      <th>EventName</th>\n",
       "      <th>DeviceIDHash</th>\n",
       "      <th>EventTimestamp</th>\n",
       "      <th>ExpId</th>\n",
       "    </tr>\n",
       "  </thead>\n",
       "  <tbody>\n",
       "    <tr>\n",
       "      <th>0</th>\n",
       "      <td>MainScreenAppear</td>\n",
       "      <td>4575588528974610257</td>\n",
       "      <td>1564029816</td>\n",
       "      <td>246</td>\n",
       "    </tr>\n",
       "    <tr>\n",
       "      <th>1</th>\n",
       "      <td>MainScreenAppear</td>\n",
       "      <td>7416695313311560658</td>\n",
       "      <td>1564053102</td>\n",
       "      <td>246</td>\n",
       "    </tr>\n",
       "    <tr>\n",
       "      <th>2</th>\n",
       "      <td>PaymentScreenSuccessful</td>\n",
       "      <td>3518123091307005509</td>\n",
       "      <td>1564054127</td>\n",
       "      <td>248</td>\n",
       "    </tr>\n",
       "    <tr>\n",
       "      <th>3</th>\n",
       "      <td>CartScreenAppear</td>\n",
       "      <td>3518123091307005509</td>\n",
       "      <td>1564054127</td>\n",
       "      <td>248</td>\n",
       "    </tr>\n",
       "    <tr>\n",
       "      <th>4</th>\n",
       "      <td>PaymentScreenSuccessful</td>\n",
       "      <td>6217807653094995999</td>\n",
       "      <td>1564055322</td>\n",
       "      <td>248</td>\n",
       "    </tr>\n",
       "  </tbody>\n",
       "</table>\n",
       "</div>"
      ],
      "text/plain": [
       "                 EventName         DeviceIDHash  EventTimestamp  ExpId\n",
       "0         MainScreenAppear  4575588528974610257      1564029816    246\n",
       "1         MainScreenAppear  7416695313311560658      1564053102    246\n",
       "2  PaymentScreenSuccessful  3518123091307005509      1564054127    248\n",
       "3         CartScreenAppear  3518123091307005509      1564054127    248\n",
       "4  PaymentScreenSuccessful  6217807653094995999      1564055322    248"
      ]
     },
     "execution_count": 2,
     "metadata": {},
     "output_type": "execute_result"
    }
   ],
   "source": [
    "logs = pd.read_csv('logs_exp.csv', sep = '\\t') # Чтени и запись файла\n",
    "logs.head()"
   ]
  },
  {
   "cell_type": "markdown",
   "id": "6b2c25ff",
   "metadata": {},
   "source": [
    "Выведим общую информацию о датасете"
   ]
  },
  {
   "cell_type": "code",
   "execution_count": 3,
   "id": "ad11efd1",
   "metadata": {},
   "outputs": [
    {
     "name": "stdout",
     "output_type": "stream",
     "text": [
      "<class 'pandas.core.frame.DataFrame'>\n",
      "RangeIndex: 244126 entries, 0 to 244125\n",
      "Data columns (total 4 columns):\n",
      " #   Column          Non-Null Count   Dtype \n",
      "---  ------          --------------   ----- \n",
      " 0   EventName       244126 non-null  object\n",
      " 1   DeviceIDHash    244126 non-null  int64 \n",
      " 2   EventTimestamp  244126 non-null  int64 \n",
      " 3   ExpId           244126 non-null  int64 \n",
      "dtypes: int64(3), object(1)\n",
      "memory usage: 7.5+ MB\n"
     ]
    }
   ],
   "source": [
    "logs.info() # Общая информация о датасете"
   ]
  },
  {
   "cell_type": "markdown",
   "id": "845db1f0",
   "metadata": {},
   "source": [
    "### Вывод"
   ]
  },
  {
   "cell_type": "markdown",
   "id": "f2b7a9c3",
   "metadata": {},
   "source": [
    "Обозначили переменную с исследуемым датасетом - `logs`. Датасет содержит 4 столбца и  244126 строк. Для более детального погружения в анализ необходимо провести предобработку данных.\n",
    "\n",
    "Необходимо отметить, что данные о времени события представлены в формате `unix`"
   ]
  },
  {
   "cell_type": "markdown",
   "id": "3b6f0408",
   "metadata": {},
   "source": [
    "## Предобработка данных"
   ]
  },
  {
   "cell_type": "markdown",
   "id": "e416b656",
   "metadata": {},
   "source": [
    "Выведим датасет на экран"
   ]
  },
  {
   "cell_type": "code",
   "execution_count": 4,
   "id": "db709736",
   "metadata": {},
   "outputs": [
    {
     "data": {
      "text/html": [
       "<div>\n",
       "<style scoped>\n",
       "    .dataframe tbody tr th:only-of-type {\n",
       "        vertical-align: middle;\n",
       "    }\n",
       "\n",
       "    .dataframe tbody tr th {\n",
       "        vertical-align: top;\n",
       "    }\n",
       "\n",
       "    .dataframe thead th {\n",
       "        text-align: right;\n",
       "    }\n",
       "</style>\n",
       "<table border=\"1\" class=\"dataframe\">\n",
       "  <thead>\n",
       "    <tr style=\"text-align: right;\">\n",
       "      <th></th>\n",
       "      <th>EventName</th>\n",
       "      <th>DeviceIDHash</th>\n",
       "      <th>EventTimestamp</th>\n",
       "      <th>ExpId</th>\n",
       "    </tr>\n",
       "  </thead>\n",
       "  <tbody>\n",
       "    <tr>\n",
       "      <th>0</th>\n",
       "      <td>MainScreenAppear</td>\n",
       "      <td>4575588528974610257</td>\n",
       "      <td>1564029816</td>\n",
       "      <td>246</td>\n",
       "    </tr>\n",
       "    <tr>\n",
       "      <th>1</th>\n",
       "      <td>MainScreenAppear</td>\n",
       "      <td>7416695313311560658</td>\n",
       "      <td>1564053102</td>\n",
       "      <td>246</td>\n",
       "    </tr>\n",
       "    <tr>\n",
       "      <th>2</th>\n",
       "      <td>PaymentScreenSuccessful</td>\n",
       "      <td>3518123091307005509</td>\n",
       "      <td>1564054127</td>\n",
       "      <td>248</td>\n",
       "    </tr>\n",
       "    <tr>\n",
       "      <th>3</th>\n",
       "      <td>CartScreenAppear</td>\n",
       "      <td>3518123091307005509</td>\n",
       "      <td>1564054127</td>\n",
       "      <td>248</td>\n",
       "    </tr>\n",
       "    <tr>\n",
       "      <th>4</th>\n",
       "      <td>PaymentScreenSuccessful</td>\n",
       "      <td>6217807653094995999</td>\n",
       "      <td>1564055322</td>\n",
       "      <td>248</td>\n",
       "    </tr>\n",
       "  </tbody>\n",
       "</table>\n",
       "</div>"
      ],
      "text/plain": [
       "                 EventName         DeviceIDHash  EventTimestamp  ExpId\n",
       "0         MainScreenAppear  4575588528974610257      1564029816    246\n",
       "1         MainScreenAppear  7416695313311560658      1564053102    246\n",
       "2  PaymentScreenSuccessful  3518123091307005509      1564054127    248\n",
       "3         CartScreenAppear  3518123091307005509      1564054127    248\n",
       "4  PaymentScreenSuccessful  6217807653094995999      1564055322    248"
      ]
     },
     "execution_count": 4,
     "metadata": {},
     "output_type": "execute_result"
    }
   ],
   "source": [
    "logs.head() # Выводим первые 5 строк датасета"
   ]
  },
  {
   "cell_type": "markdown",
   "id": "a986db25",
   "metadata": {},
   "source": [
    "Приведём название столбцов к привычному виду"
   ]
  },
  {
   "cell_type": "code",
   "execution_count": 5,
   "id": "ef6c4181",
   "metadata": {
    "scrolled": true
   },
   "outputs": [],
   "source": [
    "logs.columns = logs.columns.str.lower()\n",
    "logs = logs.rename(columns = {'eventname' : 'event_name', \n",
    "                        'deviceidhash' : 'device_id_hash',\n",
    "                        'eventtimestamp' : 'event_timestamp',\n",
    "                        'expid' : 'exp_id'})\n",
    "\n",
    "# Замена наименования столбцов"
   ]
  },
  {
   "cell_type": "markdown",
   "id": "5f59f99d",
   "metadata": {},
   "source": [
    "Проверим датасет на наличие дубликатов"
   ]
  },
  {
   "cell_type": "code",
   "execution_count": 6,
   "id": "0e126403",
   "metadata": {},
   "outputs": [
    {
     "data": {
      "text/plain": [
       "413"
      ]
     },
     "execution_count": 6,
     "metadata": {},
     "output_type": "execute_result"
    }
   ],
   "source": [
    "logs.duplicated().sum() # Поиск дубликатов"
   ]
  },
  {
   "cell_type": "markdown",
   "id": "48a51dcd",
   "metadata": {},
   "source": [
    "Удалим дублирующиеся строки датасета"
   ]
  },
  {
   "cell_type": "code",
   "execution_count": 7,
   "id": "7e50d15a",
   "metadata": {
    "scrolled": true
   },
   "outputs": [
    {
     "data": {
      "text/plain": [
       "0"
      ]
     },
     "execution_count": 7,
     "metadata": {},
     "output_type": "execute_result"
    }
   ],
   "source": [
    "logs = logs.drop_duplicates() # Удаление дубликатов\n",
    "logs.duplicated().sum()"
   ]
  },
  {
   "cell_type": "markdown",
   "id": "b3b4581c",
   "metadata": {},
   "source": [
    "Проверим данные на наличие пропусков"
   ]
  },
  {
   "cell_type": "code",
   "execution_count": 8,
   "id": "950e4ca7",
   "metadata": {},
   "outputs": [
    {
     "data": {
      "text/plain": [
       "event_name         0\n",
       "device_id_hash     0\n",
       "event_timestamp    0\n",
       "exp_id             0\n",
       "dtype: int64"
      ]
     },
     "execution_count": 8,
     "metadata": {},
     "output_type": "execute_result"
    }
   ],
   "source": [
    "logs.isnull().sum() # Проверка на наличие пропусков"
   ]
  },
  {
   "cell_type": "markdown",
   "id": "ef07af37",
   "metadata": {},
   "source": [
    "Добавим дополнительный столбец даты и времени `datetime` , а так же отдельный столбец дат `date`"
   ]
  },
  {
   "cell_type": "code",
   "execution_count": 9,
   "id": "9309a5d3",
   "metadata": {},
   "outputs": [
    {
     "data": {
      "text/html": [
       "<div>\n",
       "<style scoped>\n",
       "    .dataframe tbody tr th:only-of-type {\n",
       "        vertical-align: middle;\n",
       "    }\n",
       "\n",
       "    .dataframe tbody tr th {\n",
       "        vertical-align: top;\n",
       "    }\n",
       "\n",
       "    .dataframe thead th {\n",
       "        text-align: right;\n",
       "    }\n",
       "</style>\n",
       "<table border=\"1\" class=\"dataframe\">\n",
       "  <thead>\n",
       "    <tr style=\"text-align: right;\">\n",
       "      <th></th>\n",
       "      <th>event_name</th>\n",
       "      <th>device_id_hash</th>\n",
       "      <th>event_timestamp</th>\n",
       "      <th>exp_id</th>\n",
       "      <th>datetime</th>\n",
       "      <th>date</th>\n",
       "    </tr>\n",
       "  </thead>\n",
       "  <tbody>\n",
       "    <tr>\n",
       "      <th>0</th>\n",
       "      <td>MainScreenAppear</td>\n",
       "      <td>4575588528974610257</td>\n",
       "      <td>1564029816</td>\n",
       "      <td>246</td>\n",
       "      <td>2019-07-25 04:43:36</td>\n",
       "      <td>2019-07-25</td>\n",
       "    </tr>\n",
       "    <tr>\n",
       "      <th>1</th>\n",
       "      <td>MainScreenAppear</td>\n",
       "      <td>7416695313311560658</td>\n",
       "      <td>1564053102</td>\n",
       "      <td>246</td>\n",
       "      <td>2019-07-25 11:11:42</td>\n",
       "      <td>2019-07-25</td>\n",
       "    </tr>\n",
       "    <tr>\n",
       "      <th>2</th>\n",
       "      <td>PaymentScreenSuccessful</td>\n",
       "      <td>3518123091307005509</td>\n",
       "      <td>1564054127</td>\n",
       "      <td>248</td>\n",
       "      <td>2019-07-25 11:28:47</td>\n",
       "      <td>2019-07-25</td>\n",
       "    </tr>\n",
       "    <tr>\n",
       "      <th>3</th>\n",
       "      <td>CartScreenAppear</td>\n",
       "      <td>3518123091307005509</td>\n",
       "      <td>1564054127</td>\n",
       "      <td>248</td>\n",
       "      <td>2019-07-25 11:28:47</td>\n",
       "      <td>2019-07-25</td>\n",
       "    </tr>\n",
       "    <tr>\n",
       "      <th>4</th>\n",
       "      <td>PaymentScreenSuccessful</td>\n",
       "      <td>6217807653094995999</td>\n",
       "      <td>1564055322</td>\n",
       "      <td>248</td>\n",
       "      <td>2019-07-25 11:48:42</td>\n",
       "      <td>2019-07-25</td>\n",
       "    </tr>\n",
       "  </tbody>\n",
       "</table>\n",
       "</div>"
      ],
      "text/plain": [
       "                event_name       device_id_hash  event_timestamp  exp_id  \\\n",
       "0         MainScreenAppear  4575588528974610257       1564029816     246   \n",
       "1         MainScreenAppear  7416695313311560658       1564053102     246   \n",
       "2  PaymentScreenSuccessful  3518123091307005509       1564054127     248   \n",
       "3         CartScreenAppear  3518123091307005509       1564054127     248   \n",
       "4  PaymentScreenSuccessful  6217807653094995999       1564055322     248   \n",
       "\n",
       "             datetime        date  \n",
       "0 2019-07-25 04:43:36  2019-07-25  \n",
       "1 2019-07-25 11:11:42  2019-07-25  \n",
       "2 2019-07-25 11:28:47  2019-07-25  \n",
       "3 2019-07-25 11:28:47  2019-07-25  \n",
       "4 2019-07-25 11:48:42  2019-07-25  "
      ]
     },
     "execution_count": 9,
     "metadata": {},
     "output_type": "execute_result"
    }
   ],
   "source": [
    "logs['datetime'] = pd.to_datetime(logs['event_timestamp'], unit = 's') # Создание дополнительных столбцов\n",
    "logs['date'] = logs['datetime'].dt.date\n",
    "logs.head()"
   ]
  },
  {
   "cell_type": "markdown",
   "id": "00672636",
   "metadata": {},
   "source": [
    "### Вывод"
   ]
  },
  {
   "cell_type": "markdown",
   "id": "74e7c63c",
   "metadata": {},
   "source": [
    "В ходе предобработки данных проделали следующие действия:\n",
    "\n",
    "- Изменилил названия столбцов датасета\n",
    "- Избавились от дубликатов\n",
    "- Проверили датасет на наличие пропусков\n",
    "- Убедились в корректности типов данных каждого столбца\n",
    "- Добавили столбцы `datetime` и `date`"
   ]
  },
  {
   "cell_type": "markdown",
   "id": "32a6dc2b",
   "metadata": {},
   "source": [
    "## Исследовательский анализ данных"
   ]
  },
  {
   "cell_type": "markdown",
   "id": "4c8ad6d3",
   "metadata": {},
   "source": [
    "Найдём все уникальные события в логах"
   ]
  },
  {
   "cell_type": "code",
   "execution_count": 10,
   "id": "ac52e8e2",
   "metadata": {},
   "outputs": [
    {
     "data": {
      "text/plain": [
       "array(['MainScreenAppear', 'PaymentScreenSuccessful', 'CartScreenAppear',\n",
       "       'OffersScreenAppear', 'Tutorial'], dtype=object)"
      ]
     },
     "execution_count": 10,
     "metadata": {},
     "output_type": "execute_result"
    }
   ],
   "source": [
    "logs['event_name'].unique() # Уникальные значения столбца"
   ]
  },
  {
   "cell_type": "markdown",
   "id": "007f7b7d",
   "metadata": {},
   "source": [
    "Всего имеем 5 событий:\n",
    "\n",
    "- MainScreenAppear - главный экран приложения\n",
    "- OffersScreenAppear - конкретный товар в приложении\n",
    "- CartScreenAppear - добавление товара в корзину\n",
    "- PaymentScreenSuccessful - оплата товара\n",
    "- Tutorial - руководство к пользованию приложением"
   ]
  },
  {
   "cell_type": "markdown",
   "id": "d00dbd51",
   "metadata": {},
   "source": [
    "Посчитаем количество уникальных пользователей в логе"
   ]
  },
  {
   "cell_type": "code",
   "execution_count": 11,
   "id": "5cb5c8b1",
   "metadata": {},
   "outputs": [
    {
     "data": {
      "text/plain": [
       "7551"
      ]
     },
     "execution_count": 11,
     "metadata": {},
     "output_type": "execute_result"
    }
   ],
   "source": [
    "logs['device_id_hash'].nunique() # Количество уникальных значений в столбце"
   ]
  },
  {
   "cell_type": "markdown",
   "id": "a2d81cad",
   "metadata": {},
   "source": [
    "Имеем 7551 уникальных пользователей, которые использовали приложение в указанный период. Определим сколько в среднем уникальных событий приходится на пользователя. Будем рассматривать лишь уникальные логи, так как большая часть покупателей совершали покупки несколько раз"
   ]
  },
  {
   "cell_type": "code",
   "execution_count": 12,
   "id": "ddf8e289",
   "metadata": {},
   "outputs": [
    {
     "data": {
      "text/html": [
       "<div>\n",
       "<style scoped>\n",
       "    .dataframe tbody tr th:only-of-type {\n",
       "        vertical-align: middle;\n",
       "    }\n",
       "\n",
       "    .dataframe tbody tr th {\n",
       "        vertical-align: top;\n",
       "    }\n",
       "\n",
       "    .dataframe thead th {\n",
       "        text-align: right;\n",
       "    }\n",
       "</style>\n",
       "<table border=\"1\" class=\"dataframe\">\n",
       "  <thead>\n",
       "    <tr style=\"text-align: right;\">\n",
       "      <th></th>\n",
       "      <th>count_of_events</th>\n",
       "    </tr>\n",
       "  </thead>\n",
       "  <tbody>\n",
       "    <tr>\n",
       "      <th>count</th>\n",
       "      <td>7551.000000</td>\n",
       "    </tr>\n",
       "    <tr>\n",
       "      <th>mean</th>\n",
       "      <td>2.674480</td>\n",
       "    </tr>\n",
       "    <tr>\n",
       "      <th>std</th>\n",
       "      <td>1.454287</td>\n",
       "    </tr>\n",
       "    <tr>\n",
       "      <th>min</th>\n",
       "      <td>1.000000</td>\n",
       "    </tr>\n",
       "    <tr>\n",
       "      <th>25%</th>\n",
       "      <td>1.000000</td>\n",
       "    </tr>\n",
       "    <tr>\n",
       "      <th>50%</th>\n",
       "      <td>3.000000</td>\n",
       "    </tr>\n",
       "    <tr>\n",
       "      <th>75%</th>\n",
       "      <td>4.000000</td>\n",
       "    </tr>\n",
       "    <tr>\n",
       "      <th>max</th>\n",
       "      <td>5.000000</td>\n",
       "    </tr>\n",
       "  </tbody>\n",
       "</table>\n",
       "</div>"
      ],
      "text/plain": [
       "       count_of_events\n",
       "count      7551.000000\n",
       "mean          2.674480\n",
       "std           1.454287\n",
       "min           1.000000\n",
       "25%           1.000000\n",
       "50%           3.000000\n",
       "75%           4.000000\n",
       "max           5.000000"
      ]
     },
     "execution_count": 12,
     "metadata": {},
     "output_type": "execute_result"
    }
   ],
   "source": [
    "logs.groupby('device_id_hash').agg({'event_name' : 'nunique'}).sort_values('event_name', ascending=False) \\\n",
    ".rename(columns ={'event_name' : 'count_of_events'}).describe()\n",
    "\n",
    "# Общая информация по сгруппированным данным"
   ]
  },
  {
   "cell_type": "markdown",
   "id": "61cc8424",
   "metadata": {},
   "source": [
    "Среднее значение количества событий равняется 2.67. Медианное значение - 3."
   ]
  },
  {
   "cell_type": "markdown",
   "id": "75b255d5",
   "metadata": {},
   "source": [
    "Определим максимальную и минимальную дату периода, за который представлены данные"
   ]
  },
  {
   "cell_type": "code",
   "execution_count": 13,
   "id": "ed92a84e",
   "metadata": {},
   "outputs": [
    {
     "name": "stdout",
     "output_type": "stream",
     "text": [
      "Максимальная дата: 2019-08-07 21:15:17\n",
      "Минимальная дата: 2019-07-25 04:43:36\n"
     ]
    }
   ],
   "source": [
    "print('Максимальная дата:' , max(logs['datetime'])) # Максимальная и минимальная дата логов\n",
    "print('Минимальная дата:', min(logs['datetime']))"
   ]
  },
  {
   "cell_type": "markdown",
   "id": "839ddab2",
   "metadata": {},
   "source": [
    "Итак, располагаем данными с 25 июля 2019 года по 7 августа 2019 года."
   ]
  },
  {
   "cell_type": "code",
   "execution_count": 14,
   "id": "614cf22a",
   "metadata": {},
   "outputs": [
    {
     "data": {
      "image/png": "[encoded data removed]",
      "text/plain": [
       "<Figure size 1440x720 with 1 Axes>"
      ]
     },
     "metadata": {
      "needs_background": "light"
     },
     "output_type": "display_data"
    }
   ],
   "source": [
    "fig, test = plt.subplots()\n",
    "test.set_title('Гистограмма распределения событий по дате и времени')\n",
    "test.set_ylabel('Количество событий')\n",
    "test.set_xlabel('Дата')\n",
    "\n",
    "fig.set_figheight(10)\n",
    "fig.set_figwidth(20)\n",
    "\n",
    "sns.histplot(data=logs, x='datetime', kde=True)\n",
    "plt.grid();\n",
    "\n",
    "# Построение гистограммы"
   ]
  },
  {
   "cell_type": "markdown",
   "id": "b086a66d",
   "metadata": {},
   "source": [
    "По гистограмме заметно, данные распределены весьма странным образом. Можем предположить, что форма распределения связана с тем, что до 1 августа 2019 года данные были неполные. Построим такую же диаграмму во временном диапазоне от 1 августа."
   ]
  },
  {
   "cell_type": "code",
   "execution_count": 15,
   "id": "9abda36d",
   "metadata": {},
   "outputs": [
    {
     "data": {
      "image/png": "[encoded data removed]",
      "text/plain": [
       "<Figure size 1440x720 with 1 Axes>"
      ]
     },
     "metadata": {
      "needs_background": "light"
     },
     "output_type": "display_data"
    }
   ],
   "source": [
    "fig, test = plt.subplots()\n",
    "test.set_title('Гистограмма распределения событий по дате и времени')\n",
    "test.set_ylabel('Количество событий')\n",
    "test.set_xlabel('Дата')\n",
    "\n",
    "fig.set_figheight(10)\n",
    "fig.set_figwidth(20)\n",
    "\n",
    "sns.histplot(data=logs[logs['datetime'] >= '2019-08-01'], x='datetime', kde=True)\n",
    "plt.grid();\n",
    "\n",
    "# Построение гистограммы"
   ]
  },
  {
   "cell_type": "markdown",
   "id": "302f3293",
   "metadata": {},
   "source": [
    "Проверим количество строк, которые характеризуют временной период до 1 августа"
   ]
  },
  {
   "cell_type": "code",
   "execution_count": 16,
   "id": "39b5400e",
   "metadata": {},
   "outputs": [
    {
     "data": {
      "text/html": [
       "<div>\n",
       "<style scoped>\n",
       "    .dataframe tbody tr th:only-of-type {\n",
       "        vertical-align: middle;\n",
       "    }\n",
       "\n",
       "    .dataframe tbody tr th {\n",
       "        vertical-align: top;\n",
       "    }\n",
       "\n",
       "    .dataframe thead th {\n",
       "        text-align: right;\n",
       "    }\n",
       "</style>\n",
       "<table border=\"1\" class=\"dataframe\">\n",
       "  <thead>\n",
       "    <tr style=\"text-align: right;\">\n",
       "      <th></th>\n",
       "      <th>event_name</th>\n",
       "      <th>device_id_hash</th>\n",
       "      <th>event_timestamp</th>\n",
       "      <th>exp_id</th>\n",
       "      <th>datetime</th>\n",
       "      <th>date</th>\n",
       "    </tr>\n",
       "  </thead>\n",
       "  <tbody>\n",
       "    <tr>\n",
       "      <th>0</th>\n",
       "      <td>MainScreenAppear</td>\n",
       "      <td>4575588528974610257</td>\n",
       "      <td>1564029816</td>\n",
       "      <td>246</td>\n",
       "      <td>2019-07-25 04:43:36</td>\n",
       "      <td>2019-07-25</td>\n",
       "    </tr>\n",
       "    <tr>\n",
       "      <th>1</th>\n",
       "      <td>MainScreenAppear</td>\n",
       "      <td>7416695313311560658</td>\n",
       "      <td>1564053102</td>\n",
       "      <td>246</td>\n",
       "      <td>2019-07-25 11:11:42</td>\n",
       "      <td>2019-07-25</td>\n",
       "    </tr>\n",
       "    <tr>\n",
       "      <th>2</th>\n",
       "      <td>PaymentScreenSuccessful</td>\n",
       "      <td>3518123091307005509</td>\n",
       "      <td>1564054127</td>\n",
       "      <td>248</td>\n",
       "      <td>2019-07-25 11:28:47</td>\n",
       "      <td>2019-07-25</td>\n",
       "    </tr>\n",
       "    <tr>\n",
       "      <th>3</th>\n",
       "      <td>CartScreenAppear</td>\n",
       "      <td>3518123091307005509</td>\n",
       "      <td>1564054127</td>\n",
       "      <td>248</td>\n",
       "      <td>2019-07-25 11:28:47</td>\n",
       "      <td>2019-07-25</td>\n",
       "    </tr>\n",
       "    <tr>\n",
       "      <th>4</th>\n",
       "      <td>PaymentScreenSuccessful</td>\n",
       "      <td>6217807653094995999</td>\n",
       "      <td>1564055322</td>\n",
       "      <td>248</td>\n",
       "      <td>2019-07-25 11:48:42</td>\n",
       "      <td>2019-07-25</td>\n",
       "    </tr>\n",
       "    <tr>\n",
       "      <th>...</th>\n",
       "      <td>...</td>\n",
       "      <td>...</td>\n",
       "      <td>...</td>\n",
       "      <td>...</td>\n",
       "      <td>...</td>\n",
       "      <td>...</td>\n",
       "    </tr>\n",
       "    <tr>\n",
       "      <th>2823</th>\n",
       "      <td>OffersScreenAppear</td>\n",
       "      <td>2413191300976302222</td>\n",
       "      <td>1564617295</td>\n",
       "      <td>247</td>\n",
       "      <td>2019-07-31 23:54:55</td>\n",
       "      <td>2019-07-31</td>\n",
       "    </tr>\n",
       "    <tr>\n",
       "      <th>2824</th>\n",
       "      <td>MainScreenAppear</td>\n",
       "      <td>5505110279185484837</td>\n",
       "      <td>1564617450</td>\n",
       "      <td>247</td>\n",
       "      <td>2019-07-31 23:57:30</td>\n",
       "      <td>2019-07-31</td>\n",
       "    </tr>\n",
       "    <tr>\n",
       "      <th>2825</th>\n",
       "      <td>MainScreenAppear</td>\n",
       "      <td>5505110279185484837</td>\n",
       "      <td>1564617462</td>\n",
       "      <td>247</td>\n",
       "      <td>2019-07-31 23:57:42</td>\n",
       "      <td>2019-07-31</td>\n",
       "    </tr>\n",
       "    <tr>\n",
       "      <th>2826</th>\n",
       "      <td>MainScreenAppear</td>\n",
       "      <td>5505110279185484837</td>\n",
       "      <td>1564617472</td>\n",
       "      <td>247</td>\n",
       "      <td>2019-07-31 23:57:52</td>\n",
       "      <td>2019-07-31</td>\n",
       "    </tr>\n",
       "    <tr>\n",
       "      <th>2827</th>\n",
       "      <td>MainScreenAppear</td>\n",
       "      <td>2413191300976302222</td>\n",
       "      <td>1564617599</td>\n",
       "      <td>247</td>\n",
       "      <td>2019-07-31 23:59:59</td>\n",
       "      <td>2019-07-31</td>\n",
       "    </tr>\n",
       "  </tbody>\n",
       "</table>\n",
       "<p>2826 rows × 6 columns</p>\n",
       "</div>"
      ],
      "text/plain": [
       "                   event_name       device_id_hash  event_timestamp  exp_id  \\\n",
       "0            MainScreenAppear  4575588528974610257       1564029816     246   \n",
       "1            MainScreenAppear  7416695313311560658       1564053102     246   \n",
       "2     PaymentScreenSuccessful  3518123091307005509       1564054127     248   \n",
       "3            CartScreenAppear  3518123091307005509       1564054127     248   \n",
       "4     PaymentScreenSuccessful  6217807653094995999       1564055322     248   \n",
       "...                       ...                  ...              ...     ...   \n",
       "2823       OffersScreenAppear  2413191300976302222       1564617295     247   \n",
       "2824         MainScreenAppear  5505110279185484837       1564617450     247   \n",
       "2825         MainScreenAppear  5505110279185484837       1564617462     247   \n",
       "2826         MainScreenAppear  5505110279185484837       1564617472     247   \n",
       "2827         MainScreenAppear  2413191300976302222       1564617599     247   \n",
       "\n",
       "                datetime        date  \n",
       "0    2019-07-25 04:43:36  2019-07-25  \n",
       "1    2019-07-25 11:11:42  2019-07-25  \n",
       "2    2019-07-25 11:28:47  2019-07-25  \n",
       "3    2019-07-25 11:28:47  2019-07-25  \n",
       "4    2019-07-25 11:48:42  2019-07-25  \n",
       "...                  ...         ...  \n",
       "2823 2019-07-31 23:54:55  2019-07-31  \n",
       "2824 2019-07-31 23:57:30  2019-07-31  \n",
       "2825 2019-07-31 23:57:42  2019-07-31  \n",
       "2826 2019-07-31 23:57:52  2019-07-31  \n",
       "2827 2019-07-31 23:59:59  2019-07-31  \n",
       "\n",
       "[2826 rows x 6 columns]"
      ]
     },
     "execution_count": 16,
     "metadata": {},
     "output_type": "execute_result"
    }
   ],
   "source": [
    "logs[logs['datetime'] < '2019-08-01'] # Срез данных"
   ]
  },
  {
   "cell_type": "markdown",
   "id": "ede4617c",
   "metadata": {},
   "source": [
    "С учётом, что всего строк датасета 243713, получаем, что доля \"неполных\" данных составляет чуть более 1%. Перезапишем наш датасет с учётом выявленной зависимости"
   ]
  },
  {
   "cell_type": "code",
   "execution_count": 17,
   "id": "50788758",
   "metadata": {},
   "outputs": [],
   "source": [
    "logs = logs[logs['datetime'] >= '2019-08-01'] # Срез данных"
   ]
  },
  {
   "cell_type": "markdown",
   "id": "1b2fc340",
   "metadata": {},
   "source": [
    "Удостоверимся, что во всех экспериментальных группах есть пользователи."
   ]
  },
  {
   "cell_type": "code",
   "execution_count": 18,
   "id": "f78333d5",
   "metadata": {},
   "outputs": [
    {
     "data": {
      "text/plain": [
       "248    84563\n",
       "246    79302\n",
       "247    77022\n",
       "Name: exp_id, dtype: int64"
      ]
     },
     "execution_count": 18,
     "metadata": {},
     "output_type": "execute_result"
    }
   ],
   "source": [
    "logs['exp_id'].value_counts() # Подсчёт количества пользователей в каждой группе"
   ]
  },
  {
   "cell_type": "markdown",
   "id": "28beb4dd",
   "metadata": {},
   "source": [
    "### Вывод"
   ]
  },
  {
   "cell_type": "markdown",
   "id": "15c0be6b",
   "metadata": {},
   "source": [
    "В ходе исследователького анализа установили:\n",
    "\n",
    "- Количество событий в логах - 5\n",
    "- Количество уникальных пользователей - 7551 человек\n",
    "- В среднем на одного поситителя приходится 2.67 события\n",
    "- Данные представлены за период с 25 июля 2019 года по 7 августа 2019 года\n",
    "- Часть данных, а именно до 1 августа, являются неполными\n",
    "- Произвели срез данных по дате указанной выше. В дальнейшем для анализа будут использоваться только полные данные - начиная с 1 августа 2019 года\n",
    "- В каждую из экспериментальных групп попали пользователи."
   ]
  },
  {
   "cell_type": "markdown",
   "id": "8407afaf",
   "metadata": {},
   "source": [
    "## Исследование воронки событий"
   ]
  },
  {
   "cell_type": "markdown",
   "id": "89954a8a",
   "metadata": {},
   "source": [
    "Определим как часто встречается каждое событие в логах"
   ]
  },
  {
   "cell_type": "code",
   "execution_count": 19,
   "id": "837a6107",
   "metadata": {},
   "outputs": [
    {
     "data": {
      "text/plain": [
       "MainScreenAppear           117328\n",
       "OffersScreenAppear          46333\n",
       "CartScreenAppear            42303\n",
       "PaymentScreenSuccessful     33918\n",
       "Tutorial                     1005\n",
       "Name: event_name, dtype: int64"
      ]
     },
     "execution_count": 19,
     "metadata": {},
     "output_type": "execute_result"
    }
   ],
   "source": [
    "logs['event_name'].value_counts().sort_values(ascending=False) # Подсчёт количества значений для каждого события"
   ]
  },
  {
   "cell_type": "markdown",
   "id": "c6081101",
   "metadata": {},
   "source": [
    "Посчитаем количество уникальных пользователей по каждому событию. Добавим столбец `involved_users`, в котором будет отражена доля пользователей, которая совершала конкретное событие"
   ]
  },
  {
   "cell_type": "code",
   "execution_count": 20,
   "id": "60b19105",
   "metadata": {
    "scrolled": true
   },
   "outputs": [
    {
     "data": {
      "text/html": [
       "<div>\n",
       "<style scoped>\n",
       "    .dataframe tbody tr th:only-of-type {\n",
       "        vertical-align: middle;\n",
       "    }\n",
       "\n",
       "    .dataframe tbody tr th {\n",
       "        vertical-align: top;\n",
       "    }\n",
       "\n",
       "    .dataframe thead th {\n",
       "        text-align: right;\n",
       "    }\n",
       "</style>\n",
       "<table border=\"1\" class=\"dataframe\">\n",
       "  <thead>\n",
       "    <tr style=\"text-align: right;\">\n",
       "      <th></th>\n",
       "      <th>count_of_users</th>\n",
       "      <th>involved_users</th>\n",
       "    </tr>\n",
       "    <tr>\n",
       "      <th>event_name</th>\n",
       "      <th></th>\n",
       "      <th></th>\n",
       "    </tr>\n",
       "  </thead>\n",
       "  <tbody>\n",
       "    <tr>\n",
       "      <th>MainScreenAppear</th>\n",
       "      <td>7419</td>\n",
       "      <td>0.98</td>\n",
       "    </tr>\n",
       "    <tr>\n",
       "      <th>OffersScreenAppear</th>\n",
       "      <td>4593</td>\n",
       "      <td>0.61</td>\n",
       "    </tr>\n",
       "    <tr>\n",
       "      <th>CartScreenAppear</th>\n",
       "      <td>3734</td>\n",
       "      <td>0.50</td>\n",
       "    </tr>\n",
       "    <tr>\n",
       "      <th>PaymentScreenSuccessful</th>\n",
       "      <td>3539</td>\n",
       "      <td>0.47</td>\n",
       "    </tr>\n",
       "    <tr>\n",
       "      <th>Tutorial</th>\n",
       "      <td>840</td>\n",
       "      <td>0.11</td>\n",
       "    </tr>\n",
       "  </tbody>\n",
       "</table>\n",
       "</div>"
      ],
      "text/plain": [
       "                         count_of_users  involved_users\n",
       "event_name                                             \n",
       "MainScreenAppear                   7419            0.98\n",
       "OffersScreenAppear                 4593            0.61\n",
       "CartScreenAppear                   3734            0.50\n",
       "PaymentScreenSuccessful            3539            0.47\n",
       "Tutorial                            840            0.11"
      ]
     },
     "execution_count": 20,
     "metadata": {},
     "output_type": "execute_result"
    }
   ],
   "source": [
    "count_of_users = logs.groupby('event_name').agg({'device_id_hash' : 'nunique'}) \\\n",
    ".rename(columns = ({'device_id_hash' : 'count_of_users'})) \\\n",
    ".sort_values('count_of_users', ascending=False)\n",
    "\n",
    "count_of_users['involved_users'] = round(count_of_users['count_of_users']/logs['device_id_hash'].nunique(),2)\n",
    "\n",
    "count_of_users\n",
    "\n",
    "# Подсчёт количества уникальных пользователей по каждому событию"
   ]
  },
  {
   "cell_type": "markdown",
   "id": "0aaa0fef",
   "metadata": {},
   "source": [
    "Событие `Tutorial`, в котором заложено взаимодействие пользователя с руководством использования приложения, имеет самую низкую конверсию.\n",
    "Можем предпололжить, что этот этап можно не рассматривать при расчёте общей продуктовой воронки. Таким образом, таблица продуктовой воронки будет выглядить следующим образом"
   ]
  },
  {
   "cell_type": "code",
   "execution_count": 21,
   "id": "ea13e9d4",
   "metadata": {
    "scrolled": true
   },
   "outputs": [
    {
     "data": {
      "text/html": [
       "<div>\n",
       "<style scoped>\n",
       "    .dataframe tbody tr th:only-of-type {\n",
       "        vertical-align: middle;\n",
       "    }\n",
       "\n",
       "    .dataframe tbody tr th {\n",
       "        vertical-align: top;\n",
       "    }\n",
       "\n",
       "    .dataframe thead th {\n",
       "        text-align: right;\n",
       "    }\n",
       "</style>\n",
       "<table border=\"1\" class=\"dataframe\">\n",
       "  <thead>\n",
       "    <tr style=\"text-align: right;\">\n",
       "      <th></th>\n",
       "      <th>event_name</th>\n",
       "      <th>count_of_users</th>\n",
       "      <th>involved_users</th>\n",
       "    </tr>\n",
       "  </thead>\n",
       "  <tbody>\n",
       "    <tr>\n",
       "      <th>0</th>\n",
       "      <td>MainScreenAppear</td>\n",
       "      <td>7419</td>\n",
       "      <td>0.98</td>\n",
       "    </tr>\n",
       "    <tr>\n",
       "      <th>1</th>\n",
       "      <td>OffersScreenAppear</td>\n",
       "      <td>4593</td>\n",
       "      <td>0.61</td>\n",
       "    </tr>\n",
       "    <tr>\n",
       "      <th>2</th>\n",
       "      <td>CartScreenAppear</td>\n",
       "      <td>3734</td>\n",
       "      <td>0.50</td>\n",
       "    </tr>\n",
       "    <tr>\n",
       "      <th>3</th>\n",
       "      <td>PaymentScreenSuccessful</td>\n",
       "      <td>3539</td>\n",
       "      <td>0.47</td>\n",
       "    </tr>\n",
       "  </tbody>\n",
       "</table>\n",
       "</div>"
      ],
      "text/plain": [
       "                event_name  count_of_users  involved_users\n",
       "0         MainScreenAppear            7419            0.98\n",
       "1       OffersScreenAppear            4593            0.61\n",
       "2         CartScreenAppear            3734            0.50\n",
       "3  PaymentScreenSuccessful            3539            0.47"
      ]
     },
     "execution_count": 21,
     "metadata": {},
     "output_type": "execute_result"
    }
   ],
   "source": [
    "count_of_users = count_of_users.head(4).reset_index() # Датасет для расчёта продуктовой воронки\n",
    "count_of_users"
   ]
  },
  {
   "cell_type": "markdown",
   "id": "3b0cff00",
   "metadata": {},
   "source": [
    "Построим продуктовую воронку продаж"
   ]
  },
  {
   "cell_type": "code",
   "execution_count": 22,
   "id": "1e7bd8c5",
   "metadata": {},
   "outputs": [
    {
     "data": {
      "image/svg+xml": [
       "<svg class=\"main-svg\" xmlns=\"http://www.w3.org/2000/svg\" xmlns:xlink=\"http://www.w3.org/1999/xlink\" width=\"700\" height=\"500\" style=\"\" viewBox=\"0 0 700 500\"><rect x=\"0\" y=\"0\" width=\"700\" height=\"500\" style=\"fill: rgb(255, 255, 255); fill-opacity: 1;\"/><defs id=\"defs-e258a1\"><g class=\"clips\"><clipPath id=\"clipe258a1xyplot\" class=\"plotclip\"><rect width=\"450\" height=\"320\"/></clipPath><clipPath class=\"axesclip\" id=\"clipe258a1x\"><rect x=\"170\" y=\"0\" width=\"450\" height=\"500\"/></clipPath><clipPath class=\"axesclip\" id=\"clipe258a1y\"><rect x=\"0\" y=\"100\" width=\"700\" height=\"320\"/></clipPath><clipPath class=\"axesclip\" id=\"clipe258a1xy\"><rect x=\"170\" y=\"100\" width=\"450\" height=\"320\"/></clipPath></g><g class=\"gradients\"/><g class=\"patterns\"/></defs><g class=\"bglayer\"><rect class=\"bg\" x=\"170\" y=\"100\" width=\"450\" height=\"320\" style=\"fill: rgb(229, 236, 246); fill-opacity: 1; stroke-width: 0;\"/></g><g class=\"layer-below\"><g class=\"imagelayer\"/><g class=\"shapelayer\"/></g><g class=\"cartesianlayer\"><g class=\"subplot xy\"><g class=\"layer-subplot\"><g class=\"shapelayer\"/><g class=\"imagelayer\"/></g><g class=\"gridlayer\"><g class=\"x\"/><g class=\"y\"/></g><g class=\"zerolinelayer\"/><path class=\"xlines-below\"/><path class=\"ylines-below\"/><g class=\"overlines-below\"/><g class=\"xaxislayer-below\"/><g class=\"yaxislayer-below\"/><g class=\"overaxes-below\"/><g class=\"plot\" transform=\"translate(170,100)\" clip-path=\"url(#clipe258a1xyplot)\"><g class=\"funnellayer mlayer\"><g class=\"trace bars\" style=\"opacity: 1;\"><g class=\"regions\"><g class=\"region\"><path d=\"M22.5,72L99.64,88H350.36L427.5,72Z\" style=\"stroke-width: 0; fill: rgb(99, 110, 250); fill-opacity: 0.5;\"/></g><g class=\"region\"><path d=\"M99.64,152L123.08,168H326.92L350.36,152Z\" style=\"stroke-width: 0; fill: rgb(99, 110, 250); fill-opacity: 0.5;\"/></g><g class=\"region\"><path d=\"M123.08,232L128.4,248H321.6L326.92,232Z\" style=\"stroke-width: 0; fill: rgb(99, 110, 250); fill-opacity: 0.5;\"/></g><g class=\"region\"><path d=\"M0,0Z\" style=\"stroke-width: 0; fill: rgb(99, 110, 250); fill-opacity: 0.5;\"/></g></g><g class=\"points\"><g class=\"point\"><path d=\"M22.5,8V72H427.5V8Z\" style=\"vector-effect: non-scaling-stroke; fill: rgb(99, 110, 250); fill-opacity: 1; stroke: rgb(68, 68, 68); stroke-opacity: 1; stroke-width: 0px; opacity: 1;\"/><text class=\"bartext bartext-inside\" text-anchor=\"middle\" data-notex=\"1\" x=\"0\" y=\"0\" style=\"font-family: 'Open Sans', verdana, arial, sans-serif; font-size: 12px; fill: rgb(255, 255, 255); fill-opacity: 1; white-space: pre;\" transform=\"translate(224.8125,44.5)\">7419</text></g><g class=\"point\"><path d=\"M99.64,88V152H350.36V88Z\" style=\"vector-effect: non-scaling-stroke; fill: rgb(99, 110, 250); fill-opacity: 1; stroke: rgb(68, 68, 68); stroke-opacity: 1; stroke-width: 0px; opacity: 1;\"/><text class=\"bartext bartext-inside\" text-anchor=\"middle\" data-notex=\"1\" x=\"0\" y=\"0\" style=\"font-family: 'Open Sans', verdana, arial, sans-serif; font-size: 12px; fill: rgb(255, 255, 255); fill-opacity: 1; white-space: pre;\" transform=\"translate(225,124.5)\">4593</text></g><g class=\"point\"><path d=\"M123.08,168V232H326.92V168Z\" style=\"vector-effect: non-scaling-stroke; fill: rgb(99, 110, 250); fill-opacity: 1; stroke: rgb(68, 68, 68); stroke-opacity: 1; stroke-width: 0px; opacity: 1;\"/><text class=\"bartext bartext-inside\" text-anchor=\"middle\" data-notex=\"1\" x=\"0\" y=\"0\" style=\"font-family: 'Open Sans', verdana, arial, sans-serif; font-size: 12px; fill: rgb(255, 255, 255); fill-opacity: 1; white-space: pre;\" transform=\"translate(224.8125,204.5)\">3734</text></g><g class=\"point\"><path d=\"M128.4,248V312H321.6V248Z\" style=\"vector-effect: non-scaling-stroke; fill: rgb(99, 110, 250); fill-opacity: 1; stroke: rgb(68, 68, 68); stroke-opacity: 1; stroke-width: 0px; opacity: 1;\"/><text class=\"bartext bartext-inside\" text-anchor=\"middle\" data-notex=\"1\" x=\"0\" y=\"0\" style=\"font-family: 'Open Sans', verdana, arial, sans-serif; font-size: 12px; fill: rgb(255, 255, 255); fill-opacity: 1; white-space: pre;\" transform=\"translate(224.8125,284.5)\">3539</text></g></g></g></g></g><g class=\"overplot\"/><path class=\"xlines-above crisp\" d=\"M0,0\" style=\"fill: none;\"/><path class=\"ylines-above crisp\" d=\"M0,0\" style=\"fill: none;\"/><g class=\"overlines-above\"/><g class=\"xaxislayer-above\"/><g class=\"yaxislayer-above\"><g class=\"ytick\"><text text-anchor=\"end\" x=\"169\" y=\"4.199999999999999\" transform=\"translate(0,380)\" style=\"font-family: 'Open Sans', verdana, arial, sans-serif; font-size: 12px; fill: rgb(42, 63, 95); fill-opacity: 1; white-space: pre; opacity: 1;\">PaymentScreenSuccessful</text></g><g class=\"ytick\"><text text-anchor=\"end\" x=\"169\" y=\"4.199999999999999\" transform=\"translate(0,300)\" style=\"font-family: 'Open Sans', verdana, arial, sans-serif; font-size: 12px; fill: rgb(42, 63, 95); fill-opacity: 1; white-space: pre; opacity: 1;\">CartScreenAppear</text></g><g class=\"ytick\"><text text-anchor=\"end\" x=\"169\" y=\"4.199999999999999\" transform=\"translate(0,220)\" style=\"font-family: 'Open Sans', verdana, arial, sans-serif; font-size: 12px; fill: rgb(42, 63, 95); fill-opacity: 1; white-space: pre; opacity: 1;\">OffersScreenAppear</text></g><g class=\"ytick\"><text text-anchor=\"end\" x=\"169\" y=\"4.199999999999999\" transform=\"translate(0,140)\" style=\"font-family: 'Open Sans', verdana, arial, sans-serif; font-size: 12px; fill: rgb(42, 63, 95); fill-opacity: 1; white-space: pre; opacity: 1;\">MainScreenAppear</text></g></g><g class=\"overaxes-above\"/></g></g><g class=\"polarlayer\"/><g class=\"smithlayer\"/><g class=\"ternarylayer\"/><g class=\"geolayer\"/><g class=\"funnelarealayer\"/><g class=\"pielayer\"/><g class=\"iciclelayer\"/><g class=\"treemaplayer\"/><g class=\"sunburstlayer\"/><g class=\"glimages\"/><defs id=\"topdefs-e258a1\"><g class=\"clips\"/></defs><g class=\"layer-above\"><g class=\"imagelayer\"/><g class=\"shapelayer\"/></g><g class=\"infolayer\"><g class=\"g-gtitle\"/><g class=\"g-ytitle\"/></g></svg>"
      ]
     },
     "metadata": {},
     "output_type": "display_data"
    }
   ],
   "source": [
    "fig = go.Figure(go.Funnel(y = count_of_users['event_name'], x = count_of_users['count_of_users'])) \n",
    "fig.show(\"svg\");\n",
    "\n",
    "# Построение продуктовой воронки"
   ]
  },
  {
   "cell_type": "markdown",
   "id": "55fa1597",
   "metadata": {},
   "source": [
    "### Вывод"
   ]
  },
  {
   "cell_type": "markdown",
   "id": "d3122663",
   "metadata": {},
   "source": [
    "При изучении воронки продаж выявили:\n",
    "\n",
    "- Событие `Tutorial` можно не рассматривать при подсчёте воронки\n",
    "- На шаге `OffersScreenAppear` теряется больше всего пользователей - 38.1% от предыдщуего шага\n",
    "- 47.7% пользователей доходит от события `MainScreenAppear` до оплаты продукта"
   ]
  },
  {
   "cell_type": "markdown",
   "id": "586e70a7",
   "metadata": {},
   "source": [
    "## Анализ результатов эксперимента"
   ]
  },
  {
   "cell_type": "markdown",
   "id": "69541d8c",
   "metadata": {},
   "source": [
    "Проверим количество уникальных пользователей в каждой экспериментальной группе. Так же объединим две контрольные группы в одну - 493."
   ]
  },
  {
   "cell_type": "code",
   "execution_count": 23,
   "id": "45a4e001",
   "metadata": {
    "scrolled": false
   },
   "outputs": [
    {
     "data": {
      "text/html": [
       "<div>\n",
       "<style scoped>\n",
       "    .dataframe tbody tr th:only-of-type {\n",
       "        vertical-align: middle;\n",
       "    }\n",
       "\n",
       "    .dataframe tbody tr th {\n",
       "        vertical-align: top;\n",
       "    }\n",
       "\n",
       "    .dataframe thead th {\n",
       "        text-align: right;\n",
       "    }\n",
       "</style>\n",
       "<table border=\"1\" class=\"dataframe\">\n",
       "  <thead>\n",
       "    <tr style=\"text-align: right;\">\n",
       "      <th></th>\n",
       "      <th>exp_id</th>\n",
       "      <th>count_of_users</th>\n",
       "    </tr>\n",
       "  </thead>\n",
       "  <tbody>\n",
       "    <tr>\n",
       "      <th>0</th>\n",
       "      <td>248</td>\n",
       "      <td>2537</td>\n",
       "    </tr>\n",
       "    <tr>\n",
       "      <th>1</th>\n",
       "      <td>247</td>\n",
       "      <td>2513</td>\n",
       "    </tr>\n",
       "    <tr>\n",
       "      <th>2</th>\n",
       "      <td>246</td>\n",
       "      <td>2484</td>\n",
       "    </tr>\n",
       "    <tr>\n",
       "      <th>3</th>\n",
       "      <td>493</td>\n",
       "      <td>4997</td>\n",
       "    </tr>\n",
       "  </tbody>\n",
       "</table>\n",
       "</div>"
      ],
      "text/plain": [
       "   exp_id  count_of_users\n",
       "0     248            2537\n",
       "1     247            2513\n",
       "2     246            2484\n",
       "3     493            4997"
      ]
     },
     "execution_count": 23,
     "metadata": {},
     "output_type": "execute_result"
    }
   ],
   "source": [
    "total_users_in_exp = logs.groupby('exp_id', as_index=False) \\\n",
    ".agg({'device_id_hash' : 'nunique'}).rename(columns = ({'device_id_hash' : 'count_of_users'})) \\\n",
    ".sort_values('count_of_users', ascending=False)\n",
    "\n",
    "new_row = {'exp_id' : 493, \\\n",
    "           'count_of_users' : total_users_in_exp.loc[(total_users_in_exp['exp_id'] == 246)\n",
    "                                                     | (total_users_in_exp['exp_id'] == 247)]['count_of_users'].sum()}\n",
    "                                               \n",
    "total_users_in_exp = total_users_in_exp.append(new_row, ignore_index=True)\n",
    "total_users_in_exp\n",
    "\n",
    "# Количество уникальных пользователей в каждой группе"
   ]
  },
  {
   "cell_type": "markdown",
   "id": "459075b7",
   "metadata": {},
   "source": [
    "Можно сказать, что пользователи распределены по группам равномерно"
   ]
  },
  {
   "cell_type": "markdown",
   "id": "cd4b5f1d",
   "metadata": {},
   "source": [
    "Чтобы проверить корректность всех механизмов и расчётов, сравним две контрольные группы - проведём А/А тест. Контрольные группы - 246 и 247. Для этого для каждой из группы было посчитано число уникальных пользователей, так же посчитаем число пользователей совершивших каждое из действий продуктовой воронки. Событие `Tutorial` в данном случае оставим при расчёте статистической значимости, есть вероятность увидеть интересные инсайты при дальнейшем сравнении тестовой и контрольной групп.\n",
    "\n",
    "В итоговый датасет `exp_groups` так же добавим объединененую контрольную группу с *exp_id* равным 493"
   ]
  },
  {
   "cell_type": "code",
   "execution_count": 24,
   "id": "58a5edf1",
   "metadata": {
    "scrolled": false
   },
   "outputs": [
    {
     "data": {
      "text/html": [
       "<div>\n",
       "<style scoped>\n",
       "    .dataframe tbody tr th:only-of-type {\n",
       "        vertical-align: middle;\n",
       "    }\n",
       "\n",
       "    .dataframe tbody tr th {\n",
       "        vertical-align: top;\n",
       "    }\n",
       "\n",
       "    .dataframe thead th {\n",
       "        text-align: right;\n",
       "    }\n",
       "</style>\n",
       "<table border=\"1\" class=\"dataframe\">\n",
       "  <thead>\n",
       "    <tr style=\"text-align: right;\">\n",
       "      <th></th>\n",
       "      <th>exp_id</th>\n",
       "      <th>event_name</th>\n",
       "      <th>count_of_users</th>\n",
       "    </tr>\n",
       "  </thead>\n",
       "  <tbody>\n",
       "    <tr>\n",
       "      <th>0</th>\n",
       "      <td>248</td>\n",
       "      <td>MainScreenAppear</td>\n",
       "      <td>2493</td>\n",
       "    </tr>\n",
       "    <tr>\n",
       "      <th>1</th>\n",
       "      <td>248</td>\n",
       "      <td>OffersScreenAppear</td>\n",
       "      <td>1531</td>\n",
       "    </tr>\n",
       "    <tr>\n",
       "      <th>2</th>\n",
       "      <td>248</td>\n",
       "      <td>CartScreenAppear</td>\n",
       "      <td>1230</td>\n",
       "    </tr>\n",
       "    <tr>\n",
       "      <th>3</th>\n",
       "      <td>248</td>\n",
       "      <td>PaymentScreenSuccessful</td>\n",
       "      <td>1181</td>\n",
       "    </tr>\n",
       "    <tr>\n",
       "      <th>4</th>\n",
       "      <td>248</td>\n",
       "      <td>Tutorial</td>\n",
       "      <td>279</td>\n",
       "    </tr>\n",
       "    <tr>\n",
       "      <th>5</th>\n",
       "      <td>247</td>\n",
       "      <td>MainScreenAppear</td>\n",
       "      <td>2476</td>\n",
       "    </tr>\n",
       "    <tr>\n",
       "      <th>6</th>\n",
       "      <td>247</td>\n",
       "      <td>OffersScreenAppear</td>\n",
       "      <td>1520</td>\n",
       "    </tr>\n",
       "    <tr>\n",
       "      <th>7</th>\n",
       "      <td>247</td>\n",
       "      <td>CartScreenAppear</td>\n",
       "      <td>1238</td>\n",
       "    </tr>\n",
       "    <tr>\n",
       "      <th>8</th>\n",
       "      <td>247</td>\n",
       "      <td>PaymentScreenSuccessful</td>\n",
       "      <td>1158</td>\n",
       "    </tr>\n",
       "    <tr>\n",
       "      <th>9</th>\n",
       "      <td>247</td>\n",
       "      <td>Tutorial</td>\n",
       "      <td>283</td>\n",
       "    </tr>\n",
       "    <tr>\n",
       "      <th>10</th>\n",
       "      <td>246</td>\n",
       "      <td>MainScreenAppear</td>\n",
       "      <td>2450</td>\n",
       "    </tr>\n",
       "    <tr>\n",
       "      <th>11</th>\n",
       "      <td>246</td>\n",
       "      <td>OffersScreenAppear</td>\n",
       "      <td>1542</td>\n",
       "    </tr>\n",
       "    <tr>\n",
       "      <th>12</th>\n",
       "      <td>246</td>\n",
       "      <td>CartScreenAppear</td>\n",
       "      <td>1266</td>\n",
       "    </tr>\n",
       "    <tr>\n",
       "      <th>13</th>\n",
       "      <td>246</td>\n",
       "      <td>PaymentScreenSuccessful</td>\n",
       "      <td>1200</td>\n",
       "    </tr>\n",
       "    <tr>\n",
       "      <th>14</th>\n",
       "      <td>246</td>\n",
       "      <td>Tutorial</td>\n",
       "      <td>278</td>\n",
       "    </tr>\n",
       "    <tr>\n",
       "      <th>15</th>\n",
       "      <td>493</td>\n",
       "      <td>MainScreenAppear</td>\n",
       "      <td>4926</td>\n",
       "    </tr>\n",
       "    <tr>\n",
       "      <th>16</th>\n",
       "      <td>493</td>\n",
       "      <td>OffersScreenAppear</td>\n",
       "      <td>3062</td>\n",
       "    </tr>\n",
       "    <tr>\n",
       "      <th>17</th>\n",
       "      <td>493</td>\n",
       "      <td>CartScreenAppear</td>\n",
       "      <td>2504</td>\n",
       "    </tr>\n",
       "    <tr>\n",
       "      <th>18</th>\n",
       "      <td>493</td>\n",
       "      <td>PaymentScreenSuccessful</td>\n",
       "      <td>2358</td>\n",
       "    </tr>\n",
       "    <tr>\n",
       "      <th>19</th>\n",
       "      <td>493</td>\n",
       "      <td>Tutorial</td>\n",
       "      <td>561</td>\n",
       "    </tr>\n",
       "  </tbody>\n",
       "</table>\n",
       "</div>"
      ],
      "text/plain": [
       "    exp_id               event_name  count_of_users\n",
       "0      248         MainScreenAppear            2493\n",
       "1      248       OffersScreenAppear            1531\n",
       "2      248         CartScreenAppear            1230\n",
       "3      248  PaymentScreenSuccessful            1181\n",
       "4      248                 Tutorial             279\n",
       "5      247         MainScreenAppear            2476\n",
       "6      247       OffersScreenAppear            1520\n",
       "7      247         CartScreenAppear            1238\n",
       "8      247  PaymentScreenSuccessful            1158\n",
       "9      247                 Tutorial             283\n",
       "10     246         MainScreenAppear            2450\n",
       "11     246       OffersScreenAppear            1542\n",
       "12     246         CartScreenAppear            1266\n",
       "13     246  PaymentScreenSuccessful            1200\n",
       "14     246                 Tutorial             278\n",
       "15     493         MainScreenAppear            4926\n",
       "16     493       OffersScreenAppear            3062\n",
       "17     493         CartScreenAppear            2504\n",
       "18     493  PaymentScreenSuccessful            2358\n",
       "19     493                 Tutorial             561"
      ]
     },
     "execution_count": 24,
     "metadata": {},
     "output_type": "execute_result"
    }
   ],
   "source": [
    "exp_groups = logs.groupby(['exp_id', 'event_name'], as_index=False) \\\n",
    ".agg({'device_id_hash' : 'nunique'}).rename(columns = ({'device_id_hash' : 'count_of_users'})) \\\n",
    ".sort_values(['exp_id', 'count_of_users'], ascending=False)\n",
    "\n",
    "table_for_merge = exp_groups[exp_groups['exp_id'] != 248].groupby('event_name', as_index=False) \\\n",
    ".agg({'exp_id' : 'first', 'count_of_users' : 'sum'}).sort_values('count_of_users', ascending=False)\n",
    "\n",
    "table_for_merge['exp_id'] = 493\n",
    "table_for_merge = table_for_merge[['exp_id', 'event_name', 'count_of_users']]\n",
    "\n",
    "exp_groups = exp_groups.merge(table_for_merge, how = 'outer')\n",
    "exp_groups\n",
    "\n",
    "# Продуктовая воронка для каждой группы"
   ]
  },
  {
   "cell_type": "markdown",
   "id": "0be105ba",
   "metadata": {},
   "source": [
    "Создадим функцию с помощью которой будем проверять статистическую значимость различий между нашими выборками. Так как при анализе результатов эксперимента будет иметь место множественное сравнение необходимо скорректировать *aLpha* уровень значимости согласно поправке Бонферрони.\n",
    "\n",
    "Если принять уровень значимости в 0.05, то скорректированная групповая вероятность ошибки первого рода будет равна 0.05/m, где m - число сравнений\n",
    "\n",
    "Озвучим гипотезы для проверки статистической значимости между контрольными и тестовой группами:\n",
    "- H0: Разницы между двумя версиями приложениям нету\n",
    "- H1: Между двумя версиями приложениями есть разница"
   ]
  },
  {
   "cell_type": "code",
   "execution_count": 25,
   "id": "1195b857",
   "metadata": {},
   "outputs": [],
   "source": [
    "def stat_test(name_of_event, exp_number_1, exp_number_2):\n",
    "    \n",
    "    m = 16 # Число сравнений\n",
    "    alpha = 0.05/m # Критический уровень значимости\n",
    "\n",
    "    successes = np.array([exp_groups.loc[(exp_groups['event_name'] == name_of_event) &\n",
    "                                     (exp_groups['exp_id'] ==  exp_number_1)]['count_of_users'],\n",
    "                      exp_groups.loc[(exp_groups['event_name'] == name_of_event) &\n",
    "                                     (exp_groups['exp_id'] ==  exp_number_2)]['count_of_users']])\n",
    "    trials = np.array([total_users_in_exp[total_users_in_exp['exp_id'] == exp_number_1]['count_of_users'],\n",
    "                   total_users_in_exp[total_users_in_exp['exp_id'] == exp_number_2]['count_of_users']])\n",
    "\n",
    "# пропорция успехов в первой группе:\n",
    "    p1 = successes[0]/trials[0]\n",
    "\n",
    "# пропорция успехов во второй группе:\n",
    "    p2 = successes[1]/trials[1]\n",
    "\n",
    "# пропорция успехов в комбинированном датасете:\n",
    "    p_combined = (successes[0] + successes[1]) / (trials[0] + trials[1])\n",
    "\n",
    "# разница пропорций в датасетах\n",
    "    difference = p1 - p2 \n",
    "\n",
    "# считаем статистику в ст.отклонениях стандартного нормального распределения\n",
    "    z_value = difference / mth.sqrt(p_combined * (1 - p_combined) * (1/trials[0] + 1/trials[1]))\n",
    "\n",
    "# задаем стандартное нормальное распределение (среднее 0, ст.отклонение 1)\n",
    "    distr = st.norm(0, 1) \n",
    "\n",
    "    p_value = (1 - distr.cdf(abs(z_value))) * 2\n",
    "\n",
    "    print('p-значение: ', p_value)\n",
    "\n",
    "    if p_value < alpha:\n",
    "        print('Отвергаем нулевую гипотезу: между долями есть значимая разница')\n",
    "    else:\n",
    "        print(\n",
    "            'Не получилось отвергнуть нулевую гипотезу, нет оснований считать доли разными') "
   ]
  },
  {
   "cell_type": "markdown",
   "id": "8e27b36a",
   "metadata": {},
   "source": [
    "Вызовим функцию `stat_test` и параметру `name_of_event` будем последовательно присваивать разные варианты событий"
   ]
  },
  {
   "cell_type": "code",
   "execution_count": 26,
   "id": "1dd23391",
   "metadata": {},
   "outputs": [
    {
     "name": "stdout",
     "output_type": "stream",
     "text": [
      "p-значение:  [0.75705972]\n",
      "Не получилось отвергнуть нулевую гипотезу, нет оснований считать доли разными\n"
     ]
    }
   ],
   "source": [
    "stat_test('MainScreenAppear', 247, 246) # Вызов функции"
   ]
  },
  {
   "cell_type": "code",
   "execution_count": 27,
   "id": "277d6c91",
   "metadata": {},
   "outputs": [
    {
     "name": "stdout",
     "output_type": "stream",
     "text": [
      "p-значение:  [0.24809546]\n",
      "Не получилось отвергнуть нулевую гипотезу, нет оснований считать доли разными\n"
     ]
    }
   ],
   "source": [
    "stat_test('OffersScreenAppear', 247, 246) # Вызов функции"
   ]
  },
  {
   "cell_type": "code",
   "execution_count": 28,
   "id": "a372de5e",
   "metadata": {},
   "outputs": [
    {
     "name": "stdout",
     "output_type": "stream",
     "text": [
      "p-значение:  [0.11456679]\n",
      "Не получилось отвергнуть нулевую гипотезу, нет оснований считать доли разными\n"
     ]
    }
   ],
   "source": [
    "stat_test('PaymentScreenSuccessful', 247, 246) # Вызов функции"
   ]
  },
  {
   "cell_type": "code",
   "execution_count": 29,
   "id": "92c71487",
   "metadata": {},
   "outputs": [
    {
     "name": "stdout",
     "output_type": "stream",
     "text": [
      "p-значение:  [0.93769962]\n",
      "Не получилось отвергнуть нулевую гипотезу, нет оснований считать доли разными\n"
     ]
    }
   ],
   "source": [
    "stat_test('Tutorial', 247, 246) # Вызов функции"
   ]
  },
  {
   "cell_type": "markdown",
   "id": "d2b559c4",
   "metadata": {},
   "source": [
    "Ни в одном из событий статистически значимой разницы между **контрольными группами** не достигнуто. Можно предположить, что дизайн эксперимента проходил правильно и разбиение на группы работает корректно."
   ]
  },
  {
   "cell_type": "markdown",
   "id": "b2bb3140",
   "metadata": {},
   "source": [
    "Аналогочино поступим с группой с измененным шрифтом. Сравним результаты с каждой из контрольных групп в отдельности по каждому событию. Сравним группы - 248 и 247."
   ]
  },
  {
   "cell_type": "code",
   "execution_count": 30,
   "id": "b499c462",
   "metadata": {},
   "outputs": [
    {
     "name": "stdout",
     "output_type": "stream",
     "text": [
      "p-значение:  [0.45870536]\n",
      "Не получилось отвергнуть нулевую гипотезу, нет оснований считать доли разными\n"
     ]
    }
   ],
   "source": [
    "stat_test('MainScreenAppear', 248, 247) # Вызов функции"
   ]
  },
  {
   "cell_type": "code",
   "execution_count": 31,
   "id": "f80d8392",
   "metadata": {},
   "outputs": [
    {
     "name": "stdout",
     "output_type": "stream",
     "text": [
      "p-значение:  [0.91978178]\n",
      "Не получилось отвергнуть нулевую гипотезу, нет оснований считать доли разными\n"
     ]
    }
   ],
   "source": [
    "stat_test('OffersScreenAppear', 248, 247) # Вызов функции"
   ]
  },
  {
   "cell_type": "code",
   "execution_count": 32,
   "id": "90a52475",
   "metadata": {},
   "outputs": [
    {
     "name": "stdout",
     "output_type": "stream",
     "text": [
      "p-значение:  [0.73734151]\n",
      "Не получилось отвергнуть нулевую гипотезу, нет оснований считать доли разными\n"
     ]
    }
   ],
   "source": [
    "stat_test('PaymentScreenSuccessful', 248, 247) # Вызов функции"
   ]
  },
  {
   "cell_type": "code",
   "execution_count": 33,
   "id": "b59672d6",
   "metadata": {},
   "outputs": [
    {
     "name": "stdout",
     "output_type": "stream",
     "text": [
      "p-значение:  [0.76532392]\n",
      "Не получилось отвергнуть нулевую гипотезу, нет оснований считать доли разными\n"
     ]
    }
   ],
   "source": [
    "stat_test('Tutorial', 248, 247) # Вызов функции"
   ]
  },
  {
   "cell_type": "markdown",
   "id": "c9669e30",
   "metadata": {},
   "source": [
    "Ни в одном из событий статистически значимой разницы между контрольной (247) и тестовой (248) группами не достигнуто."
   ]
  },
  {
   "cell_type": "markdown",
   "id": "6fe245f2",
   "metadata": {},
   "source": [
    "Сравним группы 248 и 246"
   ]
  },
  {
   "cell_type": "code",
   "execution_count": 34,
   "id": "2a066c78",
   "metadata": {},
   "outputs": [
    {
     "name": "stdout",
     "output_type": "stream",
     "text": [
      "p-значение:  [0.29497219]\n",
      "Не получилось отвергнуть нулевую гипотезу, нет оснований считать доли разными\n"
     ]
    }
   ],
   "source": [
    "stat_test('MainScreenAppear', 248, 246) # Вызов функции"
   ]
  },
  {
   "cell_type": "code",
   "execution_count": 35,
   "id": "3355a6b3",
   "metadata": {},
   "outputs": [
    {
     "name": "stdout",
     "output_type": "stream",
     "text": [
      "p-значение:  [0.20836205]\n",
      "Не получилось отвергнуть нулевую гипотезу, нет оснований считать доли разными\n"
     ]
    }
   ],
   "source": [
    "stat_test('OffersScreenAppear', 248, 246) # Вызов функции"
   ]
  },
  {
   "cell_type": "code",
   "execution_count": 36,
   "id": "d620c6ba",
   "metadata": {},
   "outputs": [
    {
     "name": "stdout",
     "output_type": "stream",
     "text": [
      "p-значение:  [0.21225533]\n",
      "Не получилось отвергнуть нулевую гипотезу, нет оснований считать доли разными\n"
     ]
    }
   ],
   "source": [
    "stat_test('PaymentScreenSuccessful', 248, 246) # Вызов функции"
   ]
  },
  {
   "cell_type": "code",
   "execution_count": 37,
   "id": "f0b6a7df",
   "metadata": {},
   "outputs": [
    {
     "name": "stdout",
     "output_type": "stream",
     "text": [
      "p-значение:  [0.8264294]\n",
      "Не получилось отвергнуть нулевую гипотезу, нет оснований считать доли разными\n"
     ]
    }
   ],
   "source": [
    "stat_test('Tutorial', 248, 246) # Вызов функции"
   ]
  },
  {
   "cell_type": "markdown",
   "id": "ce5cf28c",
   "metadata": {},
   "source": [
    "Ни в одном из событий статистически значимой разницы между контрольной (246) и тестовой (248) группами не достигнуто."
   ]
  },
  {
   "cell_type": "markdown",
   "id": "ba2876c2",
   "metadata": {},
   "source": [
    "Сравним группы 493 и 248"
   ]
  },
  {
   "cell_type": "code",
   "execution_count": 38,
   "id": "3f478347",
   "metadata": {},
   "outputs": [
    {
     "name": "stdout",
     "output_type": "stream",
     "text": [
      "p-значение:  [0.29424527]\n",
      "Не получилось отвергнуть нулевую гипотезу, нет оснований считать доли разными\n"
     ]
    }
   ],
   "source": [
    "stat_test('MainScreenAppear', 248, 493) # Вызов функции"
   ]
  },
  {
   "cell_type": "code",
   "execution_count": 39,
   "id": "cf67ee7b",
   "metadata": {},
   "outputs": [
    {
     "name": "stdout",
     "output_type": "stream",
     "text": [
      "p-значение:  [0.4342555]\n",
      "Не получилось отвергнуть нулевую гипотезу, нет оснований считать доли разными\n"
     ]
    }
   ],
   "source": [
    "stat_test('OffersScreenAppear', 248, 493) # Вызов функции"
   ]
  },
  {
   "cell_type": "code",
   "execution_count": 40,
   "id": "aab95480",
   "metadata": {},
   "outputs": [
    {
     "name": "stdout",
     "output_type": "stream",
     "text": [
      "p-значение:  [0.60042943]\n",
      "Не получилось отвергнуть нулевую гипотезу, нет оснований считать доли разными\n"
     ]
    }
   ],
   "source": [
    "stat_test('PaymentScreenSuccessful', 248, 493) # Вызов функции"
   ]
  },
  {
   "cell_type": "code",
   "execution_count": 41,
   "id": "3807ccac",
   "metadata": {},
   "outputs": [
    {
     "name": "stdout",
     "output_type": "stream",
     "text": [
      "p-значение:  [0.76486247]\n",
      "Не получилось отвергнуть нулевую гипотезу, нет оснований считать доли разными\n"
     ]
    }
   ],
   "source": [
    "stat_test('Tutorial', 248, 493) # Вызов функции"
   ]
  },
  {
   "cell_type": "markdown",
   "id": "70cf04dc",
   "metadata": {},
   "source": [
    "Статистически значимых различий между объединенной контрольной группой и тестовой не наблюдается ни в одном из событий."
   ]
  },
  {
   "cell_type": "markdown",
   "id": "283a76bd",
   "metadata": {},
   "source": [
    "Так как количество уникальных пользователей в каждой группе достаточно велико, ЦПТ о распределении выборочных средних даёт возможность провести дополнительно t-тест и сравнить средние, к примеру, групп 247 и 248.\n",
    "Гипотезы для проведения t-теста:\n",
    "\n",
    "- H0: Среднее значение количества событий в тестовой и контрольной группе одинаковое\n",
    "- H1: Среднее значение количества событий в тестовой и контрольной группе отличается\n",
    "\n",
    "Для этого посчитаем сколько в среднем событий приходится на пользователя в контрольной группе 247 и тестовой 248."
   ]
  },
  {
   "cell_type": "code",
   "execution_count": 42,
   "id": "e92624a9",
   "metadata": {},
   "outputs": [
    {
     "name": "stdout",
     "output_type": "stream",
     "text": [
      "p-значение: 0.8117559659083451\n",
      "Не получилось отвергнуть нулевую гипотезу\n"
     ]
    }
   ],
   "source": [
    "sample_247 = logs[logs['exp_id'] == 247].groupby('device_id_hash').agg({'event_name' : 'nunique'}) \\\n",
    ".sort_values('event_name', ascending=False) \\\n",
    ".rename(columns ={'event_name' : 'count_of_events'}).squeeze() # Создание выборки\n",
    "\n",
    "sample_248 = logs[logs['exp_id'] == 248].groupby('device_id_hash').agg({'event_name' : 'nunique'}) \\\n",
    ".sort_values('event_name', ascending=False) \\\n",
    ".rename(columns ={'event_name' : 'count_of_events'}).squeeze() # Создание выборки\n",
    "\n",
    "alpha = 0.05 # Уровень значимости\n",
    "\n",
    "results = st.ttest_ind(sample_247, sample_248) # Проведение t-теста\n",
    "\n",
    "print('p-значение:', results.pvalue)\n",
    "\n",
    "if results.pvalue < alpha:\n",
    "    print('Отвергаем нулевую гипотезу')\n",
    "else:\n",
    "    print('Не получилось отвергнуть нулевую гипотезу')"
   ]
  },
  {
   "cell_type": "markdown",
   "id": "6d480226",
   "metadata": {},
   "source": [
    "При сравнение средних двух выборок статистически значимых различий не обнаружили, что подкрепляет описанные выше выводы."
   ]
  },
  {
   "cell_type": "markdown",
   "id": "676347b2",
   "metadata": {},
   "source": [
    "### Вывод"
   ]
  },
  {
   "cell_type": "markdown",
   "id": "81e19390",
   "metadata": {},
   "source": [
    "При анализе результатов экспиримента были выявлены следующие особенности:\n",
    "\n",
    "- Можно сказать, что пользователи распределены по группам равномерно\n",
    "- По результатам А/А теста предположили, что дизайн эксперимента проходил правильно и разбиение на группы работает корректно.\n",
    "- По результатам множественных А/А/B тестов можно заключить, что никаких статистически значимых различий между группами не наблюдается\n",
    "- t-тест контрольной группы 247 и тестовой выборки подтверждает отсутствие статистически значимых различий"
   ]
  },
  {
   "cell_type": "markdown",
   "id": "f026802e",
   "metadata": {},
   "source": [
    "## Вывод"
   ]
  },
  {
   "cell_type": "markdown",
   "id": "9dca1c8d",
   "metadata": {},
   "source": [
    "По результатам выполненного исследования:\n",
    "- Провели предобработку данных для корректной работы с полученным датасетом\n",
    "- Изучили воронку продуктовых продаж, выявили этапы воронки, на которых отваливается максимальное количество пользователей\n",
    "- Провели А/А/B тестирование на двух контрольных и одной тестовой группе. Никаких статистически значимых различий между группами обнаружить не удалось."
   ]
  }
 ],
 "metadata": {
  "hide_input": false,
  "kernelspec": {
   "display_name": "Python 3 (ipykernel)",
   "language": "python",
   "name": "python3"
  },
  "language_info": {
   "codemirror_mode": {
    "name": "ipython",
    "version": 3
   },
   "file_extension": ".py",
   "mimetype": "text/x-python",
   "name": "python",
   "nbconvert_exporter": "python",
   "pygments_lexer": "ipython3",
   "version": "3.9.7"
  },
  "toc": {
   "base_numbering": 1,
   "nav_menu": {},
   "number_sections": true,
   "sideBar": true,
   "skip_h1_title": true,
   "title_cell": "Содержание",
   "title_sidebar": "Содержание",
   "toc_cell": true,
   "toc_position": {},
   "toc_section_display": true,
   "toc_window_display": false
  }
 },
 "nbformat": 4,
 "nbformat_minor": 5
}
