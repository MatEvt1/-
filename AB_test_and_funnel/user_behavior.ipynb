{
 "cells": [
  {
   "cell_type": "markdown",
   "id": "75c3498a",
   "metadata": {
    "toc": true
   },
   "source": [
    "<h1>Содержание<span class=\"tocSkip\"></span></h1>\n",
    "<div class=\"toc\"><ul class=\"toc-item\"><li><span><a href=\"#Описание-проекта\" data-toc-modified-id=\"Описание-проекта-1\"><span class=\"toc-item-num\">1&nbsp;&nbsp;</span>Описание проекта</a></span></li><li><span><a href=\"#Выгрузка-и-изучение-данных\" data-toc-modified-id=\"Выгрузка-и-изучение-данных-2\"><span class=\"toc-item-num\">2&nbsp;&nbsp;</span>Выгрузка и изучение данных</a></span><ul class=\"toc-item\"><li><span><a href=\"#Вывод\" data-toc-modified-id=\"Вывод-2.1\"><span class=\"toc-item-num\">2.1&nbsp;&nbsp;</span>Вывод</a></span></li></ul></li><li><span><a href=\"#Предобработка-данных\" data-toc-modified-id=\"Предобработка-данных-3\"><span class=\"toc-item-num\">3&nbsp;&nbsp;</span>Предобработка данных</a></span><ul class=\"toc-item\"><li><span><a href=\"#Вывод\" data-toc-modified-id=\"Вывод-3.1\"><span class=\"toc-item-num\">3.1&nbsp;&nbsp;</span>Вывод</a></span></li></ul></li><li><span><a href=\"#Исследовательский-анализ-данных\" data-toc-modified-id=\"Исследовательский-анализ-данных-4\"><span class=\"toc-item-num\">4&nbsp;&nbsp;</span>Исследовательский анализ данных</a></span><ul class=\"toc-item\"><li><span><a href=\"#Вывод\" data-toc-modified-id=\"Вывод-4.1\"><span class=\"toc-item-num\">4.1&nbsp;&nbsp;</span>Вывод</a></span></li><li><span><a href=\"#В-ходе-исследователького-анализа-установили:\" data-toc-modified-id=\"В-ходе-исследователького-анализа-установили:-4.2\"><span class=\"toc-item-num\">4.2&nbsp;&nbsp;</span>В ходе исследователького анализа установили:</a></span></li></ul></li><li><span><a href=\"#Исследование-воронки-событий\" data-toc-modified-id=\"Исследование-воронки-событий-5\"><span class=\"toc-item-num\">5&nbsp;&nbsp;</span>Исследование воронки событий</a></span><ul class=\"toc-item\"><li><span><a href=\"#Вывод\" data-toc-modified-id=\"Вывод-5.1\"><span class=\"toc-item-num\">5.1&nbsp;&nbsp;</span>Вывод</a></span></li></ul></li><li><span><a href=\"#Анализ-результатов-эксперимента\" data-toc-modified-id=\"Анализ-результатов-эксперимента-6\"><span class=\"toc-item-num\">6&nbsp;&nbsp;</span>Анализ результатов эксперимента</a></span><ul class=\"toc-item\"><li><span><a href=\"#Вывод\" data-toc-modified-id=\"Вывод-6.1\"><span class=\"toc-item-num\">6.1&nbsp;&nbsp;</span>Вывод</a></span></li></ul></li><li><span><a href=\"#Вывод\" data-toc-modified-id=\"Вывод-7\"><span class=\"toc-item-num\">7&nbsp;&nbsp;</span>Вывод</a></span></li></ul></div>"
   ]
  },
  {
   "cell_type": "markdown",
   "id": "2ca6704d",
   "metadata": {},
   "source": [
    "## Описание проекта"
   ]
  },
  {
   "cell_type": "markdown",
   "id": "467a8c12",
   "metadata": {},
   "source": [
    "В проекте будем рассматривать стартап, который продаёт продукты питания. Нужно разобраться, как ведут себя пользователи нашего мобильного приложения.\n",
    "\n",
    "Изучим воронку продаж. Узнаем, как пользователи доходят до покупки. Сколько пользователей доходит до покупки, а сколько — «застревает» на предыдущих шагах? На каких именно?\n",
    "\n",
    "После этого исследуем результаты A/A/B-эксперимента. Дизайнеры захотели поменять шрифты во всём приложении, а менеджеры испугались, что пользователям будет непривычно. Договорились принять решение по результатам A/A/B-теста. Пользователей разбили на 3 группы: 2 контрольные со старыми шрифтами и одну экспериментальную — с новыми. Выясним, какой шрифт лучше.\n",
    "\n",
    "Создание двух групп A вместо одной имеет определённые преимущества. Если две контрольные группы окажутся равны, вы можете быть уверены в точности проведенного тестирования. Если же между значениями A и A будут существенные различия, это поможет обнаружить факторы, которые привели к искажению результатов. Сравнение контрольных групп также поможет понять, сколько времени и данных потребуется для дальнейших тестов.\n",
    "\n",
    "**Описание данных**\n",
    "\n",
    "Каждая запись в логе — это действие пользователя, или событие.\n",
    "\n",
    "- EventName  — название события\n",
    "- DeviceIDHash  — уникальный идентификатор пользователя\n",
    "- EventTimestamp  — время события\n",
    "- ExpId  — номер эксперимента: 246 и 247 — контрольные группы, а 248 — экспериментальная"
   ]
  },
  {
   "cell_type": "markdown",
   "id": "cebe3d27",
   "metadata": {},
   "source": [
    "## Выгрузка и изучение данных"
   ]
  },
  {
   "cell_type": "markdown",
   "id": "9f0c5a25",
   "metadata": {},
   "source": [
    "Импортируем основные библиотеки"
   ]
  },
  {
   "cell_type": "code",
   "execution_count": 1,
   "id": "240e73d9",
   "metadata": {},
   "outputs": [],
   "source": [
    "import pandas as pd\n",
    "from scipy import stats as st\n",
    "import numpy as np\n",
    "import math as mth\n",
    "import matplotlib.pyplot as plt\n",
    "import seaborn as sns\n",
    "import plotly.express as px\n",
    "from plotly import graph_objects as go\n",
    "import warnings\n",
    "warnings.simplefilter('ignore')\n",
    "\n",
    "# Импорт основных библиотек"
   ]
  },
  {
   "cell_type": "code",
   "execution_count": 2,
   "id": "50b6a76b",
   "metadata": {
    "scrolled": true
   },
   "outputs": [
    {
     "data": {
      "text/html": [
       "<div>\n",
       "<style scoped>\n",
       "    .dataframe tbody tr th:only-of-type {\n",
       "        vertical-align: middle;\n",
       "    }\n",
       "\n",
       "    .dataframe tbody tr th {\n",
       "        vertical-align: top;\n",
       "    }\n",
       "\n",
       "    .dataframe thead th {\n",
       "        text-align: right;\n",
       "    }\n",
       "</style>\n",
       "<table border=\"1\" class=\"dataframe\">\n",
       "  <thead>\n",
       "    <tr style=\"text-align: right;\">\n",
       "      <th></th>\n",
       "      <th>EventName</th>\n",
       "      <th>DeviceIDHash</th>\n",
       "      <th>EventTimestamp</th>\n",
       "      <th>ExpId</th>\n",
       "    </tr>\n",
       "  </thead>\n",
       "  <tbody>\n",
       "    <tr>\n",
       "      <th>0</th>\n",
       "      <td>MainScreenAppear</td>\n",
       "      <td>4575588528974610257</td>\n",
       "      <td>1564029816</td>\n",
       "      <td>246</td>\n",
       "    </tr>\n",
       "    <tr>\n",
       "      <th>1</th>\n",
       "      <td>MainScreenAppear</td>\n",
       "      <td>7416695313311560658</td>\n",
       "      <td>1564053102</td>\n",
       "      <td>246</td>\n",
       "    </tr>\n",
       "    <tr>\n",
       "      <th>2</th>\n",
       "      <td>PaymentScreenSuccessful</td>\n",
       "      <td>3518123091307005509</td>\n",
       "      <td>1564054127</td>\n",
       "      <td>248</td>\n",
       "    </tr>\n",
       "    <tr>\n",
       "      <th>3</th>\n",
       "      <td>CartScreenAppear</td>\n",
       "      <td>3518123091307005509</td>\n",
       "      <td>1564054127</td>\n",
       "      <td>248</td>\n",
       "    </tr>\n",
       "    <tr>\n",
       "      <th>4</th>\n",
       "      <td>PaymentScreenSuccessful</td>\n",
       "      <td>6217807653094995999</td>\n",
       "      <td>1564055322</td>\n",
       "      <td>248</td>\n",
       "    </tr>\n",
       "  </tbody>\n",
       "</table>\n",
       "</div>"
      ],
      "text/plain": [
       "                 EventName         DeviceIDHash  EventTimestamp  ExpId\n",
       "0         MainScreenAppear  4575588528974610257      1564029816    246\n",
       "1         MainScreenAppear  7416695313311560658      1564053102    246\n",
       "2  PaymentScreenSuccessful  3518123091307005509      1564054127    248\n",
       "3         CartScreenAppear  3518123091307005509      1564054127    248\n",
       "4  PaymentScreenSuccessful  6217807653094995999      1564055322    248"
      ]
     },
     "execution_count": 2,
     "metadata": {},
     "output_type": "execute_result"
    }
   ],
   "source": [
    "try:\n",
    "    logs = pd.read_csv('logs_exp.csv', sep = '\\t') # Чтение и запись файла\n",
    "except:\n",
    "    logs = pd.read_csv('/datasets/logs_exp.csv', sep = '\\t')\n",
    "logs.head()"
   ]
  },
  {
   "cell_type": "markdown",
   "id": "6b2c25ff",
   "metadata": {},
   "source": [
    "Выведим общую информацию о датасете"
   ]
  },
  {
   "cell_type": "code",
   "execution_count": 3,
   "id": "ad11efd1",
   "metadata": {},
   "outputs": [
    {
     "name": "stdout",
     "output_type": "stream",
     "text": [
      "<class 'pandas.core.frame.DataFrame'>\n",
      "RangeIndex: 244126 entries, 0 to 244125\n",
      "Data columns (total 4 columns):\n",
      " #   Column          Non-Null Count   Dtype \n",
      "---  ------          --------------   ----- \n",
      " 0   EventName       244126 non-null  object\n",
      " 1   DeviceIDHash    244126 non-null  int64 \n",
      " 2   EventTimestamp  244126 non-null  int64 \n",
      " 3   ExpId           244126 non-null  int64 \n",
      "dtypes: int64(3), object(1)\n",
      "memory usage: 7.5+ MB\n"
     ]
    }
   ],
   "source": [
    "logs.info() # Общая информация о датасете"
   ]
  },
  {
   "cell_type": "markdown",
   "id": "845db1f0",
   "metadata": {},
   "source": [
    "### Вывод"
   ]
  },
  {
   "cell_type": "markdown",
   "id": "f2b7a9c3",
   "metadata": {},
   "source": [
    "Обозначили переменную с исследуемым датасетом - `logs`. Датасет содержит 4 столбца и  244126 строк. Для более детального погружения в анализ необходимо провести предобработку данных.\n",
    "\n",
    "Необходимо отметить, что данные о времени события представлены в формате `unix`"
   ]
  },
  {
   "cell_type": "markdown",
   "id": "3b6f0408",
   "metadata": {},
   "source": [
    "## Предобработка данных"
   ]
  },
  {
   "cell_type": "markdown",
   "id": "e416b656",
   "metadata": {},
   "source": [
    "Выведим датасет на экран"
   ]
  },
  {
   "cell_type": "code",
   "execution_count": 4,
   "id": "db709736",
   "metadata": {},
   "outputs": [
    {
     "data": {
      "text/html": [
       "<div>\n",
       "<style scoped>\n",
       "    .dataframe tbody tr th:only-of-type {\n",
       "        vertical-align: middle;\n",
       "    }\n",
       "\n",
       "    .dataframe tbody tr th {\n",
       "        vertical-align: top;\n",
       "    }\n",
       "\n",
       "    .dataframe thead th {\n",
       "        text-align: right;\n",
       "    }\n",
       "</style>\n",
       "<table border=\"1\" class=\"dataframe\">\n",
       "  <thead>\n",
       "    <tr style=\"text-align: right;\">\n",
       "      <th></th>\n",
       "      <th>EventName</th>\n",
       "      <th>DeviceIDHash</th>\n",
       "      <th>EventTimestamp</th>\n",
       "      <th>ExpId</th>\n",
       "    </tr>\n",
       "  </thead>\n",
       "  <tbody>\n",
       "    <tr>\n",
       "      <th>0</th>\n",
       "      <td>MainScreenAppear</td>\n",
       "      <td>4575588528974610257</td>\n",
       "      <td>1564029816</td>\n",
       "      <td>246</td>\n",
       "    </tr>\n",
       "    <tr>\n",
       "      <th>1</th>\n",
       "      <td>MainScreenAppear</td>\n",
       "      <td>7416695313311560658</td>\n",
       "      <td>1564053102</td>\n",
       "      <td>246</td>\n",
       "    </tr>\n",
       "    <tr>\n",
       "      <th>2</th>\n",
       "      <td>PaymentScreenSuccessful</td>\n",
       "      <td>3518123091307005509</td>\n",
       "      <td>1564054127</td>\n",
       "      <td>248</td>\n",
       "    </tr>\n",
       "    <tr>\n",
       "      <th>3</th>\n",
       "      <td>CartScreenAppear</td>\n",
       "      <td>3518123091307005509</td>\n",
       "      <td>1564054127</td>\n",
       "      <td>248</td>\n",
       "    </tr>\n",
       "    <tr>\n",
       "      <th>4</th>\n",
       "      <td>PaymentScreenSuccessful</td>\n",
       "      <td>6217807653094995999</td>\n",
       "      <td>1564055322</td>\n",
       "      <td>248</td>\n",
       "    </tr>\n",
       "  </tbody>\n",
       "</table>\n",
       "</div>"
      ],
      "text/plain": [
       "                 EventName         DeviceIDHash  EventTimestamp  ExpId\n",
       "0         MainScreenAppear  4575588528974610257      1564029816    246\n",
       "1         MainScreenAppear  7416695313311560658      1564053102    246\n",
       "2  PaymentScreenSuccessful  3518123091307005509      1564054127    248\n",
       "3         CartScreenAppear  3518123091307005509      1564054127    248\n",
       "4  PaymentScreenSuccessful  6217807653094995999      1564055322    248"
      ]
     },
     "execution_count": 4,
     "metadata": {},
     "output_type": "execute_result"
    }
   ],
   "source": [
    "logs.head() # Выводим первые 5 строк датасета"
   ]
  },
  {
   "cell_type": "markdown",
   "id": "a986db25",
   "metadata": {},
   "source": [
    "Приведём название столбцов к привычному виду"
   ]
  },
  {
   "cell_type": "code",
   "execution_count": 5,
   "id": "ef6c4181",
   "metadata": {
    "scrolled": true
   },
   "outputs": [],
   "source": [
    "logs.columns = logs.columns.str.lower()\n",
    "logs = logs.rename(columns = {'eventname' : 'event_name', \n",
    "                        'deviceidhash' : 'device_id_hash',\n",
    "                        'eventtimestamp' : 'event_timestamp',\n",
    "                        'expid' : 'exp_id'})\n",
    "\n",
    "# Замена наименования столбцов"
   ]
  },
  {
   "cell_type": "markdown",
   "id": "5f59f99d",
   "metadata": {},
   "source": [
    "Проверим датасет на наличие дубликатов"
   ]
  },
  {
   "cell_type": "code",
   "execution_count": 6,
   "id": "0e126403",
   "metadata": {},
   "outputs": [
    {
     "data": {
      "text/plain": [
       "413"
      ]
     },
     "execution_count": 6,
     "metadata": {},
     "output_type": "execute_result"
    }
   ],
   "source": [
    "logs.duplicated().sum() # Поиск дубликатов"
   ]
  },
  {
   "cell_type": "markdown",
   "id": "48a51dcd",
   "metadata": {},
   "source": [
    "Удалим дублирующиеся строки датасета"
   ]
  },
  {
   "cell_type": "code",
   "execution_count": 7,
   "id": "7e50d15a",
   "metadata": {
    "scrolled": true
   },
   "outputs": [
    {
     "data": {
      "text/plain": [
       "0"
      ]
     },
     "execution_count": 7,
     "metadata": {},
     "output_type": "execute_result"
    }
   ],
   "source": [
    "logs = logs.drop_duplicates() # Удаление дубликатов\n",
    "logs.duplicated().sum()"
   ]
  },
  {
   "cell_type": "markdown",
   "id": "b3b4581c",
   "metadata": {},
   "source": [
    "Проверим данные на наличие пропусков"
   ]
  },
  {
   "cell_type": "code",
   "execution_count": 8,
   "id": "950e4ca7",
   "metadata": {},
   "outputs": [
    {
     "data": {
      "text/plain": [
       "event_name         0\n",
       "device_id_hash     0\n",
       "event_timestamp    0\n",
       "exp_id             0\n",
       "dtype: int64"
      ]
     },
     "execution_count": 8,
     "metadata": {},
     "output_type": "execute_result"
    }
   ],
   "source": [
    "logs.isnull().sum() # Проверка на наличие пропусков"
   ]
  },
  {
   "cell_type": "markdown",
   "id": "ef07af37",
   "metadata": {},
   "source": [
    "Добавим дополнительный столбец даты и времени `datetime` , а так же отдельный столбец дат `date`"
   ]
  },
  {
   "cell_type": "code",
   "execution_count": 9,
   "id": "9309a5d3",
   "metadata": {},
   "outputs": [
    {
     "data": {
      "text/html": [
       "<div>\n",
       "<style scoped>\n",
       "    .dataframe tbody tr th:only-of-type {\n",
       "        vertical-align: middle;\n",
       "    }\n",
       "\n",
       "    .dataframe tbody tr th {\n",
       "        vertical-align: top;\n",
       "    }\n",
       "\n",
       "    .dataframe thead th {\n",
       "        text-align: right;\n",
       "    }\n",
       "</style>\n",
       "<table border=\"1\" class=\"dataframe\">\n",
       "  <thead>\n",
       "    <tr style=\"text-align: right;\">\n",
       "      <th></th>\n",
       "      <th>event_name</th>\n",
       "      <th>device_id_hash</th>\n",
       "      <th>event_timestamp</th>\n",
       "      <th>exp_id</th>\n",
       "      <th>datetime</th>\n",
       "      <th>date</th>\n",
       "    </tr>\n",
       "  </thead>\n",
       "  <tbody>\n",
       "    <tr>\n",
       "      <th>0</th>\n",
       "      <td>MainScreenAppear</td>\n",
       "      <td>4575588528974610257</td>\n",
       "      <td>1564029816</td>\n",
       "      <td>246</td>\n",
       "      <td>2019-07-25 04:43:36</td>\n",
       "      <td>2019-07-25</td>\n",
       "    </tr>\n",
       "    <tr>\n",
       "      <th>1</th>\n",
       "      <td>MainScreenAppear</td>\n",
       "      <td>7416695313311560658</td>\n",
       "      <td>1564053102</td>\n",
       "      <td>246</td>\n",
       "      <td>2019-07-25 11:11:42</td>\n",
       "      <td>2019-07-25</td>\n",
       "    </tr>\n",
       "    <tr>\n",
       "      <th>2</th>\n",
       "      <td>PaymentScreenSuccessful</td>\n",
       "      <td>3518123091307005509</td>\n",
       "      <td>1564054127</td>\n",
       "      <td>248</td>\n",
       "      <td>2019-07-25 11:28:47</td>\n",
       "      <td>2019-07-25</td>\n",
       "    </tr>\n",
       "    <tr>\n",
       "      <th>3</th>\n",
       "      <td>CartScreenAppear</td>\n",
       "      <td>3518123091307005509</td>\n",
       "      <td>1564054127</td>\n",
       "      <td>248</td>\n",
       "      <td>2019-07-25 11:28:47</td>\n",
       "      <td>2019-07-25</td>\n",
       "    </tr>\n",
       "    <tr>\n",
       "      <th>4</th>\n",
       "      <td>PaymentScreenSuccessful</td>\n",
       "      <td>6217807653094995999</td>\n",
       "      <td>1564055322</td>\n",
       "      <td>248</td>\n",
       "      <td>2019-07-25 11:48:42</td>\n",
       "      <td>2019-07-25</td>\n",
       "    </tr>\n",
       "  </tbody>\n",
       "</table>\n",
       "</div>"
      ],
      "text/plain": [
       "                event_name       device_id_hash  event_timestamp  exp_id  \\\n",
       "0         MainScreenAppear  4575588528974610257       1564029816     246   \n",
       "1         MainScreenAppear  7416695313311560658       1564053102     246   \n",
       "2  PaymentScreenSuccessful  3518123091307005509       1564054127     248   \n",
       "3         CartScreenAppear  3518123091307005509       1564054127     248   \n",
       "4  PaymentScreenSuccessful  6217807653094995999       1564055322     248   \n",
       "\n",
       "             datetime        date  \n",
       "0 2019-07-25 04:43:36  2019-07-25  \n",
       "1 2019-07-25 11:11:42  2019-07-25  \n",
       "2 2019-07-25 11:28:47  2019-07-25  \n",
       "3 2019-07-25 11:28:47  2019-07-25  \n",
       "4 2019-07-25 11:48:42  2019-07-25  "
      ]
     },
     "execution_count": 9,
     "metadata": {},
     "output_type": "execute_result"
    }
   ],
   "source": [
    "logs['datetime'] = pd.to_datetime(logs['event_timestamp'], unit = 's') # Создание дополнительных столбцов\n",
    "logs['date'] = logs['datetime'].dt.date\n",
    "logs.head()"
   ]
  },
  {
   "cell_type": "markdown",
   "id": "00672636",
   "metadata": {},
   "source": [
    "### Вывод"
   ]
  },
  {
   "cell_type": "markdown",
   "id": "74e7c63c",
   "metadata": {},
   "source": [
    "В ходе предобработки данных проделали следующие действия:\n",
    "\n",
    "- Изменилил названия столбцов датасета\n",
    "- Избавились от дубликатов\n",
    "- Проверили датасет на наличие пропусков\n",
    "- Убедились в корректности типов данных каждого столбца\n",
    "- Добавили столбцы `datetime` и `date`"
   ]
  },
  {
   "cell_type": "markdown",
   "id": "32a6dc2b",
   "metadata": {},
   "source": [
    "## Исследовательский анализ данных"
   ]
  },
  {
   "cell_type": "markdown",
   "id": "4c8ad6d3",
   "metadata": {},
   "source": [
    "Найдём все уникальные события в логах"
   ]
  },
  {
   "cell_type": "code",
   "execution_count": 10,
   "id": "ac52e8e2",
   "metadata": {},
   "outputs": [
    {
     "data": {
      "text/plain": [
       "array(['MainScreenAppear', 'PaymentScreenSuccessful', 'CartScreenAppear',\n",
       "       'OffersScreenAppear', 'Tutorial'], dtype=object)"
      ]
     },
     "execution_count": 10,
     "metadata": {},
     "output_type": "execute_result"
    }
   ],
   "source": [
    "logs['event_name'].unique() # Уникальные значения столбца"
   ]
  },
  {
   "cell_type": "markdown",
   "id": "007f7b7d",
   "metadata": {},
   "source": [
    "Всего имеем 5 событий:\n",
    "\n",
    "- MainScreenAppear - главный экран приложения\n",
    "- OffersScreenAppear - конкретный товар в приложении\n",
    "- CartScreenAppear - добавление товара в корзину\n",
    "- PaymentScreenSuccessful - оплата товара\n",
    "- Tutorial - руководство к пользованию приложением"
   ]
  },
  {
   "cell_type": "markdown",
   "id": "d00dbd51",
   "metadata": {},
   "source": [
    "Посчитаем количество уникальных пользователей в логе"
   ]
  },
  {
   "cell_type": "code",
   "execution_count": 11,
   "id": "5cb5c8b1",
   "metadata": {},
   "outputs": [
    {
     "data": {
      "text/plain": [
       "7551"
      ]
     },
     "execution_count": 11,
     "metadata": {},
     "output_type": "execute_result"
    }
   ],
   "source": [
    "logs['device_id_hash'].nunique() # Количество уникальных значений в столбце"
   ]
  },
  {
   "cell_type": "markdown",
   "id": "a2d81cad",
   "metadata": {},
   "source": [
    "Имеем 7551 уникальных пользователей, которые использовали приложение в указанный период. Определим сколько в среднем событий приходится на пользователя."
   ]
  },
  {
   "cell_type": "code",
   "execution_count": 12,
   "id": "ddf8e289",
   "metadata": {},
   "outputs": [
    {
     "data": {
      "text/html": [
       "<div>\n",
       "<style scoped>\n",
       "    .dataframe tbody tr th:only-of-type {\n",
       "        vertical-align: middle;\n",
       "    }\n",
       "\n",
       "    .dataframe tbody tr th {\n",
       "        vertical-align: top;\n",
       "    }\n",
       "\n",
       "    .dataframe thead th {\n",
       "        text-align: right;\n",
       "    }\n",
       "</style>\n",
       "<table border=\"1\" class=\"dataframe\">\n",
       "  <thead>\n",
       "    <tr style=\"text-align: right;\">\n",
       "      <th></th>\n",
       "      <th>count_of_events</th>\n",
       "    </tr>\n",
       "  </thead>\n",
       "  <tbody>\n",
       "    <tr>\n",
       "      <th>count</th>\n",
       "      <td>7551.000000</td>\n",
       "    </tr>\n",
       "    <tr>\n",
       "      <th>mean</th>\n",
       "      <td>32.275593</td>\n",
       "    </tr>\n",
       "    <tr>\n",
       "      <th>std</th>\n",
       "      <td>65.154219</td>\n",
       "    </tr>\n",
       "    <tr>\n",
       "      <th>min</th>\n",
       "      <td>1.000000</td>\n",
       "    </tr>\n",
       "    <tr>\n",
       "      <th>25%</th>\n",
       "      <td>9.000000</td>\n",
       "    </tr>\n",
       "    <tr>\n",
       "      <th>50%</th>\n",
       "      <td>20.000000</td>\n",
       "    </tr>\n",
       "    <tr>\n",
       "      <th>75%</th>\n",
       "      <td>37.000000</td>\n",
       "    </tr>\n",
       "    <tr>\n",
       "      <th>max</th>\n",
       "      <td>2307.000000</td>\n",
       "    </tr>\n",
       "  </tbody>\n",
       "</table>\n",
       "</div>"
      ],
      "text/plain": [
       "       count_of_events\n",
       "count      7551.000000\n",
       "mean         32.275593\n",
       "std          65.154219\n",
       "min           1.000000\n",
       "25%           9.000000\n",
       "50%          20.000000\n",
       "75%          37.000000\n",
       "max        2307.000000"
      ]
     },
     "execution_count": 12,
     "metadata": {},
     "output_type": "execute_result"
    }
   ],
   "source": [
    "logs.groupby('device_id_hash').agg({'event_name' : 'count'}).sort_values('event_name', ascending=False) \\\n",
    ".rename(columns ={'event_name' : 'count_of_events'}).describe()\n",
    "\n",
    "# Общая информация по сгруппированным данным"
   ]
  },
  {
   "cell_type": "markdown",
   "id": "61cc8424",
   "metadata": {},
   "source": [
    "Среднее значение количества событий равняется 32.27. Медианное значение - 20."
   ]
  },
  {
   "cell_type": "markdown",
   "id": "75b255d5",
   "metadata": {},
   "source": [
    "Определим максимальную и минимальную дату периода, за который представлены данные"
   ]
  },
  {
   "cell_type": "code",
   "execution_count": 13,
   "id": "ed92a84e",
   "metadata": {},
   "outputs": [
    {
     "name": "stdout",
     "output_type": "stream",
     "text": [
      "Максимальная дата: 2019-08-07 21:15:17\n",
      "Минимальная дата: 2019-07-25 04:43:36\n"
     ]
    }
   ],
   "source": [
    "print('Максимальная дата:' , max(logs['datetime'])) # Максимальная и минимальная дата логов\n",
    "print('Минимальная дата:', min(logs['datetime']))"
   ]
  },
  {
   "cell_type": "markdown",
   "id": "839ddab2",
   "metadata": {},
   "source": [
    "Итак, располагаем данными с 25 июля 2019 года по 7 августа 2019 года."
   ]
  },
  {
   "cell_type": "code",
   "execution_count": 14,
   "id": "614cf22a",
   "metadata": {},
   "outputs": [
    {
     "data": {
      "image/png": "[encoded data removed]",
      "text/plain": [
       "<Figure size 1440x720 with 1 Axes>"
      ]
     },
     "metadata": {
      "needs_background": "light"
     },
     "output_type": "display_data"
    }
   ],
   "source": [
    "fig, test = plt.subplots()\n",
    "test.set_title('Гистограмма распределения событий по дате и времени', fontsize=15)\n",
    "test.set_ylabel('Количество событий', fontsize=15)\n",
    "test.set_xlabel('Дата', fontsize=15)\n",
    "\n",
    "fig.set_figheight(10)\n",
    "fig.set_figwidth(20)\n",
    "\n",
    "sns.histplot(data=logs, x='datetime', kde=True)\n",
    "plt.grid();\n",
    "\n",
    "# Построение гистограммы"
   ]
  },
  {
   "cell_type": "markdown",
   "id": "b086a66d",
   "metadata": {},
   "source": [
    "По гистограмме заметно, данные распределены весьма странным образом. Можем предположить, что форма распределения связана с тем, что до 1 августа 2019 года данные были неполные. Построим такую же диаграмму во временном диапазоне от 1 августа."
   ]
  },
  {
   "cell_type": "code",
   "execution_count": 15,
   "id": "9abda36d",
   "metadata": {},
   "outputs": [
    {
     "data": {
      "image/png": "[encoded data removed]",
      "text/plain": [
       "<Figure size 1440x720 with 1 Axes>"
      ]
     },
     "metadata": {
      "needs_background": "light"
     },
     "output_type": "display_data"
    }
   ],
   "source": [
    "fig, test = plt.subplots()\n",
    "test.set_title('Гистограмма распределения событий по дате и времени', fontsize=15)\n",
    "test.set_ylabel('Количество событий', fontsize=15)\n",
    "test.set_xlabel('Дата', fontsize=15)\n",
    "\n",
    "fig.set_figheight(10)\n",
    "fig.set_figwidth(20)\n",
    "\n",
    "sns.histplot(data=logs[logs['datetime'] >= '2019-08-01'], x='datetime', kde=True)\n",
    "plt.grid();\n",
    "\n",
    "# Построение гистограммы"
   ]
  },
  {
   "cell_type": "markdown",
   "id": "302f3293",
   "metadata": {},
   "source": [
    "Проверим количество строк, которые характеризуют временной период до 1 августа"
   ]
  },
  {
   "cell_type": "code",
   "execution_count": 16,
   "id": "39b5400e",
   "metadata": {
    "scrolled": true
   },
   "outputs": [
    {
     "data": {
      "text/html": [
       "<div>\n",
       "<style scoped>\n",
       "    .dataframe tbody tr th:only-of-type {\n",
       "        vertical-align: middle;\n",
       "    }\n",
       "\n",
       "    .dataframe tbody tr th {\n",
       "        vertical-align: top;\n",
       "    }\n",
       "\n",
       "    .dataframe thead th {\n",
       "        text-align: right;\n",
       "    }\n",
       "</style>\n",
       "<table border=\"1\" class=\"dataframe\">\n",
       "  <thead>\n",
       "    <tr style=\"text-align: right;\">\n",
       "      <th></th>\n",
       "      <th>event_name</th>\n",
       "      <th>device_id_hash</th>\n",
       "      <th>event_timestamp</th>\n",
       "      <th>exp_id</th>\n",
       "      <th>datetime</th>\n",
       "      <th>date</th>\n",
       "    </tr>\n",
       "  </thead>\n",
       "  <tbody>\n",
       "    <tr>\n",
       "      <th>0</th>\n",
       "      <td>MainScreenAppear</td>\n",
       "      <td>4575588528974610257</td>\n",
       "      <td>1564029816</td>\n",
       "      <td>246</td>\n",
       "      <td>2019-07-25 04:43:36</td>\n",
       "      <td>2019-07-25</td>\n",
       "    </tr>\n",
       "    <tr>\n",
       "      <th>1</th>\n",
       "      <td>MainScreenAppear</td>\n",
       "      <td>7416695313311560658</td>\n",
       "      <td>1564053102</td>\n",
       "      <td>246</td>\n",
       "      <td>2019-07-25 11:11:42</td>\n",
       "      <td>2019-07-25</td>\n",
       "    </tr>\n",
       "    <tr>\n",
       "      <th>2</th>\n",
       "      <td>PaymentScreenSuccessful</td>\n",
       "      <td>3518123091307005509</td>\n",
       "      <td>1564054127</td>\n",
       "      <td>248</td>\n",
       "      <td>2019-07-25 11:28:47</td>\n",
       "      <td>2019-07-25</td>\n",
       "    </tr>\n",
       "    <tr>\n",
       "      <th>3</th>\n",
       "      <td>CartScreenAppear</td>\n",
       "      <td>3518123091307005509</td>\n",
       "      <td>1564054127</td>\n",
       "      <td>248</td>\n",
       "      <td>2019-07-25 11:28:47</td>\n",
       "      <td>2019-07-25</td>\n",
       "    </tr>\n",
       "    <tr>\n",
       "      <th>4</th>\n",
       "      <td>PaymentScreenSuccessful</td>\n",
       "      <td>6217807653094995999</td>\n",
       "      <td>1564055322</td>\n",
       "      <td>248</td>\n",
       "      <td>2019-07-25 11:48:42</td>\n",
       "      <td>2019-07-25</td>\n",
       "    </tr>\n",
       "    <tr>\n",
       "      <th>...</th>\n",
       "      <td>...</td>\n",
       "      <td>...</td>\n",
       "      <td>...</td>\n",
       "      <td>...</td>\n",
       "      <td>...</td>\n",
       "      <td>...</td>\n",
       "    </tr>\n",
       "    <tr>\n",
       "      <th>2823</th>\n",
       "      <td>OffersScreenAppear</td>\n",
       "      <td>2413191300976302222</td>\n",
       "      <td>1564617295</td>\n",
       "      <td>247</td>\n",
       "      <td>2019-07-31 23:54:55</td>\n",
       "      <td>2019-07-31</td>\n",
       "    </tr>\n",
       "    <tr>\n",
       "      <th>2824</th>\n",
       "      <td>MainScreenAppear</td>\n",
       "      <td>5505110279185484837</td>\n",
       "      <td>1564617450</td>\n",
       "      <td>247</td>\n",
       "      <td>2019-07-31 23:57:30</td>\n",
       "      <td>2019-07-31</td>\n",
       "    </tr>\n",
       "    <tr>\n",
       "      <th>2825</th>\n",
       "      <td>MainScreenAppear</td>\n",
       "      <td>5505110279185484837</td>\n",
       "      <td>1564617462</td>\n",
       "      <td>247</td>\n",
       "      <td>2019-07-31 23:57:42</td>\n",
       "      <td>2019-07-31</td>\n",
       "    </tr>\n",
       "    <tr>\n",
       "      <th>2826</th>\n",
       "      <td>MainScreenAppear</td>\n",
       "      <td>5505110279185484837</td>\n",
       "      <td>1564617472</td>\n",
       "      <td>247</td>\n",
       "      <td>2019-07-31 23:57:52</td>\n",
       "      <td>2019-07-31</td>\n",
       "    </tr>\n",
       "    <tr>\n",
       "      <th>2827</th>\n",
       "      <td>MainScreenAppear</td>\n",
       "      <td>2413191300976302222</td>\n",
       "      <td>1564617599</td>\n",
       "      <td>247</td>\n",
       "      <td>2019-07-31 23:59:59</td>\n",
       "      <td>2019-07-31</td>\n",
       "    </tr>\n",
       "  </tbody>\n",
       "</table>\n",
       "<p>2826 rows × 6 columns</p>\n",
       "</div>"
      ],
      "text/plain": [
       "                   event_name       device_id_hash  event_timestamp  exp_id  \\\n",
       "0            MainScreenAppear  4575588528974610257       1564029816     246   \n",
       "1            MainScreenAppear  7416695313311560658       1564053102     246   \n",
       "2     PaymentScreenSuccessful  3518123091307005509       1564054127     248   \n",
       "3            CartScreenAppear  3518123091307005509       1564054127     248   \n",
       "4     PaymentScreenSuccessful  6217807653094995999       1564055322     248   \n",
       "...                       ...                  ...              ...     ...   \n",
       "2823       OffersScreenAppear  2413191300976302222       1564617295     247   \n",
       "2824         MainScreenAppear  5505110279185484837       1564617450     247   \n",
       "2825         MainScreenAppear  5505110279185484837       1564617462     247   \n",
       "2826         MainScreenAppear  5505110279185484837       1564617472     247   \n",
       "2827         MainScreenAppear  2413191300976302222       1564617599     247   \n",
       "\n",
       "                datetime        date  \n",
       "0    2019-07-25 04:43:36  2019-07-25  \n",
       "1    2019-07-25 11:11:42  2019-07-25  \n",
       "2    2019-07-25 11:28:47  2019-07-25  \n",
       "3    2019-07-25 11:28:47  2019-07-25  \n",
       "4    2019-07-25 11:48:42  2019-07-25  \n",
       "...                  ...         ...  \n",
       "2823 2019-07-31 23:54:55  2019-07-31  \n",
       "2824 2019-07-31 23:57:30  2019-07-31  \n",
       "2825 2019-07-31 23:57:42  2019-07-31  \n",
       "2826 2019-07-31 23:57:52  2019-07-31  \n",
       "2827 2019-07-31 23:59:59  2019-07-31  \n",
       "\n",
       "[2826 rows x 6 columns]"
      ]
     },
     "execution_count": 16,
     "metadata": {},
     "output_type": "execute_result"
    }
   ],
   "source": [
    "logs[logs['datetime'] < '2019-08-01'] # Срез данных"
   ]
  },
  {
   "cell_type": "markdown",
   "id": "ede4617c",
   "metadata": {},
   "source": [
    "С учётом, что всего строк датасета 243713, получаем, что доля \"неполных\" данных составляет чуть более 1%. Перезапишем наш датасет с учётом выявленной зависимости."
   ]
  },
  {
   "cell_type": "code",
   "execution_count": 17,
   "id": "50788758",
   "metadata": {},
   "outputs": [],
   "source": [
    "logs = logs[logs['datetime'] >= '2019-08-01'] # Срез данных"
   ]
  },
  {
   "cell_type": "code",
   "execution_count": 18,
   "id": "fffac3c0",
   "metadata": {},
   "outputs": [
    {
     "data": {
      "text/plain": [
       "7534"
      ]
     },
     "execution_count": 18,
     "metadata": {},
     "output_type": "execute_result"
    }
   ],
   "source": [
    "logs['device_id_hash'].nunique()"
   ]
  },
  {
   "cell_type": "markdown",
   "id": "1b2fc340",
   "metadata": {},
   "source": [
    "Удостоверимся, что во всех экспериментальных группах есть пользователи."
   ]
  },
  {
   "cell_type": "code",
   "execution_count": 19,
   "id": "f78333d5",
   "metadata": {
    "scrolled": true
   },
   "outputs": [
    {
     "data": {
      "text/plain": [
       "248    84563\n",
       "246    79302\n",
       "247    77022\n",
       "Name: exp_id, dtype: int64"
      ]
     },
     "execution_count": 19,
     "metadata": {},
     "output_type": "execute_result"
    }
   ],
   "source": [
    "logs['exp_id'].value_counts() # Подсчёт количества пользователей в каждой группе"
   ]
  },
  {
   "cell_type": "markdown",
   "id": "28beb4dd",
   "metadata": {},
   "source": [
    "### Вывод"
   ]
  },
  {
   "cell_type": "markdown",
   "id": "15c0be6b",
   "metadata": {},
   "source": [
    "### В ходе исследователького анализа установили:\n",
    "\n",
    "- Количество событий в логах - 5\n",
    "- Количество уникальных пользователей - 7551 человек\n",
    "- В среднем на одного поситителя приходится 32.27 события\n",
    "- Данные представлены за период с 25 июля 2019 года по 7 августа 2019 года\n",
    "- Часть данных, а именно до 1 августа, являются неполными\n",
    "- Произвели срез данных по дате указанной выше. В дальнейшем для анализа будут использоваться только полные данные - начиная с 1 августа 2019 года\n",
    "- В каждую из экспериментальных групп попали пользователи."
   ]
  },
  {
   "cell_type": "markdown",
   "id": "8407afaf",
   "metadata": {},
   "source": [
    "## Исследование воронки событий"
   ]
  },
  {
   "cell_type": "markdown",
   "id": "89954a8a",
   "metadata": {},
   "source": [
    "Определим как часто встречается каждое событие в логах"
   ]
  },
  {
   "cell_type": "code",
   "execution_count": 20,
   "id": "837a6107",
   "metadata": {},
   "outputs": [
    {
     "data": {
      "text/plain": [
       "MainScreenAppear           117328\n",
       "OffersScreenAppear          46333\n",
       "CartScreenAppear            42303\n",
       "PaymentScreenSuccessful     33918\n",
       "Tutorial                     1005\n",
       "Name: event_name, dtype: int64"
      ]
     },
     "execution_count": 20,
     "metadata": {},
     "output_type": "execute_result"
    }
   ],
   "source": [
    "logs['event_name'].value_counts().sort_values(ascending=False) # Подсчёт количества значений для каждого события"
   ]
  },
  {
   "cell_type": "markdown",
   "id": "c6081101",
   "metadata": {},
   "source": [
    "Посчитаем количество уникальных пользователей по каждому событию. Добавим столбец `involved_users`, в котором будет отражена доля пользователей, которая совершала конкретное событие"
   ]
  },
  {
   "cell_type": "code",
   "execution_count": 21,
   "id": "60b19105",
   "metadata": {
    "scrolled": true
   },
   "outputs": [
    {
     "data": {
      "text/html": [
       "<div>\n",
       "<style scoped>\n",
       "    .dataframe tbody tr th:only-of-type {\n",
       "        vertical-align: middle;\n",
       "    }\n",
       "\n",
       "    .dataframe tbody tr th {\n",
       "        vertical-align: top;\n",
       "    }\n",
       "\n",
       "    .dataframe thead th {\n",
       "        text-align: right;\n",
       "    }\n",
       "</style>\n",
       "<table border=\"1\" class=\"dataframe\">\n",
       "  <thead>\n",
       "    <tr style=\"text-align: right;\">\n",
       "      <th></th>\n",
       "      <th>count_of_users</th>\n",
       "      <th>involved_users</th>\n",
       "    </tr>\n",
       "    <tr>\n",
       "      <th>event_name</th>\n",
       "      <th></th>\n",
       "      <th></th>\n",
       "    </tr>\n",
       "  </thead>\n",
       "  <tbody>\n",
       "    <tr>\n",
       "      <th>MainScreenAppear</th>\n",
       "      <td>7419</td>\n",
       "      <td>0.98</td>\n",
       "    </tr>\n",
       "    <tr>\n",
       "      <th>OffersScreenAppear</th>\n",
       "      <td>4593</td>\n",
       "      <td>0.61</td>\n",
       "    </tr>\n",
       "    <tr>\n",
       "      <th>CartScreenAppear</th>\n",
       "      <td>3734</td>\n",
       "      <td>0.50</td>\n",
       "    </tr>\n",
       "    <tr>\n",
       "      <th>PaymentScreenSuccessful</th>\n",
       "      <td>3539</td>\n",
       "      <td>0.47</td>\n",
       "    </tr>\n",
       "    <tr>\n",
       "      <th>Tutorial</th>\n",
       "      <td>840</td>\n",
       "      <td>0.11</td>\n",
       "    </tr>\n",
       "  </tbody>\n",
       "</table>\n",
       "</div>"
      ],
      "text/plain": [
       "                         count_of_users  involved_users\n",
       "event_name                                             \n",
       "MainScreenAppear                   7419            0.98\n",
       "OffersScreenAppear                 4593            0.61\n",
       "CartScreenAppear                   3734            0.50\n",
       "PaymentScreenSuccessful            3539            0.47\n",
       "Tutorial                            840            0.11"
      ]
     },
     "execution_count": 21,
     "metadata": {},
     "output_type": "execute_result"
    }
   ],
   "source": [
    "count_of_users = logs.groupby('event_name').agg({'device_id_hash' : 'nunique'}) \\\n",
    ".rename(columns = ({'device_id_hash' : 'count_of_users'})) \\\n",
    ".sort_values('count_of_users', ascending=False)\n",
    "\n",
    "count_of_users['involved_users'] = round(count_of_users['count_of_users']/logs['device_id_hash'].nunique(),2)\n",
    "\n",
    "count_of_users\n",
    "\n",
    "# Подсчёт количества уникальных пользователей по каждому событию"
   ]
  },
  {
   "cell_type": "markdown",
   "id": "0aaa0fef",
   "metadata": {},
   "source": [
    "Событие `Tutorial`, в котором заложено взаимодействие пользователя с руководством использования приложения, имеет самую низкую конверсию.\n",
    "Можем предпололжить, что этот этап можно не рассматривать при расчёте общей продуктовой воронки. Таким образом, таблица продуктовой воронки будет выглядить следующим образом"
   ]
  },
  {
   "cell_type": "code",
   "execution_count": 22,
   "id": "ea13e9d4",
   "metadata": {
    "scrolled": true
   },
   "outputs": [
    {
     "data": {
      "text/html": [
       "<div>\n",
       "<style scoped>\n",
       "    .dataframe tbody tr th:only-of-type {\n",
       "        vertical-align: middle;\n",
       "    }\n",
       "\n",
       "    .dataframe tbody tr th {\n",
       "        vertical-align: top;\n",
       "    }\n",
       "\n",
       "    .dataframe thead th {\n",
       "        text-align: right;\n",
       "    }\n",
       "</style>\n",
       "<table border=\"1\" class=\"dataframe\">\n",
       "  <thead>\n",
       "    <tr style=\"text-align: right;\">\n",
       "      <th></th>\n",
       "      <th>event_name</th>\n",
       "      <th>count_of_users</th>\n",
       "      <th>involved_users</th>\n",
       "    </tr>\n",
       "  </thead>\n",
       "  <tbody>\n",
       "    <tr>\n",
       "      <th>0</th>\n",
       "      <td>MainScreenAppear</td>\n",
       "      <td>7419</td>\n",
       "      <td>0.98</td>\n",
       "    </tr>\n",
       "    <tr>\n",
       "      <th>1</th>\n",
       "      <td>OffersScreenAppear</td>\n",
       "      <td>4593</td>\n",
       "      <td>0.61</td>\n",
       "    </tr>\n",
       "    <tr>\n",
       "      <th>2</th>\n",
       "      <td>CartScreenAppear</td>\n",
       "      <td>3734</td>\n",
       "      <td>0.50</td>\n",
       "    </tr>\n",
       "    <tr>\n",
       "      <th>3</th>\n",
       "      <td>PaymentScreenSuccessful</td>\n",
       "      <td>3539</td>\n",
       "      <td>0.47</td>\n",
       "    </tr>\n",
       "  </tbody>\n",
       "</table>\n",
       "</div>"
      ],
      "text/plain": [
       "                event_name  count_of_users  involved_users\n",
       "0         MainScreenAppear            7419            0.98\n",
       "1       OffersScreenAppear            4593            0.61\n",
       "2         CartScreenAppear            3734            0.50\n",
       "3  PaymentScreenSuccessful            3539            0.47"
      ]
     },
     "execution_count": 22,
     "metadata": {},
     "output_type": "execute_result"
    }
   ],
   "source": [
    "count_of_users = count_of_users.head(4).reset_index() # Датасет для расчёта продуктовой воронки\n",
    "count_of_users"
   ]
  },
  {
   "cell_type": "markdown",
   "id": "3b0cff00",
   "metadata": {},
   "source": [
    "Построим продуктовую воронку продаж"
   ]
  },
  {
   "cell_type": "code",
   "execution_count": 23,
   "id": "1e7bd8c5",
   "metadata": {},
   "outputs": [
    {
     "data": {
      "image/png": "[encoded data removed]"
     },
     "metadata": {},
     "output_type": "display_data"
    }
   ],
   "source": [
    "fig = go.Figure(go.Funnel(y = count_of_users['event_name'], x = count_of_users['count_of_users'], \\\n",
    "                          textinfo = \"value+percent initial\", \n",
    "                         marker = {\"color\": [\"deepskyblue\", \"lightsalmon\", \"tan\", \"teal\"],\n",
    "                        \"line\": {\"width\": [4, 2, 2, 3, 1, 1], \"color\": [\"wheat\", \"wheat\", \"blue\", \"wheat\"]}})) \n",
    "fig.show(\"png\") \n",
    "\n",
    "# Построение продуктовой воронки"
   ]
  },
  {
   "cell_type": "markdown",
   "id": "55fa1597",
   "metadata": {},
   "source": [
    "### Вывод"
   ]
  },
  {
   "cell_type": "markdown",
   "id": "d3122663",
   "metadata": {},
   "source": [
    "При изучении воронки продаж выявили:\n",
    "\n",
    "- Событие `Tutorial` можно не рассматривать при подсчёте воронки\n",
    "- На шаге `OffersScreenAppear` теряется больше всего пользователей - 38.1% от предыдщуего шага\n",
    "- 47.7% пользователей доходит от события `MainScreenAppear` до оплаты продукта"
   ]
  },
  {
   "cell_type": "markdown",
   "id": "586e70a7",
   "metadata": {},
   "source": [
    "## Анализ результатов эксперимента"
   ]
  },
  {
   "cell_type": "markdown",
   "id": "69541d8c",
   "metadata": {},
   "source": [
    "Проверим количество уникальных пользователей в каждой экспериментальной группе."
   ]
  },
  {
   "cell_type": "code",
   "execution_count": 24,
   "id": "45a4e001",
   "metadata": {
    "scrolled": false
   },
   "outputs": [
    {
     "data": {
      "text/html": [
       "<div>\n",
       "<style scoped>\n",
       "    .dataframe tbody tr th:only-of-type {\n",
       "        vertical-align: middle;\n",
       "    }\n",
       "\n",
       "    .dataframe tbody tr th {\n",
       "        vertical-align: top;\n",
       "    }\n",
       "\n",
       "    .dataframe thead th {\n",
       "        text-align: right;\n",
       "    }\n",
       "</style>\n",
       "<table border=\"1\" class=\"dataframe\">\n",
       "  <thead>\n",
       "    <tr style=\"text-align: right;\">\n",
       "      <th></th>\n",
       "      <th>exp_id</th>\n",
       "      <th>count_of_users</th>\n",
       "    </tr>\n",
       "  </thead>\n",
       "  <tbody>\n",
       "    <tr>\n",
       "      <th>2</th>\n",
       "      <td>248</td>\n",
       "      <td>2537</td>\n",
       "    </tr>\n",
       "    <tr>\n",
       "      <th>1</th>\n",
       "      <td>247</td>\n",
       "      <td>2513</td>\n",
       "    </tr>\n",
       "    <tr>\n",
       "      <th>0</th>\n",
       "      <td>246</td>\n",
       "      <td>2484</td>\n",
       "    </tr>\n",
       "  </tbody>\n",
       "</table>\n",
       "</div>"
      ],
      "text/plain": [
       "   exp_id  count_of_users\n",
       "2     248            2537\n",
       "1     247            2513\n",
       "0     246            2484"
      ]
     },
     "execution_count": 24,
     "metadata": {},
     "output_type": "execute_result"
    }
   ],
   "source": [
    "total_users_in_exp = logs.groupby('exp_id', as_index=False) \\\n",
    ".agg({'device_id_hash' : 'nunique'}).rename(columns = ({'device_id_hash' : 'count_of_users'})) \\\n",
    ".sort_values('count_of_users', ascending=False)\n",
    "\n",
    "total_users_in_exp\n",
    "# Количество уникальных пользователей в каждой группе"
   ]
  },
  {
   "cell_type": "markdown",
   "id": "459075b7",
   "metadata": {},
   "source": [
    "Можно сказать, что пользователи распределены по группам равномерно"
   ]
  },
  {
   "cell_type": "markdown",
   "id": "cd4b5f1d",
   "metadata": {},
   "source": [
    "Чтобы проверить корректность всех механизмов и расчётов, сравним две контрольные группы - проведём А/А тест. Контрольные группы - 246 и 247. Для этого для каждой из группы было посчитано число уникальных пользователей, так же посчитаем число пользователей совершивших каждое из действий продуктовой воронки.\n",
    "\n",
    "В итоговый датасет `exp_groups` так же добавим объединененую контрольную группу с *exp_id* равным 493"
   ]
  },
  {
   "cell_type": "code",
   "execution_count": 25,
   "id": "58a5edf1",
   "metadata": {
    "scrolled": false
   },
   "outputs": [
    {
     "data": {
      "text/html": [
       "<div>\n",
       "<style scoped>\n",
       "    .dataframe tbody tr th:only-of-type {\n",
       "        vertical-align: middle;\n",
       "    }\n",
       "\n",
       "    .dataframe tbody tr th {\n",
       "        vertical-align: top;\n",
       "    }\n",
       "\n",
       "    .dataframe thead th {\n",
       "        text-align: right;\n",
       "    }\n",
       "</style>\n",
       "<table border=\"1\" class=\"dataframe\">\n",
       "  <thead>\n",
       "    <tr style=\"text-align: right;\">\n",
       "      <th></th>\n",
       "      <th>exp_id</th>\n",
       "      <th>event_name</th>\n",
       "      <th>count_of_users</th>\n",
       "    </tr>\n",
       "  </thead>\n",
       "  <tbody>\n",
       "    <tr>\n",
       "      <th>11</th>\n",
       "      <td>248</td>\n",
       "      <td>MainScreenAppear</td>\n",
       "      <td>2493</td>\n",
       "    </tr>\n",
       "    <tr>\n",
       "      <th>12</th>\n",
       "      <td>248</td>\n",
       "      <td>OffersScreenAppear</td>\n",
       "      <td>1531</td>\n",
       "    </tr>\n",
       "    <tr>\n",
       "      <th>10</th>\n",
       "      <td>248</td>\n",
       "      <td>CartScreenAppear</td>\n",
       "      <td>1230</td>\n",
       "    </tr>\n",
       "    <tr>\n",
       "      <th>13</th>\n",
       "      <td>248</td>\n",
       "      <td>PaymentScreenSuccessful</td>\n",
       "      <td>1181</td>\n",
       "    </tr>\n",
       "    <tr>\n",
       "      <th>14</th>\n",
       "      <td>248</td>\n",
       "      <td>Tutorial</td>\n",
       "      <td>279</td>\n",
       "    </tr>\n",
       "    <tr>\n",
       "      <th>6</th>\n",
       "      <td>247</td>\n",
       "      <td>MainScreenAppear</td>\n",
       "      <td>2476</td>\n",
       "    </tr>\n",
       "    <tr>\n",
       "      <th>7</th>\n",
       "      <td>247</td>\n",
       "      <td>OffersScreenAppear</td>\n",
       "      <td>1520</td>\n",
       "    </tr>\n",
       "    <tr>\n",
       "      <th>5</th>\n",
       "      <td>247</td>\n",
       "      <td>CartScreenAppear</td>\n",
       "      <td>1238</td>\n",
       "    </tr>\n",
       "    <tr>\n",
       "      <th>8</th>\n",
       "      <td>247</td>\n",
       "      <td>PaymentScreenSuccessful</td>\n",
       "      <td>1158</td>\n",
       "    </tr>\n",
       "    <tr>\n",
       "      <th>9</th>\n",
       "      <td>247</td>\n",
       "      <td>Tutorial</td>\n",
       "      <td>283</td>\n",
       "    </tr>\n",
       "    <tr>\n",
       "      <th>1</th>\n",
       "      <td>246</td>\n",
       "      <td>MainScreenAppear</td>\n",
       "      <td>2450</td>\n",
       "    </tr>\n",
       "    <tr>\n",
       "      <th>2</th>\n",
       "      <td>246</td>\n",
       "      <td>OffersScreenAppear</td>\n",
       "      <td>1542</td>\n",
       "    </tr>\n",
       "    <tr>\n",
       "      <th>0</th>\n",
       "      <td>246</td>\n",
       "      <td>CartScreenAppear</td>\n",
       "      <td>1266</td>\n",
       "    </tr>\n",
       "    <tr>\n",
       "      <th>3</th>\n",
       "      <td>246</td>\n",
       "      <td>PaymentScreenSuccessful</td>\n",
       "      <td>1200</td>\n",
       "    </tr>\n",
       "    <tr>\n",
       "      <th>4</th>\n",
       "      <td>246</td>\n",
       "      <td>Tutorial</td>\n",
       "      <td>278</td>\n",
       "    </tr>\n",
       "  </tbody>\n",
       "</table>\n",
       "</div>"
      ],
      "text/plain": [
       "    exp_id               event_name  count_of_users\n",
       "11     248         MainScreenAppear            2493\n",
       "12     248       OffersScreenAppear            1531\n",
       "10     248         CartScreenAppear            1230\n",
       "13     248  PaymentScreenSuccessful            1181\n",
       "14     248                 Tutorial             279\n",
       "6      247         MainScreenAppear            2476\n",
       "7      247       OffersScreenAppear            1520\n",
       "5      247         CartScreenAppear            1238\n",
       "8      247  PaymentScreenSuccessful            1158\n",
       "9      247                 Tutorial             283\n",
       "1      246         MainScreenAppear            2450\n",
       "2      246       OffersScreenAppear            1542\n",
       "0      246         CartScreenAppear            1266\n",
       "3      246  PaymentScreenSuccessful            1200\n",
       "4      246                 Tutorial             278"
      ]
     },
     "execution_count": 25,
     "metadata": {},
     "output_type": "execute_result"
    }
   ],
   "source": [
    "exp_groups = logs.groupby(['exp_id', 'event_name'], as_index=False) \\\n",
    ".agg({'device_id_hash' : 'nunique'}).rename(columns = ({'device_id_hash' : 'count_of_users'})) \\\n",
    ".sort_values(['exp_id', 'count_of_users'], ascending=False)\n",
    "\n",
    "exp_groups\n",
    "\n",
    "# Продуктовая воронка для каждой группы"
   ]
  },
  {
   "cell_type": "markdown",
   "id": "0be105ba",
   "metadata": {},
   "source": [
    "Создадим функцию с помощью которой будем проверять статистическую значимость различий между нашими выборками. Так как при анализе результатов эксперимента будет иметь место множественное сравнение необходимо скорректировать *aLpha* уровень значимости согласно поправке Бонферрони.\n",
    "\n",
    "Если принять уровень значимости в 0.05, то скорректированная групповая вероятность ошибки первого рода будет равна 0.05/m, где m - число сравнений\n",
    "\n",
    "Озвучим гипотезы для проверки статистической значимости между контрольными и тестовой группами:\n",
    "- H0: Доля пользователей на каждом шаге воронке у двух групп одинакова\n",
    "- H1: Доля пользователей на каждом шаге воронке у двух групп различается"
   ]
  },
  {
   "cell_type": "markdown",
   "id": "f994cd60",
   "metadata": {},
   "source": [
    "Так же перед проведением АА-теста проверим отношение у групп по количеству друг к другу:"
   ]
  },
  {
   "cell_type": "code",
   "execution_count": 26,
   "id": "aae77cc4",
   "metadata": {},
   "outputs": [
    {
     "data": {
      "text/plain": [
       "0.9884600079586152"
      ]
     },
     "execution_count": 26,
     "metadata": {},
     "output_type": "execute_result"
    }
   ],
   "source": [
    "logs[logs['exp_id'] == 246].groupby('exp_id').agg({'device_id_hash' : 'nunique'}).squeeze()/ \\\n",
    "logs[logs['exp_id'] == 247].groupby('exp_id').agg({'device_id_hash' : 'nunique'}).squeeze()"
   ]
  },
  {
   "cell_type": "markdown",
   "id": "d23bb53b",
   "metadata": {},
   "source": [
    "Разница между группами составляет чуть более 1%."
   ]
  },
  {
   "cell_type": "code",
   "execution_count": 27,
   "id": "1195b857",
   "metadata": {},
   "outputs": [],
   "source": [
    "def stat_test(name_of_event, exp_number_1, exp_number_2):\n",
    "    \n",
    "    m = 12 # Число сравнений\n",
    "    alpha = 0.05/m # Критический уровень значимости\n",
    "\n",
    "    successes = np.array([exp_groups.loc[(exp_groups['event_name'] == name_of_event) &\n",
    "                                     (exp_groups['exp_id'] ==  exp_number_1)]['count_of_users'],\n",
    "                      exp_groups.loc[(exp_groups['event_name'] == name_of_event) &\n",
    "                                     (exp_groups['exp_id'] ==  exp_number_2)]['count_of_users']])\n",
    "    trials = np.array([total_users_in_exp[total_users_in_exp['exp_id'] == exp_number_1]['count_of_users'],\n",
    "                   total_users_in_exp[total_users_in_exp['exp_id'] == exp_number_2]['count_of_users']])\n",
    "\n",
    "# пропорция успехов в первой группе:\n",
    "    p1 = successes[0]/trials[0]\n",
    "\n",
    "# пропорция успехов во второй группе:\n",
    "    p2 = successes[1]/trials[1]\n",
    "\n",
    "# пропорция успехов в комбинированном датасете:\n",
    "    p_combined = (successes[0] + successes[1]) / (trials[0] + trials[1])\n",
    "\n",
    "# разница пропорций в датасетах\n",
    "    difference = p1 - p2 \n",
    "\n",
    "# считаем статистику в ст.отклонениях стандартного нормального распределения\n",
    "    z_value = difference / mth.sqrt(p_combined * (1 - p_combined) * (1/trials[0] + 1/trials[1]))\n",
    "\n",
    "# задаем стандартное нормальное распределение (среднее 0, ст.отклонение 1)\n",
    "    distr = st.norm(0, 1) \n",
    "\n",
    "    p_value = (1 - distr.cdf(abs(z_value))) * 2\n",
    "\n",
    "    print('p-значение: ', p_value)\n",
    "\n",
    "    if p_value < alpha:\n",
    "        print('Отвергаем нулевую гипотезу: между долями есть значимая разница')\n",
    "    else:\n",
    "        print(\n",
    "            'Не получилось отвергнуть нулевую гипотезу, нет оснований считать доли разными') "
   ]
  },
  {
   "cell_type": "markdown",
   "id": "8e27b36a",
   "metadata": {},
   "source": [
    "Вызовим функцию `stat_test` и параметру `name_of_event` будем последовательно присваивать разные варианты событий"
   ]
  },
  {
   "cell_type": "code",
   "execution_count": 28,
   "id": "1dd23391",
   "metadata": {},
   "outputs": [
    {
     "name": "stdout",
     "output_type": "stream",
     "text": [
      "p-значение:  [0.75705972]\n",
      "Не получилось отвергнуть нулевую гипотезу, нет оснований считать доли разными\n"
     ]
    }
   ],
   "source": [
    "stat_test('MainScreenAppear', 247, 246) # Вызов функции"
   ]
  },
  {
   "cell_type": "code",
   "execution_count": 29,
   "id": "277d6c91",
   "metadata": {},
   "outputs": [
    {
     "name": "stdout",
     "output_type": "stream",
     "text": [
      "p-значение:  [0.24809546]\n",
      "Не получилось отвергнуть нулевую гипотезу, нет оснований считать доли разными\n"
     ]
    }
   ],
   "source": [
    "stat_test('OffersScreenAppear', 247, 246) # Вызов функции"
   ]
  },
  {
   "cell_type": "code",
   "execution_count": 30,
   "id": "a372de5e",
   "metadata": {},
   "outputs": [
    {
     "name": "stdout",
     "output_type": "stream",
     "text": [
      "p-значение:  [0.11456679]\n",
      "Не получилось отвергнуть нулевую гипотезу, нет оснований считать доли разными\n"
     ]
    }
   ],
   "source": [
    "stat_test('PaymentScreenSuccessful', 247, 246) # Вызов функции"
   ]
  },
  {
   "cell_type": "markdown",
   "id": "d2b559c4",
   "metadata": {},
   "source": [
    "Ни в одном из событий статистически значимой разницы между **контрольными группами** не достигнуто. Можно предположить, что дизайн эксперимента проходил правильно и разбиение на группы работает корректно."
   ]
  },
  {
   "cell_type": "markdown",
   "id": "977511e3",
   "metadata": {},
   "source": [
    "Объединим две контрольные группы в одну - 493."
   ]
  },
  {
   "cell_type": "code",
   "execution_count": 31,
   "id": "444f882c",
   "metadata": {
    "scrolled": true
   },
   "outputs": [
    {
     "data": {
      "text/html": [
       "<div>\n",
       "<style scoped>\n",
       "    .dataframe tbody tr th:only-of-type {\n",
       "        vertical-align: middle;\n",
       "    }\n",
       "\n",
       "    .dataframe tbody tr th {\n",
       "        vertical-align: top;\n",
       "    }\n",
       "\n",
       "    .dataframe thead th {\n",
       "        text-align: right;\n",
       "    }\n",
       "</style>\n",
       "<table border=\"1\" class=\"dataframe\">\n",
       "  <thead>\n",
       "    <tr style=\"text-align: right;\">\n",
       "      <th></th>\n",
       "      <th>exp_id</th>\n",
       "      <th>count_of_users</th>\n",
       "    </tr>\n",
       "  </thead>\n",
       "  <tbody>\n",
       "    <tr>\n",
       "      <th>0</th>\n",
       "      <td>248</td>\n",
       "      <td>2537</td>\n",
       "    </tr>\n",
       "    <tr>\n",
       "      <th>1</th>\n",
       "      <td>247</td>\n",
       "      <td>2513</td>\n",
       "    </tr>\n",
       "    <tr>\n",
       "      <th>2</th>\n",
       "      <td>246</td>\n",
       "      <td>2484</td>\n",
       "    </tr>\n",
       "    <tr>\n",
       "      <th>3</th>\n",
       "      <td>493</td>\n",
       "      <td>4997</td>\n",
       "    </tr>\n",
       "  </tbody>\n",
       "</table>\n",
       "</div>"
      ],
      "text/plain": [
       "   exp_id  count_of_users\n",
       "0     248            2537\n",
       "1     247            2513\n",
       "2     246            2484\n",
       "3     493            4997"
      ]
     },
     "execution_count": 31,
     "metadata": {},
     "output_type": "execute_result"
    }
   ],
   "source": [
    "new_row = {'exp_id' : 493, \\\n",
    "           'count_of_users' : total_users_in_exp.loc[(total_users_in_exp['exp_id'] == 246)\n",
    "                                                     | (total_users_in_exp['exp_id'] == 247)]['count_of_users'].sum()}\n",
    "                                               \n",
    "total_users_in_exp = total_users_in_exp.append(new_row, ignore_index=True)\n",
    "total_users_in_exp"
   ]
  },
  {
   "cell_type": "markdown",
   "id": "1f4de478",
   "metadata": {},
   "source": [
    "В итоговый датасет `exp_groups` так же добавим объединененую контрольную группу с *exp_id* равным 493"
   ]
  },
  {
   "cell_type": "code",
   "execution_count": 32,
   "id": "cd32aa7e",
   "metadata": {},
   "outputs": [
    {
     "data": {
      "text/html": [
       "<div>\n",
       "<style scoped>\n",
       "    .dataframe tbody tr th:only-of-type {\n",
       "        vertical-align: middle;\n",
       "    }\n",
       "\n",
       "    .dataframe tbody tr th {\n",
       "        vertical-align: top;\n",
       "    }\n",
       "\n",
       "    .dataframe thead th {\n",
       "        text-align: right;\n",
       "    }\n",
       "</style>\n",
       "<table border=\"1\" class=\"dataframe\">\n",
       "  <thead>\n",
       "    <tr style=\"text-align: right;\">\n",
       "      <th></th>\n",
       "      <th>exp_id</th>\n",
       "      <th>event_name</th>\n",
       "      <th>count_of_users</th>\n",
       "    </tr>\n",
       "  </thead>\n",
       "  <tbody>\n",
       "    <tr>\n",
       "      <th>0</th>\n",
       "      <td>248</td>\n",
       "      <td>MainScreenAppear</td>\n",
       "      <td>2493</td>\n",
       "    </tr>\n",
       "    <tr>\n",
       "      <th>1</th>\n",
       "      <td>248</td>\n",
       "      <td>OffersScreenAppear</td>\n",
       "      <td>1531</td>\n",
       "    </tr>\n",
       "    <tr>\n",
       "      <th>2</th>\n",
       "      <td>248</td>\n",
       "      <td>CartScreenAppear</td>\n",
       "      <td>1230</td>\n",
       "    </tr>\n",
       "    <tr>\n",
       "      <th>3</th>\n",
       "      <td>248</td>\n",
       "      <td>PaymentScreenSuccessful</td>\n",
       "      <td>1181</td>\n",
       "    </tr>\n",
       "    <tr>\n",
       "      <th>4</th>\n",
       "      <td>248</td>\n",
       "      <td>Tutorial</td>\n",
       "      <td>279</td>\n",
       "    </tr>\n",
       "    <tr>\n",
       "      <th>5</th>\n",
       "      <td>247</td>\n",
       "      <td>MainScreenAppear</td>\n",
       "      <td>2476</td>\n",
       "    </tr>\n",
       "    <tr>\n",
       "      <th>6</th>\n",
       "      <td>247</td>\n",
       "      <td>OffersScreenAppear</td>\n",
       "      <td>1520</td>\n",
       "    </tr>\n",
       "    <tr>\n",
       "      <th>7</th>\n",
       "      <td>247</td>\n",
       "      <td>CartScreenAppear</td>\n",
       "      <td>1238</td>\n",
       "    </tr>\n",
       "    <tr>\n",
       "      <th>8</th>\n",
       "      <td>247</td>\n",
       "      <td>PaymentScreenSuccessful</td>\n",
       "      <td>1158</td>\n",
       "    </tr>\n",
       "    <tr>\n",
       "      <th>9</th>\n",
       "      <td>247</td>\n",
       "      <td>Tutorial</td>\n",
       "      <td>283</td>\n",
       "    </tr>\n",
       "    <tr>\n",
       "      <th>10</th>\n",
       "      <td>246</td>\n",
       "      <td>MainScreenAppear</td>\n",
       "      <td>2450</td>\n",
       "    </tr>\n",
       "    <tr>\n",
       "      <th>11</th>\n",
       "      <td>246</td>\n",
       "      <td>OffersScreenAppear</td>\n",
       "      <td>1542</td>\n",
       "    </tr>\n",
       "    <tr>\n",
       "      <th>12</th>\n",
       "      <td>246</td>\n",
       "      <td>CartScreenAppear</td>\n",
       "      <td>1266</td>\n",
       "    </tr>\n",
       "    <tr>\n",
       "      <th>13</th>\n",
       "      <td>246</td>\n",
       "      <td>PaymentScreenSuccessful</td>\n",
       "      <td>1200</td>\n",
       "    </tr>\n",
       "    <tr>\n",
       "      <th>14</th>\n",
       "      <td>246</td>\n",
       "      <td>Tutorial</td>\n",
       "      <td>278</td>\n",
       "    </tr>\n",
       "    <tr>\n",
       "      <th>15</th>\n",
       "      <td>493</td>\n",
       "      <td>MainScreenAppear</td>\n",
       "      <td>4926</td>\n",
       "    </tr>\n",
       "    <tr>\n",
       "      <th>16</th>\n",
       "      <td>493</td>\n",
       "      <td>OffersScreenAppear</td>\n",
       "      <td>3062</td>\n",
       "    </tr>\n",
       "    <tr>\n",
       "      <th>17</th>\n",
       "      <td>493</td>\n",
       "      <td>CartScreenAppear</td>\n",
       "      <td>2504</td>\n",
       "    </tr>\n",
       "    <tr>\n",
       "      <th>18</th>\n",
       "      <td>493</td>\n",
       "      <td>PaymentScreenSuccessful</td>\n",
       "      <td>2358</td>\n",
       "    </tr>\n",
       "    <tr>\n",
       "      <th>19</th>\n",
       "      <td>493</td>\n",
       "      <td>Tutorial</td>\n",
       "      <td>561</td>\n",
       "    </tr>\n",
       "  </tbody>\n",
       "</table>\n",
       "</div>"
      ],
      "text/plain": [
       "    exp_id               event_name  count_of_users\n",
       "0      248         MainScreenAppear            2493\n",
       "1      248       OffersScreenAppear            1531\n",
       "2      248         CartScreenAppear            1230\n",
       "3      248  PaymentScreenSuccessful            1181\n",
       "4      248                 Tutorial             279\n",
       "5      247         MainScreenAppear            2476\n",
       "6      247       OffersScreenAppear            1520\n",
       "7      247         CartScreenAppear            1238\n",
       "8      247  PaymentScreenSuccessful            1158\n",
       "9      247                 Tutorial             283\n",
       "10     246         MainScreenAppear            2450\n",
       "11     246       OffersScreenAppear            1542\n",
       "12     246         CartScreenAppear            1266\n",
       "13     246  PaymentScreenSuccessful            1200\n",
       "14     246                 Tutorial             278\n",
       "15     493         MainScreenAppear            4926\n",
       "16     493       OffersScreenAppear            3062\n",
       "17     493         CartScreenAppear            2504\n",
       "18     493  PaymentScreenSuccessful            2358\n",
       "19     493                 Tutorial             561"
      ]
     },
     "execution_count": 32,
     "metadata": {},
     "output_type": "execute_result"
    }
   ],
   "source": [
    "table_for_merge = exp_groups[exp_groups['exp_id'] != 248].groupby('event_name', as_index=False) \\\n",
    ".agg({'exp_id' : 'first', 'count_of_users' : 'sum'}).sort_values('count_of_users', ascending=False)\n",
    "\n",
    "table_for_merge['exp_id'] = 493\n",
    "table_for_merge = table_for_merge[['exp_id', 'event_name', 'count_of_users']]\n",
    "\n",
    "exp_groups = exp_groups.merge(table_for_merge, how = 'outer')\n",
    "exp_groups"
   ]
  },
  {
   "cell_type": "markdown",
   "id": "b2bb3140",
   "metadata": {},
   "source": [
    "Аналогочино поступим с группой с измененным шрифтом. Сравним результаты с каждой из контрольных групп в отдельности по каждому событию. Сравним группы - 248 и 247."
   ]
  },
  {
   "cell_type": "code",
   "execution_count": 33,
   "id": "b499c462",
   "metadata": {},
   "outputs": [
    {
     "name": "stdout",
     "output_type": "stream",
     "text": [
      "p-значение:  [0.45870536]\n",
      "Не получилось отвергнуть нулевую гипотезу, нет оснований считать доли разными\n"
     ]
    }
   ],
   "source": [
    "stat_test('MainScreenAppear', 248, 247) # Вызов функции"
   ]
  },
  {
   "cell_type": "code",
   "execution_count": 34,
   "id": "f80d8392",
   "metadata": {},
   "outputs": [
    {
     "name": "stdout",
     "output_type": "stream",
     "text": [
      "p-значение:  [0.91978178]\n",
      "Не получилось отвергнуть нулевую гипотезу, нет оснований считать доли разными\n"
     ]
    }
   ],
   "source": [
    "stat_test('OffersScreenAppear', 248, 247) # Вызов функции"
   ]
  },
  {
   "cell_type": "code",
   "execution_count": 35,
   "id": "90a52475",
   "metadata": {},
   "outputs": [
    {
     "name": "stdout",
     "output_type": "stream",
     "text": [
      "p-значение:  [0.73734151]\n",
      "Не получилось отвергнуть нулевую гипотезу, нет оснований считать доли разными\n"
     ]
    }
   ],
   "source": [
    "stat_test('PaymentScreenSuccessful', 248, 247) # Вызов функции"
   ]
  },
  {
   "cell_type": "markdown",
   "id": "c9669e30",
   "metadata": {},
   "source": [
    "Ни в одном из событий статистически значимой разницы между контрольной (247) и тестовой (248) группами не достигнуто."
   ]
  },
  {
   "cell_type": "markdown",
   "id": "6fe245f2",
   "metadata": {},
   "source": [
    "Сравним группы 248 и 246"
   ]
  },
  {
   "cell_type": "code",
   "execution_count": 36,
   "id": "2a066c78",
   "metadata": {},
   "outputs": [
    {
     "name": "stdout",
     "output_type": "stream",
     "text": [
      "p-значение:  [0.29497219]\n",
      "Не получилось отвергнуть нулевую гипотезу, нет оснований считать доли разными\n"
     ]
    }
   ],
   "source": [
    "stat_test('MainScreenAppear', 248, 246) # Вызов функции"
   ]
  },
  {
   "cell_type": "code",
   "execution_count": 37,
   "id": "3355a6b3",
   "metadata": {},
   "outputs": [
    {
     "name": "stdout",
     "output_type": "stream",
     "text": [
      "p-значение:  [0.20836205]\n",
      "Не получилось отвергнуть нулевую гипотезу, нет оснований считать доли разными\n"
     ]
    }
   ],
   "source": [
    "stat_test('OffersScreenAppear', 248, 246) # Вызов функции"
   ]
  },
  {
   "cell_type": "code",
   "execution_count": 38,
   "id": "d620c6ba",
   "metadata": {},
   "outputs": [
    {
     "name": "stdout",
     "output_type": "stream",
     "text": [
      "p-значение:  [0.21225533]\n",
      "Не получилось отвергнуть нулевую гипотезу, нет оснований считать доли разными\n"
     ]
    }
   ],
   "source": [
    "stat_test('PaymentScreenSuccessful', 248, 246) # Вызов функции"
   ]
  },
  {
   "cell_type": "markdown",
   "id": "ce5cf28c",
   "metadata": {},
   "source": [
    "Ни в одном из событий статистически значимой разницы между контрольной (246) и тестовой (248) группами не достигнуто."
   ]
  },
  {
   "cell_type": "markdown",
   "id": "ba2876c2",
   "metadata": {},
   "source": [
    "Сравним группы 493 и 248"
   ]
  },
  {
   "cell_type": "code",
   "execution_count": 39,
   "id": "3f478347",
   "metadata": {},
   "outputs": [
    {
     "name": "stdout",
     "output_type": "stream",
     "text": [
      "p-значение:  [0.29424527]\n",
      "Не получилось отвергнуть нулевую гипотезу, нет оснований считать доли разными\n"
     ]
    }
   ],
   "source": [
    "stat_test('MainScreenAppear', 248, 493) # Вызов функции"
   ]
  },
  {
   "cell_type": "code",
   "execution_count": 40,
   "id": "cf67ee7b",
   "metadata": {},
   "outputs": [
    {
     "name": "stdout",
     "output_type": "stream",
     "text": [
      "p-значение:  [0.4342555]\n",
      "Не получилось отвергнуть нулевую гипотезу, нет оснований считать доли разными\n"
     ]
    }
   ],
   "source": [
    "stat_test('OffersScreenAppear', 248, 493) # Вызов функции"
   ]
  },
  {
   "cell_type": "code",
   "execution_count": 41,
   "id": "aab95480",
   "metadata": {},
   "outputs": [
    {
     "name": "stdout",
     "output_type": "stream",
     "text": [
      "p-значение:  [0.60042943]\n",
      "Не получилось отвергнуть нулевую гипотезу, нет оснований считать доли разными\n"
     ]
    }
   ],
   "source": [
    "stat_test('PaymentScreenSuccessful', 248, 493) # Вызов функции"
   ]
  },
  {
   "cell_type": "markdown",
   "id": "70cf04dc",
   "metadata": {},
   "source": [
    "Статистически значимых различий между объединенной контрольной группой и тестовой не наблюдается ни в одном из событий."
   ]
  },
  {
   "cell_type": "markdown",
   "id": "283a76bd",
   "metadata": {},
   "source": [
    "Так как количество уникальных пользователей в каждой группе достаточно велико, ЦПТ о распределении выборочных средних даёт возможность провести дополнительно t-тест и сравнить средние, к примеру, групп 247 и 248.\n",
    "Гипотезы для проведения t-теста:\n",
    "\n",
    "- H0: Среднее значение количества событий в тестовой и контрольной группе одинаковое\n",
    "- H1: Среднее значение количества событий в тестовой и контрольной группе отличается\n",
    "\n",
    "Для этого посчитаем сколько в среднем событий приходится на пользователя в контрольной группе 247 и тестовой 248."
   ]
  },
  {
   "cell_type": "code",
   "execution_count": 42,
   "id": "86c3c160",
   "metadata": {},
   "outputs": [],
   "source": [
    "sample_247 = logs[logs['exp_id'] == 247].groupby('device_id_hash').agg({'event_name' : 'count'}) \\\n",
    ".sort_values('event_name', ascending=False) \\\n",
    ".rename(columns ={'event_name' : 'count_of_events'}) # Создание выборки\n",
    "\n",
    "sample_248 = logs[logs['exp_id'] == 248].groupby('device_id_hash').agg({'event_name' : 'count'}) \\\n",
    ".sort_values('event_name', ascending=False) \\\n",
    ".rename(columns ={'event_name' : 'count_of_events'})"
   ]
  },
  {
   "cell_type": "code",
   "execution_count": 43,
   "id": "d96b1f43",
   "metadata": {
    "scrolled": true
   },
   "outputs": [
    {
     "name": "stdout",
     "output_type": "stream",
     "text": [
      "count_of_events    30.649423\n",
      "dtype: float64\n",
      "count_of_events    33.331888\n",
      "dtype: float64\n"
     ]
    }
   ],
   "source": [
    "print(sample_247.mean())\n",
    "print(sample_248.mean())"
   ]
  },
  {
   "cell_type": "markdown",
   "id": "ddac354c",
   "metadata": {},
   "source": [
    "Таким образом, среднее количество событий на пользователя в контрольной группе - 30.64942, в тестовой - 33.331888. Проверим, является ли эта разница статистически значимой"
   ]
  },
  {
   "cell_type": "code",
   "execution_count": 44,
   "id": "e92624a9",
   "metadata": {},
   "outputs": [
    {
     "name": "stdout",
     "output_type": "stream",
     "text": [
      "p-значение: [0.1434093]\n",
      "Не получилось отвергнуть нулевую гипотезу\n"
     ]
    }
   ],
   "source": [
    "alpha = 0.05 # Уровень значимости\n",
    "\n",
    "results = st.ttest_ind(sample_247, sample_248) # Проведение t-теста\n",
    "\n",
    "print('p-значение:', results.pvalue)\n",
    "\n",
    "if results.pvalue < alpha:\n",
    "    print('Отвергаем нулевую гипотезу')\n",
    "else:\n",
    "    print('Не получилось отвергнуть нулевую гипотезу')"
   ]
  },
  {
   "cell_type": "markdown",
   "id": "6d480226",
   "metadata": {},
   "source": [
    "При сравнение средних двух выборок статистически значимых различий не обнаружили, что подкрепляет описанные выше выводы."
   ]
  },
  {
   "cell_type": "markdown",
   "id": "676347b2",
   "metadata": {},
   "source": [
    "### Вывод"
   ]
  },
  {
   "cell_type": "markdown",
   "id": "81e19390",
   "metadata": {},
   "source": [
    "При анализе результатов экспиримента были выявлены следующие особенности:\n",
    "\n",
    "- Можно сказать, что пользователи распределены по группам равномерно\n",
    "- По результатам А/А теста предположили, что дизайн эксперимента проходил правильно и разбиение на группы работает корректно.\n",
    "- По результатам множественных А/А/B тестов можно заключить, что никаких статистически значимых различий между группами не наблюдается\n",
    "- t-тест контрольной и тестовой выборки подтверждает отсутствие статистически значимых различий между средними значениями количества событий в каждой группе"
   ]
  },
  {
   "cell_type": "markdown",
   "id": "f026802e",
   "metadata": {},
   "source": [
    "## Вывод"
   ]
  },
  {
   "cell_type": "markdown",
   "id": "9dca1c8d",
   "metadata": {},
   "source": [
    "По результатам выполненного исследования:\n",
    "- Провели предобработку данных для корректной работы с полученным датасетом\n",
    "- Изучили воронку продуктовых продаж, выявили этапы воронки, на которых отваливается максимальное количество пользователей\n",
    "- Провели А/А/B тестирование на двух контрольных и одной тестовой группе. Никаких статистически значимых различий между группами обнаружить не удалось."
   ]
  }
 ],
 "metadata": {
  "ExecuteTimeLog": [
   {
    "duration": 150,
    "start_time": "2022-04-11T13:51:12.013Z"
   },
   {
    "duration": 1287,
    "start_time": "2022-04-11T13:59:58.602Z"
   },
   {
    "duration": 216,
    "start_time": "2022-04-11T13:59:59.892Z"
   },
   {
    "duration": 18,
    "start_time": "2022-04-11T14:00:00.112Z"
   },
   {
    "duration": 7,
    "start_time": "2022-04-11T14:00:00.131Z"
   },
   {
    "duration": 11,
    "start_time": "2022-04-11T14:00:00.139Z"
   },
   {
    "duration": 73,
    "start_time": "2022-04-11T14:00:00.151Z"
   },
   {
    "duration": 129,
    "start_time": "2022-04-11T14:00:00.225Z"
   },
   {
    "duration": 20,
    "start_time": "2022-04-11T14:00:00.355Z"
   },
   {
    "duration": 74,
    "start_time": "2022-04-11T14:00:00.377Z"
   },
   {
    "duration": 20,
    "start_time": "2022-04-11T14:00:00.453Z"
   },
   {
    "duration": 8,
    "start_time": "2022-04-11T14:00:00.475Z"
   },
   {
    "duration": 68,
    "start_time": "2022-04-11T14:00:00.485Z"
   },
   {
    "duration": 557,
    "start_time": "2022-04-11T14:00:00.570Z"
   },
   {
    "duration": 1526,
    "start_time": "2022-04-11T14:00:01.129Z"
   },
   {
    "duration": 1110,
    "start_time": "2022-04-11T14:00:02.657Z"
   },
   {
    "duration": 14,
    "start_time": "2022-04-11T14:00:03.770Z"
   },
   {
    "duration": 18,
    "start_time": "2022-04-11T14:00:03.785Z"
   },
   {
    "duration": 13,
    "start_time": "2022-04-11T14:00:03.805Z"
   },
   {
    "duration": 29,
    "start_time": "2022-04-11T14:00:03.819Z"
   },
   {
    "duration": 76,
    "start_time": "2022-04-11T14:00:03.849Z"
   },
   {
    "duration": 7,
    "start_time": "2022-04-11T14:00:03.927Z"
   },
   {
    "duration": 148,
    "start_time": "2022-04-11T14:00:03.936Z"
   },
   {
    "duration": 38,
    "start_time": "2022-04-11T14:00:04.085Z"
   },
   {
    "duration": 113,
    "start_time": "2022-04-11T14:00:04.125Z"
   },
   {
    "duration": 35,
    "start_time": "2022-04-11T14:00:04.240Z"
   },
   {
    "duration": 23,
    "start_time": "2022-04-11T14:00:04.276Z"
   },
   {
    "duration": 14,
    "start_time": "2022-04-11T14:00:04.302Z"
   },
   {
    "duration": 10,
    "start_time": "2022-04-11T14:00:04.318Z"
   },
   {
    "duration": 20,
    "start_time": "2022-04-11T14:00:04.330Z"
   },
   {
    "duration": 22,
    "start_time": "2022-04-11T14:00:04.352Z"
   },
   {
    "duration": 21,
    "start_time": "2022-04-11T14:00:04.376Z"
   },
   {
    "duration": 21,
    "start_time": "2022-04-11T14:00:04.398Z"
   },
   {
    "duration": 26,
    "start_time": "2022-04-11T14:00:04.421Z"
   },
   {
    "duration": 34,
    "start_time": "2022-04-11T14:00:04.448Z"
   },
   {
    "duration": 22,
    "start_time": "2022-04-11T14:00:04.484Z"
   },
   {
    "duration": 27,
    "start_time": "2022-04-11T14:00:04.507Z"
   },
   {
    "duration": 26,
    "start_time": "2022-04-11T14:00:04.536Z"
   },
   {
    "duration": 20,
    "start_time": "2022-04-11T14:00:04.563Z"
   },
   {
    "duration": 35,
    "start_time": "2022-04-11T14:00:04.584Z"
   },
   {
    "duration": 16,
    "start_time": "2022-04-11T14:00:04.621Z"
   },
   {
    "duration": 27,
    "start_time": "2022-04-11T14:00:04.639Z"
   },
   {
    "duration": 56,
    "start_time": "2022-04-11T14:00:04.668Z"
   },
   {
    "duration": 9,
    "start_time": "2022-04-11T14:16:55.738Z"
   },
   {
    "duration": 5,
    "start_time": "2022-04-11T14:22:36.283Z"
   },
   {
    "duration": 6,
    "start_time": "2022-04-11T14:22:52.286Z"
   },
   {
    "duration": 5,
    "start_time": "2022-04-11T14:26:32.438Z"
   },
   {
    "duration": 160,
    "start_time": "2022-04-11T14:30:52.295Z"
   },
   {
    "duration": 145,
    "start_time": "2022-04-11T14:37:18.300Z"
   },
   {
    "duration": 5,
    "start_time": "2022-04-11T14:41:44.099Z"
   },
   {
    "duration": 5,
    "start_time": "2022-04-11T14:42:29.412Z"
   },
   {
    "duration": 54,
    "start_time": "2022-04-12T06:35:17.253Z"
   },
   {
    "duration": 1572,
    "start_time": "2022-04-12T06:35:22.469Z"
   },
   {
    "duration": 270,
    "start_time": "2022-04-12T06:35:24.043Z"
   },
   {
    "duration": 37,
    "start_time": "2022-04-12T06:35:24.315Z"
   },
   {
    "duration": 8,
    "start_time": "2022-04-12T06:35:24.355Z"
   },
   {
    "duration": 12,
    "start_time": "2022-04-12T06:35:24.366Z"
   },
   {
    "duration": 102,
    "start_time": "2022-04-12T06:35:24.380Z"
   },
   {
    "duration": 154,
    "start_time": "2022-04-12T06:35:24.484Z"
   },
   {
    "duration": 18,
    "start_time": "2022-04-12T06:35:24.641Z"
   },
   {
    "duration": 111,
    "start_time": "2022-04-12T06:35:24.661Z"
   },
   {
    "duration": 21,
    "start_time": "2022-04-12T06:35:24.776Z"
   },
   {
    "duration": 12,
    "start_time": "2022-04-12T06:35:24.799Z"
   },
   {
    "duration": 70,
    "start_time": "2022-04-12T06:35:24.834Z"
   },
   {
    "duration": 706,
    "start_time": "2022-04-12T06:35:24.906Z"
   },
   {
    "duration": 1591,
    "start_time": "2022-04-12T06:35:25.614Z"
   },
   {
    "duration": 1356,
    "start_time": "2022-04-12T06:35:27.207Z"
   },
   {
    "duration": 22,
    "start_time": "2022-04-12T06:35:28.565Z"
   },
   {
    "duration": 45,
    "start_time": "2022-04-12T06:35:28.590Z"
   },
   {
    "duration": 10,
    "start_time": "2022-04-12T06:35:28.638Z"
   },
   {
    "duration": 42,
    "start_time": "2022-04-12T06:35:28.650Z"
   },
   {
    "duration": 118,
    "start_time": "2022-04-12T06:35:28.694Z"
   },
   {
    "duration": 21,
    "start_time": "2022-04-12T06:35:28.814Z"
   },
   {
    "duration": 167,
    "start_time": "2022-04-12T06:35:28.837Z"
   },
   {
    "duration": 127,
    "start_time": "2022-04-12T06:35:29.007Z"
   },
   {
    "duration": 221,
    "start_time": "2022-04-12T06:35:29.136Z"
   },
   {
    "duration": 11,
    "start_time": "2022-04-12T06:35:29.360Z"
   },
   {
    "duration": 67,
    "start_time": "2022-04-12T06:35:29.373Z"
   },
   {
    "duration": 14,
    "start_time": "2022-04-12T06:35:29.443Z"
   },
   {
    "duration": 13,
    "start_time": "2022-04-12T06:35:29.462Z"
   },
   {
    "duration": 11,
    "start_time": "2022-04-12T06:35:29.477Z"
   },
   {
    "duration": 46,
    "start_time": "2022-04-12T06:35:29.491Z"
   },
   {
    "duration": 14,
    "start_time": "2022-04-12T06:35:29.539Z"
   },
   {
    "duration": 11,
    "start_time": "2022-04-12T06:35:29.555Z"
   },
   {
    "duration": 12,
    "start_time": "2022-04-12T06:35:29.568Z"
   },
   {
    "duration": 58,
    "start_time": "2022-04-12T06:35:29.582Z"
   },
   {
    "duration": 12,
    "start_time": "2022-04-12T06:35:29.642Z"
   },
   {
    "duration": 11,
    "start_time": "2022-04-12T06:35:29.656Z"
   },
   {
    "duration": 12,
    "start_time": "2022-04-12T06:35:29.669Z"
   },
   {
    "duration": 58,
    "start_time": "2022-04-12T06:35:29.684Z"
   },
   {
    "duration": 12,
    "start_time": "2022-04-12T06:35:29.744Z"
   },
   {
    "duration": 23,
    "start_time": "2022-04-12T06:35:29.757Z"
   },
   {
    "duration": 17,
    "start_time": "2022-04-12T06:35:29.783Z"
   },
   {
    "duration": 95,
    "start_time": "2022-04-12T06:35:29.802Z"
   },
   {
    "duration": 30,
    "start_time": "2022-04-12T06:35:49.210Z"
   },
   {
    "duration": 39,
    "start_time": "2022-04-12T06:36:15.275Z"
   },
   {
    "duration": 1179,
    "start_time": "2022-04-12T06:38:03.992Z"
   },
   {
    "duration": 1267,
    "start_time": "2022-04-12T06:38:46.888Z"
   },
   {
    "duration": 8,
    "start_time": "2022-04-12T06:39:20.251Z"
   },
   {
    "duration": 1388,
    "start_time": "2022-04-12T06:39:27.624Z"
   },
   {
    "duration": 231,
    "start_time": "2022-04-12T06:39:29.014Z"
   },
   {
    "duration": 24,
    "start_time": "2022-04-12T06:39:29.246Z"
   },
   {
    "duration": 8,
    "start_time": "2022-04-12T06:39:29.272Z"
   },
   {
    "duration": 14,
    "start_time": "2022-04-12T06:39:29.282Z"
   },
   {
    "duration": 96,
    "start_time": "2022-04-12T06:39:29.298Z"
   },
   {
    "duration": 152,
    "start_time": "2022-04-12T06:39:29.396Z"
   },
   {
    "duration": 16,
    "start_time": "2022-04-12T06:39:29.550Z"
   },
   {
    "duration": 100,
    "start_time": "2022-04-12T06:39:29.568Z"
   },
   {
    "duration": 19,
    "start_time": "2022-04-12T06:39:29.671Z"
   },
   {
    "duration": 11,
    "start_time": "2022-04-12T06:39:29.692Z"
   },
   {
    "duration": 55,
    "start_time": "2022-04-12T06:39:29.705Z"
   },
   {
    "duration": 672,
    "start_time": "2022-04-12T06:39:29.761Z"
   },
   {
    "duration": 1703,
    "start_time": "2022-04-12T06:39:30.435Z"
   },
   {
    "duration": 1408,
    "start_time": "2022-04-12T06:39:32.139Z"
   },
   {
    "duration": 15,
    "start_time": "2022-04-12T06:39:33.548Z"
   },
   {
    "duration": 16,
    "start_time": "2022-04-12T06:39:33.564Z"
   },
   {
    "duration": 7,
    "start_time": "2022-04-12T06:39:33.582Z"
   },
   {
    "duration": 62,
    "start_time": "2022-04-12T06:39:33.591Z"
   },
   {
    "duration": 83,
    "start_time": "2022-04-12T06:39:33.654Z"
   },
   {
    "duration": 9,
    "start_time": "2022-04-12T06:39:33.739Z"
   },
   {
    "duration": 140,
    "start_time": "2022-04-12T06:39:33.750Z"
   },
   {
    "duration": 67,
    "start_time": "2022-04-12T06:39:33.892Z"
   },
   {
    "duration": 186,
    "start_time": "2022-04-12T06:39:33.961Z"
   },
   {
    "duration": 7,
    "start_time": "2022-04-12T06:39:34.149Z"
   },
   {
    "duration": 15,
    "start_time": "2022-04-12T06:39:34.158Z"
   },
   {
    "duration": 10,
    "start_time": "2022-04-12T06:39:34.175Z"
   },
   {
    "duration": 51,
    "start_time": "2022-04-12T06:39:34.189Z"
   },
   {
    "duration": 12,
    "start_time": "2022-04-12T06:39:34.242Z"
   },
   {
    "duration": 12,
    "start_time": "2022-04-12T06:39:34.256Z"
   },
   {
    "duration": 11,
    "start_time": "2022-04-12T06:39:34.270Z"
   },
   {
    "duration": 52,
    "start_time": "2022-04-12T06:39:34.283Z"
   },
   {
    "duration": 12,
    "start_time": "2022-04-12T06:39:34.337Z"
   },
   {
    "duration": 11,
    "start_time": "2022-04-12T06:39:34.351Z"
   },
   {
    "duration": 12,
    "start_time": "2022-04-12T06:39:34.364Z"
   },
   {
    "duration": 15,
    "start_time": "2022-04-12T06:39:34.378Z"
   },
   {
    "duration": 38,
    "start_time": "2022-04-12T06:39:34.395Z"
   },
   {
    "duration": 11,
    "start_time": "2022-04-12T06:39:34.435Z"
   },
   {
    "duration": 14,
    "start_time": "2022-04-12T06:39:34.447Z"
   },
   {
    "duration": 15,
    "start_time": "2022-04-12T06:39:34.463Z"
   },
   {
    "duration": 18,
    "start_time": "2022-04-12T06:39:34.479Z"
   },
   {
    "duration": 86,
    "start_time": "2022-04-12T06:39:34.499Z"
   },
   {
    "duration": 7,
    "start_time": "2022-04-12T06:40:15.756Z"
   },
   {
    "duration": 15,
    "start_time": "2022-04-12T06:40:36.923Z"
   },
   {
    "duration": 7,
    "start_time": "2022-04-12T06:40:39.364Z"
   },
   {
    "duration": 8,
    "start_time": "2022-04-12T06:40:47.430Z"
   },
   {
    "duration": 1316,
    "start_time": "2022-04-12T06:40:54.695Z"
   },
   {
    "duration": 232,
    "start_time": "2022-04-12T06:40:56.013Z"
   },
   {
    "duration": 23,
    "start_time": "2022-04-12T06:40:56.247Z"
   },
   {
    "duration": 8,
    "start_time": "2022-04-12T06:40:56.272Z"
   },
   {
    "duration": 13,
    "start_time": "2022-04-12T06:40:56.281Z"
   },
   {
    "duration": 106,
    "start_time": "2022-04-12T06:40:56.296Z"
   },
   {
    "duration": 157,
    "start_time": "2022-04-12T06:40:56.404Z"
   },
   {
    "duration": 16,
    "start_time": "2022-04-12T06:40:56.563Z"
   },
   {
    "duration": 106,
    "start_time": "2022-04-12T06:40:56.581Z"
   },
   {
    "duration": 19,
    "start_time": "2022-04-12T06:40:56.690Z"
   },
   {
    "duration": 24,
    "start_time": "2022-04-12T06:40:56.711Z"
   },
   {
    "duration": 30,
    "start_time": "2022-04-12T06:40:56.737Z"
   },
   {
    "duration": 697,
    "start_time": "2022-04-12T06:40:56.769Z"
   },
   {
    "duration": 1550,
    "start_time": "2022-04-12T06:40:57.468Z"
   },
   {
    "duration": 1338,
    "start_time": "2022-04-12T06:40:59.020Z"
   },
   {
    "duration": 15,
    "start_time": "2022-04-12T06:41:00.359Z"
   },
   {
    "duration": 6,
    "start_time": "2022-04-12T06:41:00.376Z"
   },
   {
    "duration": 50,
    "start_time": "2022-04-12T06:41:00.384Z"
   },
   {
    "duration": 9,
    "start_time": "2022-04-12T06:41:00.436Z"
   },
   {
    "duration": 12,
    "start_time": "2022-04-12T06:41:00.446Z"
   },
   {
    "duration": 30,
    "start_time": "2022-04-12T06:41:00.460Z"
   },
   {
    "duration": 94,
    "start_time": "2022-04-12T06:41:00.492Z"
   },
   {
    "duration": 8,
    "start_time": "2022-04-12T06:41:00.588Z"
   },
   {
    "duration": 156,
    "start_time": "2022-04-12T06:41:00.598Z"
   },
   {
    "duration": 91,
    "start_time": "2022-04-12T06:41:00.756Z"
   },
   {
    "duration": 196,
    "start_time": "2022-04-12T06:41:00.849Z"
   },
   {
    "duration": 8,
    "start_time": "2022-04-12T06:41:01.047Z"
   },
   {
    "duration": 27,
    "start_time": "2022-04-12T06:41:01.061Z"
   },
   {
    "duration": 21,
    "start_time": "2022-04-12T06:41:01.091Z"
   },
   {
    "duration": 25,
    "start_time": "2022-04-12T06:41:01.114Z"
   },
   {
    "duration": 26,
    "start_time": "2022-04-12T06:41:01.141Z"
   },
   {
    "duration": 23,
    "start_time": "2022-04-12T06:41:01.169Z"
   },
   {
    "duration": 26,
    "start_time": "2022-04-12T06:41:01.195Z"
   },
   {
    "duration": 18,
    "start_time": "2022-04-12T06:41:01.223Z"
   },
   {
    "duration": 19,
    "start_time": "2022-04-12T06:41:01.242Z"
   },
   {
    "duration": 19,
    "start_time": "2022-04-12T06:41:01.262Z"
   },
   {
    "duration": 20,
    "start_time": "2022-04-12T06:41:01.283Z"
   },
   {
    "duration": 16,
    "start_time": "2022-04-12T06:41:01.305Z"
   },
   {
    "duration": 17,
    "start_time": "2022-04-12T06:41:01.333Z"
   },
   {
    "duration": 15,
    "start_time": "2022-04-12T06:41:01.352Z"
   },
   {
    "duration": 17,
    "start_time": "2022-04-12T06:41:01.369Z"
   },
   {
    "duration": 22,
    "start_time": "2022-04-12T06:41:01.388Z"
   },
   {
    "duration": 26,
    "start_time": "2022-04-12T06:41:01.412Z"
   },
   {
    "duration": 62,
    "start_time": "2022-04-12T06:41:01.440Z"
   },
   {
    "duration": 10,
    "start_time": "2022-04-12T06:42:55.502Z"
   },
   {
    "duration": 1285,
    "start_time": "2022-04-12T06:43:06.271Z"
   },
   {
    "duration": 235,
    "start_time": "2022-04-12T06:43:07.558Z"
   },
   {
    "duration": 23,
    "start_time": "2022-04-12T06:43:08.870Z"
   },
   {
    "duration": 8,
    "start_time": "2022-04-12T06:43:09.653Z"
   },
   {
    "duration": 8,
    "start_time": "2022-04-12T06:43:09.926Z"
   },
   {
    "duration": 72,
    "start_time": "2022-04-12T06:43:10.277Z"
   },
   {
    "duration": 143,
    "start_time": "2022-04-12T06:43:10.525Z"
   },
   {
    "duration": 17,
    "start_time": "2022-04-12T06:43:10.789Z"
   },
   {
    "duration": 95,
    "start_time": "2022-04-12T06:43:11.061Z"
   },
   {
    "duration": 21,
    "start_time": "2022-04-12T06:43:12.069Z"
   },
   {
    "duration": 8,
    "start_time": "2022-04-12T06:43:12.565Z"
   },
   {
    "duration": 30,
    "start_time": "2022-04-12T06:43:13.094Z"
   },
   {
    "duration": 633,
    "start_time": "2022-04-12T06:43:13.990Z"
   },
   {
    "duration": 1581,
    "start_time": "2022-04-12T06:43:14.633Z"
   },
   {
    "duration": 1328,
    "start_time": "2022-04-12T06:43:16.216Z"
   },
   {
    "duration": 15,
    "start_time": "2022-04-12T06:43:35.951Z"
   },
   {
    "duration": 10,
    "start_time": "2022-04-12T06:43:40.942Z"
   },
   {
    "duration": 11,
    "start_time": "2022-04-12T06:45:07.606Z"
   },
   {
    "duration": 16,
    "start_time": "2022-04-12T06:45:42.653Z"
   },
   {
    "duration": 12,
    "start_time": "2022-04-12T06:45:44.158Z"
   },
   {
    "duration": 9,
    "start_time": "2022-04-12T06:45:52.534Z"
   },
   {
    "duration": 9,
    "start_time": "2022-04-12T06:45:53.174Z"
   },
   {
    "duration": 11,
    "start_time": "2022-04-12T06:47:38.008Z"
   },
   {
    "duration": 1367,
    "start_time": "2022-04-12T06:48:42.250Z"
   },
   {
    "duration": 292,
    "start_time": "2022-04-12T06:48:43.620Z"
   },
   {
    "duration": 35,
    "start_time": "2022-04-12T06:48:43.914Z"
   },
   {
    "duration": 8,
    "start_time": "2022-04-12T06:48:43.951Z"
   },
   {
    "duration": 12,
    "start_time": "2022-04-12T06:48:43.961Z"
   },
   {
    "duration": 98,
    "start_time": "2022-04-12T06:48:43.975Z"
   },
   {
    "duration": 144,
    "start_time": "2022-04-12T06:48:44.075Z"
   },
   {
    "duration": 21,
    "start_time": "2022-04-12T06:48:44.221Z"
   },
   {
    "duration": 98,
    "start_time": "2022-04-12T06:48:44.244Z"
   },
   {
    "duration": 19,
    "start_time": "2022-04-12T06:48:44.345Z"
   },
   {
    "duration": 8,
    "start_time": "2022-04-12T06:48:44.366Z"
   },
   {
    "duration": 64,
    "start_time": "2022-04-12T06:48:44.375Z"
   },
   {
    "duration": 670,
    "start_time": "2022-04-12T06:48:44.440Z"
   },
   {
    "duration": 1607,
    "start_time": "2022-04-12T06:48:45.111Z"
   },
   {
    "duration": 1351,
    "start_time": "2022-04-12T06:48:46.720Z"
   },
   {
    "duration": 15,
    "start_time": "2022-04-12T06:48:48.073Z"
   },
   {
    "duration": 9,
    "start_time": "2022-04-12T06:48:48.090Z"
   },
   {
    "duration": 36,
    "start_time": "2022-04-12T06:48:48.101Z"
   },
   {
    "duration": 16,
    "start_time": "2022-04-12T06:48:48.139Z"
   },
   {
    "duration": 9,
    "start_time": "2022-04-12T06:48:48.157Z"
   },
   {
    "duration": 6,
    "start_time": "2022-04-12T06:48:48.168Z"
   },
   {
    "duration": 67,
    "start_time": "2022-04-12T06:48:48.176Z"
   },
   {
    "duration": 68,
    "start_time": "2022-04-12T06:48:48.244Z"
   },
   {
    "duration": 22,
    "start_time": "2022-04-12T06:48:48.313Z"
   },
   {
    "duration": 139,
    "start_time": "2022-04-12T06:48:48.337Z"
   },
   {
    "duration": 77,
    "start_time": "2022-04-12T06:48:48.478Z"
   },
   {
    "duration": 187,
    "start_time": "2022-04-12T06:48:48.557Z"
   },
   {
    "duration": 8,
    "start_time": "2022-04-12T06:48:48.749Z"
   },
   {
    "duration": 15,
    "start_time": "2022-04-12T06:48:48.759Z"
   },
   {
    "duration": 58,
    "start_time": "2022-04-12T06:48:48.777Z"
   },
   {
    "duration": 15,
    "start_time": "2022-04-12T06:48:48.837Z"
   },
   {
    "duration": 12,
    "start_time": "2022-04-12T06:48:48.854Z"
   },
   {
    "duration": 12,
    "start_time": "2022-04-12T06:48:48.868Z"
   },
   {
    "duration": 12,
    "start_time": "2022-04-12T06:48:48.882Z"
   },
   {
    "duration": 44,
    "start_time": "2022-04-12T06:48:48.895Z"
   },
   {
    "duration": 15,
    "start_time": "2022-04-12T06:48:48.941Z"
   },
   {
    "duration": 11,
    "start_time": "2022-04-12T06:48:48.958Z"
   },
   {
    "duration": 13,
    "start_time": "2022-04-12T06:48:48.971Z"
   },
   {
    "duration": 12,
    "start_time": "2022-04-12T06:48:48.985Z"
   },
   {
    "duration": 44,
    "start_time": "2022-04-12T06:48:48.998Z"
   },
   {
    "duration": 12,
    "start_time": "2022-04-12T06:48:49.044Z"
   },
   {
    "duration": 11,
    "start_time": "2022-04-12T06:48:49.057Z"
   },
   {
    "duration": 15,
    "start_time": "2022-04-12T06:48:49.070Z"
   },
   {
    "duration": 12,
    "start_time": "2022-04-12T06:48:49.087Z"
   },
   {
    "duration": 98,
    "start_time": "2022-04-12T06:48:49.101Z"
   },
   {
    "duration": 7,
    "start_time": "2022-04-12T06:49:20.072Z"
   },
   {
    "duration": 1345,
    "start_time": "2022-04-12T06:49:35.565Z"
   },
   {
    "duration": 243,
    "start_time": "2022-04-12T06:49:36.913Z"
   },
   {
    "duration": 24,
    "start_time": "2022-04-12T06:49:37.158Z"
   },
   {
    "duration": 7,
    "start_time": "2022-04-12T06:49:37.185Z"
   },
   {
    "duration": 9,
    "start_time": "2022-04-12T06:49:37.194Z"
   },
   {
    "duration": 74,
    "start_time": "2022-04-12T06:49:37.234Z"
   },
   {
    "duration": 176,
    "start_time": "2022-04-12T06:49:37.310Z"
   },
   {
    "duration": 17,
    "start_time": "2022-04-12T06:49:37.488Z"
   },
   {
    "duration": 115,
    "start_time": "2022-04-12T06:49:37.506Z"
   },
   {
    "duration": 26,
    "start_time": "2022-04-12T06:49:37.623Z"
   },
   {
    "duration": 9,
    "start_time": "2022-04-12T06:49:37.650Z"
   },
   {
    "duration": 31,
    "start_time": "2022-04-12T06:49:37.661Z"
   },
   {
    "duration": 764,
    "start_time": "2022-04-12T06:49:37.693Z"
   },
   {
    "duration": 1552,
    "start_time": "2022-04-12T06:49:38.458Z"
   },
   {
    "duration": 1350,
    "start_time": "2022-04-12T06:49:40.012Z"
   },
   {
    "duration": 15,
    "start_time": "2022-04-12T06:49:41.364Z"
   },
   {
    "duration": 10,
    "start_time": "2022-04-12T06:49:41.381Z"
   },
   {
    "duration": 6,
    "start_time": "2022-04-12T06:49:41.393Z"
   },
   {
    "duration": 17,
    "start_time": "2022-04-12T06:49:41.434Z"
   },
   {
    "duration": 10,
    "start_time": "2022-04-12T06:49:41.452Z"
   },
   {
    "duration": 7,
    "start_time": "2022-04-12T06:49:41.464Z"
   },
   {
    "duration": 67,
    "start_time": "2022-04-12T06:49:41.472Z"
   },
   {
    "duration": 69,
    "start_time": "2022-04-12T06:49:41.541Z"
   },
   {
    "duration": 27,
    "start_time": "2022-04-12T06:49:41.611Z"
   },
   {
    "duration": 143,
    "start_time": "2022-04-12T06:49:41.639Z"
   },
   {
    "duration": 73,
    "start_time": "2022-04-12T06:49:41.784Z"
   },
   {
    "duration": 183,
    "start_time": "2022-04-12T06:49:41.858Z"
   },
   {
    "duration": 7,
    "start_time": "2022-04-12T06:49:42.045Z"
   },
   {
    "duration": 82,
    "start_time": "2022-04-12T06:49:42.053Z"
   },
   {
    "duration": 24,
    "start_time": "2022-04-12T06:49:42.137Z"
   },
   {
    "duration": 14,
    "start_time": "2022-04-12T06:49:42.163Z"
   },
   {
    "duration": 11,
    "start_time": "2022-04-12T06:49:42.179Z"
   },
   {
    "duration": 10,
    "start_time": "2022-04-12T06:49:42.192Z"
   },
   {
    "duration": 36,
    "start_time": "2022-04-12T06:49:42.204Z"
   },
   {
    "duration": 12,
    "start_time": "2022-04-12T06:49:42.242Z"
   },
   {
    "duration": 10,
    "start_time": "2022-04-12T06:49:42.257Z"
   },
   {
    "duration": 12,
    "start_time": "2022-04-12T06:49:42.268Z"
   },
   {
    "duration": 10,
    "start_time": "2022-04-12T06:49:42.281Z"
   },
   {
    "duration": 45,
    "start_time": "2022-04-12T06:49:42.293Z"
   },
   {
    "duration": 11,
    "start_time": "2022-04-12T06:49:42.340Z"
   },
   {
    "duration": 11,
    "start_time": "2022-04-12T06:49:42.353Z"
   },
   {
    "duration": 11,
    "start_time": "2022-04-12T06:49:42.368Z"
   },
   {
    "duration": 10,
    "start_time": "2022-04-12T06:49:42.380Z"
   },
   {
    "duration": 44,
    "start_time": "2022-04-12T06:49:42.392Z"
   },
   {
    "duration": 62,
    "start_time": "2022-04-12T06:49:42.438Z"
   },
   {
    "duration": 14,
    "start_time": "2022-04-12T06:52:14.234Z"
   },
   {
    "duration": 8,
    "start_time": "2022-04-12T06:52:14.489Z"
   },
   {
    "duration": 8,
    "start_time": "2022-04-12T06:52:15.529Z"
   },
   {
    "duration": 11,
    "start_time": "2022-04-12T06:55:14.381Z"
   },
   {
    "duration": 5,
    "start_time": "2022-04-12T06:55:51.331Z"
   },
   {
    "duration": 9,
    "start_time": "2022-04-12T06:56:30.347Z"
   },
   {
    "duration": 44,
    "start_time": "2022-04-12T06:56:35.082Z"
   },
   {
    "duration": 12,
    "start_time": "2022-04-12T06:56:49.715Z"
   },
   {
    "duration": 6,
    "start_time": "2022-04-12T07:02:00.131Z"
   },
   {
    "duration": 20,
    "start_time": "2022-04-12T07:02:30.556Z"
   },
   {
    "duration": 77,
    "start_time": "2022-04-12T07:02:57.683Z"
   },
   {
    "duration": 24,
    "start_time": "2022-04-12T07:03:42.715Z"
   },
   {
    "duration": 24,
    "start_time": "2022-04-12T07:03:57.250Z"
   },
   {
    "duration": 21,
    "start_time": "2022-04-12T07:04:30.817Z"
   },
   {
    "duration": 21,
    "start_time": "2022-04-12T07:04:35.906Z"
   },
   {
    "duration": 139,
    "start_time": "2022-04-12T07:04:46.659Z"
   },
   {
    "duration": 152,
    "start_time": "2022-04-12T07:04:56.017Z"
   },
   {
    "duration": 158,
    "start_time": "2022-04-12T07:05:06.289Z"
   },
   {
    "duration": 35,
    "start_time": "2022-04-12T07:05:10.138Z"
   },
   {
    "duration": 35,
    "start_time": "2022-04-12T07:05:17.755Z"
   },
   {
    "duration": 46,
    "start_time": "2022-04-12T07:05:50.124Z"
   },
   {
    "duration": 34,
    "start_time": "2022-04-12T07:06:12.658Z"
   },
   {
    "duration": 35,
    "start_time": "2022-04-12T07:18:41.555Z"
   },
   {
    "duration": 12,
    "start_time": "2022-04-12T07:19:18.971Z"
   },
   {
    "duration": 38,
    "start_time": "2022-04-12T07:19:58.033Z"
   },
   {
    "duration": 71,
    "start_time": "2022-04-12T07:20:16.035Z"
   },
   {
    "duration": 22,
    "start_time": "2022-04-12T07:20:35.849Z"
   },
   {
    "duration": 66,
    "start_time": "2022-04-12T07:32:28.617Z"
   },
   {
    "duration": 6,
    "start_time": "2022-04-12T07:32:50.912Z"
   },
   {
    "duration": 56,
    "start_time": "2022-04-12T07:33:10.618Z"
   },
   {
    "duration": 9,
    "start_time": "2022-04-12T07:33:11.409Z"
   },
   {
    "duration": 59,
    "start_time": "2022-04-12T07:33:43.633Z"
   },
   {
    "duration": 65,
    "start_time": "2022-04-12T07:34:19.000Z"
   },
   {
    "duration": 55,
    "start_time": "2022-04-12T07:34:42.402Z"
   },
   {
    "duration": 11,
    "start_time": "2022-04-12T07:35:21.232Z"
   },
   {
    "duration": 9,
    "start_time": "2022-04-12T07:35:25.008Z"
   },
   {
    "duration": 8,
    "start_time": "2022-04-12T07:35:42.977Z"
   },
   {
    "duration": 1345,
    "start_time": "2022-04-12T07:36:35.632Z"
   },
   {
    "duration": 236,
    "start_time": "2022-04-12T07:36:36.980Z"
   },
   {
    "duration": 28,
    "start_time": "2022-04-12T07:36:37.217Z"
   },
   {
    "duration": 8,
    "start_time": "2022-04-12T07:36:37.248Z"
   },
   {
    "duration": 12,
    "start_time": "2022-04-12T07:36:37.258Z"
   },
   {
    "duration": 107,
    "start_time": "2022-04-12T07:36:37.272Z"
   },
   {
    "duration": 153,
    "start_time": "2022-04-12T07:36:37.381Z"
   },
   {
    "duration": 17,
    "start_time": "2022-04-12T07:36:37.536Z"
   },
   {
    "duration": 107,
    "start_time": "2022-04-12T07:36:37.555Z"
   },
   {
    "duration": 21,
    "start_time": "2022-04-12T07:36:37.665Z"
   },
   {
    "duration": 8,
    "start_time": "2022-04-12T07:36:37.688Z"
   },
   {
    "duration": 63,
    "start_time": "2022-04-12T07:36:37.698Z"
   },
   {
    "duration": 662,
    "start_time": "2022-04-12T07:36:37.763Z"
   },
   {
    "duration": 1719,
    "start_time": "2022-04-12T07:36:38.427Z"
   },
   {
    "duration": 1494,
    "start_time": "2022-04-12T07:36:40.148Z"
   },
   {
    "duration": 20,
    "start_time": "2022-04-12T07:36:41.644Z"
   },
   {
    "duration": 24,
    "start_time": "2022-04-12T07:36:41.666Z"
   },
   {
    "duration": 43,
    "start_time": "2022-04-12T07:36:41.692Z"
   },
   {
    "duration": 11,
    "start_time": "2022-04-12T07:36:41.737Z"
   },
   {
    "duration": 26,
    "start_time": "2022-04-12T07:36:41.749Z"
   },
   {
    "duration": 103,
    "start_time": "2022-04-12T07:36:41.777Z"
   },
   {
    "duration": 9,
    "start_time": "2022-04-12T07:36:41.882Z"
   },
   {
    "duration": 174,
    "start_time": "2022-04-12T07:36:41.893Z"
   },
   {
    "duration": 100,
    "start_time": "2022-04-12T07:36:42.069Z"
   },
   {
    "duration": 174,
    "start_time": "2022-04-12T07:36:42.171Z"
   },
   {
    "duration": 34,
    "start_time": "2022-04-12T07:36:42.346Z"
   },
   {
    "duration": 7,
    "start_time": "2022-04-12T07:36:42.382Z"
   },
   {
    "duration": 43,
    "start_time": "2022-04-12T07:36:42.392Z"
   },
   {
    "duration": 11,
    "start_time": "2022-04-12T07:36:42.437Z"
   },
   {
    "duration": 11,
    "start_time": "2022-04-12T07:36:42.449Z"
   },
   {
    "duration": 14,
    "start_time": "2022-04-12T07:36:42.462Z"
   },
   {
    "duration": 57,
    "start_time": "2022-04-12T07:36:42.478Z"
   },
   {
    "duration": 9,
    "start_time": "2022-04-12T07:36:42.536Z"
   },
   {
    "duration": 13,
    "start_time": "2022-04-12T07:36:42.547Z"
   },
   {
    "duration": 10,
    "start_time": "2022-04-12T07:36:42.562Z"
   },
   {
    "duration": 14,
    "start_time": "2022-04-12T07:36:42.573Z"
   },
   {
    "duration": 46,
    "start_time": "2022-04-12T07:36:42.589Z"
   },
   {
    "duration": 11,
    "start_time": "2022-04-12T07:36:42.637Z"
   },
   {
    "duration": 8,
    "start_time": "2022-04-12T07:36:42.650Z"
   },
   {
    "duration": 11,
    "start_time": "2022-04-12T07:36:42.660Z"
   },
   {
    "duration": 10,
    "start_time": "2022-04-12T07:36:42.673Z"
   },
   {
    "duration": 51,
    "start_time": "2022-04-12T07:36:42.685Z"
   },
   {
    "duration": 9,
    "start_time": "2022-04-12T07:36:42.738Z"
   },
   {
    "duration": 11,
    "start_time": "2022-04-12T07:36:42.749Z"
   },
   {
    "duration": 94,
    "start_time": "2022-04-12T07:36:42.761Z"
   },
   {
    "duration": 8,
    "start_time": "2022-04-12T07:36:42.857Z"
   },
   {
    "duration": 10,
    "start_time": "2022-04-12T07:36:42.866Z"
   },
   {
    "duration": 10,
    "start_time": "2022-04-12T07:36:42.878Z"
   },
   {
    "duration": 14,
    "start_time": "2022-04-12T07:37:15.169Z"
   },
   {
    "duration": 1983,
    "start_time": "2022-04-12T09:08:53.384Z"
   },
   {
    "duration": 263,
    "start_time": "2022-04-12T09:08:55.369Z"
   },
   {
    "duration": 28,
    "start_time": "2022-04-12T09:08:55.634Z"
   },
   {
    "duration": 26,
    "start_time": "2022-04-12T09:08:55.666Z"
   },
   {
    "duration": 22,
    "start_time": "2022-04-12T09:08:55.695Z"
   },
   {
    "duration": 119,
    "start_time": "2022-04-12T09:08:55.719Z"
   },
   {
    "duration": 215,
    "start_time": "2022-04-12T09:08:55.841Z"
   },
   {
    "duration": 28,
    "start_time": "2022-04-12T09:08:56.058Z"
   },
   {
    "duration": 221,
    "start_time": "2022-04-12T09:08:56.088Z"
   },
   {
    "duration": 39,
    "start_time": "2022-04-12T09:08:56.314Z"
   },
   {
    "duration": 31,
    "start_time": "2022-04-12T09:08:56.356Z"
   },
   {
    "duration": 41,
    "start_time": "2022-04-12T09:08:56.389Z"
   },
   {
    "duration": 919,
    "start_time": "2022-04-12T09:08:56.432Z"
   },
   {
    "duration": 2248,
    "start_time": "2022-04-12T09:08:57.353Z"
   },
   {
    "duration": 1741,
    "start_time": "2022-04-12T09:08:59.603Z"
   },
   {
    "duration": 21,
    "start_time": "2022-04-12T09:09:01.347Z"
   },
   {
    "duration": 23,
    "start_time": "2022-04-12T09:09:01.385Z"
   },
   {
    "duration": 17,
    "start_time": "2022-04-12T09:09:01.410Z"
   },
   {
    "duration": 22,
    "start_time": "2022-04-12T09:09:01.430Z"
   },
   {
    "duration": 56,
    "start_time": "2022-04-12T09:09:01.455Z"
   },
   {
    "duration": 111,
    "start_time": "2022-04-12T09:09:01.514Z"
   },
   {
    "duration": 13,
    "start_time": "2022-04-12T09:09:01.627Z"
   },
   {
    "duration": 242,
    "start_time": "2022-04-12T09:09:01.643Z"
   },
   {
    "duration": 102,
    "start_time": "2022-04-12T09:09:01.887Z"
   },
   {
    "duration": 148,
    "start_time": "2022-04-12T09:09:01.992Z"
   },
   {
    "duration": 65,
    "start_time": "2022-04-12T09:09:02.142Z"
   },
   {
    "duration": 10,
    "start_time": "2022-04-12T09:09:02.210Z"
   },
   {
    "duration": 27,
    "start_time": "2022-04-12T09:09:02.227Z"
   },
   {
    "duration": 38,
    "start_time": "2022-04-12T09:09:02.257Z"
   },
   {
    "duration": 40,
    "start_time": "2022-04-12T09:09:02.298Z"
   },
   {
    "duration": 26,
    "start_time": "2022-04-12T09:09:02.341Z"
   },
   {
    "duration": 60,
    "start_time": "2022-04-12T09:09:02.369Z"
   },
   {
    "duration": 31,
    "start_time": "2022-04-12T09:09:02.432Z"
   },
   {
    "duration": 22,
    "start_time": "2022-04-12T09:09:02.466Z"
   },
   {
    "duration": 22,
    "start_time": "2022-04-12T09:09:02.490Z"
   },
   {
    "duration": 31,
    "start_time": "2022-04-12T09:09:02.515Z"
   },
   {
    "duration": 48,
    "start_time": "2022-04-12T09:09:02.548Z"
   },
   {
    "duration": 31,
    "start_time": "2022-04-12T09:09:02.598Z"
   },
   {
    "duration": 41,
    "start_time": "2022-04-12T09:09:02.631Z"
   },
   {
    "duration": 36,
    "start_time": "2022-04-12T09:09:02.674Z"
   },
   {
    "duration": 29,
    "start_time": "2022-04-12T09:09:02.713Z"
   },
   {
    "duration": 82,
    "start_time": "2022-04-12T09:09:02.745Z"
   },
   {
    "duration": 11,
    "start_time": "2022-04-12T09:09:02.829Z"
   },
   {
    "duration": 25,
    "start_time": "2022-04-12T09:09:02.842Z"
   },
   {
    "duration": 20,
    "start_time": "2022-04-12T09:09:02.870Z"
   },
   {
    "duration": 1466,
    "start_time": "2022-04-12T10:52:38.042Z"
   },
   {
    "duration": 208,
    "start_time": "2022-04-12T10:52:39.510Z"
   },
   {
    "duration": 20,
    "start_time": "2022-04-12T10:52:39.719Z"
   },
   {
    "duration": 16,
    "start_time": "2022-04-12T10:52:39.741Z"
   },
   {
    "duration": 9,
    "start_time": "2022-04-12T10:52:39.759Z"
   },
   {
    "duration": 65,
    "start_time": "2022-04-12T10:52:39.769Z"
   },
   {
    "duration": 146,
    "start_time": "2022-04-12T10:52:39.836Z"
   },
   {
    "duration": 14,
    "start_time": "2022-04-12T10:52:39.984Z"
   },
   {
    "duration": 92,
    "start_time": "2022-04-12T10:52:40.000Z"
   },
   {
    "duration": 17,
    "start_time": "2022-04-12T10:52:40.095Z"
   },
   {
    "duration": 7,
    "start_time": "2022-04-12T10:52:40.114Z"
   },
   {
    "duration": 47,
    "start_time": "2022-04-12T10:52:40.123Z"
   },
   {
    "duration": 603,
    "start_time": "2022-04-12T10:52:40.172Z"
   },
   {
    "duration": 1415,
    "start_time": "2022-04-12T10:52:40.776Z"
   },
   {
    "duration": 1164,
    "start_time": "2022-04-12T10:52:42.193Z"
   },
   {
    "duration": 14,
    "start_time": "2022-04-12T10:52:43.359Z"
   },
   {
    "duration": 15,
    "start_time": "2022-04-12T10:52:43.375Z"
   },
   {
    "duration": 9,
    "start_time": "2022-04-12T10:52:43.392Z"
   },
   {
    "duration": 14,
    "start_time": "2022-04-12T10:52:43.402Z"
   },
   {
    "duration": 49,
    "start_time": "2022-04-12T10:52:43.418Z"
   },
   {
    "duration": 59,
    "start_time": "2022-04-12T10:52:43.469Z"
   },
   {
    "duration": 26,
    "start_time": "2022-04-12T10:52:43.529Z"
   },
   {
    "duration": 157,
    "start_time": "2022-04-12T10:52:43.557Z"
   },
   {
    "duration": 69,
    "start_time": "2022-04-12T10:52:43.716Z"
   },
   {
    "duration": 175,
    "start_time": "2022-04-12T10:52:43.787Z"
   },
   {
    "duration": 33,
    "start_time": "2022-04-12T10:52:43.964Z"
   },
   {
    "duration": 7,
    "start_time": "2022-04-12T10:52:43.999Z"
   },
   {
    "duration": 10,
    "start_time": "2022-04-12T10:52:44.010Z"
   },
   {
    "duration": 35,
    "start_time": "2022-04-12T10:52:44.022Z"
   },
   {
    "duration": 8,
    "start_time": "2022-04-12T10:52:44.059Z"
   },
   {
    "duration": 12,
    "start_time": "2022-04-12T10:52:44.069Z"
   },
   {
    "duration": 20,
    "start_time": "2022-04-12T10:52:44.082Z"
   },
   {
    "duration": 9,
    "start_time": "2022-04-12T10:52:44.103Z"
   },
   {
    "duration": 9,
    "start_time": "2022-04-12T10:52:44.113Z"
   },
   {
    "duration": 33,
    "start_time": "2022-04-12T10:52:44.123Z"
   },
   {
    "duration": 11,
    "start_time": "2022-04-12T10:52:44.158Z"
   },
   {
    "duration": 9,
    "start_time": "2022-04-12T10:52:44.170Z"
   },
   {
    "duration": 11,
    "start_time": "2022-04-12T10:52:44.180Z"
   },
   {
    "duration": 11,
    "start_time": "2022-04-12T10:52:44.193Z"
   },
   {
    "duration": 8,
    "start_time": "2022-04-12T10:52:44.206Z"
   },
   {
    "duration": 8,
    "start_time": "2022-04-12T10:52:44.216Z"
   },
   {
    "duration": 75,
    "start_time": "2022-04-12T10:52:44.225Z"
   },
   {
    "duration": 7,
    "start_time": "2022-04-12T10:52:44.302Z"
   },
   {
    "duration": 9,
    "start_time": "2022-04-12T10:52:44.311Z"
   },
   {
    "duration": 6,
    "start_time": "2022-04-12T10:52:44.322Z"
   },
   {
    "duration": 6,
    "start_time": "2022-04-12T11:10:45.348Z"
   },
   {
    "duration": 6,
    "start_time": "2022-04-12T11:10:53.221Z"
   },
   {
    "duration": 4,
    "start_time": "2022-04-12T11:14:30.657Z"
   },
   {
    "duration": 101,
    "start_time": "2022-04-12T11:14:33.476Z"
   },
   {
    "duration": 48,
    "start_time": "2022-04-12T11:14:48.052Z"
   },
   {
    "duration": 10,
    "start_time": "2022-04-12T11:14:48.378Z"
   },
   {
    "duration": 127,
    "start_time": "2022-04-12T11:14:53.099Z"
   },
   {
    "duration": 5,
    "start_time": "2022-04-12T11:14:58.603Z"
   },
   {
    "duration": 6,
    "start_time": "2022-04-12T11:15:19.891Z"
   },
   {
    "duration": 31,
    "start_time": "2022-04-12T11:18:14.691Z"
   },
   {
    "duration": 6,
    "start_time": "2022-04-12T11:18:15.202Z"
   },
   {
    "duration": 6,
    "start_time": "2022-04-12T11:18:17.594Z"
   },
   {
    "duration": 8,
    "start_time": "2022-04-12T11:18:32.603Z"
   },
   {
    "duration": 4,
    "start_time": "2022-04-12T11:20:20.758Z"
   },
   {
    "duration": 1890,
    "start_time": "2022-04-12T12:20:09.544Z"
   },
   {
    "duration": 266,
    "start_time": "2022-04-12T12:20:11.437Z"
   },
   {
    "duration": 41,
    "start_time": "2022-04-12T12:20:11.709Z"
   },
   {
    "duration": 11,
    "start_time": "2022-04-12T12:20:11.752Z"
   },
   {
    "duration": 15,
    "start_time": "2022-04-12T12:20:11.765Z"
   },
   {
    "duration": 124,
    "start_time": "2022-04-12T12:20:11.782Z"
   },
   {
    "duration": 233,
    "start_time": "2022-04-12T12:20:11.908Z"
   },
   {
    "duration": 20,
    "start_time": "2022-04-12T12:20:12.143Z"
   },
   {
    "duration": 144,
    "start_time": "2022-04-12T12:20:12.167Z"
   },
   {
    "duration": 37,
    "start_time": "2022-04-12T12:20:12.314Z"
   },
   {
    "duration": 10,
    "start_time": "2022-04-12T12:20:12.354Z"
   },
   {
    "duration": 67,
    "start_time": "2022-04-12T12:20:12.367Z"
   },
   {
    "duration": 904,
    "start_time": "2022-04-12T12:20:12.436Z"
   },
   {
    "duration": 2131,
    "start_time": "2022-04-12T12:20:13.342Z"
   },
   {
    "duration": 2120,
    "start_time": "2022-04-12T12:20:15.476Z"
   },
   {
    "duration": 35,
    "start_time": "2022-04-12T12:20:17.599Z"
   },
   {
    "duration": 24,
    "start_time": "2022-04-12T12:20:17.636Z"
   },
   {
    "duration": 12,
    "start_time": "2022-04-12T12:20:17.662Z"
   },
   {
    "duration": 22,
    "start_time": "2022-04-12T12:20:17.677Z"
   },
   {
    "duration": 38,
    "start_time": "2022-04-12T12:20:17.724Z"
   },
   {
    "duration": 105,
    "start_time": "2022-04-12T12:20:17.764Z"
   },
   {
    "duration": 12,
    "start_time": "2022-04-12T12:20:17.871Z"
   },
   {
    "duration": 212,
    "start_time": "2022-04-12T12:20:17.885Z"
   },
   {
    "duration": 67,
    "start_time": "2022-04-12T12:20:18.099Z"
   },
   {
    "duration": 193,
    "start_time": "2022-04-12T12:20:18.168Z"
   },
   {
    "duration": 98,
    "start_time": "2022-04-12T12:20:18.364Z"
   },
   {
    "duration": 10,
    "start_time": "2022-04-12T12:20:18.467Z"
   },
   {
    "duration": 44,
    "start_time": "2022-04-12T12:20:18.480Z"
   },
   {
    "duration": 29,
    "start_time": "2022-04-12T12:20:18.527Z"
   },
   {
    "duration": 27,
    "start_time": "2022-04-12T12:20:18.558Z"
   },
   {
    "duration": 32,
    "start_time": "2022-04-12T12:20:18.587Z"
   },
   {
    "duration": 60,
    "start_time": "2022-04-12T12:20:18.622Z"
   },
   {
    "duration": 42,
    "start_time": "2022-04-12T12:20:18.684Z"
   },
   {
    "duration": 57,
    "start_time": "2022-04-12T12:20:18.728Z"
   },
   {
    "duration": 40,
    "start_time": "2022-04-12T12:20:18.788Z"
   },
   {
    "duration": 35,
    "start_time": "2022-04-12T12:20:18.830Z"
   },
   {
    "duration": 25,
    "start_time": "2022-04-12T12:20:18.868Z"
   },
   {
    "duration": 31,
    "start_time": "2022-04-12T12:20:18.896Z"
   },
   {
    "duration": 33,
    "start_time": "2022-04-12T12:20:18.929Z"
   },
   {
    "duration": 49,
    "start_time": "2022-04-12T12:20:18.964Z"
   },
   {
    "duration": 63,
    "start_time": "2022-04-12T12:20:19.015Z"
   },
   {
    "duration": 72,
    "start_time": "2022-04-12T12:20:19.080Z"
   },
   {
    "duration": 9,
    "start_time": "2022-04-12T12:20:19.155Z"
   },
   {
    "duration": 42,
    "start_time": "2022-04-12T12:20:19.166Z"
   }
  ],
  "hide_input": false,
  "kernelspec": {
   "display_name": "Python 3 (ipykernel)",
   "language": "python",
   "name": "python3"
  },
  "language_info": {
   "codemirror_mode": {
    "name": "ipython",
    "version": 3
   },
   "file_extension": ".py",
   "mimetype": "text/x-python",
   "name": "python",
   "nbconvert_exporter": "python",
   "pygments_lexer": "ipython3",
   "version": "3.9.7"
  },
  "toc": {
   "base_numbering": 1,
   "nav_menu": {},
   "number_sections": true,
   "sideBar": true,
   "skip_h1_title": true,
   "title_cell": "Содержание",
   "title_sidebar": "Содержание",
   "toc_cell": true,
   "toc_position": {},
   "toc_section_display": true,
   "toc_window_display": false
  }
 },
 "nbformat": 4,
 "nbformat_minor": 5
}
